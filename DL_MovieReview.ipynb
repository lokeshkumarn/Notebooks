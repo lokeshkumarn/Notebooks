{
  "nbformat": 4,
  "nbformat_minor": 0,
  "metadata": {
    "colab": {
      "name": "DL-MovieReview.ipynb",
      "provenance": [],
      "collapsed_sections": [],
      "authorship_tag": "ABX9TyOjKZTNx564dzl/QOceDVes",
      "include_colab_link": true
    },
    "kernelspec": {
      "name": "python3",
      "display_name": "Python 3"
    },
    "accelerator": "GPU"
  },
  "cells": [
    {
      "cell_type": "markdown",
      "metadata": {
        "id": "view-in-github",
        "colab_type": "text"
      },
      "source": [
        "<a href=\"https://colab.research.google.com/github/lokeshkumarn/Notebooks/blob/master/DL_MovieReview.ipynb\" target=\"_parent\"><img src=\"https://colab.research.google.com/assets/colab-badge.svg\" alt=\"Open In Colab\"/></a>"
      ]
    },
    {
      "cell_type": "markdown",
      "metadata": {
        "id": "2RPUuaO4wtQw"
      },
      "source": [
        "## Import Libraries/Dataset"
      ]
    },
    {
      "cell_type": "markdown",
      "metadata": {
        "id": "znWlj4p5ucwP"
      },
      "source": [
        "### Import Libraries"
      ]
    },
    {
      "cell_type": "code",
      "metadata": {
        "id": "Q-PDehKhrcQg"
      },
      "source": [
        "import time\n",
        "import tensorflow as tf\n",
        "from tensorflow.python.client import device_lib\n",
        "from google.colab import drive\n",
        "\n",
        "import pandas as pd\n",
        "import numpy as np\n",
        "import random as rd\n",
        "\n",
        "from tensorflow import keras\n",
        "\n",
        "import tensorflow_hub as hub\n",
        "import tensorflow_datasets as tfds\n",
        "\n",
        "from sklearn.model_selection import train_test_split\n",
        "from sklearn.metrics import confusion_matrix,classification_report\n",
        "\n",
        "from matplotlib import pyplot as plt"
      ],
      "execution_count": null,
      "outputs": []
    },
    {
      "cell_type": "code",
      "metadata": {
        "id": "jepvGJP40Jsm"
      },
      "source": [
        "rd.seed(2020)         # Initialize the random number generator.\n",
        "np.random.seed(2020)      # With the seed reset, the same set of numbers will appear every time. \n",
        "tf.random.set_seed(2020)  # sets the graph-level random seed"
      ],
      "execution_count": null,
      "outputs": []
    },
    {
      "cell_type": "markdown",
      "metadata": {
        "id": "sxWChrxfumVf"
      },
      "source": [
        "### Import Dataset"
      ]
    },
    {
      "cell_type": "markdown",
      "metadata": {
        "id": "Xs5teUjn2bmb"
      },
      "source": [
        "Load dataset from Google Drive"
      ]
    },
    {
      "cell_type": "code",
      "metadata": {
        "id": "yXDPNBPK2evf",
        "outputId": "286b3c2c-5d0d-4d1c-e4d0-381c44398e57",
        "colab": {
          "base_uri": "https://localhost:8080/",
          "height": 35
        }
      },
      "source": [
        "drive.mount('/content/gdrive')"
      ],
      "execution_count": null,
      "outputs": [
        {
          "output_type": "stream",
          "text": [
            "Mounted at /content/gdrive\n"
          ],
          "name": "stdout"
        }
      ]
    },
    {
      "cell_type": "code",
      "metadata": {
        "id": "tps01oDj2ftY"
      },
      "source": [
        "df = pd.read_csv('/content/gdrive/My Drive/Colab Notebooks/Dataset/IMDB Dataset.csv')"
      ],
      "execution_count": null,
      "outputs": []
    },
    {
      "cell_type": "code",
      "metadata": {
        "id": "fmtVHoKQ2ypl",
        "outputId": "49b857f4-b19b-4a31-8305-63f2272bf82d",
        "colab": {
          "base_uri": "https://localhost:8080/",
          "height": 112
        }
      },
      "source": [
        "df.head(2)"
      ],
      "execution_count": null,
      "outputs": [
        {
          "output_type": "execute_result",
          "data": {
            "text/html": [
              "<div>\n",
              "<style scoped>\n",
              "    .dataframe tbody tr th:only-of-type {\n",
              "        vertical-align: middle;\n",
              "    }\n",
              "\n",
              "    .dataframe tbody tr th {\n",
              "        vertical-align: top;\n",
              "    }\n",
              "\n",
              "    .dataframe thead th {\n",
              "        text-align: right;\n",
              "    }\n",
              "</style>\n",
              "<table border=\"1\" class=\"dataframe\">\n",
              "  <thead>\n",
              "    <tr style=\"text-align: right;\">\n",
              "      <th></th>\n",
              "      <th>review</th>\n",
              "      <th>sentiment</th>\n",
              "    </tr>\n",
              "  </thead>\n",
              "  <tbody>\n",
              "    <tr>\n",
              "      <th>0</th>\n",
              "      <td>One of the other reviewers has mentioned that ...</td>\n",
              "      <td>positive</td>\n",
              "    </tr>\n",
              "    <tr>\n",
              "      <th>1</th>\n",
              "      <td>A wonderful little production. &lt;br /&gt;&lt;br /&gt;The...</td>\n",
              "      <td>positive</td>\n",
              "    </tr>\n",
              "  </tbody>\n",
              "</table>\n",
              "</div>"
            ],
            "text/plain": [
              "                                              review sentiment\n",
              "0  One of the other reviewers has mentioned that ...  positive\n",
              "1  A wonderful little production. <br /><br />The...  positive"
            ]
          },
          "metadata": {
            "tags": []
          },
          "execution_count": 10
        }
      ]
    },
    {
      "cell_type": "code",
      "metadata": {
        "id": "H8ibE97Q22V3",
        "outputId": "6dfa96fb-34da-4162-d0ea-77f7eca96cfc",
        "colab": {
          "base_uri": "https://localhost:8080/",
          "height": 35
        }
      },
      "source": [
        "df.shape"
      ],
      "execution_count": null,
      "outputs": [
        {
          "output_type": "execute_result",
          "data": {
            "text/plain": [
              "(50000, 2)"
            ]
          },
          "metadata": {
            "tags": []
          },
          "execution_count": 11
        }
      ]
    },
    {
      "cell_type": "markdown",
      "metadata": {
        "id": "jKDM0pgWvG1Y"
      },
      "source": [
        "### Check GPU"
      ]
    },
    {
      "cell_type": "code",
      "metadata": {
        "id": "Ow9Gj9dXtvBA",
        "outputId": "06736ac4-ab79-4e64-e2e4-0834f6349dd1",
        "colab": {
          "base_uri": "https://localhost:8080/",
          "height": 35
        }
      },
      "source": [
        "def get_available_gpus():\n",
        "    local_device_protos = device_lib.list_local_devices()\n",
        "    return [x.name for x in local_device_protos if x.device_type == 'GPU' ]\n",
        "\n",
        "gpu_lst = get_available_gpus()\n",
        "\n",
        "if(len(gpu_lst) > 0):\n",
        "  print(\"GPU Enabled\")"
      ],
      "execution_count": null,
      "outputs": [
        {
          "output_type": "stream",
          "text": [
            "GPU Enabled\n"
          ],
          "name": "stdout"
        }
      ]
    },
    {
      "cell_type": "markdown",
      "metadata": {
        "id": "4qtu-rmbw1Mz"
      },
      "source": [
        "## Data Visualization"
      ]
    },
    {
      "cell_type": "markdown",
      "metadata": {
        "id": "SNT-w_9ANnwj"
      },
      "source": [
        "### Print Reviews"
      ]
    },
    {
      "cell_type": "markdown",
      "metadata": {
        "id": "467gA9LXJU4W"
      },
      "source": [
        "Print at least two movie reviews from each class of the dataset, for a sanity check that labels match the text"
      ]
    },
    {
      "cell_type": "code",
      "metadata": {
        "id": "DnQ_okd44HrF",
        "outputId": "569b7c8f-3ece-475a-f612-4e61e399ca33",
        "colab": {
          "base_uri": "https://localhost:8080/",
          "height": 437
        }
      },
      "source": [
        "print(\"Positive Reviews\")\n",
        "print(\"*\"*30)\n",
        "for i,r in df[df['sentiment'] =='positive'].reset_index()[:3].iterrows():\n",
        "  print(i + 1,\")\",r['review'])\n",
        "  print(\"\\n\")\n",
        "\n",
        "print(\"Negative Reviews\")\n",
        "print(\"*\"*30)\n",
        "for i,r in df[df['sentiment'] =='negative'].reset_index()[:3].iterrows():\n",
        "  print(i + 1,\")\",r['review'])\n",
        "  print(\"\\n\")"
      ],
      "execution_count": null,
      "outputs": [
        {
          "output_type": "stream",
          "text": [
            "Positive Reviews\n",
            "******************************\n",
            "1 ) One of the other reviewers has mentioned that after watching just 1 Oz episode you'll be hooked. They are right, as this is exactly what happened with me.<br /><br />The first thing that struck me about Oz was its brutality and unflinching scenes of violence, which set in right from the word GO. Trust me, this is not a show for the faint hearted or timid. This show pulls no punches with regards to drugs, sex or violence. Its is hardcore, in the classic use of the word.<br /><br />It is called OZ as that is the nickname given to the Oswald Maximum Security State Penitentary. It focuses mainly on Emerald City, an experimental section of the prison where all the cells have glass fronts and face inwards, so privacy is not high on the agenda. Em City is home to many..Aryans, Muslims, gangstas, Latinos, Christians, Italians, Irish and more....so scuffles, death stares, dodgy dealings and shady agreements are never far away.<br /><br />I would say the main appeal of the show is due to the fact that it goes where other shows wouldn't dare. Forget pretty pictures painted for mainstream audiences, forget charm, forget romance...OZ doesn't mess around. The first episode I ever saw struck me as so nasty it was surreal, I couldn't say I was ready for it, but as I watched more, I developed a taste for Oz, and got accustomed to the high levels of graphic violence. Not just violence, but injustice (crooked guards who'll be sold out for a nickel, inmates who'll kill on order and get away with it, well mannered, middle class inmates being turned into prison bitches due to their lack of street skills or prison experience) Watching Oz, you may become comfortable with what is uncomfortable viewing....thats if you can get in touch with your darker side.\n",
            "\n",
            "\n",
            "2 ) A wonderful little production. <br /><br />The filming technique is very unassuming- very old-time-BBC fashion and gives a comforting, and sometimes discomforting, sense of realism to the entire piece. <br /><br />The actors are extremely well chosen- Michael Sheen not only \"has got all the polari\" but he has all the voices down pat too! You can truly see the seamless editing guided by the references to Williams' diary entries, not only is it well worth the watching but it is a terrificly written and performed piece. A masterful production about one of the great master's of comedy and his life. <br /><br />The realism really comes home with the little things: the fantasy of the guard which, rather than use the traditional 'dream' techniques remains solid then disappears. It plays on our knowledge and our senses, particularly with the scenes concerning Orton and Halliwell and the sets (particularly of their flat with Halliwell's murals decorating every surface) are terribly well done.\n",
            "\n",
            "\n",
            "3 ) I thought this was a wonderful way to spend time on a too hot summer weekend, sitting in the air conditioned theater and watching a light-hearted comedy. The plot is simplistic, but the dialogue is witty and the characters are likable (even the well bread suspected serial killer). While some may be disappointed when they realize this is not Match Point 2: Risk Addiction, I thought it was proof that Woody Allen is still fully in control of the style many of us have grown to love.<br /><br />This was the most I'd laughed at one of Woody's comedies in years (dare I say a decade?). While I've never been impressed with Scarlet Johanson, in this she managed to tone down her \"sexy\" image and jumped right into a average, but spirited young woman.<br /><br />This may not be the crown jewel of his career, but it was wittier than \"Devil Wears Prada\" and more interesting than \"Superman\" a great comedy to go see with friends.\n",
            "\n",
            "\n",
            "Negative Reviews\n",
            "******************************\n",
            "1 ) Basically there's a family where a little boy (Jake) thinks there's a zombie in his closet & his parents are fighting all the time.<br /><br />This movie is slower than a soap opera... and suddenly, Jake decides to become Rambo and kill the zombie.<br /><br />OK, first of all when you're going to make a film you must Decide if its a thriller or a drama! As a drama the movie is watchable. Parents are divorcing & arguing like in real life. And then we have Jake with his closet which totally ruins all the film! I expected to see a BOOGEYMAN similar movie, and instead i watched a drama with some meaningless thriller spots.<br /><br />3 out of 10 just for the well playing parents & descent dialogs. As for the shots with Jake: just ignore them.\n",
            "\n",
            "\n",
            "2 ) This show was an amazing, fresh & innovative idea in the 70's when it first aired. The first 7 or 8 years were brilliant, but things dropped off after that. By 1990, the show was not really funny anymore, and it's continued its decline further to the complete waste of time it is today.<br /><br />It's truly disgraceful how far this show has fallen. The writing is painfully bad, the performances are almost as bad - if not for the mildly entertaining respite of the guest-hosts, this show probably wouldn't still be on the air. I find it so hard to believe that the same creator that hand-selected the original cast also chose the band of hacks that followed. How can one recognize such brilliance and then see fit to replace it with such mediocrity? I felt I must give 2 stars out of respect for the original cast that made this show such a huge success. As it is now, the show is just awful. I can't believe it's still on the air.\n",
            "\n",
            "\n",
            "3 ) Encouraged by the positive comments about this film on here I was looking forward to watching this film. Bad mistake. I've seen 950+ films and this is truly one of the worst of them - it's awful in almost every way: editing, pacing, storyline, 'acting,' soundtrack (the film's only song - a lame country tune - is played no less than four times). The film looks cheap and nasty and is boring in the extreme. Rarely have I been so happy to see the end credits of a film. <br /><br />The only thing that prevents me giving this a 1-score is Harvey Keitel - while this is far from his best performance he at least seems to be making a bit of an effort. One for Keitel obsessives only.\n",
            "\n",
            "\n"
          ],
          "name": "stdout"
        }
      ]
    },
    {
      "cell_type": "markdown",
      "metadata": {
        "id": "zs_9PIlHNtp6"
      },
      "source": [
        "### Plot Class Distribution"
      ]
    },
    {
      "cell_type": "markdown",
      "metadata": {
        "id": "DYYLAI_-L-Ld"
      },
      "source": [
        "Plot a bar graph of class distribution in dataset. Each bar depicts the number of tweets belonging to a particular sentiment."
      ]
    },
    {
      "cell_type": "code",
      "metadata": {
        "id": "Nr7boPTB5jDL",
        "outputId": "2d46db0b-be3e-4a52-dcc0-bc3c86c90c89",
        "colab": {
          "base_uri": "https://localhost:8080/",
          "height": 313
        }
      },
      "source": [
        "ax = plt.subplot()\n",
        "df['sentiment'].value_counts().plot(kind='barh',ax=ax)\n",
        "ax.set_title(\"Distribution of the Sentiment in IMDB reviews\")\n",
        "ax.set_xlabel(\"Count\")\n",
        "ax.set_ylabel(\"Sentiment\")"
      ],
      "execution_count": null,
      "outputs": [
        {
          "output_type": "execute_result",
          "data": {
            "text/plain": [
              "Text(0, 0.5, 'Sentiment')"
            ]
          },
          "metadata": {
            "tags": []
          },
          "execution_count": 40
        },
        {
          "output_type": "display_data",
          "data": {
            "image/png": "[encoded data removed]",
            "text/plain": [
              "<Figure size 432x288 with 1 Axes>"
            ]
          },
          "metadata": {
            "tags": [],
            "needs_background": "light"
          }
        }
      ]
    },
    {
      "cell_type": "markdown",
      "metadata": {
        "id": "iowvMxjbhn9w"
      },
      "source": [
        "### Print the shapes of train and test data"
      ]
    },
    {
      "cell_type": "code",
      "metadata": {
        "id": "O4SHG8fY7ccL"
      },
      "source": [
        "df['class'] = df['sentiment'].apply(lambda x:  1 if x=='positive' else 0)"
      ],
      "execution_count": null,
      "outputs": []
    },
    {
      "cell_type": "code",
      "metadata": {
        "id": "hFVa_UoF8zQi",
        "outputId": "6d12a0b8-714d-4d99-86fc-6d432153b014",
        "colab": {
          "base_uri": "https://localhost:8080/",
          "height": 53
        }
      },
      "source": [
        "X = df['review'].values\n",
        "y = df['class'].values\n",
        "print(X.shape)\n",
        "print(y.shape)"
      ],
      "execution_count": null,
      "outputs": [
        {
          "output_type": "stream",
          "text": [
            "(50000,)\n",
            "(50000,)\n"
          ],
          "name": "stdout"
        }
      ]
    },
    {
      "cell_type": "code",
      "metadata": {
        "id": "PwW1kHCK7HA9"
      },
      "source": [
        "X_train,X_test,y_train,y_test = train_test_split(X,y,\n",
        "                                                 test_size=0.3,\n",
        "                                                 shuffle=True,\n",
        "                                                 stratify=y,\n",
        "                                                 random_state=2020)"
      ],
      "execution_count": null,
      "outputs": []
    },
    {
      "cell_type": "code",
      "metadata": {
        "id": "-pgw1cqFxnYM",
        "outputId": "19865b54-c27f-4c6d-8734-e14a37847090",
        "colab": {
          "base_uri": "https://localhost:8080/",
          "height": 90
        }
      },
      "source": [
        "print('Train Features shape:',X_train.shape)\n",
        "print('Test Features shape:',X_test.shape)\n",
        "print('Train label shape:',y_train.shape)\n",
        "print('Test label shape:',y_test.shape)"
      ],
      "execution_count": null,
      "outputs": [
        {
          "output_type": "stream",
          "text": [
            "Train Features shape: (35000,)\n",
            "Test Features shape: (15000,)\n",
            "Train label shape: (35000,)\n",
            "Test label shape: (15000,)\n"
          ],
          "name": "stdout"
        }
      ]
    },
    {
      "cell_type": "code",
      "metadata": {
        "id": "xoNC64FA-Fux",
        "outputId": "7a023101-81e4-485e-a93e-e7a81de23005",
        "colab": {
          "base_uri": "https://localhost:8080/",
          "height": 368
        }
      },
      "source": [
        "#Verify whether stratification worked\n",
        "fig,ax = plt.subplots(1,2,figsize=(15,5))\n",
        "pd.Series(y_train).value_counts().plot(kind='barh',ax=ax[0])\n",
        "pd.Series(y_test).value_counts().plot(kind='barh',ax=ax[1])\n",
        "ax[0].set_title(\"Distribution of the Sentiment in Train\")\n",
        "ax[0].set_xlabel(\"Count\")\n",
        "ax[0].set_ylabel(\"Sentiment\")\n",
        "ax[1].set_title(\"Distribution of the Sentiment in Test\")\n",
        "ax[1].set_xlabel(\"Count\")\n",
        "ax[1].set_ylabel(\"Sentiment\")"
      ],
      "execution_count": null,
      "outputs": [
        {
          "output_type": "execute_result",
          "data": {
            "text/plain": [
              "Text(0, 0.5, 'Sentiment')"
            ]
          },
          "metadata": {
            "tags": []
          },
          "execution_count": 71
        },
        {
          "output_type": "display_data",
          "data": {
            "image/png": "[encoded data removed]",
            "text/plain": [
              "<Figure size 1080x360 with 2 Axes>"
            ]
          },
          "metadata": {
            "tags": [],
            "needs_background": "light"
          }
        }
      ]
    },
    {
      "cell_type": "markdown",
      "metadata": {
        "id": "tsa0onWR9Zz0"
      },
      "source": [
        "## Data Pre-processing"
      ]
    },
    {
      "cell_type": "markdown",
      "metadata": {
        "id": "RIXUGbLQC_sK"
      },
      "source": [
        "Need for this Step - Since the models we use cannot accept string inputs or cannot be of the string format. We have to come up with a way of handling this step."
      ]
    },
    {
      "cell_type": "markdown",
      "metadata": {
        "id": "pCy1RDPaDH6-"
      },
      "source": [
        "Using the Pretrained embedding layer to convert the sentence to vector"
      ]
    },
    {
      "cell_type": "code",
      "metadata": {
        "id": "JN7TYKh6E6Vh"
      },
      "source": [
        "hub_layer = hub.KerasLayer(\"https://tfhub.dev/google/nnlm-en-dim128/1\",output_shape=128,\n",
        "                           input_shape=[], dtype=tf.string)"
      ],
      "execution_count": null,
      "outputs": []
    },
    {
      "cell_type": "markdown",
      "metadata": {
        "id": "dJZcForeH69P"
      },
      "source": [
        "## Modeling"
      ]
    },
    {
      "cell_type": "markdown",
      "metadata": {
        "id": "6IGxAutlE7SI"
      },
      "source": [
        "### Model Building"
      ]
    },
    {
      "cell_type": "markdown",
      "metadata": {
        "id": "EjTVigauHWfh"
      },
      "source": [
        "Sequential Model layers"
      ]
    },
    {
      "cell_type": "code",
      "metadata": {
        "id": "ck9MYQsrHOOU"
      },
      "source": [
        "model = keras.Sequential()"
      ],
      "execution_count": null,
      "outputs": []
    },
    {
      "cell_type": "markdown",
      "metadata": {
        "id": "M_2YQZ8aHZL4"
      },
      "source": [
        "1.   Add L2 regularization to all the layers.\n",
        "2.   Add one layer of dropout at the appropriate position and give reasons.\n",
        "3.   Choose the appropriate activation function for all the layers."
      ]
    },
    {
      "cell_type": "markdown",
      "metadata": {
        "id": "k9CFFVJLCNfI"
      },
      "source": [
        "**Hidden Unit selection** are hyperparameters <br/>\n",
        "For each parameter, decide a range and steps into that range, like 8 to 64 neurons, in powers of two (8, 16, 32, 64), and try each combination of the parameters. "
      ]
    },
    {
      "cell_type": "markdown",
      "metadata": {
        "id": "Ou0v2LPYDROO"
      },
      "source": [
        "So I decided to reduce the number of parameters to learn as layers proceed, gave 64 and then **50% dropout** to further reduce the parameter to learn and also avoid overfitting, later 16 units to futher reduce the complexity of learning"
      ]
    },
    {
      "cell_type": "code",
      "metadata": {
        "id": "JD290TmlHMAC"
      },
      "source": [
        "hub_layer = hub.KerasLayer(\"https://tfhub.dev/google/nnlm-en-dim128/1\",output_shape=128,\n",
        "                           input_shape=[], dtype=tf.string)\n",
        "\n",
        "model = keras.Sequential()\n",
        "\n",
        "model.add(hub_layer)\n",
        "\n",
        "model.add(keras.layers.Dense(64, activation='relu',kernel_regularizer=keras.regularizers.l2(0.01),\n",
        "                activity_regularizer=keras.regularizers.l2(0.01)) )\n",
        "\n",
        "model.add(keras.layers.Dense(64, activation='relu',kernel_regularizer=keras.regularizers.l2(0.01),\n",
        "                activity_regularizer=keras.regularizers.l2(0.01)))\n",
        "\n",
        "model.add(keras.layers.Dropout(0.5))\n",
        "\n",
        "model.add(keras.layers.Dense(16, activation='relu',kernel_regularizer=keras.regularizers.l2(0.01),\n",
        "                activity_regularizer=keras.regularizers.l2(0.01)))\n",
        "\n",
        "model.add(keras.layers.Dense(1, activation='sigmoid'))"
      ],
      "execution_count": null,
      "outputs": []
    },
    {
      "cell_type": "markdown",
      "metadata": {
        "id": "vLnT3omTHRQz"
      },
      "source": [
        "Print the model summary"
      ]
    },
    {
      "cell_type": "code",
      "metadata": {
        "id": "RpDg4HzGBLbG",
        "outputId": "5a4b6753-0183-44c9-a45b-b0e35fe4c595",
        "colab": {
          "base_uri": "https://localhost:8080/",
          "height": 381
        }
      },
      "source": [
        "model.summary()"
      ],
      "execution_count": null,
      "outputs": [
        {
          "output_type": "stream",
          "text": [
            "Model: \"sequential_6\"\n",
            "_________________________________________________________________\n",
            "Layer (type)                 Output Shape              Param #   \n",
            "=================================================================\n",
            "keras_layer_6 (KerasLayer)   (None, 128)               249285376 \n",
            "_________________________________________________________________\n",
            "dense_24 (Dense)             (None, 64)                8256      \n",
            "_________________________________________________________________\n",
            "dense_25 (Dense)             (None, 64)                4160      \n",
            "_________________________________________________________________\n",
            "dropout_6 (Dropout)          (None, 64)                0         \n",
            "_________________________________________________________________\n",
            "dense_26 (Dense)             (None, 16)                1040      \n",
            "_________________________________________________________________\n",
            "dense_27 (Dense)             (None, 1)                 17        \n",
            "=================================================================\n",
            "Total params: 249,298,849\n",
            "Trainable params: 13,473\n",
            "Non-trainable params: 249,285,376\n",
            "_________________________________________________________________\n"
          ],
          "name": "stdout"
        }
      ]
    },
    {
      "cell_type": "markdown",
      "metadata": {
        "id": "oYrP0fSCHuVC"
      },
      "source": [
        "### Model Compilation"
      ]
    },
    {
      "cell_type": "markdown",
      "metadata": {
        "id": "36kwbeBcEPdV"
      },
      "source": [
        "**Loss** : Binary Cross Entropy (because it's a binary classification problem <br/>\n",
        "**Optimizer**: Adam  is an extension of the stochastic gradient descent and seen extensivelty used in Natural language processing. it has adaptive learning rate.\n",
        "***Didn't choose a higher learning rate because wanted the network learn appropriately based on the distribution change in data***"
      ]
    },
    {
      "cell_type": "code",
      "metadata": {
        "id": "v6SQsMfMBO3l"
      },
      "source": [
        "model.compile(optimizer=tf.keras.optimizers.Adam(learning_rate=0.01,name='Adam'),#Use an appropriate optimizer\n",
        "              loss='binary_crossentropy',#appropriate loss function\n",
        "              metrics=['accuracy'])#Use accuracy as metric"
      ],
      "execution_count": null,
      "outputs": []
    },
    {
      "cell_type": "markdown",
      "metadata": {
        "id": "Ku_o9m2AIDYm"
      },
      "source": [
        "### Model Training "
      ]
    },
    {
      "cell_type": "markdown",
      "metadata": {
        "id": "kvAGUr2vINU_"
      },
      "source": [
        "Train the model for an appropriate number of epochs (print the train and validation accuracy/loss for each epoch). Use the appropriate batch size"
      ]
    },
    {
      "cell_type": "code",
      "metadata": {
        "id": "OdJtX3PKBfgK",
        "outputId": "a0124a55-2420-4c01-d8ed-86a67bd873df",
        "colab": {
          "base_uri": "https://localhost:8080/",
          "height": 1000
        }
      },
      "source": [
        "start_train = time.time()\n",
        "history = model.fit(X_train,\n",
        "                    y_train,\n",
        "                    epochs=50,\n",
        "                    batch_size=1000,\n",
        "                    validation_split=0.2,\n",
        "                    verbose=1)\n",
        "end_train = time.time()"
      ],
      "execution_count": null,
      "outputs": [
        {
          "output_type": "stream",
          "text": [
            "Epoch 1/50\n",
            "28/28 [==============================] - 2s 58ms/step - loss: 1.0547 - accuracy: 0.6760 - val_loss: 0.6417 - val_accuracy: 0.7554\n",
            "Epoch 2/50\n",
            "28/28 [==============================] - 1s 52ms/step - loss: 0.5961 - accuracy: 0.7719 - val_loss: 0.5533 - val_accuracy: 0.7853\n",
            "Epoch 3/50\n",
            "28/28 [==============================] - 1s 53ms/step - loss: 0.5561 - accuracy: 0.7805 - val_loss: 0.5438 - val_accuracy: 0.7789\n",
            "Epoch 4/50\n",
            "28/28 [==============================] - 1s 52ms/step - loss: 0.5451 - accuracy: 0.7801 - val_loss: 0.5351 - val_accuracy: 0.7873\n",
            "Epoch 5/50\n",
            "28/28 [==============================] - 2s 54ms/step - loss: 0.5413 - accuracy: 0.7816 - val_loss: 0.5327 - val_accuracy: 0.7789\n",
            "Epoch 6/50\n",
            "28/28 [==============================] - 1s 53ms/step - loss: 0.5355 - accuracy: 0.7819 - val_loss: 0.5305 - val_accuracy: 0.7777\n",
            "Epoch 7/50\n",
            "28/28 [==============================] - 1s 52ms/step - loss: 0.5470 - accuracy: 0.7730 - val_loss: 0.5277 - val_accuracy: 0.7850\n",
            "Epoch 8/50\n",
            "28/28 [==============================] - 1s 52ms/step - loss: 0.5343 - accuracy: 0.7797 - val_loss: 0.5118 - val_accuracy: 0.7903\n",
            "Epoch 9/50\n",
            "28/28 [==============================] - 1s 53ms/step - loss: 0.5257 - accuracy: 0.7861 - val_loss: 0.5136 - val_accuracy: 0.7880\n",
            "Epoch 10/50\n",
            "28/28 [==============================] - 1s 53ms/step - loss: 0.5305 - accuracy: 0.7826 - val_loss: 0.5232 - val_accuracy: 0.7811\n",
            "Epoch 11/50\n",
            "28/28 [==============================] - 1s 53ms/step - loss: 0.5277 - accuracy: 0.7815 - val_loss: 0.5105 - val_accuracy: 0.7887\n",
            "Epoch 12/50\n",
            "28/28 [==============================] - 1s 53ms/step - loss: 0.5225 - accuracy: 0.7849 - val_loss: 0.5102 - val_accuracy: 0.7859\n",
            "Epoch 13/50\n",
            "28/28 [==============================] - 1s 53ms/step - loss: 0.5193 - accuracy: 0.7871 - val_loss: 0.5121 - val_accuracy: 0.7791\n",
            "Epoch 14/50\n",
            "28/28 [==============================] - 1s 52ms/step - loss: 0.5214 - accuracy: 0.7832 - val_loss: 0.5049 - val_accuracy: 0.7871\n",
            "Epoch 15/50\n",
            "28/28 [==============================] - 2s 54ms/step - loss: 0.5179 - accuracy: 0.7855 - val_loss: 0.5177 - val_accuracy: 0.7799\n",
            "Epoch 16/50\n",
            "28/28 [==============================] - 1s 52ms/step - loss: 0.5220 - accuracy: 0.7830 - val_loss: 0.5033 - val_accuracy: 0.7870\n",
            "Epoch 17/50\n",
            "28/28 [==============================] - 1s 53ms/step - loss: 0.5155 - accuracy: 0.7865 - val_loss: 0.5032 - val_accuracy: 0.7881\n",
            "Epoch 18/50\n",
            "28/28 [==============================] - 1s 53ms/step - loss: 0.5136 - accuracy: 0.7866 - val_loss: 0.5062 - val_accuracy: 0.7851\n",
            "Epoch 19/50\n",
            "28/28 [==============================] - 1s 53ms/step - loss: 0.5183 - accuracy: 0.7847 - val_loss: 0.5039 - val_accuracy: 0.7897\n",
            "Epoch 20/50\n",
            "28/28 [==============================] - 1s 53ms/step - loss: 0.5138 - accuracy: 0.7870 - val_loss: 0.4964 - val_accuracy: 0.7929\n",
            "Epoch 21/50\n",
            "28/28 [==============================] - 1s 52ms/step - loss: 0.5149 - accuracy: 0.7873 - val_loss: 0.5023 - val_accuracy: 0.7879\n",
            "Epoch 22/50\n",
            "28/28 [==============================] - 1s 53ms/step - loss: 0.5165 - accuracy: 0.7831 - val_loss: 0.5025 - val_accuracy: 0.7884\n",
            "Epoch 23/50\n",
            "28/28 [==============================] - 1s 53ms/step - loss: 0.5199 - accuracy: 0.7814 - val_loss: 0.5145 - val_accuracy: 0.7799\n",
            "Epoch 24/50\n",
            "28/28 [==============================] - 2s 54ms/step - loss: 0.5157 - accuracy: 0.7872 - val_loss: 0.4967 - val_accuracy: 0.7909\n",
            "Epoch 25/50\n",
            "28/28 [==============================] - 1s 53ms/step - loss: 0.5171 - accuracy: 0.7834 - val_loss: 0.4992 - val_accuracy: 0.7873\n",
            "Epoch 26/50\n",
            "28/28 [==============================] - 1s 52ms/step - loss: 0.5078 - accuracy: 0.7896 - val_loss: 0.5118 - val_accuracy: 0.7826\n",
            "Epoch 27/50\n",
            "28/28 [==============================] - 1s 53ms/step - loss: 0.5181 - accuracy: 0.7823 - val_loss: 0.4953 - val_accuracy: 0.7916\n",
            "Epoch 28/50\n",
            "28/28 [==============================] - 1s 52ms/step - loss: 0.5117 - accuracy: 0.7843 - val_loss: 0.4967 - val_accuracy: 0.7941\n",
            "Epoch 29/50\n",
            "28/28 [==============================] - 1s 52ms/step - loss: 0.5064 - accuracy: 0.7886 - val_loss: 0.4944 - val_accuracy: 0.7904\n",
            "Epoch 30/50\n",
            "28/28 [==============================] - 1s 53ms/step - loss: 0.5068 - accuracy: 0.7893 - val_loss: 0.4954 - val_accuracy: 0.7900\n",
            "Epoch 31/50\n",
            "28/28 [==============================] - 1s 52ms/step - loss: 0.5089 - accuracy: 0.7865 - val_loss: 0.4948 - val_accuracy: 0.7887\n",
            "Epoch 32/50\n",
            "28/28 [==============================] - 1s 53ms/step - loss: 0.5032 - accuracy: 0.7891 - val_loss: 0.4926 - val_accuracy: 0.7901\n",
            "Epoch 33/50\n",
            "28/28 [==============================] - 1s 53ms/step - loss: 0.5121 - accuracy: 0.7809 - val_loss: 0.5019 - val_accuracy: 0.7820\n",
            "Epoch 34/50\n",
            "28/28 [==============================] - 1s 53ms/step - loss: 0.5061 - accuracy: 0.7877 - val_loss: 0.4920 - val_accuracy: 0.7929\n",
            "Epoch 35/50\n",
            "28/28 [==============================] - 1s 53ms/step - loss: 0.5013 - accuracy: 0.7874 - val_loss: 0.4942 - val_accuracy: 0.7874\n",
            "Epoch 36/50\n",
            "28/28 [==============================] - 1s 53ms/step - loss: 0.5012 - accuracy: 0.7912 - val_loss: 0.4938 - val_accuracy: 0.7900\n",
            "Epoch 37/50\n",
            "28/28 [==============================] - 1s 53ms/step - loss: 0.5054 - accuracy: 0.7880 - val_loss: 0.4921 - val_accuracy: 0.7911\n",
            "Epoch 38/50\n",
            "28/28 [==============================] - 1s 53ms/step - loss: 0.5261 - accuracy: 0.7775 - val_loss: 0.5265 - val_accuracy: 0.7690\n",
            "Epoch 39/50\n",
            "28/28 [==============================] - 1s 53ms/step - loss: 0.5137 - accuracy: 0.7843 - val_loss: 0.5210 - val_accuracy: 0.7767\n",
            "Epoch 40/50\n",
            "28/28 [==============================] - 1s 53ms/step - loss: 0.5036 - accuracy: 0.7887 - val_loss: 0.4904 - val_accuracy: 0.7894\n",
            "Epoch 41/50\n",
            "28/28 [==============================] - 1s 53ms/step - loss: 0.5013 - accuracy: 0.7912 - val_loss: 0.5119 - val_accuracy: 0.7830\n",
            "Epoch 42/50\n",
            "28/28 [==============================] - 1s 52ms/step - loss: 0.5088 - accuracy: 0.7879 - val_loss: 0.4909 - val_accuracy: 0.7927\n",
            "Epoch 43/50\n",
            "28/28 [==============================] - 1s 53ms/step - loss: 0.5045 - accuracy: 0.7878 - val_loss: 0.4917 - val_accuracy: 0.7916\n",
            "Epoch 44/50\n",
            "28/28 [==============================] - 1s 53ms/step - loss: 0.5022 - accuracy: 0.7854 - val_loss: 0.5149 - val_accuracy: 0.7761\n",
            "Epoch 45/50\n",
            "28/28 [==============================] - 2s 54ms/step - loss: 0.5073 - accuracy: 0.7880 - val_loss: 0.4875 - val_accuracy: 0.7927\n",
            "Epoch 46/50\n",
            "28/28 [==============================] - 2s 54ms/step - loss: 0.5002 - accuracy: 0.7906 - val_loss: 0.4941 - val_accuracy: 0.7870\n",
            "Epoch 47/50\n",
            "28/28 [==============================] - 1s 54ms/step - loss: 0.4970 - accuracy: 0.7918 - val_loss: 0.4917 - val_accuracy: 0.7914\n",
            "Epoch 48/50\n",
            "28/28 [==============================] - 1s 53ms/step - loss: 0.5075 - accuracy: 0.7848 - val_loss: 0.4979 - val_accuracy: 0.7876\n",
            "Epoch 49/50\n",
            "28/28 [==============================] - 2s 54ms/step - loss: 0.4994 - accuracy: 0.7903 - val_loss: 0.4909 - val_accuracy: 0.7899\n",
            "Epoch 50/50\n",
            "28/28 [==============================] - 2s 55ms/step - loss: 0.4986 - accuracy: 0.7886 - val_loss: 0.4955 - val_accuracy: 0.7863\n"
          ],
          "name": "stdout"
        }
      ]
    },
    {
      "cell_type": "markdown",
      "metadata": {
        "id": "Y8Vx-IVoISSh"
      },
      "source": [
        "Plot the loss and accuracy history graphs"
      ]
    },
    {
      "cell_type": "code",
      "metadata": {
        "id": "LKj_nkxKBjPd",
        "outputId": "8ccc5a5c-83d7-4f3d-9af0-fac64aa95ddd",
        "colab": {
          "base_uri": "https://localhost:8080/",
          "height": 35
        }
      },
      "source": [
        "history_dict = history.history\n",
        "print(history_dict.keys())\n",
        "\n",
        "acc = history_dict['accuracy']\n",
        "val_acc = history_dict['val_accuracy']\n",
        "loss = history_dict['loss']\n",
        "val_loss = history_dict['val_loss']\n",
        "\n",
        "epochs = range(1, len(acc) + 1)\n",
        "\n",
        "fix,ax = plt.subplots(1,2, figsize=(15,5))\n",
        "ax1 = ax[0] # to plot Training Loss\n",
        "ax2 = ax[1] # to plot Training Accuracy\n",
        "\n",
        "ax1.plot(epochs, loss, 'b', label='Training loss')# \"bo\" is for \"blue dot\"\n",
        "ax1.plot(epochs, val_loss, 'r', label='Validation loss')# b is for \"solid blue line\"\n",
        "ax1.set_title('Training and validation loss')\n",
        "ax1.set_xlabel('Epochs')\n",
        "ax1.set_ylabel('Loss')\n",
        "ax1.legend()\n",
        "\n",
        "ax2.plot(epochs, acc, 'b', label='Training acc')\n",
        "ax2.plot(epochs, val_acc, 'r', label='Validation acc')\n",
        "ax2.set_title('Training and validation accuracy')\n",
        "ax2.set_xlabel('Epochs')\n",
        "ax2.set_ylabel('Accuracy')\n",
        "ax2.legend()\n",
        "\n",
        "plt.show()"
      ],
      "execution_count": null,
      "outputs": [
        {
          "output_type": "stream",
          "text": [
            "dict_keys(['loss', 'accuracy', 'val_loss', 'val_accuracy'])\n"
          ],
          "name": "stdout"
        }
      ]
    },
    {
      "cell_type": "code",
      "metadata": {
        "id": "4gBvMgheHT4l",
        "outputId": "554456cc-5682-49b1-ff2d-7703f251dfad",
        "colab": {
          "base_uri": "https://localhost:8080/",
          "height": 35
        }
      },
      "source": [
        "#Time taken to train\n",
        "print(\"Time taken to train the NN:\",end_train - start_train,\" seconds\")"
      ],
      "execution_count": null,
      "outputs": [
        {
          "output_type": "stream",
          "text": [
            "Time taken to train the NN: 77.25413489341736  seconds\n"
          ],
          "name": "stdout"
        }
      ]
    },
    {
      "cell_type": "markdown",
      "metadata": {
        "id": "G3aSraejcjKc"
      },
      "source": [
        "### Model Evaluation"
      ]
    },
    {
      "cell_type": "markdown",
      "metadata": {
        "id": "2HYmr-whel7t"
      },
      "source": [
        "Print the final test/validation loss and accuracy"
      ]
    },
    {
      "cell_type": "code",
      "metadata": {
        "id": "Ij8-utLRcm4l",
        "outputId": "c38b7a3e-29f5-4c7e-b24d-4464b9289945",
        "colab": {
          "base_uri": "https://localhost:8080/",
          "height": 72
        }
      },
      "source": [
        "results = model.evaluate(X_test, y_test)\n",
        "\n",
        "print(\"Test Loss:\",results[0])\n",
        "print(\"Test Accuracy:\",results[1])"
      ],
      "execution_count": null,
      "outputs": [
        {
          "output_type": "stream",
          "text": [
            "469/469 [==============================] - 2s 5ms/step - loss: 0.4921 - accuracy: 0.7919\n",
            "Test Loss: 0.49208223819732666\n",
            "Test Accuracy: 0.791866660118103\n"
          ],
          "name": "stdout"
        }
      ]
    },
    {
      "cell_type": "code",
      "metadata": {
        "id": "DWHlK7ZXdOm7"
      },
      "source": [
        "#Predictions\n",
        "y_pred = model.predict_classes(X_test)"
      ],
      "execution_count": null,
      "outputs": []
    },
    {
      "cell_type": "markdown",
      "metadata": {
        "id": "z2BlOz_seRb6"
      },
      "source": [
        "Confusion Matrix"
      ]
    },
    {
      "cell_type": "code",
      "metadata": {
        "id": "jLGiz00ydSCx",
        "outputId": "f039d961-16be-42ff-ccf1-97cd0825b0c4",
        "colab": {
          "base_uri": "https://localhost:8080/",
          "height": 72
        }
      },
      "source": [
        "print(\"Confustion Matrix\")\n",
        "print(confusion_matrix(y_test,y_pred))"
      ],
      "execution_count": null,
      "outputs": [
        {
          "output_type": "stream",
          "text": [
            "Confustion Matrix\n",
            "[[6451 1049]\n",
            " [2073 5427]]\n"
          ],
          "name": "stdout"
        }
      ]
    },
    {
      "cell_type": "code",
      "metadata": {
        "id": "C-QbNW7WOtgS"
      },
      "source": [
        "y_pred = [v[0] for v in y_pred]"
      ],
      "execution_count": null,
      "outputs": []
    },
    {
      "cell_type": "code",
      "metadata": {
        "id": "BMYJFs5COMco",
        "outputId": "3cab6a71-a098-4d3b-c22f-7668b5da6184",
        "colab": {
          "base_uri": "https://localhost:8080/",
          "height": 90
        }
      },
      "source": [
        "df = pd.DataFrame({'y_test':y_test,'y_pred':y_pred})\n",
        "df.head()\n",
        "confusion_matrix = pd.crosstab(df['y_test'], df['y_pred'], rownames=['Actual'], colnames=['Predicted'])\n",
        "print (confusion_matrix)"
      ],
      "execution_count": null,
      "outputs": [
        {
          "output_type": "stream",
          "text": [
            "Predicted     0     1\n",
            "Actual               \n",
            "0          6451  1049\n",
            "1          2073  5427\n"
          ],
          "name": "stdout"
        }
      ]
    },
    {
      "cell_type": "markdown",
      "metadata": {
        "id": "sVfGEO-veXjl"
      },
      "source": [
        "Classification Report"
      ]
    },
    {
      "cell_type": "code",
      "metadata": {
        "id": "uD9BUP1jdmHw",
        "outputId": "083d7b5b-6f92-4ad1-f780-f48a5bba8df0",
        "colab": {
          "base_uri": "https://localhost:8080/",
          "height": 181
        }
      },
      "source": [
        "print(classification_report(y_test,y_pred))"
      ],
      "execution_count": null,
      "outputs": [
        {
          "output_type": "stream",
          "text": [
            "              precision    recall  f1-score   support\n",
            "\n",
            "           0       0.78      0.82      0.80      7500\n",
            "           1       0.81      0.77      0.79      7500\n",
            "\n",
            "    accuracy                           0.80     15000\n",
            "   macro avg       0.80      0.80      0.80     15000\n",
            "weighted avg       0.80      0.80      0.80     15000\n",
            "\n"
          ],
          "name": "stdout"
        }
      ]
    },
    {
      "cell_type": "markdown",
      "metadata": {
        "id": "blafKSc3exSx"
      },
      "source": [
        "**Write a summary for the best and worst performing class and the overall trend??**"
      ]
    },
    {
      "cell_type": "markdown",
      "metadata": {
        "id": "xLwP--FUPHEl"
      },
      "source": [
        "Worst performing class is postive class because compared to the negative sentiment most of the positive sentiment is predicted incorrectly by the model. <br/>\n",
        "In the first 10 epochs itself model was able to acheive the accuracy of 77+, however still continue to train for 50 epochs ,we haven't introduced the callbacks like early stopping to stop the train if score doesn't improve much.\n",
        "\n",
        "We will try to move the Drop out to different position and will reduce or increase the batch size in the subsequent trainings"
      ]
    }
  ]
}