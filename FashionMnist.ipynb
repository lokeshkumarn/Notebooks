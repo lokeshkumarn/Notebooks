{
  "nbformat": 4,
  "nbformat_minor": 0,
  "metadata": {
    "colab": {
      "name": "FashionMnist.ipynb",
      "provenance": [],
      "collapsed_sections": [],
      "toc_visible": true,
      "authorship_tag": "ABX9TyMlVSXhyKh4LcJsjxCbsNDr",
      "include_colab_link": true
    },
    "kernelspec": {
      "name": "python3",
      "display_name": "Python 3"
    },
    "accelerator": "GPU"
  },
  "cells": [
    {
      "cell_type": "markdown",
      "metadata": {
        "id": "view-in-github",
        "colab_type": "text"
      },
      "source": [
        "<a href=\"https://colab.research.google.com/github/lokeshkumarn/Notebooks/blob/master/FashionMnist.ipynb\" target=\"_parent\"><img src=\"https://colab.research.google.com/assets/colab-badge.svg\" alt=\"Open In Colab\"/></a>"
      ]
    },
    {
      "cell_type": "markdown",
      "metadata": {
        "id": "JD5tc8Rnz19H"
      },
      "source": [
        "## Import Libraries/Dataset"
      ]
    },
    {
      "cell_type": "markdown",
      "metadata": {
        "id": "Y0hvLOW-z5ZE"
      },
      "source": [
        "### Import Libraries"
      ]
    },
    {
      "cell_type": "code",
      "metadata": {
        "id": "kA0jIJ60zM80"
      },
      "source": [
        "import time\n",
        "import tensorflow as tf\n",
        "from tensorflow.python.client import device_lib\n",
        "from google.colab import drive\n",
        "\n",
        "import pandas as pd\n",
        "import numpy as np\n",
        "import random as rd\n",
        "\n",
        "from tensorflow import keras\n",
        "\n",
        "import tensorflow_hub as hub\n",
        "import tensorflow_datasets as tfds\n",
        "\n",
        "from sklearn.model_selection import train_test_split\n",
        "from sklearn.metrics import confusion_matrix,classification_report\n",
        "\n",
        "from matplotlib import pyplot as plt\n",
        "import seaborn as sns"
      ],
      "execution_count": 1,
      "outputs": []
    },
    {
      "cell_type": "code",
      "metadata": {
        "id": "C83BzTAIz8Oy"
      },
      "source": [
        "rd.seed(2020)         # Initialize the random number generator.\n",
        "np.random.seed(2020)      # With the seed reset, the same set of numbers will appear every time. \n",
        "tf.random.set_seed(2020)  # sets the graph-level random seed"
      ],
      "execution_count": 2,
      "outputs": []
    },
    {
      "cell_type": "markdown",
      "metadata": {
        "id": "4HbAJi9f0JDL"
      },
      "source": [
        "### Import Dataset"
      ]
    },
    {
      "cell_type": "markdown",
      "metadata": {
        "id": "kVG2N6vL0MUB"
      },
      "source": [
        "Load dataset from TF"
      ]
    },
    {
      "cell_type": "code",
      "metadata": {
        "id": "stoIQKhd31bP",
        "outputId": "f49d8dd0-28bf-4b8d-c496-bac5590bc05d",
        "colab": {
          "base_uri": "https://localhost:8080/",
          "height": 163
        }
      },
      "source": [
        "fashion_mnist = tf.keras.datasets.fashion_mnist\n",
        "\n",
        "(X_train, y_train), (X_test, y_test) = fashion_mnist.load_data()"
      ],
      "execution_count": 3,
      "outputs": [
        {
          "output_type": "stream",
          "text": [
            "Downloading data from https://storage.googleapis.com/tensorflow/tf-keras-datasets/train-labels-idx1-ubyte.gz\n",
            "32768/29515 [=================================] - 0s 0us/step\n",
            "Downloading data from https://storage.googleapis.com/tensorflow/tf-keras-datasets/train-images-idx3-ubyte.gz\n",
            "26427392/26421880 [==============================] - 0s 0us/step\n",
            "Downloading data from https://storage.googleapis.com/tensorflow/tf-keras-datasets/t10k-labels-idx1-ubyte.gz\n",
            "8192/5148 [===============================================] - 0s 0us/step\n",
            "Downloading data from https://storage.googleapis.com/tensorflow/tf-keras-datasets/t10k-images-idx3-ubyte.gz\n",
            "4423680/4422102 [==============================] - 0s 0us/step\n"
          ],
          "name": "stdout"
        }
      ]
    },
    {
      "cell_type": "markdown",
      "metadata": {
        "id": "Gx_7qt1J2jZA"
      },
      "source": [
        "### Check GPU"
      ]
    },
    {
      "cell_type": "code",
      "metadata": {
        "id": "9ee0VdCA2R3g",
        "outputId": "876d5d69-6445-4f8c-ff21-f26944017197",
        "colab": {
          "base_uri": "https://localhost:8080/",
          "height": 35
        }
      },
      "source": [
        "def get_available_gpus():\n",
        "    local_device_protos = device_lib.list_local_devices()\n",
        "    return [x.name for x in local_device_protos if x.device_type == 'GPU' ]\n",
        "\n",
        "gpu_lst = get_available_gpus()\n",
        "\n",
        "if(len(gpu_lst) > 0):\n",
        "  print(\"GPU Enabled\")\n",
        "else:\n",
        "  print(\"GPU Disabled\")"
      ],
      "execution_count": 4,
      "outputs": [
        {
          "output_type": "stream",
          "text": [
            "GPU Enabled\n"
          ],
          "name": "stdout"
        }
      ]
    },
    {
      "cell_type": "markdown",
      "metadata": {
        "id": "HytT9m-122pU"
      },
      "source": [
        "## Data Visualization"
      ]
    },
    {
      "cell_type": "markdown",
      "metadata": {
        "id": "mi_EWfKs26So"
      },
      "source": [
        "Plot at least one sample from each class of the dataset "
      ]
    },
    {
      "cell_type": "code",
      "metadata": {
        "id": "gI1oUcz8447j"
      },
      "source": [
        "class_names = ['T-shirt_top', 'Trouser', 'Pullover', 'Dress', 'Coat',\n",
        "               'Sandal', 'Shirt', 'Sneaker', 'Bag', 'Ankle boot']"
      ],
      "execution_count": 5,
      "outputs": []
    },
    {
      "cell_type": "code",
      "metadata": {
        "id": "-KE6Zev-450T",
        "outputId": "15361541-67fc-47cd-fc26-e71412a3111d",
        "colab": {
          "base_uri": "https://localhost:8080/",
          "height": 441
        }
      },
      "source": [
        "fig,ax = plt.subplots(2,5,figsize=(20,10))\n",
        "j = 0\n",
        "for c in enumerate(class_names):\n",
        "  idx = [i for i,v in enumerate(y_train) if c[0] == v][0]\n",
        "  row,col = j, c[0] % 5  \n",
        "  ax[row,col].imshow(X_train[idx])\n",
        "  ax[row,col].set_title(c[1])\n",
        "  if c[0] % 5 == 4:\n",
        "    j = j + 1"
      ],
      "execution_count": 6,
      "outputs": [
        {
          "output_type": "display_data",
          "data": {
            "image/png": "[encoded data removed]",
            "text/plain": [
              "<Figure size 1440x720 with 10 Axes>"
            ]
          },
          "metadata": {
            "tags": [],
            "needs_background": "light"
          }
        }
      ]
    },
    {
      "cell_type": "markdown",
      "metadata": {
        "id": "gHzrJdf994YQ"
      },
      "source": [
        "Print the shapes of train and test data"
      ]
    },
    {
      "cell_type": "code",
      "metadata": {
        "id": "dtdl7u5E937w",
        "outputId": "af3adb6b-a7ef-422b-d8d0-50f3dd295cdb",
        "colab": {
          "base_uri": "https://localhost:8080/",
          "height": 90
        }
      },
      "source": [
        "print(\"Train Feature Shape:\",X_train.shape)\n",
        "print(\"Train Label Shape:\",y_train.shape)\n",
        "print(\"Test Feature Shape:\",X_test.shape)\n",
        "print(\"Test Label Shape:\",y_test.shape)"
      ],
      "execution_count": 7,
      "outputs": [
        {
          "output_type": "stream",
          "text": [
            "Train Feature Shape: (60000, 28, 28)\n",
            "Train Label Shape: (60000,)\n",
            "Test Feature Shape: (10000, 28, 28)\n",
            "Test Label Shape: (10000,)\n"
          ],
          "name": "stdout"
        }
      ]
    },
    {
      "cell_type": "markdown",
      "metadata": {
        "id": "Ymy9k17o-RJo"
      },
      "source": [
        "## Data Pre-processing "
      ]
    },
    {
      "cell_type": "markdown",
      "metadata": {
        "id": "3itsB5cl-UDg"
      },
      "source": [
        "Bring the train and test data in the required format"
      ]
    },
    {
      "cell_type": "code",
      "metadata": {
        "id": "uY10X1AO0ONB"
      },
      "source": [
        "# Normalize the data\n",
        "X_train = X_train.reshape((60000, 28*28))    # reshape the input set to size 28*28. VEctor of length 784\n",
        "X_train = X_train.astype('float32')/255      # normalize to grayscale; set datatype as float32\n",
        "\n",
        "X_test = X_test.reshape((10000, 28*28))      # reshape the input set to size 28*28. \n",
        "X_test = X_test.astype('float32')/255        # normalize to grayscale; set datatype as float32\n",
        "\n",
        "y_train_enc = tf.keras.utils.to_categorical(y_train)\n",
        "y_test_enc = tf.keras.utils.to_categorical(y_test)"
      ],
      "execution_count": 8,
      "outputs": []
    },
    {
      "cell_type": "code",
      "metadata": {
        "id": "s5UDUzOFAAo2",
        "outputId": "65c9ae21-3a4b-47cf-8f2d-69c3f994e44d",
        "colab": {
          "base_uri": "https://localhost:8080/",
          "height": 90
        }
      },
      "source": [
        "#Shapes after reshaping & normalizing\n",
        "print(\"Train Feature Shape:\",X_train.shape)\n",
        "print(\"Train Label Shape:\",y_train.shape)\n",
        "print(\"Test Feature Shape:\",X_test.shape)\n",
        "print(\"Test Label Shape:\",y_test.shape)"
      ],
      "execution_count": 9,
      "outputs": [
        {
          "output_type": "stream",
          "text": [
            "Train Feature Shape: (60000, 784)\n",
            "Train Label Shape: (60000,)\n",
            "Test Feature Shape: (10000, 784)\n",
            "Test Label Shape: (10000,)\n"
          ],
          "name": "stdout"
        }
      ]
    },
    {
      "cell_type": "markdown",
      "metadata": {
        "id": "1cSwk7R0BYeI"
      },
      "source": [
        "## Model Building "
      ]
    },
    {
      "cell_type": "markdown",
      "metadata": {
        "id": "ZKRYn2v4Beuc"
      },
      "source": [
        "a.    Sequential Model layers- Use AT LEAST 3 dense layers with appropriate input for each. Choose the best number for hidden units and give reasons.<br>\n",
        "b.   Add L2 regularization to all the layers.<br>\n",
        "c.    Add one layer of dropout at the appropriate position and give reasons. <br>d.   Choose the appropriate activation function for all the layers.<br>\n",
        "e.   Print the model summary\n"
      ]
    },
    {
      "cell_type": "code",
      "metadata": {
        "id": "zGOR5i2gAISD",
        "outputId": "eb45058e-93e8-44db-df41-829189601223",
        "colab": {
          "base_uri": "https://localhost:8080/",
          "height": 345
        }
      },
      "source": [
        "model = keras.models.Sequential()\n",
        "\n",
        "# Layer 1 = input layer\n",
        "# specify the input size for in the first layer.\n",
        "\n",
        "model.add(keras.layers.Dense(512, activation='relu', input_shape= (28*28,)))\n",
        "\n",
        "# Layer 2 = hidden layer  with Regularizers\n",
        "model.add(keras.layers.Dense(300, activation='relu', kernel_regularizer=keras.regularizers.l2(0.01),\n",
        "                activity_regularizer=keras.regularizers.l2(0.01)) )\n",
        "\n",
        "# Add dropout of 50% to layer 2\n",
        "model.add(keras.layers.Dropout(0.5))\n",
        "\n",
        "# Layer 3 = hidden layer \n",
        "model.add(keras.layers.Dense(64, activation='relu', kernel_regularizer=keras.regularizers.l2(0.01),\n",
        "                activity_regularizer=keras.regularizers.l2(0.01)) )\n",
        "\n",
        "# Layer 4 = output layer\n",
        "model.add(keras.layers.Dense(10, activation='softmax'))\n",
        "\n",
        "model.summary()"
      ],
      "execution_count": 10,
      "outputs": [
        {
          "output_type": "stream",
          "text": [
            "Model: \"sequential\"\n",
            "_________________________________________________________________\n",
            "Layer (type)                 Output Shape              Param #   \n",
            "=================================================================\n",
            "dense (Dense)                (None, 512)               401920    \n",
            "_________________________________________________________________\n",
            "dense_1 (Dense)              (None, 300)               153900    \n",
            "_________________________________________________________________\n",
            "dropout (Dropout)            (None, 300)               0         \n",
            "_________________________________________________________________\n",
            "dense_2 (Dense)              (None, 64)                19264     \n",
            "_________________________________________________________________\n",
            "dense_3 (Dense)              (None, 10)                650       \n",
            "=================================================================\n",
            "Total params: 575,734\n",
            "Trainable params: 575,734\n",
            "Non-trainable params: 0\n",
            "_________________________________________________________________\n"
          ],
          "name": "stdout"
        }
      ]
    },
    {
      "cell_type": "markdown",
      "metadata": {
        "id": "zevuXU4IoaCX"
      },
      "source": [
        "**Choose the best number for hidden units and give reasons.**<br>\n",
        "1.The number of hidden neurons should be between the size of the input layer and the size of the output layer.<br>\n",
        "2.The number of hidden neurons should be 2/3 the size of the input layer, plus the size of the output layer.<br>\n",
        "3.The number of hidden neurons should be less than twice the size of the input layer.<br>\n",
        "\n",
        "Reference : [Link](https://www.heatonresearch.com/2017/06/01/hidden-layers.html)\n",
        "\n",
        "Even though I  didn't completely followed the rules in the reference because the number of hidden layers is not more than 4 so wanted reduce the parameters to learn (will discuss about dropout next) before the output layer"
      ]
    },
    {
      "cell_type": "markdown",
      "metadata": {
        "id": "zrajbvjgvYDS"
      },
      "source": [
        "**Give reasons for the dropout**<br>\n",
        "Dropout of 0.5 is to drastically reduce the parameters and also generalize better on the unseen data points"
      ]
    },
    {
      "cell_type": "markdown",
      "metadata": {
        "id": "9miE-oRDCpQH"
      },
      "source": [
        "## Model Compilation "
      ]
    },
    {
      "cell_type": "markdown",
      "metadata": {
        "id": "lQdmgbauDjJY"
      },
      "source": [
        "a.Compile the model with the appropriate loss function. - **categorical_crossentropy** - multiclass classification<br>\n",
        "b.Use an appropriate optimizer - **Adam**.<br>\n",
        "c.Use **accuracy** as metric."
      ]
    },
    {
      "cell_type": "code",
      "metadata": {
        "id": "dnGSp7T9Bq8G"
      },
      "source": [
        "model.compile(optimizer=tf.keras.optimizers.Adam(learning_rate=0.001,name='Adam'),\n",
        "              loss = 'categorical_crossentropy', \n",
        "              metrics=['accuracy'] )"
      ],
      "execution_count": 11,
      "outputs": []
    },
    {
      "cell_type": "markdown",
      "metadata": {
        "id": "1re7ENXskQLi"
      },
      "source": [
        "**Give reasons for the choice of learning rate and its value**<br>\n",
        "Learning rate of 0.001 is choosen, because too high would rollover the minima and I have tried giving the higher learning rate like 0.4, 0.2, 0.1, 0.01 the loss doesn't seem to converge to minima, so decided to lower the learning rate further so that weight update is minimum and proceeds towards the convergence or global minima "
      ]
    },
    {
      "cell_type": "markdown",
      "metadata": {
        "id": "Xc53v450EHvg"
      },
      "source": [
        "##Model Training "
      ]
    },
    {
      "cell_type": "code",
      "metadata": {
        "id": "pq6Bj-WrD0Qa",
        "outputId": "0c952e07-2918-4dce-f499-810e1f48cc9f",
        "colab": {
          "base_uri": "https://localhost:8080/",
          "height": 1000
        }
      },
      "source": [
        "start_train = time.time()\n",
        "history = model.fit(X_train,\n",
        "                    y_train_enc,\n",
        "                    epochs=100,\n",
        "                    batch_size=1000,\n",
        "                    validation_split=0.2,\n",
        "                    verbose=1)\n",
        "end_train = time.time()"
      ],
      "execution_count": 12,
      "outputs": [
        {
          "output_type": "stream",
          "text": [
            "Epoch 1/100\n",
            "48/48 [==============================] - 0s 8ms/step - loss: 4.2814 - accuracy: 0.6785 - val_loss: 2.3727 - val_accuracy: 0.8085\n",
            "Epoch 2/100\n",
            "48/48 [==============================] - 0s 5ms/step - loss: 1.7346 - accuracy: 0.8229 - val_loss: 1.2312 - val_accuracy: 0.8438\n",
            "Epoch 3/100\n",
            "48/48 [==============================] - 0s 5ms/step - loss: 1.0823 - accuracy: 0.8462 - val_loss: 0.9225 - val_accuracy: 0.8531\n",
            "Epoch 4/100\n",
            "48/48 [==============================] - 0s 5ms/step - loss: 0.8710 - accuracy: 0.8587 - val_loss: 0.7944 - val_accuracy: 0.8612\n",
            "Epoch 5/100\n",
            "48/48 [==============================] - 0s 5ms/step - loss: 0.7758 - accuracy: 0.8664 - val_loss: 0.7258 - val_accuracy: 0.8683\n",
            "Epoch 6/100\n",
            "48/48 [==============================] - 0s 5ms/step - loss: 0.7184 - accuracy: 0.8718 - val_loss: 0.6864 - val_accuracy: 0.8703\n",
            "Epoch 7/100\n",
            "48/48 [==============================] - 0s 5ms/step - loss: 0.6778 - accuracy: 0.8773 - val_loss: 0.6592 - val_accuracy: 0.8734\n",
            "Epoch 8/100\n",
            "48/48 [==============================] - 0s 5ms/step - loss: 0.6458 - accuracy: 0.8799 - val_loss: 0.6277 - val_accuracy: 0.8792\n",
            "Epoch 9/100\n",
            "48/48 [==============================] - 0s 5ms/step - loss: 0.6211 - accuracy: 0.8844 - val_loss: 0.6097 - val_accuracy: 0.8787\n",
            "Epoch 10/100\n",
            "48/48 [==============================] - 0s 5ms/step - loss: 0.5963 - accuracy: 0.8889 - val_loss: 0.6027 - val_accuracy: 0.8760\n",
            "Epoch 11/100\n",
            "48/48 [==============================] - 0s 5ms/step - loss: 0.5793 - accuracy: 0.8898 - val_loss: 0.5741 - val_accuracy: 0.8838\n",
            "Epoch 12/100\n",
            "48/48 [==============================] - 0s 5ms/step - loss: 0.5619 - accuracy: 0.8929 - val_loss: 0.5736 - val_accuracy: 0.8826\n",
            "Epoch 13/100\n",
            "48/48 [==============================] - 0s 5ms/step - loss: 0.5519 - accuracy: 0.8942 - val_loss: 0.5597 - val_accuracy: 0.8851\n",
            "Epoch 14/100\n",
            "48/48 [==============================] - 0s 5ms/step - loss: 0.5377 - accuracy: 0.8949 - val_loss: 0.5519 - val_accuracy: 0.8849\n",
            "Epoch 15/100\n",
            "48/48 [==============================] - 0s 5ms/step - loss: 0.5262 - accuracy: 0.8978 - val_loss: 0.5367 - val_accuracy: 0.8867\n",
            "Epoch 16/100\n",
            "48/48 [==============================] - 0s 5ms/step - loss: 0.5117 - accuracy: 0.9010 - val_loss: 0.5279 - val_accuracy: 0.8885\n",
            "Epoch 17/100\n",
            "48/48 [==============================] - 0s 5ms/step - loss: 0.5029 - accuracy: 0.9015 - val_loss: 0.5197 - val_accuracy: 0.8915\n",
            "Epoch 18/100\n",
            "48/48 [==============================] - 0s 5ms/step - loss: 0.4921 - accuracy: 0.9043 - val_loss: 0.5117 - val_accuracy: 0.8893\n",
            "Epoch 19/100\n",
            "48/48 [==============================] - 0s 5ms/step - loss: 0.4829 - accuracy: 0.9056 - val_loss: 0.5142 - val_accuracy: 0.8880\n",
            "Epoch 20/100\n",
            "48/48 [==============================] - 0s 5ms/step - loss: 0.4746 - accuracy: 0.9075 - val_loss: 0.5038 - val_accuracy: 0.8909\n",
            "Epoch 21/100\n",
            "48/48 [==============================] - 0s 5ms/step - loss: 0.4638 - accuracy: 0.9110 - val_loss: 0.4978 - val_accuracy: 0.8924\n",
            "Epoch 22/100\n",
            "48/48 [==============================] - 0s 5ms/step - loss: 0.4609 - accuracy: 0.9098 - val_loss: 0.5062 - val_accuracy: 0.8882\n",
            "Epoch 23/100\n",
            "48/48 [==============================] - 0s 5ms/step - loss: 0.4488 - accuracy: 0.9123 - val_loss: 0.4943 - val_accuracy: 0.8893\n",
            "Epoch 24/100\n",
            "48/48 [==============================] - 0s 5ms/step - loss: 0.4452 - accuracy: 0.9143 - val_loss: 0.4930 - val_accuracy: 0.8900\n",
            "Epoch 25/100\n",
            "48/48 [==============================] - 0s 5ms/step - loss: 0.4361 - accuracy: 0.9152 - val_loss: 0.4771 - val_accuracy: 0.8939\n",
            "Epoch 26/100\n",
            "48/48 [==============================] - 0s 5ms/step - loss: 0.4289 - accuracy: 0.9188 - val_loss: 0.4837 - val_accuracy: 0.8913\n",
            "Epoch 27/100\n",
            "48/48 [==============================] - 0s 5ms/step - loss: 0.4260 - accuracy: 0.9184 - val_loss: 0.4823 - val_accuracy: 0.8895\n",
            "Epoch 28/100\n",
            "48/48 [==============================] - 0s 5ms/step - loss: 0.4165 - accuracy: 0.9207 - val_loss: 0.4637 - val_accuracy: 0.8961\n",
            "Epoch 29/100\n",
            "48/48 [==============================] - 0s 5ms/step - loss: 0.4163 - accuracy: 0.9189 - val_loss: 0.4703 - val_accuracy: 0.8942\n",
            "Epoch 30/100\n",
            "48/48 [==============================] - 0s 5ms/step - loss: 0.4065 - accuracy: 0.9218 - val_loss: 0.4636 - val_accuracy: 0.8964\n",
            "Epoch 31/100\n",
            "48/48 [==============================] - 0s 5ms/step - loss: 0.3997 - accuracy: 0.9249 - val_loss: 0.4612 - val_accuracy: 0.8976\n",
            "Epoch 32/100\n",
            "48/48 [==============================] - 0s 5ms/step - loss: 0.3964 - accuracy: 0.9250 - val_loss: 0.4580 - val_accuracy: 0.8963\n",
            "Epoch 33/100\n",
            "48/48 [==============================] - 0s 5ms/step - loss: 0.3919 - accuracy: 0.9266 - val_loss: 0.4606 - val_accuracy: 0.8951\n",
            "Epoch 34/100\n",
            "48/48 [==============================] - 0s 5ms/step - loss: 0.3913 - accuracy: 0.9254 - val_loss: 0.4636 - val_accuracy: 0.8941\n",
            "Epoch 35/100\n",
            "48/48 [==============================] - 0s 5ms/step - loss: 0.3804 - accuracy: 0.9287 - val_loss: 0.4502 - val_accuracy: 0.8957\n",
            "Epoch 36/100\n",
            "48/48 [==============================] - 0s 5ms/step - loss: 0.3756 - accuracy: 0.9293 - val_loss: 0.4522 - val_accuracy: 0.8967\n",
            "Epoch 37/100\n",
            "48/48 [==============================] - 0s 5ms/step - loss: 0.3678 - accuracy: 0.9322 - val_loss: 0.4517 - val_accuracy: 0.8938\n",
            "Epoch 38/100\n",
            "48/48 [==============================] - 0s 5ms/step - loss: 0.3641 - accuracy: 0.9325 - val_loss: 0.4466 - val_accuracy: 0.8989\n",
            "Epoch 39/100\n",
            "48/48 [==============================] - 0s 5ms/step - loss: 0.3743 - accuracy: 0.9287 - val_loss: 0.4503 - val_accuracy: 0.8956\n",
            "Epoch 40/100\n",
            "48/48 [==============================] - 0s 5ms/step - loss: 0.3617 - accuracy: 0.9333 - val_loss: 0.4518 - val_accuracy: 0.8928\n",
            "Epoch 41/100\n",
            "48/48 [==============================] - 0s 5ms/step - loss: 0.3530 - accuracy: 0.9348 - val_loss: 0.4404 - val_accuracy: 0.8979\n",
            "Epoch 42/100\n",
            "48/48 [==============================] - 0s 5ms/step - loss: 0.3518 - accuracy: 0.9351 - val_loss: 0.4378 - val_accuracy: 0.8988\n",
            "Epoch 43/100\n",
            "48/48 [==============================] - 0s 5ms/step - loss: 0.3472 - accuracy: 0.9366 - val_loss: 0.4346 - val_accuracy: 0.8990\n",
            "Epoch 44/100\n",
            "48/48 [==============================] - 0s 5ms/step - loss: 0.3415 - accuracy: 0.9383 - val_loss: 0.4319 - val_accuracy: 0.8973\n",
            "Epoch 45/100\n",
            "48/48 [==============================] - 0s 5ms/step - loss: 0.3381 - accuracy: 0.9397 - val_loss: 0.4297 - val_accuracy: 0.8972\n",
            "Epoch 46/100\n",
            "48/48 [==============================] - 0s 5ms/step - loss: 0.3354 - accuracy: 0.9406 - val_loss: 0.4440 - val_accuracy: 0.8930\n",
            "Epoch 47/100\n",
            "48/48 [==============================] - 0s 5ms/step - loss: 0.3358 - accuracy: 0.9390 - val_loss: 0.4367 - val_accuracy: 0.8946\n",
            "Epoch 48/100\n",
            "48/48 [==============================] - 0s 5ms/step - loss: 0.3238 - accuracy: 0.9427 - val_loss: 0.4339 - val_accuracy: 0.8978\n",
            "Epoch 49/100\n",
            "48/48 [==============================] - 0s 6ms/step - loss: 0.3218 - accuracy: 0.9429 - val_loss: 0.4348 - val_accuracy: 0.8982\n",
            "Epoch 50/100\n",
            "48/48 [==============================] - 0s 6ms/step - loss: 0.3176 - accuracy: 0.9455 - val_loss: 0.4341 - val_accuracy: 0.9004\n",
            "Epoch 51/100\n",
            "48/48 [==============================] - 0s 5ms/step - loss: 0.3145 - accuracy: 0.9465 - val_loss: 0.4221 - val_accuracy: 0.9013\n",
            "Epoch 52/100\n",
            "48/48 [==============================] - 0s 5ms/step - loss: 0.3085 - accuracy: 0.9482 - val_loss: 0.4231 - val_accuracy: 0.9007\n",
            "Epoch 53/100\n",
            "48/48 [==============================] - 0s 5ms/step - loss: 0.3079 - accuracy: 0.9473 - val_loss: 0.4320 - val_accuracy: 0.8975\n",
            "Epoch 54/100\n",
            "48/48 [==============================] - 0s 5ms/step - loss: 0.3084 - accuracy: 0.9467 - val_loss: 0.4259 - val_accuracy: 0.8989\n",
            "Epoch 55/100\n",
            "48/48 [==============================] - 0s 5ms/step - loss: 0.3065 - accuracy: 0.9464 - val_loss: 0.4255 - val_accuracy: 0.8971\n",
            "Epoch 56/100\n",
            "48/48 [==============================] - 0s 5ms/step - loss: 0.3026 - accuracy: 0.9479 - val_loss: 0.4289 - val_accuracy: 0.8983\n",
            "Epoch 57/100\n",
            "48/48 [==============================] - 0s 5ms/step - loss: 0.2987 - accuracy: 0.9494 - val_loss: 0.4246 - val_accuracy: 0.8985\n",
            "Epoch 58/100\n",
            "48/48 [==============================] - 0s 5ms/step - loss: 0.2926 - accuracy: 0.9527 - val_loss: 0.4285 - val_accuracy: 0.8977\n",
            "Epoch 59/100\n",
            "48/48 [==============================] - 0s 5ms/step - loss: 0.2921 - accuracy: 0.9504 - val_loss: 0.4279 - val_accuracy: 0.8975\n",
            "Epoch 60/100\n",
            "48/48 [==============================] - 0s 5ms/step - loss: 0.2839 - accuracy: 0.9541 - val_loss: 0.4252 - val_accuracy: 0.8980\n",
            "Epoch 61/100\n",
            "48/48 [==============================] - 0s 6ms/step - loss: 0.2849 - accuracy: 0.9540 - val_loss: 0.4258 - val_accuracy: 0.8971\n",
            "Epoch 62/100\n",
            "48/48 [==============================] - 0s 5ms/step - loss: 0.2839 - accuracy: 0.9530 - val_loss: 0.4274 - val_accuracy: 0.8970\n",
            "Epoch 63/100\n",
            "48/48 [==============================] - 0s 5ms/step - loss: 0.2817 - accuracy: 0.9532 - val_loss: 0.4224 - val_accuracy: 0.8980\n",
            "Epoch 64/100\n",
            "48/48 [==============================] - 0s 5ms/step - loss: 0.2774 - accuracy: 0.9554 - val_loss: 0.4222 - val_accuracy: 0.8965\n",
            "Epoch 65/100\n",
            "48/48 [==============================] - 0s 5ms/step - loss: 0.2727 - accuracy: 0.9564 - val_loss: 0.4310 - val_accuracy: 0.8955\n",
            "Epoch 66/100\n",
            "48/48 [==============================] - 0s 5ms/step - loss: 0.2712 - accuracy: 0.9580 - val_loss: 0.4278 - val_accuracy: 0.8982\n",
            "Epoch 67/100\n",
            "48/48 [==============================] - 0s 5ms/step - loss: 0.2672 - accuracy: 0.9587 - val_loss: 0.4154 - val_accuracy: 0.9016\n",
            "Epoch 68/100\n",
            "48/48 [==============================] - 0s 5ms/step - loss: 0.2639 - accuracy: 0.9600 - val_loss: 0.4318 - val_accuracy: 0.8956\n",
            "Epoch 69/100\n",
            "48/48 [==============================] - 0s 5ms/step - loss: 0.2632 - accuracy: 0.9589 - val_loss: 0.4207 - val_accuracy: 0.8982\n",
            "Epoch 70/100\n",
            "48/48 [==============================] - 0s 5ms/step - loss: 0.2606 - accuracy: 0.9590 - val_loss: 0.4181 - val_accuracy: 0.9007\n",
            "Epoch 71/100\n",
            "48/48 [==============================] - 0s 5ms/step - loss: 0.2572 - accuracy: 0.9611 - val_loss: 0.4239 - val_accuracy: 0.9007\n",
            "Epoch 72/100\n",
            "48/48 [==============================] - 0s 5ms/step - loss: 0.2540 - accuracy: 0.9614 - val_loss: 0.4199 - val_accuracy: 0.8992\n",
            "Epoch 73/100\n",
            "48/48 [==============================] - 0s 5ms/step - loss: 0.2545 - accuracy: 0.9605 - val_loss: 0.4246 - val_accuracy: 0.8982\n",
            "Epoch 74/100\n",
            "48/48 [==============================] - 0s 5ms/step - loss: 0.2492 - accuracy: 0.9633 - val_loss: 0.4184 - val_accuracy: 0.8995\n",
            "Epoch 75/100\n",
            "48/48 [==============================] - 0s 5ms/step - loss: 0.2427 - accuracy: 0.9648 - val_loss: 0.4210 - val_accuracy: 0.8979\n",
            "Epoch 76/100\n",
            "48/48 [==============================] - 0s 5ms/step - loss: 0.2431 - accuracy: 0.9646 - val_loss: 0.4208 - val_accuracy: 0.9019\n",
            "Epoch 77/100\n",
            "48/48 [==============================] - 0s 5ms/step - loss: 0.2430 - accuracy: 0.9637 - val_loss: 0.4177 - val_accuracy: 0.9003\n",
            "Epoch 78/100\n",
            "48/48 [==============================] - 0s 5ms/step - loss: 0.2417 - accuracy: 0.9654 - val_loss: 0.4141 - val_accuracy: 0.9033\n",
            "Epoch 79/100\n",
            "48/48 [==============================] - 0s 5ms/step - loss: 0.2397 - accuracy: 0.9653 - val_loss: 0.4222 - val_accuracy: 0.8998\n",
            "Epoch 80/100\n",
            "48/48 [==============================] - 0s 5ms/step - loss: 0.2333 - accuracy: 0.9687 - val_loss: 0.4200 - val_accuracy: 0.8994\n",
            "Epoch 81/100\n",
            "48/48 [==============================] - 0s 5ms/step - loss: 0.2339 - accuracy: 0.9672 - val_loss: 0.4205 - val_accuracy: 0.8979\n",
            "Epoch 82/100\n",
            "48/48 [==============================] - 0s 5ms/step - loss: 0.2309 - accuracy: 0.9679 - val_loss: 0.4110 - val_accuracy: 0.9007\n",
            "Epoch 83/100\n",
            "48/48 [==============================] - 0s 6ms/step - loss: 0.2244 - accuracy: 0.9702 - val_loss: 0.4162 - val_accuracy: 0.8990\n",
            "Epoch 84/100\n",
            "48/48 [==============================] - 0s 5ms/step - loss: 0.2313 - accuracy: 0.9674 - val_loss: 0.4219 - val_accuracy: 0.9010\n",
            "Epoch 85/100\n",
            "48/48 [==============================] - 0s 5ms/step - loss: 0.2212 - accuracy: 0.9716 - val_loss: 0.4203 - val_accuracy: 0.8989\n",
            "Epoch 86/100\n",
            "48/48 [==============================] - 0s 5ms/step - loss: 0.2210 - accuracy: 0.9711 - val_loss: 0.4218 - val_accuracy: 0.8989\n",
            "Epoch 87/100\n",
            "48/48 [==============================] - 0s 5ms/step - loss: 0.2177 - accuracy: 0.9720 - val_loss: 0.4262 - val_accuracy: 0.8980\n",
            "Epoch 88/100\n",
            "48/48 [==============================] - 0s 5ms/step - loss: 0.2177 - accuracy: 0.9711 - val_loss: 0.4228 - val_accuracy: 0.8991\n",
            "Epoch 89/100\n",
            "48/48 [==============================] - 0s 5ms/step - loss: 0.2129 - accuracy: 0.9735 - val_loss: 0.4248 - val_accuracy: 0.9002\n",
            "Epoch 90/100\n",
            "48/48 [==============================] - 0s 5ms/step - loss: 0.2140 - accuracy: 0.9729 - val_loss: 0.4307 - val_accuracy: 0.8940\n",
            "Epoch 91/100\n",
            "48/48 [==============================] - 0s 6ms/step - loss: 0.2136 - accuracy: 0.9724 - val_loss: 0.4240 - val_accuracy: 0.8990\n",
            "Epoch 92/100\n",
            "48/48 [==============================] - 0s 5ms/step - loss: 0.2119 - accuracy: 0.9726 - val_loss: 0.4111 - val_accuracy: 0.8994\n",
            "Epoch 93/100\n",
            "48/48 [==============================] - 0s 5ms/step - loss: 0.2084 - accuracy: 0.9738 - val_loss: 0.4268 - val_accuracy: 0.8984\n",
            "Epoch 94/100\n",
            "48/48 [==============================] - 0s 5ms/step - loss: 0.2107 - accuracy: 0.9725 - val_loss: 0.4165 - val_accuracy: 0.9014\n",
            "Epoch 95/100\n",
            "48/48 [==============================] - 0s 6ms/step - loss: 0.2082 - accuracy: 0.9726 - val_loss: 0.4294 - val_accuracy: 0.8952\n",
            "Epoch 96/100\n",
            "48/48 [==============================] - 0s 5ms/step - loss: 0.2019 - accuracy: 0.9754 - val_loss: 0.4156 - val_accuracy: 0.9014\n",
            "Epoch 97/100\n",
            "48/48 [==============================] - 0s 5ms/step - loss: 0.2055 - accuracy: 0.9729 - val_loss: 0.4228 - val_accuracy: 0.8976\n",
            "Epoch 98/100\n",
            "48/48 [==============================] - 0s 5ms/step - loss: 0.1958 - accuracy: 0.9772 - val_loss: 0.4216 - val_accuracy: 0.8986\n",
            "Epoch 99/100\n",
            "48/48 [==============================] - 0s 5ms/step - loss: 0.1980 - accuracy: 0.9759 - val_loss: 0.4176 - val_accuracy: 0.8972\n",
            "Epoch 100/100\n",
            "48/48 [==============================] - 0s 5ms/step - loss: 0.1974 - accuracy: 0.9761 - val_loss: 0.4211 - val_accuracy: 0.8997\n"
          ],
          "name": "stdout"
        }
      ]
    },
    {
      "cell_type": "markdown",
      "metadata": {
        "id": "5MqvD05-pFUd"
      },
      "source": [
        "Print the total time taken for training"
      ]
    },
    {
      "cell_type": "code",
      "metadata": {
        "id": "bMhNqDblpGNF",
        "outputId": "4f982338-9e0a-40f9-cc04-533d4874596b",
        "colab": {
          "base_uri": "https://localhost:8080/",
          "height": 35
        }
      },
      "source": [
        "#Time taken to train\n",
        "print(\"Time taken to train the NN:\",end_train - start_train,\" seconds\")"
      ],
      "execution_count": 13,
      "outputs": [
        {
          "output_type": "stream",
          "text": [
            "Time taken to train the NN: 28.129714727401733  seconds\n"
          ],
          "name": "stdout"
        }
      ]
    },
    {
      "cell_type": "markdown",
      "metadata": {
        "id": "qbx2RIECEjz5"
      },
      "source": [
        "Plot the loss and accuracy history graphs"
      ]
    },
    {
      "cell_type": "code",
      "metadata": {
        "id": "Q-kyFEc_CxDn",
        "outputId": "20686a6b-5eb1-4b07-fca4-a0ac90578c59",
        "colab": {
          "base_uri": "https://localhost:8080/",
          "height": 368
        }
      },
      "source": [
        "history_dict = history.history\n",
        "print(history_dict.keys())\n",
        "\n",
        "acc = history_dict['accuracy']\n",
        "val_acc = history_dict['val_accuracy']\n",
        "loss = history_dict['loss']\n",
        "val_loss = history_dict['val_loss']\n",
        "\n",
        "epochs = range(1, len(acc) + 1)\n",
        "\n",
        "fix,ax = plt.subplots(1,2, figsize=(15,5))\n",
        "ax1 = ax[0] # to plot Training Loss\n",
        "ax2 = ax[1] # to plot Training Accuracy\n",
        "ax1.plot(epochs, loss, label='Training loss')\n",
        "ax1.plot(epochs, val_loss,  label='Validation loss')\n",
        "ax1.set_title('Training and validation loss')\n",
        "ax1.set_xlabel('Epochs')\n",
        "ax1.set_ylabel('Loss')\n",
        "ax1.legend()\n",
        "\n",
        "ax2.plot(epochs, acc, label='Training acc')\n",
        "ax2.plot(epochs, val_acc,  label='Validation acc')\n",
        "ax2.set_title('Training and validation accuracy')\n",
        "ax2.set_xlabel('Epochs')\n",
        "ax2.set_ylabel('Accuracy')\n",
        "ax2.legend()\n",
        "\n",
        "plt.show()"
      ],
      "execution_count": 14,
      "outputs": [
        {
          "output_type": "stream",
          "text": [
            "dict_keys(['loss', 'accuracy', 'val_loss', 'val_accuracy'])\n"
          ],
          "name": "stdout"
        },
        {
          "output_type": "display_data",
          "data": {
            "image/png": "[encoded data removed]",
            "text/plain": [
              "<Figure size 1080x360 with 2 Axes>"
            ]
          },
          "metadata": {
            "tags": [],
            "needs_background": "light"
          }
        }
      ]
    },
    {
      "cell_type": "markdown",
      "metadata": {
        "id": "vxY89a0BE663"
      },
      "source": [
        "## Model Evaluation "
      ]
    },
    {
      "cell_type": "markdown",
      "metadata": {
        "id": "fBbD3v6gFRM5"
      },
      "source": [
        "Print the final test/validation loss and accuracy"
      ]
    },
    {
      "cell_type": "code",
      "metadata": {
        "id": "zNZbNg94FRzJ",
        "outputId": "58e5843c-24f8-470f-bebb-063db449bcdf",
        "colab": {
          "base_uri": "https://localhost:8080/",
          "height": 72
        }
      },
      "source": [
        "results = model.evaluate(X_test, y_test_enc)\n",
        "\n",
        "print(\"Test Loss:\",results[0])\n",
        "print(\"Test Accuracy:\",results[1])"
      ],
      "execution_count": 15,
      "outputs": [
        {
          "output_type": "stream",
          "text": [
            "313/313 [==============================] - 1s 2ms/step - loss: 0.4355 - accuracy: 0.8964\n",
            "Test Loss: 0.43549618124961853\n",
            "Test Accuracy: 0.896399974822998\n"
          ],
          "name": "stdout"
        }
      ]
    },
    {
      "cell_type": "code",
      "metadata": {
        "id": "bkWD3uxaF03a",
        "outputId": "22c0962e-73f6-4674-b878-f6a8cd27c558",
        "colab": {
          "base_uri": "https://localhost:8080/",
          "height": 92
        }
      },
      "source": [
        "#Predictions\n",
        "y_pred = model.predict_classes(X_test)"
      ],
      "execution_count": 16,
      "outputs": [
        {
          "output_type": "stream",
          "text": [
            "WARNING:tensorflow:From <ipython-input-16-105f502b23c1>:2: Sequential.predict_classes (from tensorflow.python.keras.engine.sequential) is deprecated and will be removed after 2021-01-01.\n",
            "Instructions for updating:\n",
            "Please use instead:* `np.argmax(model.predict(x), axis=-1)`,   if your model does multi-class classification   (e.g. if it uses a `softmax` last-layer activation).* `(model.predict(x) > 0.5).astype(\"int32\")`,   if your model does binary classification   (e.g. if it uses a `sigmoid` last-layer activation).\n"
          ],
          "name": "stdout"
        }
      ]
    },
    {
      "cell_type": "markdown",
      "metadata": {
        "id": "5mc06YIYF6Uo"
      },
      "source": [
        "Confusion Matrix"
      ]
    },
    {
      "cell_type": "code",
      "metadata": {
        "id": "eUkqDHoCsyVZ",
        "outputId": "2945ed29-93af-452f-aea5-b7d167250e85",
        "colab": {
          "base_uri": "https://localhost:8080/",
          "height": 235
        }
      },
      "source": [
        "df = pd.DataFrame({'y_test':y_test,'y_pred':y_pred})\n",
        "df.head()\n",
        "confusion_matrix = pd.crosstab(df['y_test'], df['y_pred'], rownames=['Actual'], colnames=['Predicted'])\n",
        "print(confusion_matrix)"
      ],
      "execution_count": 17,
      "outputs": [
        {
          "output_type": "stream",
          "text": [
            "Predicted    0    1    2    3    4    5    6    7    8    9\n",
            "Actual                                                     \n",
            "0          808    3   16   27    4    1  135    0    6    0\n",
            "1            0  981    1   11    3    0    3    0    1    0\n",
            "2           18    1  818    8   78    0   76    0    1    0\n",
            "3           14    5    9  916   27    0   25    0    4    0\n",
            "4            1    1   72   36  825    0   58    0    7    0\n",
            "5            0    0    0    1    0  976    0   20    1    2\n",
            "6           87    0   64   31   60    0  751    0    7    0\n",
            "7            0    0    0    0    0   10    0  981    1    8\n",
            "8            3    1    3    7    3    2    3    4  974    0\n",
            "9            0    0    0    2    0   13    1   50    0  934\n"
          ],
          "name": "stdout"
        }
      ]
    },
    {
      "cell_type": "code",
      "metadata": {
        "id": "Yu0qeS1eF7DY",
        "outputId": "81b8e66e-81af-43d1-ee94-24544c3a47eb",
        "colab": {
          "base_uri": "https://localhost:8080/",
          "height": 504
        }
      },
      "source": [
        "y_pred_cls = [class_names[v] for v in y_pred]\n",
        "y_test_cls= [class_names[v] for v in y_test]\n",
        "\n",
        "df = pd.DataFrame({'y_test':y_test_cls,'y_pred':y_pred_cls})\n",
        "df.head()\n",
        "confusion_matrix = pd.crosstab(df['y_test'], df['y_pred'], rownames=['Actual'], colnames=['Predicted'])\n",
        "# print(confusion_matrix)\n",
        "fig, ax = plt.subplots(figsize=(7,7))     \n",
        "sns.heatmap(confusion_matrix,annot=True,cmap='BuPu',fmt='d',ax=ax)"
      ],
      "execution_count": 18,
      "outputs": [
        {
          "output_type": "execute_result",
          "data": {
            "text/plain": [
              "<matplotlib.axes._subplots.AxesSubplot at 0x7f72dc0e4b00>"
            ]
          },
          "metadata": {
            "tags": []
          },
          "execution_count": 18
        },
        {
          "output_type": "display_data",
          "data": {
            "image/png": "[encoded data removed]",
            "text/plain": [
              "<Figure size 504x504 with 2 Axes>"
            ]
          },
          "metadata": {
            "tags": [],
            "needs_background": "light"
          }
        }
      ]
    },
    {
      "cell_type": "markdown",
      "metadata": {
        "id": "5mWABB6OHdh6"
      },
      "source": [
        "Classification Report"
      ]
    },
    {
      "cell_type": "code",
      "metadata": {
        "id": "mgw9QBV-GDQY",
        "outputId": "4ed98f21-5a67-48ef-8877-4023b01ccdae",
        "colab": {
          "base_uri": "https://localhost:8080/",
          "height": 326
        }
      },
      "source": [
        "print(classification_report(y_test,y_pred))"
      ],
      "execution_count": 19,
      "outputs": [
        {
          "output_type": "stream",
          "text": [
            "              precision    recall  f1-score   support\n",
            "\n",
            "           0       0.87      0.81      0.84      1000\n",
            "           1       0.99      0.98      0.98      1000\n",
            "           2       0.83      0.82      0.83      1000\n",
            "           3       0.88      0.92      0.90      1000\n",
            "           4       0.82      0.82      0.82      1000\n",
            "           5       0.97      0.98      0.98      1000\n",
            "           6       0.71      0.75      0.73      1000\n",
            "           7       0.93      0.98      0.95      1000\n",
            "           8       0.97      0.97      0.97      1000\n",
            "           9       0.99      0.93      0.96      1000\n",
            "\n",
            "    accuracy                           0.90     10000\n",
            "   macro avg       0.90      0.90      0.90     10000\n",
            "weighted avg       0.90      0.90      0.90     10000\n",
            "\n"
          ],
          "name": "stdout"
        }
      ]
    },
    {
      "cell_type": "markdown",
      "metadata": {
        "id": "q2HKlGjW4b4_"
      },
      "source": [
        "Class 1,6,5,7,8,9"
      ]
    },
    {
      "cell_type": "code",
      "metadata": {
        "id": "-TujcRtB441Z",
        "outputId": "140070be-1b14-47a5-987b-661ef3c8c9e6",
        "colab": {
          "base_uri": "https://localhost:8080/",
          "height": 126
        }
      },
      "source": [
        "[(i,c) for i,c in enumerate(class_names) if i in [1,6,5,7,8,9]]"
      ],
      "execution_count": 20,
      "outputs": [
        {
          "output_type": "execute_result",
          "data": {
            "text/plain": [
              "[(1, 'Trouser'),\n",
              " (5, 'Sandal'),\n",
              " (6, 'Shirt'),\n",
              " (7, 'Sneaker'),\n",
              " (8, 'Bag'),\n",
              " (9, 'Ankle boot')]"
            ]
          },
          "metadata": {
            "tags": []
          },
          "execution_count": 20
        }
      ]
    },
    {
      "cell_type": "markdown",
      "metadata": {
        "id": "vC_eM6wa4PPe"
      },
      "source": [
        "**Write a summary for the best and worst performing class and the overall trend.**<br>\n",
        "Classes Trouser, Sandal, Sneaker, Bag and Ankle Boot are best performing classes compared to others from confusion matrix as well as from F1- Score, however some of it are performming better in this model, the worst one is Shirt because the T-Shirt and Shirt has lot of resemblance<br>\n",
        "**With respect to trend**<br>\n",
        "Even though the training loss is converging and training accuracy is increasing however validation attained its peak way before training in the epochs and saturated "
      ]
    },
    {
      "cell_type": "code",
      "metadata": {
        "id": "61sXBZV-F3D_"
      },
      "source": [
        ""
      ],
      "execution_count": 20,
      "outputs": []
    },
    {
      "cell_type": "markdown",
      "metadata": {
        "id": "pGybPA4qB0Za"
      },
      "source": [
        "## Comparison of Vanilla, No Regularization and Network Depth models\n",
        "\n",
        "Things observed in all three different models are validation does not seem to improve after some epochs during the training , also all three models scored closer to 90% accuracy on the test data and finally the worst performing class and best forming class is same in all three models. \n",
        "\n",
        "In No regularization model the validation loss seem to be reached its minimum but suddenly started surging towards higher even though the training loss continue to reaching its minimum"
      ]
    },
    {
      "cell_type": "code",
      "metadata": {
        "id": "nlH_qGNPFMPu"
      },
      "source": [
        ""
      ],
      "execution_count": 20,
      "outputs": []
    }
  ]
}