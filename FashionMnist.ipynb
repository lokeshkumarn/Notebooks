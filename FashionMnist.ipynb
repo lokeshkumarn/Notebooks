{
  "nbformat": 4,
  "nbformat_minor": 0,
  "metadata": {
    "colab": {
      "name": "FashionMnist.ipynb",
      "provenance": [],
      "collapsed_sections": [],
      "authorship_tag": "ABX9TyP4IneVfU+WvMALGq3dMr08",
      "include_colab_link": true
    },
    "kernelspec": {
      "name": "python3",
      "display_name": "Python 3"
    },
    "accelerator": "GPU"
  },
  "cells": [
    {
      "cell_type": "markdown",
      "metadata": {
        "id": "view-in-github",
        "colab_type": "text"
      },
      "source": [
        "<a href=\"https://colab.research.google.com/github/lokeshkumarn/Notebooks/blob/master/FashionMnist.ipynb\" target=\"_parent\"><img src=\"https://colab.research.google.com/assets/colab-badge.svg\" alt=\"Open In Colab\"/></a>"
      ]
    },
    {
      "cell_type": "markdown",
      "metadata": {
        "id": "JD5tc8Rnz19H"
      },
      "source": [
        "## Import Libraries/Dataset"
      ]
    },
    {
      "cell_type": "markdown",
      "metadata": {
        "id": "Y0hvLOW-z5ZE"
      },
      "source": [
        "### Import Libraries"
      ]
    },
    {
      "cell_type": "code",
      "metadata": {
        "id": "kA0jIJ60zM80"
      },
      "source": [
        "import time\n",
        "import tensorflow as tf\n",
        "from tensorflow.python.client import device_lib\n",
        "from google.colab import drive\n",
        "\n",
        "import pandas as pd\n",
        "import numpy as np\n",
        "import random as rd\n",
        "\n",
        "from tensorflow import keras\n",
        "\n",
        "import tensorflow_hub as hub\n",
        "import tensorflow_datasets as tfds\n",
        "\n",
        "from sklearn.model_selection import train_test_split\n",
        "from sklearn.metrics import confusion_matrix,classification_report\n",
        "\n",
        "from matplotlib import pyplot as plt\n",
        "import seaborn as sns"
      ],
      "execution_count": 67,
      "outputs": []
    },
    {
      "cell_type": "code",
      "metadata": {
        "id": "C83BzTAIz8Oy"
      },
      "source": [
        "rd.seed(2020)         # Initialize the random number generator.\n",
        "np.random.seed(2020)      # With the seed reset, the same set of numbers will appear every time. \n",
        "tf.random.set_seed(2020)  # sets the graph-level random seed"
      ],
      "execution_count": 2,
      "outputs": []
    },
    {
      "cell_type": "markdown",
      "metadata": {
        "id": "4HbAJi9f0JDL"
      },
      "source": [
        "### Import Dataset"
      ]
    },
    {
      "cell_type": "markdown",
      "metadata": {
        "id": "kVG2N6vL0MUB"
      },
      "source": [
        "Load dataset from TF"
      ]
    },
    {
      "cell_type": "code",
      "metadata": {
        "id": "stoIQKhd31bP"
      },
      "source": [
        "fashion_mnist = tf.keras.datasets.fashion_mnist\n",
        "\n",
        "(X_train, y_train), (X_test, y_test) = fashion_mnist.load_data()"
      ],
      "execution_count": 3,
      "outputs": []
    },
    {
      "cell_type": "markdown",
      "metadata": {
        "id": "Gx_7qt1J2jZA"
      },
      "source": [
        "### Check GPU"
      ]
    },
    {
      "cell_type": "code",
      "metadata": {
        "id": "9ee0VdCA2R3g",
        "outputId": "21100d10-9b2c-4eca-b1d8-5a89d80a48a6",
        "colab": {
          "base_uri": "https://localhost:8080/",
          "height": 35
        }
      },
      "source": [
        "def get_available_gpus():\n",
        "    local_device_protos = device_lib.list_local_devices()\n",
        "    return [x.name for x in local_device_protos if x.device_type == 'GPU' ]\n",
        "\n",
        "gpu_lst = get_available_gpus()\n",
        "\n",
        "if(len(gpu_lst) > 0):\n",
        "  print(\"GPU Enabled\")\n",
        "else:\n",
        "  print(\"GPU Disabled\")"
      ],
      "execution_count": 4,
      "outputs": [
        {
          "output_type": "stream",
          "text": [
            "GPU Enabled\n"
          ],
          "name": "stdout"
        }
      ]
    },
    {
      "cell_type": "markdown",
      "metadata": {
        "id": "HytT9m-122pU"
      },
      "source": [
        "## Data Visualization"
      ]
    },
    {
      "cell_type": "markdown",
      "metadata": {
        "id": "mi_EWfKs26So"
      },
      "source": [
        "Plot at least one sample from each class of the dataset "
      ]
    },
    {
      "cell_type": "code",
      "metadata": {
        "id": "gI1oUcz8447j"
      },
      "source": [
        "class_names = ['T-shirt_top', 'Trouser', 'Pullover', 'Dress', 'Coat',\n",
        "               'Sandal', 'Shirt', 'Sneaker', 'Bag', 'Ankle boot']"
      ],
      "execution_count": 5,
      "outputs": []
    },
    {
      "cell_type": "code",
      "metadata": {
        "id": "-KE6Zev-450T",
        "outputId": "a995cda5-d59c-4e79-d40a-2532b53a950b",
        "colab": {
          "base_uri": "https://localhost:8080/",
          "height": 553
        }
      },
      "source": [
        "fig,ax = plt.subplots(2,5,figsize=(20,10))\n",
        "j = 0\n",
        "for c in enumerate(class_names):\n",
        "  idx = [i for i,v in enumerate(y_train) if c[0] == v][0]\n",
        "  row,col = j, c[0] % 5  \n",
        "  ax[row,col].imshow(X_train[idx])\n",
        "  ax[row,col].set_title(c[1])\n",
        "  if c[0] % 5 == 4:\n",
        "    j = j + 1"
      ],
      "execution_count": 6,
      "outputs": [
        {
          "output_type": "display_data",
          "data": {
            "image/png": "[encoded data removed]",
            "text/plain": [
              "<Figure size 1440x720 with 10 Axes>"
            ]
          },
          "metadata": {
            "tags": [],
            "needs_background": "light"
          }
        }
      ]
    },
    {
      "cell_type": "markdown",
      "metadata": {
        "id": "gHzrJdf994YQ"
      },
      "source": [
        "Print the shapes of train and test data"
      ]
    },
    {
      "cell_type": "code",
      "metadata": {
        "id": "dtdl7u5E937w",
        "outputId": "da582ef0-9350-465a-9890-ed58ae19a64e",
        "colab": {
          "base_uri": "https://localhost:8080/",
          "height": 90
        }
      },
      "source": [
        "print(\"Train Feature Shape:\",X_train.shape)\n",
        "print(\"Train Label Shape:\",y_train.shape)\n",
        "print(\"Test Feature Shape:\",X_test.shape)\n",
        "print(\"Test Label Shape:\",y_test.shape)"
      ],
      "execution_count": 7,
      "outputs": [
        {
          "output_type": "stream",
          "text": [
            "Train Feature Shape: (60000, 28, 28)\n",
            "Train Label Shape: (60000,)\n",
            "Test Feature Shape: (10000, 28, 28)\n",
            "Test Label Shape: (10000,)\n"
          ],
          "name": "stdout"
        }
      ]
    },
    {
      "cell_type": "markdown",
      "metadata": {
        "id": "Ymy9k17o-RJo"
      },
      "source": [
        "## Data Pre-processing "
      ]
    },
    {
      "cell_type": "markdown",
      "metadata": {
        "id": "3itsB5cl-UDg"
      },
      "source": [
        "Bring the train and test data in the required format"
      ]
    },
    {
      "cell_type": "code",
      "metadata": {
        "id": "uY10X1AO0ONB"
      },
      "source": [
        "# Normalize the data\n",
        "X_train = X_train.reshape((60000, 28*28))    # reshape the input set to size 28*28. VEctor of length 784\n",
        "X_train = X_train.astype('float32')/255      # normalize to grayscale; set datatype as float32\n",
        "\n",
        "X_test = X_test.reshape((10000, 28*28))      # reshape the input set to size 28*28. \n",
        "X_test = X_test.astype('float32')/255        # normalize to grayscale; set datatype as float32\n",
        "\n",
        "y_train_enc = tf.keras.utils.to_categorical(y_train)\n",
        "y_test_enc = tf.keras.utils.to_categorical(y_test)"
      ],
      "execution_count": 8,
      "outputs": []
    },
    {
      "cell_type": "code",
      "metadata": {
        "id": "s5UDUzOFAAo2",
        "outputId": "ea44e7be-cb41-442a-9454-c9103dc87af1",
        "colab": {
          "base_uri": "https://localhost:8080/",
          "height": 90
        }
      },
      "source": [
        "#Shapes after reshaping & normalizing\n",
        "print(\"Train Feature Shape:\",X_train.shape)\n",
        "print(\"Train Label Shape:\",y_train.shape)\n",
        "print(\"Test Feature Shape:\",X_test.shape)\n",
        "print(\"Test Label Shape:\",y_test.shape)"
      ],
      "execution_count": 9,
      "outputs": [
        {
          "output_type": "stream",
          "text": [
            "Train Feature Shape: (60000, 784)\n",
            "Train Label Shape: (60000,)\n",
            "Test Feature Shape: (10000, 784)\n",
            "Test Label Shape: (10000,)\n"
          ],
          "name": "stdout"
        }
      ]
    },
    {
      "cell_type": "markdown",
      "metadata": {
        "id": "1cSwk7R0BYeI"
      },
      "source": [
        "## Model Building "
      ]
    },
    {
      "cell_type": "markdown",
      "metadata": {
        "id": "ZKRYn2v4Beuc"
      },
      "source": [
        "a.    Sequential Model layers- Use AT LEAST 3 dense layers with appropriate input for each. Choose the best number for hidden units and give reasons.<br>\n",
        "b.   Add L2 regularization to all the layers.<br>\n",
        "c.    Add one layer of dropout at the appropriate position and give reasons. <br>d.   Choose the appropriate activation function for all the layers.<br>\n",
        "e.   Print the model summary\n"
      ]
    },
    {
      "cell_type": "code",
      "metadata": {
        "id": "zGOR5i2gAISD",
        "outputId": "6c593087-db0d-4f9c-ba04-1afebaff43b4",
        "colab": {
          "base_uri": "https://localhost:8080/",
          "height": 345
        }
      },
      "source": [
        "model = keras.models.Sequential()\n",
        "\n",
        "# Layer 1 = input layer\n",
        "# specify the input size for in the first layer.\n",
        "\n",
        "model.add(keras.layers.Dense(512, activation='relu', input_shape= (28*28,)))\n",
        "\n",
        "# Layer 2 = hidden layer  with Regularizers\n",
        "model.add(keras.layers.Dense(300, activation='relu', kernel_regularizer=keras.regularizers.l2(0.01),\n",
        "                activity_regularizer=keras.regularizers.l2(0.01)) )\n",
        "\n",
        "# Add dropout of 50% to layer 2\n",
        "model.add(keras.layers.Dropout(0.5))\n",
        "\n",
        "# Layer 3 = hidden layer \n",
        "model.add(keras.layers.Dense(64, activation='relu', kernel_regularizer=keras.regularizers.l2(0.01),\n",
        "                activity_regularizer=keras.regularizers.l2(0.01)) )\n",
        "\n",
        "# Layer 4 = output layer\n",
        "model.add(keras.layers.Dense(10, activation='softmax'))\n",
        "\n",
        "model.summary()"
      ],
      "execution_count": 47,
      "outputs": [
        {
          "output_type": "stream",
          "text": [
            "Model: \"sequential_6\"\n",
            "_________________________________________________________________\n",
            "Layer (type)                 Output Shape              Param #   \n",
            "=================================================================\n",
            "dense_24 (Dense)             (None, 512)               401920    \n",
            "_________________________________________________________________\n",
            "dense_25 (Dense)             (None, 256)               131328    \n",
            "_________________________________________________________________\n",
            "dropout_6 (Dropout)          (None, 256)               0         \n",
            "_________________________________________________________________\n",
            "dense_26 (Dense)             (None, 64)                16448     \n",
            "_________________________________________________________________\n",
            "dense_27 (Dense)             (None, 10)                650       \n",
            "=================================================================\n",
            "Total params: 550,346\n",
            "Trainable params: 550,346\n",
            "Non-trainable params: 0\n",
            "_________________________________________________________________\n"
          ],
          "name": "stdout"
        }
      ]
    },
    {
      "cell_type": "markdown",
      "metadata": {
        "id": "zevuXU4IoaCX"
      },
      "source": [
        "**Choose the best number for hidden units and give reasons.**<br>\n",
        "1.The number of hidden neurons should be between the size of the input layer and the size of the output layer.<br>\n",
        "2.The number of hidden neurons should be 2/3 the size of the input layer, plus the size of the output layer.<br>\n",
        "3.The number of hidden neurons should be less than twice the size of the input layer.<br>\n",
        "\n",
        "Reference : [Link](https://www.heatonresearch.com/2017/06/01/hidden-layers.html)\n",
        "\n",
        "Even though I  didn't completely followed the rules in the reference because the number of hidden layers is not more than 4 so wanted reduce the parameters to learn (will discuss about dropout next) before the output layer"
      ]
    },
    {
      "cell_type": "markdown",
      "metadata": {
        "id": "zrajbvjgvYDS"
      },
      "source": [
        "**Give reasons for the dropout**<br>\n",
        "Dropout of 0.5 is to drastically reduce the parameters and also generalize better on the unseen data points"
      ]
    },
    {
      "cell_type": "markdown",
      "metadata": {
        "id": "9miE-oRDCpQH"
      },
      "source": [
        "## Model Compilation "
      ]
    },
    {
      "cell_type": "markdown",
      "metadata": {
        "id": "lQdmgbauDjJY"
      },
      "source": [
        "a.Compile the model with the appropriate loss function. - **categorical_crossentropy** - multiclass classification<br>\n",
        "b.Use an appropriate optimizer - **Adam**.<br>\n",
        "c.Use **accuracy** as metric."
      ]
    },
    {
      "cell_type": "code",
      "metadata": {
        "id": "dnGSp7T9Bq8G"
      },
      "source": [
        "model.compile(optimizer=tf.keras.optimizers.Adam(learning_rate=0.001,name='Adam'),\n",
        "              loss = 'categorical_crossentropy', \n",
        "              metrics=['accuracy'] )"
      ],
      "execution_count": 48,
      "outputs": []
    },
    {
      "cell_type": "markdown",
      "metadata": {
        "id": "1re7ENXskQLi"
      },
      "source": [
        "**Give reasons for the choice of learning rate and its value**<br>\n",
        "Learning rate of 0.001 is choosen, because too high would rollover the minima and I have tried giving the higher learning rate like 0.4, 0.2, 0.1, 0.01 the loss doesn't seem to converge to minima, so decided to lower the learning rate further so that weight update is minimum and proceeds towards the convergence or global minima "
      ]
    },
    {
      "cell_type": "markdown",
      "metadata": {
        "id": "Xc53v450EHvg"
      },
      "source": [
        "##Model Training "
      ]
    },
    {
      "cell_type": "code",
      "metadata": {
        "id": "pq6Bj-WrD0Qa",
        "outputId": "56a8702d-a877-4196-ca40-422b5ec4a5f6",
        "colab": {
          "base_uri": "https://localhost:8080/",
          "height": 1000
        }
      },
      "source": [
        "start_train = time.time()\n",
        "history = model.fit(X_train,\n",
        "                    y_train_enc,\n",
        "                    epochs=100,\n",
        "                    batch_size=1000,\n",
        "                    validation_split=0.2,\n",
        "                    verbose=1)\n",
        "end_train = time.time()"
      ],
      "execution_count": 49,
      "outputs": [
        {
          "output_type": "stream",
          "text": [
            "Epoch 1/100\n",
            "48/48 [==============================] - 1s 13ms/step - loss: 4.1169 - accuracy: 0.6657 - val_loss: 2.3178 - val_accuracy: 0.8066\n",
            "Epoch 2/100\n",
            "48/48 [==============================] - 0s 9ms/step - loss: 1.7262 - accuracy: 0.8187 - val_loss: 1.2320 - val_accuracy: 0.8423\n",
            "Epoch 3/100\n",
            "48/48 [==============================] - 0s 9ms/step - loss: 1.0913 - accuracy: 0.8444 - val_loss: 0.9220 - val_accuracy: 0.8574\n",
            "Epoch 4/100\n",
            "48/48 [==============================] - 0s 9ms/step - loss: 0.8769 - accuracy: 0.8589 - val_loss: 0.7941 - val_accuracy: 0.8650\n",
            "Epoch 5/100\n",
            "48/48 [==============================] - 0s 9ms/step - loss: 0.7773 - accuracy: 0.8664 - val_loss: 0.7262 - val_accuracy: 0.8698\n",
            "Epoch 6/100\n",
            "48/48 [==============================] - 0s 9ms/step - loss: 0.7209 - accuracy: 0.8707 - val_loss: 0.6857 - val_accuracy: 0.8709\n",
            "Epoch 7/100\n",
            "48/48 [==============================] - 0s 9ms/step - loss: 0.6786 - accuracy: 0.8756 - val_loss: 0.6639 - val_accuracy: 0.8705\n",
            "Epoch 8/100\n",
            "48/48 [==============================] - 0s 9ms/step - loss: 0.6444 - accuracy: 0.8802 - val_loss: 0.6258 - val_accuracy: 0.8769\n",
            "Epoch 9/100\n",
            "48/48 [==============================] - 0s 9ms/step - loss: 0.6200 - accuracy: 0.8846 - val_loss: 0.6084 - val_accuracy: 0.8771\n",
            "Epoch 10/100\n",
            "48/48 [==============================] - 0s 9ms/step - loss: 0.5970 - accuracy: 0.8878 - val_loss: 0.5894 - val_accuracy: 0.8814\n",
            "Epoch 11/100\n",
            "48/48 [==============================] - 0s 9ms/step - loss: 0.5787 - accuracy: 0.8896 - val_loss: 0.5766 - val_accuracy: 0.8844\n",
            "Epoch 12/100\n",
            "48/48 [==============================] - 0s 9ms/step - loss: 0.5597 - accuracy: 0.8926 - val_loss: 0.5682 - val_accuracy: 0.8822\n",
            "Epoch 13/100\n",
            "48/48 [==============================] - 0s 9ms/step - loss: 0.5494 - accuracy: 0.8943 - val_loss: 0.5493 - val_accuracy: 0.8877\n",
            "Epoch 14/100\n",
            "48/48 [==============================] - 0s 9ms/step - loss: 0.5355 - accuracy: 0.8959 - val_loss: 0.5429 - val_accuracy: 0.8867\n",
            "Epoch 15/100\n",
            "48/48 [==============================] - 0s 9ms/step - loss: 0.5237 - accuracy: 0.8983 - val_loss: 0.5335 - val_accuracy: 0.8859\n",
            "Epoch 16/100\n",
            "48/48 [==============================] - 0s 9ms/step - loss: 0.5108 - accuracy: 0.8997 - val_loss: 0.5225 - val_accuracy: 0.8890\n",
            "Epoch 17/100\n",
            "48/48 [==============================] - 0s 9ms/step - loss: 0.5001 - accuracy: 0.9027 - val_loss: 0.5218 - val_accuracy: 0.8890\n",
            "Epoch 18/100\n",
            "48/48 [==============================] - 0s 9ms/step - loss: 0.4902 - accuracy: 0.9036 - val_loss: 0.5093 - val_accuracy: 0.8881\n",
            "Epoch 19/100\n",
            "48/48 [==============================] - 0s 9ms/step - loss: 0.4774 - accuracy: 0.9074 - val_loss: 0.5073 - val_accuracy: 0.8889\n",
            "Epoch 20/100\n",
            "48/48 [==============================] - 0s 9ms/step - loss: 0.4739 - accuracy: 0.9070 - val_loss: 0.5010 - val_accuracy: 0.8908\n",
            "Epoch 21/100\n",
            "48/48 [==============================] - 0s 9ms/step - loss: 0.4634 - accuracy: 0.9093 - val_loss: 0.4919 - val_accuracy: 0.8940\n",
            "Epoch 22/100\n",
            "48/48 [==============================] - 0s 9ms/step - loss: 0.4564 - accuracy: 0.9108 - val_loss: 0.4963 - val_accuracy: 0.8920\n",
            "Epoch 23/100\n",
            "48/48 [==============================] - 0s 9ms/step - loss: 0.4467 - accuracy: 0.9127 - val_loss: 0.4871 - val_accuracy: 0.8916\n",
            "Epoch 24/100\n",
            "48/48 [==============================] - 0s 9ms/step - loss: 0.4412 - accuracy: 0.9145 - val_loss: 0.4846 - val_accuracy: 0.8909\n",
            "Epoch 25/100\n",
            "48/48 [==============================] - 0s 9ms/step - loss: 0.4359 - accuracy: 0.9150 - val_loss: 0.4752 - val_accuracy: 0.8934\n",
            "Epoch 26/100\n",
            "48/48 [==============================] - 0s 9ms/step - loss: 0.4266 - accuracy: 0.9179 - val_loss: 0.4819 - val_accuracy: 0.8893\n",
            "Epoch 27/100\n",
            "48/48 [==============================] - 0s 9ms/step - loss: 0.4256 - accuracy: 0.9178 - val_loss: 0.4986 - val_accuracy: 0.8823\n",
            "Epoch 28/100\n",
            "48/48 [==============================] - 0s 9ms/step - loss: 0.4181 - accuracy: 0.9188 - val_loss: 0.4635 - val_accuracy: 0.8943\n",
            "Epoch 29/100\n",
            "48/48 [==============================] - 0s 9ms/step - loss: 0.4161 - accuracy: 0.9195 - val_loss: 0.4688 - val_accuracy: 0.8924\n",
            "Epoch 30/100\n",
            "48/48 [==============================] - 0s 9ms/step - loss: 0.4050 - accuracy: 0.9218 - val_loss: 0.4580 - val_accuracy: 0.8942\n",
            "Epoch 31/100\n",
            "48/48 [==============================] - 0s 9ms/step - loss: 0.3991 - accuracy: 0.9245 - val_loss: 0.4517 - val_accuracy: 0.8986\n",
            "Epoch 32/100\n",
            "48/48 [==============================] - 0s 9ms/step - loss: 0.3924 - accuracy: 0.9263 - val_loss: 0.4505 - val_accuracy: 0.8969\n",
            "Epoch 33/100\n",
            "48/48 [==============================] - 0s 9ms/step - loss: 0.3936 - accuracy: 0.9239 - val_loss: 0.4649 - val_accuracy: 0.8907\n",
            "Epoch 34/100\n",
            "48/48 [==============================] - 0s 9ms/step - loss: 0.3896 - accuracy: 0.9253 - val_loss: 0.4615 - val_accuracy: 0.8947\n",
            "Epoch 35/100\n",
            "48/48 [==============================] - 0s 9ms/step - loss: 0.3800 - accuracy: 0.9281 - val_loss: 0.4430 - val_accuracy: 0.8998\n",
            "Epoch 36/100\n",
            "48/48 [==============================] - 0s 9ms/step - loss: 0.3738 - accuracy: 0.9295 - val_loss: 0.4461 - val_accuracy: 0.8985\n",
            "Epoch 37/100\n",
            "48/48 [==============================] - 0s 9ms/step - loss: 0.3709 - accuracy: 0.9308 - val_loss: 0.4537 - val_accuracy: 0.8942\n",
            "Epoch 38/100\n",
            "48/48 [==============================] - 0s 9ms/step - loss: 0.3628 - accuracy: 0.9334 - val_loss: 0.4344 - val_accuracy: 0.9016\n",
            "Epoch 39/100\n",
            "48/48 [==============================] - 0s 9ms/step - loss: 0.3661 - accuracy: 0.9303 - val_loss: 0.4448 - val_accuracy: 0.8982\n",
            "Epoch 40/100\n",
            "48/48 [==============================] - 0s 10ms/step - loss: 0.3603 - accuracy: 0.9334 - val_loss: 0.4487 - val_accuracy: 0.8935\n",
            "Epoch 41/100\n",
            "48/48 [==============================] - 1s 11ms/step - loss: 0.3501 - accuracy: 0.9362 - val_loss: 0.4358 - val_accuracy: 0.8987\n",
            "Epoch 42/100\n",
            "48/48 [==============================] - 0s 10ms/step - loss: 0.3465 - accuracy: 0.9369 - val_loss: 0.4320 - val_accuracy: 0.8993\n",
            "Epoch 43/100\n",
            "48/48 [==============================] - 0s 9ms/step - loss: 0.3425 - accuracy: 0.9386 - val_loss: 0.4328 - val_accuracy: 0.8997\n",
            "Epoch 44/100\n",
            "48/48 [==============================] - 0s 9ms/step - loss: 0.3409 - accuracy: 0.9384 - val_loss: 0.4295 - val_accuracy: 0.8981\n",
            "Epoch 45/100\n",
            "48/48 [==============================] - 0s 9ms/step - loss: 0.3390 - accuracy: 0.9376 - val_loss: 0.4343 - val_accuracy: 0.8977\n",
            "Epoch 46/100\n",
            "48/48 [==============================] - 0s 9ms/step - loss: 0.3286 - accuracy: 0.9417 - val_loss: 0.4420 - val_accuracy: 0.8961\n",
            "Epoch 47/100\n",
            "48/48 [==============================] - 0s 9ms/step - loss: 0.3335 - accuracy: 0.9395 - val_loss: 0.4278 - val_accuracy: 0.8992\n",
            "Epoch 48/100\n",
            "48/48 [==============================] - 0s 9ms/step - loss: 0.3224 - accuracy: 0.9441 - val_loss: 0.4281 - val_accuracy: 0.8979\n",
            "Epoch 49/100\n",
            "48/48 [==============================] - 0s 9ms/step - loss: 0.3187 - accuracy: 0.9439 - val_loss: 0.4350 - val_accuracy: 0.8976\n",
            "Epoch 50/100\n",
            "48/48 [==============================] - 0s 9ms/step - loss: 0.3173 - accuracy: 0.9439 - val_loss: 0.4288 - val_accuracy: 0.8987\n",
            "Epoch 51/100\n",
            "48/48 [==============================] - 0s 9ms/step - loss: 0.3121 - accuracy: 0.9471 - val_loss: 0.4210 - val_accuracy: 0.9018\n",
            "Epoch 52/100\n",
            "48/48 [==============================] - 0s 9ms/step - loss: 0.3061 - accuracy: 0.9486 - val_loss: 0.4197 - val_accuracy: 0.9007\n",
            "Epoch 53/100\n",
            "48/48 [==============================] - 0s 9ms/step - loss: 0.3039 - accuracy: 0.9489 - val_loss: 0.4275 - val_accuracy: 0.9013\n",
            "Epoch 54/100\n",
            "48/48 [==============================] - 0s 9ms/step - loss: 0.3022 - accuracy: 0.9498 - val_loss: 0.4296 - val_accuracy: 0.8980\n",
            "Epoch 55/100\n",
            "48/48 [==============================] - 0s 9ms/step - loss: 0.3013 - accuracy: 0.9494 - val_loss: 0.4327 - val_accuracy: 0.8975\n",
            "Epoch 56/100\n",
            "48/48 [==============================] - 0s 9ms/step - loss: 0.3005 - accuracy: 0.9491 - val_loss: 0.4346 - val_accuracy: 0.8987\n",
            "Epoch 57/100\n",
            "48/48 [==============================] - 0s 9ms/step - loss: 0.2999 - accuracy: 0.9490 - val_loss: 0.4271 - val_accuracy: 0.8987\n",
            "Epoch 58/100\n",
            "48/48 [==============================] - 0s 9ms/step - loss: 0.2895 - accuracy: 0.9526 - val_loss: 0.4191 - val_accuracy: 0.9007\n",
            "Epoch 59/100\n",
            "48/48 [==============================] - 0s 9ms/step - loss: 0.2869 - accuracy: 0.9536 - val_loss: 0.4266 - val_accuracy: 0.9003\n",
            "Epoch 60/100\n",
            "48/48 [==============================] - 0s 9ms/step - loss: 0.2819 - accuracy: 0.9548 - val_loss: 0.4141 - val_accuracy: 0.9038\n",
            "Epoch 61/100\n",
            "48/48 [==============================] - 0s 9ms/step - loss: 0.2768 - accuracy: 0.9570 - val_loss: 0.4205 - val_accuracy: 0.9003\n",
            "Epoch 62/100\n",
            "48/48 [==============================] - 0s 9ms/step - loss: 0.2804 - accuracy: 0.9542 - val_loss: 0.4214 - val_accuracy: 0.8989\n",
            "Epoch 63/100\n",
            "48/48 [==============================] - 0s 9ms/step - loss: 0.2777 - accuracy: 0.9545 - val_loss: 0.4158 - val_accuracy: 0.9004\n",
            "Epoch 64/100\n",
            "48/48 [==============================] - 0s 9ms/step - loss: 0.2717 - accuracy: 0.9563 - val_loss: 0.4229 - val_accuracy: 0.8986\n",
            "Epoch 65/100\n",
            "48/48 [==============================] - 0s 9ms/step - loss: 0.2695 - accuracy: 0.9595 - val_loss: 0.4274 - val_accuracy: 0.8997\n",
            "Epoch 66/100\n",
            "48/48 [==============================] - 0s 9ms/step - loss: 0.2672 - accuracy: 0.9592 - val_loss: 0.4356 - val_accuracy: 0.8957\n",
            "Epoch 67/100\n",
            "48/48 [==============================] - 0s 9ms/step - loss: 0.2631 - accuracy: 0.9592 - val_loss: 0.4095 - val_accuracy: 0.9037\n",
            "Epoch 68/100\n",
            "48/48 [==============================] - 0s 9ms/step - loss: 0.2588 - accuracy: 0.9611 - val_loss: 0.4276 - val_accuracy: 0.8983\n",
            "Epoch 69/100\n",
            "48/48 [==============================] - 0s 10ms/step - loss: 0.2591 - accuracy: 0.9597 - val_loss: 0.4137 - val_accuracy: 0.9022\n",
            "Epoch 70/100\n",
            "48/48 [==============================] - 0s 9ms/step - loss: 0.2549 - accuracy: 0.9623 - val_loss: 0.4207 - val_accuracy: 0.9001\n",
            "Epoch 71/100\n",
            "48/48 [==============================] - 0s 9ms/step - loss: 0.2523 - accuracy: 0.9626 - val_loss: 0.4202 - val_accuracy: 0.9002\n",
            "Epoch 72/100\n",
            "48/48 [==============================] - 0s 9ms/step - loss: 0.2497 - accuracy: 0.9638 - val_loss: 0.4139 - val_accuracy: 0.9016\n",
            "Epoch 73/100\n",
            "48/48 [==============================] - 0s 9ms/step - loss: 0.2495 - accuracy: 0.9630 - val_loss: 0.4242 - val_accuracy: 0.8973\n",
            "Epoch 74/100\n",
            "48/48 [==============================] - 0s 9ms/step - loss: 0.2434 - accuracy: 0.9650 - val_loss: 0.4188 - val_accuracy: 0.8997\n",
            "Epoch 75/100\n",
            "48/48 [==============================] - 0s 9ms/step - loss: 0.2439 - accuracy: 0.9653 - val_loss: 0.4316 - val_accuracy: 0.8938\n",
            "Epoch 76/100\n",
            "48/48 [==============================] - 0s 9ms/step - loss: 0.2373 - accuracy: 0.9664 - val_loss: 0.4113 - val_accuracy: 0.9032\n",
            "Epoch 77/100\n",
            "48/48 [==============================] - 0s 9ms/step - loss: 0.2408 - accuracy: 0.9644 - val_loss: 0.4231 - val_accuracy: 0.8982\n",
            "Epoch 78/100\n",
            "48/48 [==============================] - 0s 9ms/step - loss: 0.2409 - accuracy: 0.9656 - val_loss: 0.4194 - val_accuracy: 0.9006\n",
            "Epoch 79/100\n",
            "48/48 [==============================] - 0s 9ms/step - loss: 0.2350 - accuracy: 0.9668 - val_loss: 0.4321 - val_accuracy: 0.8964\n",
            "Epoch 80/100\n",
            "48/48 [==============================] - 0s 9ms/step - loss: 0.2369 - accuracy: 0.9650 - val_loss: 0.4133 - val_accuracy: 0.9019\n",
            "Epoch 81/100\n",
            "48/48 [==============================] - 0s 9ms/step - loss: 0.2287 - accuracy: 0.9688 - val_loss: 0.4175 - val_accuracy: 0.9008\n",
            "Epoch 82/100\n",
            "48/48 [==============================] - 0s 9ms/step - loss: 0.2250 - accuracy: 0.9701 - val_loss: 0.4152 - val_accuracy: 0.9033\n",
            "Epoch 83/100\n",
            "48/48 [==============================] - 0s 9ms/step - loss: 0.2267 - accuracy: 0.9689 - val_loss: 0.4115 - val_accuracy: 0.9003\n",
            "Epoch 84/100\n",
            "48/48 [==============================] - 0s 9ms/step - loss: 0.2281 - accuracy: 0.9674 - val_loss: 0.4228 - val_accuracy: 0.8996\n",
            "Epoch 85/100\n",
            "48/48 [==============================] - 0s 9ms/step - loss: 0.2180 - accuracy: 0.9717 - val_loss: 0.4190 - val_accuracy: 0.9003\n",
            "Epoch 86/100\n",
            "48/48 [==============================] - 0s 9ms/step - loss: 0.2171 - accuracy: 0.9719 - val_loss: 0.4181 - val_accuracy: 0.8992\n",
            "Epoch 87/100\n",
            "48/48 [==============================] - 0s 9ms/step - loss: 0.2122 - accuracy: 0.9744 - val_loss: 0.4260 - val_accuracy: 0.8978\n",
            "Epoch 88/100\n",
            "48/48 [==============================] - 0s 9ms/step - loss: 0.2137 - accuracy: 0.9722 - val_loss: 0.4175 - val_accuracy: 0.9000\n",
            "Epoch 89/100\n",
            "48/48 [==============================] - 0s 10ms/step - loss: 0.2130 - accuracy: 0.9724 - val_loss: 0.4174 - val_accuracy: 0.9001\n",
            "Epoch 90/100\n",
            "48/48 [==============================] - 0s 9ms/step - loss: 0.2128 - accuracy: 0.9719 - val_loss: 0.4264 - val_accuracy: 0.8979\n",
            "Epoch 91/100\n",
            "48/48 [==============================] - 0s 9ms/step - loss: 0.2093 - accuracy: 0.9737 - val_loss: 0.4314 - val_accuracy: 0.8969\n",
            "Epoch 92/100\n",
            "48/48 [==============================] - 0s 9ms/step - loss: 0.2105 - accuracy: 0.9731 - val_loss: 0.4161 - val_accuracy: 0.9017\n",
            "Epoch 93/100\n",
            "48/48 [==============================] - 0s 9ms/step - loss: 0.2020 - accuracy: 0.9762 - val_loss: 0.4272 - val_accuracy: 0.8981\n",
            "Epoch 94/100\n",
            "48/48 [==============================] - 0s 10ms/step - loss: 0.2024 - accuracy: 0.9756 - val_loss: 0.4136 - val_accuracy: 0.9015\n",
            "Epoch 95/100\n",
            "48/48 [==============================] - 0s 9ms/step - loss: 0.1988 - accuracy: 0.9767 - val_loss: 0.4151 - val_accuracy: 0.9011\n",
            "Epoch 96/100\n",
            "48/48 [==============================] - 0s 10ms/step - loss: 0.1979 - accuracy: 0.9764 - val_loss: 0.4150 - val_accuracy: 0.8997\n",
            "Epoch 97/100\n",
            "48/48 [==============================] - 0s 10ms/step - loss: 0.1935 - accuracy: 0.9766 - val_loss: 0.4174 - val_accuracy: 0.9005\n",
            "Epoch 98/100\n",
            "48/48 [==============================] - 0s 9ms/step - loss: 0.1950 - accuracy: 0.9768 - val_loss: 0.4139 - val_accuracy: 0.9004\n",
            "Epoch 99/100\n",
            "48/48 [==============================] - 0s 9ms/step - loss: 0.1926 - accuracy: 0.9774 - val_loss: 0.4161 - val_accuracy: 0.8990\n",
            "Epoch 100/100\n",
            "48/48 [==============================] - 0s 9ms/step - loss: 0.1956 - accuracy: 0.9764 - val_loss: 0.4372 - val_accuracy: 0.8967\n"
          ],
          "name": "stdout"
        }
      ]
    },
    {
      "cell_type": "markdown",
      "metadata": {
        "id": "5MqvD05-pFUd"
      },
      "source": [
        "Print the total time taken for training"
      ]
    },
    {
      "cell_type": "code",
      "metadata": {
        "id": "bMhNqDblpGNF",
        "outputId": "f5c4ba61-0024-4818-93e1-9c9a17345575",
        "colab": {
          "base_uri": "https://localhost:8080/",
          "height": 35
        }
      },
      "source": [
        "#Time taken to train\n",
        "print(\"Time taken to train the NN:\",end_train - start_train,\" seconds\")"
      ],
      "execution_count": 50,
      "outputs": [
        {
          "output_type": "stream",
          "text": [
            "Time taken to train the NN: 46.165775537490845  seconds\n"
          ],
          "name": "stdout"
        }
      ]
    },
    {
      "cell_type": "markdown",
      "metadata": {
        "id": "qbx2RIECEjz5"
      },
      "source": [
        "Plot the loss and accuracy history graphs"
      ]
    },
    {
      "cell_type": "code",
      "metadata": {
        "id": "Q-kyFEc_CxDn",
        "outputId": "4fb26235-2bc0-4087-d346-bccb58fc1ef2",
        "colab": {
          "base_uri": "https://localhost:8080/",
          "height": 368
        }
      },
      "source": [
        "history_dict = history.history\n",
        "print(history_dict.keys())\n",
        "\n",
        "acc = history_dict['accuracy']\n",
        "val_acc = history_dict['val_accuracy']\n",
        "loss = history_dict['loss']\n",
        "val_loss = history_dict['val_loss']\n",
        "\n",
        "epochs = range(1, len(acc) + 1)\n",
        "\n",
        "fix,ax = plt.subplots(1,2, figsize=(15,5))\n",
        "ax1 = ax[0] # to plot Training Loss\n",
        "ax2 = ax[1] # to plot Training Accuracy\n",
        "ax1.plot(epochs, loss, label='Training loss')\n",
        "ax1.plot(epochs, val_loss,  label='Validation loss')\n",
        "ax1.set_title('Training and validation loss')\n",
        "ax1.set_xlabel('Epochs')\n",
        "ax1.set_ylabel('Loss')\n",
        "ax1.legend()\n",
        "\n",
        "ax2.plot(epochs, acc, label='Training acc')\n",
        "ax2.plot(epochs, val_acc,  label='Validation acc')\n",
        "ax2.set_title('Training and validation accuracy')\n",
        "ax2.set_xlabel('Epochs')\n",
        "ax2.set_ylabel('Accuracy')\n",
        "ax2.legend()\n",
        "\n",
        "plt.show()"
      ],
      "execution_count": 51,
      "outputs": [
        {
          "output_type": "stream",
          "text": [
            "dict_keys(['loss', 'accuracy', 'val_loss', 'val_accuracy'])\n"
          ],
          "name": "stdout"
        },
        {
          "output_type": "display_data",
          "data": {
            "image/png": "[encoded data removed]",
            "text/plain": [
              "<Figure size 1080x360 with 2 Axes>"
            ]
          },
          "metadata": {
            "tags": [],
            "needs_background": "light"
          }
        }
      ]
    },
    {
      "cell_type": "markdown",
      "metadata": {
        "id": "vxY89a0BE663"
      },
      "source": [
        "## Model Evaluation "
      ]
    },
    {
      "cell_type": "markdown",
      "metadata": {
        "id": "fBbD3v6gFRM5"
      },
      "source": [
        "Print the final test/validation loss and accuracy"
      ]
    },
    {
      "cell_type": "code",
      "metadata": {
        "id": "zNZbNg94FRzJ",
        "outputId": "e19a940f-6bdb-4de4-9c36-e85b201dc17d",
        "colab": {
          "base_uri": "https://localhost:8080/",
          "height": 72
        }
      },
      "source": [
        "results = model.evaluate(X_test, y_test_enc)\n",
        "\n",
        "print(\"Test Loss:\",results[0])\n",
        "print(\"Test Accuracy:\",results[1])"
      ],
      "execution_count": 52,
      "outputs": [
        {
          "output_type": "stream",
          "text": [
            "313/313 [==============================] - 1s 4ms/step - loss: 0.4621 - accuracy: 0.8876\n",
            "Test Loss: 0.46214649081230164\n",
            "Test Accuracy: 0.8876000046730042\n"
          ],
          "name": "stdout"
        }
      ]
    },
    {
      "cell_type": "code",
      "metadata": {
        "id": "bkWD3uxaF03a"
      },
      "source": [
        "#Predictions\n",
        "y_pred = model.predict_classes(X_test)"
      ],
      "execution_count": 53,
      "outputs": []
    },
    {
      "cell_type": "markdown",
      "metadata": {
        "id": "5mc06YIYF6Uo"
      },
      "source": [
        "Confusion Matrix"
      ]
    },
    {
      "cell_type": "code",
      "metadata": {
        "id": "eUkqDHoCsyVZ",
        "outputId": "aba4e12c-a5b9-4398-a3d1-89d9280dec18",
        "colab": {
          "base_uri": "https://localhost:8080/",
          "height": 235
        }
      },
      "source": [
        "df = pd.DataFrame({'y_test':y_test,'y_pred':y_pred})\n",
        "df.head()\n",
        "confusion_matrix = pd.crosstab(df['y_test'], df['y_pred'], rownames=['Actual'], colnames=['Predicted'])\n",
        "print(confusion_matrix)"
      ],
      "execution_count": 71,
      "outputs": [
        {
          "output_type": "stream",
          "text": [
            "Predicted    0    1    2    3    4    5    6    7    8    9\n",
            "Actual                                                     \n",
            "0          742    1   11   30    4    1  207    0    4    0\n",
            "1            3  980    0   13    3    0    1    0    0    0\n",
            "2           12    2  770    7   82    0  125    0    2    0\n",
            "3           12   10    6  881   46    0   38    0    7    0\n",
            "4            0    1   70   31  809    0   87    0    2    0\n",
            "5            0    0    0    0    0  969    0   21    2    8\n",
            "6           63    2   44   28   30    0  823    0   10    0\n",
            "7            0    0    0    0    0   11    0  971    1   17\n",
            "8            5    1    4    3    3    2    9    5  968    0\n",
            "9            0    0    0    0    0   11    1   25    0  963\n"
          ],
          "name": "stdout"
        }
      ]
    },
    {
      "cell_type": "code",
      "metadata": {
        "id": "Yu0qeS1eF7DY",
        "outputId": "48b8d036-4fdd-4dd6-b02c-83bc0189bb05",
        "colab": {
          "base_uri": "https://localhost:8080/",
          "height": 504
        }
      },
      "source": [
        "y_pred_cls = [class_names[v] for v in y_pred]\n",
        "y_test_cls= [class_names[v] for v in y_test]\n",
        "\n",
        "df = pd.DataFrame({'y_test':y_test_cls,'y_pred':y_pred_cls})\n",
        "df.head()\n",
        "confusion_matrix = pd.crosstab(df['y_test'], df['y_pred'], rownames=['Actual'], colnames=['Predicted'])\n",
        "# print(confusion_matrix)\n",
        "fig, ax = plt.subplots(figsize=(7,7))     \n",
        "sns.heatmap(confusion_matrix,annot=True,cmap='BuPu',fmt='d',ax=ax)"
      ],
      "execution_count": 72,
      "outputs": [
        {
          "output_type": "execute_result",
          "data": {
            "text/plain": [
              "<matplotlib.axes._subplots.AxesSubplot at 0x7f39fb3d87f0>"
            ]
          },
          "metadata": {
            "tags": []
          },
          "execution_count": 72
        },
        {
          "output_type": "display_data",
          "data": {
            "image/png": "[encoded data removed]",
            "text/plain": [
              "<Figure size 504x504 with 2 Axes>"
            ]
          },
          "metadata": {
            "tags": [],
            "needs_background": "light"
          }
        }
      ]
    },
    {
      "cell_type": "markdown",
      "metadata": {
        "id": "5mWABB6OHdh6"
      },
      "source": [
        "Classification Report"
      ]
    },
    {
      "cell_type": "code",
      "metadata": {
        "id": "mgw9QBV-GDQY",
        "outputId": "b1a1788d-5abd-45bd-a688-f1131c9cba56",
        "colab": {
          "base_uri": "https://localhost:8080/",
          "height": 326
        }
      },
      "source": [
        "print(classification_report(y_test,y_pred))"
      ],
      "execution_count": 19,
      "outputs": [
        {
          "output_type": "stream",
          "text": [
            "              precision    recall  f1-score   support\n",
            "\n",
            "           0       0.85      0.76      0.80      1000\n",
            "           1       0.97      0.96      0.97      1000\n",
            "           2       0.69      0.83      0.76      1000\n",
            "           3       0.85      0.85      0.85      1000\n",
            "           4       0.80      0.70      0.75      1000\n",
            "           5       0.95      0.94      0.95      1000\n",
            "           6       0.62      0.63      0.63      1000\n",
            "           7       0.90      0.96      0.93      1000\n",
            "           8       0.96      0.96      0.96      1000\n",
            "           9       0.97      0.92      0.94      1000\n",
            "\n",
            "    accuracy                           0.85     10000\n",
            "   macro avg       0.86      0.85      0.85     10000\n",
            "weighted avg       0.86      0.85      0.85     10000\n",
            "\n"
          ],
          "name": "stdout"
        }
      ]
    },
    {
      "cell_type": "code",
      "metadata": {
        "id": "GJZgNjyvHgH7"
      },
      "source": [
        ""
      ],
      "execution_count": 19,
      "outputs": []
    },
    {
      "cell_type": "code",
      "metadata": {
        "id": "-fdvU2izF_cT"
      },
      "source": [
        ""
      ],
      "execution_count": 19,
      "outputs": []
    },
    {
      "cell_type": "code",
      "metadata": {
        "id": "61sXBZV-F3D_"
      },
      "source": [
        ""
      ],
      "execution_count": 19,
      "outputs": []
    },
    {
      "cell_type": "code",
      "metadata": {
        "id": "nlH_qGNPFMPu"
      },
      "source": [
        ""
      ],
      "execution_count": 19,
      "outputs": []
    }
  ]
}