{
  "nbformat": 4,
  "nbformat_minor": 0,
  "metadata": {
    "colab": {
      "name": "BankTermDeposit.ipynb",
      "version": "0.3.2",
      "provenance": [],
      "collapsed_sections": [],
      "include_colab_link": true
    },
    "kernelspec": {
      "name": "python3",
      "display_name": "Python 3"
    }
  },
  "cells": [
    {
      "cell_type": "markdown",
      "metadata": {
        "id": "view-in-github",
        "colab_type": "text"
      },
      "source": [
        "<a href=\"https://colab.research.google.com/github/lokeshkumarn/Notebooks/blob/master/BankTermDeposit.ipynb\" target=\"_parent\"><img src=\"https://colab.research.google.com/assets/colab-badge.svg\" alt=\"Open In Colab\"/></a>"
      ]
    },
    {
      "cell_type": "code",
      "metadata": {
        "id": "C2Hi_ENnSCOn",
        "colab_type": "code",
        "colab": {}
      },
      "source": [
        "import os\n",
        "import numpy as np\n",
        "import pandas as pd\n",
        "\n",
        "#Visualizations\n",
        "import matplotlib as mpl\n",
        "from matplotlib import pyplot as plt\n",
        "\n",
        "#Modeling\n",
        "import sklearn"
      ],
      "execution_count": 0,
      "outputs": []
    },
    {
      "cell_type": "markdown",
      "metadata": {
        "id": "F1mCC49eVB4f",
        "colab_type": "text"
      },
      "source": [
        "Load the Data"
      ]
    },
    {
      "cell_type": "code",
      "metadata": {
        "id": "NbJtHWlkU-6F",
        "colab_type": "code",
        "colab": {}
      },
      "source": [
        "data = pd.read_excel('Bank Data for case study assignment.xlsx')"
      ],
      "execution_count": 0,
      "outputs": []
    },
    {
      "cell_type": "code",
      "metadata": {
        "id": "u_BJuB-IVM93",
        "colab_type": "code",
        "colab": {
          "base_uri": "https://localhost:8080/",
          "height": 206
        },
        "outputId": "baa8a1d7-d6bb-48a4-d6cd-270e3823ca32"
      },
      "source": [
        "data.head()"
      ],
      "execution_count": 72,
      "outputs": [
        {
          "output_type": "execute_result",
          "data": {
            "text/html": [
              "<div>\n",
              "<style scoped>\n",
              "    .dataframe tbody tr th:only-of-type {\n",
              "        vertical-align: middle;\n",
              "    }\n",
              "\n",
              "    .dataframe tbody tr th {\n",
              "        vertical-align: top;\n",
              "    }\n",
              "\n",
              "    .dataframe thead th {\n",
              "        text-align: right;\n",
              "    }\n",
              "</style>\n",
              "<table border=\"1\" class=\"dataframe\">\n",
              "  <thead>\n",
              "    <tr style=\"text-align: right;\">\n",
              "      <th></th>\n",
              "      <th>age</th>\n",
              "      <th>job</th>\n",
              "      <th>marital status</th>\n",
              "      <th>education</th>\n",
              "      <th>credit default?</th>\n",
              "      <th>housing loan?</th>\n",
              "      <th>Personal loan</th>\n",
              "      <th>y</th>\n",
              "    </tr>\n",
              "  </thead>\n",
              "  <tbody>\n",
              "    <tr>\n",
              "      <th>0</th>\n",
              "      <td>30</td>\n",
              "      <td>unemployed</td>\n",
              "      <td>married</td>\n",
              "      <td>primary</td>\n",
              "      <td>no</td>\n",
              "      <td>no</td>\n",
              "      <td>no</td>\n",
              "      <td>no</td>\n",
              "    </tr>\n",
              "    <tr>\n",
              "      <th>1</th>\n",
              "      <td>33</td>\n",
              "      <td>services</td>\n",
              "      <td>married</td>\n",
              "      <td>secondary</td>\n",
              "      <td>no</td>\n",
              "      <td>yes</td>\n",
              "      <td>yes</td>\n",
              "      <td>no</td>\n",
              "    </tr>\n",
              "    <tr>\n",
              "      <th>2</th>\n",
              "      <td>35</td>\n",
              "      <td>management</td>\n",
              "      <td>single</td>\n",
              "      <td>tertiary</td>\n",
              "      <td>no</td>\n",
              "      <td>yes</td>\n",
              "      <td>no</td>\n",
              "      <td>no</td>\n",
              "    </tr>\n",
              "    <tr>\n",
              "      <th>3</th>\n",
              "      <td>30</td>\n",
              "      <td>management</td>\n",
              "      <td>married</td>\n",
              "      <td>tertiary</td>\n",
              "      <td>no</td>\n",
              "      <td>yes</td>\n",
              "      <td>yes</td>\n",
              "      <td>no</td>\n",
              "    </tr>\n",
              "    <tr>\n",
              "      <th>4</th>\n",
              "      <td>59</td>\n",
              "      <td>blue-collar</td>\n",
              "      <td>married</td>\n",
              "      <td>secondary</td>\n",
              "      <td>no</td>\n",
              "      <td>yes</td>\n",
              "      <td>no</td>\n",
              "      <td>no</td>\n",
              "    </tr>\n",
              "  </tbody>\n",
              "</table>\n",
              "</div>"
            ],
            "text/plain": [
              "   age          job marital status   ... housing loan? Personal loan   y\n",
              "0   30   unemployed         married  ...            no            no  no\n",
              "1   33     services         married  ...           yes           yes  no\n",
              "2   35   management          single  ...           yes            no  no\n",
              "3   30   management         married  ...           yes           yes  no\n",
              "4   59  blue-collar         married  ...           yes            no  no\n",
              "\n",
              "[5 rows x 8 columns]"
            ]
          },
          "metadata": {
            "tags": []
          },
          "execution_count": 72
        }
      ]
    },
    {
      "cell_type": "markdown",
      "metadata": {
        "id": "ailcQI3TYJQ7",
        "colab_type": "text"
      },
      "source": [
        "Exploratory Data Analysis and Statistical Analysis"
      ]
    },
    {
      "cell_type": "code",
      "metadata": {
        "id": "ZuvbayEOanKS",
        "colab_type": "code",
        "colab": {
          "base_uri": "https://localhost:8080/",
          "height": 73
        },
        "outputId": "ec8d43b9-59ea-48d9-abfc-e9e0831af140"
      },
      "source": [
        "data.columns"
      ],
      "execution_count": 73,
      "outputs": [
        {
          "output_type": "execute_result",
          "data": {
            "text/plain": [
              "Index(['age', 'job', 'marital status ', 'education', 'credit default?',\n",
              "       'housing loan?', 'Personal loan', 'y'],\n",
              "      dtype='object')"
            ]
          },
          "metadata": {
            "tags": []
          },
          "execution_count": 73
        }
      ]
    },
    {
      "cell_type": "markdown",
      "metadata": {
        "id": "_Xi-0CQ-azjv",
        "colab_type": "text"
      },
      "source": [
        "Column Marital Status is having extra space in the end, just rename it without space in the end"
      ]
    },
    {
      "cell_type": "code",
      "metadata": {
        "id": "aroM5xV8a82z",
        "colab_type": "code",
        "colab": {}
      },
      "source": [
        "data.rename(columns={'marital status ':'marital status'},inplace=True)"
      ],
      "execution_count": 0,
      "outputs": []
    },
    {
      "cell_type": "code",
      "metadata": {
        "id": "JMofyp3OVOH2",
        "colab_type": "code",
        "colab": {
          "base_uri": "https://localhost:8080/",
          "height": 259
        },
        "outputId": "a10c831d-461f-4fce-f3ba-46af3242b748"
      },
      "source": [
        "data.info()"
      ],
      "execution_count": 75,
      "outputs": [
        {
          "output_type": "stream",
          "text": [
            "<class 'pandas.core.frame.DataFrame'>\n",
            "RangeIndex: 1021 entries, 0 to 1020\n",
            "Data columns (total 8 columns):\n",
            "age                1021 non-null int64\n",
            "job                1019 non-null object\n",
            "marital status     1020 non-null object\n",
            "education          1020 non-null object\n",
            "credit default?    1020 non-null object\n",
            "housing loan?      1019 non-null object\n",
            "Personal loan      1019 non-null object\n",
            "y                  1021 non-null object\n",
            "dtypes: int64(1), object(7)\n",
            "memory usage: 63.9+ KB\n"
          ],
          "name": "stdout"
        }
      ]
    },
    {
      "cell_type": "markdown",
      "metadata": {
        "id": "SstfMzTCYW_x",
        "colab_type": "text"
      },
      "source": [
        "Total 1021 records in that Marital Status, Education, Credit Default having 1 missing data and Job,Housing Loan, Personal Loan has two missing data"
      ]
    },
    {
      "cell_type": "markdown",
      "metadata": {
        "id": "qaEiEJ9EZ4dc",
        "colab_type": "text"
      },
      "source": [
        "First fill the missing  value for the job"
      ]
    },
    {
      "cell_type": "code",
      "metadata": {
        "id": "RtFxSOStYuJJ",
        "colab_type": "code",
        "colab": {
          "base_uri": "https://localhost:8080/",
          "height": 112
        },
        "outputId": "96ed3b56-6862-4cb0-f247-50ae368a5ac1"
      },
      "source": [
        "data[data['job'].isnull()]"
      ],
      "execution_count": 76,
      "outputs": [
        {
          "output_type": "execute_result",
          "data": {
            "text/html": [
              "<div>\n",
              "<style scoped>\n",
              "    .dataframe tbody tr th:only-of-type {\n",
              "        vertical-align: middle;\n",
              "    }\n",
              "\n",
              "    .dataframe tbody tr th {\n",
              "        vertical-align: top;\n",
              "    }\n",
              "\n",
              "    .dataframe thead th {\n",
              "        text-align: right;\n",
              "    }\n",
              "</style>\n",
              "<table border=\"1\" class=\"dataframe\">\n",
              "  <thead>\n",
              "    <tr style=\"text-align: right;\">\n",
              "      <th></th>\n",
              "      <th>age</th>\n",
              "      <th>job</th>\n",
              "      <th>marital status</th>\n",
              "      <th>education</th>\n",
              "      <th>credit default?</th>\n",
              "      <th>housing loan?</th>\n",
              "      <th>Personal loan</th>\n",
              "      <th>y</th>\n",
              "    </tr>\n",
              "  </thead>\n",
              "  <tbody>\n",
              "    <tr>\n",
              "      <th>79</th>\n",
              "      <td>40</td>\n",
              "      <td>NaN</td>\n",
              "      <td>married</td>\n",
              "      <td>secondary</td>\n",
              "      <td>no</td>\n",
              "      <td>yes</td>\n",
              "      <td>no</td>\n",
              "      <td>no</td>\n",
              "    </tr>\n",
              "    <tr>\n",
              "      <th>1004</th>\n",
              "      <td>42</td>\n",
              "      <td>NaN</td>\n",
              "      <td>single</td>\n",
              "      <td>secondary</td>\n",
              "      <td>no</td>\n",
              "      <td>yes</td>\n",
              "      <td>yes</td>\n",
              "      <td>yes</td>\n",
              "    </tr>\n",
              "  </tbody>\n",
              "</table>\n",
              "</div>"
            ],
            "text/plain": [
              "      age  job marital status  ... housing loan? Personal loan    y\n",
              "79     40  NaN        married  ...           yes            no   no\n",
              "1004   42  NaN         single  ...           yes           yes  yes\n",
              "\n",
              "[2 rows x 8 columns]"
            ]
          },
          "metadata": {
            "tags": []
          },
          "execution_count": 76
        }
      ]
    },
    {
      "cell_type": "markdown",
      "metadata": {
        "id": "IL1guWCbgVy5",
        "colab_type": "text"
      },
      "source": [
        "Taking the first record from above and looking for data whose attribute values are similar to that of the missing value and decide how to replace the missing value"
      ]
    },
    {
      "cell_type": "code",
      "metadata": {
        "id": "iiSw-4YSZ01E",
        "colab_type": "code",
        "colab": {
          "base_uri": "https://localhost:8080/",
          "height": 300
        },
        "outputId": "7230a48b-25df-40ca-91a8-d53c4560d750"
      },
      "source": [
        "data[(data['age']== 40) & \n",
        "     (data['marital status'] =='married') & \n",
        "     (data['education'] =='secondary') & \n",
        "     (data['credit default?'] =='no') & \n",
        "     (data['housing loan?'] =='yes') & \n",
        "     (data['Personal loan'] =='no') & \n",
        "     (data['y'] =='no') & \n",
        "     (data['job'].isnull()==False)]"
      ],
      "execution_count": 78,
      "outputs": [
        {
          "output_type": "execute_result",
          "data": {
            "text/html": [
              "<div>\n",
              "<style scoped>\n",
              "    .dataframe tbody tr th:only-of-type {\n",
              "        vertical-align: middle;\n",
              "    }\n",
              "\n",
              "    .dataframe tbody tr th {\n",
              "        vertical-align: top;\n",
              "    }\n",
              "\n",
              "    .dataframe thead th {\n",
              "        text-align: right;\n",
              "    }\n",
              "</style>\n",
              "<table border=\"1\" class=\"dataframe\">\n",
              "  <thead>\n",
              "    <tr style=\"text-align: right;\">\n",
              "      <th></th>\n",
              "      <th>age</th>\n",
              "      <th>job</th>\n",
              "      <th>marital status</th>\n",
              "      <th>education</th>\n",
              "      <th>credit default?</th>\n",
              "      <th>housing loan?</th>\n",
              "      <th>Personal loan</th>\n",
              "      <th>y</th>\n",
              "    </tr>\n",
              "  </thead>\n",
              "  <tbody>\n",
              "    <tr>\n",
              "      <th>270</th>\n",
              "      <td>40</td>\n",
              "      <td>services</td>\n",
              "      <td>married</td>\n",
              "      <td>secondary</td>\n",
              "      <td>no</td>\n",
              "      <td>yes</td>\n",
              "      <td>no</td>\n",
              "      <td>no</td>\n",
              "    </tr>\n",
              "    <tr>\n",
              "      <th>482</th>\n",
              "      <td>40</td>\n",
              "      <td>technician</td>\n",
              "      <td>married</td>\n",
              "      <td>secondary</td>\n",
              "      <td>no</td>\n",
              "      <td>yes</td>\n",
              "      <td>no</td>\n",
              "      <td>no</td>\n",
              "    </tr>\n",
              "    <tr>\n",
              "      <th>597</th>\n",
              "      <td>40</td>\n",
              "      <td>management</td>\n",
              "      <td>married</td>\n",
              "      <td>secondary</td>\n",
              "      <td>no</td>\n",
              "      <td>yes</td>\n",
              "      <td>no</td>\n",
              "      <td>no</td>\n",
              "    </tr>\n",
              "    <tr>\n",
              "      <th>671</th>\n",
              "      <td>40</td>\n",
              "      <td>technician</td>\n",
              "      <td>married</td>\n",
              "      <td>secondary</td>\n",
              "      <td>no</td>\n",
              "      <td>yes</td>\n",
              "      <td>no</td>\n",
              "      <td>no</td>\n",
              "    </tr>\n",
              "    <tr>\n",
              "      <th>684</th>\n",
              "      <td>40</td>\n",
              "      <td>services</td>\n",
              "      <td>married</td>\n",
              "      <td>secondary</td>\n",
              "      <td>no</td>\n",
              "      <td>yes</td>\n",
              "      <td>no</td>\n",
              "      <td>no</td>\n",
              "    </tr>\n",
              "    <tr>\n",
              "      <th>710</th>\n",
              "      <td>40</td>\n",
              "      <td>technician</td>\n",
              "      <td>married</td>\n",
              "      <td>secondary</td>\n",
              "      <td>no</td>\n",
              "      <td>yes</td>\n",
              "      <td>no</td>\n",
              "      <td>no</td>\n",
              "    </tr>\n",
              "    <tr>\n",
              "      <th>960</th>\n",
              "      <td>40</td>\n",
              "      <td>technician</td>\n",
              "      <td>married</td>\n",
              "      <td>secondary</td>\n",
              "      <td>no</td>\n",
              "      <td>yes</td>\n",
              "      <td>no</td>\n",
              "      <td>no</td>\n",
              "    </tr>\n",
              "    <tr>\n",
              "      <th>1012</th>\n",
              "      <td>40</td>\n",
              "      <td>blue-collar</td>\n",
              "      <td>married</td>\n",
              "      <td>secondary</td>\n",
              "      <td>no</td>\n",
              "      <td>yes</td>\n",
              "      <td>no</td>\n",
              "      <td>no</td>\n",
              "    </tr>\n",
              "  </tbody>\n",
              "</table>\n",
              "</div>"
            ],
            "text/plain": [
              "      age          job marital status  ... housing loan? Personal loan   y\n",
              "270    40     services        married  ...           yes            no  no\n",
              "482    40   technician        married  ...           yes            no  no\n",
              "597    40   management        married  ...           yes            no  no\n",
              "671    40   technician        married  ...           yes            no  no\n",
              "684    40     services        married  ...           yes            no  no\n",
              "710    40   technician        married  ...           yes            no  no\n",
              "960    40   technician        married  ...           yes            no  no\n",
              "1012   40  blue-collar        married  ...           yes            no  no\n",
              "\n",
              "[8 rows x 8 columns]"
            ]
          },
          "metadata": {
            "tags": []
          },
          "execution_count": 78
        }
      ]
    },
    {
      "cell_type": "markdown",
      "metadata": {
        "id": "yewiJsZlcfzJ",
        "colab_type": "text"
      },
      "source": [
        "Taking the Mode and imputing the missing value for job "
      ]
    },
    {
      "cell_type": "code",
      "metadata": {
        "id": "K6pn-zZfb9FA",
        "colab_type": "code",
        "colab": {
          "base_uri": "https://localhost:8080/",
          "height": 54
        },
        "outputId": "66a678be-bdab-4c5e-8bed-3cda10d9662f"
      },
      "source": [
        "data[(data['age']== 40) & \n",
        "     (data['marital status'] =='married') & \n",
        "     (data['education'] =='secondary')& \n",
        "     (data['credit default?'] =='no') & \n",
        "     (data['housing loan?'] =='yes') & \n",
        "     (data['Personal loan'] =='no') & \n",
        "     (data['job'].isnull()==False)]['job'].mode()"
      ],
      "execution_count": 79,
      "outputs": [
        {
          "output_type": "execute_result",
          "data": {
            "text/plain": [
              "0    technician\n",
              "dtype: object"
            ]
          },
          "metadata": {
            "tags": []
          },
          "execution_count": 79
        }
      ]
    },
    {
      "cell_type": "code",
      "metadata": {
        "id": "5pYbAkTEcpYE",
        "colab_type": "code",
        "colab": {
          "base_uri": "https://localhost:8080/",
          "height": 81
        },
        "outputId": "3fcdd7a0-113d-4803-9e35-af513c11f1a5"
      },
      "source": [
        "data[(data['age']== 40) & \n",
        "     (data['marital status'] =='married') & \n",
        "     (data['education'] =='secondary') & \n",
        "     (data['credit default?'] =='no') &\n",
        "     (data['housing loan?'] =='yes') & \n",
        "     (data['Personal loan'] =='no')& \n",
        "     (data['job'].isnull()==True)]"
      ],
      "execution_count": 81,
      "outputs": [
        {
          "output_type": "execute_result",
          "data": {
            "text/html": [
              "<div>\n",
              "<style scoped>\n",
              "    .dataframe tbody tr th:only-of-type {\n",
              "        vertical-align: middle;\n",
              "    }\n",
              "\n",
              "    .dataframe tbody tr th {\n",
              "        vertical-align: top;\n",
              "    }\n",
              "\n",
              "    .dataframe thead th {\n",
              "        text-align: right;\n",
              "    }\n",
              "</style>\n",
              "<table border=\"1\" class=\"dataframe\">\n",
              "  <thead>\n",
              "    <tr style=\"text-align: right;\">\n",
              "      <th></th>\n",
              "      <th>age</th>\n",
              "      <th>job</th>\n",
              "      <th>marital status</th>\n",
              "      <th>education</th>\n",
              "      <th>credit default?</th>\n",
              "      <th>housing loan?</th>\n",
              "      <th>Personal loan</th>\n",
              "      <th>y</th>\n",
              "    </tr>\n",
              "  </thead>\n",
              "  <tbody>\n",
              "    <tr>\n",
              "      <th>79</th>\n",
              "      <td>40</td>\n",
              "      <td>NaN</td>\n",
              "      <td>married</td>\n",
              "      <td>secondary</td>\n",
              "      <td>no</td>\n",
              "      <td>yes</td>\n",
              "      <td>no</td>\n",
              "      <td>no</td>\n",
              "    </tr>\n",
              "  </tbody>\n",
              "</table>\n",
              "</div>"
            ],
            "text/plain": [
              "    age  job marital status  ... housing loan? Personal loan   y\n",
              "79   40  NaN        married  ...           yes            no  no\n",
              "\n",
              "[1 rows x 8 columns]"
            ]
          },
          "metadata": {
            "tags": []
          },
          "execution_count": 81
        }
      ]
    },
    {
      "cell_type": "markdown",
      "metadata": {
        "id": "K5bOMf60dcCR",
        "colab_type": "text"
      },
      "source": [
        "imputing the new value for job using the mod value of job whose attributes had similar values as that of the missing values"
      ]
    },
    {
      "cell_type": "code",
      "metadata": {
        "id": "NX2iJx3_cuqt",
        "colab_type": "code",
        "colab": {}
      },
      "source": [
        "data.loc[(data['age']== 40) & \n",
        "         (data['marital status'] =='married') & \n",
        "         (data['education'] =='secondary')    & \n",
        "         (data['credit default?'] =='no') & \n",
        "         (data['housing loan?'] =='yes') & \n",
        "         (data['Personal loan'] =='no')\n",
        "    & (data['job'].isnull()==True),'job']=\\\n",
        "data[(data['age']== 40) & \n",
        "     (data['marital status'] =='married') & \n",
        "     (data['education'] =='secondary')    & \n",
        "     (data['credit default?'] =='no') & \n",
        "     (data['housing loan?'] =='yes') & \n",
        "     (data['Personal loan'] =='no')    & \n",
        "     (data['job'].isnull()==False)]['job'].mode()[0]"
      ],
      "execution_count": 0,
      "outputs": []
    },
    {
      "cell_type": "code",
      "metadata": {
        "id": "AdFmJ6vZdB00",
        "colab_type": "code",
        "colab": {
          "base_uri": "https://localhost:8080/",
          "height": 81
        },
        "outputId": "dcd1ef44-c0db-4bf8-fbe0-7f0f337359ef"
      },
      "source": [
        "data[data['job'].isnull()]"
      ],
      "execution_count": 83,
      "outputs": [
        {
          "output_type": "execute_result",
          "data": {
            "text/html": [
              "<div>\n",
              "<style scoped>\n",
              "    .dataframe tbody tr th:only-of-type {\n",
              "        vertical-align: middle;\n",
              "    }\n",
              "\n",
              "    .dataframe tbody tr th {\n",
              "        vertical-align: top;\n",
              "    }\n",
              "\n",
              "    .dataframe thead th {\n",
              "        text-align: right;\n",
              "    }\n",
              "</style>\n",
              "<table border=\"1\" class=\"dataframe\">\n",
              "  <thead>\n",
              "    <tr style=\"text-align: right;\">\n",
              "      <th></th>\n",
              "      <th>age</th>\n",
              "      <th>job</th>\n",
              "      <th>marital status</th>\n",
              "      <th>education</th>\n",
              "      <th>credit default?</th>\n",
              "      <th>housing loan?</th>\n",
              "      <th>Personal loan</th>\n",
              "      <th>y</th>\n",
              "    </tr>\n",
              "  </thead>\n",
              "  <tbody>\n",
              "    <tr>\n",
              "      <th>1004</th>\n",
              "      <td>42</td>\n",
              "      <td>NaN</td>\n",
              "      <td>single</td>\n",
              "      <td>secondary</td>\n",
              "      <td>no</td>\n",
              "      <td>yes</td>\n",
              "      <td>yes</td>\n",
              "      <td>yes</td>\n",
              "    </tr>\n",
              "  </tbody>\n",
              "</table>\n",
              "</div>"
            ],
            "text/plain": [
              "      age  job marital status  ... housing loan? Personal loan    y\n",
              "1004   42  NaN         single  ...           yes           yes  yes\n",
              "\n",
              "[1 rows x 8 columns]"
            ]
          },
          "metadata": {
            "tags": []
          },
          "execution_count": 83
        }
      ]
    },
    {
      "cell_type": "markdown",
      "metadata": {
        "id": "o4TKDZnRgyDf",
        "colab_type": "text"
      },
      "source": [
        "Data imputed, from the above it is clear that only one is missing right now and do the similar kind of operation for above record also"
      ]
    },
    {
      "cell_type": "code",
      "metadata": {
        "id": "0bHAtDhchEDR",
        "colab_type": "code",
        "colab": {
          "base_uri": "https://localhost:8080/",
          "height": 49
        },
        "outputId": "b6d74ff4-ee6b-43e4-aaeb-df104803d5d7"
      },
      "source": [
        "data[(data['age']== 42) & \n",
        "     (data['marital status'] =='single') & \n",
        "     (data['education'] =='secondary') & \n",
        "     (data['credit default?'] =='no') & \n",
        "     (data['housing loan?'] =='yes') & \n",
        "     (data['Personal loan'] =='yes') & \n",
        "     (data['y'] =='yes') & \n",
        "     (data['job'].isnull()==False)]"
      ],
      "execution_count": 85,
      "outputs": [
        {
          "output_type": "execute_result",
          "data": {
            "text/html": [
              "<div>\n",
              "<style scoped>\n",
              "    .dataframe tbody tr th:only-of-type {\n",
              "        vertical-align: middle;\n",
              "    }\n",
              "\n",
              "    .dataframe tbody tr th {\n",
              "        vertical-align: top;\n",
              "    }\n",
              "\n",
              "    .dataframe thead th {\n",
              "        text-align: right;\n",
              "    }\n",
              "</style>\n",
              "<table border=\"1\" class=\"dataframe\">\n",
              "  <thead>\n",
              "    <tr style=\"text-align: right;\">\n",
              "      <th></th>\n",
              "      <th>age</th>\n",
              "      <th>job</th>\n",
              "      <th>marital status</th>\n",
              "      <th>education</th>\n",
              "      <th>credit default?</th>\n",
              "      <th>housing loan?</th>\n",
              "      <th>Personal loan</th>\n",
              "      <th>y</th>\n",
              "    </tr>\n",
              "  </thead>\n",
              "  <tbody>\n",
              "  </tbody>\n",
              "</table>\n",
              "</div>"
            ],
            "text/plain": [
              "Empty DataFrame\n",
              "Columns: [age, job, marital status, education, credit default?, housing loan?, Personal loan, y]\n",
              "Index: []"
            ]
          },
          "metadata": {
            "tags": []
          },
          "execution_count": 85
        }
      ]
    },
    {
      "cell_type": "markdown",
      "metadata": {
        "id": "B_AP1r9KxF1i",
        "colab_type": "text"
      },
      "source": [
        "No data available for similar values.So look in broader scope"
      ]
    },
    {
      "cell_type": "markdown",
      "metadata": {
        "id": "CiTbj2pA12GG",
        "colab_type": "text"
      },
      "source": [
        "Remove the Marital Status and check"
      ]
    },
    {
      "cell_type": "code",
      "metadata": {
        "id": "4cKoWxWqxVkY",
        "colab_type": "code",
        "colab": {
          "base_uri": "https://localhost:8080/",
          "height": 49
        },
        "outputId": "35e5b3fd-a6d5-4a0a-afe6-c6208d119b85"
      },
      "source": [
        "data[(data['age']== 42) & \n",
        "     (data['education'] =='secondary') & \n",
        "     (data['credit default?'] =='no') & \n",
        "     (data['housing loan?'] =='yes') & \n",
        "     (data['Personal loan'] =='yes') & \n",
        "     (data['y'] =='yes') & \n",
        "     (data['job'].isnull()==False)]"
      ],
      "execution_count": 92,
      "outputs": [
        {
          "output_type": "execute_result",
          "data": {
            "text/html": [
              "<div>\n",
              "<style scoped>\n",
              "    .dataframe tbody tr th:only-of-type {\n",
              "        vertical-align: middle;\n",
              "    }\n",
              "\n",
              "    .dataframe tbody tr th {\n",
              "        vertical-align: top;\n",
              "    }\n",
              "\n",
              "    .dataframe thead th {\n",
              "        text-align: right;\n",
              "    }\n",
              "</style>\n",
              "<table border=\"1\" class=\"dataframe\">\n",
              "  <thead>\n",
              "    <tr style=\"text-align: right;\">\n",
              "      <th></th>\n",
              "      <th>age</th>\n",
              "      <th>job</th>\n",
              "      <th>marital status</th>\n",
              "      <th>education</th>\n",
              "      <th>credit default?</th>\n",
              "      <th>housing loan?</th>\n",
              "      <th>Personal loan</th>\n",
              "      <th>y</th>\n",
              "    </tr>\n",
              "  </thead>\n",
              "  <tbody>\n",
              "  </tbody>\n",
              "</table>\n",
              "</div>"
            ],
            "text/plain": [
              "Empty DataFrame\n",
              "Columns: [age, job, marital status, education, credit default?, housing loan?, Personal loan, y]\n",
              "Index: []"
            ]
          },
          "metadata": {
            "tags": []
          },
          "execution_count": 92
        }
      ]
    },
    {
      "cell_type": "markdown",
      "metadata": {
        "id": "9AiyOcm3178x",
        "colab_type": "text"
      },
      "source": [
        "Remove Education also and check"
      ]
    },
    {
      "cell_type": "code",
      "metadata": {
        "id": "JClBuhPD1--v",
        "colab_type": "code",
        "colab": {
          "base_uri": "https://localhost:8080/",
          "height": 49
        },
        "outputId": "94f10f0c-29cd-44f8-9e27-9169afb79c94"
      },
      "source": [
        "data[(data['age']== 42) & \n",
        "     (data['credit default?'] =='no') & \n",
        "     (data['housing loan?'] =='yes') & \n",
        "     (data['Personal loan'] =='yes') & \n",
        "     (data['y'] =='yes') & \n",
        "     (data['job'].isnull()==False)]"
      ],
      "execution_count": 93,
      "outputs": [
        {
          "output_type": "execute_result",
          "data": {
            "text/html": [
              "<div>\n",
              "<style scoped>\n",
              "    .dataframe tbody tr th:only-of-type {\n",
              "        vertical-align: middle;\n",
              "    }\n",
              "\n",
              "    .dataframe tbody tr th {\n",
              "        vertical-align: top;\n",
              "    }\n",
              "\n",
              "    .dataframe thead th {\n",
              "        text-align: right;\n",
              "    }\n",
              "</style>\n",
              "<table border=\"1\" class=\"dataframe\">\n",
              "  <thead>\n",
              "    <tr style=\"text-align: right;\">\n",
              "      <th></th>\n",
              "      <th>age</th>\n",
              "      <th>job</th>\n",
              "      <th>marital status</th>\n",
              "      <th>education</th>\n",
              "      <th>credit default?</th>\n",
              "      <th>housing loan?</th>\n",
              "      <th>Personal loan</th>\n",
              "      <th>y</th>\n",
              "    </tr>\n",
              "  </thead>\n",
              "  <tbody>\n",
              "  </tbody>\n",
              "</table>\n",
              "</div>"
            ],
            "text/plain": [
              "Empty DataFrame\n",
              "Columns: [age, job, marital status, education, credit default?, housing loan?, Personal loan, y]\n",
              "Index: []"
            ]
          },
          "metadata": {
            "tags": []
          },
          "execution_count": 93
        }
      ]
    },
    {
      "cell_type": "markdown",
      "metadata": {
        "id": "s1QlKe9b2hrZ",
        "colab_type": "text"
      },
      "source": [
        "Remove credit default"
      ]
    },
    {
      "cell_type": "code",
      "metadata": {
        "id": "W9RZFw_72uca",
        "colab_type": "code",
        "colab": {
          "base_uri": "https://localhost:8080/",
          "height": 49
        },
        "outputId": "c32f3e06-7369-4c4e-e349-b95be209dd5e"
      },
      "source": [
        "data[(data['age']== 42) & \n",
        "     (data['housing loan?'] =='yes') & \n",
        "     (data['Personal loan'] =='yes') & \n",
        "     (data['y'] =='yes') & \n",
        "     (data['job'].isnull()==False)]"
      ],
      "execution_count": 94,
      "outputs": [
        {
          "output_type": "execute_result",
          "data": {
            "text/html": [
              "<div>\n",
              "<style scoped>\n",
              "    .dataframe tbody tr th:only-of-type {\n",
              "        vertical-align: middle;\n",
              "    }\n",
              "\n",
              "    .dataframe tbody tr th {\n",
              "        vertical-align: top;\n",
              "    }\n",
              "\n",
              "    .dataframe thead th {\n",
              "        text-align: right;\n",
              "    }\n",
              "</style>\n",
              "<table border=\"1\" class=\"dataframe\">\n",
              "  <thead>\n",
              "    <tr style=\"text-align: right;\">\n",
              "      <th></th>\n",
              "      <th>age</th>\n",
              "      <th>job</th>\n",
              "      <th>marital status</th>\n",
              "      <th>education</th>\n",
              "      <th>credit default?</th>\n",
              "      <th>housing loan?</th>\n",
              "      <th>Personal loan</th>\n",
              "      <th>y</th>\n",
              "    </tr>\n",
              "  </thead>\n",
              "  <tbody>\n",
              "  </tbody>\n",
              "</table>\n",
              "</div>"
            ],
            "text/plain": [
              "Empty DataFrame\n",
              "Columns: [age, job, marital status, education, credit default?, housing loan?, Personal loan, y]\n",
              "Index: []"
            ]
          },
          "metadata": {
            "tags": []
          },
          "execution_count": 94
        }
      ]
    },
    {
      "cell_type": "markdown",
      "metadata": {
        "id": "cWyS9Xgk2ydx",
        "colab_type": "text"
      },
      "source": [
        "Remove housing loan"
      ]
    },
    {
      "cell_type": "code",
      "metadata": {
        "id": "3z2vTRzv20UO",
        "colab_type": "code",
        "colab": {
          "base_uri": "https://localhost:8080/",
          "height": 49
        },
        "outputId": "8449e0a7-7e51-4168-bad6-c7abb3f41955"
      },
      "source": [
        "data[(data['age']== 42) &  \n",
        "     (data['Personal loan'] =='yes') & \n",
        "     (data['y'] =='yes') & \n",
        "     (data['job'].isnull()==False)]"
      ],
      "execution_count": 95,
      "outputs": [
        {
          "output_type": "execute_result",
          "data": {
            "text/html": [
              "<div>\n",
              "<style scoped>\n",
              "    .dataframe tbody tr th:only-of-type {\n",
              "        vertical-align: middle;\n",
              "    }\n",
              "\n",
              "    .dataframe tbody tr th {\n",
              "        vertical-align: top;\n",
              "    }\n",
              "\n",
              "    .dataframe thead th {\n",
              "        text-align: right;\n",
              "    }\n",
              "</style>\n",
              "<table border=\"1\" class=\"dataframe\">\n",
              "  <thead>\n",
              "    <tr style=\"text-align: right;\">\n",
              "      <th></th>\n",
              "      <th>age</th>\n",
              "      <th>job</th>\n",
              "      <th>marital status</th>\n",
              "      <th>education</th>\n",
              "      <th>credit default?</th>\n",
              "      <th>housing loan?</th>\n",
              "      <th>Personal loan</th>\n",
              "      <th>y</th>\n",
              "    </tr>\n",
              "  </thead>\n",
              "  <tbody>\n",
              "  </tbody>\n",
              "</table>\n",
              "</div>"
            ],
            "text/plain": [
              "Empty DataFrame\n",
              "Columns: [age, job, marital status, education, credit default?, housing loan?, Personal loan, y]\n",
              "Index: []"
            ]
          },
          "metadata": {
            "tags": []
          },
          "execution_count": 95
        }
      ]
    },
    {
      "cell_type": "markdown",
      "metadata": {
        "id": "Z9XN_8sO222L",
        "colab_type": "text"
      },
      "source": [
        "Remove the Personal loan also from condition"
      ]
    },
    {
      "cell_type": "code",
      "metadata": {
        "id": "RXOtB2wv27-e",
        "colab_type": "code",
        "colab": {
          "base_uri": "https://localhost:8080/",
          "height": 81
        },
        "outputId": "2d9a9049-0c4f-4ab9-aeda-3d41114450d3"
      },
      "source": [
        "data[(data['age']== 42) &  \n",
        "     (data['y'] =='yes') & \n",
        "     (data['job'].isnull()==False)]"
      ],
      "execution_count": 96,
      "outputs": [
        {
          "output_type": "execute_result",
          "data": {
            "text/html": [
              "<div>\n",
              "<style scoped>\n",
              "    .dataframe tbody tr th:only-of-type {\n",
              "        vertical-align: middle;\n",
              "    }\n",
              "\n",
              "    .dataframe tbody tr th {\n",
              "        vertical-align: top;\n",
              "    }\n",
              "\n",
              "    .dataframe thead th {\n",
              "        text-align: right;\n",
              "    }\n",
              "</style>\n",
              "<table border=\"1\" class=\"dataframe\">\n",
              "  <thead>\n",
              "    <tr style=\"text-align: right;\">\n",
              "      <th></th>\n",
              "      <th>age</th>\n",
              "      <th>job</th>\n",
              "      <th>marital status</th>\n",
              "      <th>education</th>\n",
              "      <th>credit default?</th>\n",
              "      <th>housing loan?</th>\n",
              "      <th>Personal loan</th>\n",
              "      <th>y</th>\n",
              "    </tr>\n",
              "  </thead>\n",
              "  <tbody>\n",
              "    <tr>\n",
              "      <th>215</th>\n",
              "      <td>42</td>\n",
              "      <td>management</td>\n",
              "      <td>married</td>\n",
              "      <td>tertiary</td>\n",
              "      <td>no</td>\n",
              "      <td>yes</td>\n",
              "      <td>no</td>\n",
              "      <td>yes</td>\n",
              "    </tr>\n",
              "  </tbody>\n",
              "</table>\n",
              "</div>"
            ],
            "text/plain": [
              "     age         job marital status  ... housing loan? Personal loan    y\n",
              "215   42  management        married  ...           yes            no  yes\n",
              "\n",
              "[1 rows x 8 columns]"
            ]
          },
          "metadata": {
            "tags": []
          },
          "execution_count": 96
        }
      ]
    },
    {
      "cell_type": "markdown",
      "metadata": {
        "id": "qt8w3nbS2_Ko",
        "colab_type": "text"
      },
      "source": [
        "Finally we got that the missing value based on the result from above. So lets impute the job value to the missing value"
      ]
    },
    {
      "cell_type": "code",
      "metadata": {
        "id": "H2Z44LQP3OAa",
        "colab_type": "code",
        "colab": {
          "base_uri": "https://localhost:8080/",
          "height": 36
        },
        "outputId": "5c529a96-1c2d-47e5-b32d-0586bc6084da"
      },
      "source": [
        "data[(data['age']== 42) &  \n",
        "     (data['y'] =='yes') & \n",
        "     (data['job'].isnull()==False)]['job'].mode()[0]"
      ],
      "execution_count": 99,
      "outputs": [
        {
          "output_type": "execute_result",
          "data": {
            "text/plain": [
              "'management'"
            ]
          },
          "metadata": {
            "tags": []
          },
          "execution_count": 99
        }
      ]
    },
    {
      "cell_type": "code",
      "metadata": {
        "id": "_mpfvcs_3VYb",
        "colab_type": "code",
        "colab": {
          "base_uri": "https://localhost:8080/",
          "height": 81
        },
        "outputId": "333e40d4-0696-43a6-b178-43fc596e4938"
      },
      "source": [
        "data[(data['age']== 42) & \n",
        "     (data['marital status'] =='single') & \n",
        "     (data['education'] =='secondary') & \n",
        "     (data['credit default?'] =='no') & \n",
        "     (data['housing loan?'] =='yes') & \n",
        "     (data['Personal loan'] =='yes') & \n",
        "     (data['y'] =='yes') & \n",
        "     (data['job'].isnull()==True)]"
      ],
      "execution_count": 100,
      "outputs": [
        {
          "output_type": "execute_result",
          "data": {
            "text/html": [
              "<div>\n",
              "<style scoped>\n",
              "    .dataframe tbody tr th:only-of-type {\n",
              "        vertical-align: middle;\n",
              "    }\n",
              "\n",
              "    .dataframe tbody tr th {\n",
              "        vertical-align: top;\n",
              "    }\n",
              "\n",
              "    .dataframe thead th {\n",
              "        text-align: right;\n",
              "    }\n",
              "</style>\n",
              "<table border=\"1\" class=\"dataframe\">\n",
              "  <thead>\n",
              "    <tr style=\"text-align: right;\">\n",
              "      <th></th>\n",
              "      <th>age</th>\n",
              "      <th>job</th>\n",
              "      <th>marital status</th>\n",
              "      <th>education</th>\n",
              "      <th>credit default?</th>\n",
              "      <th>housing loan?</th>\n",
              "      <th>Personal loan</th>\n",
              "      <th>y</th>\n",
              "    </tr>\n",
              "  </thead>\n",
              "  <tbody>\n",
              "    <tr>\n",
              "      <th>1004</th>\n",
              "      <td>42</td>\n",
              "      <td>NaN</td>\n",
              "      <td>single</td>\n",
              "      <td>secondary</td>\n",
              "      <td>no</td>\n",
              "      <td>yes</td>\n",
              "      <td>yes</td>\n",
              "      <td>yes</td>\n",
              "    </tr>\n",
              "  </tbody>\n",
              "</table>\n",
              "</div>"
            ],
            "text/plain": [
              "      age  job marital status  ... housing loan? Personal loan    y\n",
              "1004   42  NaN         single  ...           yes           yes  yes\n",
              "\n",
              "[1 rows x 8 columns]"
            ]
          },
          "metadata": {
            "tags": []
          },
          "execution_count": 100
        }
      ]
    },
    {
      "cell_type": "code",
      "metadata": {
        "id": "yx_6SJfA3cOY",
        "colab_type": "code",
        "colab": {}
      },
      "source": [
        "data.loc[(data['age']== 42) & \n",
        "     (data['marital status'] =='single') & \n",
        "     (data['education'] =='secondary') & \n",
        "     (data['credit default?'] =='no') & \n",
        "     (data['housing loan?'] =='yes') & \n",
        "     (data['Personal loan'] =='yes') & \n",
        "     (data['y'] =='yes') & \n",
        "     (data['job'].isnull()==True),'job']=\\\n",
        "data[(data['age']== 42) &  \n",
        "     (data['y'] =='yes') & \n",
        "     (data['job'].isnull()==False)\n",
        "    ]['job'].mode()[0]"
      ],
      "execution_count": 0,
      "outputs": []
    },
    {
      "cell_type": "markdown",
      "metadata": {
        "id": "u01h76-e3sTF",
        "colab_type": "text"
      },
      "source": [
        "Lets check the whether the values are imputed to the job"
      ]
    },
    {
      "cell_type": "code",
      "metadata": {
        "id": "6j4kJw2n33Jv",
        "colab_type": "code",
        "colab": {
          "base_uri": "https://localhost:8080/",
          "height": 49
        },
        "outputId": "1d637a20-5e89-45c0-eb5b-a04925c40f43"
      },
      "source": [
        "data[data['job'].isnull()]"
      ],
      "execution_count": 102,
      "outputs": [
        {
          "output_type": "execute_result",
          "data": {
            "text/html": [
              "<div>\n",
              "<style scoped>\n",
              "    .dataframe tbody tr th:only-of-type {\n",
              "        vertical-align: middle;\n",
              "    }\n",
              "\n",
              "    .dataframe tbody tr th {\n",
              "        vertical-align: top;\n",
              "    }\n",
              "\n",
              "    .dataframe thead th {\n",
              "        text-align: right;\n",
              "    }\n",
              "</style>\n",
              "<table border=\"1\" class=\"dataframe\">\n",
              "  <thead>\n",
              "    <tr style=\"text-align: right;\">\n",
              "      <th></th>\n",
              "      <th>age</th>\n",
              "      <th>job</th>\n",
              "      <th>marital status</th>\n",
              "      <th>education</th>\n",
              "      <th>credit default?</th>\n",
              "      <th>housing loan?</th>\n",
              "      <th>Personal loan</th>\n",
              "      <th>y</th>\n",
              "    </tr>\n",
              "  </thead>\n",
              "  <tbody>\n",
              "  </tbody>\n",
              "</table>\n",
              "</div>"
            ],
            "text/plain": [
              "Empty DataFrame\n",
              "Columns: [age, job, marital status, education, credit default?, housing loan?, Personal loan, y]\n",
              "Index: []"
            ]
          },
          "metadata": {
            "tags": []
          },
          "execution_count": 102
        }
      ]
    },
    {
      "cell_type": "code",
      "metadata": {
        "id": "1fCDHvIz3y5A",
        "colab_type": "code",
        "colab": {
          "base_uri": "https://localhost:8080/",
          "height": 259
        },
        "outputId": "880f59d1-60dd-4177-b964-95ca7a37ea6f"
      },
      "source": [
        "data.info()"
      ],
      "execution_count": 103,
      "outputs": [
        {
          "output_type": "stream",
          "text": [
            "<class 'pandas.core.frame.DataFrame'>\n",
            "RangeIndex: 1021 entries, 0 to 1020\n",
            "Data columns (total 8 columns):\n",
            "age                1021 non-null int64\n",
            "job                1021 non-null object\n",
            "marital status     1020 non-null object\n",
            "education          1020 non-null object\n",
            "credit default?    1020 non-null object\n",
            "housing loan?      1019 non-null object\n",
            "Personal loan      1019 non-null object\n",
            "y                  1021 non-null object\n",
            "dtypes: int64(1), object(7)\n",
            "memory usage: 63.9+ KB\n"
          ],
          "name": "stdout"
        }
      ]
    },
    {
      "cell_type": "markdown",
      "metadata": {
        "id": "BuOXFRaY37h8",
        "colab_type": "text"
      },
      "source": [
        "No empty values in job, so lets move on to the next attribute housing loan"
      ]
    },
    {
      "cell_type": "code",
      "metadata": {
        "id": "z1ZStjLl4S4y",
        "colab_type": "code",
        "colab": {
          "base_uri": "https://localhost:8080/",
          "height": 112
        },
        "outputId": "6678f43b-b358-4c48-ca3a-c6132e815dd1"
      },
      "source": [
        "data[data['housing loan?'].isnull()]"
      ],
      "execution_count": 104,
      "outputs": [
        {
          "output_type": "execute_result",
          "data": {
            "text/html": [
              "<div>\n",
              "<style scoped>\n",
              "    .dataframe tbody tr th:only-of-type {\n",
              "        vertical-align: middle;\n",
              "    }\n",
              "\n",
              "    .dataframe tbody tr th {\n",
              "        vertical-align: top;\n",
              "    }\n",
              "\n",
              "    .dataframe thead th {\n",
              "        text-align: right;\n",
              "    }\n",
              "</style>\n",
              "<table border=\"1\" class=\"dataframe\">\n",
              "  <thead>\n",
              "    <tr style=\"text-align: right;\">\n",
              "      <th></th>\n",
              "      <th>age</th>\n",
              "      <th>job</th>\n",
              "      <th>marital status</th>\n",
              "      <th>education</th>\n",
              "      <th>credit default?</th>\n",
              "      <th>housing loan?</th>\n",
              "      <th>Personal loan</th>\n",
              "      <th>y</th>\n",
              "    </tr>\n",
              "  </thead>\n",
              "  <tbody>\n",
              "    <tr>\n",
              "      <th>109</th>\n",
              "      <td>27</td>\n",
              "      <td>housemaid</td>\n",
              "      <td>married</td>\n",
              "      <td>primary</td>\n",
              "      <td>no</td>\n",
              "      <td>NaN</td>\n",
              "      <td>NaN</td>\n",
              "      <td>no</td>\n",
              "    </tr>\n",
              "    <tr>\n",
              "      <th>1016</th>\n",
              "      <td>33</td>\n",
              "      <td>services</td>\n",
              "      <td>married</td>\n",
              "      <td>secondary</td>\n",
              "      <td>no</td>\n",
              "      <td>NaN</td>\n",
              "      <td>no</td>\n",
              "      <td>no</td>\n",
              "    </tr>\n",
              "  </tbody>\n",
              "</table>\n",
              "</div>"
            ],
            "text/plain": [
              "      age        job marital status  ... housing loan? Personal loan   y\n",
              "109    27  housemaid        married  ...           NaN           NaN  no\n",
              "1016   33   services        married  ...           NaN            no  no\n",
              "\n",
              "[2 rows x 8 columns]"
            ]
          },
          "metadata": {
            "tags": []
          },
          "execution_count": 104
        }
      ]
    },
    {
      "cell_type": "markdown",
      "metadata": {
        "id": "boFVO61-4cDS",
        "colab_type": "text"
      },
      "source": [
        "as the first row has missing values in personal loan as well, so lets focus on the second row"
      ]
    },
    {
      "cell_type": "code",
      "metadata": {
        "id": "3J-2sTww4j_9",
        "colab_type": "code",
        "colab": {
          "base_uri": "https://localhost:8080/",
          "height": 81
        },
        "outputId": "7b1b6dcf-35d3-469a-d577-407890f07ab2"
      },
      "source": [
        "data[(data['age']==33) &\n",
        "    (data['job']=='services') &\n",
        "    (data['marital status']=='married') &\n",
        "    (data['education']=='secondary') &\n",
        "    (data['credit default?']=='no') &\n",
        "    (data['housing loan?'].isnull()==False) &\n",
        "    (data['Personal loan']=='no') &\n",
        "    (data['y']=='no')]"
      ],
      "execution_count": 107,
      "outputs": [
        {
          "output_type": "execute_result",
          "data": {
            "text/html": [
              "<div>\n",
              "<style scoped>\n",
              "    .dataframe tbody tr th:only-of-type {\n",
              "        vertical-align: middle;\n",
              "    }\n",
              "\n",
              "    .dataframe tbody tr th {\n",
              "        vertical-align: top;\n",
              "    }\n",
              "\n",
              "    .dataframe thead th {\n",
              "        text-align: right;\n",
              "    }\n",
              "</style>\n",
              "<table border=\"1\" class=\"dataframe\">\n",
              "  <thead>\n",
              "    <tr style=\"text-align: right;\">\n",
              "      <th></th>\n",
              "      <th>age</th>\n",
              "      <th>job</th>\n",
              "      <th>marital status</th>\n",
              "      <th>education</th>\n",
              "      <th>credit default?</th>\n",
              "      <th>housing loan?</th>\n",
              "      <th>Personal loan</th>\n",
              "      <th>y</th>\n",
              "    </tr>\n",
              "  </thead>\n",
              "  <tbody>\n",
              "    <tr>\n",
              "      <th>1007</th>\n",
              "      <td>33</td>\n",
              "      <td>services</td>\n",
              "      <td>married</td>\n",
              "      <td>secondary</td>\n",
              "      <td>no</td>\n",
              "      <td>yes</td>\n",
              "      <td>no</td>\n",
              "      <td>no</td>\n",
              "    </tr>\n",
              "  </tbody>\n",
              "</table>\n",
              "</div>"
            ],
            "text/plain": [
              "      age       job marital status  ... housing loan? Personal loan   y\n",
              "1007   33  services        married  ...           yes            no  no\n",
              "\n",
              "[1 rows x 8 columns]"
            ]
          },
          "metadata": {
            "tags": []
          },
          "execution_count": 107
        }
      ]
    },
    {
      "cell_type": "markdown",
      "metadata": {
        "id": "fbqvdzNJ5mi0",
        "colab_type": "text"
      },
      "source": [
        "lets impute the value based on the above result"
      ]
    },
    {
      "cell_type": "code",
      "metadata": {
        "id": "mCKkBq8l5qMU",
        "colab_type": "code",
        "colab": {
          "base_uri": "https://localhost:8080/",
          "height": 36
        },
        "outputId": "2a40aba7-3063-423b-cfc9-61f626c1b103"
      },
      "source": [
        "data[(data['age']==33) &\n",
        "    (data['job']=='services') &\n",
        "    (data['marital status']=='married') &\n",
        "    (data['education']=='secondary') &\n",
        "    (data['credit default?']=='no') &\n",
        "    (data['housing loan?'].isnull()==False) &\n",
        "    (data['Personal loan']=='no') &\n",
        "    (data['y']=='no')]['job'].mode()[0]"
      ],
      "execution_count": 106,
      "outputs": [
        {
          "output_type": "execute_result",
          "data": {
            "text/plain": [
              "'services'"
            ]
          },
          "metadata": {
            "tags": []
          },
          "execution_count": 106
        }
      ]
    },
    {
      "cell_type": "code",
      "metadata": {
        "id": "auW97jod55tw",
        "colab_type": "code",
        "colab": {}
      },
      "source": [
        "data.loc[(data['age']==33) &\n",
        "    (data['job']=='services') &\n",
        "    (data['marital status']=='married') &\n",
        "    (data['education']=='secondary') &\n",
        "    (data['credit default?']=='no') &\n",
        "    (data['housing loan?'].isnull()) &\n",
        "    (data['Personal loan']=='no') &\n",
        "    (data['y']=='no'),'housing loan?']=\\\n",
        "data[(data['age']==33) &\n",
        "    (data['job']=='services') &\n",
        "    (data['marital status']=='married') &\n",
        "    (data['education']=='secondary') &\n",
        "    (data['credit default?']=='no') &\n",
        "    (data['housing loan?'].isnull()==False) &\n",
        "    (data['Personal loan']=='no') &\n",
        "    (data['y']=='no')]['job'].mode()[0]"
      ],
      "execution_count": 0,
      "outputs": []
    },
    {
      "cell_type": "code",
      "metadata": {
        "id": "PsUmOPNQ6Pl2",
        "colab_type": "code",
        "colab": {
          "base_uri": "https://localhost:8080/",
          "height": 81
        },
        "outputId": "df273655-0a47-4f04-d288-28dc7dcd5580"
      },
      "source": [
        "data[data['housing loan?'].isnull()]"
      ],
      "execution_count": 109,
      "outputs": [
        {
          "output_type": "execute_result",
          "data": {
            "text/html": [
              "<div>\n",
              "<style scoped>\n",
              "    .dataframe tbody tr th:only-of-type {\n",
              "        vertical-align: middle;\n",
              "    }\n",
              "\n",
              "    .dataframe tbody tr th {\n",
              "        vertical-align: top;\n",
              "    }\n",
              "\n",
              "    .dataframe thead th {\n",
              "        text-align: right;\n",
              "    }\n",
              "</style>\n",
              "<table border=\"1\" class=\"dataframe\">\n",
              "  <thead>\n",
              "    <tr style=\"text-align: right;\">\n",
              "      <th></th>\n",
              "      <th>age</th>\n",
              "      <th>job</th>\n",
              "      <th>marital status</th>\n",
              "      <th>education</th>\n",
              "      <th>credit default?</th>\n",
              "      <th>housing loan?</th>\n",
              "      <th>Personal loan</th>\n",
              "      <th>y</th>\n",
              "    </tr>\n",
              "  </thead>\n",
              "  <tbody>\n",
              "    <tr>\n",
              "      <th>109</th>\n",
              "      <td>27</td>\n",
              "      <td>housemaid</td>\n",
              "      <td>married</td>\n",
              "      <td>primary</td>\n",
              "      <td>no</td>\n",
              "      <td>NaN</td>\n",
              "      <td>NaN</td>\n",
              "      <td>no</td>\n",
              "    </tr>\n",
              "  </tbody>\n",
              "</table>\n",
              "</div>"
            ],
            "text/plain": [
              "     age        job marital status  ... housing loan? Personal loan   y\n",
              "109   27  housemaid        married  ...           NaN           NaN  no\n",
              "\n",
              "[1 rows x 8 columns]"
            ]
          },
          "metadata": {
            "tags": []
          },
          "execution_count": 109
        }
      ]
    },
    {
      "cell_type": "code",
      "metadata": {
        "id": "djTkvsy96UdX",
        "colab_type": "code",
        "colab": {}
      },
      "source": [
        ""
      ],
      "execution_count": 0,
      "outputs": []
    },
    {
      "cell_type": "code",
      "metadata": {
        "id": "FRdzywao5VMh",
        "colab_type": "code",
        "colab": {}
      },
      "source": [
        ""
      ],
      "execution_count": 0,
      "outputs": []
    },
    {
      "cell_type": "code",
      "metadata": {
        "id": "ekwaNHFc4XmL",
        "colab_type": "code",
        "colab": {}
      },
      "source": [
        ""
      ],
      "execution_count": 0,
      "outputs": []
    },
    {
      "cell_type": "code",
      "metadata": {
        "id": "vDYom88g4OMm",
        "colab_type": "code",
        "colab": {}
      },
      "source": [
        ""
      ],
      "execution_count": 0,
      "outputs": []
    },
    {
      "cell_type": "code",
      "metadata": {
        "id": "2uKZK3vU36bg",
        "colab_type": "code",
        "colab": {}
      },
      "source": [
        ""
      ],
      "execution_count": 0,
      "outputs": []
    },
    {
      "cell_type": "code",
      "metadata": {
        "id": "8wERIWYm3qNN",
        "colab_type": "code",
        "colab": {}
      },
      "source": [
        ""
      ],
      "execution_count": 0,
      "outputs": []
    },
    {
      "cell_type": "code",
      "metadata": {
        "id": "zk6bUPrs3UDK",
        "colab_type": "code",
        "colab": {}
      },
      "source": [
        ""
      ],
      "execution_count": 0,
      "outputs": []
    },
    {
      "cell_type": "code",
      "metadata": {
        "id": "HLvEtRAw3R8q",
        "colab_type": "code",
        "colab": {}
      },
      "source": [
        ""
      ],
      "execution_count": 0,
      "outputs": []
    },
    {
      "cell_type": "code",
      "metadata": {
        "id": "WWjEP6Gn3Idd",
        "colab_type": "code",
        "colab": {}
      },
      "source": [
        ""
      ],
      "execution_count": 0,
      "outputs": []
    },
    {
      "cell_type": "code",
      "metadata": {
        "id": "7wFt7z302993",
        "colab_type": "code",
        "colab": {}
      },
      "source": [
        ""
      ],
      "execution_count": 0,
      "outputs": []
    },
    {
      "cell_type": "code",
      "metadata": {
        "id": "8j5EV0Fn21sH",
        "colab_type": "code",
        "colab": {}
      },
      "source": [
        ""
      ],
      "execution_count": 0,
      "outputs": []
    },
    {
      "cell_type": "code",
      "metadata": {
        "id": "a9oRgTV32xFR",
        "colab_type": "code",
        "colab": {}
      },
      "source": [
        ""
      ],
      "execution_count": 0,
      "outputs": []
    },
    {
      "cell_type": "code",
      "metadata": {
        "id": "8CF-uYXk16Hr",
        "colab_type": "code",
        "colab": {}
      },
      "source": [
        ""
      ],
      "execution_count": 0,
      "outputs": []
    },
    {
      "cell_type": "code",
      "metadata": {
        "id": "R3tICHbf1wDH",
        "colab_type": "code",
        "colab": {}
      },
      "source": [
        ""
      ],
      "execution_count": 0,
      "outputs": []
    },
    {
      "cell_type": "code",
      "metadata": {
        "id": "78sy2Bz5y9s5",
        "colab_type": "code",
        "colab": {}
      },
      "source": [
        ""
      ],
      "execution_count": 0,
      "outputs": []
    },
    {
      "cell_type": "code",
      "metadata": {
        "id": "Tgp7zlKWy1_q",
        "colab_type": "code",
        "colab": {}
      },
      "source": [
        ""
      ],
      "execution_count": 0,
      "outputs": []
    },
    {
      "cell_type": "code",
      "metadata": {
        "id": "N-mTN_bwxz0L",
        "colab_type": "code",
        "colab": {}
      },
      "source": [
        ""
      ],
      "execution_count": 0,
      "outputs": []
    },
    {
      "cell_type": "code",
      "metadata": {
        "id": "JAGgoYJLxNQv",
        "colab_type": "code",
        "colab": {}
      },
      "source": [
        ""
      ],
      "execution_count": 0,
      "outputs": []
    },
    {
      "cell_type": "code",
      "metadata": {
        "id": "b9V9T71RxBg8",
        "colab_type": "code",
        "colab": {}
      },
      "source": [
        ""
      ],
      "execution_count": 0,
      "outputs": []
    },
    {
      "cell_type": "code",
      "metadata": {
        "id": "qJfPCG_dw8qo",
        "colab_type": "code",
        "colab": {}
      },
      "source": [
        ""
      ],
      "execution_count": 0,
      "outputs": []
    },
    {
      "cell_type": "code",
      "metadata": {
        "id": "_5vCkBy5w6B8",
        "colab_type": "code",
        "colab": {}
      },
      "source": [
        ""
      ],
      "execution_count": 0,
      "outputs": []
    },
    {
      "cell_type": "code",
      "metadata": {
        "id": "LdSK3eN0dGc5",
        "colab_type": "code",
        "colab": {}
      },
      "source": [
        ""
      ],
      "execution_count": 0,
      "outputs": []
    },
    {
      "cell_type": "code",
      "metadata": {
        "id": "1Mn8EZbWc47f",
        "colab_type": "code",
        "colab": {}
      },
      "source": [
        ""
      ],
      "execution_count": 0,
      "outputs": []
    },
    {
      "cell_type": "code",
      "metadata": {
        "id": "2EN3igCJb7hG",
        "colab_type": "code",
        "colab": {}
      },
      "source": [
        ""
      ],
      "execution_count": 0,
      "outputs": []
    },
    {
      "cell_type": "code",
      "metadata": {
        "id": "0lO7hz_pbykH",
        "colab_type": "code",
        "colab": {}
      },
      "source": [
        ""
      ],
      "execution_count": 0,
      "outputs": []
    },
    {
      "cell_type": "code",
      "metadata": {
        "id": "WGcvc2qQbjjt",
        "colab_type": "code",
        "colab": {}
      },
      "source": [
        ""
      ],
      "execution_count": 0,
      "outputs": []
    },
    {
      "cell_type": "code",
      "metadata": {
        "id": "iHoIvmhuaSVp",
        "colab_type": "code",
        "colab": {}
      },
      "source": [
        ""
      ],
      "execution_count": 0,
      "outputs": []
    },
    {
      "cell_type": "code",
      "metadata": {
        "id": "6b5amquAaLnW",
        "colab_type": "code",
        "colab": {}
      },
      "source": [
        ""
      ],
      "execution_count": 0,
      "outputs": []
    },
    {
      "cell_type": "code",
      "metadata": {
        "id": "_q0nBmolZMnO",
        "colab_type": "code",
        "colab": {}
      },
      "source": [
        ""
      ],
      "execution_count": 0,
      "outputs": []
    },
    {
      "cell_type": "code",
      "metadata": {
        "id": "nUTgyu2ZVZee",
        "colab_type": "code",
        "colab": {}
      },
      "source": [
        ""
      ],
      "execution_count": 0,
      "outputs": []
    }
  ]
}