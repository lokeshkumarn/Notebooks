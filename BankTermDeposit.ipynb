{
  "nbformat": 4,
  "nbformat_minor": 0,
  "metadata": {
    "colab": {
      "name": "BankTermDeposit.ipynb",
      "version": "0.3.2",
      "provenance": [],
      "collapsed_sections": [],
      "include_colab_link": true
    },
    "kernelspec": {
      "name": "python3",
      "display_name": "Python 3"
    }
  },
  "cells": [
    {
      "cell_type": "markdown",
      "metadata": {
        "id": "view-in-github",
        "colab_type": "text"
      },
      "source": [
        "<a href=\"https://colab.research.google.com/github/lokeshkumarn/Notebooks/blob/master/BankTermDeposit.ipynb\" target=\"_parent\"><img src=\"https://colab.research.google.com/assets/colab-badge.svg\" alt=\"Open In Colab\"/></a>"
      ]
    },
    {
      "cell_type": "code",
      "metadata": {
        "id": "C2Hi_ENnSCOn",
        "colab_type": "code",
        "colab": {}
      },
      "source": [
        "import os\n",
        "import numpy as np\n",
        "import pandas as pd\n",
        "\n",
        "#Visualizations\n",
        "import matplotlib as mpl\n",
        "from matplotlib import pyplot as plt\n",
        "\n",
        "#Modeling\n",
        "import sklearn"
      ],
      "execution_count": 0,
      "outputs": []
    },
    {
      "cell_type": "markdown",
      "metadata": {
        "id": "F1mCC49eVB4f",
        "colab_type": "text"
      },
      "source": [
        "Load the Data"
      ]
    },
    {
      "cell_type": "code",
      "metadata": {
        "id": "NbJtHWlkU-6F",
        "colab_type": "code",
        "colab": {}
      },
      "source": [
        "data = pd.read_excel('Bank Data for case study assignment.xlsx')"
      ],
      "execution_count": 0,
      "outputs": []
    },
    {
      "cell_type": "code",
      "metadata": {
        "id": "u_BJuB-IVM93",
        "colab_type": "code",
        "colab": {
          "base_uri": "https://localhost:8080/",
          "height": 206
        },
        "outputId": "19089d7b-796b-4841-f212-40589586c960"
      },
      "source": [
        "data.head()"
      ],
      "execution_count": 3,
      "outputs": [
        {
          "output_type": "execute_result",
          "data": {
            "text/html": [
              "<div>\n",
              "<style scoped>\n",
              "    .dataframe tbody tr th:only-of-type {\n",
              "        vertical-align: middle;\n",
              "    }\n",
              "\n",
              "    .dataframe tbody tr th {\n",
              "        vertical-align: top;\n",
              "    }\n",
              "\n",
              "    .dataframe thead th {\n",
              "        text-align: right;\n",
              "    }\n",
              "</style>\n",
              "<table border=\"1\" class=\"dataframe\">\n",
              "  <thead>\n",
              "    <tr style=\"text-align: right;\">\n",
              "      <th></th>\n",
              "      <th>age</th>\n",
              "      <th>job</th>\n",
              "      <th>marital status</th>\n",
              "      <th>education</th>\n",
              "      <th>credit default?</th>\n",
              "      <th>housing loan?</th>\n",
              "      <th>Personal loan</th>\n",
              "      <th>y</th>\n",
              "    </tr>\n",
              "  </thead>\n",
              "  <tbody>\n",
              "    <tr>\n",
              "      <th>0</th>\n",
              "      <td>30</td>\n",
              "      <td>unemployed</td>\n",
              "      <td>married</td>\n",
              "      <td>primary</td>\n",
              "      <td>no</td>\n",
              "      <td>no</td>\n",
              "      <td>no</td>\n",
              "      <td>no</td>\n",
              "    </tr>\n",
              "    <tr>\n",
              "      <th>1</th>\n",
              "      <td>33</td>\n",
              "      <td>services</td>\n",
              "      <td>married</td>\n",
              "      <td>secondary</td>\n",
              "      <td>no</td>\n",
              "      <td>yes</td>\n",
              "      <td>yes</td>\n",
              "      <td>no</td>\n",
              "    </tr>\n",
              "    <tr>\n",
              "      <th>2</th>\n",
              "      <td>35</td>\n",
              "      <td>management</td>\n",
              "      <td>single</td>\n",
              "      <td>tertiary</td>\n",
              "      <td>no</td>\n",
              "      <td>yes</td>\n",
              "      <td>no</td>\n",
              "      <td>no</td>\n",
              "    </tr>\n",
              "    <tr>\n",
              "      <th>3</th>\n",
              "      <td>30</td>\n",
              "      <td>management</td>\n",
              "      <td>married</td>\n",
              "      <td>tertiary</td>\n",
              "      <td>no</td>\n",
              "      <td>yes</td>\n",
              "      <td>yes</td>\n",
              "      <td>no</td>\n",
              "    </tr>\n",
              "    <tr>\n",
              "      <th>4</th>\n",
              "      <td>59</td>\n",
              "      <td>blue-collar</td>\n",
              "      <td>married</td>\n",
              "      <td>secondary</td>\n",
              "      <td>no</td>\n",
              "      <td>yes</td>\n",
              "      <td>no</td>\n",
              "      <td>no</td>\n",
              "    </tr>\n",
              "  </tbody>\n",
              "</table>\n",
              "</div>"
            ],
            "text/plain": [
              "   age          job marital status   ... housing loan? Personal loan   y\n",
              "0   30   unemployed         married  ...            no            no  no\n",
              "1   33     services         married  ...           yes           yes  no\n",
              "2   35   management          single  ...           yes            no  no\n",
              "3   30   management         married  ...           yes           yes  no\n",
              "4   59  blue-collar         married  ...           yes            no  no\n",
              "\n",
              "[5 rows x 8 columns]"
            ]
          },
          "metadata": {
            "tags": []
          },
          "execution_count": 3
        }
      ]
    },
    {
      "cell_type": "markdown",
      "metadata": {
        "id": "ailcQI3TYJQ7",
        "colab_type": "text"
      },
      "source": [
        "Exploratory Data Analysis and Statistical Analysis"
      ]
    },
    {
      "cell_type": "code",
      "metadata": {
        "id": "ZuvbayEOanKS",
        "colab_type": "code",
        "colab": {
          "base_uri": "https://localhost:8080/",
          "height": 73
        },
        "outputId": "56fb5dd1-4abf-4437-b517-6bc9aa1f4c61"
      },
      "source": [
        "data.columns"
      ],
      "execution_count": 4,
      "outputs": [
        {
          "output_type": "execute_result",
          "data": {
            "text/plain": [
              "Index(['age', 'job', 'marital status ', 'education', 'credit default?',\n",
              "       'housing loan?', 'Personal loan', 'y'],\n",
              "      dtype='object')"
            ]
          },
          "metadata": {
            "tags": []
          },
          "execution_count": 4
        }
      ]
    },
    {
      "cell_type": "markdown",
      "metadata": {
        "id": "_Xi-0CQ-azjv",
        "colab_type": "text"
      },
      "source": [
        "Column Marital Status is having extra space in the end, just rename it without space in the end"
      ]
    },
    {
      "cell_type": "code",
      "metadata": {
        "id": "aroM5xV8a82z",
        "colab_type": "code",
        "colab": {}
      },
      "source": [
        "data.rename(columns={'marital status ':'marital status'},inplace=True)"
      ],
      "execution_count": 0,
      "outputs": []
    },
    {
      "cell_type": "code",
      "metadata": {
        "id": "JMofyp3OVOH2",
        "colab_type": "code",
        "colab": {
          "base_uri": "https://localhost:8080/",
          "height": 259
        },
        "outputId": "3500f8a6-3dca-420b-ffe4-0071647a1d64"
      },
      "source": [
        "data.info()"
      ],
      "execution_count": 6,
      "outputs": [
        {
          "output_type": "stream",
          "text": [
            "<class 'pandas.core.frame.DataFrame'>\n",
            "RangeIndex: 1021 entries, 0 to 1020\n",
            "Data columns (total 8 columns):\n",
            "age                1021 non-null int64\n",
            "job                1019 non-null object\n",
            "marital status     1020 non-null object\n",
            "education          1020 non-null object\n",
            "credit default?    1020 non-null object\n",
            "housing loan?      1019 non-null object\n",
            "Personal loan      1019 non-null object\n",
            "y                  1021 non-null object\n",
            "dtypes: int64(1), object(7)\n",
            "memory usage: 63.9+ KB\n"
          ],
          "name": "stdout"
        }
      ]
    },
    {
      "cell_type": "markdown",
      "metadata": {
        "id": "SstfMzTCYW_x",
        "colab_type": "text"
      },
      "source": [
        "Total 1021 records in that Marital Status, Education, Credit Default having 1 missing data and Job,Housing Loan, Personal Loan has two missing data"
      ]
    },
    {
      "cell_type": "markdown",
      "metadata": {
        "id": "qaEiEJ9EZ4dc",
        "colab_type": "text"
      },
      "source": [
        "First fill the missing  value for the job"
      ]
    },
    {
      "cell_type": "code",
      "metadata": {
        "id": "RtFxSOStYuJJ",
        "colab_type": "code",
        "colab": {
          "base_uri": "https://localhost:8080/",
          "height": 112
        },
        "outputId": "ed91b850-aa64-49ae-bb1d-7f9fa1a7d84c"
      },
      "source": [
        "data[data['job'].isnull()]"
      ],
      "execution_count": 7,
      "outputs": [
        {
          "output_type": "execute_result",
          "data": {
            "text/html": [
              "<div>\n",
              "<style scoped>\n",
              "    .dataframe tbody tr th:only-of-type {\n",
              "        vertical-align: middle;\n",
              "    }\n",
              "\n",
              "    .dataframe tbody tr th {\n",
              "        vertical-align: top;\n",
              "    }\n",
              "\n",
              "    .dataframe thead th {\n",
              "        text-align: right;\n",
              "    }\n",
              "</style>\n",
              "<table border=\"1\" class=\"dataframe\">\n",
              "  <thead>\n",
              "    <tr style=\"text-align: right;\">\n",
              "      <th></th>\n",
              "      <th>age</th>\n",
              "      <th>job</th>\n",
              "      <th>marital status</th>\n",
              "      <th>education</th>\n",
              "      <th>credit default?</th>\n",
              "      <th>housing loan?</th>\n",
              "      <th>Personal loan</th>\n",
              "      <th>y</th>\n",
              "    </tr>\n",
              "  </thead>\n",
              "  <tbody>\n",
              "    <tr>\n",
              "      <th>79</th>\n",
              "      <td>40</td>\n",
              "      <td>NaN</td>\n",
              "      <td>married</td>\n",
              "      <td>secondary</td>\n",
              "      <td>no</td>\n",
              "      <td>yes</td>\n",
              "      <td>no</td>\n",
              "      <td>no</td>\n",
              "    </tr>\n",
              "    <tr>\n",
              "      <th>1004</th>\n",
              "      <td>42</td>\n",
              "      <td>NaN</td>\n",
              "      <td>single</td>\n",
              "      <td>secondary</td>\n",
              "      <td>no</td>\n",
              "      <td>yes</td>\n",
              "      <td>yes</td>\n",
              "      <td>yes</td>\n",
              "    </tr>\n",
              "  </tbody>\n",
              "</table>\n",
              "</div>"
            ],
            "text/plain": [
              "      age  job marital status  ... housing loan? Personal loan    y\n",
              "79     40  NaN        married  ...           yes            no   no\n",
              "1004   42  NaN         single  ...           yes           yes  yes\n",
              "\n",
              "[2 rows x 8 columns]"
            ]
          },
          "metadata": {
            "tags": []
          },
          "execution_count": 7
        }
      ]
    },
    {
      "cell_type": "markdown",
      "metadata": {
        "id": "IL1guWCbgVy5",
        "colab_type": "text"
      },
      "source": [
        "Taking the first record from above and looking for data whose attribute values are similar to that of the missing value and decide how to replace the missing value"
      ]
    },
    {
      "cell_type": "code",
      "metadata": {
        "id": "iiSw-4YSZ01E",
        "colab_type": "code",
        "colab": {
          "base_uri": "https://localhost:8080/",
          "height": 300
        },
        "outputId": "15412963-9856-4b33-ad2c-04f0ff877103"
      },
      "source": [
        "data[(data['age']== 40) & \n",
        "     (data['marital status'] =='married') & \n",
        "     (data['education'] =='secondary') & \n",
        "     (data['credit default?'] =='no') & \n",
        "     (data['housing loan?'] =='yes') & \n",
        "     (data['Personal loan'] =='no') & \n",
        "     (data['y'] =='no') & \n",
        "     (data['job'].isnull()==False)]"
      ],
      "execution_count": 8,
      "outputs": [
        {
          "output_type": "execute_result",
          "data": {
            "text/html": [
              "<div>\n",
              "<style scoped>\n",
              "    .dataframe tbody tr th:only-of-type {\n",
              "        vertical-align: middle;\n",
              "    }\n",
              "\n",
              "    .dataframe tbody tr th {\n",
              "        vertical-align: top;\n",
              "    }\n",
              "\n",
              "    .dataframe thead th {\n",
              "        text-align: right;\n",
              "    }\n",
              "</style>\n",
              "<table border=\"1\" class=\"dataframe\">\n",
              "  <thead>\n",
              "    <tr style=\"text-align: right;\">\n",
              "      <th></th>\n",
              "      <th>age</th>\n",
              "      <th>job</th>\n",
              "      <th>marital status</th>\n",
              "      <th>education</th>\n",
              "      <th>credit default?</th>\n",
              "      <th>housing loan?</th>\n",
              "      <th>Personal loan</th>\n",
              "      <th>y</th>\n",
              "    </tr>\n",
              "  </thead>\n",
              "  <tbody>\n",
              "    <tr>\n",
              "      <th>270</th>\n",
              "      <td>40</td>\n",
              "      <td>services</td>\n",
              "      <td>married</td>\n",
              "      <td>secondary</td>\n",
              "      <td>no</td>\n",
              "      <td>yes</td>\n",
              "      <td>no</td>\n",
              "      <td>no</td>\n",
              "    </tr>\n",
              "    <tr>\n",
              "      <th>482</th>\n",
              "      <td>40</td>\n",
              "      <td>technician</td>\n",
              "      <td>married</td>\n",
              "      <td>secondary</td>\n",
              "      <td>no</td>\n",
              "      <td>yes</td>\n",
              "      <td>no</td>\n",
              "      <td>no</td>\n",
              "    </tr>\n",
              "    <tr>\n",
              "      <th>597</th>\n",
              "      <td>40</td>\n",
              "      <td>management</td>\n",
              "      <td>married</td>\n",
              "      <td>secondary</td>\n",
              "      <td>no</td>\n",
              "      <td>yes</td>\n",
              "      <td>no</td>\n",
              "      <td>no</td>\n",
              "    </tr>\n",
              "    <tr>\n",
              "      <th>671</th>\n",
              "      <td>40</td>\n",
              "      <td>technician</td>\n",
              "      <td>married</td>\n",
              "      <td>secondary</td>\n",
              "      <td>no</td>\n",
              "      <td>yes</td>\n",
              "      <td>no</td>\n",
              "      <td>no</td>\n",
              "    </tr>\n",
              "    <tr>\n",
              "      <th>684</th>\n",
              "      <td>40</td>\n",
              "      <td>services</td>\n",
              "      <td>married</td>\n",
              "      <td>secondary</td>\n",
              "      <td>no</td>\n",
              "      <td>yes</td>\n",
              "      <td>no</td>\n",
              "      <td>no</td>\n",
              "    </tr>\n",
              "    <tr>\n",
              "      <th>710</th>\n",
              "      <td>40</td>\n",
              "      <td>technician</td>\n",
              "      <td>married</td>\n",
              "      <td>secondary</td>\n",
              "      <td>no</td>\n",
              "      <td>yes</td>\n",
              "      <td>no</td>\n",
              "      <td>no</td>\n",
              "    </tr>\n",
              "    <tr>\n",
              "      <th>960</th>\n",
              "      <td>40</td>\n",
              "      <td>technician</td>\n",
              "      <td>married</td>\n",
              "      <td>secondary</td>\n",
              "      <td>no</td>\n",
              "      <td>yes</td>\n",
              "      <td>no</td>\n",
              "      <td>no</td>\n",
              "    </tr>\n",
              "    <tr>\n",
              "      <th>1012</th>\n",
              "      <td>40</td>\n",
              "      <td>blue-collar</td>\n",
              "      <td>married</td>\n",
              "      <td>secondary</td>\n",
              "      <td>no</td>\n",
              "      <td>yes</td>\n",
              "      <td>no</td>\n",
              "      <td>no</td>\n",
              "    </tr>\n",
              "  </tbody>\n",
              "</table>\n",
              "</div>"
            ],
            "text/plain": [
              "      age          job marital status  ... housing loan? Personal loan   y\n",
              "270    40     services        married  ...           yes            no  no\n",
              "482    40   technician        married  ...           yes            no  no\n",
              "597    40   management        married  ...           yes            no  no\n",
              "671    40   technician        married  ...           yes            no  no\n",
              "684    40     services        married  ...           yes            no  no\n",
              "710    40   technician        married  ...           yes            no  no\n",
              "960    40   technician        married  ...           yes            no  no\n",
              "1012   40  blue-collar        married  ...           yes            no  no\n",
              "\n",
              "[8 rows x 8 columns]"
            ]
          },
          "metadata": {
            "tags": []
          },
          "execution_count": 8
        }
      ]
    },
    {
      "cell_type": "markdown",
      "metadata": {
        "id": "yewiJsZlcfzJ",
        "colab_type": "text"
      },
      "source": [
        "Taking the Mode and imputing the missing value for job "
      ]
    },
    {
      "cell_type": "code",
      "metadata": {
        "id": "K6pn-zZfb9FA",
        "colab_type": "code",
        "colab": {
          "base_uri": "https://localhost:8080/",
          "height": 54
        },
        "outputId": "7cf75fab-2ca6-4b30-b56f-11813c35eb06"
      },
      "source": [
        "data[(data['age']== 40) & \n",
        "     (data['marital status'] =='married') & \n",
        "     (data['education'] =='secondary')& \n",
        "     (data['credit default?'] =='no') & \n",
        "     (data['housing loan?'] =='yes') & \n",
        "     (data['Personal loan'] =='no') & \n",
        "     (data['job'].isnull()==False)]['job'].mode()"
      ],
      "execution_count": 9,
      "outputs": [
        {
          "output_type": "execute_result",
          "data": {
            "text/plain": [
              "0    technician\n",
              "dtype: object"
            ]
          },
          "metadata": {
            "tags": []
          },
          "execution_count": 9
        }
      ]
    },
    {
      "cell_type": "code",
      "metadata": {
        "id": "5pYbAkTEcpYE",
        "colab_type": "code",
        "colab": {
          "base_uri": "https://localhost:8080/",
          "height": 81
        },
        "outputId": "1740ba41-1508-4a1c-b44f-63dec4602b62"
      },
      "source": [
        "data[(data['age']== 40) & \n",
        "     (data['marital status'] =='married') & \n",
        "     (data['education'] =='secondary') & \n",
        "     (data['credit default?'] =='no') &\n",
        "     (data['housing loan?'] =='yes') & \n",
        "     (data['Personal loan'] =='no')& \n",
        "     (data['job'].isnull()==True)]"
      ],
      "execution_count": 10,
      "outputs": [
        {
          "output_type": "execute_result",
          "data": {
            "text/html": [
              "<div>\n",
              "<style scoped>\n",
              "    .dataframe tbody tr th:only-of-type {\n",
              "        vertical-align: middle;\n",
              "    }\n",
              "\n",
              "    .dataframe tbody tr th {\n",
              "        vertical-align: top;\n",
              "    }\n",
              "\n",
              "    .dataframe thead th {\n",
              "        text-align: right;\n",
              "    }\n",
              "</style>\n",
              "<table border=\"1\" class=\"dataframe\">\n",
              "  <thead>\n",
              "    <tr style=\"text-align: right;\">\n",
              "      <th></th>\n",
              "      <th>age</th>\n",
              "      <th>job</th>\n",
              "      <th>marital status</th>\n",
              "      <th>education</th>\n",
              "      <th>credit default?</th>\n",
              "      <th>housing loan?</th>\n",
              "      <th>Personal loan</th>\n",
              "      <th>y</th>\n",
              "    </tr>\n",
              "  </thead>\n",
              "  <tbody>\n",
              "    <tr>\n",
              "      <th>79</th>\n",
              "      <td>40</td>\n",
              "      <td>NaN</td>\n",
              "      <td>married</td>\n",
              "      <td>secondary</td>\n",
              "      <td>no</td>\n",
              "      <td>yes</td>\n",
              "      <td>no</td>\n",
              "      <td>no</td>\n",
              "    </tr>\n",
              "  </tbody>\n",
              "</table>\n",
              "</div>"
            ],
            "text/plain": [
              "    age  job marital status  ... housing loan? Personal loan   y\n",
              "79   40  NaN        married  ...           yes            no  no\n",
              "\n",
              "[1 rows x 8 columns]"
            ]
          },
          "metadata": {
            "tags": []
          },
          "execution_count": 10
        }
      ]
    },
    {
      "cell_type": "markdown",
      "metadata": {
        "id": "K5bOMf60dcCR",
        "colab_type": "text"
      },
      "source": [
        "imputing the new value for job using the mod value of job whose attributes had similar values as that of the missing values"
      ]
    },
    {
      "cell_type": "code",
      "metadata": {
        "id": "NX2iJx3_cuqt",
        "colab_type": "code",
        "colab": {}
      },
      "source": [
        "data.loc[(data['age']== 40) & \n",
        "         (data['marital status'] =='married') & \n",
        "         (data['education'] =='secondary')    & \n",
        "         (data['credit default?'] =='no') & \n",
        "         (data['housing loan?'] =='yes') & \n",
        "         (data['Personal loan'] =='no')\n",
        "    & (data['job'].isnull()==True),'job']=\\\n",
        "data[(data['age']== 40) & \n",
        "     (data['marital status'] =='married') & \n",
        "     (data['education'] =='secondary')    & \n",
        "     (data['credit default?'] =='no') & \n",
        "     (data['housing loan?'] =='yes') & \n",
        "     (data['Personal loan'] =='no')    & \n",
        "     (data['job'].isnull()==False)]['job'].mode()[0]"
      ],
      "execution_count": 0,
      "outputs": []
    },
    {
      "cell_type": "code",
      "metadata": {
        "id": "AdFmJ6vZdB00",
        "colab_type": "code",
        "colab": {
          "base_uri": "https://localhost:8080/",
          "height": 81
        },
        "outputId": "aa2d7b4a-c6f6-456d-c2f4-91284f1fe094"
      },
      "source": [
        "data[data['job'].isnull()]"
      ],
      "execution_count": 12,
      "outputs": [
        {
          "output_type": "execute_result",
          "data": {
            "text/html": [
              "<div>\n",
              "<style scoped>\n",
              "    .dataframe tbody tr th:only-of-type {\n",
              "        vertical-align: middle;\n",
              "    }\n",
              "\n",
              "    .dataframe tbody tr th {\n",
              "        vertical-align: top;\n",
              "    }\n",
              "\n",
              "    .dataframe thead th {\n",
              "        text-align: right;\n",
              "    }\n",
              "</style>\n",
              "<table border=\"1\" class=\"dataframe\">\n",
              "  <thead>\n",
              "    <tr style=\"text-align: right;\">\n",
              "      <th></th>\n",
              "      <th>age</th>\n",
              "      <th>job</th>\n",
              "      <th>marital status</th>\n",
              "      <th>education</th>\n",
              "      <th>credit default?</th>\n",
              "      <th>housing loan?</th>\n",
              "      <th>Personal loan</th>\n",
              "      <th>y</th>\n",
              "    </tr>\n",
              "  </thead>\n",
              "  <tbody>\n",
              "    <tr>\n",
              "      <th>1004</th>\n",
              "      <td>42</td>\n",
              "      <td>NaN</td>\n",
              "      <td>single</td>\n",
              "      <td>secondary</td>\n",
              "      <td>no</td>\n",
              "      <td>yes</td>\n",
              "      <td>yes</td>\n",
              "      <td>yes</td>\n",
              "    </tr>\n",
              "  </tbody>\n",
              "</table>\n",
              "</div>"
            ],
            "text/plain": [
              "      age  job marital status  ... housing loan? Personal loan    y\n",
              "1004   42  NaN         single  ...           yes           yes  yes\n",
              "\n",
              "[1 rows x 8 columns]"
            ]
          },
          "metadata": {
            "tags": []
          },
          "execution_count": 12
        }
      ]
    },
    {
      "cell_type": "markdown",
      "metadata": {
        "id": "o4TKDZnRgyDf",
        "colab_type": "text"
      },
      "source": [
        "Data imputed, from the above it is clear that only one is missing right now and do the similar kind of operation for above record also"
      ]
    },
    {
      "cell_type": "code",
      "metadata": {
        "id": "0bHAtDhchEDR",
        "colab_type": "code",
        "colab": {
          "base_uri": "https://localhost:8080/",
          "height": 49
        },
        "outputId": "8d26dc53-e3be-4291-9e1f-153a62a804ef"
      },
      "source": [
        "data[(data['age']== 42) & \n",
        "     (data['marital status'] =='single') & \n",
        "     (data['education'] =='secondary') & \n",
        "     (data['credit default?'] =='no') & \n",
        "     (data['housing loan?'] =='yes') & \n",
        "     (data['Personal loan'] =='yes') & \n",
        "     (data['y'] =='yes') & \n",
        "     (data['job'].isnull()==False)]"
      ],
      "execution_count": 13,
      "outputs": [
        {
          "output_type": "execute_result",
          "data": {
            "text/html": [
              "<div>\n",
              "<style scoped>\n",
              "    .dataframe tbody tr th:only-of-type {\n",
              "        vertical-align: middle;\n",
              "    }\n",
              "\n",
              "    .dataframe tbody tr th {\n",
              "        vertical-align: top;\n",
              "    }\n",
              "\n",
              "    .dataframe thead th {\n",
              "        text-align: right;\n",
              "    }\n",
              "</style>\n",
              "<table border=\"1\" class=\"dataframe\">\n",
              "  <thead>\n",
              "    <tr style=\"text-align: right;\">\n",
              "      <th></th>\n",
              "      <th>age</th>\n",
              "      <th>job</th>\n",
              "      <th>marital status</th>\n",
              "      <th>education</th>\n",
              "      <th>credit default?</th>\n",
              "      <th>housing loan?</th>\n",
              "      <th>Personal loan</th>\n",
              "      <th>y</th>\n",
              "    </tr>\n",
              "  </thead>\n",
              "  <tbody>\n",
              "  </tbody>\n",
              "</table>\n",
              "</div>"
            ],
            "text/plain": [
              "Empty DataFrame\n",
              "Columns: [age, job, marital status, education, credit default?, housing loan?, Personal loan, y]\n",
              "Index: []"
            ]
          },
          "metadata": {
            "tags": []
          },
          "execution_count": 13
        }
      ]
    },
    {
      "cell_type": "markdown",
      "metadata": {
        "id": "B_AP1r9KxF1i",
        "colab_type": "text"
      },
      "source": [
        "No data available for similar values.So look in broader scope"
      ]
    },
    {
      "cell_type": "markdown",
      "metadata": {
        "id": "CiTbj2pA12GG",
        "colab_type": "text"
      },
      "source": [
        "Remove the Marital Status and check"
      ]
    },
    {
      "cell_type": "code",
      "metadata": {
        "id": "4cKoWxWqxVkY",
        "colab_type": "code",
        "colab": {
          "base_uri": "https://localhost:8080/",
          "height": 49
        },
        "outputId": "7af8a2ad-eb77-41ac-f64e-fbb22e226bd2"
      },
      "source": [
        "data[(data['age']== 42) & \n",
        "     (data['education'] =='secondary') & \n",
        "     (data['credit default?'] =='no') & \n",
        "     (data['housing loan?'] =='yes') & \n",
        "     (data['Personal loan'] =='yes') & \n",
        "     (data['y'] =='yes') & \n",
        "     (data['job'].isnull()==False)]"
      ],
      "execution_count": 14,
      "outputs": [
        {
          "output_type": "execute_result",
          "data": {
            "text/html": [
              "<div>\n",
              "<style scoped>\n",
              "    .dataframe tbody tr th:only-of-type {\n",
              "        vertical-align: middle;\n",
              "    }\n",
              "\n",
              "    .dataframe tbody tr th {\n",
              "        vertical-align: top;\n",
              "    }\n",
              "\n",
              "    .dataframe thead th {\n",
              "        text-align: right;\n",
              "    }\n",
              "</style>\n",
              "<table border=\"1\" class=\"dataframe\">\n",
              "  <thead>\n",
              "    <tr style=\"text-align: right;\">\n",
              "      <th></th>\n",
              "      <th>age</th>\n",
              "      <th>job</th>\n",
              "      <th>marital status</th>\n",
              "      <th>education</th>\n",
              "      <th>credit default?</th>\n",
              "      <th>housing loan?</th>\n",
              "      <th>Personal loan</th>\n",
              "      <th>y</th>\n",
              "    </tr>\n",
              "  </thead>\n",
              "  <tbody>\n",
              "  </tbody>\n",
              "</table>\n",
              "</div>"
            ],
            "text/plain": [
              "Empty DataFrame\n",
              "Columns: [age, job, marital status, education, credit default?, housing loan?, Personal loan, y]\n",
              "Index: []"
            ]
          },
          "metadata": {
            "tags": []
          },
          "execution_count": 14
        }
      ]
    },
    {
      "cell_type": "markdown",
      "metadata": {
        "id": "9AiyOcm3178x",
        "colab_type": "text"
      },
      "source": [
        "Remove Education also and check"
      ]
    },
    {
      "cell_type": "code",
      "metadata": {
        "id": "JClBuhPD1--v",
        "colab_type": "code",
        "colab": {
          "base_uri": "https://localhost:8080/",
          "height": 49
        },
        "outputId": "c829074b-d7b8-4a08-a4a7-094777b800d2"
      },
      "source": [
        "data[(data['age']== 42) & \n",
        "     (data['credit default?'] =='no') & \n",
        "     (data['housing loan?'] =='yes') & \n",
        "     (data['Personal loan'] =='yes') & \n",
        "     (data['y'] =='yes') & \n",
        "     (data['job'].isnull()==False)]"
      ],
      "execution_count": 15,
      "outputs": [
        {
          "output_type": "execute_result",
          "data": {
            "text/html": [
              "<div>\n",
              "<style scoped>\n",
              "    .dataframe tbody tr th:only-of-type {\n",
              "        vertical-align: middle;\n",
              "    }\n",
              "\n",
              "    .dataframe tbody tr th {\n",
              "        vertical-align: top;\n",
              "    }\n",
              "\n",
              "    .dataframe thead th {\n",
              "        text-align: right;\n",
              "    }\n",
              "</style>\n",
              "<table border=\"1\" class=\"dataframe\">\n",
              "  <thead>\n",
              "    <tr style=\"text-align: right;\">\n",
              "      <th></th>\n",
              "      <th>age</th>\n",
              "      <th>job</th>\n",
              "      <th>marital status</th>\n",
              "      <th>education</th>\n",
              "      <th>credit default?</th>\n",
              "      <th>housing loan?</th>\n",
              "      <th>Personal loan</th>\n",
              "      <th>y</th>\n",
              "    </tr>\n",
              "  </thead>\n",
              "  <tbody>\n",
              "  </tbody>\n",
              "</table>\n",
              "</div>"
            ],
            "text/plain": [
              "Empty DataFrame\n",
              "Columns: [age, job, marital status, education, credit default?, housing loan?, Personal loan, y]\n",
              "Index: []"
            ]
          },
          "metadata": {
            "tags": []
          },
          "execution_count": 15
        }
      ]
    },
    {
      "cell_type": "markdown",
      "metadata": {
        "id": "s1QlKe9b2hrZ",
        "colab_type": "text"
      },
      "source": [
        "Remove credit default"
      ]
    },
    {
      "cell_type": "code",
      "metadata": {
        "id": "W9RZFw_72uca",
        "colab_type": "code",
        "colab": {
          "base_uri": "https://localhost:8080/",
          "height": 49
        },
        "outputId": "64fa26c6-a9c8-48d6-c16a-cf74b71a45df"
      },
      "source": [
        "data[(data['age']== 42) & \n",
        "     (data['housing loan?'] =='yes') & \n",
        "     (data['Personal loan'] =='yes') & \n",
        "     (data['y'] =='yes') & \n",
        "     (data['job'].isnull()==False)]"
      ],
      "execution_count": 16,
      "outputs": [
        {
          "output_type": "execute_result",
          "data": {
            "text/html": [
              "<div>\n",
              "<style scoped>\n",
              "    .dataframe tbody tr th:only-of-type {\n",
              "        vertical-align: middle;\n",
              "    }\n",
              "\n",
              "    .dataframe tbody tr th {\n",
              "        vertical-align: top;\n",
              "    }\n",
              "\n",
              "    .dataframe thead th {\n",
              "        text-align: right;\n",
              "    }\n",
              "</style>\n",
              "<table border=\"1\" class=\"dataframe\">\n",
              "  <thead>\n",
              "    <tr style=\"text-align: right;\">\n",
              "      <th></th>\n",
              "      <th>age</th>\n",
              "      <th>job</th>\n",
              "      <th>marital status</th>\n",
              "      <th>education</th>\n",
              "      <th>credit default?</th>\n",
              "      <th>housing loan?</th>\n",
              "      <th>Personal loan</th>\n",
              "      <th>y</th>\n",
              "    </tr>\n",
              "  </thead>\n",
              "  <tbody>\n",
              "  </tbody>\n",
              "</table>\n",
              "</div>"
            ],
            "text/plain": [
              "Empty DataFrame\n",
              "Columns: [age, job, marital status, education, credit default?, housing loan?, Personal loan, y]\n",
              "Index: []"
            ]
          },
          "metadata": {
            "tags": []
          },
          "execution_count": 16
        }
      ]
    },
    {
      "cell_type": "markdown",
      "metadata": {
        "id": "cWyS9Xgk2ydx",
        "colab_type": "text"
      },
      "source": [
        "Remove housing loan"
      ]
    },
    {
      "cell_type": "code",
      "metadata": {
        "id": "3z2vTRzv20UO",
        "colab_type": "code",
        "colab": {
          "base_uri": "https://localhost:8080/",
          "height": 49
        },
        "outputId": "c567d4d2-461d-4b00-adf2-067dcf27c404"
      },
      "source": [
        "data[(data['age']== 42) &  \n",
        "     (data['Personal loan'] =='yes') & \n",
        "     (data['y'] =='yes') & \n",
        "     (data['job'].isnull()==False)]"
      ],
      "execution_count": 17,
      "outputs": [
        {
          "output_type": "execute_result",
          "data": {
            "text/html": [
              "<div>\n",
              "<style scoped>\n",
              "    .dataframe tbody tr th:only-of-type {\n",
              "        vertical-align: middle;\n",
              "    }\n",
              "\n",
              "    .dataframe tbody tr th {\n",
              "        vertical-align: top;\n",
              "    }\n",
              "\n",
              "    .dataframe thead th {\n",
              "        text-align: right;\n",
              "    }\n",
              "</style>\n",
              "<table border=\"1\" class=\"dataframe\">\n",
              "  <thead>\n",
              "    <tr style=\"text-align: right;\">\n",
              "      <th></th>\n",
              "      <th>age</th>\n",
              "      <th>job</th>\n",
              "      <th>marital status</th>\n",
              "      <th>education</th>\n",
              "      <th>credit default?</th>\n",
              "      <th>housing loan?</th>\n",
              "      <th>Personal loan</th>\n",
              "      <th>y</th>\n",
              "    </tr>\n",
              "  </thead>\n",
              "  <tbody>\n",
              "  </tbody>\n",
              "</table>\n",
              "</div>"
            ],
            "text/plain": [
              "Empty DataFrame\n",
              "Columns: [age, job, marital status, education, credit default?, housing loan?, Personal loan, y]\n",
              "Index: []"
            ]
          },
          "metadata": {
            "tags": []
          },
          "execution_count": 17
        }
      ]
    },
    {
      "cell_type": "markdown",
      "metadata": {
        "id": "Z9XN_8sO222L",
        "colab_type": "text"
      },
      "source": [
        "Remove the Personal loan also from condition"
      ]
    },
    {
      "cell_type": "code",
      "metadata": {
        "id": "RXOtB2wv27-e",
        "colab_type": "code",
        "colab": {
          "base_uri": "https://localhost:8080/",
          "height": 81
        },
        "outputId": "9cde60e8-d755-47e4-e1be-b24d8d5d185c"
      },
      "source": [
        "data[(data['age']== 42) &  \n",
        "     (data['y'] =='yes') & \n",
        "     (data['job'].isnull()==False)]"
      ],
      "execution_count": 18,
      "outputs": [
        {
          "output_type": "execute_result",
          "data": {
            "text/html": [
              "<div>\n",
              "<style scoped>\n",
              "    .dataframe tbody tr th:only-of-type {\n",
              "        vertical-align: middle;\n",
              "    }\n",
              "\n",
              "    .dataframe tbody tr th {\n",
              "        vertical-align: top;\n",
              "    }\n",
              "\n",
              "    .dataframe thead th {\n",
              "        text-align: right;\n",
              "    }\n",
              "</style>\n",
              "<table border=\"1\" class=\"dataframe\">\n",
              "  <thead>\n",
              "    <tr style=\"text-align: right;\">\n",
              "      <th></th>\n",
              "      <th>age</th>\n",
              "      <th>job</th>\n",
              "      <th>marital status</th>\n",
              "      <th>education</th>\n",
              "      <th>credit default?</th>\n",
              "      <th>housing loan?</th>\n",
              "      <th>Personal loan</th>\n",
              "      <th>y</th>\n",
              "    </tr>\n",
              "  </thead>\n",
              "  <tbody>\n",
              "    <tr>\n",
              "      <th>215</th>\n",
              "      <td>42</td>\n",
              "      <td>management</td>\n",
              "      <td>married</td>\n",
              "      <td>tertiary</td>\n",
              "      <td>no</td>\n",
              "      <td>yes</td>\n",
              "      <td>no</td>\n",
              "      <td>yes</td>\n",
              "    </tr>\n",
              "  </tbody>\n",
              "</table>\n",
              "</div>"
            ],
            "text/plain": [
              "     age         job marital status  ... housing loan? Personal loan    y\n",
              "215   42  management        married  ...           yes            no  yes\n",
              "\n",
              "[1 rows x 8 columns]"
            ]
          },
          "metadata": {
            "tags": []
          },
          "execution_count": 18
        }
      ]
    },
    {
      "cell_type": "markdown",
      "metadata": {
        "id": "qt8w3nbS2_Ko",
        "colab_type": "text"
      },
      "source": [
        "Finally we got that the missing value based on the result from above. So lets impute the job value to the missing value"
      ]
    },
    {
      "cell_type": "code",
      "metadata": {
        "id": "H2Z44LQP3OAa",
        "colab_type": "code",
        "colab": {
          "base_uri": "https://localhost:8080/",
          "height": 36
        },
        "outputId": "29e46260-e85b-40d9-fe9b-7fafa5fb5223"
      },
      "source": [
        "data[(data['age']== 42) &  \n",
        "     (data['y'] =='yes') & \n",
        "     (data['job'].isnull()==False)]['job'].mode()[0]"
      ],
      "execution_count": 19,
      "outputs": [
        {
          "output_type": "execute_result",
          "data": {
            "text/plain": [
              "'management'"
            ]
          },
          "metadata": {
            "tags": []
          },
          "execution_count": 19
        }
      ]
    },
    {
      "cell_type": "code",
      "metadata": {
        "id": "_mpfvcs_3VYb",
        "colab_type": "code",
        "colab": {
          "base_uri": "https://localhost:8080/",
          "height": 81
        },
        "outputId": "3eeeef78-635c-432e-dfa4-fb59628c2f86"
      },
      "source": [
        "data[(data['age']== 42) & \n",
        "     (data['marital status'] =='single') & \n",
        "     (data['education'] =='secondary') & \n",
        "     (data['credit default?'] =='no') & \n",
        "     (data['housing loan?'] =='yes') & \n",
        "     (data['Personal loan'] =='yes') & \n",
        "     (data['y'] =='yes') & \n",
        "     (data['job'].isnull()==True)]"
      ],
      "execution_count": 20,
      "outputs": [
        {
          "output_type": "execute_result",
          "data": {
            "text/html": [
              "<div>\n",
              "<style scoped>\n",
              "    .dataframe tbody tr th:only-of-type {\n",
              "        vertical-align: middle;\n",
              "    }\n",
              "\n",
              "    .dataframe tbody tr th {\n",
              "        vertical-align: top;\n",
              "    }\n",
              "\n",
              "    .dataframe thead th {\n",
              "        text-align: right;\n",
              "    }\n",
              "</style>\n",
              "<table border=\"1\" class=\"dataframe\">\n",
              "  <thead>\n",
              "    <tr style=\"text-align: right;\">\n",
              "      <th></th>\n",
              "      <th>age</th>\n",
              "      <th>job</th>\n",
              "      <th>marital status</th>\n",
              "      <th>education</th>\n",
              "      <th>credit default?</th>\n",
              "      <th>housing loan?</th>\n",
              "      <th>Personal loan</th>\n",
              "      <th>y</th>\n",
              "    </tr>\n",
              "  </thead>\n",
              "  <tbody>\n",
              "    <tr>\n",
              "      <th>1004</th>\n",
              "      <td>42</td>\n",
              "      <td>NaN</td>\n",
              "      <td>single</td>\n",
              "      <td>secondary</td>\n",
              "      <td>no</td>\n",
              "      <td>yes</td>\n",
              "      <td>yes</td>\n",
              "      <td>yes</td>\n",
              "    </tr>\n",
              "  </tbody>\n",
              "</table>\n",
              "</div>"
            ],
            "text/plain": [
              "      age  job marital status  ... housing loan? Personal loan    y\n",
              "1004   42  NaN         single  ...           yes           yes  yes\n",
              "\n",
              "[1 rows x 8 columns]"
            ]
          },
          "metadata": {
            "tags": []
          },
          "execution_count": 20
        }
      ]
    },
    {
      "cell_type": "code",
      "metadata": {
        "id": "yx_6SJfA3cOY",
        "colab_type": "code",
        "colab": {}
      },
      "source": [
        "data.loc[(data['age']== 42) & \n",
        "     (data['marital status'] =='single') & \n",
        "     (data['education'] =='secondary') & \n",
        "     (data['credit default?'] =='no') & \n",
        "     (data['housing loan?'] =='yes') & \n",
        "     (data['Personal loan'] =='yes') & \n",
        "     (data['y'] =='yes') & \n",
        "     (data['job'].isnull()==True),'job']=\\\n",
        "data[(data['age']== 42) &  \n",
        "     (data['y'] =='yes') & \n",
        "     (data['job'].isnull()==False)\n",
        "    ]['job'].mode()[0]"
      ],
      "execution_count": 0,
      "outputs": []
    },
    {
      "cell_type": "markdown",
      "metadata": {
        "id": "u01h76-e3sTF",
        "colab_type": "text"
      },
      "source": [
        "Lets check the whether the values are imputed to the job"
      ]
    },
    {
      "cell_type": "code",
      "metadata": {
        "id": "6j4kJw2n33Jv",
        "colab_type": "code",
        "colab": {
          "base_uri": "https://localhost:8080/",
          "height": 49
        },
        "outputId": "ac416e09-7d49-491d-e3f4-1935d2225271"
      },
      "source": [
        "data[data['job'].isnull()]"
      ],
      "execution_count": 22,
      "outputs": [
        {
          "output_type": "execute_result",
          "data": {
            "text/html": [
              "<div>\n",
              "<style scoped>\n",
              "    .dataframe tbody tr th:only-of-type {\n",
              "        vertical-align: middle;\n",
              "    }\n",
              "\n",
              "    .dataframe tbody tr th {\n",
              "        vertical-align: top;\n",
              "    }\n",
              "\n",
              "    .dataframe thead th {\n",
              "        text-align: right;\n",
              "    }\n",
              "</style>\n",
              "<table border=\"1\" class=\"dataframe\">\n",
              "  <thead>\n",
              "    <tr style=\"text-align: right;\">\n",
              "      <th></th>\n",
              "      <th>age</th>\n",
              "      <th>job</th>\n",
              "      <th>marital status</th>\n",
              "      <th>education</th>\n",
              "      <th>credit default?</th>\n",
              "      <th>housing loan?</th>\n",
              "      <th>Personal loan</th>\n",
              "      <th>y</th>\n",
              "    </tr>\n",
              "  </thead>\n",
              "  <tbody>\n",
              "  </tbody>\n",
              "</table>\n",
              "</div>"
            ],
            "text/plain": [
              "Empty DataFrame\n",
              "Columns: [age, job, marital status, education, credit default?, housing loan?, Personal loan, y]\n",
              "Index: []"
            ]
          },
          "metadata": {
            "tags": []
          },
          "execution_count": 22
        }
      ]
    },
    {
      "cell_type": "code",
      "metadata": {
        "id": "1fCDHvIz3y5A",
        "colab_type": "code",
        "colab": {
          "base_uri": "https://localhost:8080/",
          "height": 259
        },
        "outputId": "4fb63c29-c6d6-43e4-cff7-3a2c07a788ed"
      },
      "source": [
        "data.info()"
      ],
      "execution_count": 23,
      "outputs": [
        {
          "output_type": "stream",
          "text": [
            "<class 'pandas.core.frame.DataFrame'>\n",
            "RangeIndex: 1021 entries, 0 to 1020\n",
            "Data columns (total 8 columns):\n",
            "age                1021 non-null int64\n",
            "job                1021 non-null object\n",
            "marital status     1020 non-null object\n",
            "education          1020 non-null object\n",
            "credit default?    1020 non-null object\n",
            "housing loan?      1019 non-null object\n",
            "Personal loan      1019 non-null object\n",
            "y                  1021 non-null object\n",
            "dtypes: int64(1), object(7)\n",
            "memory usage: 63.9+ KB\n"
          ],
          "name": "stdout"
        }
      ]
    },
    {
      "cell_type": "markdown",
      "metadata": {
        "id": "BuOXFRaY37h8",
        "colab_type": "text"
      },
      "source": [
        "No empty values in job, so lets move on to the next attribute housing loan"
      ]
    },
    {
      "cell_type": "code",
      "metadata": {
        "id": "z1ZStjLl4S4y",
        "colab_type": "code",
        "colab": {
          "base_uri": "https://localhost:8080/",
          "height": 112
        },
        "outputId": "ed098973-18f0-425e-e7b7-bea656d3355a"
      },
      "source": [
        "data[data['housing loan?'].isnull()]"
      ],
      "execution_count": 24,
      "outputs": [
        {
          "output_type": "execute_result",
          "data": {
            "text/html": [
              "<div>\n",
              "<style scoped>\n",
              "    .dataframe tbody tr th:only-of-type {\n",
              "        vertical-align: middle;\n",
              "    }\n",
              "\n",
              "    .dataframe tbody tr th {\n",
              "        vertical-align: top;\n",
              "    }\n",
              "\n",
              "    .dataframe thead th {\n",
              "        text-align: right;\n",
              "    }\n",
              "</style>\n",
              "<table border=\"1\" class=\"dataframe\">\n",
              "  <thead>\n",
              "    <tr style=\"text-align: right;\">\n",
              "      <th></th>\n",
              "      <th>age</th>\n",
              "      <th>job</th>\n",
              "      <th>marital status</th>\n",
              "      <th>education</th>\n",
              "      <th>credit default?</th>\n",
              "      <th>housing loan?</th>\n",
              "      <th>Personal loan</th>\n",
              "      <th>y</th>\n",
              "    </tr>\n",
              "  </thead>\n",
              "  <tbody>\n",
              "    <tr>\n",
              "      <th>109</th>\n",
              "      <td>27</td>\n",
              "      <td>housemaid</td>\n",
              "      <td>married</td>\n",
              "      <td>primary</td>\n",
              "      <td>no</td>\n",
              "      <td>NaN</td>\n",
              "      <td>NaN</td>\n",
              "      <td>no</td>\n",
              "    </tr>\n",
              "    <tr>\n",
              "      <th>1016</th>\n",
              "      <td>33</td>\n",
              "      <td>services</td>\n",
              "      <td>married</td>\n",
              "      <td>secondary</td>\n",
              "      <td>no</td>\n",
              "      <td>NaN</td>\n",
              "      <td>no</td>\n",
              "      <td>no</td>\n",
              "    </tr>\n",
              "  </tbody>\n",
              "</table>\n",
              "</div>"
            ],
            "text/plain": [
              "      age        job marital status  ... housing loan? Personal loan   y\n",
              "109    27  housemaid        married  ...           NaN           NaN  no\n",
              "1016   33   services        married  ...           NaN            no  no\n",
              "\n",
              "[2 rows x 8 columns]"
            ]
          },
          "metadata": {
            "tags": []
          },
          "execution_count": 24
        }
      ]
    },
    {
      "cell_type": "markdown",
      "metadata": {
        "id": "boFVO61-4cDS",
        "colab_type": "text"
      },
      "source": [
        "as the first row has missing values in personal loan as well, so lets focus on the second row"
      ]
    },
    {
      "cell_type": "code",
      "metadata": {
        "id": "3J-2sTww4j_9",
        "colab_type": "code",
        "colab": {
          "base_uri": "https://localhost:8080/",
          "height": 81
        },
        "outputId": "3c1c6709-a6ad-4709-aa05-e0bd348b17a3"
      },
      "source": [
        "data[(data['age']==33) &\n",
        "    (data['job']=='services') &\n",
        "    (data['marital status']=='married') &\n",
        "    (data['education']=='secondary') &\n",
        "    (data['credit default?']=='no') &\n",
        "    (data['housing loan?'].isnull()==False) &\n",
        "    (data['Personal loan']=='no') &\n",
        "    (data['y']=='no')]"
      ],
      "execution_count": 25,
      "outputs": [
        {
          "output_type": "execute_result",
          "data": {
            "text/html": [
              "<div>\n",
              "<style scoped>\n",
              "    .dataframe tbody tr th:only-of-type {\n",
              "        vertical-align: middle;\n",
              "    }\n",
              "\n",
              "    .dataframe tbody tr th {\n",
              "        vertical-align: top;\n",
              "    }\n",
              "\n",
              "    .dataframe thead th {\n",
              "        text-align: right;\n",
              "    }\n",
              "</style>\n",
              "<table border=\"1\" class=\"dataframe\">\n",
              "  <thead>\n",
              "    <tr style=\"text-align: right;\">\n",
              "      <th></th>\n",
              "      <th>age</th>\n",
              "      <th>job</th>\n",
              "      <th>marital status</th>\n",
              "      <th>education</th>\n",
              "      <th>credit default?</th>\n",
              "      <th>housing loan?</th>\n",
              "      <th>Personal loan</th>\n",
              "      <th>y</th>\n",
              "    </tr>\n",
              "  </thead>\n",
              "  <tbody>\n",
              "    <tr>\n",
              "      <th>1007</th>\n",
              "      <td>33</td>\n",
              "      <td>services</td>\n",
              "      <td>married</td>\n",
              "      <td>secondary</td>\n",
              "      <td>no</td>\n",
              "      <td>yes</td>\n",
              "      <td>no</td>\n",
              "      <td>no</td>\n",
              "    </tr>\n",
              "  </tbody>\n",
              "</table>\n",
              "</div>"
            ],
            "text/plain": [
              "      age       job marital status  ... housing loan? Personal loan   y\n",
              "1007   33  services        married  ...           yes            no  no\n",
              "\n",
              "[1 rows x 8 columns]"
            ]
          },
          "metadata": {
            "tags": []
          },
          "execution_count": 25
        }
      ]
    },
    {
      "cell_type": "markdown",
      "metadata": {
        "id": "fbqvdzNJ5mi0",
        "colab_type": "text"
      },
      "source": [
        "lets impute the value based on the above result"
      ]
    },
    {
      "cell_type": "code",
      "metadata": {
        "id": "mCKkBq8l5qMU",
        "colab_type": "code",
        "colab": {
          "base_uri": "https://localhost:8080/",
          "height": 36
        },
        "outputId": "c3441378-078b-489c-c487-ea62b825d7fc"
      },
      "source": [
        "data[(data['age']==33) &\n",
        "    (data['job']=='services') &\n",
        "    (data['marital status']=='married') &\n",
        "    (data['education']=='secondary') &\n",
        "    (data['credit default?']=='no') &\n",
        "    (data['housing loan?'].isnull()==False) &\n",
        "    (data['Personal loan']=='no') &\n",
        "    (data['y']=='no')]['job'].mode()[0]"
      ],
      "execution_count": 26,
      "outputs": [
        {
          "output_type": "execute_result",
          "data": {
            "text/plain": [
              "'services'"
            ]
          },
          "metadata": {
            "tags": []
          },
          "execution_count": 26
        }
      ]
    },
    {
      "cell_type": "code",
      "metadata": {
        "id": "auW97jod55tw",
        "colab_type": "code",
        "colab": {}
      },
      "source": [
        "data.loc[(data['age']==33) &\n",
        "    (data['job']=='services') &\n",
        "    (data['marital status']=='married') &\n",
        "    (data['education']=='secondary') &\n",
        "    (data['credit default?']=='no') &\n",
        "    (data['housing loan?'].isnull()) &\n",
        "    (data['Personal loan']=='no') &\n",
        "    (data['y']=='no'),'housing loan?']=\\\n",
        "data[(data['age']==33) &\n",
        "    (data['job']=='services') &\n",
        "    (data['marital status']=='married') &\n",
        "    (data['education']=='secondary') &\n",
        "    (data['credit default?']=='no') &\n",
        "    (data['housing loan?'].isnull()==False) &\n",
        "    (data['Personal loan']=='no') &\n",
        "    (data['y']=='no')]['job'].mode()[0]"
      ],
      "execution_count": 0,
      "outputs": []
    },
    {
      "cell_type": "code",
      "metadata": {
        "id": "PsUmOPNQ6Pl2",
        "colab_type": "code",
        "colab": {
          "base_uri": "https://localhost:8080/",
          "height": 81
        },
        "outputId": "8e880b08-3d62-4da3-e85d-5224362dc50d"
      },
      "source": [
        "data[data['housing loan?'].isnull()]"
      ],
      "execution_count": 28,
      "outputs": [
        {
          "output_type": "execute_result",
          "data": {
            "text/html": [
              "<div>\n",
              "<style scoped>\n",
              "    .dataframe tbody tr th:only-of-type {\n",
              "        vertical-align: middle;\n",
              "    }\n",
              "\n",
              "    .dataframe tbody tr th {\n",
              "        vertical-align: top;\n",
              "    }\n",
              "\n",
              "    .dataframe thead th {\n",
              "        text-align: right;\n",
              "    }\n",
              "</style>\n",
              "<table border=\"1\" class=\"dataframe\">\n",
              "  <thead>\n",
              "    <tr style=\"text-align: right;\">\n",
              "      <th></th>\n",
              "      <th>age</th>\n",
              "      <th>job</th>\n",
              "      <th>marital status</th>\n",
              "      <th>education</th>\n",
              "      <th>credit default?</th>\n",
              "      <th>housing loan?</th>\n",
              "      <th>Personal loan</th>\n",
              "      <th>y</th>\n",
              "    </tr>\n",
              "  </thead>\n",
              "  <tbody>\n",
              "    <tr>\n",
              "      <th>109</th>\n",
              "      <td>27</td>\n",
              "      <td>housemaid</td>\n",
              "      <td>married</td>\n",
              "      <td>primary</td>\n",
              "      <td>no</td>\n",
              "      <td>NaN</td>\n",
              "      <td>NaN</td>\n",
              "      <td>no</td>\n",
              "    </tr>\n",
              "  </tbody>\n",
              "</table>\n",
              "</div>"
            ],
            "text/plain": [
              "     age        job marital status  ... housing loan? Personal loan   y\n",
              "109   27  housemaid        married  ...           NaN           NaN  no\n",
              "\n",
              "[1 rows x 8 columns]"
            ]
          },
          "metadata": {
            "tags": []
          },
          "execution_count": 28
        }
      ]
    },
    {
      "cell_type": "code",
      "metadata": {
        "id": "djTkvsy96UdX",
        "colab_type": "code",
        "colab": {
          "base_uri": "https://localhost:8080/",
          "height": 49
        },
        "outputId": "7166c4ed-dc58-4117-a62b-6ed6c4d2c992"
      },
      "source": [
        "data[(data['age']==27) &\n",
        "    (data['job']=='housemaid') &\n",
        "    (data['marital status']=='married') &\n",
        "    (data['education']=='primary') &\n",
        "    (data['credit default?']=='no') &\n",
        "    (data['housing loan?'].isnull()==False) &\n",
        "    (data['y']=='no')]"
      ],
      "execution_count": 29,
      "outputs": [
        {
          "output_type": "execute_result",
          "data": {
            "text/html": [
              "<div>\n",
              "<style scoped>\n",
              "    .dataframe tbody tr th:only-of-type {\n",
              "        vertical-align: middle;\n",
              "    }\n",
              "\n",
              "    .dataframe tbody tr th {\n",
              "        vertical-align: top;\n",
              "    }\n",
              "\n",
              "    .dataframe thead th {\n",
              "        text-align: right;\n",
              "    }\n",
              "</style>\n",
              "<table border=\"1\" class=\"dataframe\">\n",
              "  <thead>\n",
              "    <tr style=\"text-align: right;\">\n",
              "      <th></th>\n",
              "      <th>age</th>\n",
              "      <th>job</th>\n",
              "      <th>marital status</th>\n",
              "      <th>education</th>\n",
              "      <th>credit default?</th>\n",
              "      <th>housing loan?</th>\n",
              "      <th>Personal loan</th>\n",
              "      <th>y</th>\n",
              "    </tr>\n",
              "  </thead>\n",
              "  <tbody>\n",
              "  </tbody>\n",
              "</table>\n",
              "</div>"
            ],
            "text/plain": [
              "Empty DataFrame\n",
              "Columns: [age, job, marital status, education, credit default?, housing loan?, Personal loan, y]\n",
              "Index: []"
            ]
          },
          "metadata": {
            "tags": []
          },
          "execution_count": 29
        }
      ]
    },
    {
      "cell_type": "markdown",
      "metadata": {
        "id": "NKK3M0yK7Axc",
        "colab_type": "text"
      },
      "source": [
        "since we dont have data for matching attribute values , lets check in that age we have data"
      ]
    },
    {
      "cell_type": "code",
      "metadata": {
        "id": "ZmaqvSED7oK1",
        "colab_type": "code",
        "colab": {
          "base_uri": "https://localhost:8080/",
          "height": 206
        },
        "outputId": "0845f14e-dd30-48d8-bb95-945b176fea90"
      },
      "source": [
        "data[data['age']==27].head()"
      ],
      "execution_count": 30,
      "outputs": [
        {
          "output_type": "execute_result",
          "data": {
            "text/html": [
              "<div>\n",
              "<style scoped>\n",
              "    .dataframe tbody tr th:only-of-type {\n",
              "        vertical-align: middle;\n",
              "    }\n",
              "\n",
              "    .dataframe tbody tr th {\n",
              "        vertical-align: top;\n",
              "    }\n",
              "\n",
              "    .dataframe thead th {\n",
              "        text-align: right;\n",
              "    }\n",
              "</style>\n",
              "<table border=\"1\" class=\"dataframe\">\n",
              "  <thead>\n",
              "    <tr style=\"text-align: right;\">\n",
              "      <th></th>\n",
              "      <th>age</th>\n",
              "      <th>job</th>\n",
              "      <th>marital status</th>\n",
              "      <th>education</th>\n",
              "      <th>credit default?</th>\n",
              "      <th>housing loan?</th>\n",
              "      <th>Personal loan</th>\n",
              "      <th>y</th>\n",
              "    </tr>\n",
              "  </thead>\n",
              "  <tbody>\n",
              "    <tr>\n",
              "      <th>80</th>\n",
              "      <td>27</td>\n",
              "      <td>admin.</td>\n",
              "      <td>divorced</td>\n",
              "      <td>secondary</td>\n",
              "      <td>no</td>\n",
              "      <td>yes</td>\n",
              "      <td>no</td>\n",
              "      <td>yes</td>\n",
              "    </tr>\n",
              "    <tr>\n",
              "      <th>92</th>\n",
              "      <td>27</td>\n",
              "      <td>services</td>\n",
              "      <td>single</td>\n",
              "      <td>secondary</td>\n",
              "      <td>no</td>\n",
              "      <td>yes</td>\n",
              "      <td>no</td>\n",
              "      <td>yes</td>\n",
              "    </tr>\n",
              "    <tr>\n",
              "      <th>109</th>\n",
              "      <td>27</td>\n",
              "      <td>housemaid</td>\n",
              "      <td>married</td>\n",
              "      <td>primary</td>\n",
              "      <td>no</td>\n",
              "      <td>NaN</td>\n",
              "      <td>NaN</td>\n",
              "      <td>no</td>\n",
              "    </tr>\n",
              "    <tr>\n",
              "      <th>134</th>\n",
              "      <td>27</td>\n",
              "      <td>technician</td>\n",
              "      <td>single</td>\n",
              "      <td>secondary</td>\n",
              "      <td>no</td>\n",
              "      <td>yes</td>\n",
              "      <td>no</td>\n",
              "      <td>no</td>\n",
              "    </tr>\n",
              "    <tr>\n",
              "      <th>158</th>\n",
              "      <td>27</td>\n",
              "      <td>self-employed</td>\n",
              "      <td>single</td>\n",
              "      <td>secondary</td>\n",
              "      <td>no</td>\n",
              "      <td>no</td>\n",
              "      <td>no</td>\n",
              "      <td>no</td>\n",
              "    </tr>\n",
              "  </tbody>\n",
              "</table>\n",
              "</div>"
            ],
            "text/plain": [
              "     age            job marital status  ... housing loan? Personal loan    y\n",
              "80    27         admin.       divorced  ...           yes            no  yes\n",
              "92    27       services         single  ...           yes            no  yes\n",
              "109   27      housemaid        married  ...           NaN           NaN   no\n",
              "134   27     technician         single  ...           yes            no   no\n",
              "158   27  self-employed         single  ...            no            no   no\n",
              "\n",
              "[5 rows x 8 columns]"
            ]
          },
          "metadata": {
            "tags": []
          },
          "execution_count": 30
        }
      ]
    },
    {
      "cell_type": "markdown",
      "metadata": {
        "id": "_KU9qE2B7uiX",
        "colab_type": "text"
      },
      "source": [
        "as we have many samples, lets add another condition that do we have housemaid more than one that is apart the one which has missing value"
      ]
    },
    {
      "cell_type": "code",
      "metadata": {
        "id": "prkj1Imz8BGB",
        "colab_type": "code",
        "colab": {
          "base_uri": "https://localhost:8080/",
          "height": 49
        },
        "outputId": "9f9916e2-8631-4fc2-e44e-afc934e11ff5"
      },
      "source": [
        "data[(data['age']==27) & (data['job']=='housemaid') & (data['housing loan?'].isnull()==False)]"
      ],
      "execution_count": 31,
      "outputs": [
        {
          "output_type": "execute_result",
          "data": {
            "text/html": [
              "<div>\n",
              "<style scoped>\n",
              "    .dataframe tbody tr th:only-of-type {\n",
              "        vertical-align: middle;\n",
              "    }\n",
              "\n",
              "    .dataframe tbody tr th {\n",
              "        vertical-align: top;\n",
              "    }\n",
              "\n",
              "    .dataframe thead th {\n",
              "        text-align: right;\n",
              "    }\n",
              "</style>\n",
              "<table border=\"1\" class=\"dataframe\">\n",
              "  <thead>\n",
              "    <tr style=\"text-align: right;\">\n",
              "      <th></th>\n",
              "      <th>age</th>\n",
              "      <th>job</th>\n",
              "      <th>marital status</th>\n",
              "      <th>education</th>\n",
              "      <th>credit default?</th>\n",
              "      <th>housing loan?</th>\n",
              "      <th>Personal loan</th>\n",
              "      <th>y</th>\n",
              "    </tr>\n",
              "  </thead>\n",
              "  <tbody>\n",
              "  </tbody>\n",
              "</table>\n",
              "</div>"
            ],
            "text/plain": [
              "Empty DataFrame\n",
              "Columns: [age, job, marital status, education, credit default?, housing loan?, Personal loan, y]\n",
              "Index: []"
            ]
          },
          "metadata": {
            "tags": []
          },
          "execution_count": 31
        }
      ]
    },
    {
      "cell_type": "markdown",
      "metadata": {
        "id": "WDKehq4m8N-0",
        "colab_type": "text"
      },
      "source": [
        "As the data is not available, lets put a range to the age as 25-30 "
      ]
    },
    {
      "cell_type": "code",
      "metadata": {
        "id": "5vvcMera8ZmW",
        "colab_type": "code",
        "colab": {
          "base_uri": "https://localhost:8080/",
          "height": 143
        },
        "outputId": "7cc4fb46-28b7-4e6f-d5f5-8a71a6228abb"
      },
      "source": [
        "data[(data['age'] >= 25) & (data['age'] <= 30) & (data['job']=='housemaid') & (data['housing loan?'].isnull()==False)]"
      ],
      "execution_count": 32,
      "outputs": [
        {
          "output_type": "execute_result",
          "data": {
            "text/html": [
              "<div>\n",
              "<style scoped>\n",
              "    .dataframe tbody tr th:only-of-type {\n",
              "        vertical-align: middle;\n",
              "    }\n",
              "\n",
              "    .dataframe tbody tr th {\n",
              "        vertical-align: top;\n",
              "    }\n",
              "\n",
              "    .dataframe thead th {\n",
              "        text-align: right;\n",
              "    }\n",
              "</style>\n",
              "<table border=\"1\" class=\"dataframe\">\n",
              "  <thead>\n",
              "    <tr style=\"text-align: right;\">\n",
              "      <th></th>\n",
              "      <th>age</th>\n",
              "      <th>job</th>\n",
              "      <th>marital status</th>\n",
              "      <th>education</th>\n",
              "      <th>credit default?</th>\n",
              "      <th>housing loan?</th>\n",
              "      <th>Personal loan</th>\n",
              "      <th>y</th>\n",
              "    </tr>\n",
              "  </thead>\n",
              "  <tbody>\n",
              "    <tr>\n",
              "      <th>24</th>\n",
              "      <td>26</td>\n",
              "      <td>housemaid</td>\n",
              "      <td>married</td>\n",
              "      <td>tertiary</td>\n",
              "      <td>no</td>\n",
              "      <td>no</td>\n",
              "      <td>no</td>\n",
              "      <td>no</td>\n",
              "    </tr>\n",
              "    <tr>\n",
              "      <th>830</th>\n",
              "      <td>30</td>\n",
              "      <td>housemaid</td>\n",
              "      <td>single</td>\n",
              "      <td>tertiary</td>\n",
              "      <td>no</td>\n",
              "      <td>no</td>\n",
              "      <td>no</td>\n",
              "      <td>no</td>\n",
              "    </tr>\n",
              "    <tr>\n",
              "      <th>854</th>\n",
              "      <td>26</td>\n",
              "      <td>housemaid</td>\n",
              "      <td>married</td>\n",
              "      <td>secondary</td>\n",
              "      <td>no</td>\n",
              "      <td>yes</td>\n",
              "      <td>no</td>\n",
              "      <td>no</td>\n",
              "    </tr>\n",
              "  </tbody>\n",
              "</table>\n",
              "</div>"
            ],
            "text/plain": [
              "     age        job marital status  ... housing loan? Personal loan   y\n",
              "24    26  housemaid        married  ...            no            no  no\n",
              "830   30  housemaid         single  ...            no            no  no\n",
              "854   26  housemaid        married  ...           yes            no  no\n",
              "\n",
              "[3 rows x 8 columns]"
            ]
          },
          "metadata": {
            "tags": []
          },
          "execution_count": 32
        }
      ]
    },
    {
      "cell_type": "markdown",
      "metadata": {
        "id": "0EJYH1DVCT_k",
        "colab_type": "text"
      },
      "source": [
        "as the data is not giving clear idea to decide on the value, so lets try with other attributes"
      ]
    },
    {
      "cell_type": "code",
      "metadata": {
        "id": "0_MTIGxgCgnz",
        "colab_type": "code",
        "colab": {
          "base_uri": "https://localhost:8080/",
          "height": 175
        },
        "outputId": "b6c2520f-0936-410a-a421-3e2a619ed9cf"
      },
      "source": [
        "data[(data['age'] >= 25) & (data['age'] <=30) &\n",
        "     (data['education']=='primary') & \n",
        "     (data['marital status']=='married') &\n",
        "     (data['credit default?']=='no') &\n",
        "     (data['y']=='no') &\n",
        "     (data['housing loan?'].isnull()==False)\n",
        "    ]"
      ],
      "execution_count": 33,
      "outputs": [
        {
          "output_type": "execute_result",
          "data": {
            "text/html": [
              "<div>\n",
              "<style scoped>\n",
              "    .dataframe tbody tr th:only-of-type {\n",
              "        vertical-align: middle;\n",
              "    }\n",
              "\n",
              "    .dataframe tbody tr th {\n",
              "        vertical-align: top;\n",
              "    }\n",
              "\n",
              "    .dataframe thead th {\n",
              "        text-align: right;\n",
              "    }\n",
              "</style>\n",
              "<table border=\"1\" class=\"dataframe\">\n",
              "  <thead>\n",
              "    <tr style=\"text-align: right;\">\n",
              "      <th></th>\n",
              "      <th>age</th>\n",
              "      <th>job</th>\n",
              "      <th>marital status</th>\n",
              "      <th>education</th>\n",
              "      <th>credit default?</th>\n",
              "      <th>housing loan?</th>\n",
              "      <th>Personal loan</th>\n",
              "      <th>y</th>\n",
              "    </tr>\n",
              "  </thead>\n",
              "  <tbody>\n",
              "    <tr>\n",
              "      <th>0</th>\n",
              "      <td>30</td>\n",
              "      <td>unemployed</td>\n",
              "      <td>married</td>\n",
              "      <td>primary</td>\n",
              "      <td>no</td>\n",
              "      <td>no</td>\n",
              "      <td>no</td>\n",
              "      <td>no</td>\n",
              "    </tr>\n",
              "    <tr>\n",
              "      <th>47</th>\n",
              "      <td>26</td>\n",
              "      <td>blue-collar</td>\n",
              "      <td>married</td>\n",
              "      <td>primary</td>\n",
              "      <td>no</td>\n",
              "      <td>yes</td>\n",
              "      <td>no</td>\n",
              "      <td>no</td>\n",
              "    </tr>\n",
              "    <tr>\n",
              "      <th>315</th>\n",
              "      <td>30</td>\n",
              "      <td>blue-collar</td>\n",
              "      <td>married</td>\n",
              "      <td>primary</td>\n",
              "      <td>no</td>\n",
              "      <td>yes</td>\n",
              "      <td>no</td>\n",
              "      <td>no</td>\n",
              "    </tr>\n",
              "    <tr>\n",
              "      <th>972</th>\n",
              "      <td>29</td>\n",
              "      <td>blue-collar</td>\n",
              "      <td>married</td>\n",
              "      <td>primary</td>\n",
              "      <td>no</td>\n",
              "      <td>yes</td>\n",
              "      <td>no</td>\n",
              "      <td>no</td>\n",
              "    </tr>\n",
              "  </tbody>\n",
              "</table>\n",
              "</div>"
            ],
            "text/plain": [
              "     age          job marital status  ... housing loan? Personal loan   y\n",
              "0     30   unemployed        married  ...            no            no  no\n",
              "47    26  blue-collar        married  ...           yes            no  no\n",
              "315   30  blue-collar        married  ...           yes            no  no\n",
              "972   29  blue-collar        married  ...           yes            no  no\n",
              "\n",
              "[4 rows x 8 columns]"
            ]
          },
          "metadata": {
            "tags": []
          },
          "execution_count": 33
        }
      ]
    },
    {
      "cell_type": "code",
      "metadata": {
        "id": "jLk-EHOuDXlS",
        "colab_type": "code",
        "colab": {
          "base_uri": "https://localhost:8080/",
          "height": 54
        },
        "outputId": "36b6c712-e37c-44be-bb48-5d09394f81c9"
      },
      "source": [
        "data[(data['age'] >= 25) & (data['age'] <=30) &\n",
        "     (data['education']=='primary') & \n",
        "     (data['marital status']=='married') &\n",
        "     (data['credit default?']=='no') &\n",
        "     (data['y']=='no') &\n",
        "     (data['housing loan?'].isnull()==False)\n",
        "    ]['housing loan?'].mode()"
      ],
      "execution_count": 34,
      "outputs": [
        {
          "output_type": "execute_result",
          "data": {
            "text/plain": [
              "0    yes\n",
              "dtype: object"
            ]
          },
          "metadata": {
            "tags": []
          },
          "execution_count": 34
        }
      ]
    },
    {
      "cell_type": "markdown",
      "metadata": {
        "id": "kW_qukLjEIe4",
        "colab_type": "text"
      },
      "source": [
        "we got a value to impute, lets impute to the missing housing loan"
      ]
    },
    {
      "cell_type": "code",
      "metadata": {
        "id": "X5FC3CLTEPmw",
        "colab_type": "code",
        "colab": {}
      },
      "source": [
        "data.loc[(data['age']==27) &\n",
        "    (data['job']=='housemaid') &\n",
        "    (data['marital status']=='married') &\n",
        "    (data['education']=='primary') &\n",
        "    (data['credit default?']=='no') &\n",
        "    (data['housing loan?'].isnull()==True) &\n",
        "    (data['y']=='no'),'housing loan?']= \\\n",
        "data[(data['age'] >= 25) & (data['age'] <=30) &\n",
        "     (data['education']=='primary') & \n",
        "     (data['marital status']=='married') &\n",
        "     (data['credit default?']=='no') &\n",
        "     (data['y']=='no') &\n",
        "     (data['housing loan?'].isnull()==False)\n",
        "    ]['housing loan?'].mode()[0]"
      ],
      "execution_count": 0,
      "outputs": []
    },
    {
      "cell_type": "markdown",
      "metadata": {
        "id": "wrOrwfj7EgWh",
        "colab_type": "text"
      },
      "source": [
        "Lets analyse and impute the missing values for the remaining attributes"
      ]
    },
    {
      "cell_type": "code",
      "metadata": {
        "id": "qw_hi5PvEyw_",
        "colab_type": "code",
        "colab": {
          "base_uri": "https://localhost:8080/",
          "height": 259
        },
        "outputId": "29d5ce27-8ecb-4a4a-e559-85e2747e9821"
      },
      "source": [
        "data.info()"
      ],
      "execution_count": 36,
      "outputs": [
        {
          "output_type": "stream",
          "text": [
            "<class 'pandas.core.frame.DataFrame'>\n",
            "RangeIndex: 1021 entries, 0 to 1020\n",
            "Data columns (total 8 columns):\n",
            "age                1021 non-null int64\n",
            "job                1021 non-null object\n",
            "marital status     1020 non-null object\n",
            "education          1020 non-null object\n",
            "credit default?    1020 non-null object\n",
            "housing loan?      1021 non-null object\n",
            "Personal loan      1019 non-null object\n",
            "y                  1021 non-null object\n",
            "dtypes: int64(1), object(7)\n",
            "memory usage: 63.9+ KB\n"
          ],
          "name": "stdout"
        }
      ]
    },
    {
      "cell_type": "markdown",
      "metadata": {
        "id": "pY-Xgm6mE2HC",
        "colab_type": "text"
      },
      "source": [
        "now concentrate on the personal loan"
      ]
    },
    {
      "cell_type": "code",
      "metadata": {
        "id": "uiKwQl1rE4n7",
        "colab_type": "code",
        "colab": {
          "base_uri": "https://localhost:8080/",
          "height": 112
        },
        "outputId": "3309e538-b413-4a1a-a631-844bac208566"
      },
      "source": [
        "data[data['Personal loan'].isnull()]"
      ],
      "execution_count": 37,
      "outputs": [
        {
          "output_type": "execute_result",
          "data": {
            "text/html": [
              "<div>\n",
              "<style scoped>\n",
              "    .dataframe tbody tr th:only-of-type {\n",
              "        vertical-align: middle;\n",
              "    }\n",
              "\n",
              "    .dataframe tbody tr th {\n",
              "        vertical-align: top;\n",
              "    }\n",
              "\n",
              "    .dataframe thead th {\n",
              "        text-align: right;\n",
              "    }\n",
              "</style>\n",
              "<table border=\"1\" class=\"dataframe\">\n",
              "  <thead>\n",
              "    <tr style=\"text-align: right;\">\n",
              "      <th></th>\n",
              "      <th>age</th>\n",
              "      <th>job</th>\n",
              "      <th>marital status</th>\n",
              "      <th>education</th>\n",
              "      <th>credit default?</th>\n",
              "      <th>housing loan?</th>\n",
              "      <th>Personal loan</th>\n",
              "      <th>y</th>\n",
              "    </tr>\n",
              "  </thead>\n",
              "  <tbody>\n",
              "    <tr>\n",
              "      <th>109</th>\n",
              "      <td>27</td>\n",
              "      <td>housemaid</td>\n",
              "      <td>married</td>\n",
              "      <td>primary</td>\n",
              "      <td>no</td>\n",
              "      <td>yes</td>\n",
              "      <td>NaN</td>\n",
              "      <td>no</td>\n",
              "    </tr>\n",
              "    <tr>\n",
              "      <th>1000</th>\n",
              "      <td>38</td>\n",
              "      <td>admin.</td>\n",
              "      <td>married</td>\n",
              "      <td>secondary</td>\n",
              "      <td>no</td>\n",
              "      <td>yes</td>\n",
              "      <td>NaN</td>\n",
              "      <td>no</td>\n",
              "    </tr>\n",
              "  </tbody>\n",
              "</table>\n",
              "</div>"
            ],
            "text/plain": [
              "      age        job marital status  ... housing loan? Personal loan   y\n",
              "109    27  housemaid        married  ...           yes           NaN  no\n",
              "1000   38     admin.        married  ...           yes           NaN  no\n",
              "\n",
              "[2 rows x 8 columns]"
            ]
          },
          "metadata": {
            "tags": []
          },
          "execution_count": 37
        }
      ]
    },
    {
      "cell_type": "code",
      "metadata": {
        "id": "lHyvBJz_E-q-",
        "colab_type": "code",
        "colab": {
          "base_uri": "https://localhost:8080/",
          "height": 54
        },
        "outputId": "b8af7eb7-aa7d-4635-a441-7e195c8d8516"
      },
      "source": [
        "data[(data['age'] >= 25) & (data['age'] <= 30) &\n",
        "     (data['marital status'] == 'married') &\n",
        "     (data['education']=='primary')&\n",
        "     (data['credit default?']=='no') &\n",
        "     (data['housing loan?']=='yes') &\n",
        "     (data['y']=='no') &\n",
        "     (data['Personal loan'].isnull()==False)\n",
        "    ]['Personal loan'].mode()"
      ],
      "execution_count": 38,
      "outputs": [
        {
          "output_type": "execute_result",
          "data": {
            "text/plain": [
              "0    no\n",
              "dtype: object"
            ]
          },
          "metadata": {
            "tags": []
          },
          "execution_count": 38
        }
      ]
    },
    {
      "cell_type": "code",
      "metadata": {
        "id": "0N41V2AxGAGx",
        "colab_type": "code",
        "colab": {
          "base_uri": "https://localhost:8080/",
          "height": 81
        },
        "outputId": "8fd93e6b-41b1-4970-dbd8-32847569fea2"
      },
      "source": [
        "data[(data['age'] >= 25) & (data['age'] <= 30) &\n",
        "     (data['marital status'] == 'married') &\n",
        "     (data['education']=='primary')&\n",
        "     (data['credit default?']=='no') &\n",
        "     (data['housing loan?']=='yes') &\n",
        "     (data['y']=='no') &\n",
        "     (data['Personal loan'].isnull())\n",
        "    ]"
      ],
      "execution_count": 39,
      "outputs": [
        {
          "output_type": "execute_result",
          "data": {
            "text/html": [
              "<div>\n",
              "<style scoped>\n",
              "    .dataframe tbody tr th:only-of-type {\n",
              "        vertical-align: middle;\n",
              "    }\n",
              "\n",
              "    .dataframe tbody tr th {\n",
              "        vertical-align: top;\n",
              "    }\n",
              "\n",
              "    .dataframe thead th {\n",
              "        text-align: right;\n",
              "    }\n",
              "</style>\n",
              "<table border=\"1\" class=\"dataframe\">\n",
              "  <thead>\n",
              "    <tr style=\"text-align: right;\">\n",
              "      <th></th>\n",
              "      <th>age</th>\n",
              "      <th>job</th>\n",
              "      <th>marital status</th>\n",
              "      <th>education</th>\n",
              "      <th>credit default?</th>\n",
              "      <th>housing loan?</th>\n",
              "      <th>Personal loan</th>\n",
              "      <th>y</th>\n",
              "    </tr>\n",
              "  </thead>\n",
              "  <tbody>\n",
              "    <tr>\n",
              "      <th>109</th>\n",
              "      <td>27</td>\n",
              "      <td>housemaid</td>\n",
              "      <td>married</td>\n",
              "      <td>primary</td>\n",
              "      <td>no</td>\n",
              "      <td>yes</td>\n",
              "      <td>NaN</td>\n",
              "      <td>no</td>\n",
              "    </tr>\n",
              "  </tbody>\n",
              "</table>\n",
              "</div>"
            ],
            "text/plain": [
              "     age        job marital status  ... housing loan? Personal loan   y\n",
              "109   27  housemaid        married  ...           yes           NaN  no\n",
              "\n",
              "[1 rows x 8 columns]"
            ]
          },
          "metadata": {
            "tags": []
          },
          "execution_count": 39
        }
      ]
    },
    {
      "cell_type": "code",
      "metadata": {
        "id": "T26JjbBSF35i",
        "colab_type": "code",
        "colab": {}
      },
      "source": [
        "data.loc[(data['age'] == 27) &\n",
        "     (data['marital status'] == 'married') &\n",
        "     (data['education']=='primary')&\n",
        "     (data['credit default?']=='no') &\n",
        "     (data['housing loan?']=='yes') &\n",
        "     (data['y']=='no') &\n",
        "     (data['Personal loan'].isnull())\n",
        "    ,'Personal loan'] =\\\n",
        "data[(data['age'] >= 25) & (data['age'] <= 30) &\n",
        "     (data['marital status'] == 'married') &\n",
        "     (data['education']=='primary')&\n",
        "     (data['credit default?']=='no') &\n",
        "     (data['housing loan?']=='yes') &\n",
        "     (data['y']=='no') &\n",
        "     (data['Personal loan'].isnull()==False)\n",
        "    ]['Personal loan'].mode()[0]"
      ],
      "execution_count": 0,
      "outputs": []
    },
    {
      "cell_type": "code",
      "metadata": {
        "id": "vpUzCidYGMPq",
        "colab_type": "code",
        "colab": {
          "base_uri": "https://localhost:8080/",
          "height": 81
        },
        "outputId": "e28b5173-c887-4862-ab59-50b2aa666486"
      },
      "source": [
        "data[data['Personal loan'].isnull()]"
      ],
      "execution_count": 41,
      "outputs": [
        {
          "output_type": "execute_result",
          "data": {
            "text/html": [
              "<div>\n",
              "<style scoped>\n",
              "    .dataframe tbody tr th:only-of-type {\n",
              "        vertical-align: middle;\n",
              "    }\n",
              "\n",
              "    .dataframe tbody tr th {\n",
              "        vertical-align: top;\n",
              "    }\n",
              "\n",
              "    .dataframe thead th {\n",
              "        text-align: right;\n",
              "    }\n",
              "</style>\n",
              "<table border=\"1\" class=\"dataframe\">\n",
              "  <thead>\n",
              "    <tr style=\"text-align: right;\">\n",
              "      <th></th>\n",
              "      <th>age</th>\n",
              "      <th>job</th>\n",
              "      <th>marital status</th>\n",
              "      <th>education</th>\n",
              "      <th>credit default?</th>\n",
              "      <th>housing loan?</th>\n",
              "      <th>Personal loan</th>\n",
              "      <th>y</th>\n",
              "    </tr>\n",
              "  </thead>\n",
              "  <tbody>\n",
              "    <tr>\n",
              "      <th>1000</th>\n",
              "      <td>38</td>\n",
              "      <td>admin.</td>\n",
              "      <td>married</td>\n",
              "      <td>secondary</td>\n",
              "      <td>no</td>\n",
              "      <td>yes</td>\n",
              "      <td>NaN</td>\n",
              "      <td>no</td>\n",
              "    </tr>\n",
              "  </tbody>\n",
              "</table>\n",
              "</div>"
            ],
            "text/plain": [
              "      age     job marital status  ... housing loan? Personal loan   y\n",
              "1000   38  admin.        married  ...           yes           NaN  no\n",
              "\n",
              "[1 rows x 8 columns]"
            ]
          },
          "metadata": {
            "tags": []
          },
          "execution_count": 41
        }
      ]
    },
    {
      "cell_type": "markdown",
      "metadata": {
        "id": "VzjHOYMuGSnP",
        "colab_type": "text"
      },
      "source": [
        "As one of the value is imputed with the mode, lets look for the above remaining one"
      ]
    },
    {
      "cell_type": "code",
      "metadata": {
        "id": "M7Zj0G3HGb7g",
        "colab_type": "code",
        "colab": {
          "base_uri": "https://localhost:8080/",
          "height": 81
        },
        "outputId": "3adac90c-6e4c-4f14-9984-56bfef3767f5"
      },
      "source": [
        "data[(data['age'] ==38)&\n",
        "     (data['job']=='admin.') &\n",
        "     (data['marital status'] == 'married') &\n",
        "     (data['education']=='secondary')&\n",
        "     (data['credit default?']=='no') &\n",
        "     (data['housing loan?']=='yes') &\n",
        "     (data['y']=='no') &\n",
        "     (data['Personal loan'].isnull()==False)\n",
        "    ]"
      ],
      "execution_count": 42,
      "outputs": [
        {
          "output_type": "execute_result",
          "data": {
            "text/html": [
              "<div>\n",
              "<style scoped>\n",
              "    .dataframe tbody tr th:only-of-type {\n",
              "        vertical-align: middle;\n",
              "    }\n",
              "\n",
              "    .dataframe tbody tr th {\n",
              "        vertical-align: top;\n",
              "    }\n",
              "\n",
              "    .dataframe thead th {\n",
              "        text-align: right;\n",
              "    }\n",
              "</style>\n",
              "<table border=\"1\" class=\"dataframe\">\n",
              "  <thead>\n",
              "    <tr style=\"text-align: right;\">\n",
              "      <th></th>\n",
              "      <th>age</th>\n",
              "      <th>job</th>\n",
              "      <th>marital status</th>\n",
              "      <th>education</th>\n",
              "      <th>credit default?</th>\n",
              "      <th>housing loan?</th>\n",
              "      <th>Personal loan</th>\n",
              "      <th>y</th>\n",
              "    </tr>\n",
              "  </thead>\n",
              "  <tbody>\n",
              "    <tr>\n",
              "      <th>88</th>\n",
              "      <td>38</td>\n",
              "      <td>admin.</td>\n",
              "      <td>married</td>\n",
              "      <td>secondary</td>\n",
              "      <td>no</td>\n",
              "      <td>yes</td>\n",
              "      <td>no</td>\n",
              "      <td>no</td>\n",
              "    </tr>\n",
              "  </tbody>\n",
              "</table>\n",
              "</div>"
            ],
            "text/plain": [
              "    age     job marital status  ... housing loan? Personal loan   y\n",
              "88   38  admin.        married  ...           yes            no  no\n",
              "\n",
              "[1 rows x 8 columns]"
            ]
          },
          "metadata": {
            "tags": []
          },
          "execution_count": 42
        }
      ]
    },
    {
      "cell_type": "markdown",
      "metadata": {
        "id": "B87X1aEoHHHE",
        "colab_type": "text"
      },
      "source": [
        "as we have data with similar values,now impute and remove the duplicates from overall data"
      ]
    },
    {
      "cell_type": "code",
      "metadata": {
        "id": "yQ9ZpkxaHU3u",
        "colab_type": "code",
        "colab": {}
      },
      "source": [
        "data.loc[(data['age'] ==38)&\n",
        "     (data['job']=='admin.') &\n",
        "     (data['marital status'] == 'married') &\n",
        "     (data['education']=='secondary')&\n",
        "     (data['credit default?']=='no') &\n",
        "     (data['housing loan?']=='yes') &\n",
        "     (data['y']=='no') &\n",
        "     (data['Personal loan'].isnull()==True)\n",
        "    ,'Personal loan'] = \\\n",
        "data[(data['age'] ==38)&\n",
        "     (data['job']=='admin.') &\n",
        "     (data['marital status'] == 'married') &\n",
        "     (data['education']=='secondary')&\n",
        "     (data['credit default?']=='no') &\n",
        "     (data['housing loan?']=='yes') &\n",
        "     (data['y']=='no') &\n",
        "     (data['Personal loan'].isnull()==False)\n",
        "    ]['Personal loan'].mode()[0]"
      ],
      "execution_count": 0,
      "outputs": []
    },
    {
      "cell_type": "code",
      "metadata": {
        "id": "ISXOdzoBHi40",
        "colab_type": "code",
        "colab": {
          "base_uri": "https://localhost:8080/",
          "height": 259
        },
        "outputId": "2243d052-57ab-4988-e91e-b1919098ed7e"
      },
      "source": [
        "data.info()"
      ],
      "execution_count": 44,
      "outputs": [
        {
          "output_type": "stream",
          "text": [
            "<class 'pandas.core.frame.DataFrame'>\n",
            "RangeIndex: 1021 entries, 0 to 1020\n",
            "Data columns (total 8 columns):\n",
            "age                1021 non-null int64\n",
            "job                1021 non-null object\n",
            "marital status     1020 non-null object\n",
            "education          1020 non-null object\n",
            "credit default?    1020 non-null object\n",
            "housing loan?      1021 non-null object\n",
            "Personal loan      1021 non-null object\n",
            "y                  1021 non-null object\n",
            "dtypes: int64(1), object(7)\n",
            "memory usage: 63.9+ KB\n"
          ],
          "name": "stdout"
        }
      ]
    },
    {
      "cell_type": "markdown",
      "metadata": {
        "id": "7Ag0J9JLHqXe",
        "colab_type": "text"
      },
      "source": [
        "As the two missing values are filled lets move our focus to the one missing values"
      ]
    },
    {
      "cell_type": "code",
      "metadata": {
        "id": "_gInQIAHHxUF",
        "colab_type": "code",
        "colab": {
          "base_uri": "https://localhost:8080/",
          "height": 81
        },
        "outputId": "f0f555d1-49c3-4a36-c116-a70c3983553b"
      },
      "source": [
        "data[data['marital status'].isnull()]"
      ],
      "execution_count": 45,
      "outputs": [
        {
          "output_type": "execute_result",
          "data": {
            "text/html": [
              "<div>\n",
              "<style scoped>\n",
              "    .dataframe tbody tr th:only-of-type {\n",
              "        vertical-align: middle;\n",
              "    }\n",
              "\n",
              "    .dataframe tbody tr th {\n",
              "        vertical-align: top;\n",
              "    }\n",
              "\n",
              "    .dataframe thead th {\n",
              "        text-align: right;\n",
              "    }\n",
              "</style>\n",
              "<table border=\"1\" class=\"dataframe\">\n",
              "  <thead>\n",
              "    <tr style=\"text-align: right;\">\n",
              "      <th></th>\n",
              "      <th>age</th>\n",
              "      <th>job</th>\n",
              "      <th>marital status</th>\n",
              "      <th>education</th>\n",
              "      <th>credit default?</th>\n",
              "      <th>housing loan?</th>\n",
              "      <th>Personal loan</th>\n",
              "      <th>y</th>\n",
              "    </tr>\n",
              "  </thead>\n",
              "  <tbody>\n",
              "    <tr>\n",
              "      <th>108</th>\n",
              "      <td>56</td>\n",
              "      <td>unemployed</td>\n",
              "      <td>NaN</td>\n",
              "      <td>primary</td>\n",
              "      <td>no</td>\n",
              "      <td>no</td>\n",
              "      <td>no</td>\n",
              "      <td>yes</td>\n",
              "    </tr>\n",
              "  </tbody>\n",
              "</table>\n",
              "</div>"
            ],
            "text/plain": [
              "     age         job marital status  ... housing loan? Personal loan    y\n",
              "108   56  unemployed            NaN  ...            no            no  yes\n",
              "\n",
              "[1 rows x 8 columns]"
            ]
          },
          "metadata": {
            "tags": []
          },
          "execution_count": 45
        }
      ]
    },
    {
      "cell_type": "code",
      "metadata": {
        "id": "ulCtDo65Inxe",
        "colab_type": "code",
        "colab": {
          "base_uri": "https://localhost:8080/",
          "height": 81
        },
        "outputId": "d7241e93-ccaa-417a-de9a-349c8ba08773"
      },
      "source": [
        "data[(data['age']==56) &\n",
        "     (data['job']=='unemployed') &\n",
        "     (data['y']=='yes')\n",
        "    ]"
      ],
      "execution_count": 46,
      "outputs": [
        {
          "output_type": "execute_result",
          "data": {
            "text/html": [
              "<div>\n",
              "<style scoped>\n",
              "    .dataframe tbody tr th:only-of-type {\n",
              "        vertical-align: middle;\n",
              "    }\n",
              "\n",
              "    .dataframe tbody tr th {\n",
              "        vertical-align: top;\n",
              "    }\n",
              "\n",
              "    .dataframe thead th {\n",
              "        text-align: right;\n",
              "    }\n",
              "</style>\n",
              "<table border=\"1\" class=\"dataframe\">\n",
              "  <thead>\n",
              "    <tr style=\"text-align: right;\">\n",
              "      <th></th>\n",
              "      <th>age</th>\n",
              "      <th>job</th>\n",
              "      <th>marital status</th>\n",
              "      <th>education</th>\n",
              "      <th>credit default?</th>\n",
              "      <th>housing loan?</th>\n",
              "      <th>Personal loan</th>\n",
              "      <th>y</th>\n",
              "    </tr>\n",
              "  </thead>\n",
              "  <tbody>\n",
              "    <tr>\n",
              "      <th>108</th>\n",
              "      <td>56</td>\n",
              "      <td>unemployed</td>\n",
              "      <td>NaN</td>\n",
              "      <td>primary</td>\n",
              "      <td>no</td>\n",
              "      <td>no</td>\n",
              "      <td>no</td>\n",
              "      <td>yes</td>\n",
              "    </tr>\n",
              "  </tbody>\n",
              "</table>\n",
              "</div>"
            ],
            "text/plain": [
              "     age         job marital status  ... housing loan? Personal loan    y\n",
              "108   56  unemployed            NaN  ...            no            no  yes\n",
              "\n",
              "[1 rows x 8 columns]"
            ]
          },
          "metadata": {
            "tags": []
          },
          "execution_count": 46
        }
      ]
    },
    {
      "cell_type": "code",
      "metadata": {
        "id": "ZERSuoEAH5Ho",
        "colab_type": "code",
        "colab": {
          "base_uri": "https://localhost:8080/",
          "height": 81
        },
        "outputId": "544193d3-c7da-4cd1-d420-4517916670c3"
      },
      "source": [
        "data[(data['age'] >= 55) & (data['age'] <= 60) &\n",
        "     (data['job']=='unemployed') &\n",
        "     (data['y']=='yes')\n",
        "    ]"
      ],
      "execution_count": 50,
      "outputs": [
        {
          "output_type": "execute_result",
          "data": {
            "text/html": [
              "<div>\n",
              "<style scoped>\n",
              "    .dataframe tbody tr th:only-of-type {\n",
              "        vertical-align: middle;\n",
              "    }\n",
              "\n",
              "    .dataframe tbody tr th {\n",
              "        vertical-align: top;\n",
              "    }\n",
              "\n",
              "    .dataframe thead th {\n",
              "        text-align: right;\n",
              "    }\n",
              "</style>\n",
              "<table border=\"1\" class=\"dataframe\">\n",
              "  <thead>\n",
              "    <tr style=\"text-align: right;\">\n",
              "      <th></th>\n",
              "      <th>age</th>\n",
              "      <th>job</th>\n",
              "      <th>marital status</th>\n",
              "      <th>education</th>\n",
              "      <th>credit default?</th>\n",
              "      <th>housing loan?</th>\n",
              "      <th>Personal loan</th>\n",
              "      <th>y</th>\n",
              "    </tr>\n",
              "  </thead>\n",
              "  <tbody>\n",
              "    <tr>\n",
              "      <th>108</th>\n",
              "      <td>56</td>\n",
              "      <td>unemployed</td>\n",
              "      <td>NaN</td>\n",
              "      <td>primary</td>\n",
              "      <td>no</td>\n",
              "      <td>no</td>\n",
              "      <td>no</td>\n",
              "      <td>yes</td>\n",
              "    </tr>\n",
              "  </tbody>\n",
              "</table>\n",
              "</div>"
            ],
            "text/plain": [
              "     age         job marital status  ... housing loan? Personal loan    y\n",
              "108   56  unemployed            NaN  ...            no            no  yes\n",
              "\n",
              "[1 rows x 8 columns]"
            ]
          },
          "metadata": {
            "tags": []
          },
          "execution_count": 50
        }
      ]
    },
    {
      "cell_type": "code",
      "metadata": {
        "id": "pUVgq3rJEz0e",
        "colab_type": "code",
        "colab": {
          "base_uri": "https://localhost:8080/",
          "height": 36
        },
        "outputId": "cee2ebb4-0f76-4f49-a08e-465312980376"
      },
      "source": [
        "data[(data['job']=='unemployed') &\n",
        "     (data['credit default?']=='no') &\n",
        "     (data['housing loan?']=='no') &\n",
        "     (data['Personal loan']=='no') &\n",
        "     (data['y']=='yes') &\n",
        "     (data['marital status'].isnull()== False)\n",
        "    ]['marital status'].mode()[0]"
      ],
      "execution_count": 57,
      "outputs": [
        {
          "output_type": "execute_result",
          "data": {
            "text/plain": [
              "'married'"
            ]
          },
          "metadata": {
            "tags": []
          },
          "execution_count": 57
        }
      ]
    },
    {
      "cell_type": "markdown",
      "metadata": {
        "id": "dgE0VbvLLto1",
        "colab_type": "text"
      },
      "source": [
        "lets impute this nearest value"
      ]
    },
    {
      "cell_type": "code",
      "metadata": {
        "id": "WFVrKajmL0JF",
        "colab_type": "code",
        "colab": {}
      },
      "source": [
        "data.loc[(data['age']==56) &\n",
        "     (data['job']=='unemployed')&\n",
        "     (data['education']=='primary')&\n",
        "     (data['credit default?']=='no') &\n",
        "     (data['housing loan?']=='no') &\n",
        "     (data['Personal loan']=='no') &\n",
        "     (data['y']=='yes') &\n",
        "     (data['marital status'].isnull())\n",
        "    ,'marital status'] =\\\n",
        "data[(data['job']=='unemployed') &\n",
        "     (data['credit default?']=='no') &\n",
        "     (data['housing loan?']=='no') &\n",
        "     (data['Personal loan']=='no') &\n",
        "     (data['y']=='yes') &\n",
        "     (data['marital status'].isnull()== False)\n",
        "    ]['marital status'].mode()[0]"
      ],
      "execution_count": 0,
      "outputs": []
    },
    {
      "cell_type": "code",
      "metadata": {
        "id": "q2V4017vMRcv",
        "colab_type": "code",
        "colab": {
          "base_uri": "https://localhost:8080/",
          "height": 259
        },
        "outputId": "569dc093-a190-46f5-da3e-80730abf0222"
      },
      "source": [
        "data.info()"
      ],
      "execution_count": 62,
      "outputs": [
        {
          "output_type": "stream",
          "text": [
            "<class 'pandas.core.frame.DataFrame'>\n",
            "RangeIndex: 1021 entries, 0 to 1020\n",
            "Data columns (total 8 columns):\n",
            "age                1021 non-null int64\n",
            "job                1021 non-null object\n",
            "marital status     1021 non-null object\n",
            "education          1020 non-null object\n",
            "credit default?    1020 non-null object\n",
            "housing loan?      1021 non-null object\n",
            "Personal loan      1021 non-null object\n",
            "y                  1021 non-null object\n",
            "dtypes: int64(1), object(7)\n",
            "memory usage: 63.9+ KB\n"
          ],
          "name": "stdout"
        }
      ]
    },
    {
      "cell_type": "markdown",
      "metadata": {
        "id": "XTfe7HOKMW1x",
        "colab_type": "text"
      },
      "source": [
        "lets fill the missing value of the education"
      ]
    },
    {
      "cell_type": "code",
      "metadata": {
        "id": "WIm7nXzXMaeP",
        "colab_type": "code",
        "colab": {
          "base_uri": "https://localhost:8080/",
          "height": 81
        },
        "outputId": "28af0135-9407-418f-c6db-c5b767fbdc41"
      },
      "source": [
        "data[data['education'].isnull()]"
      ],
      "execution_count": 63,
      "outputs": [
        {
          "output_type": "execute_result",
          "data": {
            "text/html": [
              "<div>\n",
              "<style scoped>\n",
              "    .dataframe tbody tr th:only-of-type {\n",
              "        vertical-align: middle;\n",
              "    }\n",
              "\n",
              "    .dataframe tbody tr th {\n",
              "        vertical-align: top;\n",
              "    }\n",
              "\n",
              "    .dataframe thead th {\n",
              "        text-align: right;\n",
              "    }\n",
              "</style>\n",
              "<table border=\"1\" class=\"dataframe\">\n",
              "  <thead>\n",
              "    <tr style=\"text-align: right;\">\n",
              "      <th></th>\n",
              "      <th>age</th>\n",
              "      <th>job</th>\n",
              "      <th>marital status</th>\n",
              "      <th>education</th>\n",
              "      <th>credit default?</th>\n",
              "      <th>housing loan?</th>\n",
              "      <th>Personal loan</th>\n",
              "      <th>y</th>\n",
              "    </tr>\n",
              "  </thead>\n",
              "  <tbody>\n",
              "    <tr>\n",
              "      <th>97</th>\n",
              "      <td>30</td>\n",
              "      <td>admin.</td>\n",
              "      <td>single</td>\n",
              "      <td>NaN</td>\n",
              "      <td>no</td>\n",
              "      <td>no</td>\n",
              "      <td>no</td>\n",
              "      <td>no</td>\n",
              "    </tr>\n",
              "  </tbody>\n",
              "</table>\n",
              "</div>"
            ],
            "text/plain": [
              "    age     job marital status  ... housing loan? Personal loan   y\n",
              "97   30  admin.         single  ...            no            no  no\n",
              "\n",
              "[1 rows x 8 columns]"
            ]
          },
          "metadata": {
            "tags": []
          },
          "execution_count": 63
        }
      ]
    },
    {
      "cell_type": "code",
      "metadata": {
        "id": "NliX36wTMTmt",
        "colab_type": "code",
        "colab": {
          "base_uri": "https://localhost:8080/",
          "height": 143
        },
        "outputId": "c060a90b-799b-4324-d639-ab490f7c3af0"
      },
      "source": [
        "data[(data['age']==30) &\n",
        "     (data['job']=='admin.')\n",
        "    ]"
      ],
      "execution_count": 65,
      "outputs": [
        {
          "output_type": "execute_result",
          "data": {
            "text/html": [
              "<div>\n",
              "<style scoped>\n",
              "    .dataframe tbody tr th:only-of-type {\n",
              "        vertical-align: middle;\n",
              "    }\n",
              "\n",
              "    .dataframe tbody tr th {\n",
              "        vertical-align: top;\n",
              "    }\n",
              "\n",
              "    .dataframe thead th {\n",
              "        text-align: right;\n",
              "    }\n",
              "</style>\n",
              "<table border=\"1\" class=\"dataframe\">\n",
              "  <thead>\n",
              "    <tr style=\"text-align: right;\">\n",
              "      <th></th>\n",
              "      <th>age</th>\n",
              "      <th>job</th>\n",
              "      <th>marital status</th>\n",
              "      <th>education</th>\n",
              "      <th>credit default?</th>\n",
              "      <th>housing loan?</th>\n",
              "      <th>Personal loan</th>\n",
              "      <th>y</th>\n",
              "    </tr>\n",
              "  </thead>\n",
              "  <tbody>\n",
              "    <tr>\n",
              "      <th>97</th>\n",
              "      <td>30</td>\n",
              "      <td>admin.</td>\n",
              "      <td>single</td>\n",
              "      <td>NaN</td>\n",
              "      <td>no</td>\n",
              "      <td>no</td>\n",
              "      <td>no</td>\n",
              "      <td>no</td>\n",
              "    </tr>\n",
              "    <tr>\n",
              "      <th>441</th>\n",
              "      <td>30</td>\n",
              "      <td>admin.</td>\n",
              "      <td>single</td>\n",
              "      <td>secondary</td>\n",
              "      <td>no</td>\n",
              "      <td>yes</td>\n",
              "      <td>no</td>\n",
              "      <td>no</td>\n",
              "    </tr>\n",
              "    <tr>\n",
              "      <th>647</th>\n",
              "      <td>30</td>\n",
              "      <td>admin.</td>\n",
              "      <td>married</td>\n",
              "      <td>tertiary</td>\n",
              "      <td>no</td>\n",
              "      <td>yes</td>\n",
              "      <td>no</td>\n",
              "      <td>no</td>\n",
              "    </tr>\n",
              "  </tbody>\n",
              "</table>\n",
              "</div>"
            ],
            "text/plain": [
              "     age     job marital status  ... housing loan? Personal loan   y\n",
              "97    30  admin.         single  ...            no            no  no\n",
              "441   30  admin.         single  ...           yes            no  no\n",
              "647   30  admin.        married  ...           yes            no  no\n",
              "\n",
              "[3 rows x 8 columns]"
            ]
          },
          "metadata": {
            "tags": []
          },
          "execution_count": 65
        }
      ]
    },
    {
      "cell_type": "code",
      "metadata": {
        "id": "YzvwobzKLyyH",
        "colab_type": "code",
        "colab": {
          "base_uri": "https://localhost:8080/",
          "height": 332
        },
        "outputId": "8c2b54f6-618c-4491-81a0-fae2f88e1783"
      },
      "source": [
        "data[(data['age']==30) &\n",
        "     (data['marital status']=='single') &\n",
        "     (data['credit default?']=='no') &\n",
        "     (data['housing loan?']=='no') &\n",
        "     (data['Personal loan']=='no') &\n",
        "     (data['y']=='no') &\n",
        "     (data['education'].isnull()==False) \n",
        "    ]"
      ],
      "execution_count": 69,
      "outputs": [
        {
          "output_type": "execute_result",
          "data": {
            "text/html": [
              "<div>\n",
              "<style scoped>\n",
              "    .dataframe tbody tr th:only-of-type {\n",
              "        vertical-align: middle;\n",
              "    }\n",
              "\n",
              "    .dataframe tbody tr th {\n",
              "        vertical-align: top;\n",
              "    }\n",
              "\n",
              "    .dataframe thead th {\n",
              "        text-align: right;\n",
              "    }\n",
              "</style>\n",
              "<table border=\"1\" class=\"dataframe\">\n",
              "  <thead>\n",
              "    <tr style=\"text-align: right;\">\n",
              "      <th></th>\n",
              "      <th>age</th>\n",
              "      <th>job</th>\n",
              "      <th>marital status</th>\n",
              "      <th>education</th>\n",
              "      <th>credit default?</th>\n",
              "      <th>housing loan?</th>\n",
              "      <th>Personal loan</th>\n",
              "      <th>y</th>\n",
              "    </tr>\n",
              "  </thead>\n",
              "  <tbody>\n",
              "    <tr>\n",
              "      <th>192</th>\n",
              "      <td>30</td>\n",
              "      <td>management</td>\n",
              "      <td>single</td>\n",
              "      <td>tertiary</td>\n",
              "      <td>no</td>\n",
              "      <td>no</td>\n",
              "      <td>no</td>\n",
              "      <td>no</td>\n",
              "    </tr>\n",
              "    <tr>\n",
              "      <th>234</th>\n",
              "      <td>30</td>\n",
              "      <td>student</td>\n",
              "      <td>single</td>\n",
              "      <td>secondary</td>\n",
              "      <td>no</td>\n",
              "      <td>no</td>\n",
              "      <td>no</td>\n",
              "      <td>no</td>\n",
              "    </tr>\n",
              "    <tr>\n",
              "      <th>621</th>\n",
              "      <td>30</td>\n",
              "      <td>unknown</td>\n",
              "      <td>single</td>\n",
              "      <td>tertiary</td>\n",
              "      <td>no</td>\n",
              "      <td>no</td>\n",
              "      <td>no</td>\n",
              "      <td>no</td>\n",
              "    </tr>\n",
              "    <tr>\n",
              "      <th>669</th>\n",
              "      <td>30</td>\n",
              "      <td>technician</td>\n",
              "      <td>single</td>\n",
              "      <td>secondary</td>\n",
              "      <td>no</td>\n",
              "      <td>no</td>\n",
              "      <td>no</td>\n",
              "      <td>no</td>\n",
              "    </tr>\n",
              "    <tr>\n",
              "      <th>703</th>\n",
              "      <td>30</td>\n",
              "      <td>blue-collar</td>\n",
              "      <td>single</td>\n",
              "      <td>secondary</td>\n",
              "      <td>no</td>\n",
              "      <td>no</td>\n",
              "      <td>no</td>\n",
              "      <td>no</td>\n",
              "    </tr>\n",
              "    <tr>\n",
              "      <th>791</th>\n",
              "      <td>30</td>\n",
              "      <td>entrepreneur</td>\n",
              "      <td>single</td>\n",
              "      <td>secondary</td>\n",
              "      <td>no</td>\n",
              "      <td>no</td>\n",
              "      <td>no</td>\n",
              "      <td>no</td>\n",
              "    </tr>\n",
              "    <tr>\n",
              "      <th>830</th>\n",
              "      <td>30</td>\n",
              "      <td>housemaid</td>\n",
              "      <td>single</td>\n",
              "      <td>tertiary</td>\n",
              "      <td>no</td>\n",
              "      <td>no</td>\n",
              "      <td>no</td>\n",
              "      <td>no</td>\n",
              "    </tr>\n",
              "    <tr>\n",
              "      <th>876</th>\n",
              "      <td>30</td>\n",
              "      <td>technician</td>\n",
              "      <td>single</td>\n",
              "      <td>tertiary</td>\n",
              "      <td>no</td>\n",
              "      <td>no</td>\n",
              "      <td>no</td>\n",
              "      <td>no</td>\n",
              "    </tr>\n",
              "    <tr>\n",
              "      <th>996</th>\n",
              "      <td>30</td>\n",
              "      <td>blue-collar</td>\n",
              "      <td>single</td>\n",
              "      <td>secondary</td>\n",
              "      <td>no</td>\n",
              "      <td>no</td>\n",
              "      <td>no</td>\n",
              "      <td>no</td>\n",
              "    </tr>\n",
              "  </tbody>\n",
              "</table>\n",
              "</div>"
            ],
            "text/plain": [
              "     age           job marital status  ... housing loan? Personal loan   y\n",
              "192   30    management         single  ...            no            no  no\n",
              "234   30       student         single  ...            no            no  no\n",
              "621   30       unknown         single  ...            no            no  no\n",
              "669   30    technician         single  ...            no            no  no\n",
              "703   30   blue-collar         single  ...            no            no  no\n",
              "791   30  entrepreneur         single  ...            no            no  no\n",
              "830   30     housemaid         single  ...            no            no  no\n",
              "876   30    technician         single  ...            no            no  no\n",
              "996   30   blue-collar         single  ...            no            no  no\n",
              "\n",
              "[9 rows x 8 columns]"
            ]
          },
          "metadata": {
            "tags": []
          },
          "execution_count": 69
        }
      ]
    },
    {
      "cell_type": "markdown",
      "metadata": {
        "id": "jBjkZuqjNe2B",
        "colab_type": "text"
      },
      "source": [
        "lets impute this broad scope common value to missing value of education"
      ]
    },
    {
      "cell_type": "code",
      "metadata": {
        "id": "CndGc6RFNVzz",
        "colab_type": "code",
        "colab": {
          "base_uri": "https://localhost:8080/",
          "height": 81
        },
        "outputId": "215b955e-3a05-4ad6-d3ae-8823be11598f"
      },
      "source": [
        "data[(data['age']==30) &\n",
        "     (data['job']=='admin.') &\n",
        "     (data['marital status']=='single') &\n",
        "     (data['credit default?']=='no') &\n",
        "     (data['housing loan?']=='no') &\n",
        "     (data['Personal loan']=='no') &\n",
        "     (data['y']=='no') &\n",
        "     (data['education'].isnull()) \n",
        "    ]"
      ],
      "execution_count": 71,
      "outputs": [
        {
          "output_type": "execute_result",
          "data": {
            "text/html": [
              "<div>\n",
              "<style scoped>\n",
              "    .dataframe tbody tr th:only-of-type {\n",
              "        vertical-align: middle;\n",
              "    }\n",
              "\n",
              "    .dataframe tbody tr th {\n",
              "        vertical-align: top;\n",
              "    }\n",
              "\n",
              "    .dataframe thead th {\n",
              "        text-align: right;\n",
              "    }\n",
              "</style>\n",
              "<table border=\"1\" class=\"dataframe\">\n",
              "  <thead>\n",
              "    <tr style=\"text-align: right;\">\n",
              "      <th></th>\n",
              "      <th>age</th>\n",
              "      <th>job</th>\n",
              "      <th>marital status</th>\n",
              "      <th>education</th>\n",
              "      <th>credit default?</th>\n",
              "      <th>housing loan?</th>\n",
              "      <th>Personal loan</th>\n",
              "      <th>y</th>\n",
              "    </tr>\n",
              "  </thead>\n",
              "  <tbody>\n",
              "    <tr>\n",
              "      <th>97</th>\n",
              "      <td>30</td>\n",
              "      <td>admin.</td>\n",
              "      <td>single</td>\n",
              "      <td>NaN</td>\n",
              "      <td>no</td>\n",
              "      <td>no</td>\n",
              "      <td>no</td>\n",
              "      <td>no</td>\n",
              "    </tr>\n",
              "  </tbody>\n",
              "</table>\n",
              "</div>"
            ],
            "text/plain": [
              "    age     job marital status  ... housing loan? Personal loan   y\n",
              "97   30  admin.         single  ...            no            no  no\n",
              "\n",
              "[1 rows x 8 columns]"
            ]
          },
          "metadata": {
            "tags": []
          },
          "execution_count": 71
        }
      ]
    },
    {
      "cell_type": "code",
      "metadata": {
        "id": "urgGCcOHEdPt",
        "colab_type": "code",
        "colab": {}
      },
      "source": [
        "data.loc[(data['age']==30) &\n",
        "     (data['job']=='admin.') &\n",
        "     (data['marital status']=='single') &\n",
        "     (data['credit default?']=='no') &\n",
        "     (data['housing loan?']=='no') &\n",
        "     (data['Personal loan']=='no') &\n",
        "     (data['y']=='no') &\n",
        "     (data['education'].isnull()),'education'\n",
        "    ]=\\\n",
        "data[(data['age']==30) &\n",
        "     (data['marital status']=='single') &\n",
        "     (data['credit default?']=='no') &\n",
        "     (data['housing loan?']=='no') &\n",
        "     (data['Personal loan']=='no') &\n",
        "     (data['y']=='no') &\n",
        "     (data['education'].isnull()==False) \n",
        "    ]['education'].mode()[0]"
      ],
      "execution_count": 0,
      "outputs": []
    },
    {
      "cell_type": "code",
      "metadata": {
        "id": "icvw2AxkN3s8",
        "colab_type": "code",
        "colab": {
          "base_uri": "https://localhost:8080/",
          "height": 185
        },
        "outputId": "7ce53989-1675-4441-a3e3-5263ade8e34d"
      },
      "source": [
        "data.isnull().sum()"
      ],
      "execution_count": 73,
      "outputs": [
        {
          "output_type": "execute_result",
          "data": {
            "text/plain": [
              "age                0\n",
              "job                0\n",
              "marital status     0\n",
              "education          0\n",
              "credit default?    1\n",
              "housing loan?      0\n",
              "Personal loan      0\n",
              "y                  0\n",
              "dtype: int64"
            ]
          },
          "metadata": {
            "tags": []
          },
          "execution_count": 73
        }
      ]
    },
    {
      "cell_type": "markdown",
      "metadata": {
        "id": "KYTLViXHN8YP",
        "colab_type": "text"
      },
      "source": [
        "Final missing value attribute is credit default"
      ]
    },
    {
      "cell_type": "code",
      "metadata": {
        "id": "jjEK47n8OBrO",
        "colab_type": "code",
        "colab": {
          "base_uri": "https://localhost:8080/",
          "height": 81
        },
        "outputId": "c7efed63-b675-4461-b382-31e667c36dc9"
      },
      "source": [
        "data[data['credit default?'].isnull()]"
      ],
      "execution_count": 74,
      "outputs": [
        {
          "output_type": "execute_result",
          "data": {
            "text/html": [
              "<div>\n",
              "<style scoped>\n",
              "    .dataframe tbody tr th:only-of-type {\n",
              "        vertical-align: middle;\n",
              "    }\n",
              "\n",
              "    .dataframe tbody tr th {\n",
              "        vertical-align: top;\n",
              "    }\n",
              "\n",
              "    .dataframe thead th {\n",
              "        text-align: right;\n",
              "    }\n",
              "</style>\n",
              "<table border=\"1\" class=\"dataframe\">\n",
              "  <thead>\n",
              "    <tr style=\"text-align: right;\">\n",
              "      <th></th>\n",
              "      <th>age</th>\n",
              "      <th>job</th>\n",
              "      <th>marital status</th>\n",
              "      <th>education</th>\n",
              "      <th>credit default?</th>\n",
              "      <th>housing loan?</th>\n",
              "      <th>Personal loan</th>\n",
              "      <th>y</th>\n",
              "    </tr>\n",
              "  </thead>\n",
              "  <tbody>\n",
              "    <tr>\n",
              "      <th>168</th>\n",
              "      <td>48</td>\n",
              "      <td>technician</td>\n",
              "      <td>married</td>\n",
              "      <td>tertiary</td>\n",
              "      <td>NaN</td>\n",
              "      <td>no</td>\n",
              "      <td>no</td>\n",
              "      <td>no</td>\n",
              "    </tr>\n",
              "  </tbody>\n",
              "</table>\n",
              "</div>"
            ],
            "text/plain": [
              "     age         job marital status  ... housing loan? Personal loan   y\n",
              "168   48  technician        married  ...            no            no  no\n",
              "\n",
              "[1 rows x 8 columns]"
            ]
          },
          "metadata": {
            "tags": []
          },
          "execution_count": 74
        }
      ]
    },
    {
      "cell_type": "code",
      "metadata": {
        "id": "yUd8srl4OIOz",
        "colab_type": "code",
        "colab": {
          "base_uri": "https://localhost:8080/",
          "height": 49
        },
        "outputId": "5844fe74-c588-4678-a63b-91eb3f85d208"
      },
      "source": [
        "data[(data['age']==48) &\n",
        "     (data['job']=='technician') &\n",
        "     (data['marital status']=='married') &\n",
        "     (data['credit default?'].isnull()==False) &\n",
        "     (data['housing loan?']=='no') &\n",
        "     (data['Personal loan']=='no') &\n",
        "     (data['y']=='no') &\n",
        "     (data['education']=='tertiary')\n",
        "    ]"
      ],
      "execution_count": 76,
      "outputs": [
        {
          "output_type": "execute_result",
          "data": {
            "text/html": [
              "<div>\n",
              "<style scoped>\n",
              "    .dataframe tbody tr th:only-of-type {\n",
              "        vertical-align: middle;\n",
              "    }\n",
              "\n",
              "    .dataframe tbody tr th {\n",
              "        vertical-align: top;\n",
              "    }\n",
              "\n",
              "    .dataframe thead th {\n",
              "        text-align: right;\n",
              "    }\n",
              "</style>\n",
              "<table border=\"1\" class=\"dataframe\">\n",
              "  <thead>\n",
              "    <tr style=\"text-align: right;\">\n",
              "      <th></th>\n",
              "      <th>age</th>\n",
              "      <th>job</th>\n",
              "      <th>marital status</th>\n",
              "      <th>education</th>\n",
              "      <th>credit default?</th>\n",
              "      <th>housing loan?</th>\n",
              "      <th>Personal loan</th>\n",
              "      <th>y</th>\n",
              "    </tr>\n",
              "  </thead>\n",
              "  <tbody>\n",
              "  </tbody>\n",
              "</table>\n",
              "</div>"
            ],
            "text/plain": [
              "Empty DataFrame\n",
              "Columns: [age, job, marital status, education, credit default?, housing loan?, Personal loan, y]\n",
              "Index: []"
            ]
          },
          "metadata": {
            "tags": []
          },
          "execution_count": 76
        }
      ]
    },
    {
      "cell_type": "code",
      "metadata": {
        "id": "Jea2HVcfOMMm",
        "colab_type": "code",
        "colab": {
          "base_uri": "https://localhost:8080/",
          "height": 112
        },
        "outputId": "640a713b-ee38-4b59-fb93-ae3d294e6bf9"
      },
      "source": [
        "data[(data['age']==48) &     \n",
        "     (data['marital status']=='married') &\n",
        "     (data['credit default?'].isnull()==False) &\n",
        "     (data['housing loan?']=='no') &\n",
        "     (data['Personal loan']=='no') &\n",
        "     (data['y']=='no') &\n",
        "     (data['education']=='tertiary')\n",
        "    ]"
      ],
      "execution_count": 77,
      "outputs": [
        {
          "output_type": "execute_result",
          "data": {
            "text/html": [
              "<div>\n",
              "<style scoped>\n",
              "    .dataframe tbody tr th:only-of-type {\n",
              "        vertical-align: middle;\n",
              "    }\n",
              "\n",
              "    .dataframe tbody tr th {\n",
              "        vertical-align: top;\n",
              "    }\n",
              "\n",
              "    .dataframe thead th {\n",
              "        text-align: right;\n",
              "    }\n",
              "</style>\n",
              "<table border=\"1\" class=\"dataframe\">\n",
              "  <thead>\n",
              "    <tr style=\"text-align: right;\">\n",
              "      <th></th>\n",
              "      <th>age</th>\n",
              "      <th>job</th>\n",
              "      <th>marital status</th>\n",
              "      <th>education</th>\n",
              "      <th>credit default?</th>\n",
              "      <th>housing loan?</th>\n",
              "      <th>Personal loan</th>\n",
              "      <th>y</th>\n",
              "    </tr>\n",
              "  </thead>\n",
              "  <tbody>\n",
              "    <tr>\n",
              "      <th>62</th>\n",
              "      <td>48</td>\n",
              "      <td>management</td>\n",
              "      <td>married</td>\n",
              "      <td>tertiary</td>\n",
              "      <td>no</td>\n",
              "      <td>no</td>\n",
              "      <td>no</td>\n",
              "      <td>no</td>\n",
              "    </tr>\n",
              "    <tr>\n",
              "      <th>386</th>\n",
              "      <td>48</td>\n",
              "      <td>management</td>\n",
              "      <td>married</td>\n",
              "      <td>tertiary</td>\n",
              "      <td>no</td>\n",
              "      <td>no</td>\n",
              "      <td>no</td>\n",
              "      <td>no</td>\n",
              "    </tr>\n",
              "  </tbody>\n",
              "</table>\n",
              "</div>"
            ],
            "text/plain": [
              "     age         job marital status  ... housing loan? Personal loan   y\n",
              "62    48  management        married  ...            no            no  no\n",
              "386   48  management        married  ...            no            no  no\n",
              "\n",
              "[2 rows x 8 columns]"
            ]
          },
          "metadata": {
            "tags": []
          },
          "execution_count": 77
        }
      ]
    },
    {
      "cell_type": "markdown",
      "metadata": {
        "id": "rpZFCZzPOnHc",
        "colab_type": "text"
      },
      "source": [
        "Lets impute this credit default with the common value in age and with other similar values ignoring the job"
      ]
    },
    {
      "cell_type": "code",
      "metadata": {
        "id": "o_mWD2QpOJca",
        "colab_type": "code",
        "colab": {}
      },
      "source": [
        "data.loc[(data['age']==48) &\n",
        "     (data['job']=='technician') &\n",
        "     (data['marital status']=='married') &\n",
        "     (data['credit default?'].isnull()) &\n",
        "     (data['housing loan?']=='no') &\n",
        "     (data['Personal loan']=='no') &\n",
        "     (data['y']=='no') &\n",
        "     (data['education']=='tertiary')\n",
        "    ,'credit default?']=\\\n",
        "data[(data['age']==48) &     \n",
        "     (data['marital status']=='married') &\n",
        "     (data['credit default?'].isnull()==False) &\n",
        "     (data['housing loan?']=='no') &\n",
        "     (data['Personal loan']=='no') &\n",
        "     (data['y']=='no') &\n",
        "     (data['education']=='tertiary')\n",
        "    ]['credit default?'].mode()[0]"
      ],
      "execution_count": 0,
      "outputs": []
    },
    {
      "cell_type": "code",
      "metadata": {
        "id": "1dbJX0doO9pT",
        "colab_type": "code",
        "colab": {
          "base_uri": "https://localhost:8080/",
          "height": 185
        },
        "outputId": "49a40f91-378d-4ba2-df5a-2933523098a9"
      },
      "source": [
        "data.isnull().sum()"
      ],
      "execution_count": 80,
      "outputs": [
        {
          "output_type": "execute_result",
          "data": {
            "text/plain": [
              "age                0\n",
              "job                0\n",
              "marital status     0\n",
              "education          0\n",
              "credit default?    0\n",
              "housing loan?      0\n",
              "Personal loan      0\n",
              "y                  0\n",
              "dtype: int64"
            ]
          },
          "metadata": {
            "tags": []
          },
          "execution_count": 80
        }
      ]
    },
    {
      "cell_type": "code",
      "metadata": {
        "id": "jD5WKL2BPAVv",
        "colab_type": "code",
        "colab": {
          "base_uri": "https://localhost:8080/",
          "height": 259
        },
        "outputId": "5758ebc4-436e-4f5c-ad00-4c8402300b72"
      },
      "source": [
        "data.info()"
      ],
      "execution_count": 81,
      "outputs": [
        {
          "output_type": "stream",
          "text": [
            "<class 'pandas.core.frame.DataFrame'>\n",
            "RangeIndex: 1021 entries, 0 to 1020\n",
            "Data columns (total 8 columns):\n",
            "age                1021 non-null int64\n",
            "job                1021 non-null object\n",
            "marital status     1021 non-null object\n",
            "education          1021 non-null object\n",
            "credit default?    1021 non-null object\n",
            "housing loan?      1021 non-null object\n",
            "Personal loan      1021 non-null object\n",
            "y                  1021 non-null object\n",
            "dtypes: int64(1), object(7)\n",
            "memory usage: 63.9+ KB\n"
          ],
          "name": "stdout"
        }
      ]
    },
    {
      "cell_type": "markdown",
      "metadata": {
        "id": "afxJ_rU4PESH",
        "colab_type": "text"
      },
      "source": [
        "Missing values analysis is done, lets look into the values in each every attribute and clean if it has any improper data or apply mean,median , mode technique for the outliers\n"
      ]
    },
    {
      "cell_type": "code",
      "metadata": {
        "id": "-v658Xc5PXe7",
        "colab_type": "code",
        "colab": {
          "base_uri": "https://localhost:8080/",
          "height": 73
        },
        "outputId": "0ced24b6-3347-48ba-906a-9acafda1ed3c"
      },
      "source": [
        "data.columns"
      ],
      "execution_count": 82,
      "outputs": [
        {
          "output_type": "execute_result",
          "data": {
            "text/plain": [
              "Index(['age', 'job', 'marital status', 'education', 'credit default?',\n",
              "       'housing loan?', 'Personal loan', 'y'],\n",
              "      dtype='object')"
            ]
          },
          "metadata": {
            "tags": []
          },
          "execution_count": 82
        }
      ]
    },
    {
      "cell_type": "code",
      "metadata": {
        "id": "FBQMWSOAPZF2",
        "colab_type": "code",
        "colab": {
          "base_uri": "https://localhost:8080/",
          "height": 1000
        },
        "outputId": "e638a9f7-607f-4b5b-9e06-8e5f5ed27c7b"
      },
      "source": [
        "data['age'].value_counts()"
      ],
      "execution_count": 83,
      "outputs": [
        {
          "output_type": "execute_result",
          "data": {
            "text/plain": [
              "32    54\n",
              "34    50\n",
              "37    48\n",
              "31    43\n",
              "42    42\n",
              "33    41\n",
              "36    38\n",
              "35    37\n",
              "30    37\n",
              "40    34\n",
              "41    34\n",
              "38    32\n",
              "43    29\n",
              "39    29\n",
              "45    29\n",
              "48    27\n",
              "55    26\n",
              "49    25\n",
              "50    24\n",
              "53    23\n",
              "56    21\n",
              "29    21\n",
              "44    21\n",
              "46    21\n",
              "57    20\n",
              "27    20\n",
              "26    20\n",
              "47    18\n",
              "52    18\n",
              "28    17\n",
              "51    16\n",
              "54    16\n",
              "58    14\n",
              "59    12\n",
              "25    11\n",
              "60     8\n",
              "23     5\n",
              "24     4\n",
              "61     4\n",
              "63     3\n",
              "69     3\n",
              "75     3\n",
              "62     2\n",
              "65     2\n",
              "66     2\n",
              "22     2\n",
              "21     2\n",
              "70     2\n",
              "77     2\n",
              "78     2\n",
              "20     1\n",
              "84     1\n",
              "64     1\n",
              "67     1\n",
              "68     1\n",
              "71     1\n",
              "19     1\n",
              "Name: age, dtype: int64"
            ]
          },
          "metadata": {
            "tags": []
          },
          "execution_count": 83
        }
      ]
    },
    {
      "cell_type": "code",
      "metadata": {
        "id": "WBo4_b5bPgLF",
        "colab_type": "code",
        "colab": {}
      },
      "source": [
        ""
      ],
      "execution_count": 0,
      "outputs": []
    },
    {
      "cell_type": "code",
      "metadata": {
        "id": "O5xh3vMIPB15",
        "colab_type": "code",
        "colab": {}
      },
      "source": [
        ""
      ],
      "execution_count": 0,
      "outputs": []
    },
    {
      "cell_type": "code",
      "metadata": {
        "id": "9lclb3SnO70y",
        "colab_type": "code",
        "colab": {}
      },
      "source": [
        ""
      ],
      "execution_count": 0,
      "outputs": []
    },
    {
      "cell_type": "code",
      "metadata": {
        "id": "pYk406JxN6xj",
        "colab_type": "code",
        "colab": {}
      },
      "source": [
        ""
      ],
      "execution_count": 0,
      "outputs": []
    },
    {
      "cell_type": "code",
      "metadata": {
        "id": "SsUU81NaEZla",
        "colab_type": "code",
        "colab": {}
      },
      "source": [
        ""
      ],
      "execution_count": 0,
      "outputs": []
    },
    {
      "cell_type": "code",
      "metadata": {
        "id": "j9F5Px0aEUIU",
        "colab_type": "code",
        "colab": {}
      },
      "source": [
        ""
      ],
      "execution_count": 0,
      "outputs": []
    },
    {
      "cell_type": "code",
      "metadata": {
        "id": "nGsammqYEGTJ",
        "colab_type": "code",
        "colab": {}
      },
      "source": [
        ""
      ],
      "execution_count": 0,
      "outputs": []
    },
    {
      "cell_type": "code",
      "metadata": {
        "id": "NWcC_1xlClqc",
        "colab_type": "code",
        "colab": {}
      },
      "source": [
        ""
      ],
      "execution_count": 0,
      "outputs": []
    },
    {
      "cell_type": "code",
      "metadata": {
        "id": "aZjSdJRP9eLx",
        "colab_type": "code",
        "colab": {}
      },
      "source": [
        ""
      ],
      "execution_count": 0,
      "outputs": []
    },
    {
      "cell_type": "code",
      "metadata": {
        "id": "ZFUWAC7189Gx",
        "colab_type": "code",
        "colab": {}
      },
      "source": [
        ""
      ],
      "execution_count": 0,
      "outputs": []
    },
    {
      "cell_type": "code",
      "metadata": {
        "id": "fQ3scU8e8icK",
        "colab_type": "code",
        "colab": {}
      },
      "source": [
        ""
      ],
      "execution_count": 0,
      "outputs": []
    },
    {
      "cell_type": "code",
      "metadata": {
        "id": "gBpwOrTV8MLW",
        "colab_type": "code",
        "colab": {}
      },
      "source": [
        ""
      ],
      "execution_count": 0,
      "outputs": []
    },
    {
      "cell_type": "code",
      "metadata": {
        "id": "kGu4CK-O7qlJ",
        "colab_type": "code",
        "colab": {}
      },
      "source": [
        ""
      ],
      "execution_count": 0,
      "outputs": []
    },
    {
      "cell_type": "code",
      "metadata": {
        "id": "UDrBsWzm65Pj",
        "colab_type": "code",
        "colab": {}
      },
      "source": [
        ""
      ],
      "execution_count": 0,
      "outputs": []
    },
    {
      "cell_type": "code",
      "metadata": {
        "id": "NHebuSek62e6",
        "colab_type": "code",
        "colab": {}
      },
      "source": [
        ""
      ],
      "execution_count": 0,
      "outputs": []
    },
    {
      "cell_type": "code",
      "metadata": {
        "id": "FRdzywao5VMh",
        "colab_type": "code",
        "colab": {}
      },
      "source": [
        ""
      ],
      "execution_count": 0,
      "outputs": []
    },
    {
      "cell_type": "code",
      "metadata": {
        "id": "ekwaNHFc4XmL",
        "colab_type": "code",
        "colab": {}
      },
      "source": [
        ""
      ],
      "execution_count": 0,
      "outputs": []
    },
    {
      "cell_type": "code",
      "metadata": {
        "id": "vDYom88g4OMm",
        "colab_type": "code",
        "colab": {}
      },
      "source": [
        ""
      ],
      "execution_count": 0,
      "outputs": []
    },
    {
      "cell_type": "code",
      "metadata": {
        "id": "2uKZK3vU36bg",
        "colab_type": "code",
        "colab": {}
      },
      "source": [
        ""
      ],
      "execution_count": 0,
      "outputs": []
    },
    {
      "cell_type": "code",
      "metadata": {
        "id": "8wERIWYm3qNN",
        "colab_type": "code",
        "colab": {}
      },
      "source": [
        ""
      ],
      "execution_count": 0,
      "outputs": []
    },
    {
      "cell_type": "code",
      "metadata": {
        "id": "zk6bUPrs3UDK",
        "colab_type": "code",
        "colab": {}
      },
      "source": [
        ""
      ],
      "execution_count": 0,
      "outputs": []
    },
    {
      "cell_type": "code",
      "metadata": {
        "id": "HLvEtRAw3R8q",
        "colab_type": "code",
        "colab": {}
      },
      "source": [
        ""
      ],
      "execution_count": 0,
      "outputs": []
    },
    {
      "cell_type": "code",
      "metadata": {
        "id": "WWjEP6Gn3Idd",
        "colab_type": "code",
        "colab": {}
      },
      "source": [
        ""
      ],
      "execution_count": 0,
      "outputs": []
    },
    {
      "cell_type": "code",
      "metadata": {
        "id": "7wFt7z302993",
        "colab_type": "code",
        "colab": {}
      },
      "source": [
        ""
      ],
      "execution_count": 0,
      "outputs": []
    },
    {
      "cell_type": "code",
      "metadata": {
        "id": "8j5EV0Fn21sH",
        "colab_type": "code",
        "colab": {}
      },
      "source": [
        ""
      ],
      "execution_count": 0,
      "outputs": []
    },
    {
      "cell_type": "code",
      "metadata": {
        "id": "a9oRgTV32xFR",
        "colab_type": "code",
        "colab": {}
      },
      "source": [
        ""
      ],
      "execution_count": 0,
      "outputs": []
    },
    {
      "cell_type": "code",
      "metadata": {
        "id": "8CF-uYXk16Hr",
        "colab_type": "code",
        "colab": {}
      },
      "source": [
        ""
      ],
      "execution_count": 0,
      "outputs": []
    },
    {
      "cell_type": "code",
      "metadata": {
        "id": "R3tICHbf1wDH",
        "colab_type": "code",
        "colab": {}
      },
      "source": [
        ""
      ],
      "execution_count": 0,
      "outputs": []
    },
    {
      "cell_type": "code",
      "metadata": {
        "id": "78sy2Bz5y9s5",
        "colab_type": "code",
        "colab": {}
      },
      "source": [
        ""
      ],
      "execution_count": 0,
      "outputs": []
    },
    {
      "cell_type": "code",
      "metadata": {
        "id": "Tgp7zlKWy1_q",
        "colab_type": "code",
        "colab": {}
      },
      "source": [
        ""
      ],
      "execution_count": 0,
      "outputs": []
    },
    {
      "cell_type": "code",
      "metadata": {
        "id": "N-mTN_bwxz0L",
        "colab_type": "code",
        "colab": {}
      },
      "source": [
        ""
      ],
      "execution_count": 0,
      "outputs": []
    },
    {
      "cell_type": "code",
      "metadata": {
        "id": "JAGgoYJLxNQv",
        "colab_type": "code",
        "colab": {}
      },
      "source": [
        ""
      ],
      "execution_count": 0,
      "outputs": []
    },
    {
      "cell_type": "code",
      "metadata": {
        "id": "b9V9T71RxBg8",
        "colab_type": "code",
        "colab": {}
      },
      "source": [
        ""
      ],
      "execution_count": 0,
      "outputs": []
    },
    {
      "cell_type": "code",
      "metadata": {
        "id": "qJfPCG_dw8qo",
        "colab_type": "code",
        "colab": {}
      },
      "source": [
        ""
      ],
      "execution_count": 0,
      "outputs": []
    },
    {
      "cell_type": "code",
      "metadata": {
        "id": "_5vCkBy5w6B8",
        "colab_type": "code",
        "colab": {}
      },
      "source": [
        ""
      ],
      "execution_count": 0,
      "outputs": []
    },
    {
      "cell_type": "code",
      "metadata": {
        "id": "LdSK3eN0dGc5",
        "colab_type": "code",
        "colab": {}
      },
      "source": [
        ""
      ],
      "execution_count": 0,
      "outputs": []
    },
    {
      "cell_type": "code",
      "metadata": {
        "id": "1Mn8EZbWc47f",
        "colab_type": "code",
        "colab": {}
      },
      "source": [
        ""
      ],
      "execution_count": 0,
      "outputs": []
    },
    {
      "cell_type": "code",
      "metadata": {
        "id": "2EN3igCJb7hG",
        "colab_type": "code",
        "colab": {}
      },
      "source": [
        ""
      ],
      "execution_count": 0,
      "outputs": []
    },
    {
      "cell_type": "code",
      "metadata": {
        "id": "0lO7hz_pbykH",
        "colab_type": "code",
        "colab": {}
      },
      "source": [
        ""
      ],
      "execution_count": 0,
      "outputs": []
    },
    {
      "cell_type": "code",
      "metadata": {
        "id": "WGcvc2qQbjjt",
        "colab_type": "code",
        "colab": {}
      },
      "source": [
        ""
      ],
      "execution_count": 0,
      "outputs": []
    },
    {
      "cell_type": "code",
      "metadata": {
        "id": "iHoIvmhuaSVp",
        "colab_type": "code",
        "colab": {}
      },
      "source": [
        ""
      ],
      "execution_count": 0,
      "outputs": []
    },
    {
      "cell_type": "code",
      "metadata": {
        "id": "6b5amquAaLnW",
        "colab_type": "code",
        "colab": {}
      },
      "source": [
        ""
      ],
      "execution_count": 0,
      "outputs": []
    },
    {
      "cell_type": "code",
      "metadata": {
        "id": "_q0nBmolZMnO",
        "colab_type": "code",
        "colab": {}
      },
      "source": [
        ""
      ],
      "execution_count": 0,
      "outputs": []
    },
    {
      "cell_type": "code",
      "metadata": {
        "id": "nUTgyu2ZVZee",
        "colab_type": "code",
        "colab": {}
      },
      "source": [
        ""
      ],
      "execution_count": 0,
      "outputs": []
    }
  ]
}