{
  "nbformat": 4,
  "nbformat_minor": 0,
  "metadata": {
    "colab": {
      "name": "BankTermDeposit.ipynb",
      "version": "0.3.2",
      "provenance": [],
      "collapsed_sections": [],
      "include_colab_link": true
    },
    "kernelspec": {
      "name": "python3",
      "display_name": "Python 3"
    }
  },
  "cells": [
    {
      "cell_type": "markdown",
      "metadata": {
        "id": "view-in-github",
        "colab_type": "text"
      },
      "source": [
        "<a href=\"https://colab.research.google.com/github/lokeshkumarn/Notebooks/blob/master/BankTermDeposit.ipynb\" target=\"_parent\"><img src=\"https://colab.research.google.com/assets/colab-badge.svg\" alt=\"Open In Colab\"/></a>"
      ]
    },
    {
      "cell_type": "code",
      "metadata": {
        "id": "C2Hi_ENnSCOn",
        "colab_type": "code",
        "colab": {}
      },
      "source": [
        "import os\n",
        "import numpy as np\n",
        "import pandas as pd\n",
        "\n",
        "#Visualizations\n",
        "import matplotlib as mpl\n",
        "from matplotlib import pyplot as plt\n",
        "\n",
        "#Modeling\n",
        "import sklearn"
      ],
      "execution_count": 0,
      "outputs": []
    },
    {
      "cell_type": "markdown",
      "metadata": {
        "id": "F1mCC49eVB4f",
        "colab_type": "text"
      },
      "source": [
        "Load the Data"
      ]
    },
    {
      "cell_type": "code",
      "metadata": {
        "id": "NbJtHWlkU-6F",
        "colab_type": "code",
        "colab": {}
      },
      "source": [
        "data = pd.read_excel('Bank Data for case study assignment.xlsx')"
      ],
      "execution_count": 0,
      "outputs": []
    },
    {
      "cell_type": "code",
      "metadata": {
        "id": "u_BJuB-IVM93",
        "colab_type": "code",
        "colab": {
          "base_uri": "https://localhost:8080/",
          "height": 206
        },
        "outputId": "baa8a1d7-d6bb-48a4-d6cd-270e3823ca32"
      },
      "source": [
        "data.head()"
      ],
      "execution_count": 72,
      "outputs": [
        {
          "output_type": "execute_result",
          "data": {
            "text/html": [
              "<div>\n",
              "<style scoped>\n",
              "    .dataframe tbody tr th:only-of-type {\n",
              "        vertical-align: middle;\n",
              "    }\n",
              "\n",
              "    .dataframe tbody tr th {\n",
              "        vertical-align: top;\n",
              "    }\n",
              "\n",
              "    .dataframe thead th {\n",
              "        text-align: right;\n",
              "    }\n",
              "</style>\n",
              "<table border=\"1\" class=\"dataframe\">\n",
              "  <thead>\n",
              "    <tr style=\"text-align: right;\">\n",
              "      <th></th>\n",
              "      <th>age</th>\n",
              "      <th>job</th>\n",
              "      <th>marital status</th>\n",
              "      <th>education</th>\n",
              "      <th>credit default?</th>\n",
              "      <th>housing loan?</th>\n",
              "      <th>Personal loan</th>\n",
              "      <th>y</th>\n",
              "    </tr>\n",
              "  </thead>\n",
              "  <tbody>\n",
              "    <tr>\n",
              "      <th>0</th>\n",
              "      <td>30</td>\n",
              "      <td>unemployed</td>\n",
              "      <td>married</td>\n",
              "      <td>primary</td>\n",
              "      <td>no</td>\n",
              "      <td>no</td>\n",
              "      <td>no</td>\n",
              "      <td>no</td>\n",
              "    </tr>\n",
              "    <tr>\n",
              "      <th>1</th>\n",
              "      <td>33</td>\n",
              "      <td>services</td>\n",
              "      <td>married</td>\n",
              "      <td>secondary</td>\n",
              "      <td>no</td>\n",
              "      <td>yes</td>\n",
              "      <td>yes</td>\n",
              "      <td>no</td>\n",
              "    </tr>\n",
              "    <tr>\n",
              "      <th>2</th>\n",
              "      <td>35</td>\n",
              "      <td>management</td>\n",
              "      <td>single</td>\n",
              "      <td>tertiary</td>\n",
              "      <td>no</td>\n",
              "      <td>yes</td>\n",
              "      <td>no</td>\n",
              "      <td>no</td>\n",
              "    </tr>\n",
              "    <tr>\n",
              "      <th>3</th>\n",
              "      <td>30</td>\n",
              "      <td>management</td>\n",
              "      <td>married</td>\n",
              "      <td>tertiary</td>\n",
              "      <td>no</td>\n",
              "      <td>yes</td>\n",
              "      <td>yes</td>\n",
              "      <td>no</td>\n",
              "    </tr>\n",
              "    <tr>\n",
              "      <th>4</th>\n",
              "      <td>59</td>\n",
              "      <td>blue-collar</td>\n",
              "      <td>married</td>\n",
              "      <td>secondary</td>\n",
              "      <td>no</td>\n",
              "      <td>yes</td>\n",
              "      <td>no</td>\n",
              "      <td>no</td>\n",
              "    </tr>\n",
              "  </tbody>\n",
              "</table>\n",
              "</div>"
            ],
            "text/plain": [
              "   age          job marital status   ... housing loan? Personal loan   y\n",
              "0   30   unemployed         married  ...            no            no  no\n",
              "1   33     services         married  ...           yes           yes  no\n",
              "2   35   management          single  ...           yes            no  no\n",
              "3   30   management         married  ...           yes           yes  no\n",
              "4   59  blue-collar         married  ...           yes            no  no\n",
              "\n",
              "[5 rows x 8 columns]"
            ]
          },
          "metadata": {
            "tags": []
          },
          "execution_count": 72
        }
      ]
    },
    {
      "cell_type": "markdown",
      "metadata": {
        "id": "ailcQI3TYJQ7",
        "colab_type": "text"
      },
      "source": [
        "Exploratory Data Analysis and Statistical Analysis"
      ]
    },
    {
      "cell_type": "code",
      "metadata": {
        "id": "ZuvbayEOanKS",
        "colab_type": "code",
        "colab": {
          "base_uri": "https://localhost:8080/",
          "height": 73
        },
        "outputId": "ec8d43b9-59ea-48d9-abfc-e9e0831af140"
      },
      "source": [
        "data.columns"
      ],
      "execution_count": 73,
      "outputs": [
        {
          "output_type": "execute_result",
          "data": {
            "text/plain": [
              "Index(['age', 'job', 'marital status ', 'education', 'credit default?',\n",
              "       'housing loan?', 'Personal loan', 'y'],\n",
              "      dtype='object')"
            ]
          },
          "metadata": {
            "tags": []
          },
          "execution_count": 73
        }
      ]
    },
    {
      "cell_type": "markdown",
      "metadata": {
        "id": "_Xi-0CQ-azjv",
        "colab_type": "text"
      },
      "source": [
        "Column Marital Status is having extra space in the end, just rename it without space in the end"
      ]
    },
    {
      "cell_type": "code",
      "metadata": {
        "id": "aroM5xV8a82z",
        "colab_type": "code",
        "colab": {}
      },
      "source": [
        "data.rename(columns={'marital status ':'marital status'},inplace=True)"
      ],
      "execution_count": 0,
      "outputs": []
    },
    {
      "cell_type": "code",
      "metadata": {
        "id": "JMofyp3OVOH2",
        "colab_type": "code",
        "colab": {
          "base_uri": "https://localhost:8080/",
          "height": 259
        },
        "outputId": "a10c831d-461f-4fce-f3ba-46af3242b748"
      },
      "source": [
        "data.info()"
      ],
      "execution_count": 75,
      "outputs": [
        {
          "output_type": "stream",
          "text": [
            "<class 'pandas.core.frame.DataFrame'>\n",
            "RangeIndex: 1021 entries, 0 to 1020\n",
            "Data columns (total 8 columns):\n",
            "age                1021 non-null int64\n",
            "job                1019 non-null object\n",
            "marital status     1020 non-null object\n",
            "education          1020 non-null object\n",
            "credit default?    1020 non-null object\n",
            "housing loan?      1019 non-null object\n",
            "Personal loan      1019 non-null object\n",
            "y                  1021 non-null object\n",
            "dtypes: int64(1), object(7)\n",
            "memory usage: 63.9+ KB\n"
          ],
          "name": "stdout"
        }
      ]
    },
    {
      "cell_type": "markdown",
      "metadata": {
        "id": "SstfMzTCYW_x",
        "colab_type": "text"
      },
      "source": [
        "Total 1021 records in that Marital Status, Education, Credit Default having 1 missing data and Job,Housing Loan, Personal Loan has two missing data"
      ]
    },
    {
      "cell_type": "markdown",
      "metadata": {
        "id": "qaEiEJ9EZ4dc",
        "colab_type": "text"
      },
      "source": [
        "First fill the missing  value for the job"
      ]
    },
    {
      "cell_type": "code",
      "metadata": {
        "id": "RtFxSOStYuJJ",
        "colab_type": "code",
        "colab": {
          "base_uri": "https://localhost:8080/",
          "height": 112
        },
        "outputId": "96ed3b56-6862-4cb0-f247-50ae368a5ac1"
      },
      "source": [
        "data[data['job'].isnull()]"
      ],
      "execution_count": 76,
      "outputs": [
        {
          "output_type": "execute_result",
          "data": {
            "text/html": [
              "<div>\n",
              "<style scoped>\n",
              "    .dataframe tbody tr th:only-of-type {\n",
              "        vertical-align: middle;\n",
              "    }\n",
              "\n",
              "    .dataframe tbody tr th {\n",
              "        vertical-align: top;\n",
              "    }\n",
              "\n",
              "    .dataframe thead th {\n",
              "        text-align: right;\n",
              "    }\n",
              "</style>\n",
              "<table border=\"1\" class=\"dataframe\">\n",
              "  <thead>\n",
              "    <tr style=\"text-align: right;\">\n",
              "      <th></th>\n",
              "      <th>age</th>\n",
              "      <th>job</th>\n",
              "      <th>marital status</th>\n",
              "      <th>education</th>\n",
              "      <th>credit default?</th>\n",
              "      <th>housing loan?</th>\n",
              "      <th>Personal loan</th>\n",
              "      <th>y</th>\n",
              "    </tr>\n",
              "  </thead>\n",
              "  <tbody>\n",
              "    <tr>\n",
              "      <th>79</th>\n",
              "      <td>40</td>\n",
              "      <td>NaN</td>\n",
              "      <td>married</td>\n",
              "      <td>secondary</td>\n",
              "      <td>no</td>\n",
              "      <td>yes</td>\n",
              "      <td>no</td>\n",
              "      <td>no</td>\n",
              "    </tr>\n",
              "    <tr>\n",
              "      <th>1004</th>\n",
              "      <td>42</td>\n",
              "      <td>NaN</td>\n",
              "      <td>single</td>\n",
              "      <td>secondary</td>\n",
              "      <td>no</td>\n",
              "      <td>yes</td>\n",
              "      <td>yes</td>\n",
              "      <td>yes</td>\n",
              "    </tr>\n",
              "  </tbody>\n",
              "</table>\n",
              "</div>"
            ],
            "text/plain": [
              "      age  job marital status  ... housing loan? Personal loan    y\n",
              "79     40  NaN        married  ...           yes            no   no\n",
              "1004   42  NaN         single  ...           yes           yes  yes\n",
              "\n",
              "[2 rows x 8 columns]"
            ]
          },
          "metadata": {
            "tags": []
          },
          "execution_count": 76
        }
      ]
    },
    {
      "cell_type": "markdown",
      "metadata": {
        "id": "IL1guWCbgVy5",
        "colab_type": "text"
      },
      "source": [
        "Taking the first record from above and looking for data whose attribute values are similar to that of the missing value and decide how to replace the missing value"
      ]
    },
    {
      "cell_type": "code",
      "metadata": {
        "id": "iiSw-4YSZ01E",
        "colab_type": "code",
        "colab": {
          "base_uri": "https://localhost:8080/",
          "height": 300
        },
        "outputId": "7230a48b-25df-40ca-91a8-d53c4560d750"
      },
      "source": [
        "data[(data['age']== 40) & \n",
        "     (data['marital status'] =='married') & \n",
        "     (data['education'] =='secondary') & \n",
        "     (data['credit default?'] =='no') & \n",
        "     (data['housing loan?'] =='yes') & \n",
        "     (data['Personal loan'] =='no') & \n",
        "     (data['y'] =='no') & \n",
        "     (data['job'].isnull()==False)]"
      ],
      "execution_count": 78,
      "outputs": [
        {
          "output_type": "execute_result",
          "data": {
            "text/html": [
              "<div>\n",
              "<style scoped>\n",
              "    .dataframe tbody tr th:only-of-type {\n",
              "        vertical-align: middle;\n",
              "    }\n",
              "\n",
              "    .dataframe tbody tr th {\n",
              "        vertical-align: top;\n",
              "    }\n",
              "\n",
              "    .dataframe thead th {\n",
              "        text-align: right;\n",
              "    }\n",
              "</style>\n",
              "<table border=\"1\" class=\"dataframe\">\n",
              "  <thead>\n",
              "    <tr style=\"text-align: right;\">\n",
              "      <th></th>\n",
              "      <th>age</th>\n",
              "      <th>job</th>\n",
              "      <th>marital status</th>\n",
              "      <th>education</th>\n",
              "      <th>credit default?</th>\n",
              "      <th>housing loan?</th>\n",
              "      <th>Personal loan</th>\n",
              "      <th>y</th>\n",
              "    </tr>\n",
              "  </thead>\n",
              "  <tbody>\n",
              "    <tr>\n",
              "      <th>270</th>\n",
              "      <td>40</td>\n",
              "      <td>services</td>\n",
              "      <td>married</td>\n",
              "      <td>secondary</td>\n",
              "      <td>no</td>\n",
              "      <td>yes</td>\n",
              "      <td>no</td>\n",
              "      <td>no</td>\n",
              "    </tr>\n",
              "    <tr>\n",
              "      <th>482</th>\n",
              "      <td>40</td>\n",
              "      <td>technician</td>\n",
              "      <td>married</td>\n",
              "      <td>secondary</td>\n",
              "      <td>no</td>\n",
              "      <td>yes</td>\n",
              "      <td>no</td>\n",
              "      <td>no</td>\n",
              "    </tr>\n",
              "    <tr>\n",
              "      <th>597</th>\n",
              "      <td>40</td>\n",
              "      <td>management</td>\n",
              "      <td>married</td>\n",
              "      <td>secondary</td>\n",
              "      <td>no</td>\n",
              "      <td>yes</td>\n",
              "      <td>no</td>\n",
              "      <td>no</td>\n",
              "    </tr>\n",
              "    <tr>\n",
              "      <th>671</th>\n",
              "      <td>40</td>\n",
              "      <td>technician</td>\n",
              "      <td>married</td>\n",
              "      <td>secondary</td>\n",
              "      <td>no</td>\n",
              "      <td>yes</td>\n",
              "      <td>no</td>\n",
              "      <td>no</td>\n",
              "    </tr>\n",
              "    <tr>\n",
              "      <th>684</th>\n",
              "      <td>40</td>\n",
              "      <td>services</td>\n",
              "      <td>married</td>\n",
              "      <td>secondary</td>\n",
              "      <td>no</td>\n",
              "      <td>yes</td>\n",
              "      <td>no</td>\n",
              "      <td>no</td>\n",
              "    </tr>\n",
              "    <tr>\n",
              "      <th>710</th>\n",
              "      <td>40</td>\n",
              "      <td>technician</td>\n",
              "      <td>married</td>\n",
              "      <td>secondary</td>\n",
              "      <td>no</td>\n",
              "      <td>yes</td>\n",
              "      <td>no</td>\n",
              "      <td>no</td>\n",
              "    </tr>\n",
              "    <tr>\n",
              "      <th>960</th>\n",
              "      <td>40</td>\n",
              "      <td>technician</td>\n",
              "      <td>married</td>\n",
              "      <td>secondary</td>\n",
              "      <td>no</td>\n",
              "      <td>yes</td>\n",
              "      <td>no</td>\n",
              "      <td>no</td>\n",
              "    </tr>\n",
              "    <tr>\n",
              "      <th>1012</th>\n",
              "      <td>40</td>\n",
              "      <td>blue-collar</td>\n",
              "      <td>married</td>\n",
              "      <td>secondary</td>\n",
              "      <td>no</td>\n",
              "      <td>yes</td>\n",
              "      <td>no</td>\n",
              "      <td>no</td>\n",
              "    </tr>\n",
              "  </tbody>\n",
              "</table>\n",
              "</div>"
            ],
            "text/plain": [
              "      age          job marital status  ... housing loan? Personal loan   y\n",
              "270    40     services        married  ...           yes            no  no\n",
              "482    40   technician        married  ...           yes            no  no\n",
              "597    40   management        married  ...           yes            no  no\n",
              "671    40   technician        married  ...           yes            no  no\n",
              "684    40     services        married  ...           yes            no  no\n",
              "710    40   technician        married  ...           yes            no  no\n",
              "960    40   technician        married  ...           yes            no  no\n",
              "1012   40  blue-collar        married  ...           yes            no  no\n",
              "\n",
              "[8 rows x 8 columns]"
            ]
          },
          "metadata": {
            "tags": []
          },
          "execution_count": 78
        }
      ]
    },
    {
      "cell_type": "markdown",
      "metadata": {
        "id": "yewiJsZlcfzJ",
        "colab_type": "text"
      },
      "source": [
        "Taking the Mode and imputing the missing value for job "
      ]
    },
    {
      "cell_type": "code",
      "metadata": {
        "id": "K6pn-zZfb9FA",
        "colab_type": "code",
        "colab": {
          "base_uri": "https://localhost:8080/",
          "height": 54
        },
        "outputId": "66a678be-bdab-4c5e-8bed-3cda10d9662f"
      },
      "source": [
        "data[(data['age']== 40) & \n",
        "     (data['marital status'] =='married') & \n",
        "     (data['education'] =='secondary')& \n",
        "     (data['credit default?'] =='no') & \n",
        "     (data['housing loan?'] =='yes') & \n",
        "     (data['Personal loan'] =='no') & \n",
        "     (data['job'].isnull()==False)]['job'].mode()"
      ],
      "execution_count": 79,
      "outputs": [
        {
          "output_type": "execute_result",
          "data": {
            "text/plain": [
              "0    technician\n",
              "dtype: object"
            ]
          },
          "metadata": {
            "tags": []
          },
          "execution_count": 79
        }
      ]
    },
    {
      "cell_type": "code",
      "metadata": {
        "id": "5pYbAkTEcpYE",
        "colab_type": "code",
        "colab": {
          "base_uri": "https://localhost:8080/",
          "height": 81
        },
        "outputId": "3fcdd7a0-113d-4803-9e35-af513c11f1a5"
      },
      "source": [
        "data[(data['age']== 40) & \n",
        "     (data['marital status'] =='married') & \n",
        "     (data['education'] =='secondary') & \n",
        "     (data['credit default?'] =='no') &\n",
        "     (data['housing loan?'] =='yes') & \n",
        "     (data['Personal loan'] =='no')& \n",
        "     (data['job'].isnull()==True)]"
      ],
      "execution_count": 81,
      "outputs": [
        {
          "output_type": "execute_result",
          "data": {
            "text/html": [
              "<div>\n",
              "<style scoped>\n",
              "    .dataframe tbody tr th:only-of-type {\n",
              "        vertical-align: middle;\n",
              "    }\n",
              "\n",
              "    .dataframe tbody tr th {\n",
              "        vertical-align: top;\n",
              "    }\n",
              "\n",
              "    .dataframe thead th {\n",
              "        text-align: right;\n",
              "    }\n",
              "</style>\n",
              "<table border=\"1\" class=\"dataframe\">\n",
              "  <thead>\n",
              "    <tr style=\"text-align: right;\">\n",
              "      <th></th>\n",
              "      <th>age</th>\n",
              "      <th>job</th>\n",
              "      <th>marital status</th>\n",
              "      <th>education</th>\n",
              "      <th>credit default?</th>\n",
              "      <th>housing loan?</th>\n",
              "      <th>Personal loan</th>\n",
              "      <th>y</th>\n",
              "    </tr>\n",
              "  </thead>\n",
              "  <tbody>\n",
              "    <tr>\n",
              "      <th>79</th>\n",
              "      <td>40</td>\n",
              "      <td>NaN</td>\n",
              "      <td>married</td>\n",
              "      <td>secondary</td>\n",
              "      <td>no</td>\n",
              "      <td>yes</td>\n",
              "      <td>no</td>\n",
              "      <td>no</td>\n",
              "    </tr>\n",
              "  </tbody>\n",
              "</table>\n",
              "</div>"
            ],
            "text/plain": [
              "    age  job marital status  ... housing loan? Personal loan   y\n",
              "79   40  NaN        married  ...           yes            no  no\n",
              "\n",
              "[1 rows x 8 columns]"
            ]
          },
          "metadata": {
            "tags": []
          },
          "execution_count": 81
        }
      ]
    },
    {
      "cell_type": "markdown",
      "metadata": {
        "id": "K5bOMf60dcCR",
        "colab_type": "text"
      },
      "source": [
        "imputing the new value for job using the mod value of job whose attributes had similar values as that of the missing values"
      ]
    },
    {
      "cell_type": "code",
      "metadata": {
        "id": "NX2iJx3_cuqt",
        "colab_type": "code",
        "colab": {}
      },
      "source": [
        "data.loc[(data['age']== 40) & \n",
        "         (data['marital status'] =='married') & \n",
        "         (data['education'] =='secondary')    & \n",
        "         (data['credit default?'] =='no') & \n",
        "         (data['housing loan?'] =='yes') & \n",
        "         (data['Personal loan'] =='no')\n",
        "    & (data['job'].isnull()==True),'job']=\\\n",
        "data[(data['age']== 40) & \n",
        "     (data['marital status'] =='married') & \n",
        "     (data['education'] =='secondary')    & \n",
        "     (data['credit default?'] =='no') & \n",
        "     (data['housing loan?'] =='yes') & \n",
        "     (data['Personal loan'] =='no')    & \n",
        "     (data['job'].isnull()==False)]['job'].mode()[0]"
      ],
      "execution_count": 0,
      "outputs": []
    },
    {
      "cell_type": "code",
      "metadata": {
        "id": "AdFmJ6vZdB00",
        "colab_type": "code",
        "colab": {
          "base_uri": "https://localhost:8080/",
          "height": 81
        },
        "outputId": "dcd1ef44-c0db-4bf8-fbe0-7f0f337359ef"
      },
      "source": [
        "data[data['job'].isnull()]"
      ],
      "execution_count": 83,
      "outputs": [
        {
          "output_type": "execute_result",
          "data": {
            "text/html": [
              "<div>\n",
              "<style scoped>\n",
              "    .dataframe tbody tr th:only-of-type {\n",
              "        vertical-align: middle;\n",
              "    }\n",
              "\n",
              "    .dataframe tbody tr th {\n",
              "        vertical-align: top;\n",
              "    }\n",
              "\n",
              "    .dataframe thead th {\n",
              "        text-align: right;\n",
              "    }\n",
              "</style>\n",
              "<table border=\"1\" class=\"dataframe\">\n",
              "  <thead>\n",
              "    <tr style=\"text-align: right;\">\n",
              "      <th></th>\n",
              "      <th>age</th>\n",
              "      <th>job</th>\n",
              "      <th>marital status</th>\n",
              "      <th>education</th>\n",
              "      <th>credit default?</th>\n",
              "      <th>housing loan?</th>\n",
              "      <th>Personal loan</th>\n",
              "      <th>y</th>\n",
              "    </tr>\n",
              "  </thead>\n",
              "  <tbody>\n",
              "    <tr>\n",
              "      <th>1004</th>\n",
              "      <td>42</td>\n",
              "      <td>NaN</td>\n",
              "      <td>single</td>\n",
              "      <td>secondary</td>\n",
              "      <td>no</td>\n",
              "      <td>yes</td>\n",
              "      <td>yes</td>\n",
              "      <td>yes</td>\n",
              "    </tr>\n",
              "  </tbody>\n",
              "</table>\n",
              "</div>"
            ],
            "text/plain": [
              "      age  job marital status  ... housing loan? Personal loan    y\n",
              "1004   42  NaN         single  ...           yes           yes  yes\n",
              "\n",
              "[1 rows x 8 columns]"
            ]
          },
          "metadata": {
            "tags": []
          },
          "execution_count": 83
        }
      ]
    },
    {
      "cell_type": "markdown",
      "metadata": {
        "id": "o4TKDZnRgyDf",
        "colab_type": "text"
      },
      "source": [
        "Data imputed, from the above it is clear that only one is missing right now and do the similar kind of operation for above record also"
      ]
    },
    {
      "cell_type": "code",
      "metadata": {
        "id": "0bHAtDhchEDR",
        "colab_type": "code",
        "colab": {
          "base_uri": "https://localhost:8080/",
          "height": 49
        },
        "outputId": "b6d74ff4-ee6b-43e4-aaeb-df104803d5d7"
      },
      "source": [
        "data[(data['age']== 42) & \n",
        "     (data['marital status'] =='single') & \n",
        "     (data['education'] =='secondary') & \n",
        "     (data['credit default?'] =='no') & \n",
        "     (data['housing loan?'] =='yes') & \n",
        "     (data['Personal loan'] =='yes') & \n",
        "     (data['y'] =='yes') & \n",
        "     (data['job'].isnull()==False)]"
      ],
      "execution_count": 85,
      "outputs": [
        {
          "output_type": "execute_result",
          "data": {
            "text/html": [
              "<div>\n",
              "<style scoped>\n",
              "    .dataframe tbody tr th:only-of-type {\n",
              "        vertical-align: middle;\n",
              "    }\n",
              "\n",
              "    .dataframe tbody tr th {\n",
              "        vertical-align: top;\n",
              "    }\n",
              "\n",
              "    .dataframe thead th {\n",
              "        text-align: right;\n",
              "    }\n",
              "</style>\n",
              "<table border=\"1\" class=\"dataframe\">\n",
              "  <thead>\n",
              "    <tr style=\"text-align: right;\">\n",
              "      <th></th>\n",
              "      <th>age</th>\n",
              "      <th>job</th>\n",
              "      <th>marital status</th>\n",
              "      <th>education</th>\n",
              "      <th>credit default?</th>\n",
              "      <th>housing loan?</th>\n",
              "      <th>Personal loan</th>\n",
              "      <th>y</th>\n",
              "    </tr>\n",
              "  </thead>\n",
              "  <tbody>\n",
              "  </tbody>\n",
              "</table>\n",
              "</div>"
            ],
            "text/plain": [
              "Empty DataFrame\n",
              "Columns: [age, job, marital status, education, credit default?, housing loan?, Personal loan, y]\n",
              "Index: []"
            ]
          },
          "metadata": {
            "tags": []
          },
          "execution_count": 85
        }
      ]
    },
    {
      "cell_type": "markdown",
      "metadata": {
        "id": "B_AP1r9KxF1i",
        "colab_type": "text"
      },
      "source": [
        "No data available for similar values.So look in broader scope"
      ]
    },
    {
      "cell_type": "markdown",
      "metadata": {
        "id": "CiTbj2pA12GG",
        "colab_type": "text"
      },
      "source": [
        "Remove the Marital Status and check"
      ]
    },
    {
      "cell_type": "code",
      "metadata": {
        "id": "4cKoWxWqxVkY",
        "colab_type": "code",
        "colab": {
          "base_uri": "https://localhost:8080/",
          "height": 49
        },
        "outputId": "35e5b3fd-a6d5-4a0a-afe6-c6208d119b85"
      },
      "source": [
        "data[(data['age']== 42) & \n",
        "     (data['education'] =='secondary') & \n",
        "     (data['credit default?'] =='no') & \n",
        "     (data['housing loan?'] =='yes') & \n",
        "     (data['Personal loan'] =='yes') & \n",
        "     (data['y'] =='yes') & \n",
        "     (data['job'].isnull()==False)]"
      ],
      "execution_count": 92,
      "outputs": [
        {
          "output_type": "execute_result",
          "data": {
            "text/html": [
              "<div>\n",
              "<style scoped>\n",
              "    .dataframe tbody tr th:only-of-type {\n",
              "        vertical-align: middle;\n",
              "    }\n",
              "\n",
              "    .dataframe tbody tr th {\n",
              "        vertical-align: top;\n",
              "    }\n",
              "\n",
              "    .dataframe thead th {\n",
              "        text-align: right;\n",
              "    }\n",
              "</style>\n",
              "<table border=\"1\" class=\"dataframe\">\n",
              "  <thead>\n",
              "    <tr style=\"text-align: right;\">\n",
              "      <th></th>\n",
              "      <th>age</th>\n",
              "      <th>job</th>\n",
              "      <th>marital status</th>\n",
              "      <th>education</th>\n",
              "      <th>credit default?</th>\n",
              "      <th>housing loan?</th>\n",
              "      <th>Personal loan</th>\n",
              "      <th>y</th>\n",
              "    </tr>\n",
              "  </thead>\n",
              "  <tbody>\n",
              "  </tbody>\n",
              "</table>\n",
              "</div>"
            ],
            "text/plain": [
              "Empty DataFrame\n",
              "Columns: [age, job, marital status, education, credit default?, housing loan?, Personal loan, y]\n",
              "Index: []"
            ]
          },
          "metadata": {
            "tags": []
          },
          "execution_count": 92
        }
      ]
    },
    {
      "cell_type": "markdown",
      "metadata": {
        "id": "9AiyOcm3178x",
        "colab_type": "text"
      },
      "source": [
        "Remove Education also and check"
      ]
    },
    {
      "cell_type": "code",
      "metadata": {
        "id": "JClBuhPD1--v",
        "colab_type": "code",
        "colab": {
          "base_uri": "https://localhost:8080/",
          "height": 49
        },
        "outputId": "94f10f0c-29cd-44f8-9e27-9169afb79c94"
      },
      "source": [
        "data[(data['age']== 42) & \n",
        "     (data['credit default?'] =='no') & \n",
        "     (data['housing loan?'] =='yes') & \n",
        "     (data['Personal loan'] =='yes') & \n",
        "     (data['y'] =='yes') & \n",
        "     (data['job'].isnull()==False)]"
      ],
      "execution_count": 93,
      "outputs": [
        {
          "output_type": "execute_result",
          "data": {
            "text/html": [
              "<div>\n",
              "<style scoped>\n",
              "    .dataframe tbody tr th:only-of-type {\n",
              "        vertical-align: middle;\n",
              "    }\n",
              "\n",
              "    .dataframe tbody tr th {\n",
              "        vertical-align: top;\n",
              "    }\n",
              "\n",
              "    .dataframe thead th {\n",
              "        text-align: right;\n",
              "    }\n",
              "</style>\n",
              "<table border=\"1\" class=\"dataframe\">\n",
              "  <thead>\n",
              "    <tr style=\"text-align: right;\">\n",
              "      <th></th>\n",
              "      <th>age</th>\n",
              "      <th>job</th>\n",
              "      <th>marital status</th>\n",
              "      <th>education</th>\n",
              "      <th>credit default?</th>\n",
              "      <th>housing loan?</th>\n",
              "      <th>Personal loan</th>\n",
              "      <th>y</th>\n",
              "    </tr>\n",
              "  </thead>\n",
              "  <tbody>\n",
              "  </tbody>\n",
              "</table>\n",
              "</div>"
            ],
            "text/plain": [
              "Empty DataFrame\n",
              "Columns: [age, job, marital status, education, credit default?, housing loan?, Personal loan, y]\n",
              "Index: []"
            ]
          },
          "metadata": {
            "tags": []
          },
          "execution_count": 93
        }
      ]
    },
    {
      "cell_type": "markdown",
      "metadata": {
        "id": "s1QlKe9b2hrZ",
        "colab_type": "text"
      },
      "source": [
        "Remove credit default"
      ]
    },
    {
      "cell_type": "code",
      "metadata": {
        "id": "W9RZFw_72uca",
        "colab_type": "code",
        "colab": {
          "base_uri": "https://localhost:8080/",
          "height": 49
        },
        "outputId": "c32f3e06-7369-4c4e-e349-b95be209dd5e"
      },
      "source": [
        "data[(data['age']== 42) & \n",
        "     (data['housing loan?'] =='yes') & \n",
        "     (data['Personal loan'] =='yes') & \n",
        "     (data['y'] =='yes') & \n",
        "     (data['job'].isnull()==False)]"
      ],
      "execution_count": 94,
      "outputs": [
        {
          "output_type": "execute_result",
          "data": {
            "text/html": [
              "<div>\n",
              "<style scoped>\n",
              "    .dataframe tbody tr th:only-of-type {\n",
              "        vertical-align: middle;\n",
              "    }\n",
              "\n",
              "    .dataframe tbody tr th {\n",
              "        vertical-align: top;\n",
              "    }\n",
              "\n",
              "    .dataframe thead th {\n",
              "        text-align: right;\n",
              "    }\n",
              "</style>\n",
              "<table border=\"1\" class=\"dataframe\">\n",
              "  <thead>\n",
              "    <tr style=\"text-align: right;\">\n",
              "      <th></th>\n",
              "      <th>age</th>\n",
              "      <th>job</th>\n",
              "      <th>marital status</th>\n",
              "      <th>education</th>\n",
              "      <th>credit default?</th>\n",
              "      <th>housing loan?</th>\n",
              "      <th>Personal loan</th>\n",
              "      <th>y</th>\n",
              "    </tr>\n",
              "  </thead>\n",
              "  <tbody>\n",
              "  </tbody>\n",
              "</table>\n",
              "</div>"
            ],
            "text/plain": [
              "Empty DataFrame\n",
              "Columns: [age, job, marital status, education, credit default?, housing loan?, Personal loan, y]\n",
              "Index: []"
            ]
          },
          "metadata": {
            "tags": []
          },
          "execution_count": 94
        }
      ]
    },
    {
      "cell_type": "markdown",
      "metadata": {
        "id": "cWyS9Xgk2ydx",
        "colab_type": "text"
      },
      "source": [
        "Remove housing loan"
      ]
    },
    {
      "cell_type": "code",
      "metadata": {
        "id": "3z2vTRzv20UO",
        "colab_type": "code",
        "colab": {
          "base_uri": "https://localhost:8080/",
          "height": 49
        },
        "outputId": "8449e0a7-7e51-4168-bad6-c7abb3f41955"
      },
      "source": [
        "data[(data['age']== 42) &  \n",
        "     (data['Personal loan'] =='yes') & \n",
        "     (data['y'] =='yes') & \n",
        "     (data['job'].isnull()==False)]"
      ],
      "execution_count": 95,
      "outputs": [
        {
          "output_type": "execute_result",
          "data": {
            "text/html": [
              "<div>\n",
              "<style scoped>\n",
              "    .dataframe tbody tr th:only-of-type {\n",
              "        vertical-align: middle;\n",
              "    }\n",
              "\n",
              "    .dataframe tbody tr th {\n",
              "        vertical-align: top;\n",
              "    }\n",
              "\n",
              "    .dataframe thead th {\n",
              "        text-align: right;\n",
              "    }\n",
              "</style>\n",
              "<table border=\"1\" class=\"dataframe\">\n",
              "  <thead>\n",
              "    <tr style=\"text-align: right;\">\n",
              "      <th></th>\n",
              "      <th>age</th>\n",
              "      <th>job</th>\n",
              "      <th>marital status</th>\n",
              "      <th>education</th>\n",
              "      <th>credit default?</th>\n",
              "      <th>housing loan?</th>\n",
              "      <th>Personal loan</th>\n",
              "      <th>y</th>\n",
              "    </tr>\n",
              "  </thead>\n",
              "  <tbody>\n",
              "  </tbody>\n",
              "</table>\n",
              "</div>"
            ],
            "text/plain": [
              "Empty DataFrame\n",
              "Columns: [age, job, marital status, education, credit default?, housing loan?, Personal loan, y]\n",
              "Index: []"
            ]
          },
          "metadata": {
            "tags": []
          },
          "execution_count": 95
        }
      ]
    },
    {
      "cell_type": "markdown",
      "metadata": {
        "id": "Z9XN_8sO222L",
        "colab_type": "text"
      },
      "source": [
        "Remove the Personal loan also from condition"
      ]
    },
    {
      "cell_type": "code",
      "metadata": {
        "id": "RXOtB2wv27-e",
        "colab_type": "code",
        "colab": {
          "base_uri": "https://localhost:8080/",
          "height": 81
        },
        "outputId": "2d9a9049-0c4f-4ab9-aeda-3d41114450d3"
      },
      "source": [
        "data[(data['age']== 42) &  \n",
        "     (data['y'] =='yes') & \n",
        "     (data['job'].isnull()==False)]"
      ],
      "execution_count": 96,
      "outputs": [
        {
          "output_type": "execute_result",
          "data": {
            "text/html": [
              "<div>\n",
              "<style scoped>\n",
              "    .dataframe tbody tr th:only-of-type {\n",
              "        vertical-align: middle;\n",
              "    }\n",
              "\n",
              "    .dataframe tbody tr th {\n",
              "        vertical-align: top;\n",
              "    }\n",
              "\n",
              "    .dataframe thead th {\n",
              "        text-align: right;\n",
              "    }\n",
              "</style>\n",
              "<table border=\"1\" class=\"dataframe\">\n",
              "  <thead>\n",
              "    <tr style=\"text-align: right;\">\n",
              "      <th></th>\n",
              "      <th>age</th>\n",
              "      <th>job</th>\n",
              "      <th>marital status</th>\n",
              "      <th>education</th>\n",
              "      <th>credit default?</th>\n",
              "      <th>housing loan?</th>\n",
              "      <th>Personal loan</th>\n",
              "      <th>y</th>\n",
              "    </tr>\n",
              "  </thead>\n",
              "  <tbody>\n",
              "    <tr>\n",
              "      <th>215</th>\n",
              "      <td>42</td>\n",
              "      <td>management</td>\n",
              "      <td>married</td>\n",
              "      <td>tertiary</td>\n",
              "      <td>no</td>\n",
              "      <td>yes</td>\n",
              "      <td>no</td>\n",
              "      <td>yes</td>\n",
              "    </tr>\n",
              "  </tbody>\n",
              "</table>\n",
              "</div>"
            ],
            "text/plain": [
              "     age         job marital status  ... housing loan? Personal loan    y\n",
              "215   42  management        married  ...           yes            no  yes\n",
              "\n",
              "[1 rows x 8 columns]"
            ]
          },
          "metadata": {
            "tags": []
          },
          "execution_count": 96
        }
      ]
    },
    {
      "cell_type": "markdown",
      "metadata": {
        "id": "qt8w3nbS2_Ko",
        "colab_type": "text"
      },
      "source": [
        "Finally we got that the missing value based on the result from above. So lets impute the job value to the missing value"
      ]
    },
    {
      "cell_type": "code",
      "metadata": {
        "id": "H2Z44LQP3OAa",
        "colab_type": "code",
        "colab": {
          "base_uri": "https://localhost:8080/",
          "height": 36
        },
        "outputId": "5c529a96-1c2d-47e5-b32d-0586bc6084da"
      },
      "source": [
        "data[(data['age']== 42) &  \n",
        "     (data['y'] =='yes') & \n",
        "     (data['job'].isnull()==False)]['job'].mode()[0]"
      ],
      "execution_count": 99,
      "outputs": [
        {
          "output_type": "execute_result",
          "data": {
            "text/plain": [
              "'management'"
            ]
          },
          "metadata": {
            "tags": []
          },
          "execution_count": 99
        }
      ]
    },
    {
      "cell_type": "code",
      "metadata": {
        "id": "_mpfvcs_3VYb",
        "colab_type": "code",
        "colab": {
          "base_uri": "https://localhost:8080/",
          "height": 81
        },
        "outputId": "333e40d4-0696-43a6-b178-43fc596e4938"
      },
      "source": [
        "data[(data['age']== 42) & \n",
        "     (data['marital status'] =='single') & \n",
        "     (data['education'] =='secondary') & \n",
        "     (data['credit default?'] =='no') & \n",
        "     (data['housing loan?'] =='yes') & \n",
        "     (data['Personal loan'] =='yes') & \n",
        "     (data['y'] =='yes') & \n",
        "     (data['job'].isnull()==True)]"
      ],
      "execution_count": 100,
      "outputs": [
        {
          "output_type": "execute_result",
          "data": {
            "text/html": [
              "<div>\n",
              "<style scoped>\n",
              "    .dataframe tbody tr th:only-of-type {\n",
              "        vertical-align: middle;\n",
              "    }\n",
              "\n",
              "    .dataframe tbody tr th {\n",
              "        vertical-align: top;\n",
              "    }\n",
              "\n",
              "    .dataframe thead th {\n",
              "        text-align: right;\n",
              "    }\n",
              "</style>\n",
              "<table border=\"1\" class=\"dataframe\">\n",
              "  <thead>\n",
              "    <tr style=\"text-align: right;\">\n",
              "      <th></th>\n",
              "      <th>age</th>\n",
              "      <th>job</th>\n",
              "      <th>marital status</th>\n",
              "      <th>education</th>\n",
              "      <th>credit default?</th>\n",
              "      <th>housing loan?</th>\n",
              "      <th>Personal loan</th>\n",
              "      <th>y</th>\n",
              "    </tr>\n",
              "  </thead>\n",
              "  <tbody>\n",
              "    <tr>\n",
              "      <th>1004</th>\n",
              "      <td>42</td>\n",
              "      <td>NaN</td>\n",
              "      <td>single</td>\n",
              "      <td>secondary</td>\n",
              "      <td>no</td>\n",
              "      <td>yes</td>\n",
              "      <td>yes</td>\n",
              "      <td>yes</td>\n",
              "    </tr>\n",
              "  </tbody>\n",
              "</table>\n",
              "</div>"
            ],
            "text/plain": [
              "      age  job marital status  ... housing loan? Personal loan    y\n",
              "1004   42  NaN         single  ...           yes           yes  yes\n",
              "\n",
              "[1 rows x 8 columns]"
            ]
          },
          "metadata": {
            "tags": []
          },
          "execution_count": 100
        }
      ]
    },
    {
      "cell_type": "code",
      "metadata": {
        "id": "yx_6SJfA3cOY",
        "colab_type": "code",
        "colab": {}
      },
      "source": [
        "data.loc[(data['age']== 42) & \n",
        "     (data['marital status'] =='single') & \n",
        "     (data['education'] =='secondary') & \n",
        "     (data['credit default?'] =='no') & \n",
        "     (data['housing loan?'] =='yes') & \n",
        "     (data['Personal loan'] =='yes') & \n",
        "     (data['y'] =='yes') & \n",
        "     (data['job'].isnull()==True),'job']=\\\n",
        "data[(data['age']== 42) &  \n",
        "     (data['y'] =='yes') & \n",
        "     (data['job'].isnull()==False)\n",
        "    ]['job'].mode()[0]"
      ],
      "execution_count": 0,
      "outputs": []
    },
    {
      "cell_type": "markdown",
      "metadata": {
        "id": "u01h76-e3sTF",
        "colab_type": "text"
      },
      "source": [
        "Lets check the whether the values are imputed to the job"
      ]
    },
    {
      "cell_type": "code",
      "metadata": {
        "id": "6j4kJw2n33Jv",
        "colab_type": "code",
        "colab": {
          "base_uri": "https://localhost:8080/",
          "height": 49
        },
        "outputId": "1d637a20-5e89-45c0-eb5b-a04925c40f43"
      },
      "source": [
        "data[data['job'].isnull()]"
      ],
      "execution_count": 102,
      "outputs": [
        {
          "output_type": "execute_result",
          "data": {
            "text/html": [
              "<div>\n",
              "<style scoped>\n",
              "    .dataframe tbody tr th:only-of-type {\n",
              "        vertical-align: middle;\n",
              "    }\n",
              "\n",
              "    .dataframe tbody tr th {\n",
              "        vertical-align: top;\n",
              "    }\n",
              "\n",
              "    .dataframe thead th {\n",
              "        text-align: right;\n",
              "    }\n",
              "</style>\n",
              "<table border=\"1\" class=\"dataframe\">\n",
              "  <thead>\n",
              "    <tr style=\"text-align: right;\">\n",
              "      <th></th>\n",
              "      <th>age</th>\n",
              "      <th>job</th>\n",
              "      <th>marital status</th>\n",
              "      <th>education</th>\n",
              "      <th>credit default?</th>\n",
              "      <th>housing loan?</th>\n",
              "      <th>Personal loan</th>\n",
              "      <th>y</th>\n",
              "    </tr>\n",
              "  </thead>\n",
              "  <tbody>\n",
              "  </tbody>\n",
              "</table>\n",
              "</div>"
            ],
            "text/plain": [
              "Empty DataFrame\n",
              "Columns: [age, job, marital status, education, credit default?, housing loan?, Personal loan, y]\n",
              "Index: []"
            ]
          },
          "metadata": {
            "tags": []
          },
          "execution_count": 102
        }
      ]
    },
    {
      "cell_type": "code",
      "metadata": {
        "id": "1fCDHvIz3y5A",
        "colab_type": "code",
        "colab": {
          "base_uri": "https://localhost:8080/",
          "height": 259
        },
        "outputId": "880f59d1-60dd-4177-b964-95ca7a37ea6f"
      },
      "source": [
        "data.info()"
      ],
      "execution_count": 103,
      "outputs": [
        {
          "output_type": "stream",
          "text": [
            "<class 'pandas.core.frame.DataFrame'>\n",
            "RangeIndex: 1021 entries, 0 to 1020\n",
            "Data columns (total 8 columns):\n",
            "age                1021 non-null int64\n",
            "job                1021 non-null object\n",
            "marital status     1020 non-null object\n",
            "education          1020 non-null object\n",
            "credit default?    1020 non-null object\n",
            "housing loan?      1019 non-null object\n",
            "Personal loan      1019 non-null object\n",
            "y                  1021 non-null object\n",
            "dtypes: int64(1), object(7)\n",
            "memory usage: 63.9+ KB\n"
          ],
          "name": "stdout"
        }
      ]
    },
    {
      "cell_type": "markdown",
      "metadata": {
        "id": "BuOXFRaY37h8",
        "colab_type": "text"
      },
      "source": [
        "No empty values in job, so lets move on to the next attribute housing loan"
      ]
    },
    {
      "cell_type": "code",
      "metadata": {
        "id": "z1ZStjLl4S4y",
        "colab_type": "code",
        "colab": {
          "base_uri": "https://localhost:8080/",
          "height": 112
        },
        "outputId": "6678f43b-b358-4c48-ca3a-c6132e815dd1"
      },
      "source": [
        "data[data['housing loan?'].isnull()]"
      ],
      "execution_count": 104,
      "outputs": [
        {
          "output_type": "execute_result",
          "data": {
            "text/html": [
              "<div>\n",
              "<style scoped>\n",
              "    .dataframe tbody tr th:only-of-type {\n",
              "        vertical-align: middle;\n",
              "    }\n",
              "\n",
              "    .dataframe tbody tr th {\n",
              "        vertical-align: top;\n",
              "    }\n",
              "\n",
              "    .dataframe thead th {\n",
              "        text-align: right;\n",
              "    }\n",
              "</style>\n",
              "<table border=\"1\" class=\"dataframe\">\n",
              "  <thead>\n",
              "    <tr style=\"text-align: right;\">\n",
              "      <th></th>\n",
              "      <th>age</th>\n",
              "      <th>job</th>\n",
              "      <th>marital status</th>\n",
              "      <th>education</th>\n",
              "      <th>credit default?</th>\n",
              "      <th>housing loan?</th>\n",
              "      <th>Personal loan</th>\n",
              "      <th>y</th>\n",
              "    </tr>\n",
              "  </thead>\n",
              "  <tbody>\n",
              "    <tr>\n",
              "      <th>109</th>\n",
              "      <td>27</td>\n",
              "      <td>housemaid</td>\n",
              "      <td>married</td>\n",
              "      <td>primary</td>\n",
              "      <td>no</td>\n",
              "      <td>NaN</td>\n",
              "      <td>NaN</td>\n",
              "      <td>no</td>\n",
              "    </tr>\n",
              "    <tr>\n",
              "      <th>1016</th>\n",
              "      <td>33</td>\n",
              "      <td>services</td>\n",
              "      <td>married</td>\n",
              "      <td>secondary</td>\n",
              "      <td>no</td>\n",
              "      <td>NaN</td>\n",
              "      <td>no</td>\n",
              "      <td>no</td>\n",
              "    </tr>\n",
              "  </tbody>\n",
              "</table>\n",
              "</div>"
            ],
            "text/plain": [
              "      age        job marital status  ... housing loan? Personal loan   y\n",
              "109    27  housemaid        married  ...           NaN           NaN  no\n",
              "1016   33   services        married  ...           NaN            no  no\n",
              "\n",
              "[2 rows x 8 columns]"
            ]
          },
          "metadata": {
            "tags": []
          },
          "execution_count": 104
        }
      ]
    },
    {
      "cell_type": "markdown",
      "metadata": {
        "id": "boFVO61-4cDS",
        "colab_type": "text"
      },
      "source": [
        "as the first row has missing values in personal loan as well, so lets focus on the second row"
      ]
    },
    {
      "cell_type": "code",
      "metadata": {
        "id": "3J-2sTww4j_9",
        "colab_type": "code",
        "colab": {
          "base_uri": "https://localhost:8080/",
          "height": 81
        },
        "outputId": "7b1b6dcf-35d3-469a-d577-407890f07ab2"
      },
      "source": [
        "data[(data['age']==33) &\n",
        "    (data['job']=='services') &\n",
        "    (data['marital status']=='married') &\n",
        "    (data['education']=='secondary') &\n",
        "    (data['credit default?']=='no') &\n",
        "    (data['housing loan?'].isnull()==False) &\n",
        "    (data['Personal loan']=='no') &\n",
        "    (data['y']=='no')]"
      ],
      "execution_count": 107,
      "outputs": [
        {
          "output_type": "execute_result",
          "data": {
            "text/html": [
              "<div>\n",
              "<style scoped>\n",
              "    .dataframe tbody tr th:only-of-type {\n",
              "        vertical-align: middle;\n",
              "    }\n",
              "\n",
              "    .dataframe tbody tr th {\n",
              "        vertical-align: top;\n",
              "    }\n",
              "\n",
              "    .dataframe thead th {\n",
              "        text-align: right;\n",
              "    }\n",
              "</style>\n",
              "<table border=\"1\" class=\"dataframe\">\n",
              "  <thead>\n",
              "    <tr style=\"text-align: right;\">\n",
              "      <th></th>\n",
              "      <th>age</th>\n",
              "      <th>job</th>\n",
              "      <th>marital status</th>\n",
              "      <th>education</th>\n",
              "      <th>credit default?</th>\n",
              "      <th>housing loan?</th>\n",
              "      <th>Personal loan</th>\n",
              "      <th>y</th>\n",
              "    </tr>\n",
              "  </thead>\n",
              "  <tbody>\n",
              "    <tr>\n",
              "      <th>1007</th>\n",
              "      <td>33</td>\n",
              "      <td>services</td>\n",
              "      <td>married</td>\n",
              "      <td>secondary</td>\n",
              "      <td>no</td>\n",
              "      <td>yes</td>\n",
              "      <td>no</td>\n",
              "      <td>no</td>\n",
              "    </tr>\n",
              "  </tbody>\n",
              "</table>\n",
              "</div>"
            ],
            "text/plain": [
              "      age       job marital status  ... housing loan? Personal loan   y\n",
              "1007   33  services        married  ...           yes            no  no\n",
              "\n",
              "[1 rows x 8 columns]"
            ]
          },
          "metadata": {
            "tags": []
          },
          "execution_count": 107
        }
      ]
    },
    {
      "cell_type": "markdown",
      "metadata": {
        "id": "fbqvdzNJ5mi0",
        "colab_type": "text"
      },
      "source": [
        "lets impute the value based on the above result"
      ]
    },
    {
      "cell_type": "code",
      "metadata": {
        "id": "mCKkBq8l5qMU",
        "colab_type": "code",
        "colab": {
          "base_uri": "https://localhost:8080/",
          "height": 36
        },
        "outputId": "2a40aba7-3063-423b-cfc9-61f626c1b103"
      },
      "source": [
        "data[(data['age']==33) &\n",
        "    (data['job']=='services') &\n",
        "    (data['marital status']=='married') &\n",
        "    (data['education']=='secondary') &\n",
        "    (data['credit default?']=='no') &\n",
        "    (data['housing loan?'].isnull()==False) &\n",
        "    (data['Personal loan']=='no') &\n",
        "    (data['y']=='no')]['job'].mode()[0]"
      ],
      "execution_count": 106,
      "outputs": [
        {
          "output_type": "execute_result",
          "data": {
            "text/plain": [
              "'services'"
            ]
          },
          "metadata": {
            "tags": []
          },
          "execution_count": 106
        }
      ]
    },
    {
      "cell_type": "code",
      "metadata": {
        "id": "auW97jod55tw",
        "colab_type": "code",
        "colab": {}
      },
      "source": [
        "data.loc[(data['age']==33) &\n",
        "    (data['job']=='services') &\n",
        "    (data['marital status']=='married') &\n",
        "    (data['education']=='secondary') &\n",
        "    (data['credit default?']=='no') &\n",
        "    (data['housing loan?'].isnull()) &\n",
        "    (data['Personal loan']=='no') &\n",
        "    (data['y']=='no'),'housing loan?']=\\\n",
        "data[(data['age']==33) &\n",
        "    (data['job']=='services') &\n",
        "    (data['marital status']=='married') &\n",
        "    (data['education']=='secondary') &\n",
        "    (data['credit default?']=='no') &\n",
        "    (data['housing loan?'].isnull()==False) &\n",
        "    (data['Personal loan']=='no') &\n",
        "    (data['y']=='no')]['job'].mode()[0]"
      ],
      "execution_count": 0,
      "outputs": []
    },
    {
      "cell_type": "code",
      "metadata": {
        "id": "PsUmOPNQ6Pl2",
        "colab_type": "code",
        "colab": {
          "base_uri": "https://localhost:8080/",
          "height": 81
        },
        "outputId": "df273655-0a47-4f04-d288-28dc7dcd5580"
      },
      "source": [
        "data[data['housing loan?'].isnull()]"
      ],
      "execution_count": 109,
      "outputs": [
        {
          "output_type": "execute_result",
          "data": {
            "text/html": [
              "<div>\n",
              "<style scoped>\n",
              "    .dataframe tbody tr th:only-of-type {\n",
              "        vertical-align: middle;\n",
              "    }\n",
              "\n",
              "    .dataframe tbody tr th {\n",
              "        vertical-align: top;\n",
              "    }\n",
              "\n",
              "    .dataframe thead th {\n",
              "        text-align: right;\n",
              "    }\n",
              "</style>\n",
              "<table border=\"1\" class=\"dataframe\">\n",
              "  <thead>\n",
              "    <tr style=\"text-align: right;\">\n",
              "      <th></th>\n",
              "      <th>age</th>\n",
              "      <th>job</th>\n",
              "      <th>marital status</th>\n",
              "      <th>education</th>\n",
              "      <th>credit default?</th>\n",
              "      <th>housing loan?</th>\n",
              "      <th>Personal loan</th>\n",
              "      <th>y</th>\n",
              "    </tr>\n",
              "  </thead>\n",
              "  <tbody>\n",
              "    <tr>\n",
              "      <th>109</th>\n",
              "      <td>27</td>\n",
              "      <td>housemaid</td>\n",
              "      <td>married</td>\n",
              "      <td>primary</td>\n",
              "      <td>no</td>\n",
              "      <td>NaN</td>\n",
              "      <td>NaN</td>\n",
              "      <td>no</td>\n",
              "    </tr>\n",
              "  </tbody>\n",
              "</table>\n",
              "</div>"
            ],
            "text/plain": [
              "     age        job marital status  ... housing loan? Personal loan   y\n",
              "109   27  housemaid        married  ...           NaN           NaN  no\n",
              "\n",
              "[1 rows x 8 columns]"
            ]
          },
          "metadata": {
            "tags": []
          },
          "execution_count": 109
        }
      ]
    },
    {
      "cell_type": "code",
      "metadata": {
        "id": "djTkvsy96UdX",
        "colab_type": "code",
        "colab": {
          "base_uri": "https://localhost:8080/",
          "height": 49
        },
        "outputId": "42c2f6c4-8e66-4cfc-e1ce-9c9962b22bfe"
      },
      "source": [
        "data[(data['age']==27) &\n",
        "    (data['job']=='housemaid') &\n",
        "    (data['marital status']=='married') &\n",
        "    (data['education']=='primary') &\n",
        "    (data['credit default?']=='no') &\n",
        "    (data['housing loan?'].isnull()==False) &\n",
        "    (data['y']=='no')]"
      ],
      "execution_count": 112,
      "outputs": [
        {
          "output_type": "execute_result",
          "data": {
            "text/html": [
              "<div>\n",
              "<style scoped>\n",
              "    .dataframe tbody tr th:only-of-type {\n",
              "        vertical-align: middle;\n",
              "    }\n",
              "\n",
              "    .dataframe tbody tr th {\n",
              "        vertical-align: top;\n",
              "    }\n",
              "\n",
              "    .dataframe thead th {\n",
              "        text-align: right;\n",
              "    }\n",
              "</style>\n",
              "<table border=\"1\" class=\"dataframe\">\n",
              "  <thead>\n",
              "    <tr style=\"text-align: right;\">\n",
              "      <th></th>\n",
              "      <th>age</th>\n",
              "      <th>job</th>\n",
              "      <th>marital status</th>\n",
              "      <th>education</th>\n",
              "      <th>credit default?</th>\n",
              "      <th>housing loan?</th>\n",
              "      <th>Personal loan</th>\n",
              "      <th>y</th>\n",
              "    </tr>\n",
              "  </thead>\n",
              "  <tbody>\n",
              "  </tbody>\n",
              "</table>\n",
              "</div>"
            ],
            "text/plain": [
              "Empty DataFrame\n",
              "Columns: [age, job, marital status, education, credit default?, housing loan?, Personal loan, y]\n",
              "Index: []"
            ]
          },
          "metadata": {
            "tags": []
          },
          "execution_count": 112
        }
      ]
    },
    {
      "cell_type": "markdown",
      "metadata": {
        "id": "NKK3M0yK7Axc",
        "colab_type": "text"
      },
      "source": [
        "since we dont have data for matching attribute values , lets check in that age we have data"
      ]
    },
    {
      "cell_type": "code",
      "metadata": {
        "id": "ZmaqvSED7oK1",
        "colab_type": "code",
        "colab": {
          "base_uri": "https://localhost:8080/",
          "height": 206
        },
        "outputId": "beca83d3-2fb2-455f-a985-834090035f37"
      },
      "source": [
        "data[data['age']==27].head()"
      ],
      "execution_count": 122,
      "outputs": [
        {
          "output_type": "execute_result",
          "data": {
            "text/html": [
              "<div>\n",
              "<style scoped>\n",
              "    .dataframe tbody tr th:only-of-type {\n",
              "        vertical-align: middle;\n",
              "    }\n",
              "\n",
              "    .dataframe tbody tr th {\n",
              "        vertical-align: top;\n",
              "    }\n",
              "\n",
              "    .dataframe thead th {\n",
              "        text-align: right;\n",
              "    }\n",
              "</style>\n",
              "<table border=\"1\" class=\"dataframe\">\n",
              "  <thead>\n",
              "    <tr style=\"text-align: right;\">\n",
              "      <th></th>\n",
              "      <th>age</th>\n",
              "      <th>job</th>\n",
              "      <th>marital status</th>\n",
              "      <th>education</th>\n",
              "      <th>credit default?</th>\n",
              "      <th>housing loan?</th>\n",
              "      <th>Personal loan</th>\n",
              "      <th>y</th>\n",
              "    </tr>\n",
              "  </thead>\n",
              "  <tbody>\n",
              "    <tr>\n",
              "      <th>80</th>\n",
              "      <td>27</td>\n",
              "      <td>admin.</td>\n",
              "      <td>divorced</td>\n",
              "      <td>secondary</td>\n",
              "      <td>no</td>\n",
              "      <td>yes</td>\n",
              "      <td>no</td>\n",
              "      <td>yes</td>\n",
              "    </tr>\n",
              "    <tr>\n",
              "      <th>92</th>\n",
              "      <td>27</td>\n",
              "      <td>services</td>\n",
              "      <td>single</td>\n",
              "      <td>secondary</td>\n",
              "      <td>no</td>\n",
              "      <td>yes</td>\n",
              "      <td>no</td>\n",
              "      <td>yes</td>\n",
              "    </tr>\n",
              "    <tr>\n",
              "      <th>109</th>\n",
              "      <td>27</td>\n",
              "      <td>housemaid</td>\n",
              "      <td>married</td>\n",
              "      <td>primary</td>\n",
              "      <td>no</td>\n",
              "      <td>NaN</td>\n",
              "      <td>NaN</td>\n",
              "      <td>no</td>\n",
              "    </tr>\n",
              "    <tr>\n",
              "      <th>134</th>\n",
              "      <td>27</td>\n",
              "      <td>technician</td>\n",
              "      <td>single</td>\n",
              "      <td>secondary</td>\n",
              "      <td>no</td>\n",
              "      <td>yes</td>\n",
              "      <td>no</td>\n",
              "      <td>no</td>\n",
              "    </tr>\n",
              "    <tr>\n",
              "      <th>158</th>\n",
              "      <td>27</td>\n",
              "      <td>self-employed</td>\n",
              "      <td>single</td>\n",
              "      <td>secondary</td>\n",
              "      <td>no</td>\n",
              "      <td>no</td>\n",
              "      <td>no</td>\n",
              "      <td>no</td>\n",
              "    </tr>\n",
              "  </tbody>\n",
              "</table>\n",
              "</div>"
            ],
            "text/plain": [
              "     age            job marital status  ... housing loan? Personal loan    y\n",
              "80    27         admin.       divorced  ...           yes            no  yes\n",
              "92    27       services         single  ...           yes            no  yes\n",
              "109   27      housemaid        married  ...           NaN           NaN   no\n",
              "134   27     technician         single  ...           yes            no   no\n",
              "158   27  self-employed         single  ...            no            no   no\n",
              "\n",
              "[5 rows x 8 columns]"
            ]
          },
          "metadata": {
            "tags": []
          },
          "execution_count": 122
        }
      ]
    },
    {
      "cell_type": "markdown",
      "metadata": {
        "id": "_KU9qE2B7uiX",
        "colab_type": "text"
      },
      "source": [
        "as we have many samples, lets add another condition that do we have housemaid more than one that is apart the one which has missing value"
      ]
    },
    {
      "cell_type": "code",
      "metadata": {
        "id": "prkj1Imz8BGB",
        "colab_type": "code",
        "colab": {
          "base_uri": "https://localhost:8080/",
          "height": 49
        },
        "outputId": "e0e93271-6b47-4e10-abae-f5e431ffeb28"
      },
      "source": [
        "data[(data['age']==27) & (data['job']=='housemaid') & (data['housing loan?'].isnull()==False)]"
      ],
      "execution_count": 120,
      "outputs": [
        {
          "output_type": "execute_result",
          "data": {
            "text/html": [
              "<div>\n",
              "<style scoped>\n",
              "    .dataframe tbody tr th:only-of-type {\n",
              "        vertical-align: middle;\n",
              "    }\n",
              "\n",
              "    .dataframe tbody tr th {\n",
              "        vertical-align: top;\n",
              "    }\n",
              "\n",
              "    .dataframe thead th {\n",
              "        text-align: right;\n",
              "    }\n",
              "</style>\n",
              "<table border=\"1\" class=\"dataframe\">\n",
              "  <thead>\n",
              "    <tr style=\"text-align: right;\">\n",
              "      <th></th>\n",
              "      <th>age</th>\n",
              "      <th>job</th>\n",
              "      <th>marital status</th>\n",
              "      <th>education</th>\n",
              "      <th>credit default?</th>\n",
              "      <th>housing loan?</th>\n",
              "      <th>Personal loan</th>\n",
              "      <th>y</th>\n",
              "    </tr>\n",
              "  </thead>\n",
              "  <tbody>\n",
              "  </tbody>\n",
              "</table>\n",
              "</div>"
            ],
            "text/plain": [
              "Empty DataFrame\n",
              "Columns: [age, job, marital status, education, credit default?, housing loan?, Personal loan, y]\n",
              "Index: []"
            ]
          },
          "metadata": {
            "tags": []
          },
          "execution_count": 120
        }
      ]
    },
    {
      "cell_type": "markdown",
      "metadata": {
        "id": "WDKehq4m8N-0",
        "colab_type": "text"
      },
      "source": [
        "As the data is not available, lets put a range to the age as 25-30 "
      ]
    },
    {
      "cell_type": "code",
      "metadata": {
        "id": "5vvcMera8ZmW",
        "colab_type": "code",
        "colab": {
          "base_uri": "https://localhost:8080/",
          "height": 143
        },
        "outputId": "31e5b469-8563-47b8-82df-6beaa4c7e213"
      },
      "source": [
        "data[(data['age'] >= 25) & (data['age'] <= 30) & (data['job']=='housemaid') & (data['housing loan?'].isnull()==False)]"
      ],
      "execution_count": 123,
      "outputs": [
        {
          "output_type": "execute_result",
          "data": {
            "text/html": [
              "<div>\n",
              "<style scoped>\n",
              "    .dataframe tbody tr th:only-of-type {\n",
              "        vertical-align: middle;\n",
              "    }\n",
              "\n",
              "    .dataframe tbody tr th {\n",
              "        vertical-align: top;\n",
              "    }\n",
              "\n",
              "    .dataframe thead th {\n",
              "        text-align: right;\n",
              "    }\n",
              "</style>\n",
              "<table border=\"1\" class=\"dataframe\">\n",
              "  <thead>\n",
              "    <tr style=\"text-align: right;\">\n",
              "      <th></th>\n",
              "      <th>age</th>\n",
              "      <th>job</th>\n",
              "      <th>marital status</th>\n",
              "      <th>education</th>\n",
              "      <th>credit default?</th>\n",
              "      <th>housing loan?</th>\n",
              "      <th>Personal loan</th>\n",
              "      <th>y</th>\n",
              "    </tr>\n",
              "  </thead>\n",
              "  <tbody>\n",
              "    <tr>\n",
              "      <th>24</th>\n",
              "      <td>26</td>\n",
              "      <td>housemaid</td>\n",
              "      <td>married</td>\n",
              "      <td>tertiary</td>\n",
              "      <td>no</td>\n",
              "      <td>no</td>\n",
              "      <td>no</td>\n",
              "      <td>no</td>\n",
              "    </tr>\n",
              "    <tr>\n",
              "      <th>830</th>\n",
              "      <td>30</td>\n",
              "      <td>housemaid</td>\n",
              "      <td>single</td>\n",
              "      <td>tertiary</td>\n",
              "      <td>no</td>\n",
              "      <td>no</td>\n",
              "      <td>no</td>\n",
              "      <td>no</td>\n",
              "    </tr>\n",
              "    <tr>\n",
              "      <th>854</th>\n",
              "      <td>26</td>\n",
              "      <td>housemaid</td>\n",
              "      <td>married</td>\n",
              "      <td>secondary</td>\n",
              "      <td>no</td>\n",
              "      <td>yes</td>\n",
              "      <td>no</td>\n",
              "      <td>no</td>\n",
              "    </tr>\n",
              "  </tbody>\n",
              "</table>\n",
              "</div>"
            ],
            "text/plain": [
              "     age        job marital status  ... housing loan? Personal loan   y\n",
              "24    26  housemaid        married  ...            no            no  no\n",
              "830   30  housemaid         single  ...            no            no  no\n",
              "854   26  housemaid        married  ...           yes            no  no\n",
              "\n",
              "[3 rows x 8 columns]"
            ]
          },
          "metadata": {
            "tags": []
          },
          "execution_count": 123
        }
      ]
    },
    {
      "cell_type": "markdown",
      "metadata": {
        "id": "0EJYH1DVCT_k",
        "colab_type": "text"
      },
      "source": [
        "as the data is not giving clear idea to decide on the value, so lets try with other attributes"
      ]
    },
    {
      "cell_type": "code",
      "metadata": {
        "id": "0_MTIGxgCgnz",
        "colab_type": "code",
        "colab": {
          "base_uri": "https://localhost:8080/",
          "height": 175
        },
        "outputId": "6c057fad-a9fd-4c79-ed6f-6a3841c3ed03"
      },
      "source": [
        "data[(data['age'] >= 25) & (data['age'] <=30) &\n",
        "     (data['education']=='primary') & \n",
        "     (data['marital status']=='married') &\n",
        "     (data['credit default?']=='no') &\n",
        "     (data['y']=='no') &\n",
        "     (data['housing loan?'].isnull()==False)\n",
        "    ]"
      ],
      "execution_count": 129,
      "outputs": [
        {
          "output_type": "execute_result",
          "data": {
            "text/html": [
              "<div>\n",
              "<style scoped>\n",
              "    .dataframe tbody tr th:only-of-type {\n",
              "        vertical-align: middle;\n",
              "    }\n",
              "\n",
              "    .dataframe tbody tr th {\n",
              "        vertical-align: top;\n",
              "    }\n",
              "\n",
              "    .dataframe thead th {\n",
              "        text-align: right;\n",
              "    }\n",
              "</style>\n",
              "<table border=\"1\" class=\"dataframe\">\n",
              "  <thead>\n",
              "    <tr style=\"text-align: right;\">\n",
              "      <th></th>\n",
              "      <th>age</th>\n",
              "      <th>job</th>\n",
              "      <th>marital status</th>\n",
              "      <th>education</th>\n",
              "      <th>credit default?</th>\n",
              "      <th>housing loan?</th>\n",
              "      <th>Personal loan</th>\n",
              "      <th>y</th>\n",
              "    </tr>\n",
              "  </thead>\n",
              "  <tbody>\n",
              "    <tr>\n",
              "      <th>0</th>\n",
              "      <td>30</td>\n",
              "      <td>unemployed</td>\n",
              "      <td>married</td>\n",
              "      <td>primary</td>\n",
              "      <td>no</td>\n",
              "      <td>no</td>\n",
              "      <td>no</td>\n",
              "      <td>no</td>\n",
              "    </tr>\n",
              "    <tr>\n",
              "      <th>47</th>\n",
              "      <td>26</td>\n",
              "      <td>blue-collar</td>\n",
              "      <td>married</td>\n",
              "      <td>primary</td>\n",
              "      <td>no</td>\n",
              "      <td>yes</td>\n",
              "      <td>no</td>\n",
              "      <td>no</td>\n",
              "    </tr>\n",
              "    <tr>\n",
              "      <th>315</th>\n",
              "      <td>30</td>\n",
              "      <td>blue-collar</td>\n",
              "      <td>married</td>\n",
              "      <td>primary</td>\n",
              "      <td>no</td>\n",
              "      <td>yes</td>\n",
              "      <td>no</td>\n",
              "      <td>no</td>\n",
              "    </tr>\n",
              "    <tr>\n",
              "      <th>972</th>\n",
              "      <td>29</td>\n",
              "      <td>blue-collar</td>\n",
              "      <td>married</td>\n",
              "      <td>primary</td>\n",
              "      <td>no</td>\n",
              "      <td>yes</td>\n",
              "      <td>no</td>\n",
              "      <td>no</td>\n",
              "    </tr>\n",
              "  </tbody>\n",
              "</table>\n",
              "</div>"
            ],
            "text/plain": [
              "     age          job marital status  ... housing loan? Personal loan   y\n",
              "0     30   unemployed        married  ...            no            no  no\n",
              "47    26  blue-collar        married  ...           yes            no  no\n",
              "315   30  blue-collar        married  ...           yes            no  no\n",
              "972   29  blue-collar        married  ...           yes            no  no\n",
              "\n",
              "[4 rows x 8 columns]"
            ]
          },
          "metadata": {
            "tags": []
          },
          "execution_count": 129
        }
      ]
    },
    {
      "cell_type": "code",
      "metadata": {
        "id": "jLk-EHOuDXlS",
        "colab_type": "code",
        "colab": {
          "base_uri": "https://localhost:8080/",
          "height": 54
        },
        "outputId": "a63abcbd-26e4-491e-e0f3-b15c541fb679"
      },
      "source": [
        "data[(data['age'] >= 25) & (data['age'] <=30) &\n",
        "     (data['education']=='primary') & \n",
        "     (data['marital status']=='married') &\n",
        "     (data['credit default?']=='no') &\n",
        "     (data['y']=='no') &\n",
        "     (data['housing loan?'].isnull()==False)\n",
        "    ]['housing loan?'].mode()"
      ],
      "execution_count": 130,
      "outputs": [
        {
          "output_type": "execute_result",
          "data": {
            "text/plain": [
              "0    yes\n",
              "dtype: object"
            ]
          },
          "metadata": {
            "tags": []
          },
          "execution_count": 130
        }
      ]
    },
    {
      "cell_type": "markdown",
      "metadata": {
        "id": "kW_qukLjEIe4",
        "colab_type": "text"
      },
      "source": [
        "we got a value to impute, lets impute to the missing housing loan"
      ]
    },
    {
      "cell_type": "code",
      "metadata": {
        "id": "X5FC3CLTEPmw",
        "colab_type": "code",
        "colab": {}
      },
      "source": [
        "data.loc[(data['age']==27) &\n",
        "    (data['job']=='housemaid') &\n",
        "    (data['marital status']=='married') &\n",
        "    (data['education']=='primary') &\n",
        "    (data['credit default?']=='no') &\n",
        "    (data['housing loan?'].isnull()==True) &\n",
        "    (data['y']=='no'),'housing loan?']= \\\n",
        "data[(data['age'] >= 25) & (data['age'] <=30) &\n",
        "     (data['education']=='primary') & \n",
        "     (data['marital status']=='married') &\n",
        "     (data['credit default?']=='no') &\n",
        "     (data['y']=='no') &\n",
        "     (data['housing loan?'].isnull()==False)\n",
        "    ]['housing loan?'].mode()[0]"
      ],
      "execution_count": 0,
      "outputs": []
    },
    {
      "cell_type": "markdown",
      "metadata": {
        "id": "wrOrwfj7EgWh",
        "colab_type": "text"
      },
      "source": [
        "Lets analyse and impute the missing values for the remaining attributes"
      ]
    },
    {
      "cell_type": "code",
      "metadata": {
        "id": "qw_hi5PvEyw_",
        "colab_type": "code",
        "colab": {
          "base_uri": "https://localhost:8080/",
          "height": 259
        },
        "outputId": "92c8549c-c90d-4af6-c903-5b6aa368cfc5"
      },
      "source": [
        "data.info()"
      ],
      "execution_count": 134,
      "outputs": [
        {
          "output_type": "stream",
          "text": [
            "<class 'pandas.core.frame.DataFrame'>\n",
            "RangeIndex: 1021 entries, 0 to 1020\n",
            "Data columns (total 8 columns):\n",
            "age                1021 non-null int64\n",
            "job                1021 non-null object\n",
            "marital status     1020 non-null object\n",
            "education          1020 non-null object\n",
            "credit default?    1020 non-null object\n",
            "housing loan?      1021 non-null object\n",
            "Personal loan      1019 non-null object\n",
            "y                  1021 non-null object\n",
            "dtypes: int64(1), object(7)\n",
            "memory usage: 63.9+ KB\n"
          ],
          "name": "stdout"
        }
      ]
    },
    {
      "cell_type": "markdown",
      "metadata": {
        "id": "pY-Xgm6mE2HC",
        "colab_type": "text"
      },
      "source": [
        "now concentrate on the personal loan"
      ]
    },
    {
      "cell_type": "code",
      "metadata": {
        "id": "uiKwQl1rE4n7",
        "colab_type": "code",
        "colab": {
          "base_uri": "https://localhost:8080/",
          "height": 112
        },
        "outputId": "be723548-c1ae-428c-c25e-33ba05eeca0d"
      },
      "source": [
        "data[data['Personal loan'].isnull()]"
      ],
      "execution_count": 136,
      "outputs": [
        {
          "output_type": "execute_result",
          "data": {
            "text/html": [
              "<div>\n",
              "<style scoped>\n",
              "    .dataframe tbody tr th:only-of-type {\n",
              "        vertical-align: middle;\n",
              "    }\n",
              "\n",
              "    .dataframe tbody tr th {\n",
              "        vertical-align: top;\n",
              "    }\n",
              "\n",
              "    .dataframe thead th {\n",
              "        text-align: right;\n",
              "    }\n",
              "</style>\n",
              "<table border=\"1\" class=\"dataframe\">\n",
              "  <thead>\n",
              "    <tr style=\"text-align: right;\">\n",
              "      <th></th>\n",
              "      <th>age</th>\n",
              "      <th>job</th>\n",
              "      <th>marital status</th>\n",
              "      <th>education</th>\n",
              "      <th>credit default?</th>\n",
              "      <th>housing loan?</th>\n",
              "      <th>Personal loan</th>\n",
              "      <th>y</th>\n",
              "    </tr>\n",
              "  </thead>\n",
              "  <tbody>\n",
              "    <tr>\n",
              "      <th>109</th>\n",
              "      <td>27</td>\n",
              "      <td>housemaid</td>\n",
              "      <td>married</td>\n",
              "      <td>primary</td>\n",
              "      <td>no</td>\n",
              "      <td>yes</td>\n",
              "      <td>NaN</td>\n",
              "      <td>no</td>\n",
              "    </tr>\n",
              "    <tr>\n",
              "      <th>1000</th>\n",
              "      <td>38</td>\n",
              "      <td>admin.</td>\n",
              "      <td>married</td>\n",
              "      <td>secondary</td>\n",
              "      <td>no</td>\n",
              "      <td>yes</td>\n",
              "      <td>NaN</td>\n",
              "      <td>no</td>\n",
              "    </tr>\n",
              "  </tbody>\n",
              "</table>\n",
              "</div>"
            ],
            "text/plain": [
              "      age        job marital status  ... housing loan? Personal loan   y\n",
              "109    27  housemaid        married  ...           yes           NaN  no\n",
              "1000   38     admin.        married  ...           yes           NaN  no\n",
              "\n",
              "[2 rows x 8 columns]"
            ]
          },
          "metadata": {
            "tags": []
          },
          "execution_count": 136
        }
      ]
    },
    {
      "cell_type": "code",
      "metadata": {
        "id": "lHyvBJz_E-q-",
        "colab_type": "code",
        "colab": {
          "base_uri": "https://localhost:8080/",
          "height": 54
        },
        "outputId": "09f8f7a4-3871-4383-c2c1-dbe6258675fa"
      },
      "source": [
        "data[(data['age'] >= 25) & (data['age'] <= 30) &\n",
        "     (data['marital status'] == 'married') &\n",
        "     (data['education']=='primary')&\n",
        "     (data['credit default?']=='no') &\n",
        "     (data['housing loan?']=='yes') &\n",
        "     (data['y']=='no') &\n",
        "     (data['Personal loan'].isnull()==False)\n",
        "    ]['Personal loan'].mode()"
      ],
      "execution_count": 142,
      "outputs": [
        {
          "output_type": "execute_result",
          "data": {
            "text/plain": [
              "0    no\n",
              "dtype: object"
            ]
          },
          "metadata": {
            "tags": []
          },
          "execution_count": 142
        }
      ]
    },
    {
      "cell_type": "code",
      "metadata": {
        "id": "0N41V2AxGAGx",
        "colab_type": "code",
        "colab": {
          "base_uri": "https://localhost:8080/",
          "height": 81
        },
        "outputId": "12686438-eca1-4dc6-97fd-a280ff9907a9"
      },
      "source": [
        "data[(data['age'] >= 25) & (data['age'] <= 30) &\n",
        "     (data['marital status'] == 'married') &\n",
        "     (data['education']=='primary')&\n",
        "     (data['credit default?']=='no') &\n",
        "     (data['housing loan?']=='yes') &\n",
        "     (data['y']=='no') &\n",
        "     (data['Personal loan'].isnull())\n",
        "    ]"
      ],
      "execution_count": 144,
      "outputs": [
        {
          "output_type": "execute_result",
          "data": {
            "text/html": [
              "<div>\n",
              "<style scoped>\n",
              "    .dataframe tbody tr th:only-of-type {\n",
              "        vertical-align: middle;\n",
              "    }\n",
              "\n",
              "    .dataframe tbody tr th {\n",
              "        vertical-align: top;\n",
              "    }\n",
              "\n",
              "    .dataframe thead th {\n",
              "        text-align: right;\n",
              "    }\n",
              "</style>\n",
              "<table border=\"1\" class=\"dataframe\">\n",
              "  <thead>\n",
              "    <tr style=\"text-align: right;\">\n",
              "      <th></th>\n",
              "      <th>age</th>\n",
              "      <th>job</th>\n",
              "      <th>marital status</th>\n",
              "      <th>education</th>\n",
              "      <th>credit default?</th>\n",
              "      <th>housing loan?</th>\n",
              "      <th>Personal loan</th>\n",
              "      <th>y</th>\n",
              "    </tr>\n",
              "  </thead>\n",
              "  <tbody>\n",
              "    <tr>\n",
              "      <th>109</th>\n",
              "      <td>27</td>\n",
              "      <td>housemaid</td>\n",
              "      <td>married</td>\n",
              "      <td>primary</td>\n",
              "      <td>no</td>\n",
              "      <td>yes</td>\n",
              "      <td>NaN</td>\n",
              "      <td>no</td>\n",
              "    </tr>\n",
              "  </tbody>\n",
              "</table>\n",
              "</div>"
            ],
            "text/plain": [
              "     age        job marital status  ... housing loan? Personal loan   y\n",
              "109   27  housemaid        married  ...           yes           NaN  no\n",
              "\n",
              "[1 rows x 8 columns]"
            ]
          },
          "metadata": {
            "tags": []
          },
          "execution_count": 144
        }
      ]
    },
    {
      "cell_type": "code",
      "metadata": {
        "id": "T26JjbBSF35i",
        "colab_type": "code",
        "colab": {}
      },
      "source": [
        "data.loc[(data['age'] >= 25) & (data['age'] <= 30) &\n",
        "     (data['marital status'] == 'married') &\n",
        "     (data['education']=='primary')&\n",
        "     (data['credit default?']=='no') &\n",
        "     (data['housing loan?']=='yes') &\n",
        "     (data['y']=='no') &\n",
        "     (data['Personal loan'].isnull())\n",
        "    ] =\\\n",
        "data[(data['age'] >= 25) & (data['age'] <= 30) &\n",
        "     (data['marital status'] == 'married') &\n",
        "     (data['education']=='primary')&\n",
        "     (data['credit default?']=='no') &\n",
        "     (data['housing loan?']=='yes') &\n",
        "     (data['y']=='no') &\n",
        "     (data['Personal loan'].isnull()==False)\n",
        "    ]['Personal loan'].mode()[0]"
      ],
      "execution_count": 0,
      "outputs": []
    },
    {
      "cell_type": "code",
      "metadata": {
        "id": "vpUzCidYGMPq",
        "colab_type": "code",
        "colab": {
          "base_uri": "https://localhost:8080/",
          "height": 81
        },
        "outputId": "c1873ab4-d2df-41ea-d9fe-61148bd893d5"
      },
      "source": [
        "data[data['Personal loan'].isnull()]"
      ],
      "execution_count": 147,
      "outputs": [
        {
          "output_type": "execute_result",
          "data": {
            "text/html": [
              "<div>\n",
              "<style scoped>\n",
              "    .dataframe tbody tr th:only-of-type {\n",
              "        vertical-align: middle;\n",
              "    }\n",
              "\n",
              "    .dataframe tbody tr th {\n",
              "        vertical-align: top;\n",
              "    }\n",
              "\n",
              "    .dataframe thead th {\n",
              "        text-align: right;\n",
              "    }\n",
              "</style>\n",
              "<table border=\"1\" class=\"dataframe\">\n",
              "  <thead>\n",
              "    <tr style=\"text-align: right;\">\n",
              "      <th></th>\n",
              "      <th>age</th>\n",
              "      <th>job</th>\n",
              "      <th>marital status</th>\n",
              "      <th>education</th>\n",
              "      <th>credit default?</th>\n",
              "      <th>housing loan?</th>\n",
              "      <th>Personal loan</th>\n",
              "      <th>y</th>\n",
              "    </tr>\n",
              "  </thead>\n",
              "  <tbody>\n",
              "    <tr>\n",
              "      <th>1000</th>\n",
              "      <td>38</td>\n",
              "      <td>admin.</td>\n",
              "      <td>married</td>\n",
              "      <td>secondary</td>\n",
              "      <td>no</td>\n",
              "      <td>yes</td>\n",
              "      <td>NaN</td>\n",
              "      <td>no</td>\n",
              "    </tr>\n",
              "  </tbody>\n",
              "</table>\n",
              "</div>"
            ],
            "text/plain": [
              "     age     job marital status  ... housing loan? Personal loan   y\n",
              "1000  38  admin.        married  ...           yes           NaN  no\n",
              "\n",
              "[1 rows x 8 columns]"
            ]
          },
          "metadata": {
            "tags": []
          },
          "execution_count": 147
        }
      ]
    },
    {
      "cell_type": "markdown",
      "metadata": {
        "id": "VzjHOYMuGSnP",
        "colab_type": "text"
      },
      "source": [
        "As one of the value is imputed with the mode, lets look for the above remaining one"
      ]
    },
    {
      "cell_type": "code",
      "metadata": {
        "id": "M7Zj0G3HGb7g",
        "colab_type": "code",
        "colab": {
          "base_uri": "https://localhost:8080/",
          "height": 81
        },
        "outputId": "878ea463-0db5-428a-db1e-dcef110ecdd1"
      },
      "source": [
        "data[(data['age'] ==38)&\n",
        "     (data['job']=='admin.') &\n",
        "     (data['marital status'] == 'married') &\n",
        "     (data['education']=='secondary')&\n",
        "     (data['credit default?']=='no') &\n",
        "     (data['housing loan?']=='yes') &\n",
        "     (data['y']=='no') &\n",
        "     (data['Personal loan'].isnull()==False)\n",
        "    ]"
      ],
      "execution_count": 153,
      "outputs": [
        {
          "output_type": "execute_result",
          "data": {
            "text/html": [
              "<div>\n",
              "<style scoped>\n",
              "    .dataframe tbody tr th:only-of-type {\n",
              "        vertical-align: middle;\n",
              "    }\n",
              "\n",
              "    .dataframe tbody tr th {\n",
              "        vertical-align: top;\n",
              "    }\n",
              "\n",
              "    .dataframe thead th {\n",
              "        text-align: right;\n",
              "    }\n",
              "</style>\n",
              "<table border=\"1\" class=\"dataframe\">\n",
              "  <thead>\n",
              "    <tr style=\"text-align: right;\">\n",
              "      <th></th>\n",
              "      <th>age</th>\n",
              "      <th>job</th>\n",
              "      <th>marital status</th>\n",
              "      <th>education</th>\n",
              "      <th>credit default?</th>\n",
              "      <th>housing loan?</th>\n",
              "      <th>Personal loan</th>\n",
              "      <th>y</th>\n",
              "    </tr>\n",
              "  </thead>\n",
              "  <tbody>\n",
              "    <tr>\n",
              "      <th>88</th>\n",
              "      <td>38</td>\n",
              "      <td>admin.</td>\n",
              "      <td>married</td>\n",
              "      <td>secondary</td>\n",
              "      <td>no</td>\n",
              "      <td>yes</td>\n",
              "      <td>no</td>\n",
              "      <td>no</td>\n",
              "    </tr>\n",
              "  </tbody>\n",
              "</table>\n",
              "</div>"
            ],
            "text/plain": [
              "   age     job marital status  ... housing loan? Personal loan   y\n",
              "88  38  admin.        married  ...           yes            no  no\n",
              "\n",
              "[1 rows x 8 columns]"
            ]
          },
          "metadata": {
            "tags": []
          },
          "execution_count": 153
        }
      ]
    },
    {
      "cell_type": "markdown",
      "metadata": {
        "id": "B87X1aEoHHHE",
        "colab_type": "text"
      },
      "source": [
        "as we have data with similar values,now impute and remove the duplicates from overall data"
      ]
    },
    {
      "cell_type": "code",
      "metadata": {
        "id": "yQ9ZpkxaHU3u",
        "colab_type": "code",
        "colab": {}
      },
      "source": [
        "data.loc[(data['age'] ==38)&\n",
        "     (data['job']=='admin.') &\n",
        "     (data['marital status'] == 'married') &\n",
        "     (data['education']=='secondary')&\n",
        "     (data['credit default?']=='no') &\n",
        "     (data['housing loan?']=='yes') &\n",
        "     (data['y']=='no') &\n",
        "     (data['Personal loan'].isnull()==True)\n",
        "    ,'Personal loan'] = \\\n",
        "data[(data['age'] ==38)&\n",
        "     (data['job']=='admin.') &\n",
        "     (data['marital status'] == 'married') &\n",
        "     (data['education']=='secondary')&\n",
        "     (data['credit default?']=='no') &\n",
        "     (data['housing loan?']=='yes') &\n",
        "     (data['y']=='no') &\n",
        "     (data['Personal loan'].isnull()==False)\n",
        "    ]['Personal loan'].mode()[0]"
      ],
      "execution_count": 0,
      "outputs": []
    },
    {
      "cell_type": "code",
      "metadata": {
        "id": "ISXOdzoBHi40",
        "colab_type": "code",
        "colab": {
          "base_uri": "https://localhost:8080/",
          "height": 259
        },
        "outputId": "faaecd69-3980-45c0-de87-37fde5d41d37"
      },
      "source": [
        "data.info()"
      ],
      "execution_count": 158,
      "outputs": [
        {
          "output_type": "stream",
          "text": [
            "<class 'pandas.core.frame.DataFrame'>\n",
            "RangeIndex: 1021 entries, 0 to 1020\n",
            "Data columns (total 8 columns):\n",
            "age                1021 non-null object\n",
            "job                1021 non-null object\n",
            "marital status     1020 non-null object\n",
            "education          1020 non-null object\n",
            "credit default?    1020 non-null object\n",
            "housing loan?      1021 non-null object\n",
            "Personal loan      1021 non-null object\n",
            "y                  1021 non-null object\n",
            "dtypes: object(8)\n",
            "memory usage: 63.9+ KB\n"
          ],
          "name": "stdout"
        }
      ]
    },
    {
      "cell_type": "markdown",
      "metadata": {
        "id": "7Ag0J9JLHqXe",
        "colab_type": "text"
      },
      "source": [
        "As the two missing values are filled lets move our focus to the one missing values"
      ]
    },
    {
      "cell_type": "code",
      "metadata": {
        "id": "_gInQIAHHxUF",
        "colab_type": "code",
        "colab": {
          "base_uri": "https://localhost:8080/",
          "height": 81
        },
        "outputId": "5f60e45f-3b30-4c0c-b89e-24174337f3ab"
      },
      "source": [
        "data[data['marital status'].isnull()]"
      ],
      "execution_count": 159,
      "outputs": [
        {
          "output_type": "execute_result",
          "data": {
            "text/html": [
              "<div>\n",
              "<style scoped>\n",
              "    .dataframe tbody tr th:only-of-type {\n",
              "        vertical-align: middle;\n",
              "    }\n",
              "\n",
              "    .dataframe tbody tr th {\n",
              "        vertical-align: top;\n",
              "    }\n",
              "\n",
              "    .dataframe thead th {\n",
              "        text-align: right;\n",
              "    }\n",
              "</style>\n",
              "<table border=\"1\" class=\"dataframe\">\n",
              "  <thead>\n",
              "    <tr style=\"text-align: right;\">\n",
              "      <th></th>\n",
              "      <th>age</th>\n",
              "      <th>job</th>\n",
              "      <th>marital status</th>\n",
              "      <th>education</th>\n",
              "      <th>credit default?</th>\n",
              "      <th>housing loan?</th>\n",
              "      <th>Personal loan</th>\n",
              "      <th>y</th>\n",
              "    </tr>\n",
              "  </thead>\n",
              "  <tbody>\n",
              "    <tr>\n",
              "      <th>108</th>\n",
              "      <td>56</td>\n",
              "      <td>unemployed</td>\n",
              "      <td>NaN</td>\n",
              "      <td>primary</td>\n",
              "      <td>no</td>\n",
              "      <td>no</td>\n",
              "      <td>no</td>\n",
              "      <td>yes</td>\n",
              "    </tr>\n",
              "  </tbody>\n",
              "</table>\n",
              "</div>"
            ],
            "text/plain": [
              "    age         job marital status  ... housing loan? Personal loan    y\n",
              "108  56  unemployed            NaN  ...            no            no  yes\n",
              "\n",
              "[1 rows x 8 columns]"
            ]
          },
          "metadata": {
            "tags": []
          },
          "execution_count": 159
        }
      ]
    },
    {
      "cell_type": "code",
      "metadata": {
        "id": "ulCtDo65Inxe",
        "colab_type": "code",
        "colab": {
          "base_uri": "https://localhost:8080/",
          "height": 81
        },
        "outputId": "294e762b-5989-4aed-de2e-616a5db858ff"
      },
      "source": [
        "data[(data['age']==56) &\n",
        "     (data['job']=='unemployed') &\n",
        "     (data['y']=='yes')\n",
        "    ]"
      ],
      "execution_count": 167,
      "outputs": [
        {
          "output_type": "execute_result",
          "data": {
            "text/html": [
              "<div>\n",
              "<style scoped>\n",
              "    .dataframe tbody tr th:only-of-type {\n",
              "        vertical-align: middle;\n",
              "    }\n",
              "\n",
              "    .dataframe tbody tr th {\n",
              "        vertical-align: top;\n",
              "    }\n",
              "\n",
              "    .dataframe thead th {\n",
              "        text-align: right;\n",
              "    }\n",
              "</style>\n",
              "<table border=\"1\" class=\"dataframe\">\n",
              "  <thead>\n",
              "    <tr style=\"text-align: right;\">\n",
              "      <th></th>\n",
              "      <th>age</th>\n",
              "      <th>job</th>\n",
              "      <th>marital status</th>\n",
              "      <th>education</th>\n",
              "      <th>credit default?</th>\n",
              "      <th>housing loan?</th>\n",
              "      <th>Personal loan</th>\n",
              "      <th>y</th>\n",
              "    </tr>\n",
              "  </thead>\n",
              "  <tbody>\n",
              "    <tr>\n",
              "      <th>108</th>\n",
              "      <td>56</td>\n",
              "      <td>unemployed</td>\n",
              "      <td>NaN</td>\n",
              "      <td>primary</td>\n",
              "      <td>no</td>\n",
              "      <td>no</td>\n",
              "      <td>no</td>\n",
              "      <td>yes</td>\n",
              "    </tr>\n",
              "  </tbody>\n",
              "</table>\n",
              "</div>"
            ],
            "text/plain": [
              "    age         job marital status  ... housing loan? Personal loan    y\n",
              "108  56  unemployed            NaN  ...            no            no  yes\n",
              "\n",
              "[1 rows x 8 columns]"
            ]
          },
          "metadata": {
            "tags": []
          },
          "execution_count": 167
        }
      ]
    },
    {
      "cell_type": "code",
      "metadata": {
        "id": "ZERSuoEAH5Ho",
        "colab_type": "code",
        "colab": {
          "base_uri": "https://localhost:8080/",
          "height": 112
        },
        "outputId": "bc5579cd-351a-4f42-b1da-b6720b488621"
      },
      "source": [
        "data[(data['age']==56) &\n",
        "     (data['y']=='yes')\n",
        "    ]"
      ],
      "execution_count": 162,
      "outputs": [
        {
          "output_type": "execute_result",
          "data": {
            "text/html": [
              "<div>\n",
              "<style scoped>\n",
              "    .dataframe tbody tr th:only-of-type {\n",
              "        vertical-align: middle;\n",
              "    }\n",
              "\n",
              "    .dataframe tbody tr th {\n",
              "        vertical-align: top;\n",
              "    }\n",
              "\n",
              "    .dataframe thead th {\n",
              "        text-align: right;\n",
              "    }\n",
              "</style>\n",
              "<table border=\"1\" class=\"dataframe\">\n",
              "  <thead>\n",
              "    <tr style=\"text-align: right;\">\n",
              "      <th></th>\n",
              "      <th>age</th>\n",
              "      <th>job</th>\n",
              "      <th>marital status</th>\n",
              "      <th>education</th>\n",
              "      <th>credit default?</th>\n",
              "      <th>housing loan?</th>\n",
              "      <th>Personal loan</th>\n",
              "      <th>y</th>\n",
              "    </tr>\n",
              "  </thead>\n",
              "  <tbody>\n",
              "    <tr>\n",
              "      <th>108</th>\n",
              "      <td>56</td>\n",
              "      <td>unemployed</td>\n",
              "      <td>NaN</td>\n",
              "      <td>primary</td>\n",
              "      <td>no</td>\n",
              "      <td>no</td>\n",
              "      <td>no</td>\n",
              "      <td>yes</td>\n",
              "    </tr>\n",
              "    <tr>\n",
              "      <th>189</th>\n",
              "      <td>56</td>\n",
              "      <td>retired</td>\n",
              "      <td>married</td>\n",
              "      <td>secondary</td>\n",
              "      <td>no</td>\n",
              "      <td>yes</td>\n",
              "      <td>no</td>\n",
              "      <td>yes</td>\n",
              "    </tr>\n",
              "  </tbody>\n",
              "</table>\n",
              "</div>"
            ],
            "text/plain": [
              "    age         job marital status  ... housing loan? Personal loan    y\n",
              "108  56  unemployed            NaN  ...            no            no  yes\n",
              "189  56     retired        married  ...           yes            no  yes\n",
              "\n",
              "[2 rows x 8 columns]"
            ]
          },
          "metadata": {
            "tags": []
          },
          "execution_count": 162
        }
      ]
    },
    {
      "cell_type": "code",
      "metadata": {
        "id": "HohBZgunHo9w",
        "colab_type": "code",
        "colab": {
          "base_uri": "https://localhost:8080/",
          "height": 110
        },
        "outputId": "49d4400f-b04e-4fd9-db01-f53d9ed117a7"
      },
      "source": [
        "data['marital status'].value_counts()"
      ],
      "execution_count": 163,
      "outputs": [
        {
          "output_type": "execute_result",
          "data": {
            "text/plain": [
              "married     616\n",
              "single      281\n",
              "divorced    122\n",
              "no            1\n",
              "Name: marital status, dtype: int64"
            ]
          },
          "metadata": {
            "tags": []
          },
          "execution_count": 163
        }
      ]
    },
    {
      "cell_type": "code",
      "metadata": {
        "id": "RvyGfmfLHSw9",
        "colab_type": "code",
        "colab": {}
      },
      "source": [
        ""
      ],
      "execution_count": 0,
      "outputs": []
    },
    {
      "cell_type": "code",
      "metadata": {
        "id": "pUVgq3rJEz0e",
        "colab_type": "code",
        "colab": {}
      },
      "source": [
        ""
      ],
      "execution_count": 0,
      "outputs": []
    },
    {
      "cell_type": "code",
      "metadata": {
        "id": "urgGCcOHEdPt",
        "colab_type": "code",
        "colab": {}
      },
      "source": [
        ""
      ],
      "execution_count": 0,
      "outputs": []
    },
    {
      "cell_type": "code",
      "metadata": {
        "id": "SsUU81NaEZla",
        "colab_type": "code",
        "colab": {}
      },
      "source": [
        ""
      ],
      "execution_count": 0,
      "outputs": []
    },
    {
      "cell_type": "code",
      "metadata": {
        "id": "j9F5Px0aEUIU",
        "colab_type": "code",
        "colab": {}
      },
      "source": [
        ""
      ],
      "execution_count": 0,
      "outputs": []
    },
    {
      "cell_type": "code",
      "metadata": {
        "id": "nGsammqYEGTJ",
        "colab_type": "code",
        "colab": {}
      },
      "source": [
        ""
      ],
      "execution_count": 0,
      "outputs": []
    },
    {
      "cell_type": "code",
      "metadata": {
        "id": "NWcC_1xlClqc",
        "colab_type": "code",
        "colab": {}
      },
      "source": [
        ""
      ],
      "execution_count": 0,
      "outputs": []
    },
    {
      "cell_type": "code",
      "metadata": {
        "id": "aZjSdJRP9eLx",
        "colab_type": "code",
        "colab": {}
      },
      "source": [
        ""
      ],
      "execution_count": 0,
      "outputs": []
    },
    {
      "cell_type": "code",
      "metadata": {
        "id": "ZFUWAC7189Gx",
        "colab_type": "code",
        "colab": {}
      },
      "source": [
        ""
      ],
      "execution_count": 0,
      "outputs": []
    },
    {
      "cell_type": "code",
      "metadata": {
        "id": "fQ3scU8e8icK",
        "colab_type": "code",
        "colab": {}
      },
      "source": [
        ""
      ],
      "execution_count": 0,
      "outputs": []
    },
    {
      "cell_type": "code",
      "metadata": {
        "id": "gBpwOrTV8MLW",
        "colab_type": "code",
        "colab": {}
      },
      "source": [
        ""
      ],
      "execution_count": 0,
      "outputs": []
    },
    {
      "cell_type": "code",
      "metadata": {
        "id": "kGu4CK-O7qlJ",
        "colab_type": "code",
        "colab": {}
      },
      "source": [
        ""
      ],
      "execution_count": 0,
      "outputs": []
    },
    {
      "cell_type": "code",
      "metadata": {
        "id": "UDrBsWzm65Pj",
        "colab_type": "code",
        "colab": {}
      },
      "source": [
        ""
      ],
      "execution_count": 0,
      "outputs": []
    },
    {
      "cell_type": "code",
      "metadata": {
        "id": "NHebuSek62e6",
        "colab_type": "code",
        "colab": {}
      },
      "source": [
        ""
      ],
      "execution_count": 0,
      "outputs": []
    },
    {
      "cell_type": "code",
      "metadata": {
        "id": "FRdzywao5VMh",
        "colab_type": "code",
        "colab": {}
      },
      "source": [
        ""
      ],
      "execution_count": 0,
      "outputs": []
    },
    {
      "cell_type": "code",
      "metadata": {
        "id": "ekwaNHFc4XmL",
        "colab_type": "code",
        "colab": {}
      },
      "source": [
        ""
      ],
      "execution_count": 0,
      "outputs": []
    },
    {
      "cell_type": "code",
      "metadata": {
        "id": "vDYom88g4OMm",
        "colab_type": "code",
        "colab": {}
      },
      "source": [
        ""
      ],
      "execution_count": 0,
      "outputs": []
    },
    {
      "cell_type": "code",
      "metadata": {
        "id": "2uKZK3vU36bg",
        "colab_type": "code",
        "colab": {}
      },
      "source": [
        ""
      ],
      "execution_count": 0,
      "outputs": []
    },
    {
      "cell_type": "code",
      "metadata": {
        "id": "8wERIWYm3qNN",
        "colab_type": "code",
        "colab": {}
      },
      "source": [
        ""
      ],
      "execution_count": 0,
      "outputs": []
    },
    {
      "cell_type": "code",
      "metadata": {
        "id": "zk6bUPrs3UDK",
        "colab_type": "code",
        "colab": {}
      },
      "source": [
        ""
      ],
      "execution_count": 0,
      "outputs": []
    },
    {
      "cell_type": "code",
      "metadata": {
        "id": "HLvEtRAw3R8q",
        "colab_type": "code",
        "colab": {}
      },
      "source": [
        ""
      ],
      "execution_count": 0,
      "outputs": []
    },
    {
      "cell_type": "code",
      "metadata": {
        "id": "WWjEP6Gn3Idd",
        "colab_type": "code",
        "colab": {}
      },
      "source": [
        ""
      ],
      "execution_count": 0,
      "outputs": []
    },
    {
      "cell_type": "code",
      "metadata": {
        "id": "7wFt7z302993",
        "colab_type": "code",
        "colab": {}
      },
      "source": [
        ""
      ],
      "execution_count": 0,
      "outputs": []
    },
    {
      "cell_type": "code",
      "metadata": {
        "id": "8j5EV0Fn21sH",
        "colab_type": "code",
        "colab": {}
      },
      "source": [
        ""
      ],
      "execution_count": 0,
      "outputs": []
    },
    {
      "cell_type": "code",
      "metadata": {
        "id": "a9oRgTV32xFR",
        "colab_type": "code",
        "colab": {}
      },
      "source": [
        ""
      ],
      "execution_count": 0,
      "outputs": []
    },
    {
      "cell_type": "code",
      "metadata": {
        "id": "8CF-uYXk16Hr",
        "colab_type": "code",
        "colab": {}
      },
      "source": [
        ""
      ],
      "execution_count": 0,
      "outputs": []
    },
    {
      "cell_type": "code",
      "metadata": {
        "id": "R3tICHbf1wDH",
        "colab_type": "code",
        "colab": {}
      },
      "source": [
        ""
      ],
      "execution_count": 0,
      "outputs": []
    },
    {
      "cell_type": "code",
      "metadata": {
        "id": "78sy2Bz5y9s5",
        "colab_type": "code",
        "colab": {}
      },
      "source": [
        ""
      ],
      "execution_count": 0,
      "outputs": []
    },
    {
      "cell_type": "code",
      "metadata": {
        "id": "Tgp7zlKWy1_q",
        "colab_type": "code",
        "colab": {}
      },
      "source": [
        ""
      ],
      "execution_count": 0,
      "outputs": []
    },
    {
      "cell_type": "code",
      "metadata": {
        "id": "N-mTN_bwxz0L",
        "colab_type": "code",
        "colab": {}
      },
      "source": [
        ""
      ],
      "execution_count": 0,
      "outputs": []
    },
    {
      "cell_type": "code",
      "metadata": {
        "id": "JAGgoYJLxNQv",
        "colab_type": "code",
        "colab": {}
      },
      "source": [
        ""
      ],
      "execution_count": 0,
      "outputs": []
    },
    {
      "cell_type": "code",
      "metadata": {
        "id": "b9V9T71RxBg8",
        "colab_type": "code",
        "colab": {}
      },
      "source": [
        ""
      ],
      "execution_count": 0,
      "outputs": []
    },
    {
      "cell_type": "code",
      "metadata": {
        "id": "qJfPCG_dw8qo",
        "colab_type": "code",
        "colab": {}
      },
      "source": [
        ""
      ],
      "execution_count": 0,
      "outputs": []
    },
    {
      "cell_type": "code",
      "metadata": {
        "id": "_5vCkBy5w6B8",
        "colab_type": "code",
        "colab": {}
      },
      "source": [
        ""
      ],
      "execution_count": 0,
      "outputs": []
    },
    {
      "cell_type": "code",
      "metadata": {
        "id": "LdSK3eN0dGc5",
        "colab_type": "code",
        "colab": {}
      },
      "source": [
        ""
      ],
      "execution_count": 0,
      "outputs": []
    },
    {
      "cell_type": "code",
      "metadata": {
        "id": "1Mn8EZbWc47f",
        "colab_type": "code",
        "colab": {}
      },
      "source": [
        ""
      ],
      "execution_count": 0,
      "outputs": []
    },
    {
      "cell_type": "code",
      "metadata": {
        "id": "2EN3igCJb7hG",
        "colab_type": "code",
        "colab": {}
      },
      "source": [
        ""
      ],
      "execution_count": 0,
      "outputs": []
    },
    {
      "cell_type": "code",
      "metadata": {
        "id": "0lO7hz_pbykH",
        "colab_type": "code",
        "colab": {}
      },
      "source": [
        ""
      ],
      "execution_count": 0,
      "outputs": []
    },
    {
      "cell_type": "code",
      "metadata": {
        "id": "WGcvc2qQbjjt",
        "colab_type": "code",
        "colab": {}
      },
      "source": [
        ""
      ],
      "execution_count": 0,
      "outputs": []
    },
    {
      "cell_type": "code",
      "metadata": {
        "id": "iHoIvmhuaSVp",
        "colab_type": "code",
        "colab": {}
      },
      "source": [
        ""
      ],
      "execution_count": 0,
      "outputs": []
    },
    {
      "cell_type": "code",
      "metadata": {
        "id": "6b5amquAaLnW",
        "colab_type": "code",
        "colab": {}
      },
      "source": [
        ""
      ],
      "execution_count": 0,
      "outputs": []
    },
    {
      "cell_type": "code",
      "metadata": {
        "id": "_q0nBmolZMnO",
        "colab_type": "code",
        "colab": {}
      },
      "source": [
        ""
      ],
      "execution_count": 0,
      "outputs": []
    },
    {
      "cell_type": "code",
      "metadata": {
        "id": "nUTgyu2ZVZee",
        "colab_type": "code",
        "colab": {}
      },
      "source": [
        ""
      ],
      "execution_count": 0,
      "outputs": []
    }
  ]
}