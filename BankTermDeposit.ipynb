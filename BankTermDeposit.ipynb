{
  "nbformat": 4,
  "nbformat_minor": 0,
  "metadata": {
    "colab": {
      "name": "BankTermDeposit.ipynb",
      "version": "0.3.2",
      "provenance": [],
      "collapsed_sections": [],
      "include_colab_link": true
    },
    "kernelspec": {
      "name": "python3",
      "display_name": "Python 3"
    },
    "accelerator": "TPU"
  },
  "cells": [
    {
      "cell_type": "markdown",
      "metadata": {
        "id": "view-in-github",
        "colab_type": "text"
      },
      "source": [
        "<a href=\"https://colab.research.google.com/github/lokeshkumarn/Notebooks/blob/master/BankTermDeposit.ipynb\" target=\"_parent\"><img src=\"https://colab.research.google.com/assets/colab-badge.svg\" alt=\"Open In Colab\"/></a>"
      ]
    },
    {
      "cell_type": "code",
      "metadata": {
        "id": "C2Hi_ENnSCOn",
        "colab_type": "code",
        "colab": {}
      },
      "source": [
        "import os\n",
        "import numpy as np\n",
        "import pandas as pd\n",
        "\n",
        "#Visualizations\n",
        "import matplotlib as mpl\n",
        "from matplotlib import pyplot as plt\n",
        "import seaborn as sns\n",
        "\n",
        "#Modeling\n",
        "import sklearn"
      ],
      "execution_count": 0,
      "outputs": []
    },
    {
      "cell_type": "markdown",
      "metadata": {
        "id": "F1mCC49eVB4f",
        "colab_type": "text"
      },
      "source": [
        "Load the Data"
      ]
    },
    {
      "cell_type": "code",
      "metadata": {
        "id": "NbJtHWlkU-6F",
        "colab_type": "code",
        "colab": {}
      },
      "source": [
        "data = pd.read_excel('Bank Data for case study assignment.xlsx')"
      ],
      "execution_count": 0,
      "outputs": []
    },
    {
      "cell_type": "code",
      "metadata": {
        "id": "u_BJuB-IVM93",
        "colab_type": "code",
        "outputId": "7f745792-6711-4372-aef5-4409cec74935",
        "colab": {
          "base_uri": "https://localhost:8080/",
          "height": 197
        }
      },
      "source": [
        "data.head()"
      ],
      "execution_count": 3,
      "outputs": [
        {
          "output_type": "execute_result",
          "data": {
            "text/html": [
              "<div>\n",
              "<style scoped>\n",
              "    .dataframe tbody tr th:only-of-type {\n",
              "        vertical-align: middle;\n",
              "    }\n",
              "\n",
              "    .dataframe tbody tr th {\n",
              "        vertical-align: top;\n",
              "    }\n",
              "\n",
              "    .dataframe thead th {\n",
              "        text-align: right;\n",
              "    }\n",
              "</style>\n",
              "<table border=\"1\" class=\"dataframe\">\n",
              "  <thead>\n",
              "    <tr style=\"text-align: right;\">\n",
              "      <th></th>\n",
              "      <th>age</th>\n",
              "      <th>job</th>\n",
              "      <th>marital status</th>\n",
              "      <th>education</th>\n",
              "      <th>credit default?</th>\n",
              "      <th>housing loan?</th>\n",
              "      <th>Personal loan</th>\n",
              "      <th>y</th>\n",
              "    </tr>\n",
              "  </thead>\n",
              "  <tbody>\n",
              "    <tr>\n",
              "      <th>0</th>\n",
              "      <td>30</td>\n",
              "      <td>unemployed</td>\n",
              "      <td>married</td>\n",
              "      <td>primary</td>\n",
              "      <td>no</td>\n",
              "      <td>no</td>\n",
              "      <td>no</td>\n",
              "      <td>no</td>\n",
              "    </tr>\n",
              "    <tr>\n",
              "      <th>1</th>\n",
              "      <td>33</td>\n",
              "      <td>services</td>\n",
              "      <td>married</td>\n",
              "      <td>secondary</td>\n",
              "      <td>no</td>\n",
              "      <td>yes</td>\n",
              "      <td>yes</td>\n",
              "      <td>no</td>\n",
              "    </tr>\n",
              "    <tr>\n",
              "      <th>2</th>\n",
              "      <td>35</td>\n",
              "      <td>management</td>\n",
              "      <td>single</td>\n",
              "      <td>tertiary</td>\n",
              "      <td>no</td>\n",
              "      <td>yes</td>\n",
              "      <td>no</td>\n",
              "      <td>no</td>\n",
              "    </tr>\n",
              "    <tr>\n",
              "      <th>3</th>\n",
              "      <td>30</td>\n",
              "      <td>management</td>\n",
              "      <td>married</td>\n",
              "      <td>tertiary</td>\n",
              "      <td>no</td>\n",
              "      <td>yes</td>\n",
              "      <td>yes</td>\n",
              "      <td>no</td>\n",
              "    </tr>\n",
              "    <tr>\n",
              "      <th>4</th>\n",
              "      <td>59</td>\n",
              "      <td>blue-collar</td>\n",
              "      <td>married</td>\n",
              "      <td>secondary</td>\n",
              "      <td>no</td>\n",
              "      <td>yes</td>\n",
              "      <td>no</td>\n",
              "      <td>no</td>\n",
              "    </tr>\n",
              "  </tbody>\n",
              "</table>\n",
              "</div>"
            ],
            "text/plain": [
              "   age          job marital status   ... housing loan? Personal loan   y\n",
              "0   30   unemployed         married  ...            no            no  no\n",
              "1   33     services         married  ...           yes           yes  no\n",
              "2   35   management          single  ...           yes            no  no\n",
              "3   30   management         married  ...           yes           yes  no\n",
              "4   59  blue-collar         married  ...           yes            no  no\n",
              "\n",
              "[5 rows x 8 columns]"
            ]
          },
          "metadata": {
            "tags": []
          },
          "execution_count": 3
        }
      ]
    },
    {
      "cell_type": "markdown",
      "metadata": {
        "id": "ailcQI3TYJQ7",
        "colab_type": "text"
      },
      "source": [
        "Exploratory Data Analysis and Statistical Analysis"
      ]
    },
    {
      "cell_type": "code",
      "metadata": {
        "id": "ZuvbayEOanKS",
        "colab_type": "code",
        "outputId": "d5704633-5649-430b-c981-448430f55060",
        "colab": {
          "base_uri": "https://localhost:8080/",
          "height": 69
        }
      },
      "source": [
        "data.columns"
      ],
      "execution_count": 4,
      "outputs": [
        {
          "output_type": "execute_result",
          "data": {
            "text/plain": [
              "Index(['age', 'job', 'marital status ', 'education', 'credit default?',\n",
              "       'housing loan?', 'Personal loan', 'y'],\n",
              "      dtype='object')"
            ]
          },
          "metadata": {
            "tags": []
          },
          "execution_count": 4
        }
      ]
    },
    {
      "cell_type": "markdown",
      "metadata": {
        "id": "_Xi-0CQ-azjv",
        "colab_type": "text"
      },
      "source": [
        "Column Marital Status is having extra space in the end, just rename it without space in the end"
      ]
    },
    {
      "cell_type": "code",
      "metadata": {
        "id": "aroM5xV8a82z",
        "colab_type": "code",
        "colab": {}
      },
      "source": [
        "data.rename(columns={'marital status ':'marital status',\n",
        "                     'credit default?':'credit default',\n",
        "                     'housing loan?':'housing loan',\n",
        "                     'Personal loan':'personal loan'\n",
        "                    },inplace=True)"
      ],
      "execution_count": 0,
      "outputs": []
    },
    {
      "cell_type": "code",
      "metadata": {
        "id": "JMofyp3OVOH2",
        "colab_type": "code",
        "outputId": "f38303f1-38e7-4a1b-8c3f-38aca89fb5fb",
        "colab": {
          "base_uri": "https://localhost:8080/",
          "height": 244
        }
      },
      "source": [
        "data.info()"
      ],
      "execution_count": 6,
      "outputs": [
        {
          "output_type": "stream",
          "text": [
            "<class 'pandas.core.frame.DataFrame'>\n",
            "RangeIndex: 1021 entries, 0 to 1020\n",
            "Data columns (total 8 columns):\n",
            "age               1021 non-null int64\n",
            "job               1019 non-null object\n",
            "marital status    1020 non-null object\n",
            "education         1020 non-null object\n",
            "credit default    1020 non-null object\n",
            "housing loan      1019 non-null object\n",
            "personal loan     1019 non-null object\n",
            "y                 1021 non-null object\n",
            "dtypes: int64(1), object(7)\n",
            "memory usage: 63.9+ KB\n"
          ],
          "name": "stdout"
        }
      ]
    },
    {
      "cell_type": "markdown",
      "metadata": {
        "id": "SstfMzTCYW_x",
        "colab_type": "text"
      },
      "source": [
        "Total 1021 records in that Marital Status, Education, Credit Default having 1 missing data and Job,Housing Loan, personal loan has two missing data"
      ]
    },
    {
      "cell_type": "markdown",
      "metadata": {
        "id": "qaEiEJ9EZ4dc",
        "colab_type": "text"
      },
      "source": [
        "First fill the missing  value for the job"
      ]
    },
    {
      "cell_type": "code",
      "metadata": {
        "id": "RtFxSOStYuJJ",
        "colab_type": "code",
        "outputId": "54d2360c-a13d-414a-b212-4e49f51a6028",
        "colab": {
          "base_uri": "https://localhost:8080/",
          "height": 107
        }
      },
      "source": [
        "data[data['job'].isnull()]"
      ],
      "execution_count": 7,
      "outputs": [
        {
          "output_type": "execute_result",
          "data": {
            "text/html": [
              "<div>\n",
              "<style scoped>\n",
              "    .dataframe tbody tr th:only-of-type {\n",
              "        vertical-align: middle;\n",
              "    }\n",
              "\n",
              "    .dataframe tbody tr th {\n",
              "        vertical-align: top;\n",
              "    }\n",
              "\n",
              "    .dataframe thead th {\n",
              "        text-align: right;\n",
              "    }\n",
              "</style>\n",
              "<table border=\"1\" class=\"dataframe\">\n",
              "  <thead>\n",
              "    <tr style=\"text-align: right;\">\n",
              "      <th></th>\n",
              "      <th>age</th>\n",
              "      <th>job</th>\n",
              "      <th>marital status</th>\n",
              "      <th>education</th>\n",
              "      <th>credit default</th>\n",
              "      <th>housing loan</th>\n",
              "      <th>personal loan</th>\n",
              "      <th>y</th>\n",
              "    </tr>\n",
              "  </thead>\n",
              "  <tbody>\n",
              "    <tr>\n",
              "      <th>79</th>\n",
              "      <td>40</td>\n",
              "      <td>NaN</td>\n",
              "      <td>married</td>\n",
              "      <td>secondary</td>\n",
              "      <td>no</td>\n",
              "      <td>yes</td>\n",
              "      <td>no</td>\n",
              "      <td>no</td>\n",
              "    </tr>\n",
              "    <tr>\n",
              "      <th>1004</th>\n",
              "      <td>42</td>\n",
              "      <td>NaN</td>\n",
              "      <td>single</td>\n",
              "      <td>secondary</td>\n",
              "      <td>no</td>\n",
              "      <td>yes</td>\n",
              "      <td>yes</td>\n",
              "      <td>yes</td>\n",
              "    </tr>\n",
              "  </tbody>\n",
              "</table>\n",
              "</div>"
            ],
            "text/plain": [
              "      age  job marital status  ... housing loan personal loan    y\n",
              "79     40  NaN        married  ...          yes            no   no\n",
              "1004   42  NaN         single  ...          yes           yes  yes\n",
              "\n",
              "[2 rows x 8 columns]"
            ]
          },
          "metadata": {
            "tags": []
          },
          "execution_count": 7
        }
      ]
    },
    {
      "cell_type": "markdown",
      "metadata": {
        "id": "IL1guWCbgVy5",
        "colab_type": "text"
      },
      "source": [
        "Taking the first record from above and looking for data whose attribute values are similar to that of the missing value and decide how to replace the missing value"
      ]
    },
    {
      "cell_type": "code",
      "metadata": {
        "id": "iiSw-4YSZ01E",
        "colab_type": "code",
        "outputId": "c5203c83-0ada-4595-bf7d-a023694148f4",
        "colab": {
          "base_uri": "https://localhost:8080/",
          "height": 287
        }
      },
      "source": [
        "data[(data['age']== 40) & \n",
        "     (data['marital status'] =='married') & \n",
        "     (data['education'] =='secondary') & \n",
        "     (data['credit default'] =='no') & \n",
        "     (data['housing loan'] =='yes') & \n",
        "     (data['personal loan'] =='no') & \n",
        "     (data['y'] =='no') & \n",
        "     (data['job'].isnull()==False)]"
      ],
      "execution_count": 8,
      "outputs": [
        {
          "output_type": "execute_result",
          "data": {
            "text/html": [
              "<div>\n",
              "<style scoped>\n",
              "    .dataframe tbody tr th:only-of-type {\n",
              "        vertical-align: middle;\n",
              "    }\n",
              "\n",
              "    .dataframe tbody tr th {\n",
              "        vertical-align: top;\n",
              "    }\n",
              "\n",
              "    .dataframe thead th {\n",
              "        text-align: right;\n",
              "    }\n",
              "</style>\n",
              "<table border=\"1\" class=\"dataframe\">\n",
              "  <thead>\n",
              "    <tr style=\"text-align: right;\">\n",
              "      <th></th>\n",
              "      <th>age</th>\n",
              "      <th>job</th>\n",
              "      <th>marital status</th>\n",
              "      <th>education</th>\n",
              "      <th>credit default</th>\n",
              "      <th>housing loan</th>\n",
              "      <th>personal loan</th>\n",
              "      <th>y</th>\n",
              "    </tr>\n",
              "  </thead>\n",
              "  <tbody>\n",
              "    <tr>\n",
              "      <th>270</th>\n",
              "      <td>40</td>\n",
              "      <td>services</td>\n",
              "      <td>married</td>\n",
              "      <td>secondary</td>\n",
              "      <td>no</td>\n",
              "      <td>yes</td>\n",
              "      <td>no</td>\n",
              "      <td>no</td>\n",
              "    </tr>\n",
              "    <tr>\n",
              "      <th>482</th>\n",
              "      <td>40</td>\n",
              "      <td>technician</td>\n",
              "      <td>married</td>\n",
              "      <td>secondary</td>\n",
              "      <td>no</td>\n",
              "      <td>yes</td>\n",
              "      <td>no</td>\n",
              "      <td>no</td>\n",
              "    </tr>\n",
              "    <tr>\n",
              "      <th>597</th>\n",
              "      <td>40</td>\n",
              "      <td>management</td>\n",
              "      <td>married</td>\n",
              "      <td>secondary</td>\n",
              "      <td>no</td>\n",
              "      <td>yes</td>\n",
              "      <td>no</td>\n",
              "      <td>no</td>\n",
              "    </tr>\n",
              "    <tr>\n",
              "      <th>671</th>\n",
              "      <td>40</td>\n",
              "      <td>technician</td>\n",
              "      <td>married</td>\n",
              "      <td>secondary</td>\n",
              "      <td>no</td>\n",
              "      <td>yes</td>\n",
              "      <td>no</td>\n",
              "      <td>no</td>\n",
              "    </tr>\n",
              "    <tr>\n",
              "      <th>684</th>\n",
              "      <td>40</td>\n",
              "      <td>services</td>\n",
              "      <td>married</td>\n",
              "      <td>secondary</td>\n",
              "      <td>no</td>\n",
              "      <td>yes</td>\n",
              "      <td>no</td>\n",
              "      <td>no</td>\n",
              "    </tr>\n",
              "    <tr>\n",
              "      <th>710</th>\n",
              "      <td>40</td>\n",
              "      <td>technician</td>\n",
              "      <td>married</td>\n",
              "      <td>secondary</td>\n",
              "      <td>no</td>\n",
              "      <td>yes</td>\n",
              "      <td>no</td>\n",
              "      <td>no</td>\n",
              "    </tr>\n",
              "    <tr>\n",
              "      <th>960</th>\n",
              "      <td>40</td>\n",
              "      <td>technician</td>\n",
              "      <td>married</td>\n",
              "      <td>secondary</td>\n",
              "      <td>no</td>\n",
              "      <td>yes</td>\n",
              "      <td>no</td>\n",
              "      <td>no</td>\n",
              "    </tr>\n",
              "    <tr>\n",
              "      <th>1012</th>\n",
              "      <td>40</td>\n",
              "      <td>blue-collar</td>\n",
              "      <td>married</td>\n",
              "      <td>secondary</td>\n",
              "      <td>no</td>\n",
              "      <td>yes</td>\n",
              "      <td>no</td>\n",
              "      <td>no</td>\n",
              "    </tr>\n",
              "  </tbody>\n",
              "</table>\n",
              "</div>"
            ],
            "text/plain": [
              "      age          job marital status  ... housing loan personal loan   y\n",
              "270    40     services        married  ...          yes            no  no\n",
              "482    40   technician        married  ...          yes            no  no\n",
              "597    40   management        married  ...          yes            no  no\n",
              "671    40   technician        married  ...          yes            no  no\n",
              "684    40     services        married  ...          yes            no  no\n",
              "710    40   technician        married  ...          yes            no  no\n",
              "960    40   technician        married  ...          yes            no  no\n",
              "1012   40  blue-collar        married  ...          yes            no  no\n",
              "\n",
              "[8 rows x 8 columns]"
            ]
          },
          "metadata": {
            "tags": []
          },
          "execution_count": 8
        }
      ]
    },
    {
      "cell_type": "markdown",
      "metadata": {
        "id": "yewiJsZlcfzJ",
        "colab_type": "text"
      },
      "source": [
        "Taking the Mode and imputing the missing value for job "
      ]
    },
    {
      "cell_type": "code",
      "metadata": {
        "id": "K6pn-zZfb9FA",
        "colab_type": "code",
        "outputId": "2763aa13-10f4-4c90-8c46-646de61b8db0",
        "colab": {
          "base_uri": "https://localhost:8080/",
          "height": 52
        }
      },
      "source": [
        "data[(data['age']== 40) & \n",
        "     (data['marital status'] =='married') & \n",
        "     (data['education'] =='secondary')& \n",
        "     (data['credit default'] =='no') & \n",
        "     (data['housing loan'] =='yes') & \n",
        "     (data['personal loan'] =='no') & \n",
        "     (data['job'].isnull()==False)]['job'].mode()"
      ],
      "execution_count": 9,
      "outputs": [
        {
          "output_type": "execute_result",
          "data": {
            "text/plain": [
              "0    technician\n",
              "dtype: object"
            ]
          },
          "metadata": {
            "tags": []
          },
          "execution_count": 9
        }
      ]
    },
    {
      "cell_type": "code",
      "metadata": {
        "id": "5pYbAkTEcpYE",
        "colab_type": "code",
        "outputId": "580c0c38-f7c1-4c3a-de50-1acb0a54d3a6",
        "colab": {
          "base_uri": "https://localhost:8080/",
          "height": 77
        }
      },
      "source": [
        "data[(data['age']== 40) & \n",
        "     (data['marital status'] =='married') & \n",
        "     (data['education'] =='secondary') & \n",
        "     (data['credit default'] =='no') &\n",
        "     (data['housing loan'] =='yes') & \n",
        "     (data['personal loan'] =='no')& \n",
        "     (data['job'].isnull()==True)]"
      ],
      "execution_count": 10,
      "outputs": [
        {
          "output_type": "execute_result",
          "data": {
            "text/html": [
              "<div>\n",
              "<style scoped>\n",
              "    .dataframe tbody tr th:only-of-type {\n",
              "        vertical-align: middle;\n",
              "    }\n",
              "\n",
              "    .dataframe tbody tr th {\n",
              "        vertical-align: top;\n",
              "    }\n",
              "\n",
              "    .dataframe thead th {\n",
              "        text-align: right;\n",
              "    }\n",
              "</style>\n",
              "<table border=\"1\" class=\"dataframe\">\n",
              "  <thead>\n",
              "    <tr style=\"text-align: right;\">\n",
              "      <th></th>\n",
              "      <th>age</th>\n",
              "      <th>job</th>\n",
              "      <th>marital status</th>\n",
              "      <th>education</th>\n",
              "      <th>credit default</th>\n",
              "      <th>housing loan</th>\n",
              "      <th>personal loan</th>\n",
              "      <th>y</th>\n",
              "    </tr>\n",
              "  </thead>\n",
              "  <tbody>\n",
              "    <tr>\n",
              "      <th>79</th>\n",
              "      <td>40</td>\n",
              "      <td>NaN</td>\n",
              "      <td>married</td>\n",
              "      <td>secondary</td>\n",
              "      <td>no</td>\n",
              "      <td>yes</td>\n",
              "      <td>no</td>\n",
              "      <td>no</td>\n",
              "    </tr>\n",
              "  </tbody>\n",
              "</table>\n",
              "</div>"
            ],
            "text/plain": [
              "    age  job marital status  ... housing loan personal loan   y\n",
              "79   40  NaN        married  ...          yes            no  no\n",
              "\n",
              "[1 rows x 8 columns]"
            ]
          },
          "metadata": {
            "tags": []
          },
          "execution_count": 10
        }
      ]
    },
    {
      "cell_type": "markdown",
      "metadata": {
        "id": "K5bOMf60dcCR",
        "colab_type": "text"
      },
      "source": [
        "imputing the new value for job using the mod value of job whose attributes had similar values as that of the missing values"
      ]
    },
    {
      "cell_type": "code",
      "metadata": {
        "id": "NX2iJx3_cuqt",
        "colab_type": "code",
        "colab": {}
      },
      "source": [
        "data.loc[(data['age']== 40) & \n",
        "         (data['marital status'] =='married') & \n",
        "         (data['education'] =='secondary')    & \n",
        "         (data['credit default'] =='no') & \n",
        "         (data['housing loan'] =='yes') & \n",
        "         (data['personal loan'] =='no')\n",
        "    & (data['job'].isnull()==True),'job']=\\\n",
        "data[(data['age']== 40) & \n",
        "     (data['marital status'] =='married') & \n",
        "     (data['education'] =='secondary')    & \n",
        "     (data['credit default'] =='no') & \n",
        "     (data['housing loan'] =='yes') & \n",
        "     (data['personal loan'] =='no')    & \n",
        "     (data['job'].isnull()==False)]['job'].mode()[0]"
      ],
      "execution_count": 0,
      "outputs": []
    },
    {
      "cell_type": "code",
      "metadata": {
        "id": "AdFmJ6vZdB00",
        "colab_type": "code",
        "outputId": "dc1ef121-36de-45fd-a69e-74bb76f2c686",
        "colab": {
          "base_uri": "https://localhost:8080/",
          "height": 77
        }
      },
      "source": [
        "data[data['job'].isnull()]"
      ],
      "execution_count": 12,
      "outputs": [
        {
          "output_type": "execute_result",
          "data": {
            "text/html": [
              "<div>\n",
              "<style scoped>\n",
              "    .dataframe tbody tr th:only-of-type {\n",
              "        vertical-align: middle;\n",
              "    }\n",
              "\n",
              "    .dataframe tbody tr th {\n",
              "        vertical-align: top;\n",
              "    }\n",
              "\n",
              "    .dataframe thead th {\n",
              "        text-align: right;\n",
              "    }\n",
              "</style>\n",
              "<table border=\"1\" class=\"dataframe\">\n",
              "  <thead>\n",
              "    <tr style=\"text-align: right;\">\n",
              "      <th></th>\n",
              "      <th>age</th>\n",
              "      <th>job</th>\n",
              "      <th>marital status</th>\n",
              "      <th>education</th>\n",
              "      <th>credit default</th>\n",
              "      <th>housing loan</th>\n",
              "      <th>personal loan</th>\n",
              "      <th>y</th>\n",
              "    </tr>\n",
              "  </thead>\n",
              "  <tbody>\n",
              "    <tr>\n",
              "      <th>1004</th>\n",
              "      <td>42</td>\n",
              "      <td>NaN</td>\n",
              "      <td>single</td>\n",
              "      <td>secondary</td>\n",
              "      <td>no</td>\n",
              "      <td>yes</td>\n",
              "      <td>yes</td>\n",
              "      <td>yes</td>\n",
              "    </tr>\n",
              "  </tbody>\n",
              "</table>\n",
              "</div>"
            ],
            "text/plain": [
              "      age  job marital status  ... housing loan personal loan    y\n",
              "1004   42  NaN         single  ...          yes           yes  yes\n",
              "\n",
              "[1 rows x 8 columns]"
            ]
          },
          "metadata": {
            "tags": []
          },
          "execution_count": 12
        }
      ]
    },
    {
      "cell_type": "markdown",
      "metadata": {
        "id": "o4TKDZnRgyDf",
        "colab_type": "text"
      },
      "source": [
        "Data imputed, from the above it is clear that only one is missing right now and do the similar kind of operation for above record also"
      ]
    },
    {
      "cell_type": "code",
      "metadata": {
        "id": "0bHAtDhchEDR",
        "colab_type": "code",
        "outputId": "4d11d996-959e-43b0-c6f2-856000a8bf38",
        "colab": {
          "base_uri": "https://localhost:8080/",
          "height": 47
        }
      },
      "source": [
        "data[(data['age']== 42) & \n",
        "     (data['marital status'] =='single') & \n",
        "     (data['education'] =='secondary') & \n",
        "     (data['credit default'] =='no') & \n",
        "     (data['housing loan'] =='yes') & \n",
        "     (data['personal loan'] =='yes') & \n",
        "     (data['y'] =='yes') & \n",
        "     (data['job'].isnull()==False)]"
      ],
      "execution_count": 13,
      "outputs": [
        {
          "output_type": "execute_result",
          "data": {
            "text/html": [
              "<div>\n",
              "<style scoped>\n",
              "    .dataframe tbody tr th:only-of-type {\n",
              "        vertical-align: middle;\n",
              "    }\n",
              "\n",
              "    .dataframe tbody tr th {\n",
              "        vertical-align: top;\n",
              "    }\n",
              "\n",
              "    .dataframe thead th {\n",
              "        text-align: right;\n",
              "    }\n",
              "</style>\n",
              "<table border=\"1\" class=\"dataframe\">\n",
              "  <thead>\n",
              "    <tr style=\"text-align: right;\">\n",
              "      <th></th>\n",
              "      <th>age</th>\n",
              "      <th>job</th>\n",
              "      <th>marital status</th>\n",
              "      <th>education</th>\n",
              "      <th>credit default</th>\n",
              "      <th>housing loan</th>\n",
              "      <th>personal loan</th>\n",
              "      <th>y</th>\n",
              "    </tr>\n",
              "  </thead>\n",
              "  <tbody>\n",
              "  </tbody>\n",
              "</table>\n",
              "</div>"
            ],
            "text/plain": [
              "Empty DataFrame\n",
              "Columns: [age, job, marital status, education, credit default, housing loan, personal loan, y]\n",
              "Index: []"
            ]
          },
          "metadata": {
            "tags": []
          },
          "execution_count": 13
        }
      ]
    },
    {
      "cell_type": "markdown",
      "metadata": {
        "id": "B_AP1r9KxF1i",
        "colab_type": "text"
      },
      "source": [
        "No data available for similar values.So look in broader scope"
      ]
    },
    {
      "cell_type": "markdown",
      "metadata": {
        "id": "CiTbj2pA12GG",
        "colab_type": "text"
      },
      "source": [
        "Remove the Marital Status and check"
      ]
    },
    {
      "cell_type": "code",
      "metadata": {
        "id": "4cKoWxWqxVkY",
        "colab_type": "code",
        "outputId": "f9b3c49a-c0fb-425b-e435-4be3d7e4d5e7",
        "colab": {
          "base_uri": "https://localhost:8080/",
          "height": 47
        }
      },
      "source": [
        "data[(data['age']== 42) & \n",
        "     (data['education'] =='secondary') & \n",
        "     (data['credit default'] =='no') & \n",
        "     (data['housing loan'] =='yes') & \n",
        "     (data['personal loan'] =='yes') & \n",
        "     (data['y'] =='yes') & \n",
        "     (data['job'].isnull()==False)]"
      ],
      "execution_count": 14,
      "outputs": [
        {
          "output_type": "execute_result",
          "data": {
            "text/html": [
              "<div>\n",
              "<style scoped>\n",
              "    .dataframe tbody tr th:only-of-type {\n",
              "        vertical-align: middle;\n",
              "    }\n",
              "\n",
              "    .dataframe tbody tr th {\n",
              "        vertical-align: top;\n",
              "    }\n",
              "\n",
              "    .dataframe thead th {\n",
              "        text-align: right;\n",
              "    }\n",
              "</style>\n",
              "<table border=\"1\" class=\"dataframe\">\n",
              "  <thead>\n",
              "    <tr style=\"text-align: right;\">\n",
              "      <th></th>\n",
              "      <th>age</th>\n",
              "      <th>job</th>\n",
              "      <th>marital status</th>\n",
              "      <th>education</th>\n",
              "      <th>credit default</th>\n",
              "      <th>housing loan</th>\n",
              "      <th>personal loan</th>\n",
              "      <th>y</th>\n",
              "    </tr>\n",
              "  </thead>\n",
              "  <tbody>\n",
              "  </tbody>\n",
              "</table>\n",
              "</div>"
            ],
            "text/plain": [
              "Empty DataFrame\n",
              "Columns: [age, job, marital status, education, credit default, housing loan, personal loan, y]\n",
              "Index: []"
            ]
          },
          "metadata": {
            "tags": []
          },
          "execution_count": 14
        }
      ]
    },
    {
      "cell_type": "markdown",
      "metadata": {
        "id": "9AiyOcm3178x",
        "colab_type": "text"
      },
      "source": [
        "Remove Education also and check"
      ]
    },
    {
      "cell_type": "code",
      "metadata": {
        "id": "JClBuhPD1--v",
        "colab_type": "code",
        "outputId": "4667582f-694e-496d-e725-16086e7acb54",
        "colab": {
          "base_uri": "https://localhost:8080/",
          "height": 47
        }
      },
      "source": [
        "data[(data['age']== 42) & \n",
        "     (data['credit default'] =='no') & \n",
        "     (data['housing loan'] =='yes') & \n",
        "     (data['personal loan'] =='yes') & \n",
        "     (data['y'] =='yes') & \n",
        "     (data['job'].isnull()==False)]"
      ],
      "execution_count": 15,
      "outputs": [
        {
          "output_type": "execute_result",
          "data": {
            "text/html": [
              "<div>\n",
              "<style scoped>\n",
              "    .dataframe tbody tr th:only-of-type {\n",
              "        vertical-align: middle;\n",
              "    }\n",
              "\n",
              "    .dataframe tbody tr th {\n",
              "        vertical-align: top;\n",
              "    }\n",
              "\n",
              "    .dataframe thead th {\n",
              "        text-align: right;\n",
              "    }\n",
              "</style>\n",
              "<table border=\"1\" class=\"dataframe\">\n",
              "  <thead>\n",
              "    <tr style=\"text-align: right;\">\n",
              "      <th></th>\n",
              "      <th>age</th>\n",
              "      <th>job</th>\n",
              "      <th>marital status</th>\n",
              "      <th>education</th>\n",
              "      <th>credit default</th>\n",
              "      <th>housing loan</th>\n",
              "      <th>personal loan</th>\n",
              "      <th>y</th>\n",
              "    </tr>\n",
              "  </thead>\n",
              "  <tbody>\n",
              "  </tbody>\n",
              "</table>\n",
              "</div>"
            ],
            "text/plain": [
              "Empty DataFrame\n",
              "Columns: [age, job, marital status, education, credit default, housing loan, personal loan, y]\n",
              "Index: []"
            ]
          },
          "metadata": {
            "tags": []
          },
          "execution_count": 15
        }
      ]
    },
    {
      "cell_type": "markdown",
      "metadata": {
        "id": "s1QlKe9b2hrZ",
        "colab_type": "text"
      },
      "source": [
        "Remove credit default"
      ]
    },
    {
      "cell_type": "code",
      "metadata": {
        "id": "W9RZFw_72uca",
        "colab_type": "code",
        "outputId": "3c0ee8ff-fee9-4f01-a9fe-fc4fa55d615d",
        "colab": {
          "base_uri": "https://localhost:8080/",
          "height": 47
        }
      },
      "source": [
        "data[(data['age']== 42) & \n",
        "     (data['housing loan'] =='yes') & \n",
        "     (data['personal loan'] =='yes') & \n",
        "     (data['y'] =='yes') & \n",
        "     (data['job'].isnull()==False)]"
      ],
      "execution_count": 16,
      "outputs": [
        {
          "output_type": "execute_result",
          "data": {
            "text/html": [
              "<div>\n",
              "<style scoped>\n",
              "    .dataframe tbody tr th:only-of-type {\n",
              "        vertical-align: middle;\n",
              "    }\n",
              "\n",
              "    .dataframe tbody tr th {\n",
              "        vertical-align: top;\n",
              "    }\n",
              "\n",
              "    .dataframe thead th {\n",
              "        text-align: right;\n",
              "    }\n",
              "</style>\n",
              "<table border=\"1\" class=\"dataframe\">\n",
              "  <thead>\n",
              "    <tr style=\"text-align: right;\">\n",
              "      <th></th>\n",
              "      <th>age</th>\n",
              "      <th>job</th>\n",
              "      <th>marital status</th>\n",
              "      <th>education</th>\n",
              "      <th>credit default</th>\n",
              "      <th>housing loan</th>\n",
              "      <th>personal loan</th>\n",
              "      <th>y</th>\n",
              "    </tr>\n",
              "  </thead>\n",
              "  <tbody>\n",
              "  </tbody>\n",
              "</table>\n",
              "</div>"
            ],
            "text/plain": [
              "Empty DataFrame\n",
              "Columns: [age, job, marital status, education, credit default, housing loan, personal loan, y]\n",
              "Index: []"
            ]
          },
          "metadata": {
            "tags": []
          },
          "execution_count": 16
        }
      ]
    },
    {
      "cell_type": "markdown",
      "metadata": {
        "id": "cWyS9Xgk2ydx",
        "colab_type": "text"
      },
      "source": [
        "Remove housing loan"
      ]
    },
    {
      "cell_type": "code",
      "metadata": {
        "id": "3z2vTRzv20UO",
        "colab_type": "code",
        "outputId": "4cec2ac7-1a76-4fd2-efda-b0534a4ccbdb",
        "colab": {
          "base_uri": "https://localhost:8080/",
          "height": 47
        }
      },
      "source": [
        "data[(data['age']== 42) &  \n",
        "     (data['personal loan'] =='yes') & \n",
        "     (data['y'] =='yes') & \n",
        "     (data['job'].isnull()==False)]"
      ],
      "execution_count": 17,
      "outputs": [
        {
          "output_type": "execute_result",
          "data": {
            "text/html": [
              "<div>\n",
              "<style scoped>\n",
              "    .dataframe tbody tr th:only-of-type {\n",
              "        vertical-align: middle;\n",
              "    }\n",
              "\n",
              "    .dataframe tbody tr th {\n",
              "        vertical-align: top;\n",
              "    }\n",
              "\n",
              "    .dataframe thead th {\n",
              "        text-align: right;\n",
              "    }\n",
              "</style>\n",
              "<table border=\"1\" class=\"dataframe\">\n",
              "  <thead>\n",
              "    <tr style=\"text-align: right;\">\n",
              "      <th></th>\n",
              "      <th>age</th>\n",
              "      <th>job</th>\n",
              "      <th>marital status</th>\n",
              "      <th>education</th>\n",
              "      <th>credit default</th>\n",
              "      <th>housing loan</th>\n",
              "      <th>personal loan</th>\n",
              "      <th>y</th>\n",
              "    </tr>\n",
              "  </thead>\n",
              "  <tbody>\n",
              "  </tbody>\n",
              "</table>\n",
              "</div>"
            ],
            "text/plain": [
              "Empty DataFrame\n",
              "Columns: [age, job, marital status, education, credit default, housing loan, personal loan, y]\n",
              "Index: []"
            ]
          },
          "metadata": {
            "tags": []
          },
          "execution_count": 17
        }
      ]
    },
    {
      "cell_type": "markdown",
      "metadata": {
        "id": "Z9XN_8sO222L",
        "colab_type": "text"
      },
      "source": [
        "Remove the personal loan also from condition"
      ]
    },
    {
      "cell_type": "code",
      "metadata": {
        "id": "RXOtB2wv27-e",
        "colab_type": "code",
        "outputId": "6b0b59ad-f10c-418f-f079-65d87a80eec3",
        "colab": {
          "base_uri": "https://localhost:8080/",
          "height": 77
        }
      },
      "source": [
        "data[(data['age']== 42) &  \n",
        "     (data['y'] =='yes') & \n",
        "     (data['job'].isnull()==False)]"
      ],
      "execution_count": 18,
      "outputs": [
        {
          "output_type": "execute_result",
          "data": {
            "text/html": [
              "<div>\n",
              "<style scoped>\n",
              "    .dataframe tbody tr th:only-of-type {\n",
              "        vertical-align: middle;\n",
              "    }\n",
              "\n",
              "    .dataframe tbody tr th {\n",
              "        vertical-align: top;\n",
              "    }\n",
              "\n",
              "    .dataframe thead th {\n",
              "        text-align: right;\n",
              "    }\n",
              "</style>\n",
              "<table border=\"1\" class=\"dataframe\">\n",
              "  <thead>\n",
              "    <tr style=\"text-align: right;\">\n",
              "      <th></th>\n",
              "      <th>age</th>\n",
              "      <th>job</th>\n",
              "      <th>marital status</th>\n",
              "      <th>education</th>\n",
              "      <th>credit default</th>\n",
              "      <th>housing loan</th>\n",
              "      <th>personal loan</th>\n",
              "      <th>y</th>\n",
              "    </tr>\n",
              "  </thead>\n",
              "  <tbody>\n",
              "    <tr>\n",
              "      <th>215</th>\n",
              "      <td>42</td>\n",
              "      <td>management</td>\n",
              "      <td>married</td>\n",
              "      <td>tertiary</td>\n",
              "      <td>no</td>\n",
              "      <td>yes</td>\n",
              "      <td>no</td>\n",
              "      <td>yes</td>\n",
              "    </tr>\n",
              "  </tbody>\n",
              "</table>\n",
              "</div>"
            ],
            "text/plain": [
              "     age         job marital status  ... housing loan personal loan    y\n",
              "215   42  management        married  ...          yes            no  yes\n",
              "\n",
              "[1 rows x 8 columns]"
            ]
          },
          "metadata": {
            "tags": []
          },
          "execution_count": 18
        }
      ]
    },
    {
      "cell_type": "markdown",
      "metadata": {
        "id": "qt8w3nbS2_Ko",
        "colab_type": "text"
      },
      "source": [
        "Finally we got that the missing value based on the result from above. So lets impute the job value to the missing value"
      ]
    },
    {
      "cell_type": "code",
      "metadata": {
        "id": "H2Z44LQP3OAa",
        "colab_type": "code",
        "outputId": "68746fa2-2ab4-440d-9424-c5c2b5f485b0",
        "colab": {
          "base_uri": "https://localhost:8080/",
          "height": 34
        }
      },
      "source": [
        "data[(data['age']== 42) &  \n",
        "     (data['y'] =='yes') & \n",
        "     (data['job'].isnull()==False)]['job'].mode()[0]"
      ],
      "execution_count": 19,
      "outputs": [
        {
          "output_type": "execute_result",
          "data": {
            "text/plain": [
              "'management'"
            ]
          },
          "metadata": {
            "tags": []
          },
          "execution_count": 19
        }
      ]
    },
    {
      "cell_type": "code",
      "metadata": {
        "id": "_mpfvcs_3VYb",
        "colab_type": "code",
        "outputId": "0aed6100-0d13-4a32-8e32-970c42cbae87",
        "colab": {
          "base_uri": "https://localhost:8080/",
          "height": 77
        }
      },
      "source": [
        "data[(data['age']== 42) & \n",
        "     (data['marital status'] =='single') & \n",
        "     (data['education'] =='secondary') & \n",
        "     (data['credit default'] =='no') & \n",
        "     (data['housing loan'] =='yes') & \n",
        "     (data['personal loan'] =='yes') & \n",
        "     (data['y'] =='yes') & \n",
        "     (data['job'].isnull()==True)]"
      ],
      "execution_count": 20,
      "outputs": [
        {
          "output_type": "execute_result",
          "data": {
            "text/html": [
              "<div>\n",
              "<style scoped>\n",
              "    .dataframe tbody tr th:only-of-type {\n",
              "        vertical-align: middle;\n",
              "    }\n",
              "\n",
              "    .dataframe tbody tr th {\n",
              "        vertical-align: top;\n",
              "    }\n",
              "\n",
              "    .dataframe thead th {\n",
              "        text-align: right;\n",
              "    }\n",
              "</style>\n",
              "<table border=\"1\" class=\"dataframe\">\n",
              "  <thead>\n",
              "    <tr style=\"text-align: right;\">\n",
              "      <th></th>\n",
              "      <th>age</th>\n",
              "      <th>job</th>\n",
              "      <th>marital status</th>\n",
              "      <th>education</th>\n",
              "      <th>credit default</th>\n",
              "      <th>housing loan</th>\n",
              "      <th>personal loan</th>\n",
              "      <th>y</th>\n",
              "    </tr>\n",
              "  </thead>\n",
              "  <tbody>\n",
              "    <tr>\n",
              "      <th>1004</th>\n",
              "      <td>42</td>\n",
              "      <td>NaN</td>\n",
              "      <td>single</td>\n",
              "      <td>secondary</td>\n",
              "      <td>no</td>\n",
              "      <td>yes</td>\n",
              "      <td>yes</td>\n",
              "      <td>yes</td>\n",
              "    </tr>\n",
              "  </tbody>\n",
              "</table>\n",
              "</div>"
            ],
            "text/plain": [
              "      age  job marital status  ... housing loan personal loan    y\n",
              "1004   42  NaN         single  ...          yes           yes  yes\n",
              "\n",
              "[1 rows x 8 columns]"
            ]
          },
          "metadata": {
            "tags": []
          },
          "execution_count": 20
        }
      ]
    },
    {
      "cell_type": "code",
      "metadata": {
        "id": "yx_6SJfA3cOY",
        "colab_type": "code",
        "colab": {}
      },
      "source": [
        "data.loc[(data['age']== 42) & \n",
        "     (data['marital status'] =='single') & \n",
        "     (data['education'] =='secondary') & \n",
        "     (data['credit default'] =='no') & \n",
        "     (data['housing loan'] =='yes') & \n",
        "     (data['personal loan'] =='yes') & \n",
        "     (data['y'] =='yes') & \n",
        "     (data['job'].isnull()==True),'job']=\\\n",
        "data[(data['age']== 42) &  \n",
        "     (data['y'] =='yes') & \n",
        "     (data['job'].isnull()==False)\n",
        "    ]['job'].mode()[0]"
      ],
      "execution_count": 0,
      "outputs": []
    },
    {
      "cell_type": "markdown",
      "metadata": {
        "id": "u01h76-e3sTF",
        "colab_type": "text"
      },
      "source": [
        "Lets check the whether the values are imputed to the job"
      ]
    },
    {
      "cell_type": "code",
      "metadata": {
        "id": "6j4kJw2n33Jv",
        "colab_type": "code",
        "outputId": "0178d04e-c33b-49ef-ebf2-82bc18996366",
        "colab": {
          "base_uri": "https://localhost:8080/",
          "height": 47
        }
      },
      "source": [
        "data[data['job'].isnull()]"
      ],
      "execution_count": 22,
      "outputs": [
        {
          "output_type": "execute_result",
          "data": {
            "text/html": [
              "<div>\n",
              "<style scoped>\n",
              "    .dataframe tbody tr th:only-of-type {\n",
              "        vertical-align: middle;\n",
              "    }\n",
              "\n",
              "    .dataframe tbody tr th {\n",
              "        vertical-align: top;\n",
              "    }\n",
              "\n",
              "    .dataframe thead th {\n",
              "        text-align: right;\n",
              "    }\n",
              "</style>\n",
              "<table border=\"1\" class=\"dataframe\">\n",
              "  <thead>\n",
              "    <tr style=\"text-align: right;\">\n",
              "      <th></th>\n",
              "      <th>age</th>\n",
              "      <th>job</th>\n",
              "      <th>marital status</th>\n",
              "      <th>education</th>\n",
              "      <th>credit default</th>\n",
              "      <th>housing loan</th>\n",
              "      <th>personal loan</th>\n",
              "      <th>y</th>\n",
              "    </tr>\n",
              "  </thead>\n",
              "  <tbody>\n",
              "  </tbody>\n",
              "</table>\n",
              "</div>"
            ],
            "text/plain": [
              "Empty DataFrame\n",
              "Columns: [age, job, marital status, education, credit default, housing loan, personal loan, y]\n",
              "Index: []"
            ]
          },
          "metadata": {
            "tags": []
          },
          "execution_count": 22
        }
      ]
    },
    {
      "cell_type": "code",
      "metadata": {
        "id": "1fCDHvIz3y5A",
        "colab_type": "code",
        "outputId": "dadd092c-5db3-412c-e2cf-1947e836013e",
        "colab": {
          "base_uri": "https://localhost:8080/",
          "height": 244
        }
      },
      "source": [
        "data.info()"
      ],
      "execution_count": 23,
      "outputs": [
        {
          "output_type": "stream",
          "text": [
            "<class 'pandas.core.frame.DataFrame'>\n",
            "RangeIndex: 1021 entries, 0 to 1020\n",
            "Data columns (total 8 columns):\n",
            "age               1021 non-null int64\n",
            "job               1021 non-null object\n",
            "marital status    1020 non-null object\n",
            "education         1020 non-null object\n",
            "credit default    1020 non-null object\n",
            "housing loan      1019 non-null object\n",
            "personal loan     1019 non-null object\n",
            "y                 1021 non-null object\n",
            "dtypes: int64(1), object(7)\n",
            "memory usage: 63.9+ KB\n"
          ],
          "name": "stdout"
        }
      ]
    },
    {
      "cell_type": "markdown",
      "metadata": {
        "id": "BuOXFRaY37h8",
        "colab_type": "text"
      },
      "source": [
        "No empty values in job, so lets move on to the next attribute housing loan"
      ]
    },
    {
      "cell_type": "code",
      "metadata": {
        "id": "z1ZStjLl4S4y",
        "colab_type": "code",
        "outputId": "016449d0-0aef-4cd0-be11-51ce5636653a",
        "colab": {
          "base_uri": "https://localhost:8080/",
          "height": 107
        }
      },
      "source": [
        "data[data['housing loan'].isnull()]"
      ],
      "execution_count": 24,
      "outputs": [
        {
          "output_type": "execute_result",
          "data": {
            "text/html": [
              "<div>\n",
              "<style scoped>\n",
              "    .dataframe tbody tr th:only-of-type {\n",
              "        vertical-align: middle;\n",
              "    }\n",
              "\n",
              "    .dataframe tbody tr th {\n",
              "        vertical-align: top;\n",
              "    }\n",
              "\n",
              "    .dataframe thead th {\n",
              "        text-align: right;\n",
              "    }\n",
              "</style>\n",
              "<table border=\"1\" class=\"dataframe\">\n",
              "  <thead>\n",
              "    <tr style=\"text-align: right;\">\n",
              "      <th></th>\n",
              "      <th>age</th>\n",
              "      <th>job</th>\n",
              "      <th>marital status</th>\n",
              "      <th>education</th>\n",
              "      <th>credit default</th>\n",
              "      <th>housing loan</th>\n",
              "      <th>personal loan</th>\n",
              "      <th>y</th>\n",
              "    </tr>\n",
              "  </thead>\n",
              "  <tbody>\n",
              "    <tr>\n",
              "      <th>109</th>\n",
              "      <td>27</td>\n",
              "      <td>housemaid</td>\n",
              "      <td>married</td>\n",
              "      <td>primary</td>\n",
              "      <td>no</td>\n",
              "      <td>NaN</td>\n",
              "      <td>NaN</td>\n",
              "      <td>no</td>\n",
              "    </tr>\n",
              "    <tr>\n",
              "      <th>1016</th>\n",
              "      <td>33</td>\n",
              "      <td>services</td>\n",
              "      <td>married</td>\n",
              "      <td>secondary</td>\n",
              "      <td>no</td>\n",
              "      <td>NaN</td>\n",
              "      <td>no</td>\n",
              "      <td>no</td>\n",
              "    </tr>\n",
              "  </tbody>\n",
              "</table>\n",
              "</div>"
            ],
            "text/plain": [
              "      age        job marital status  ... housing loan personal loan   y\n",
              "109    27  housemaid        married  ...          NaN           NaN  no\n",
              "1016   33   services        married  ...          NaN            no  no\n",
              "\n",
              "[2 rows x 8 columns]"
            ]
          },
          "metadata": {
            "tags": []
          },
          "execution_count": 24
        }
      ]
    },
    {
      "cell_type": "markdown",
      "metadata": {
        "id": "boFVO61-4cDS",
        "colab_type": "text"
      },
      "source": [
        "as the first row has missing values in personal loan as well, so lets focus on the second row"
      ]
    },
    {
      "cell_type": "code",
      "metadata": {
        "id": "3J-2sTww4j_9",
        "colab_type": "code",
        "outputId": "7963f677-6898-4fe6-c6f2-9abe78342349",
        "colab": {
          "base_uri": "https://localhost:8080/",
          "height": 77
        }
      },
      "source": [
        "data[(data['age']==33) &\n",
        "    (data['job']=='services') &\n",
        "    (data['marital status']=='married') &\n",
        "    (data['education']=='secondary') &\n",
        "    (data['credit default']=='no') &\n",
        "    (data['housing loan'].isnull()==False) &\n",
        "    (data['personal loan']=='no') &\n",
        "    (data['y']=='no')]"
      ],
      "execution_count": 25,
      "outputs": [
        {
          "output_type": "execute_result",
          "data": {
            "text/html": [
              "<div>\n",
              "<style scoped>\n",
              "    .dataframe tbody tr th:only-of-type {\n",
              "        vertical-align: middle;\n",
              "    }\n",
              "\n",
              "    .dataframe tbody tr th {\n",
              "        vertical-align: top;\n",
              "    }\n",
              "\n",
              "    .dataframe thead th {\n",
              "        text-align: right;\n",
              "    }\n",
              "</style>\n",
              "<table border=\"1\" class=\"dataframe\">\n",
              "  <thead>\n",
              "    <tr style=\"text-align: right;\">\n",
              "      <th></th>\n",
              "      <th>age</th>\n",
              "      <th>job</th>\n",
              "      <th>marital status</th>\n",
              "      <th>education</th>\n",
              "      <th>credit default</th>\n",
              "      <th>housing loan</th>\n",
              "      <th>personal loan</th>\n",
              "      <th>y</th>\n",
              "    </tr>\n",
              "  </thead>\n",
              "  <tbody>\n",
              "    <tr>\n",
              "      <th>1007</th>\n",
              "      <td>33</td>\n",
              "      <td>services</td>\n",
              "      <td>married</td>\n",
              "      <td>secondary</td>\n",
              "      <td>no</td>\n",
              "      <td>yes</td>\n",
              "      <td>no</td>\n",
              "      <td>no</td>\n",
              "    </tr>\n",
              "  </tbody>\n",
              "</table>\n",
              "</div>"
            ],
            "text/plain": [
              "      age       job marital status  ... housing loan personal loan   y\n",
              "1007   33  services        married  ...          yes            no  no\n",
              "\n",
              "[1 rows x 8 columns]"
            ]
          },
          "metadata": {
            "tags": []
          },
          "execution_count": 25
        }
      ]
    },
    {
      "cell_type": "markdown",
      "metadata": {
        "id": "fbqvdzNJ5mi0",
        "colab_type": "text"
      },
      "source": [
        "lets impute the value based on the above result"
      ]
    },
    {
      "cell_type": "code",
      "metadata": {
        "id": "mCKkBq8l5qMU",
        "colab_type": "code",
        "outputId": "71f6a64d-a6bf-4292-d4d3-c11fc2ca5f29",
        "colab": {
          "base_uri": "https://localhost:8080/",
          "height": 34
        }
      },
      "source": [
        "data[(data['age']==33) &\n",
        "    (data['job']=='services') &\n",
        "    (data['marital status']=='married') &\n",
        "    (data['education']=='secondary') &\n",
        "    (data['credit default']=='no') &\n",
        "    (data['housing loan'].isnull()==False) &\n",
        "    (data['personal loan']=='no') &\n",
        "    (data['y']=='no')]['job'].mode()[0]"
      ],
      "execution_count": 26,
      "outputs": [
        {
          "output_type": "execute_result",
          "data": {
            "text/plain": [
              "'services'"
            ]
          },
          "metadata": {
            "tags": []
          },
          "execution_count": 26
        }
      ]
    },
    {
      "cell_type": "code",
      "metadata": {
        "id": "auW97jod55tw",
        "colab_type": "code",
        "colab": {}
      },
      "source": [
        "data.loc[(data['age']==33) &\n",
        "    (data['job']=='services') &\n",
        "    (data['marital status']=='married') &\n",
        "    (data['education']=='secondary') &\n",
        "    (data['credit default']=='no') &\n",
        "    (data['housing loan'].isnull()) &\n",
        "    (data['personal loan']=='no') &\n",
        "    (data['y']=='no'),'housing loan']=\\\n",
        "data[(data['age']==33) &\n",
        "    (data['job']=='services') &\n",
        "    (data['marital status']=='married') &\n",
        "    (data['education']=='secondary') &\n",
        "    (data['credit default']=='no') &\n",
        "    (data['housing loan'].isnull()==False) &\n",
        "    (data['personal loan']=='no') &\n",
        "    (data['y']=='no')]['job'].mode()[0]"
      ],
      "execution_count": 0,
      "outputs": []
    },
    {
      "cell_type": "code",
      "metadata": {
        "id": "PsUmOPNQ6Pl2",
        "colab_type": "code",
        "outputId": "80ae6a34-d6bf-4607-8d8e-cb868304970d",
        "colab": {
          "base_uri": "https://localhost:8080/",
          "height": 77
        }
      },
      "source": [
        "data[data['housing loan'].isnull()]"
      ],
      "execution_count": 28,
      "outputs": [
        {
          "output_type": "execute_result",
          "data": {
            "text/html": [
              "<div>\n",
              "<style scoped>\n",
              "    .dataframe tbody tr th:only-of-type {\n",
              "        vertical-align: middle;\n",
              "    }\n",
              "\n",
              "    .dataframe tbody tr th {\n",
              "        vertical-align: top;\n",
              "    }\n",
              "\n",
              "    .dataframe thead th {\n",
              "        text-align: right;\n",
              "    }\n",
              "</style>\n",
              "<table border=\"1\" class=\"dataframe\">\n",
              "  <thead>\n",
              "    <tr style=\"text-align: right;\">\n",
              "      <th></th>\n",
              "      <th>age</th>\n",
              "      <th>job</th>\n",
              "      <th>marital status</th>\n",
              "      <th>education</th>\n",
              "      <th>credit default</th>\n",
              "      <th>housing loan</th>\n",
              "      <th>personal loan</th>\n",
              "      <th>y</th>\n",
              "    </tr>\n",
              "  </thead>\n",
              "  <tbody>\n",
              "    <tr>\n",
              "      <th>109</th>\n",
              "      <td>27</td>\n",
              "      <td>housemaid</td>\n",
              "      <td>married</td>\n",
              "      <td>primary</td>\n",
              "      <td>no</td>\n",
              "      <td>NaN</td>\n",
              "      <td>NaN</td>\n",
              "      <td>no</td>\n",
              "    </tr>\n",
              "  </tbody>\n",
              "</table>\n",
              "</div>"
            ],
            "text/plain": [
              "     age        job marital status  ... housing loan personal loan   y\n",
              "109   27  housemaid        married  ...          NaN           NaN  no\n",
              "\n",
              "[1 rows x 8 columns]"
            ]
          },
          "metadata": {
            "tags": []
          },
          "execution_count": 28
        }
      ]
    },
    {
      "cell_type": "code",
      "metadata": {
        "id": "djTkvsy96UdX",
        "colab_type": "code",
        "outputId": "9f87cbef-be15-4291-bb97-2ea94963b512",
        "colab": {
          "base_uri": "https://localhost:8080/",
          "height": 47
        }
      },
      "source": [
        "data[(data['age']==27) &\n",
        "    (data['job']=='housemaid') &\n",
        "    (data['marital status']=='married') &\n",
        "    (data['education']=='primary') &\n",
        "    (data['credit default']=='no') &\n",
        "    (data['housing loan'].isnull()==False) &\n",
        "    (data['y']=='no')]"
      ],
      "execution_count": 29,
      "outputs": [
        {
          "output_type": "execute_result",
          "data": {
            "text/html": [
              "<div>\n",
              "<style scoped>\n",
              "    .dataframe tbody tr th:only-of-type {\n",
              "        vertical-align: middle;\n",
              "    }\n",
              "\n",
              "    .dataframe tbody tr th {\n",
              "        vertical-align: top;\n",
              "    }\n",
              "\n",
              "    .dataframe thead th {\n",
              "        text-align: right;\n",
              "    }\n",
              "</style>\n",
              "<table border=\"1\" class=\"dataframe\">\n",
              "  <thead>\n",
              "    <tr style=\"text-align: right;\">\n",
              "      <th></th>\n",
              "      <th>age</th>\n",
              "      <th>job</th>\n",
              "      <th>marital status</th>\n",
              "      <th>education</th>\n",
              "      <th>credit default</th>\n",
              "      <th>housing loan</th>\n",
              "      <th>personal loan</th>\n",
              "      <th>y</th>\n",
              "    </tr>\n",
              "  </thead>\n",
              "  <tbody>\n",
              "  </tbody>\n",
              "</table>\n",
              "</div>"
            ],
            "text/plain": [
              "Empty DataFrame\n",
              "Columns: [age, job, marital status, education, credit default, housing loan, personal loan, y]\n",
              "Index: []"
            ]
          },
          "metadata": {
            "tags": []
          },
          "execution_count": 29
        }
      ]
    },
    {
      "cell_type": "markdown",
      "metadata": {
        "id": "NKK3M0yK7Axc",
        "colab_type": "text"
      },
      "source": [
        "since we dont have data for matching attribute values , lets check in that age we have data"
      ]
    },
    {
      "cell_type": "code",
      "metadata": {
        "id": "ZmaqvSED7oK1",
        "colab_type": "code",
        "outputId": "4ad53253-fe73-4c83-cfb7-694b8a3312ae",
        "colab": {
          "base_uri": "https://localhost:8080/",
          "height": 197
        }
      },
      "source": [
        "data[data['age']==27].head()"
      ],
      "execution_count": 30,
      "outputs": [
        {
          "output_type": "execute_result",
          "data": {
            "text/html": [
              "<div>\n",
              "<style scoped>\n",
              "    .dataframe tbody tr th:only-of-type {\n",
              "        vertical-align: middle;\n",
              "    }\n",
              "\n",
              "    .dataframe tbody tr th {\n",
              "        vertical-align: top;\n",
              "    }\n",
              "\n",
              "    .dataframe thead th {\n",
              "        text-align: right;\n",
              "    }\n",
              "</style>\n",
              "<table border=\"1\" class=\"dataframe\">\n",
              "  <thead>\n",
              "    <tr style=\"text-align: right;\">\n",
              "      <th></th>\n",
              "      <th>age</th>\n",
              "      <th>job</th>\n",
              "      <th>marital status</th>\n",
              "      <th>education</th>\n",
              "      <th>credit default</th>\n",
              "      <th>housing loan</th>\n",
              "      <th>personal loan</th>\n",
              "      <th>y</th>\n",
              "    </tr>\n",
              "  </thead>\n",
              "  <tbody>\n",
              "    <tr>\n",
              "      <th>80</th>\n",
              "      <td>27</td>\n",
              "      <td>admin.</td>\n",
              "      <td>divorced</td>\n",
              "      <td>secondary</td>\n",
              "      <td>no</td>\n",
              "      <td>yes</td>\n",
              "      <td>no</td>\n",
              "      <td>yes</td>\n",
              "    </tr>\n",
              "    <tr>\n",
              "      <th>92</th>\n",
              "      <td>27</td>\n",
              "      <td>services</td>\n",
              "      <td>single</td>\n",
              "      <td>secondary</td>\n",
              "      <td>no</td>\n",
              "      <td>yes</td>\n",
              "      <td>no</td>\n",
              "      <td>yes</td>\n",
              "    </tr>\n",
              "    <tr>\n",
              "      <th>109</th>\n",
              "      <td>27</td>\n",
              "      <td>housemaid</td>\n",
              "      <td>married</td>\n",
              "      <td>primary</td>\n",
              "      <td>no</td>\n",
              "      <td>NaN</td>\n",
              "      <td>NaN</td>\n",
              "      <td>no</td>\n",
              "    </tr>\n",
              "    <tr>\n",
              "      <th>134</th>\n",
              "      <td>27</td>\n",
              "      <td>technician</td>\n",
              "      <td>single</td>\n",
              "      <td>secondary</td>\n",
              "      <td>no</td>\n",
              "      <td>yes</td>\n",
              "      <td>no</td>\n",
              "      <td>no</td>\n",
              "    </tr>\n",
              "    <tr>\n",
              "      <th>158</th>\n",
              "      <td>27</td>\n",
              "      <td>self-employed</td>\n",
              "      <td>single</td>\n",
              "      <td>secondary</td>\n",
              "      <td>no</td>\n",
              "      <td>no</td>\n",
              "      <td>no</td>\n",
              "      <td>no</td>\n",
              "    </tr>\n",
              "  </tbody>\n",
              "</table>\n",
              "</div>"
            ],
            "text/plain": [
              "     age            job marital status  ... housing loan personal loan    y\n",
              "80    27         admin.       divorced  ...          yes            no  yes\n",
              "92    27       services         single  ...          yes            no  yes\n",
              "109   27      housemaid        married  ...          NaN           NaN   no\n",
              "134   27     technician         single  ...          yes            no   no\n",
              "158   27  self-employed         single  ...           no            no   no\n",
              "\n",
              "[5 rows x 8 columns]"
            ]
          },
          "metadata": {
            "tags": []
          },
          "execution_count": 30
        }
      ]
    },
    {
      "cell_type": "markdown",
      "metadata": {
        "id": "_KU9qE2B7uiX",
        "colab_type": "text"
      },
      "source": [
        "as we have many samples, lets add another condition that do we have housemaid more than one that is apart the one which has missing value"
      ]
    },
    {
      "cell_type": "code",
      "metadata": {
        "id": "prkj1Imz8BGB",
        "colab_type": "code",
        "outputId": "8ae7c385-3e39-4593-c6ab-92e747a2b462",
        "colab": {
          "base_uri": "https://localhost:8080/",
          "height": 47
        }
      },
      "source": [
        "data[(data['age']==27) & (data['job']=='housemaid') & (data['housing loan'].isnull()==False)]"
      ],
      "execution_count": 31,
      "outputs": [
        {
          "output_type": "execute_result",
          "data": {
            "text/html": [
              "<div>\n",
              "<style scoped>\n",
              "    .dataframe tbody tr th:only-of-type {\n",
              "        vertical-align: middle;\n",
              "    }\n",
              "\n",
              "    .dataframe tbody tr th {\n",
              "        vertical-align: top;\n",
              "    }\n",
              "\n",
              "    .dataframe thead th {\n",
              "        text-align: right;\n",
              "    }\n",
              "</style>\n",
              "<table border=\"1\" class=\"dataframe\">\n",
              "  <thead>\n",
              "    <tr style=\"text-align: right;\">\n",
              "      <th></th>\n",
              "      <th>age</th>\n",
              "      <th>job</th>\n",
              "      <th>marital status</th>\n",
              "      <th>education</th>\n",
              "      <th>credit default</th>\n",
              "      <th>housing loan</th>\n",
              "      <th>personal loan</th>\n",
              "      <th>y</th>\n",
              "    </tr>\n",
              "  </thead>\n",
              "  <tbody>\n",
              "  </tbody>\n",
              "</table>\n",
              "</div>"
            ],
            "text/plain": [
              "Empty DataFrame\n",
              "Columns: [age, job, marital status, education, credit default, housing loan, personal loan, y]\n",
              "Index: []"
            ]
          },
          "metadata": {
            "tags": []
          },
          "execution_count": 31
        }
      ]
    },
    {
      "cell_type": "markdown",
      "metadata": {
        "id": "WDKehq4m8N-0",
        "colab_type": "text"
      },
      "source": [
        "As the data is not available, lets put a range to the age as 25-30 "
      ]
    },
    {
      "cell_type": "code",
      "metadata": {
        "id": "5vvcMera8ZmW",
        "colab_type": "code",
        "outputId": "166cdd18-c28f-4f7a-f011-37db7e02cf66",
        "colab": {
          "base_uri": "https://localhost:8080/",
          "height": 137
        }
      },
      "source": [
        "data[(data['age'] >= 25) & (data['age'] <= 30) & (data['job']=='housemaid') & (data['housing loan'].isnull()==False)]"
      ],
      "execution_count": 32,
      "outputs": [
        {
          "output_type": "execute_result",
          "data": {
            "text/html": [
              "<div>\n",
              "<style scoped>\n",
              "    .dataframe tbody tr th:only-of-type {\n",
              "        vertical-align: middle;\n",
              "    }\n",
              "\n",
              "    .dataframe tbody tr th {\n",
              "        vertical-align: top;\n",
              "    }\n",
              "\n",
              "    .dataframe thead th {\n",
              "        text-align: right;\n",
              "    }\n",
              "</style>\n",
              "<table border=\"1\" class=\"dataframe\">\n",
              "  <thead>\n",
              "    <tr style=\"text-align: right;\">\n",
              "      <th></th>\n",
              "      <th>age</th>\n",
              "      <th>job</th>\n",
              "      <th>marital status</th>\n",
              "      <th>education</th>\n",
              "      <th>credit default</th>\n",
              "      <th>housing loan</th>\n",
              "      <th>personal loan</th>\n",
              "      <th>y</th>\n",
              "    </tr>\n",
              "  </thead>\n",
              "  <tbody>\n",
              "    <tr>\n",
              "      <th>24</th>\n",
              "      <td>26</td>\n",
              "      <td>housemaid</td>\n",
              "      <td>married</td>\n",
              "      <td>tertiary</td>\n",
              "      <td>no</td>\n",
              "      <td>no</td>\n",
              "      <td>no</td>\n",
              "      <td>no</td>\n",
              "    </tr>\n",
              "    <tr>\n",
              "      <th>830</th>\n",
              "      <td>30</td>\n",
              "      <td>housemaid</td>\n",
              "      <td>single</td>\n",
              "      <td>tertiary</td>\n",
              "      <td>no</td>\n",
              "      <td>no</td>\n",
              "      <td>no</td>\n",
              "      <td>no</td>\n",
              "    </tr>\n",
              "    <tr>\n",
              "      <th>854</th>\n",
              "      <td>26</td>\n",
              "      <td>housemaid</td>\n",
              "      <td>married</td>\n",
              "      <td>secondary</td>\n",
              "      <td>no</td>\n",
              "      <td>yes</td>\n",
              "      <td>no</td>\n",
              "      <td>no</td>\n",
              "    </tr>\n",
              "  </tbody>\n",
              "</table>\n",
              "</div>"
            ],
            "text/plain": [
              "     age        job marital status  ... housing loan personal loan   y\n",
              "24    26  housemaid        married  ...           no            no  no\n",
              "830   30  housemaid         single  ...           no            no  no\n",
              "854   26  housemaid        married  ...          yes            no  no\n",
              "\n",
              "[3 rows x 8 columns]"
            ]
          },
          "metadata": {
            "tags": []
          },
          "execution_count": 32
        }
      ]
    },
    {
      "cell_type": "markdown",
      "metadata": {
        "id": "0EJYH1DVCT_k",
        "colab_type": "text"
      },
      "source": [
        "as the data is not giving clear idea to decide on the value, so lets try with other attributes"
      ]
    },
    {
      "cell_type": "code",
      "metadata": {
        "id": "0_MTIGxgCgnz",
        "colab_type": "code",
        "outputId": "12b3982f-6f03-430e-a867-20445b94a22e",
        "colab": {
          "base_uri": "https://localhost:8080/",
          "height": 167
        }
      },
      "source": [
        "data[(data['age'] >= 25) & (data['age'] <=30) &\n",
        "     (data['education']=='primary') & \n",
        "     (data['marital status']=='married') &\n",
        "     (data['credit default']=='no') &\n",
        "     (data['y']=='no') &\n",
        "     (data['housing loan'].isnull()==False)\n",
        "    ]"
      ],
      "execution_count": 33,
      "outputs": [
        {
          "output_type": "execute_result",
          "data": {
            "text/html": [
              "<div>\n",
              "<style scoped>\n",
              "    .dataframe tbody tr th:only-of-type {\n",
              "        vertical-align: middle;\n",
              "    }\n",
              "\n",
              "    .dataframe tbody tr th {\n",
              "        vertical-align: top;\n",
              "    }\n",
              "\n",
              "    .dataframe thead th {\n",
              "        text-align: right;\n",
              "    }\n",
              "</style>\n",
              "<table border=\"1\" class=\"dataframe\">\n",
              "  <thead>\n",
              "    <tr style=\"text-align: right;\">\n",
              "      <th></th>\n",
              "      <th>age</th>\n",
              "      <th>job</th>\n",
              "      <th>marital status</th>\n",
              "      <th>education</th>\n",
              "      <th>credit default</th>\n",
              "      <th>housing loan</th>\n",
              "      <th>personal loan</th>\n",
              "      <th>y</th>\n",
              "    </tr>\n",
              "  </thead>\n",
              "  <tbody>\n",
              "    <tr>\n",
              "      <th>0</th>\n",
              "      <td>30</td>\n",
              "      <td>unemployed</td>\n",
              "      <td>married</td>\n",
              "      <td>primary</td>\n",
              "      <td>no</td>\n",
              "      <td>no</td>\n",
              "      <td>no</td>\n",
              "      <td>no</td>\n",
              "    </tr>\n",
              "    <tr>\n",
              "      <th>47</th>\n",
              "      <td>26</td>\n",
              "      <td>blue-collar</td>\n",
              "      <td>married</td>\n",
              "      <td>primary</td>\n",
              "      <td>no</td>\n",
              "      <td>yes</td>\n",
              "      <td>no</td>\n",
              "      <td>no</td>\n",
              "    </tr>\n",
              "    <tr>\n",
              "      <th>315</th>\n",
              "      <td>30</td>\n",
              "      <td>blue-collar</td>\n",
              "      <td>married</td>\n",
              "      <td>primary</td>\n",
              "      <td>no</td>\n",
              "      <td>yes</td>\n",
              "      <td>no</td>\n",
              "      <td>no</td>\n",
              "    </tr>\n",
              "    <tr>\n",
              "      <th>972</th>\n",
              "      <td>29</td>\n",
              "      <td>blue-collar</td>\n",
              "      <td>married</td>\n",
              "      <td>primary</td>\n",
              "      <td>no</td>\n",
              "      <td>yes</td>\n",
              "      <td>no</td>\n",
              "      <td>no</td>\n",
              "    </tr>\n",
              "  </tbody>\n",
              "</table>\n",
              "</div>"
            ],
            "text/plain": [
              "     age          job marital status  ... housing loan personal loan   y\n",
              "0     30   unemployed        married  ...           no            no  no\n",
              "47    26  blue-collar        married  ...          yes            no  no\n",
              "315   30  blue-collar        married  ...          yes            no  no\n",
              "972   29  blue-collar        married  ...          yes            no  no\n",
              "\n",
              "[4 rows x 8 columns]"
            ]
          },
          "metadata": {
            "tags": []
          },
          "execution_count": 33
        }
      ]
    },
    {
      "cell_type": "code",
      "metadata": {
        "id": "jLk-EHOuDXlS",
        "colab_type": "code",
        "outputId": "e430a36e-3d61-4d97-f413-0a4b1e9b2c36",
        "colab": {
          "base_uri": "https://localhost:8080/",
          "height": 52
        }
      },
      "source": [
        "data[(data['age'] >= 25) & (data['age'] <=30) &\n",
        "     (data['education']=='primary') & \n",
        "     (data['marital status']=='married') &\n",
        "     (data['credit default']=='no') &\n",
        "     (data['y']=='no') &\n",
        "     (data['housing loan'].isnull()==False)\n",
        "    ]['housing loan'].mode()"
      ],
      "execution_count": 34,
      "outputs": [
        {
          "output_type": "execute_result",
          "data": {
            "text/plain": [
              "0    yes\n",
              "dtype: object"
            ]
          },
          "metadata": {
            "tags": []
          },
          "execution_count": 34
        }
      ]
    },
    {
      "cell_type": "markdown",
      "metadata": {
        "id": "kW_qukLjEIe4",
        "colab_type": "text"
      },
      "source": [
        "we got a value to impute, lets impute to the missing housing loan"
      ]
    },
    {
      "cell_type": "code",
      "metadata": {
        "id": "X5FC3CLTEPmw",
        "colab_type": "code",
        "colab": {}
      },
      "source": [
        "data.loc[(data['age']==27) &\n",
        "    (data['job']=='housemaid') &\n",
        "    (data['marital status']=='married') &\n",
        "    (data['education']=='primary') &\n",
        "    (data['credit default']=='no') &\n",
        "    (data['housing loan'].isnull()==True) &\n",
        "    (data['y']=='no'),'housing loan']= \\\n",
        "data[(data['age'] >= 25) & (data['age'] <=30) &\n",
        "     (data['education']=='primary') & \n",
        "     (data['marital status']=='married') &\n",
        "     (data['credit default']=='no') &\n",
        "     (data['y']=='no') &\n",
        "     (data['housing loan'].isnull()==False)\n",
        "    ]['housing loan'].mode()[0]"
      ],
      "execution_count": 0,
      "outputs": []
    },
    {
      "cell_type": "markdown",
      "metadata": {
        "id": "wrOrwfj7EgWh",
        "colab_type": "text"
      },
      "source": [
        "Lets analyse and impute the missing values for the remaining attributes"
      ]
    },
    {
      "cell_type": "code",
      "metadata": {
        "id": "qw_hi5PvEyw_",
        "colab_type": "code",
        "outputId": "91a89073-77dd-4b40-eef2-2c5ccf77966a",
        "colab": {
          "base_uri": "https://localhost:8080/",
          "height": 244
        }
      },
      "source": [
        "data.info()"
      ],
      "execution_count": 36,
      "outputs": [
        {
          "output_type": "stream",
          "text": [
            "<class 'pandas.core.frame.DataFrame'>\n",
            "RangeIndex: 1021 entries, 0 to 1020\n",
            "Data columns (total 8 columns):\n",
            "age               1021 non-null int64\n",
            "job               1021 non-null object\n",
            "marital status    1020 non-null object\n",
            "education         1020 non-null object\n",
            "credit default    1020 non-null object\n",
            "housing loan      1021 non-null object\n",
            "personal loan     1019 non-null object\n",
            "y                 1021 non-null object\n",
            "dtypes: int64(1), object(7)\n",
            "memory usage: 63.9+ KB\n"
          ],
          "name": "stdout"
        }
      ]
    },
    {
      "cell_type": "markdown",
      "metadata": {
        "id": "pY-Xgm6mE2HC",
        "colab_type": "text"
      },
      "source": [
        "now concentrate on the personal loan"
      ]
    },
    {
      "cell_type": "code",
      "metadata": {
        "id": "uiKwQl1rE4n7",
        "colab_type": "code",
        "outputId": "27505f48-d3f3-4898-c5dd-e783f87143a9",
        "colab": {
          "base_uri": "https://localhost:8080/",
          "height": 107
        }
      },
      "source": [
        "data[data['personal loan'].isnull()]"
      ],
      "execution_count": 37,
      "outputs": [
        {
          "output_type": "execute_result",
          "data": {
            "text/html": [
              "<div>\n",
              "<style scoped>\n",
              "    .dataframe tbody tr th:only-of-type {\n",
              "        vertical-align: middle;\n",
              "    }\n",
              "\n",
              "    .dataframe tbody tr th {\n",
              "        vertical-align: top;\n",
              "    }\n",
              "\n",
              "    .dataframe thead th {\n",
              "        text-align: right;\n",
              "    }\n",
              "</style>\n",
              "<table border=\"1\" class=\"dataframe\">\n",
              "  <thead>\n",
              "    <tr style=\"text-align: right;\">\n",
              "      <th></th>\n",
              "      <th>age</th>\n",
              "      <th>job</th>\n",
              "      <th>marital status</th>\n",
              "      <th>education</th>\n",
              "      <th>credit default</th>\n",
              "      <th>housing loan</th>\n",
              "      <th>personal loan</th>\n",
              "      <th>y</th>\n",
              "    </tr>\n",
              "  </thead>\n",
              "  <tbody>\n",
              "    <tr>\n",
              "      <th>109</th>\n",
              "      <td>27</td>\n",
              "      <td>housemaid</td>\n",
              "      <td>married</td>\n",
              "      <td>primary</td>\n",
              "      <td>no</td>\n",
              "      <td>yes</td>\n",
              "      <td>NaN</td>\n",
              "      <td>no</td>\n",
              "    </tr>\n",
              "    <tr>\n",
              "      <th>1000</th>\n",
              "      <td>38</td>\n",
              "      <td>admin.</td>\n",
              "      <td>married</td>\n",
              "      <td>secondary</td>\n",
              "      <td>no</td>\n",
              "      <td>yes</td>\n",
              "      <td>NaN</td>\n",
              "      <td>no</td>\n",
              "    </tr>\n",
              "  </tbody>\n",
              "</table>\n",
              "</div>"
            ],
            "text/plain": [
              "      age        job marital status  ... housing loan personal loan   y\n",
              "109    27  housemaid        married  ...          yes           NaN  no\n",
              "1000   38     admin.        married  ...          yes           NaN  no\n",
              "\n",
              "[2 rows x 8 columns]"
            ]
          },
          "metadata": {
            "tags": []
          },
          "execution_count": 37
        }
      ]
    },
    {
      "cell_type": "code",
      "metadata": {
        "id": "lHyvBJz_E-q-",
        "colab_type": "code",
        "outputId": "e1397e25-5a02-44aa-d104-8ad14dacf8db",
        "colab": {
          "base_uri": "https://localhost:8080/",
          "height": 52
        }
      },
      "source": [
        "data[(data['age'] >= 25) & (data['age'] <= 30) &\n",
        "     (data['marital status'] == 'married') &\n",
        "     (data['education']=='primary')&\n",
        "     (data['credit default']=='no') &\n",
        "     (data['housing loan']=='yes') &\n",
        "     (data['y']=='no') &\n",
        "     (data['personal loan'].isnull()==False)\n",
        "    ]['personal loan'].mode()"
      ],
      "execution_count": 38,
      "outputs": [
        {
          "output_type": "execute_result",
          "data": {
            "text/plain": [
              "0    no\n",
              "dtype: object"
            ]
          },
          "metadata": {
            "tags": []
          },
          "execution_count": 38
        }
      ]
    },
    {
      "cell_type": "code",
      "metadata": {
        "id": "0N41V2AxGAGx",
        "colab_type": "code",
        "outputId": "24bb7a55-07a7-42ee-f931-f8b6a65fb859",
        "colab": {
          "base_uri": "https://localhost:8080/",
          "height": 77
        }
      },
      "source": [
        "data[(data['age'] >= 25) & (data['age'] <= 30) &\n",
        "     (data['marital status'] == 'married') &\n",
        "     (data['education']=='primary')&\n",
        "     (data['credit default']=='no') &\n",
        "     (data['housing loan']=='yes') &\n",
        "     (data['y']=='no') &\n",
        "     (data['personal loan'].isnull())\n",
        "    ]"
      ],
      "execution_count": 39,
      "outputs": [
        {
          "output_type": "execute_result",
          "data": {
            "text/html": [
              "<div>\n",
              "<style scoped>\n",
              "    .dataframe tbody tr th:only-of-type {\n",
              "        vertical-align: middle;\n",
              "    }\n",
              "\n",
              "    .dataframe tbody tr th {\n",
              "        vertical-align: top;\n",
              "    }\n",
              "\n",
              "    .dataframe thead th {\n",
              "        text-align: right;\n",
              "    }\n",
              "</style>\n",
              "<table border=\"1\" class=\"dataframe\">\n",
              "  <thead>\n",
              "    <tr style=\"text-align: right;\">\n",
              "      <th></th>\n",
              "      <th>age</th>\n",
              "      <th>job</th>\n",
              "      <th>marital status</th>\n",
              "      <th>education</th>\n",
              "      <th>credit default</th>\n",
              "      <th>housing loan</th>\n",
              "      <th>personal loan</th>\n",
              "      <th>y</th>\n",
              "    </tr>\n",
              "  </thead>\n",
              "  <tbody>\n",
              "    <tr>\n",
              "      <th>109</th>\n",
              "      <td>27</td>\n",
              "      <td>housemaid</td>\n",
              "      <td>married</td>\n",
              "      <td>primary</td>\n",
              "      <td>no</td>\n",
              "      <td>yes</td>\n",
              "      <td>NaN</td>\n",
              "      <td>no</td>\n",
              "    </tr>\n",
              "  </tbody>\n",
              "</table>\n",
              "</div>"
            ],
            "text/plain": [
              "     age        job marital status  ... housing loan personal loan   y\n",
              "109   27  housemaid        married  ...          yes           NaN  no\n",
              "\n",
              "[1 rows x 8 columns]"
            ]
          },
          "metadata": {
            "tags": []
          },
          "execution_count": 39
        }
      ]
    },
    {
      "cell_type": "code",
      "metadata": {
        "id": "T26JjbBSF35i",
        "colab_type": "code",
        "colab": {}
      },
      "source": [
        "data.loc[(data['age'] == 27) &\n",
        "     (data['marital status'] == 'married') &\n",
        "     (data['education']=='primary')&\n",
        "     (data['credit default']=='no') &\n",
        "     (data['housing loan']=='yes') &\n",
        "     (data['y']=='no') &\n",
        "     (data['personal loan'].isnull())\n",
        "    ,'personal loan'] =\\\n",
        "data[(data['age'] >= 25) & (data['age'] <= 30) &\n",
        "     (data['marital status'] == 'married') &\n",
        "     (data['education']=='primary')&\n",
        "     (data['credit default']=='no') &\n",
        "     (data['housing loan']=='yes') &\n",
        "     (data['y']=='no') &\n",
        "     (data['personal loan'].isnull()==False)\n",
        "    ]['personal loan'].mode()[0]"
      ],
      "execution_count": 0,
      "outputs": []
    },
    {
      "cell_type": "code",
      "metadata": {
        "id": "vpUzCidYGMPq",
        "colab_type": "code",
        "outputId": "6274caa1-ec18-4826-8445-426f86c217c8",
        "colab": {
          "base_uri": "https://localhost:8080/",
          "height": 77
        }
      },
      "source": [
        "data[data['personal loan'].isnull()]"
      ],
      "execution_count": 41,
      "outputs": [
        {
          "output_type": "execute_result",
          "data": {
            "text/html": [
              "<div>\n",
              "<style scoped>\n",
              "    .dataframe tbody tr th:only-of-type {\n",
              "        vertical-align: middle;\n",
              "    }\n",
              "\n",
              "    .dataframe tbody tr th {\n",
              "        vertical-align: top;\n",
              "    }\n",
              "\n",
              "    .dataframe thead th {\n",
              "        text-align: right;\n",
              "    }\n",
              "</style>\n",
              "<table border=\"1\" class=\"dataframe\">\n",
              "  <thead>\n",
              "    <tr style=\"text-align: right;\">\n",
              "      <th></th>\n",
              "      <th>age</th>\n",
              "      <th>job</th>\n",
              "      <th>marital status</th>\n",
              "      <th>education</th>\n",
              "      <th>credit default</th>\n",
              "      <th>housing loan</th>\n",
              "      <th>personal loan</th>\n",
              "      <th>y</th>\n",
              "    </tr>\n",
              "  </thead>\n",
              "  <tbody>\n",
              "    <tr>\n",
              "      <th>1000</th>\n",
              "      <td>38</td>\n",
              "      <td>admin.</td>\n",
              "      <td>married</td>\n",
              "      <td>secondary</td>\n",
              "      <td>no</td>\n",
              "      <td>yes</td>\n",
              "      <td>NaN</td>\n",
              "      <td>no</td>\n",
              "    </tr>\n",
              "  </tbody>\n",
              "</table>\n",
              "</div>"
            ],
            "text/plain": [
              "      age     job marital status  ... housing loan personal loan   y\n",
              "1000   38  admin.        married  ...          yes           NaN  no\n",
              "\n",
              "[1 rows x 8 columns]"
            ]
          },
          "metadata": {
            "tags": []
          },
          "execution_count": 41
        }
      ]
    },
    {
      "cell_type": "markdown",
      "metadata": {
        "id": "VzjHOYMuGSnP",
        "colab_type": "text"
      },
      "source": [
        "As one of the value is imputed with the mode, lets look for the above remaining one"
      ]
    },
    {
      "cell_type": "code",
      "metadata": {
        "id": "M7Zj0G3HGb7g",
        "colab_type": "code",
        "outputId": "616d88c3-a618-43ef-c196-3a24e76db504",
        "colab": {
          "base_uri": "https://localhost:8080/",
          "height": 77
        }
      },
      "source": [
        "data[(data['age'] ==38)&\n",
        "     (data['job']=='admin.') &\n",
        "     (data['marital status'] == 'married') &\n",
        "     (data['education']=='secondary')&\n",
        "     (data['credit default']=='no') &\n",
        "     (data['housing loan']=='yes') &\n",
        "     (data['y']=='no') &\n",
        "     (data['personal loan'].isnull()==False)\n",
        "    ]"
      ],
      "execution_count": 42,
      "outputs": [
        {
          "output_type": "execute_result",
          "data": {
            "text/html": [
              "<div>\n",
              "<style scoped>\n",
              "    .dataframe tbody tr th:only-of-type {\n",
              "        vertical-align: middle;\n",
              "    }\n",
              "\n",
              "    .dataframe tbody tr th {\n",
              "        vertical-align: top;\n",
              "    }\n",
              "\n",
              "    .dataframe thead th {\n",
              "        text-align: right;\n",
              "    }\n",
              "</style>\n",
              "<table border=\"1\" class=\"dataframe\">\n",
              "  <thead>\n",
              "    <tr style=\"text-align: right;\">\n",
              "      <th></th>\n",
              "      <th>age</th>\n",
              "      <th>job</th>\n",
              "      <th>marital status</th>\n",
              "      <th>education</th>\n",
              "      <th>credit default</th>\n",
              "      <th>housing loan</th>\n",
              "      <th>personal loan</th>\n",
              "      <th>y</th>\n",
              "    </tr>\n",
              "  </thead>\n",
              "  <tbody>\n",
              "    <tr>\n",
              "      <th>88</th>\n",
              "      <td>38</td>\n",
              "      <td>admin.</td>\n",
              "      <td>married</td>\n",
              "      <td>secondary</td>\n",
              "      <td>no</td>\n",
              "      <td>yes</td>\n",
              "      <td>no</td>\n",
              "      <td>no</td>\n",
              "    </tr>\n",
              "  </tbody>\n",
              "</table>\n",
              "</div>"
            ],
            "text/plain": [
              "    age     job marital status  ... housing loan personal loan   y\n",
              "88   38  admin.        married  ...          yes            no  no\n",
              "\n",
              "[1 rows x 8 columns]"
            ]
          },
          "metadata": {
            "tags": []
          },
          "execution_count": 42
        }
      ]
    },
    {
      "cell_type": "markdown",
      "metadata": {
        "id": "B87X1aEoHHHE",
        "colab_type": "text"
      },
      "source": [
        "as we have data with similar values,now impute and remove the duplicates from overall data"
      ]
    },
    {
      "cell_type": "code",
      "metadata": {
        "id": "yQ9ZpkxaHU3u",
        "colab_type": "code",
        "colab": {}
      },
      "source": [
        "data.loc[(data['age'] ==38)&\n",
        "     (data['job']=='admin.') &\n",
        "     (data['marital status'] == 'married') &\n",
        "     (data['education']=='secondary')&\n",
        "     (data['credit default']=='no') &\n",
        "     (data['housing loan']=='yes') &\n",
        "     (data['y']=='no') &\n",
        "     (data['personal loan'].isnull()==True)\n",
        "    ,'personal loan'] = \\\n",
        "data[(data['age'] ==38)&\n",
        "     (data['job']=='admin.') &\n",
        "     (data['marital status'] == 'married') &\n",
        "     (data['education']=='secondary')&\n",
        "     (data['credit default']=='no') &\n",
        "     (data['housing loan']=='yes') &\n",
        "     (data['y']=='no') &\n",
        "     (data['personal loan'].isnull()==False)\n",
        "    ]['personal loan'].mode()[0]"
      ],
      "execution_count": 0,
      "outputs": []
    },
    {
      "cell_type": "code",
      "metadata": {
        "id": "ISXOdzoBHi40",
        "colab_type": "code",
        "outputId": "e474f28c-9c7e-4ab9-e589-93c16d80294b",
        "colab": {
          "base_uri": "https://localhost:8080/",
          "height": 244
        }
      },
      "source": [
        "data.info()"
      ],
      "execution_count": 44,
      "outputs": [
        {
          "output_type": "stream",
          "text": [
            "<class 'pandas.core.frame.DataFrame'>\n",
            "RangeIndex: 1021 entries, 0 to 1020\n",
            "Data columns (total 8 columns):\n",
            "age               1021 non-null int64\n",
            "job               1021 non-null object\n",
            "marital status    1020 non-null object\n",
            "education         1020 non-null object\n",
            "credit default    1020 non-null object\n",
            "housing loan      1021 non-null object\n",
            "personal loan     1021 non-null object\n",
            "y                 1021 non-null object\n",
            "dtypes: int64(1), object(7)\n",
            "memory usage: 63.9+ KB\n"
          ],
          "name": "stdout"
        }
      ]
    },
    {
      "cell_type": "markdown",
      "metadata": {
        "id": "7Ag0J9JLHqXe",
        "colab_type": "text"
      },
      "source": [
        "As the two missing values are filled lets move our focus to the one missing values"
      ]
    },
    {
      "cell_type": "code",
      "metadata": {
        "id": "_gInQIAHHxUF",
        "colab_type": "code",
        "outputId": "77602b29-9aa8-4491-fe50-2af957f7c061",
        "colab": {
          "base_uri": "https://localhost:8080/",
          "height": 77
        }
      },
      "source": [
        "data[data['marital status'].isnull()]"
      ],
      "execution_count": 45,
      "outputs": [
        {
          "output_type": "execute_result",
          "data": {
            "text/html": [
              "<div>\n",
              "<style scoped>\n",
              "    .dataframe tbody tr th:only-of-type {\n",
              "        vertical-align: middle;\n",
              "    }\n",
              "\n",
              "    .dataframe tbody tr th {\n",
              "        vertical-align: top;\n",
              "    }\n",
              "\n",
              "    .dataframe thead th {\n",
              "        text-align: right;\n",
              "    }\n",
              "</style>\n",
              "<table border=\"1\" class=\"dataframe\">\n",
              "  <thead>\n",
              "    <tr style=\"text-align: right;\">\n",
              "      <th></th>\n",
              "      <th>age</th>\n",
              "      <th>job</th>\n",
              "      <th>marital status</th>\n",
              "      <th>education</th>\n",
              "      <th>credit default</th>\n",
              "      <th>housing loan</th>\n",
              "      <th>personal loan</th>\n",
              "      <th>y</th>\n",
              "    </tr>\n",
              "  </thead>\n",
              "  <tbody>\n",
              "    <tr>\n",
              "      <th>108</th>\n",
              "      <td>56</td>\n",
              "      <td>unemployed</td>\n",
              "      <td>NaN</td>\n",
              "      <td>primary</td>\n",
              "      <td>no</td>\n",
              "      <td>no</td>\n",
              "      <td>no</td>\n",
              "      <td>yes</td>\n",
              "    </tr>\n",
              "  </tbody>\n",
              "</table>\n",
              "</div>"
            ],
            "text/plain": [
              "     age         job marital status  ... housing loan personal loan    y\n",
              "108   56  unemployed            NaN  ...           no            no  yes\n",
              "\n",
              "[1 rows x 8 columns]"
            ]
          },
          "metadata": {
            "tags": []
          },
          "execution_count": 45
        }
      ]
    },
    {
      "cell_type": "code",
      "metadata": {
        "id": "ulCtDo65Inxe",
        "colab_type": "code",
        "outputId": "bea6e6d3-0b49-4deb-feb4-d9d732d95bf6",
        "colab": {
          "base_uri": "https://localhost:8080/",
          "height": 77
        }
      },
      "source": [
        "data[(data['age']==56) &\n",
        "     (data['job']=='unemployed') &\n",
        "     (data['y']=='yes')\n",
        "    ]"
      ],
      "execution_count": 46,
      "outputs": [
        {
          "output_type": "execute_result",
          "data": {
            "text/html": [
              "<div>\n",
              "<style scoped>\n",
              "    .dataframe tbody tr th:only-of-type {\n",
              "        vertical-align: middle;\n",
              "    }\n",
              "\n",
              "    .dataframe tbody tr th {\n",
              "        vertical-align: top;\n",
              "    }\n",
              "\n",
              "    .dataframe thead th {\n",
              "        text-align: right;\n",
              "    }\n",
              "</style>\n",
              "<table border=\"1\" class=\"dataframe\">\n",
              "  <thead>\n",
              "    <tr style=\"text-align: right;\">\n",
              "      <th></th>\n",
              "      <th>age</th>\n",
              "      <th>job</th>\n",
              "      <th>marital status</th>\n",
              "      <th>education</th>\n",
              "      <th>credit default</th>\n",
              "      <th>housing loan</th>\n",
              "      <th>personal loan</th>\n",
              "      <th>y</th>\n",
              "    </tr>\n",
              "  </thead>\n",
              "  <tbody>\n",
              "    <tr>\n",
              "      <th>108</th>\n",
              "      <td>56</td>\n",
              "      <td>unemployed</td>\n",
              "      <td>NaN</td>\n",
              "      <td>primary</td>\n",
              "      <td>no</td>\n",
              "      <td>no</td>\n",
              "      <td>no</td>\n",
              "      <td>yes</td>\n",
              "    </tr>\n",
              "  </tbody>\n",
              "</table>\n",
              "</div>"
            ],
            "text/plain": [
              "     age         job marital status  ... housing loan personal loan    y\n",
              "108   56  unemployed            NaN  ...           no            no  yes\n",
              "\n",
              "[1 rows x 8 columns]"
            ]
          },
          "metadata": {
            "tags": []
          },
          "execution_count": 46
        }
      ]
    },
    {
      "cell_type": "code",
      "metadata": {
        "id": "ZERSuoEAH5Ho",
        "colab_type": "code",
        "outputId": "42ca3709-a557-446b-fc9d-13900678f429",
        "colab": {
          "base_uri": "https://localhost:8080/",
          "height": 77
        }
      },
      "source": [
        "data[(data['age'] >= 55) & (data['age'] <= 60) &\n",
        "     (data['job']=='unemployed') &\n",
        "     (data['y']=='yes')\n",
        "    ]"
      ],
      "execution_count": 47,
      "outputs": [
        {
          "output_type": "execute_result",
          "data": {
            "text/html": [
              "<div>\n",
              "<style scoped>\n",
              "    .dataframe tbody tr th:only-of-type {\n",
              "        vertical-align: middle;\n",
              "    }\n",
              "\n",
              "    .dataframe tbody tr th {\n",
              "        vertical-align: top;\n",
              "    }\n",
              "\n",
              "    .dataframe thead th {\n",
              "        text-align: right;\n",
              "    }\n",
              "</style>\n",
              "<table border=\"1\" class=\"dataframe\">\n",
              "  <thead>\n",
              "    <tr style=\"text-align: right;\">\n",
              "      <th></th>\n",
              "      <th>age</th>\n",
              "      <th>job</th>\n",
              "      <th>marital status</th>\n",
              "      <th>education</th>\n",
              "      <th>credit default</th>\n",
              "      <th>housing loan</th>\n",
              "      <th>personal loan</th>\n",
              "      <th>y</th>\n",
              "    </tr>\n",
              "  </thead>\n",
              "  <tbody>\n",
              "    <tr>\n",
              "      <th>108</th>\n",
              "      <td>56</td>\n",
              "      <td>unemployed</td>\n",
              "      <td>NaN</td>\n",
              "      <td>primary</td>\n",
              "      <td>no</td>\n",
              "      <td>no</td>\n",
              "      <td>no</td>\n",
              "      <td>yes</td>\n",
              "    </tr>\n",
              "  </tbody>\n",
              "</table>\n",
              "</div>"
            ],
            "text/plain": [
              "     age         job marital status  ... housing loan personal loan    y\n",
              "108   56  unemployed            NaN  ...           no            no  yes\n",
              "\n",
              "[1 rows x 8 columns]"
            ]
          },
          "metadata": {
            "tags": []
          },
          "execution_count": 47
        }
      ]
    },
    {
      "cell_type": "code",
      "metadata": {
        "id": "pUVgq3rJEz0e",
        "colab_type": "code",
        "outputId": "69782f03-fe66-4397-b800-fa8fd92c05af",
        "colab": {
          "base_uri": "https://localhost:8080/",
          "height": 34
        }
      },
      "source": [
        "data[(data['job']=='unemployed') &\n",
        "     (data['credit default']=='no') &\n",
        "     (data['housing loan']=='no') &\n",
        "     (data['personal loan']=='no') &\n",
        "     (data['y']=='yes') &\n",
        "     (data['marital status'].isnull()== False)\n",
        "    ]['marital status'].mode()[0]"
      ],
      "execution_count": 48,
      "outputs": [
        {
          "output_type": "execute_result",
          "data": {
            "text/plain": [
              "'married'"
            ]
          },
          "metadata": {
            "tags": []
          },
          "execution_count": 48
        }
      ]
    },
    {
      "cell_type": "markdown",
      "metadata": {
        "id": "dgE0VbvLLto1",
        "colab_type": "text"
      },
      "source": [
        "lets impute this nearest value"
      ]
    },
    {
      "cell_type": "code",
      "metadata": {
        "id": "WFVrKajmL0JF",
        "colab_type": "code",
        "colab": {}
      },
      "source": [
        "data.loc[(data['age']==56) &\n",
        "     (data['job']=='unemployed')&\n",
        "     (data['education']=='primary')&\n",
        "     (data['credit default']=='no') &\n",
        "     (data['housing loan']=='no') &\n",
        "     (data['personal loan']=='no') &\n",
        "     (data['y']=='yes') &\n",
        "     (data['marital status'].isnull())\n",
        "    ,'marital status'] =\\\n",
        "data[(data['job']=='unemployed') &\n",
        "     (data['credit default']=='no') &\n",
        "     (data['housing loan']=='no') &\n",
        "     (data['personal loan']=='no') &\n",
        "     (data['y']=='yes') &\n",
        "     (data['marital status'].isnull()== False)\n",
        "    ]['marital status'].mode()[0]"
      ],
      "execution_count": 0,
      "outputs": []
    },
    {
      "cell_type": "code",
      "metadata": {
        "id": "q2V4017vMRcv",
        "colab_type": "code",
        "outputId": "90c20294-9bc7-42ca-f14f-786992001db6",
        "colab": {
          "base_uri": "https://localhost:8080/",
          "height": 244
        }
      },
      "source": [
        "data.info()"
      ],
      "execution_count": 50,
      "outputs": [
        {
          "output_type": "stream",
          "text": [
            "<class 'pandas.core.frame.DataFrame'>\n",
            "RangeIndex: 1021 entries, 0 to 1020\n",
            "Data columns (total 8 columns):\n",
            "age               1021 non-null int64\n",
            "job               1021 non-null object\n",
            "marital status    1021 non-null object\n",
            "education         1020 non-null object\n",
            "credit default    1020 non-null object\n",
            "housing loan      1021 non-null object\n",
            "personal loan     1021 non-null object\n",
            "y                 1021 non-null object\n",
            "dtypes: int64(1), object(7)\n",
            "memory usage: 63.9+ KB\n"
          ],
          "name": "stdout"
        }
      ]
    },
    {
      "cell_type": "markdown",
      "metadata": {
        "id": "XTfe7HOKMW1x",
        "colab_type": "text"
      },
      "source": [
        "lets fill the missing value of the education"
      ]
    },
    {
      "cell_type": "code",
      "metadata": {
        "id": "WIm7nXzXMaeP",
        "colab_type": "code",
        "outputId": "e9b87fbe-4203-4c3e-db98-38ebd6b89111",
        "colab": {
          "base_uri": "https://localhost:8080/",
          "height": 77
        }
      },
      "source": [
        "data[data['education'].isnull()]"
      ],
      "execution_count": 51,
      "outputs": [
        {
          "output_type": "execute_result",
          "data": {
            "text/html": [
              "<div>\n",
              "<style scoped>\n",
              "    .dataframe tbody tr th:only-of-type {\n",
              "        vertical-align: middle;\n",
              "    }\n",
              "\n",
              "    .dataframe tbody tr th {\n",
              "        vertical-align: top;\n",
              "    }\n",
              "\n",
              "    .dataframe thead th {\n",
              "        text-align: right;\n",
              "    }\n",
              "</style>\n",
              "<table border=\"1\" class=\"dataframe\">\n",
              "  <thead>\n",
              "    <tr style=\"text-align: right;\">\n",
              "      <th></th>\n",
              "      <th>age</th>\n",
              "      <th>job</th>\n",
              "      <th>marital status</th>\n",
              "      <th>education</th>\n",
              "      <th>credit default</th>\n",
              "      <th>housing loan</th>\n",
              "      <th>personal loan</th>\n",
              "      <th>y</th>\n",
              "    </tr>\n",
              "  </thead>\n",
              "  <tbody>\n",
              "    <tr>\n",
              "      <th>97</th>\n",
              "      <td>30</td>\n",
              "      <td>admin.</td>\n",
              "      <td>single</td>\n",
              "      <td>NaN</td>\n",
              "      <td>no</td>\n",
              "      <td>no</td>\n",
              "      <td>no</td>\n",
              "      <td>no</td>\n",
              "    </tr>\n",
              "  </tbody>\n",
              "</table>\n",
              "</div>"
            ],
            "text/plain": [
              "    age     job marital status  ... housing loan personal loan   y\n",
              "97   30  admin.         single  ...           no            no  no\n",
              "\n",
              "[1 rows x 8 columns]"
            ]
          },
          "metadata": {
            "tags": []
          },
          "execution_count": 51
        }
      ]
    },
    {
      "cell_type": "code",
      "metadata": {
        "id": "NliX36wTMTmt",
        "colab_type": "code",
        "outputId": "f7d75fd7-a6eb-4f5f-c8ed-2faed3941bdb",
        "colab": {
          "base_uri": "https://localhost:8080/",
          "height": 137
        }
      },
      "source": [
        "data[(data['age']==30) &\n",
        "     (data['job']=='admin.')\n",
        "    ]"
      ],
      "execution_count": 52,
      "outputs": [
        {
          "output_type": "execute_result",
          "data": {
            "text/html": [
              "<div>\n",
              "<style scoped>\n",
              "    .dataframe tbody tr th:only-of-type {\n",
              "        vertical-align: middle;\n",
              "    }\n",
              "\n",
              "    .dataframe tbody tr th {\n",
              "        vertical-align: top;\n",
              "    }\n",
              "\n",
              "    .dataframe thead th {\n",
              "        text-align: right;\n",
              "    }\n",
              "</style>\n",
              "<table border=\"1\" class=\"dataframe\">\n",
              "  <thead>\n",
              "    <tr style=\"text-align: right;\">\n",
              "      <th></th>\n",
              "      <th>age</th>\n",
              "      <th>job</th>\n",
              "      <th>marital status</th>\n",
              "      <th>education</th>\n",
              "      <th>credit default</th>\n",
              "      <th>housing loan</th>\n",
              "      <th>personal loan</th>\n",
              "      <th>y</th>\n",
              "    </tr>\n",
              "  </thead>\n",
              "  <tbody>\n",
              "    <tr>\n",
              "      <th>97</th>\n",
              "      <td>30</td>\n",
              "      <td>admin.</td>\n",
              "      <td>single</td>\n",
              "      <td>NaN</td>\n",
              "      <td>no</td>\n",
              "      <td>no</td>\n",
              "      <td>no</td>\n",
              "      <td>no</td>\n",
              "    </tr>\n",
              "    <tr>\n",
              "      <th>441</th>\n",
              "      <td>30</td>\n",
              "      <td>admin.</td>\n",
              "      <td>single</td>\n",
              "      <td>secondary</td>\n",
              "      <td>no</td>\n",
              "      <td>yes</td>\n",
              "      <td>no</td>\n",
              "      <td>no</td>\n",
              "    </tr>\n",
              "    <tr>\n",
              "      <th>647</th>\n",
              "      <td>30</td>\n",
              "      <td>admin.</td>\n",
              "      <td>married</td>\n",
              "      <td>tertiary</td>\n",
              "      <td>no</td>\n",
              "      <td>yes</td>\n",
              "      <td>no</td>\n",
              "      <td>no</td>\n",
              "    </tr>\n",
              "  </tbody>\n",
              "</table>\n",
              "</div>"
            ],
            "text/plain": [
              "     age     job marital status  ... housing loan personal loan   y\n",
              "97    30  admin.         single  ...           no            no  no\n",
              "441   30  admin.         single  ...          yes            no  no\n",
              "647   30  admin.        married  ...          yes            no  no\n",
              "\n",
              "[3 rows x 8 columns]"
            ]
          },
          "metadata": {
            "tags": []
          },
          "execution_count": 52
        }
      ]
    },
    {
      "cell_type": "code",
      "metadata": {
        "id": "YzvwobzKLyyH",
        "colab_type": "code",
        "outputId": "5cf7d3c3-14b7-4fe9-b1e7-15f4e18ab20c",
        "colab": {
          "base_uri": "https://localhost:8080/",
          "height": 317
        }
      },
      "source": [
        "data[(data['age']==30) &\n",
        "     (data['marital status']=='single') &\n",
        "     (data['credit default']=='no') &\n",
        "     (data['housing loan']=='no') &\n",
        "     (data['personal loan']=='no') &\n",
        "     (data['y']=='no') &\n",
        "     (data['education'].isnull()==False) \n",
        "    ]"
      ],
      "execution_count": 53,
      "outputs": [
        {
          "output_type": "execute_result",
          "data": {
            "text/html": [
              "<div>\n",
              "<style scoped>\n",
              "    .dataframe tbody tr th:only-of-type {\n",
              "        vertical-align: middle;\n",
              "    }\n",
              "\n",
              "    .dataframe tbody tr th {\n",
              "        vertical-align: top;\n",
              "    }\n",
              "\n",
              "    .dataframe thead th {\n",
              "        text-align: right;\n",
              "    }\n",
              "</style>\n",
              "<table border=\"1\" class=\"dataframe\">\n",
              "  <thead>\n",
              "    <tr style=\"text-align: right;\">\n",
              "      <th></th>\n",
              "      <th>age</th>\n",
              "      <th>job</th>\n",
              "      <th>marital status</th>\n",
              "      <th>education</th>\n",
              "      <th>credit default</th>\n",
              "      <th>housing loan</th>\n",
              "      <th>personal loan</th>\n",
              "      <th>y</th>\n",
              "    </tr>\n",
              "  </thead>\n",
              "  <tbody>\n",
              "    <tr>\n",
              "      <th>192</th>\n",
              "      <td>30</td>\n",
              "      <td>management</td>\n",
              "      <td>single</td>\n",
              "      <td>tertiary</td>\n",
              "      <td>no</td>\n",
              "      <td>no</td>\n",
              "      <td>no</td>\n",
              "      <td>no</td>\n",
              "    </tr>\n",
              "    <tr>\n",
              "      <th>234</th>\n",
              "      <td>30</td>\n",
              "      <td>student</td>\n",
              "      <td>single</td>\n",
              "      <td>secondary</td>\n",
              "      <td>no</td>\n",
              "      <td>no</td>\n",
              "      <td>no</td>\n",
              "      <td>no</td>\n",
              "    </tr>\n",
              "    <tr>\n",
              "      <th>621</th>\n",
              "      <td>30</td>\n",
              "      <td>unknown</td>\n",
              "      <td>single</td>\n",
              "      <td>tertiary</td>\n",
              "      <td>no</td>\n",
              "      <td>no</td>\n",
              "      <td>no</td>\n",
              "      <td>no</td>\n",
              "    </tr>\n",
              "    <tr>\n",
              "      <th>669</th>\n",
              "      <td>30</td>\n",
              "      <td>technician</td>\n",
              "      <td>single</td>\n",
              "      <td>secondary</td>\n",
              "      <td>no</td>\n",
              "      <td>no</td>\n",
              "      <td>no</td>\n",
              "      <td>no</td>\n",
              "    </tr>\n",
              "    <tr>\n",
              "      <th>703</th>\n",
              "      <td>30</td>\n",
              "      <td>blue-collar</td>\n",
              "      <td>single</td>\n",
              "      <td>secondary</td>\n",
              "      <td>no</td>\n",
              "      <td>no</td>\n",
              "      <td>no</td>\n",
              "      <td>no</td>\n",
              "    </tr>\n",
              "    <tr>\n",
              "      <th>791</th>\n",
              "      <td>30</td>\n",
              "      <td>entrepreneur</td>\n",
              "      <td>single</td>\n",
              "      <td>secondary</td>\n",
              "      <td>no</td>\n",
              "      <td>no</td>\n",
              "      <td>no</td>\n",
              "      <td>no</td>\n",
              "    </tr>\n",
              "    <tr>\n",
              "      <th>830</th>\n",
              "      <td>30</td>\n",
              "      <td>housemaid</td>\n",
              "      <td>single</td>\n",
              "      <td>tertiary</td>\n",
              "      <td>no</td>\n",
              "      <td>no</td>\n",
              "      <td>no</td>\n",
              "      <td>no</td>\n",
              "    </tr>\n",
              "    <tr>\n",
              "      <th>876</th>\n",
              "      <td>30</td>\n",
              "      <td>technician</td>\n",
              "      <td>single</td>\n",
              "      <td>tertiary</td>\n",
              "      <td>no</td>\n",
              "      <td>no</td>\n",
              "      <td>no</td>\n",
              "      <td>no</td>\n",
              "    </tr>\n",
              "    <tr>\n",
              "      <th>996</th>\n",
              "      <td>30</td>\n",
              "      <td>blue-collar</td>\n",
              "      <td>single</td>\n",
              "      <td>secondary</td>\n",
              "      <td>no</td>\n",
              "      <td>no</td>\n",
              "      <td>no</td>\n",
              "      <td>no</td>\n",
              "    </tr>\n",
              "  </tbody>\n",
              "</table>\n",
              "</div>"
            ],
            "text/plain": [
              "     age           job marital status  ... housing loan personal loan   y\n",
              "192   30    management         single  ...           no            no  no\n",
              "234   30       student         single  ...           no            no  no\n",
              "621   30       unknown         single  ...           no            no  no\n",
              "669   30    technician         single  ...           no            no  no\n",
              "703   30   blue-collar         single  ...           no            no  no\n",
              "791   30  entrepreneur         single  ...           no            no  no\n",
              "830   30     housemaid         single  ...           no            no  no\n",
              "876   30    technician         single  ...           no            no  no\n",
              "996   30   blue-collar         single  ...           no            no  no\n",
              "\n",
              "[9 rows x 8 columns]"
            ]
          },
          "metadata": {
            "tags": []
          },
          "execution_count": 53
        }
      ]
    },
    {
      "cell_type": "markdown",
      "metadata": {
        "id": "jBjkZuqjNe2B",
        "colab_type": "text"
      },
      "source": [
        "lets impute this broad scope common value to missing value of education"
      ]
    },
    {
      "cell_type": "code",
      "metadata": {
        "id": "CndGc6RFNVzz",
        "colab_type": "code",
        "outputId": "a5e7af5f-a426-4381-c569-0fd857653acb",
        "colab": {
          "base_uri": "https://localhost:8080/",
          "height": 77
        }
      },
      "source": [
        "data[(data['age']==30) &\n",
        "     (data['job']=='admin.') &\n",
        "     (data['marital status']=='single') &\n",
        "     (data['credit default']=='no') &\n",
        "     (data['housing loan']=='no') &\n",
        "     (data['personal loan']=='no') &\n",
        "     (data['y']=='no') &\n",
        "     (data['education'].isnull()) \n",
        "    ]"
      ],
      "execution_count": 54,
      "outputs": [
        {
          "output_type": "execute_result",
          "data": {
            "text/html": [
              "<div>\n",
              "<style scoped>\n",
              "    .dataframe tbody tr th:only-of-type {\n",
              "        vertical-align: middle;\n",
              "    }\n",
              "\n",
              "    .dataframe tbody tr th {\n",
              "        vertical-align: top;\n",
              "    }\n",
              "\n",
              "    .dataframe thead th {\n",
              "        text-align: right;\n",
              "    }\n",
              "</style>\n",
              "<table border=\"1\" class=\"dataframe\">\n",
              "  <thead>\n",
              "    <tr style=\"text-align: right;\">\n",
              "      <th></th>\n",
              "      <th>age</th>\n",
              "      <th>job</th>\n",
              "      <th>marital status</th>\n",
              "      <th>education</th>\n",
              "      <th>credit default</th>\n",
              "      <th>housing loan</th>\n",
              "      <th>personal loan</th>\n",
              "      <th>y</th>\n",
              "    </tr>\n",
              "  </thead>\n",
              "  <tbody>\n",
              "    <tr>\n",
              "      <th>97</th>\n",
              "      <td>30</td>\n",
              "      <td>admin.</td>\n",
              "      <td>single</td>\n",
              "      <td>NaN</td>\n",
              "      <td>no</td>\n",
              "      <td>no</td>\n",
              "      <td>no</td>\n",
              "      <td>no</td>\n",
              "    </tr>\n",
              "  </tbody>\n",
              "</table>\n",
              "</div>"
            ],
            "text/plain": [
              "    age     job marital status  ... housing loan personal loan   y\n",
              "97   30  admin.         single  ...           no            no  no\n",
              "\n",
              "[1 rows x 8 columns]"
            ]
          },
          "metadata": {
            "tags": []
          },
          "execution_count": 54
        }
      ]
    },
    {
      "cell_type": "code",
      "metadata": {
        "id": "urgGCcOHEdPt",
        "colab_type": "code",
        "colab": {}
      },
      "source": [
        "data.loc[(data['age']==30) &\n",
        "     (data['job']=='admin.') &\n",
        "     (data['marital status']=='single') &\n",
        "     (data['credit default']=='no') &\n",
        "     (data['housing loan']=='no') &\n",
        "     (data['personal loan']=='no') &\n",
        "     (data['y']=='no') &\n",
        "     (data['education'].isnull()),'education'\n",
        "    ]=\\\n",
        "data[(data['age']==30) &\n",
        "     (data['marital status']=='single') &\n",
        "     (data['credit default']=='no') &\n",
        "     (data['housing loan']=='no') &\n",
        "     (data['personal loan']=='no') &\n",
        "     (data['y']=='no') &\n",
        "     (data['education'].isnull()==False) \n",
        "    ]['education'].mode()[0]"
      ],
      "execution_count": 0,
      "outputs": []
    },
    {
      "cell_type": "code",
      "metadata": {
        "id": "icvw2AxkN3s8",
        "colab_type": "code",
        "outputId": "1f637c13-98e8-4973-f287-1491b37a7801",
        "colab": {
          "base_uri": "https://localhost:8080/",
          "height": 174
        }
      },
      "source": [
        "data.isnull().sum()"
      ],
      "execution_count": 56,
      "outputs": [
        {
          "output_type": "execute_result",
          "data": {
            "text/plain": [
              "age               0\n",
              "job               0\n",
              "marital status    0\n",
              "education         0\n",
              "credit default    1\n",
              "housing loan      0\n",
              "personal loan     0\n",
              "y                 0\n",
              "dtype: int64"
            ]
          },
          "metadata": {
            "tags": []
          },
          "execution_count": 56
        }
      ]
    },
    {
      "cell_type": "markdown",
      "metadata": {
        "id": "KYTLViXHN8YP",
        "colab_type": "text"
      },
      "source": [
        "Final missing value attribute is credit default"
      ]
    },
    {
      "cell_type": "code",
      "metadata": {
        "id": "jjEK47n8OBrO",
        "colab_type": "code",
        "outputId": "3cbd48b6-1ee4-429e-8135-7a50bfcd6a23",
        "colab": {
          "base_uri": "https://localhost:8080/",
          "height": 77
        }
      },
      "source": [
        "data[data['credit default'].isnull()]"
      ],
      "execution_count": 57,
      "outputs": [
        {
          "output_type": "execute_result",
          "data": {
            "text/html": [
              "<div>\n",
              "<style scoped>\n",
              "    .dataframe tbody tr th:only-of-type {\n",
              "        vertical-align: middle;\n",
              "    }\n",
              "\n",
              "    .dataframe tbody tr th {\n",
              "        vertical-align: top;\n",
              "    }\n",
              "\n",
              "    .dataframe thead th {\n",
              "        text-align: right;\n",
              "    }\n",
              "</style>\n",
              "<table border=\"1\" class=\"dataframe\">\n",
              "  <thead>\n",
              "    <tr style=\"text-align: right;\">\n",
              "      <th></th>\n",
              "      <th>age</th>\n",
              "      <th>job</th>\n",
              "      <th>marital status</th>\n",
              "      <th>education</th>\n",
              "      <th>credit default</th>\n",
              "      <th>housing loan</th>\n",
              "      <th>personal loan</th>\n",
              "      <th>y</th>\n",
              "    </tr>\n",
              "  </thead>\n",
              "  <tbody>\n",
              "    <tr>\n",
              "      <th>168</th>\n",
              "      <td>48</td>\n",
              "      <td>technician</td>\n",
              "      <td>married</td>\n",
              "      <td>tertiary</td>\n",
              "      <td>NaN</td>\n",
              "      <td>no</td>\n",
              "      <td>no</td>\n",
              "      <td>no</td>\n",
              "    </tr>\n",
              "  </tbody>\n",
              "</table>\n",
              "</div>"
            ],
            "text/plain": [
              "     age         job marital status  ... housing loan personal loan   y\n",
              "168   48  technician        married  ...           no            no  no\n",
              "\n",
              "[1 rows x 8 columns]"
            ]
          },
          "metadata": {
            "tags": []
          },
          "execution_count": 57
        }
      ]
    },
    {
      "cell_type": "code",
      "metadata": {
        "id": "yUd8srl4OIOz",
        "colab_type": "code",
        "outputId": "08b3141e-935e-405e-ba2b-624142612038",
        "colab": {
          "base_uri": "https://localhost:8080/",
          "height": 47
        }
      },
      "source": [
        "data[(data['age']==48) &\n",
        "     (data['job']=='technician') &\n",
        "     (data['marital status']=='married') &\n",
        "     (data['credit default'].isnull()==False) &\n",
        "     (data['housing loan']=='no') &\n",
        "     (data['personal loan']=='no') &\n",
        "     (data['y']=='no') &\n",
        "     (data['education']=='tertiary')\n",
        "    ]"
      ],
      "execution_count": 58,
      "outputs": [
        {
          "output_type": "execute_result",
          "data": {
            "text/html": [
              "<div>\n",
              "<style scoped>\n",
              "    .dataframe tbody tr th:only-of-type {\n",
              "        vertical-align: middle;\n",
              "    }\n",
              "\n",
              "    .dataframe tbody tr th {\n",
              "        vertical-align: top;\n",
              "    }\n",
              "\n",
              "    .dataframe thead th {\n",
              "        text-align: right;\n",
              "    }\n",
              "</style>\n",
              "<table border=\"1\" class=\"dataframe\">\n",
              "  <thead>\n",
              "    <tr style=\"text-align: right;\">\n",
              "      <th></th>\n",
              "      <th>age</th>\n",
              "      <th>job</th>\n",
              "      <th>marital status</th>\n",
              "      <th>education</th>\n",
              "      <th>credit default</th>\n",
              "      <th>housing loan</th>\n",
              "      <th>personal loan</th>\n",
              "      <th>y</th>\n",
              "    </tr>\n",
              "  </thead>\n",
              "  <tbody>\n",
              "  </tbody>\n",
              "</table>\n",
              "</div>"
            ],
            "text/plain": [
              "Empty DataFrame\n",
              "Columns: [age, job, marital status, education, credit default, housing loan, personal loan, y]\n",
              "Index: []"
            ]
          },
          "metadata": {
            "tags": []
          },
          "execution_count": 58
        }
      ]
    },
    {
      "cell_type": "code",
      "metadata": {
        "id": "Jea2HVcfOMMm",
        "colab_type": "code",
        "outputId": "f8694e01-d392-4baf-a693-dc8fa6861cf6",
        "colab": {
          "base_uri": "https://localhost:8080/",
          "height": 107
        }
      },
      "source": [
        "data[(data['age']==48) &     \n",
        "     (data['marital status']=='married') &\n",
        "     (data['credit default'].isnull()==False) &\n",
        "     (data['housing loan']=='no') &\n",
        "     (data['personal loan']=='no') &\n",
        "     (data['y']=='no') &\n",
        "     (data['education']=='tertiary')\n",
        "    ]"
      ],
      "execution_count": 59,
      "outputs": [
        {
          "output_type": "execute_result",
          "data": {
            "text/html": [
              "<div>\n",
              "<style scoped>\n",
              "    .dataframe tbody tr th:only-of-type {\n",
              "        vertical-align: middle;\n",
              "    }\n",
              "\n",
              "    .dataframe tbody tr th {\n",
              "        vertical-align: top;\n",
              "    }\n",
              "\n",
              "    .dataframe thead th {\n",
              "        text-align: right;\n",
              "    }\n",
              "</style>\n",
              "<table border=\"1\" class=\"dataframe\">\n",
              "  <thead>\n",
              "    <tr style=\"text-align: right;\">\n",
              "      <th></th>\n",
              "      <th>age</th>\n",
              "      <th>job</th>\n",
              "      <th>marital status</th>\n",
              "      <th>education</th>\n",
              "      <th>credit default</th>\n",
              "      <th>housing loan</th>\n",
              "      <th>personal loan</th>\n",
              "      <th>y</th>\n",
              "    </tr>\n",
              "  </thead>\n",
              "  <tbody>\n",
              "    <tr>\n",
              "      <th>62</th>\n",
              "      <td>48</td>\n",
              "      <td>management</td>\n",
              "      <td>married</td>\n",
              "      <td>tertiary</td>\n",
              "      <td>no</td>\n",
              "      <td>no</td>\n",
              "      <td>no</td>\n",
              "      <td>no</td>\n",
              "    </tr>\n",
              "    <tr>\n",
              "      <th>386</th>\n",
              "      <td>48</td>\n",
              "      <td>management</td>\n",
              "      <td>married</td>\n",
              "      <td>tertiary</td>\n",
              "      <td>no</td>\n",
              "      <td>no</td>\n",
              "      <td>no</td>\n",
              "      <td>no</td>\n",
              "    </tr>\n",
              "  </tbody>\n",
              "</table>\n",
              "</div>"
            ],
            "text/plain": [
              "     age         job marital status  ... housing loan personal loan   y\n",
              "62    48  management        married  ...           no            no  no\n",
              "386   48  management        married  ...           no            no  no\n",
              "\n",
              "[2 rows x 8 columns]"
            ]
          },
          "metadata": {
            "tags": []
          },
          "execution_count": 59
        }
      ]
    },
    {
      "cell_type": "markdown",
      "metadata": {
        "id": "rpZFCZzPOnHc",
        "colab_type": "text"
      },
      "source": [
        "Lets impute this credit default with the common value in age and with other similar values ignoring the job"
      ]
    },
    {
      "cell_type": "code",
      "metadata": {
        "id": "o_mWD2QpOJca",
        "colab_type": "code",
        "colab": {}
      },
      "source": [
        "data.loc[(data['age']==48) &\n",
        "     (data['job']=='technician') &\n",
        "     (data['marital status']=='married') &\n",
        "     (data['credit default'].isnull()) &\n",
        "     (data['housing loan']=='no') &\n",
        "     (data['personal loan']=='no') &\n",
        "     (data['y']=='no') &\n",
        "     (data['education']=='tertiary')\n",
        "    ,'credit default']=\\\n",
        "data[(data['age']==48) &     \n",
        "     (data['marital status']=='married') &\n",
        "     (data['credit default'].isnull()==False) &\n",
        "     (data['housing loan']=='no') &\n",
        "     (data['personal loan']=='no') &\n",
        "     (data['y']=='no') &\n",
        "     (data['education']=='tertiary')\n",
        "    ]['credit default'].mode()[0]"
      ],
      "execution_count": 0,
      "outputs": []
    },
    {
      "cell_type": "code",
      "metadata": {
        "id": "1dbJX0doO9pT",
        "colab_type": "code",
        "outputId": "faa48d1a-7b4d-40b2-e2d1-dfb43aa4b789",
        "colab": {
          "base_uri": "https://localhost:8080/",
          "height": 174
        }
      },
      "source": [
        "data.isnull().sum()"
      ],
      "execution_count": 61,
      "outputs": [
        {
          "output_type": "execute_result",
          "data": {
            "text/plain": [
              "age               0\n",
              "job               0\n",
              "marital status    0\n",
              "education         0\n",
              "credit default    0\n",
              "housing loan      0\n",
              "personal loan     0\n",
              "y                 0\n",
              "dtype: int64"
            ]
          },
          "metadata": {
            "tags": []
          },
          "execution_count": 61
        }
      ]
    },
    {
      "cell_type": "code",
      "metadata": {
        "id": "jD5WKL2BPAVv",
        "colab_type": "code",
        "outputId": "71ff526f-0f97-443d-aa8d-9b0f74ec0ee0",
        "colab": {
          "base_uri": "https://localhost:8080/",
          "height": 244
        }
      },
      "source": [
        "data.info()"
      ],
      "execution_count": 62,
      "outputs": [
        {
          "output_type": "stream",
          "text": [
            "<class 'pandas.core.frame.DataFrame'>\n",
            "RangeIndex: 1021 entries, 0 to 1020\n",
            "Data columns (total 8 columns):\n",
            "age               1021 non-null int64\n",
            "job               1021 non-null object\n",
            "marital status    1021 non-null object\n",
            "education         1021 non-null object\n",
            "credit default    1021 non-null object\n",
            "housing loan      1021 non-null object\n",
            "personal loan     1021 non-null object\n",
            "y                 1021 non-null object\n",
            "dtypes: int64(1), object(7)\n",
            "memory usage: 63.9+ KB\n"
          ],
          "name": "stdout"
        }
      ]
    },
    {
      "cell_type": "markdown",
      "metadata": {
        "id": "afxJ_rU4PESH",
        "colab_type": "text"
      },
      "source": [
        "Missing values analysis is done, lets look into the values in each every attribute and clean if it has any improper data or apply mean,median , mode technique for the outliers\n"
      ]
    },
    {
      "cell_type": "code",
      "metadata": {
        "id": "-v658Xc5PXe7",
        "colab_type": "code",
        "outputId": "d47cb133-55ab-4697-99eb-4591fa12d7b1",
        "colab": {
          "base_uri": "https://localhost:8080/",
          "height": 69
        }
      },
      "source": [
        "data.columns"
      ],
      "execution_count": 63,
      "outputs": [
        {
          "output_type": "execute_result",
          "data": {
            "text/plain": [
              "Index(['age', 'job', 'marital status', 'education', 'credit default',\n",
              "       'housing loan', 'personal loan', 'y'],\n",
              "      dtype='object')"
            ]
          },
          "metadata": {
            "tags": []
          },
          "execution_count": 63
        }
      ]
    },
    {
      "cell_type": "code",
      "metadata": {
        "id": "FBQMWSOAPZF2",
        "colab_type": "code",
        "outputId": "11886f16-ba3c-4aec-ad1b-19febf7bbb7a",
        "colab": {
          "base_uri": "https://localhost:8080/",
          "height": 343
        }
      },
      "source": [
        "data['age'].value_counts().plot(kind='bar',figsize=(15,5))"
      ],
      "execution_count": 64,
      "outputs": [
        {
          "output_type": "execute_result",
          "data": {
            "text/plain": [
              "<matplotlib.axes._subplots.AxesSubplot at 0x7f6a5b394eb8>"
            ]
          },
          "metadata": {
            "tags": []
          },
          "execution_count": 64
        },
        {
          "output_type": "display_data",
          "data": {
            "image/png": "[encoded data removed]",
            "text/plain": [
              "<Figure size 1080x360 with 1 Axes>"
            ]
          },
          "metadata": {
            "tags": []
          }
        }
      ]
    },
    {
      "cell_type": "code",
      "metadata": {
        "id": "WBo4_b5bPgLF",
        "colab_type": "code",
        "outputId": "052f7a25-428f-44eb-9cfc-8c0b53d2eada",
        "colab": {
          "base_uri": "https://localhost:8080/",
          "height": 286
        }
      },
      "source": [
        "data['age'].hist()"
      ],
      "execution_count": 65,
      "outputs": [
        {
          "output_type": "execute_result",
          "data": {
            "text/plain": [
              "<matplotlib.axes._subplots.AxesSubplot at 0x7f6a5b1fe748>"
            ]
          },
          "metadata": {
            "tags": []
          },
          "execution_count": 65
        },
        {
          "output_type": "display_data",
          "data": {
            "image/png": "[encoded data removed]",
            "text/plain": [
              "<Figure size 432x288 with 1 Axes>"
            ]
          },
          "metadata": {
            "tags": []
          }
        }
      ]
    },
    {
      "cell_type": "code",
      "metadata": {
        "id": "X-FMn3gtQysZ",
        "colab_type": "code",
        "outputId": "fb550401-01f8-49ec-d8e9-6e0363855527",
        "colab": {
          "base_uri": "https://localhost:8080/",
          "height": 347
        }
      },
      "source": [
        "data['job'].value_counts().plot(kind='bar')"
      ],
      "execution_count": 66,
      "outputs": [
        {
          "output_type": "execute_result",
          "data": {
            "text/plain": [
              "<matplotlib.axes._subplots.AxesSubplot at 0x7f6a58960f60>"
            ]
          },
          "metadata": {
            "tags": []
          },
          "execution_count": 66
        },
        {
          "output_type": "display_data",
          "data": {
            "image/png": "[encoded data removed]",
            "text/plain": [
              "<Figure size 432x288 with 1 Axes>"
            ]
          },
          "metadata": {
            "tags": []
          }
        }
      ]
    },
    {
      "cell_type": "code",
      "metadata": {
        "id": "O5xh3vMIPB15",
        "colab_type": "code",
        "outputId": "285d7ccd-dbee-48c4-f0ea-824b1a8a7e5e",
        "colab": {
          "base_uri": "https://localhost:8080/",
          "height": 347
        }
      },
      "source": [
        "data[data['job']=='unknown']"
      ],
      "execution_count": 67,
      "outputs": [
        {
          "output_type": "execute_result",
          "data": {
            "text/html": [
              "<div>\n",
              "<style scoped>\n",
              "    .dataframe tbody tr th:only-of-type {\n",
              "        vertical-align: middle;\n",
              "    }\n",
              "\n",
              "    .dataframe tbody tr th {\n",
              "        vertical-align: top;\n",
              "    }\n",
              "\n",
              "    .dataframe thead th {\n",
              "        text-align: right;\n",
              "    }\n",
              "</style>\n",
              "<table border=\"1\" class=\"dataframe\">\n",
              "  <thead>\n",
              "    <tr style=\"text-align: right;\">\n",
              "      <th></th>\n",
              "      <th>age</th>\n",
              "      <th>job</th>\n",
              "      <th>marital status</th>\n",
              "      <th>education</th>\n",
              "      <th>credit default</th>\n",
              "      <th>housing loan</th>\n",
              "      <th>personal loan</th>\n",
              "      <th>y</th>\n",
              "    </tr>\n",
              "  </thead>\n",
              "  <tbody>\n",
              "    <tr>\n",
              "      <th>95</th>\n",
              "      <td>41</td>\n",
              "      <td>unknown</td>\n",
              "      <td>single</td>\n",
              "      <td>tertiary</td>\n",
              "      <td>no</td>\n",
              "      <td>no</td>\n",
              "      <td>no</td>\n",
              "      <td>no</td>\n",
              "    </tr>\n",
              "    <tr>\n",
              "      <th>178</th>\n",
              "      <td>37</td>\n",
              "      <td>unknown</td>\n",
              "      <td>married</td>\n",
              "      <td>unknown</td>\n",
              "      <td>no</td>\n",
              "      <td>no</td>\n",
              "      <td>no</td>\n",
              "      <td>no</td>\n",
              "    </tr>\n",
              "    <tr>\n",
              "      <th>230</th>\n",
              "      <td>52</td>\n",
              "      <td>unknown</td>\n",
              "      <td>married</td>\n",
              "      <td>secondary</td>\n",
              "      <td>no</td>\n",
              "      <td>no</td>\n",
              "      <td>no</td>\n",
              "      <td>no</td>\n",
              "    </tr>\n",
              "    <tr>\n",
              "      <th>574</th>\n",
              "      <td>55</td>\n",
              "      <td>unknown</td>\n",
              "      <td>married</td>\n",
              "      <td>primary</td>\n",
              "      <td>no</td>\n",
              "      <td>no</td>\n",
              "      <td>no</td>\n",
              "      <td>no</td>\n",
              "    </tr>\n",
              "    <tr>\n",
              "      <th>621</th>\n",
              "      <td>30</td>\n",
              "      <td>unknown</td>\n",
              "      <td>single</td>\n",
              "      <td>tertiary</td>\n",
              "      <td>no</td>\n",
              "      <td>no</td>\n",
              "      <td>no</td>\n",
              "      <td>no</td>\n",
              "    </tr>\n",
              "    <tr>\n",
              "      <th>625</th>\n",
              "      <td>49</td>\n",
              "      <td>unknown</td>\n",
              "      <td>married</td>\n",
              "      <td>secondary</td>\n",
              "      <td>no</td>\n",
              "      <td>no</td>\n",
              "      <td>no</td>\n",
              "      <td>no</td>\n",
              "    </tr>\n",
              "    <tr>\n",
              "      <th>673</th>\n",
              "      <td>71</td>\n",
              "      <td>unknown</td>\n",
              "      <td>married</td>\n",
              "      <td>tertiary</td>\n",
              "      <td>no</td>\n",
              "      <td>no</td>\n",
              "      <td>no</td>\n",
              "      <td>no</td>\n",
              "    </tr>\n",
              "    <tr>\n",
              "      <th>772</th>\n",
              "      <td>59</td>\n",
              "      <td>unknown</td>\n",
              "      <td>married</td>\n",
              "      <td>unknown</td>\n",
              "      <td>no</td>\n",
              "      <td>no</td>\n",
              "      <td>no</td>\n",
              "      <td>no</td>\n",
              "    </tr>\n",
              "    <tr>\n",
              "      <th>790</th>\n",
              "      <td>39</td>\n",
              "      <td>unknown</td>\n",
              "      <td>single</td>\n",
              "      <td>secondary</td>\n",
              "      <td>no</td>\n",
              "      <td>no</td>\n",
              "      <td>no</td>\n",
              "      <td>no</td>\n",
              "    </tr>\n",
              "    <tr>\n",
              "      <th>860</th>\n",
              "      <td>65</td>\n",
              "      <td>unknown</td>\n",
              "      <td>married</td>\n",
              "      <td>unknown</td>\n",
              "      <td>no</td>\n",
              "      <td>no</td>\n",
              "      <td>no</td>\n",
              "      <td>yes</td>\n",
              "    </tr>\n",
              "  </tbody>\n",
              "</table>\n",
              "</div>"
            ],
            "text/plain": [
              "     age      job marital status  ... housing loan personal loan    y\n",
              "95    41  unknown         single  ...           no            no   no\n",
              "178   37  unknown        married  ...           no            no   no\n",
              "230   52  unknown        married  ...           no            no   no\n",
              "574   55  unknown        married  ...           no            no   no\n",
              "621   30  unknown         single  ...           no            no   no\n",
              "625   49  unknown        married  ...           no            no   no\n",
              "673   71  unknown        married  ...           no            no   no\n",
              "772   59  unknown        married  ...           no            no   no\n",
              "790   39  unknown         single  ...           no            no   no\n",
              "860   65  unknown        married  ...           no            no  yes\n",
              "\n",
              "[10 rows x 8 columns]"
            ]
          },
          "metadata": {
            "tags": []
          },
          "execution_count": 67
        }
      ]
    },
    {
      "cell_type": "code",
      "metadata": {
        "id": "YONeZAIqR6BS",
        "colab_type": "code",
        "outputId": "6404732e-a1f6-4e92-a5b2-ee906226d82c",
        "colab": {
          "base_uri": "https://localhost:8080/",
          "height": 34
        }
      },
      "source": [
        "data[data['job']=='unknown'].shape"
      ],
      "execution_count": 68,
      "outputs": [
        {
          "output_type": "execute_result",
          "data": {
            "text/plain": [
              "(10, 8)"
            ]
          },
          "metadata": {
            "tags": []
          },
          "execution_count": 68
        }
      ]
    },
    {
      "cell_type": "markdown",
      "metadata": {
        "id": "uBSz4N2ARwyZ",
        "colab_type": "text"
      },
      "source": [
        "unknown value in job can be considered because it has 10 records"
      ]
    },
    {
      "cell_type": "code",
      "metadata": {
        "id": "9lclb3SnO70y",
        "colab_type": "code",
        "outputId": "fa6c6e4b-15fd-4887-bd24-8790435b1aa5",
        "colab": {
          "base_uri": "https://localhost:8080/",
          "height": 319
        }
      },
      "source": [
        "data['marital status'].value_counts().plot(kind='bar')"
      ],
      "execution_count": 69,
      "outputs": [
        {
          "output_type": "execute_result",
          "data": {
            "text/plain": [
              "<matplotlib.axes._subplots.AxesSubplot at 0x7f6a5887f7b8>"
            ]
          },
          "metadata": {
            "tags": []
          },
          "execution_count": 69
        },
        {
          "output_type": "display_data",
          "data": {
            "image/png": "[encoded data removed]",
            "text/plain": [
              "<Figure size 432x288 with 1 Axes>"
            ]
          },
          "metadata": {
            "tags": []
          }
        }
      ]
    },
    {
      "cell_type": "code",
      "metadata": {
        "id": "pYk406JxN6xj",
        "colab_type": "code",
        "outputId": "522d7304-74cf-4d2d-d356-9f55f5dcb73e",
        "colab": {
          "base_uri": "https://localhost:8080/",
          "height": 328
        }
      },
      "source": [
        "data['education'].value_counts().plot(kind='bar')"
      ],
      "execution_count": 70,
      "outputs": [
        {
          "output_type": "execute_result",
          "data": {
            "text/plain": [
              "<matplotlib.axes._subplots.AxesSubplot at 0x7f6a5884f2e8>"
            ]
          },
          "metadata": {
            "tags": []
          },
          "execution_count": 70
        },
        {
          "output_type": "display_data",
          "data": {
            "image/png": "[encoded data removed]",
            "text/plain": [
              "<Figure size 432x288 with 1 Axes>"
            ]
          },
          "metadata": {
            "tags": []
          }
        }
      ]
    },
    {
      "cell_type": "markdown",
      "metadata": {
        "id": "Rcwc3InQRrc-",
        "colab_type": "text"
      },
      "source": [
        "So unknown values is in acceptable range"
      ]
    },
    {
      "cell_type": "code",
      "metadata": {
        "id": "x3iMZv2IRdG8",
        "colab_type": "code",
        "outputId": "03b2c78a-feb9-48e7-c76b-7c369dccbbc9",
        "colab": {
          "base_uri": "https://localhost:8080/",
          "height": 34
        }
      },
      "source": [
        "data[data['education']=='unknown'].shape"
      ],
      "execution_count": 71,
      "outputs": [
        {
          "output_type": "execute_result",
          "data": {
            "text/plain": [
              "(42, 8)"
            ]
          },
          "metadata": {
            "tags": []
          },
          "execution_count": 71
        }
      ]
    },
    {
      "cell_type": "code",
      "metadata": {
        "id": "MdYrZiJ8yc9Y",
        "colab_type": "code",
        "outputId": "02b4d673-f77d-4f52-f58a-231b0d8aa99f",
        "colab": {
          "base_uri": "https://localhost:8080/",
          "height": 293
        }
      },
      "source": [
        "data['credit default'].value_counts().plot(kind='bar')"
      ],
      "execution_count": 72,
      "outputs": [
        {
          "output_type": "execute_result",
          "data": {
            "text/plain": [
              "<matplotlib.axes._subplots.AxesSubplot at 0x7f6a5887f4a8>"
            ]
          },
          "metadata": {
            "tags": []
          },
          "execution_count": 72
        },
        {
          "output_type": "display_data",
          "data": {
            "image/png": "[encoded data removed]",
            "text/plain": [
              "<Figure size 432x288 with 1 Axes>"
            ]
          },
          "metadata": {
            "tags": []
          }
        }
      ]
    },
    {
      "cell_type": "code",
      "metadata": {
        "id": "sBLJz-hyRvA1",
        "colab_type": "code",
        "outputId": "214622a4-33c2-46f4-ef22-b2963a078911",
        "colab": {
          "base_uri": "https://localhost:8080/",
          "height": 317
        }
      },
      "source": [
        "data['housing loan'].value_counts().plot(kind='bar')"
      ],
      "execution_count": 73,
      "outputs": [
        {
          "output_type": "execute_result",
          "data": {
            "text/plain": [
              "<matplotlib.axes._subplots.AxesSubplot at 0x7f6a587dcda0>"
            ]
          },
          "metadata": {
            "tags": []
          },
          "execution_count": 73
        },
        {
          "output_type": "display_data",
          "data": {
            "image/png": "[encoded data removed]",
            "text/plain": [
              "<Figure size 432x288 with 1 Axes>"
            ]
          },
          "metadata": {
            "tags": []
          }
        }
      ]
    },
    {
      "cell_type": "markdown",
      "metadata": {
        "id": "qgNNieJvzAeg",
        "colab_type": "text"
      },
      "source": [
        "Some junk values in the housing loan, need to be verified before replacing or removing the data"
      ]
    },
    {
      "cell_type": "code",
      "metadata": {
        "id": "flymCp8EzKTj",
        "colab_type": "code",
        "outputId": "30175971-3a06-41d0-a086-22754888a236",
        "colab": {
          "base_uri": "https://localhost:8080/",
          "height": 77
        }
      },
      "source": [
        "data[data['housing loan']=='xxxyy']"
      ],
      "execution_count": 74,
      "outputs": [
        {
          "output_type": "execute_result",
          "data": {
            "text/html": [
              "<div>\n",
              "<style scoped>\n",
              "    .dataframe tbody tr th:only-of-type {\n",
              "        vertical-align: middle;\n",
              "    }\n",
              "\n",
              "    .dataframe tbody tr th {\n",
              "        vertical-align: top;\n",
              "    }\n",
              "\n",
              "    .dataframe thead th {\n",
              "        text-align: right;\n",
              "    }\n",
              "</style>\n",
              "<table border=\"1\" class=\"dataframe\">\n",
              "  <thead>\n",
              "    <tr style=\"text-align: right;\">\n",
              "      <th></th>\n",
              "      <th>age</th>\n",
              "      <th>job</th>\n",
              "      <th>marital status</th>\n",
              "      <th>education</th>\n",
              "      <th>credit default</th>\n",
              "      <th>housing loan</th>\n",
              "      <th>personal loan</th>\n",
              "      <th>y</th>\n",
              "    </tr>\n",
              "  </thead>\n",
              "  <tbody>\n",
              "    <tr>\n",
              "      <th>800</th>\n",
              "      <td>59</td>\n",
              "      <td>management</td>\n",
              "      <td>married</td>\n",
              "      <td>tertiary</td>\n",
              "      <td>no</td>\n",
              "      <td>xxxyy</td>\n",
              "      <td>no</td>\n",
              "      <td>no</td>\n",
              "    </tr>\n",
              "  </tbody>\n",
              "</table>\n",
              "</div>"
            ],
            "text/plain": [
              "     age         job marital status  ... housing loan personal loan   y\n",
              "800   59  management        married  ...        xxxyy            no  no\n",
              "\n",
              "[1 rows x 8 columns]"
            ]
          },
          "metadata": {
            "tags": []
          },
          "execution_count": 74
        }
      ]
    },
    {
      "cell_type": "code",
      "metadata": {
        "id": "TAiE7DvjzRm9",
        "colab_type": "code",
        "outputId": "be82f734-7540-4fd2-eea7-a564c2c53b3d",
        "colab": {
          "base_uri": "https://localhost:8080/",
          "height": 77
        }
      },
      "source": [
        "data.loc[(data['age']==59) &\n",
        "         (data['job']=='management') &\n",
        "         (data['marital status']=='married')&\n",
        "         (data['education']=='tertiary') &\n",
        "         (data['credit default']=='no') &\n",
        "         (data['personal loan'] =='no') &\n",
        "         (data['y']=='no')\n",
        "        ]"
      ],
      "execution_count": 75,
      "outputs": [
        {
          "output_type": "execute_result",
          "data": {
            "text/html": [
              "<div>\n",
              "<style scoped>\n",
              "    .dataframe tbody tr th:only-of-type {\n",
              "        vertical-align: middle;\n",
              "    }\n",
              "\n",
              "    .dataframe tbody tr th {\n",
              "        vertical-align: top;\n",
              "    }\n",
              "\n",
              "    .dataframe thead th {\n",
              "        text-align: right;\n",
              "    }\n",
              "</style>\n",
              "<table border=\"1\" class=\"dataframe\">\n",
              "  <thead>\n",
              "    <tr style=\"text-align: right;\">\n",
              "      <th></th>\n",
              "      <th>age</th>\n",
              "      <th>job</th>\n",
              "      <th>marital status</th>\n",
              "      <th>education</th>\n",
              "      <th>credit default</th>\n",
              "      <th>housing loan</th>\n",
              "      <th>personal loan</th>\n",
              "      <th>y</th>\n",
              "    </tr>\n",
              "  </thead>\n",
              "  <tbody>\n",
              "    <tr>\n",
              "      <th>800</th>\n",
              "      <td>59</td>\n",
              "      <td>management</td>\n",
              "      <td>married</td>\n",
              "      <td>tertiary</td>\n",
              "      <td>no</td>\n",
              "      <td>xxxyy</td>\n",
              "      <td>no</td>\n",
              "      <td>no</td>\n",
              "    </tr>\n",
              "  </tbody>\n",
              "</table>\n",
              "</div>"
            ],
            "text/plain": [
              "     age         job marital status  ... housing loan personal loan   y\n",
              "800   59  management        married  ...        xxxyy            no  no\n",
              "\n",
              "[1 rows x 8 columns]"
            ]
          },
          "metadata": {
            "tags": []
          },
          "execution_count": 75
        }
      ]
    },
    {
      "cell_type": "code",
      "metadata": {
        "id": "kJ0KNYkky8Pb",
        "colab_type": "code",
        "outputId": "294c4f6a-518c-4300-e36e-7997ac1a8450",
        "colab": {
          "base_uri": "https://localhost:8080/",
          "height": 52
        }
      },
      "source": [
        "data.loc[(data['age'] >= 55) & (data['age'] <= 60) &\n",
        "         (data['job']=='management') &\n",
        "         (data['marital status']=='married')&\n",
        "         (data['education']=='tertiary') &\n",
        "         (data['credit default']=='no') &\n",
        "         (data['personal loan'] =='no') &\n",
        "         (data['housing loan'] !='xxxyy') &\n",
        "         (data['y']=='no')\n",
        "        ]['housing loan'].mode()"
      ],
      "execution_count": 76,
      "outputs": [
        {
          "output_type": "execute_result",
          "data": {
            "text/plain": [
              "0    no\n",
              "dtype: object"
            ]
          },
          "metadata": {
            "tags": []
          },
          "execution_count": 76
        }
      ]
    },
    {
      "cell_type": "code",
      "metadata": {
        "id": "R513cMFJRhxb",
        "colab_type": "code",
        "colab": {}
      },
      "source": [
        "data.loc[(data['age'] >= 55) & (data['age'] <= 60) &\n",
        "         (data['job']=='management') &\n",
        "         (data['marital status']=='married')&\n",
        "         (data['education']=='tertiary') &\n",
        "         (data['credit default']=='no') &\n",
        "         (data['personal loan'] =='no') &\n",
        "         (data['housing loan'] =='xxxyy') &\n",
        "         (data['y']=='no')\n",
        "        ,'housing loan']= \\\n",
        "data.loc[(data['age'] >= 55) & (data['age'] <= 60) &\n",
        "         (data['job']=='management') &\n",
        "         (data['marital status']=='married')&\n",
        "         (data['education']=='tertiary') &\n",
        "         (data['credit default']=='no') &\n",
        "         (data['personal loan'] =='no') &\n",
        "         (data['housing loan'] !='xxxyy') &\n",
        "         (data['y']=='no')\n",
        "        ]['housing loan'].mode()[0]"
      ],
      "execution_count": 0,
      "outputs": []
    },
    {
      "cell_type": "code",
      "metadata": {
        "id": "rlX-XRbZ2S1a",
        "colab_type": "code",
        "outputId": "ebeb3b9d-60b6-4006-d408-76217ff9532f",
        "colab": {
          "base_uri": "https://localhost:8080/",
          "height": 77
        }
      },
      "source": [
        "data.loc[(data['age']==59) &\n",
        "         (data['job']=='management') &\n",
        "         (data['marital status']=='married')&\n",
        "         (data['education']=='tertiary') &\n",
        "         (data['credit default']=='no') &\n",
        "         (data['personal loan'] =='no') &\n",
        "         (data['y']=='no')\n",
        "        ]"
      ],
      "execution_count": 78,
      "outputs": [
        {
          "output_type": "execute_result",
          "data": {
            "text/html": [
              "<div>\n",
              "<style scoped>\n",
              "    .dataframe tbody tr th:only-of-type {\n",
              "        vertical-align: middle;\n",
              "    }\n",
              "\n",
              "    .dataframe tbody tr th {\n",
              "        vertical-align: top;\n",
              "    }\n",
              "\n",
              "    .dataframe thead th {\n",
              "        text-align: right;\n",
              "    }\n",
              "</style>\n",
              "<table border=\"1\" class=\"dataframe\">\n",
              "  <thead>\n",
              "    <tr style=\"text-align: right;\">\n",
              "      <th></th>\n",
              "      <th>age</th>\n",
              "      <th>job</th>\n",
              "      <th>marital status</th>\n",
              "      <th>education</th>\n",
              "      <th>credit default</th>\n",
              "      <th>housing loan</th>\n",
              "      <th>personal loan</th>\n",
              "      <th>y</th>\n",
              "    </tr>\n",
              "  </thead>\n",
              "  <tbody>\n",
              "    <tr>\n",
              "      <th>800</th>\n",
              "      <td>59</td>\n",
              "      <td>management</td>\n",
              "      <td>married</td>\n",
              "      <td>tertiary</td>\n",
              "      <td>no</td>\n",
              "      <td>no</td>\n",
              "      <td>no</td>\n",
              "      <td>no</td>\n",
              "    </tr>\n",
              "  </tbody>\n",
              "</table>\n",
              "</div>"
            ],
            "text/plain": [
              "     age         job marital status  ... housing loan personal loan   y\n",
              "800   59  management        married  ...           no            no  no\n",
              "\n",
              "[1 rows x 8 columns]"
            ]
          },
          "metadata": {
            "tags": []
          },
          "execution_count": 78
        }
      ]
    },
    {
      "cell_type": "code",
      "metadata": {
        "id": "R9kvCW4h2X4A",
        "colab_type": "code",
        "outputId": "de135df6-9e6a-4143-8b27-4c82da216c95",
        "colab": {
          "base_uri": "https://localhost:8080/",
          "height": 77
        }
      },
      "source": [
        "data[data['housing loan']=='services']"
      ],
      "execution_count": 79,
      "outputs": [
        {
          "output_type": "execute_result",
          "data": {
            "text/html": [
              "<div>\n",
              "<style scoped>\n",
              "    .dataframe tbody tr th:only-of-type {\n",
              "        vertical-align: middle;\n",
              "    }\n",
              "\n",
              "    .dataframe tbody tr th {\n",
              "        vertical-align: top;\n",
              "    }\n",
              "\n",
              "    .dataframe thead th {\n",
              "        text-align: right;\n",
              "    }\n",
              "</style>\n",
              "<table border=\"1\" class=\"dataframe\">\n",
              "  <thead>\n",
              "    <tr style=\"text-align: right;\">\n",
              "      <th></th>\n",
              "      <th>age</th>\n",
              "      <th>job</th>\n",
              "      <th>marital status</th>\n",
              "      <th>education</th>\n",
              "      <th>credit default</th>\n",
              "      <th>housing loan</th>\n",
              "      <th>personal loan</th>\n",
              "      <th>y</th>\n",
              "    </tr>\n",
              "  </thead>\n",
              "  <tbody>\n",
              "    <tr>\n",
              "      <th>1016</th>\n",
              "      <td>33</td>\n",
              "      <td>services</td>\n",
              "      <td>married</td>\n",
              "      <td>secondary</td>\n",
              "      <td>no</td>\n",
              "      <td>services</td>\n",
              "      <td>no</td>\n",
              "      <td>no</td>\n",
              "    </tr>\n",
              "  </tbody>\n",
              "</table>\n",
              "</div>"
            ],
            "text/plain": [
              "      age       job marital status  ... housing loan personal loan   y\n",
              "1016   33  services        married  ...     services            no  no\n",
              "\n",
              "[1 rows x 8 columns]"
            ]
          },
          "metadata": {
            "tags": []
          },
          "execution_count": 79
        }
      ]
    },
    {
      "cell_type": "code",
      "metadata": {
        "id": "2VxqRrjx2vub",
        "colab_type": "code",
        "outputId": "f63b26ab-1f86-431a-f472-1369144233b9",
        "colab": {
          "base_uri": "https://localhost:8080/",
          "height": 107
        }
      },
      "source": [
        "data.loc[(data['age']==33) &\n",
        "         (data['job']=='services') &\n",
        "         (data['marital status']=='married')&\n",
        "         (data['education']=='secondary') &\n",
        "         (data['credit default']=='no') &\n",
        "         (data['personal loan'] =='no') &\n",
        "         (data['y']=='no')\n",
        "        ]"
      ],
      "execution_count": 80,
      "outputs": [
        {
          "output_type": "execute_result",
          "data": {
            "text/html": [
              "<div>\n",
              "<style scoped>\n",
              "    .dataframe tbody tr th:only-of-type {\n",
              "        vertical-align: middle;\n",
              "    }\n",
              "\n",
              "    .dataframe tbody tr th {\n",
              "        vertical-align: top;\n",
              "    }\n",
              "\n",
              "    .dataframe thead th {\n",
              "        text-align: right;\n",
              "    }\n",
              "</style>\n",
              "<table border=\"1\" class=\"dataframe\">\n",
              "  <thead>\n",
              "    <tr style=\"text-align: right;\">\n",
              "      <th></th>\n",
              "      <th>age</th>\n",
              "      <th>job</th>\n",
              "      <th>marital status</th>\n",
              "      <th>education</th>\n",
              "      <th>credit default</th>\n",
              "      <th>housing loan</th>\n",
              "      <th>personal loan</th>\n",
              "      <th>y</th>\n",
              "    </tr>\n",
              "  </thead>\n",
              "  <tbody>\n",
              "    <tr>\n",
              "      <th>1007</th>\n",
              "      <td>33</td>\n",
              "      <td>services</td>\n",
              "      <td>married</td>\n",
              "      <td>secondary</td>\n",
              "      <td>no</td>\n",
              "      <td>yes</td>\n",
              "      <td>no</td>\n",
              "      <td>no</td>\n",
              "    </tr>\n",
              "    <tr>\n",
              "      <th>1016</th>\n",
              "      <td>33</td>\n",
              "      <td>services</td>\n",
              "      <td>married</td>\n",
              "      <td>secondary</td>\n",
              "      <td>no</td>\n",
              "      <td>services</td>\n",
              "      <td>no</td>\n",
              "      <td>no</td>\n",
              "    </tr>\n",
              "  </tbody>\n",
              "</table>\n",
              "</div>"
            ],
            "text/plain": [
              "      age       job marital status  ... housing loan personal loan   y\n",
              "1007   33  services        married  ...          yes            no  no\n",
              "1016   33  services        married  ...     services            no  no\n",
              "\n",
              "[2 rows x 8 columns]"
            ]
          },
          "metadata": {
            "tags": []
          },
          "execution_count": 80
        }
      ]
    },
    {
      "cell_type": "code",
      "metadata": {
        "id": "pHwoAgcN26Sg",
        "colab_type": "code",
        "colab": {}
      },
      "source": [
        "data.loc[(data['age']==33) &\n",
        "         (data['job']=='services') &\n",
        "         (data['marital status']=='married')&\n",
        "         (data['education']=='secondary') &\n",
        "         (data['credit default']=='no') &\n",
        "         (data['personal loan'] =='no') &\n",
        "         (data['housing loan'] =='services') &\n",
        "         (data['y']=='no')\n",
        "        ,'housing loan'] = 'yes'"
      ],
      "execution_count": 0,
      "outputs": []
    },
    {
      "cell_type": "code",
      "metadata": {
        "id": "vE-zAJ463Kqn",
        "colab_type": "code",
        "outputId": "bfe12a91-f2e5-44b1-818e-1b8dc9483b57",
        "colab": {
          "base_uri": "https://localhost:8080/",
          "height": 293
        }
      },
      "source": [
        "data['housing loan'].value_counts().plot(kind='bar')"
      ],
      "execution_count": 82,
      "outputs": [
        {
          "output_type": "execute_result",
          "data": {
            "text/plain": [
              "<matplotlib.axes._subplots.AxesSubplot at 0x7f6a5b3823c8>"
            ]
          },
          "metadata": {
            "tags": []
          },
          "execution_count": 82
        },
        {
          "output_type": "display_data",
          "data": {
            "image/png": "[encoded data removed]",
            "text/plain": [
              "<Figure size 432x288 with 1 Axes>"
            ]
          },
          "metadata": {
            "tags": []
          }
        }
      ]
    },
    {
      "cell_type": "code",
      "metadata": {
        "id": "FjLJ6zOz3UNG",
        "colab_type": "code",
        "outputId": "ed22a0b6-3b30-43d7-fc5d-e1aeaeb6eaae",
        "colab": {
          "base_uri": "https://localhost:8080/",
          "height": 293
        }
      },
      "source": [
        "data['personal loan'].value_counts().plot(kind='bar')"
      ],
      "execution_count": 83,
      "outputs": [
        {
          "output_type": "execute_result",
          "data": {
            "text/plain": [
              "<matplotlib.axes._subplots.AxesSubplot at 0x7f6a586ce208>"
            ]
          },
          "metadata": {
            "tags": []
          },
          "execution_count": 83
        },
        {
          "output_type": "display_data",
          "data": {
            "image/png": "[encoded data removed]",
            "text/plain": [
              "<Figure size 432x288 with 1 Axes>"
            ]
          },
          "metadata": {
            "tags": []
          }
        }
      ]
    },
    {
      "cell_type": "code",
      "metadata": {
        "id": "nAdCfCH73gT7",
        "colab_type": "code",
        "outputId": "186f5bf4-548a-40fb-96a2-425803279716",
        "colab": {
          "base_uri": "https://localhost:8080/",
          "height": 293
        }
      },
      "source": [
        "data['y'].value_counts().plot(kind='bar')"
      ],
      "execution_count": 84,
      "outputs": [
        {
          "output_type": "execute_result",
          "data": {
            "text/plain": [
              "<matplotlib.axes._subplots.AxesSubplot at 0x7f6a5869f668>"
            ]
          },
          "metadata": {
            "tags": []
          },
          "execution_count": 84
        },
        {
          "output_type": "display_data",
          "data": {
            "image/png": "[encoded data removed]",
            "text/plain": [
              "<Figure size 432x288 with 1 Axes>"
            ]
          },
          "metadata": {
            "tags": []
          }
        }
      ]
    },
    {
      "cell_type": "markdown",
      "metadata": {
        "id": "zN-fXi-z34jN",
        "colab_type": "text"
      },
      "source": [
        "Visualization of the data to gain insights"
      ]
    },
    {
      "cell_type": "markdown",
      "metadata": {
        "id": "4f1OIfFs4CsD",
        "colab_type": "text"
      },
      "source": [
        "Lets see the age group and other attributes based on which who are all interested in the term deposit"
      ]
    },
    {
      "cell_type": "code",
      "metadata": {
        "id": "B1UtpOL54HUJ",
        "colab_type": "code",
        "outputId": "290aa756-94e8-44fa-d8ef-44acad864500",
        "colab": {
          "base_uri": "https://localhost:8080/",
          "height": 343
        }
      },
      "source": [
        "data[data['y']=='yes']['age'].value_counts().plot(kind='bar',figsize=(15,5))"
      ],
      "execution_count": 85,
      "outputs": [
        {
          "output_type": "execute_result",
          "data": {
            "text/plain": [
              "<matplotlib.axes._subplots.AxesSubplot at 0x7f6a585f6f60>"
            ]
          },
          "metadata": {
            "tags": []
          },
          "execution_count": 85
        },
        {
          "output_type": "display_data",
          "data": {
            "image/png": "[encoded data removed]",
            "text/plain": [
              "<Figure size 1080x360 with 1 Axes>"
            ]
          },
          "metadata": {
            "tags": []
          }
        }
      ]
    },
    {
      "cell_type": "code",
      "metadata": {
        "id": "H704iR-d43QB",
        "colab_type": "code",
        "outputId": "8c2c014d-c404-463c-9ef7-740da5fac5ca",
        "colab": {
          "base_uri": "https://localhost:8080/",
          "height": 34
        }
      },
      "source": [
        "data['age'].min(),data['age'].max()"
      ],
      "execution_count": 86,
      "outputs": [
        {
          "output_type": "execute_result",
          "data": {
            "text/plain": [
              "(19, 84)"
            ]
          },
          "metadata": {
            "tags": []
          },
          "execution_count": 86
        }
      ]
    },
    {
      "cell_type": "code",
      "metadata": {
        "id": "MBPNBG5L4Uya",
        "colab_type": "code",
        "colab": {}
      },
      "source": [
        "data['age_range']=pd.cut(x=data['age'],bins=[15,25,35,45,55,65,75,85])"
      ],
      "execution_count": 0,
      "outputs": []
    },
    {
      "cell_type": "code",
      "metadata": {
        "id": "g8jBtEav5x6A",
        "colab_type": "code",
        "outputId": "d185fbd7-f8b8-4943-bb73-6122f11fc6cc",
        "colab": {
          "base_uri": "https://localhost:8080/",
          "height": 197
        }
      },
      "source": [
        "data.head()"
      ],
      "execution_count": 88,
      "outputs": [
        {
          "output_type": "execute_result",
          "data": {
            "text/html": [
              "<div>\n",
              "<style scoped>\n",
              "    .dataframe tbody tr th:only-of-type {\n",
              "        vertical-align: middle;\n",
              "    }\n",
              "\n",
              "    .dataframe tbody tr th {\n",
              "        vertical-align: top;\n",
              "    }\n",
              "\n",
              "    .dataframe thead th {\n",
              "        text-align: right;\n",
              "    }\n",
              "</style>\n",
              "<table border=\"1\" class=\"dataframe\">\n",
              "  <thead>\n",
              "    <tr style=\"text-align: right;\">\n",
              "      <th></th>\n",
              "      <th>age</th>\n",
              "      <th>job</th>\n",
              "      <th>marital status</th>\n",
              "      <th>education</th>\n",
              "      <th>credit default</th>\n",
              "      <th>housing loan</th>\n",
              "      <th>personal loan</th>\n",
              "      <th>y</th>\n",
              "      <th>age_range</th>\n",
              "    </tr>\n",
              "  </thead>\n",
              "  <tbody>\n",
              "    <tr>\n",
              "      <th>0</th>\n",
              "      <td>30</td>\n",
              "      <td>unemployed</td>\n",
              "      <td>married</td>\n",
              "      <td>primary</td>\n",
              "      <td>no</td>\n",
              "      <td>no</td>\n",
              "      <td>no</td>\n",
              "      <td>no</td>\n",
              "      <td>(25, 35]</td>\n",
              "    </tr>\n",
              "    <tr>\n",
              "      <th>1</th>\n",
              "      <td>33</td>\n",
              "      <td>services</td>\n",
              "      <td>married</td>\n",
              "      <td>secondary</td>\n",
              "      <td>no</td>\n",
              "      <td>yes</td>\n",
              "      <td>yes</td>\n",
              "      <td>no</td>\n",
              "      <td>(25, 35]</td>\n",
              "    </tr>\n",
              "    <tr>\n",
              "      <th>2</th>\n",
              "      <td>35</td>\n",
              "      <td>management</td>\n",
              "      <td>single</td>\n",
              "      <td>tertiary</td>\n",
              "      <td>no</td>\n",
              "      <td>yes</td>\n",
              "      <td>no</td>\n",
              "      <td>no</td>\n",
              "      <td>(25, 35]</td>\n",
              "    </tr>\n",
              "    <tr>\n",
              "      <th>3</th>\n",
              "      <td>30</td>\n",
              "      <td>management</td>\n",
              "      <td>married</td>\n",
              "      <td>tertiary</td>\n",
              "      <td>no</td>\n",
              "      <td>yes</td>\n",
              "      <td>yes</td>\n",
              "      <td>no</td>\n",
              "      <td>(25, 35]</td>\n",
              "    </tr>\n",
              "    <tr>\n",
              "      <th>4</th>\n",
              "      <td>59</td>\n",
              "      <td>blue-collar</td>\n",
              "      <td>married</td>\n",
              "      <td>secondary</td>\n",
              "      <td>no</td>\n",
              "      <td>yes</td>\n",
              "      <td>no</td>\n",
              "      <td>no</td>\n",
              "      <td>(55, 65]</td>\n",
              "    </tr>\n",
              "  </tbody>\n",
              "</table>\n",
              "</div>"
            ],
            "text/plain": [
              "   age          job marital status  ... personal loan   y age_range\n",
              "0   30   unemployed        married  ...            no  no  (25, 35]\n",
              "1   33     services        married  ...           yes  no  (25, 35]\n",
              "2   35   management         single  ...            no  no  (25, 35]\n",
              "3   30   management        married  ...           yes  no  (25, 35]\n",
              "4   59  blue-collar        married  ...            no  no  (55, 65]\n",
              "\n",
              "[5 rows x 9 columns]"
            ]
          },
          "metadata": {
            "tags": []
          },
          "execution_count": 88
        }
      ]
    },
    {
      "cell_type": "code",
      "metadata": {
        "id": "jfs-mn5D50zw",
        "colab_type": "code",
        "colab": {}
      },
      "source": [
        "data['age_range']=data['age_range'].apply(lambda x: str(x.left)+'-'+str(x.right))"
      ],
      "execution_count": 0,
      "outputs": []
    },
    {
      "cell_type": "code",
      "metadata": {
        "id": "GHfz3GBY9xWz",
        "colab_type": "code",
        "colab": {
          "base_uri": "https://localhost:8080/",
          "height": 197
        },
        "outputId": "0c3e2650-bfff-4236-8120-c98870d6fe78"
      },
      "source": [
        "data.head()"
      ],
      "execution_count": 90,
      "outputs": [
        {
          "output_type": "execute_result",
          "data": {
            "text/html": [
              "<div>\n",
              "<style scoped>\n",
              "    .dataframe tbody tr th:only-of-type {\n",
              "        vertical-align: middle;\n",
              "    }\n",
              "\n",
              "    .dataframe tbody tr th {\n",
              "        vertical-align: top;\n",
              "    }\n",
              "\n",
              "    .dataframe thead th {\n",
              "        text-align: right;\n",
              "    }\n",
              "</style>\n",
              "<table border=\"1\" class=\"dataframe\">\n",
              "  <thead>\n",
              "    <tr style=\"text-align: right;\">\n",
              "      <th></th>\n",
              "      <th>age</th>\n",
              "      <th>job</th>\n",
              "      <th>marital status</th>\n",
              "      <th>education</th>\n",
              "      <th>credit default</th>\n",
              "      <th>housing loan</th>\n",
              "      <th>personal loan</th>\n",
              "      <th>y</th>\n",
              "      <th>age_range</th>\n",
              "    </tr>\n",
              "  </thead>\n",
              "  <tbody>\n",
              "    <tr>\n",
              "      <th>0</th>\n",
              "      <td>30</td>\n",
              "      <td>unemployed</td>\n",
              "      <td>married</td>\n",
              "      <td>primary</td>\n",
              "      <td>no</td>\n",
              "      <td>no</td>\n",
              "      <td>no</td>\n",
              "      <td>no</td>\n",
              "      <td>25-35</td>\n",
              "    </tr>\n",
              "    <tr>\n",
              "      <th>1</th>\n",
              "      <td>33</td>\n",
              "      <td>services</td>\n",
              "      <td>married</td>\n",
              "      <td>secondary</td>\n",
              "      <td>no</td>\n",
              "      <td>yes</td>\n",
              "      <td>yes</td>\n",
              "      <td>no</td>\n",
              "      <td>25-35</td>\n",
              "    </tr>\n",
              "    <tr>\n",
              "      <th>2</th>\n",
              "      <td>35</td>\n",
              "      <td>management</td>\n",
              "      <td>single</td>\n",
              "      <td>tertiary</td>\n",
              "      <td>no</td>\n",
              "      <td>yes</td>\n",
              "      <td>no</td>\n",
              "      <td>no</td>\n",
              "      <td>25-35</td>\n",
              "    </tr>\n",
              "    <tr>\n",
              "      <th>3</th>\n",
              "      <td>30</td>\n",
              "      <td>management</td>\n",
              "      <td>married</td>\n",
              "      <td>tertiary</td>\n",
              "      <td>no</td>\n",
              "      <td>yes</td>\n",
              "      <td>yes</td>\n",
              "      <td>no</td>\n",
              "      <td>25-35</td>\n",
              "    </tr>\n",
              "    <tr>\n",
              "      <th>4</th>\n",
              "      <td>59</td>\n",
              "      <td>blue-collar</td>\n",
              "      <td>married</td>\n",
              "      <td>secondary</td>\n",
              "      <td>no</td>\n",
              "      <td>yes</td>\n",
              "      <td>no</td>\n",
              "      <td>no</td>\n",
              "      <td>55-65</td>\n",
              "    </tr>\n",
              "  </tbody>\n",
              "</table>\n",
              "</div>"
            ],
            "text/plain": [
              "   age          job marital status  ... personal loan   y age_range\n",
              "0   30   unemployed        married  ...            no  no     25-35\n",
              "1   33     services        married  ...           yes  no     25-35\n",
              "2   35   management         single  ...            no  no     25-35\n",
              "3   30   management        married  ...           yes  no     25-35\n",
              "4   59  blue-collar        married  ...            no  no     55-65\n",
              "\n",
              "[5 rows x 9 columns]"
            ]
          },
          "metadata": {
            "tags": []
          },
          "execution_count": 90
        }
      ]
    },
    {
      "cell_type": "code",
      "metadata": {
        "id": "gY_pg9n89zCw",
        "colab_type": "code",
        "colab": {
          "base_uri": "https://localhost:8080/",
          "height": 372
        },
        "outputId": "106de5ed-605b-4cb0-b7ba-6da30a191a98"
      },
      "source": [
        "fig,ax= plt.subplots(1,2,figsize=(15,5))\n",
        "data[data['y']=='yes']['age_range'].value_counts().plot(kind='bar',\n",
        "                                                             title='Age range  interested in term deposit',\n",
        "                                                             ax=ax[0])\n",
        "data[data['y']=='no']['age_range'].value_counts().plot(kind='bar',title='Age range  not interested in term deposit',\n",
        "                                                           ax=ax[1])"
      ],
      "execution_count": 91,
      "outputs": [
        {
          "output_type": "execute_result",
          "data": {
            "text/plain": [
              "<matplotlib.axes._subplots.AxesSubplot at 0x7f6a5856c0b8>"
            ]
          },
          "metadata": {
            "tags": []
          },
          "execution_count": 91
        },
        {
          "output_type": "display_data",
          "data": {
            "image/png": "[encoded data removed]",
            "text/plain": [
              "<Figure size 1080x360 with 2 Axes>"
            ]
          },
          "metadata": {
            "tags": []
          }
        }
      ]
    },
    {
      "cell_type": "code",
      "metadata": {
        "id": "ckJ-7_j6-TKi",
        "colab_type": "code",
        "colab": {
          "base_uri": "https://localhost:8080/",
          "height": 360
        },
        "outputId": "58d3117a-28af-4101-c65a-ec03ef2e705c"
      },
      "source": [
        "fig,ax= plt.subplots(1,2,figsize=(15,5))\n",
        "data[data['y']=='yes']['credit default'].value_counts().plot(kind='bar',\n",
        "                                                             title='Credit defaults interested in term deposit',\n",
        "                                                             ax=ax[0])\n",
        "data[data['y']=='no']['credit default'].value_counts().plot(kind='bar',title='Credit defaults not interested in term deposit',\n",
        "                                                           ax=ax[1])"
      ],
      "execution_count": 92,
      "outputs": [
        {
          "output_type": "execute_result",
          "data": {
            "text/plain": [
              "<matplotlib.axes._subplots.AxesSubplot at 0x7f6a584ae978>"
            ]
          },
          "metadata": {
            "tags": []
          },
          "execution_count": 92
        },
        {
          "output_type": "display_data",
          "data": {
            "image/png": "[encoded data removed]",
            "text/plain": [
              "<Figure size 1080x360 with 2 Axes>"
            ]
          },
          "metadata": {
            "tags": []
          }
        }
      ]
    },
    {
      "cell_type": "code",
      "metadata": {
        "id": "OfMFeWyYBz1v",
        "colab_type": "code",
        "colab": {
          "base_uri": "https://localhost:8080/",
          "height": 394
        },
        "outputId": "3f161d58-8216-4f14-d22b-d6c395c0d663"
      },
      "source": [
        "fig,ax= plt.subplots(1,2,figsize=(15,5))\n",
        "data[data['y']=='yes']['education'].value_counts().plot(kind='bar',\n",
        "                                                             title='Education values interested in term deposit',\n",
        "                                                             ax=ax[0])\n",
        "data[data['y']=='no']['education'].value_counts().plot(kind='bar',title='Education values not interested in term deposit',\n",
        "                                                           ax=ax[1])"
      ],
      "execution_count": 93,
      "outputs": [
        {
          "output_type": "execute_result",
          "data": {
            "text/plain": [
              "<matplotlib.axes._subplots.AxesSubplot at 0x7f6a583e2208>"
            ]
          },
          "metadata": {
            "tags": []
          },
          "execution_count": 93
        },
        {
          "output_type": "display_data",
          "data": {
            "image/png": "[encoded data removed]",
            "text/plain": [
              "<Figure size 1080x360 with 2 Axes>"
            ]
          },
          "metadata": {
            "tags": []
          }
        }
      ]
    },
    {
      "cell_type": "code",
      "metadata": {
        "id": "Q6OGS4l7AkkI",
        "colab_type": "code",
        "colab": {
          "base_uri": "https://localhost:8080/",
          "height": 386
        },
        "outputId": "2fc44fa5-37b3-464e-d4cd-19317fea2cfc"
      },
      "source": [
        "fig,ax= plt.subplots(1,2,figsize=(15,5))\n",
        "data[data['y']=='yes']['marital status'].value_counts().plot(kind='bar',\n",
        "                                                             title='Marital status values interested in term deposit',\n",
        "                                                             ax=ax[0])\n",
        "data[data['y']=='no']['marital status'].value_counts().plot(kind='bar',title='Marital status values not interested in term deposit',\n",
        "                                                           ax=ax[1])"
      ],
      "execution_count": 94,
      "outputs": [
        {
          "output_type": "execute_result",
          "data": {
            "text/plain": [
              "<matplotlib.axes._subplots.AxesSubplot at 0x7f6a5831a2e8>"
            ]
          },
          "metadata": {
            "tags": []
          },
          "execution_count": 94
        },
        {
          "output_type": "display_data",
          "data": {
            "image/png": "[encoded data removed]",
            "text/plain": [
              "<Figure size 1080x360 with 2 Axes>"
            ]
          },
          "metadata": {
            "tags": []
          }
        }
      ]
    },
    {
      "cell_type": "code",
      "metadata": {
        "id": "rDetYzVzCWnu",
        "colab_type": "code",
        "colab": {
          "base_uri": "https://localhost:8080/",
          "height": 360
        },
        "outputId": "2a671c03-03a7-469b-9784-71e3f6ac411f"
      },
      "source": [
        "fig,ax= plt.subplots(1,2,figsize=(15,5))\n",
        "data[data['y']=='yes']['housing loan'].value_counts().plot(kind='bar',\n",
        "                                                             title='housing loan values interested in term deposit',\n",
        "                                                             ax=ax[0])\n",
        "data[data['y']=='no']['housing loan'].value_counts().plot(kind='bar',title='housing loan values not interested in term deposit',\n",
        "                                                           ax=ax[1])"
      ],
      "execution_count": 95,
      "outputs": [
        {
          "output_type": "execute_result",
          "data": {
            "text/plain": [
              "<matplotlib.axes._subplots.AxesSubplot at 0x7f6a58247198>"
            ]
          },
          "metadata": {
            "tags": []
          },
          "execution_count": 95
        },
        {
          "output_type": "display_data",
          "data": {
            "image/png": "[encoded data removed]",
            "text/plain": [
              "<Figure size 1080x360 with 2 Axes>"
            ]
          },
          "metadata": {
            "tags": []
          }
        }
      ]
    },
    {
      "cell_type": "code",
      "metadata": {
        "id": "XrJEZ-WMCi0Z",
        "colab_type": "code",
        "colab": {
          "base_uri": "https://localhost:8080/",
          "height": 360
        },
        "outputId": "5c860557-2da9-41e7-bd31-3a1171806797"
      },
      "source": [
        "fig,ax= plt.subplots(1,2,figsize=(15,5))\n",
        "data[data['y']=='yes']['personal loan'].value_counts().plot(kind='bar',\n",
        "                                                             title='personal loan values interested in term deposit',\n",
        "                                                             ax=ax[0])\n",
        "data[data['y']=='no']['personal loan'].value_counts().plot(kind='bar',title='personal loan values not interested in term deposit',\n",
        "                                                           ax=ax[1])"
      ],
      "execution_count": 96,
      "outputs": [
        {
          "output_type": "execute_result",
          "data": {
            "text/plain": [
              "<matplotlib.axes._subplots.AxesSubplot at 0x7f6a5817b358>"
            ]
          },
          "metadata": {
            "tags": []
          },
          "execution_count": 96
        },
        {
          "output_type": "display_data",
          "data": {
            "image/png": "[encoded data removed]",
            "text/plain": [
              "<Figure size 1080x360 with 2 Axes>"
            ]
          },
          "metadata": {
            "tags": []
          }
        }
      ]
    },
    {
      "cell_type": "markdown",
      "metadata": {
        "id": "MXLPFagoM1Xq",
        "colab_type": "text"
      },
      "source": [
        "Above is the splitted representation and belowis the combined representation"
      ]
    },
    {
      "cell_type": "code",
      "metadata": {
        "id": "3U1-5rTXNn8w",
        "colab_type": "code",
        "colab": {
          "base_uri": "https://localhost:8080/",
          "height": 319
        },
        "outputId": "5129acc8-4fad-4a00-ea33-c768059b5a48"
      },
      "source": [
        "data.groupby(['age_range'])['y'].value_counts().unstack().plot(kind='bar')"
      ],
      "execution_count": 97,
      "outputs": [
        {
          "output_type": "execute_result",
          "data": {
            "text/plain": [
              "<matplotlib.axes._subplots.AxesSubplot at 0x7f6a584e2d30>"
            ]
          },
          "metadata": {
            "tags": []
          },
          "execution_count": 97
        },
        {
          "output_type": "display_data",
          "data": {
            "image/png": "[encoded data removed]",
            "text/plain": [
              "<Figure size 432x288 with 1 Axes>"
            ]
          },
          "metadata": {
            "tags": []
          }
        }
      ]
    },
    {
      "cell_type": "code",
      "metadata": {
        "id": "TUuhCD4zI5h5",
        "colab_type": "code",
        "colab": {
          "base_uri": "https://localhost:8080/",
          "height": 1000
        },
        "outputId": "3ae16c25-657d-4a18-dbff-8787c71a192a"
      },
      "source": [
        "fig,ax= plt.subplots(3,2,figsize=(15,20))\n",
        "data.groupby(['job'])['y'].value_counts().unstack().plot(kind='bar',ax=ax[0,0])\n",
        "data.groupby(['marital status'])['y'].value_counts().unstack().plot(kind='bar',ax=ax[0,1])\n",
        "data.groupby(['education'])['y'].value_counts().unstack().plot(kind='bar',ax=ax[1,0])\n",
        "data.groupby(['credit default'])['y'].value_counts().unstack().plot(kind='bar',ax=ax[1,1])\n",
        "data.groupby(['housing loan'])['y'].value_counts().unstack().plot(kind='bar',ax=ax[2,0])\n",
        "data.groupby(['personal loan'])['y'].value_counts().unstack().plot(kind='bar',ax=ax[2,1])"
      ],
      "execution_count": 98,
      "outputs": [
        {
          "output_type": "execute_result",
          "data": {
            "text/plain": [
              "<matplotlib.axes._subplots.AxesSubplot at 0x7f6a57fefac8>"
            ]
          },
          "metadata": {
            "tags": []
          },
          "execution_count": 98
        },
        {
          "output_type": "display_data",
          "data": {
            "image/png": "[encoded data removed]",
            "text/plain": [
              "<Figure size 1080x1440 with 6 Axes>"
            ]
          },
          "metadata": {
            "tags": []
          }
        }
      ]
    },
    {
      "cell_type": "markdown",
      "metadata": {
        "id": "BJfc1__QOHbK",
        "colab_type": "text"
      },
      "source": [
        "From the above we can clearly determine that people **interested** for **term deposit** are with age **25-55**,(management,bluecollor,technician) jobs,married,**(secondary,tertiary)** education, with **no credit default**,**no personal loan** and with respect to home loan it more or less same for both yes and no"
      ]
    },
    {
      "cell_type": "code",
      "metadata": {
        "id": "0xmke1TgN76S",
        "colab_type": "code",
        "colab": {
          "base_uri": "https://localhost:8080/",
          "height": 353
        },
        "outputId": "676dabd7-d708-4bc4-fb7f-a9d78b5685f0"
      },
      "source": [
        "fig,(ax0,ax1) = plt.subplots(1,2, figsize=(15,5))\n",
        "data['age'].plot(kind='hist',title='Distribution of the Age',ax=ax0)\n",
        "mean_age = data['age'].mean()\n",
        "std_age = data['age'].std()\n",
        "ax0.axvline(data['age'].mean(),color='r',linestyle='solid',linewidth=1)\n",
        "ax0.axvline(mean_age+std_age,color='g',linestyle='dashed',linewidth=1)\n",
        "ax0.axvline(mean_age-std_age,color='g',linestyle='dashed',linewidth=1)\n",
        "\n",
        "data['age'].plot(kind='box',ax=ax1)"
      ],
      "execution_count": 99,
      "outputs": [
        {
          "output_type": "execute_result",
          "data": {
            "text/plain": [
              "<matplotlib.axes._subplots.AxesSubplot at 0x7f6a57dd2b70>"
            ]
          },
          "metadata": {
            "tags": []
          },
          "execution_count": 99
        },
        {
          "output_type": "display_data",
          "data": {
            "image/png": "[encoded data removed]",
            "text/plain": [
              "<Figure size 1080x360 with 2 Axes>"
            ]
          },
          "metadata": {
            "tags": []
          }
        }
      ]
    },
    {
      "cell_type": "code",
      "metadata": {
        "id": "OuILtab8Q_Sg",
        "colab_type": "code",
        "colab": {}
      },
      "source": [
        ""
      ],
      "execution_count": 0,
      "outputs": []
    },
    {
      "cell_type": "markdown",
      "metadata": {
        "id": "HUVd-IulTdyc",
        "colab_type": "text"
      },
      "source": [
        "**Modeling**"
      ]
    },
    {
      "cell_type": "code",
      "metadata": {
        "id": "G3tmYJIZQ6f-",
        "colab_type": "code",
        "colab": {}
      },
      "source": [
        "from sklearn.preprocessing import LabelEncoder,StandardScaler\n",
        "\n",
        "from pandas.plotting import scatter_matrix"
      ],
      "execution_count": 0,
      "outputs": []
    },
    {
      "cell_type": "code",
      "metadata": {
        "id": "T-WifLmqTmEi",
        "colab_type": "code",
        "colab": {}
      },
      "source": [
        "le =LabelEncoder()"
      ],
      "execution_count": 0,
      "outputs": []
    },
    {
      "cell_type": "code",
      "metadata": {
        "id": "Frz9MUWhTpRe",
        "colab_type": "code",
        "colab": {}
      },
      "source": [
        "data['job_value']=le.fit_transform(data['job'])"
      ],
      "execution_count": 0,
      "outputs": []
    },
    {
      "cell_type": "code",
      "metadata": {
        "id": "J4Ca34GdTzz2",
        "colab_type": "code",
        "colab": {}
      },
      "source": [
        "data['maritalstatus_value']=le.fit_transform(data['marital status'])"
      ],
      "execution_count": 0,
      "outputs": []
    },
    {
      "cell_type": "code",
      "metadata": {
        "id": "TmuveTDcNy73",
        "colab_type": "code",
        "colab": {}
      },
      "source": [
        "data['education_value']=le.fit_transform(data['education'])"
      ],
      "execution_count": 0,
      "outputs": []
    },
    {
      "cell_type": "code",
      "metadata": {
        "id": "fjc8m0jNM92H",
        "colab_type": "code",
        "colab": {}
      },
      "source": [
        "data['housingloan_value']=le.fit_transform(data['housing loan'])"
      ],
      "execution_count": 0,
      "outputs": []
    },
    {
      "cell_type": "code",
      "metadata": {
        "id": "KkiUn33K_1Sq",
        "colab_type": "code",
        "colab": {}
      },
      "source": [
        "data['personalloan_value']=le.fit_transform(data['personal loan'])"
      ],
      "execution_count": 0,
      "outputs": []
    },
    {
      "cell_type": "code",
      "metadata": {
        "id": "igNNXh-kUXKe",
        "colab_type": "code",
        "colab": {}
      },
      "source": [
        "data['term_deposit']=le.fit_transform(data['y'])"
      ],
      "execution_count": 0,
      "outputs": []
    },
    {
      "cell_type": "code",
      "metadata": {
        "id": "2Q8YrecS_yvV",
        "colab_type": "code",
        "colab": {
          "base_uri": "https://localhost:8080/",
          "height": 234
        },
        "outputId": "1133cd44-e2db-4ca6-f698-7f5cb0c4ac7b"
      },
      "source": [
        "data.head()"
      ],
      "execution_count": 108,
      "outputs": [
        {
          "output_type": "execute_result",
          "data": {
            "text/html": [
              "<div>\n",
              "<style scoped>\n",
              "    .dataframe tbody tr th:only-of-type {\n",
              "        vertical-align: middle;\n",
              "    }\n",
              "\n",
              "    .dataframe tbody tr th {\n",
              "        vertical-align: top;\n",
              "    }\n",
              "\n",
              "    .dataframe thead th {\n",
              "        text-align: right;\n",
              "    }\n",
              "</style>\n",
              "<table border=\"1\" class=\"dataframe\">\n",
              "  <thead>\n",
              "    <tr style=\"text-align: right;\">\n",
              "      <th></th>\n",
              "      <th>age</th>\n",
              "      <th>job</th>\n",
              "      <th>marital status</th>\n",
              "      <th>education</th>\n",
              "      <th>credit default</th>\n",
              "      <th>housing loan</th>\n",
              "      <th>personal loan</th>\n",
              "      <th>y</th>\n",
              "      <th>age_range</th>\n",
              "      <th>job_value</th>\n",
              "      <th>maritalstatus_value</th>\n",
              "      <th>education_value</th>\n",
              "      <th>housingloan_value</th>\n",
              "      <th>personalloan_value</th>\n",
              "      <th>term_deposit</th>\n",
              "    </tr>\n",
              "  </thead>\n",
              "  <tbody>\n",
              "    <tr>\n",
              "      <th>0</th>\n",
              "      <td>30</td>\n",
              "      <td>unemployed</td>\n",
              "      <td>married</td>\n",
              "      <td>primary</td>\n",
              "      <td>no</td>\n",
              "      <td>no</td>\n",
              "      <td>no</td>\n",
              "      <td>no</td>\n",
              "      <td>25-35</td>\n",
              "      <td>10</td>\n",
              "      <td>1</td>\n",
              "      <td>0</td>\n",
              "      <td>0</td>\n",
              "      <td>0</td>\n",
              "      <td>0</td>\n",
              "    </tr>\n",
              "    <tr>\n",
              "      <th>1</th>\n",
              "      <td>33</td>\n",
              "      <td>services</td>\n",
              "      <td>married</td>\n",
              "      <td>secondary</td>\n",
              "      <td>no</td>\n",
              "      <td>yes</td>\n",
              "      <td>yes</td>\n",
              "      <td>no</td>\n",
              "      <td>25-35</td>\n",
              "      <td>7</td>\n",
              "      <td>1</td>\n",
              "      <td>1</td>\n",
              "      <td>1</td>\n",
              "      <td>1</td>\n",
              "      <td>0</td>\n",
              "    </tr>\n",
              "    <tr>\n",
              "      <th>2</th>\n",
              "      <td>35</td>\n",
              "      <td>management</td>\n",
              "      <td>single</td>\n",
              "      <td>tertiary</td>\n",
              "      <td>no</td>\n",
              "      <td>yes</td>\n",
              "      <td>no</td>\n",
              "      <td>no</td>\n",
              "      <td>25-35</td>\n",
              "      <td>4</td>\n",
              "      <td>2</td>\n",
              "      <td>2</td>\n",
              "      <td>1</td>\n",
              "      <td>0</td>\n",
              "      <td>0</td>\n",
              "    </tr>\n",
              "    <tr>\n",
              "      <th>3</th>\n",
              "      <td>30</td>\n",
              "      <td>management</td>\n",
              "      <td>married</td>\n",
              "      <td>tertiary</td>\n",
              "      <td>no</td>\n",
              "      <td>yes</td>\n",
              "      <td>yes</td>\n",
              "      <td>no</td>\n",
              "      <td>25-35</td>\n",
              "      <td>4</td>\n",
              "      <td>1</td>\n",
              "      <td>2</td>\n",
              "      <td>1</td>\n",
              "      <td>1</td>\n",
              "      <td>0</td>\n",
              "    </tr>\n",
              "    <tr>\n",
              "      <th>4</th>\n",
              "      <td>59</td>\n",
              "      <td>blue-collar</td>\n",
              "      <td>married</td>\n",
              "      <td>secondary</td>\n",
              "      <td>no</td>\n",
              "      <td>yes</td>\n",
              "      <td>no</td>\n",
              "      <td>no</td>\n",
              "      <td>55-65</td>\n",
              "      <td>1</td>\n",
              "      <td>1</td>\n",
              "      <td>1</td>\n",
              "      <td>1</td>\n",
              "      <td>0</td>\n",
              "      <td>0</td>\n",
              "    </tr>\n",
              "  </tbody>\n",
              "</table>\n",
              "</div>"
            ],
            "text/plain": [
              "   age          job  ... personalloan_value term_deposit\n",
              "0   30   unemployed  ...                  0            0\n",
              "1   33     services  ...                  1            0\n",
              "2   35   management  ...                  0            0\n",
              "3   30   management  ...                  1            0\n",
              "4   59  blue-collar  ...                  0            0\n",
              "\n",
              "[5 rows x 15 columns]"
            ]
          },
          "metadata": {
            "tags": []
          },
          "execution_count": 108
        }
      ]
    },
    {
      "cell_type": "code",
      "metadata": {
        "id": "Atgrwo_gU55-",
        "colab_type": "code",
        "colab": {
          "base_uri": "https://localhost:8080/",
          "height": 104
        },
        "outputId": "a58f3da3-cee5-45ea-eafb-4d89ab881db8"
      },
      "source": [
        "data.columns"
      ],
      "execution_count": 109,
      "outputs": [
        {
          "output_type": "execute_result",
          "data": {
            "text/plain": [
              "Index(['age', 'job', 'marital status', 'education', 'credit default',\n",
              "       'housing loan', 'personal loan', 'y', 'age_range', 'job_value',\n",
              "       'maritalstatus_value', 'education_value', 'housingloan_value',\n",
              "       'personalloan_value', 'term_deposit'],\n",
              "      dtype='object')"
            ]
          },
          "metadata": {
            "tags": []
          },
          "execution_count": 109
        }
      ]
    },
    {
      "cell_type": "code",
      "metadata": {
        "id": "OJflRzCoU3h_",
        "colab_type": "code",
        "colab": {}
      },
      "source": [
        "X=data[['age','job_value','maritalstatus_value', 'education_value', 'housingloan_value','personalloan_value']]\n",
        "y=data['term_deposit']"
      ],
      "execution_count": 0,
      "outputs": []
    },
    {
      "cell_type": "code",
      "metadata": {
        "id": "zWegwkM6_kGT",
        "colab_type": "code",
        "colab": {
          "base_uri": "https://localhost:8080/",
          "height": 883
        },
        "outputId": "ee056b2d-07c0-434d-c005-3fe2a5e59666"
      },
      "source": [
        "p=scatter_matrix(X,figsize=(15, 15))"
      ],
      "execution_count": 111,
      "outputs": [
        {
          "output_type": "display_data",
          "data": {
            "image/png": "[encoded data removed]",
            "text/plain": [
              "<Figure size 1080x1080 with 36 Axes>"
            ]
          },
          "metadata": {
            "tags": []
          }
        }
      ]
    },
    {
      "cell_type": "markdown",
      "metadata": {
        "id": "uqRavV_nZLF3",
        "colab_type": "text"
      },
      "source": [
        "Correlation  Analysis -Pearson"
      ]
    },
    {
      "cell_type": "code",
      "metadata": {
        "id": "jQKvTWxGZN0a",
        "colab_type": "code",
        "colab": {
          "base_uri": "https://localhost:8080/",
          "height": 701
        },
        "outputId": "86ae769f-130d-41f8-f045-de7ce8c204fb"
      },
      "source": [
        "plt.figure(figsize=(10,10)) \n",
        "sns.heatmap(data[['age','job_value','maritalstatus_value', \n",
        "                  'education_value', 'housingloan_value','personalloan_value', 'term_deposit']].corr(),\n",
        "            annot=True,cmap ='RdYlGn')"
      ],
      "execution_count": 112,
      "outputs": [
        {
          "output_type": "execute_result",
          "data": {
            "text/plain": [
              "<matplotlib.axes._subplots.AxesSubplot at 0x7f6a57fa1518>"
            ]
          },
          "metadata": {
            "tags": []
          },
          "execution_count": 112
        },
        {
          "output_type": "display_data",
          "data": {
            "image/png": "[encoded data removed]",
            "text/plain": [
              "<Figure size 720x720 with 2 Axes>"
            ]
          },
          "metadata": {
            "tags": []
          }
        }
      ]
    },
    {
      "cell_type": "code",
      "metadata": {
        "id": "zL8FSssX6gjT",
        "colab_type": "code",
        "colab": {
          "base_uri": "https://localhost:8080/",
          "height": 353
        },
        "outputId": "d273604c-d37a-459c-e7bf-480fd755e531"
      },
      "source": [
        "ax = sns.countplot(x = y ,palette=\"Set2\")\n",
        "sns.set(font_scale=1.5)\n",
        "ax.set_xlabel(' ')\n",
        "ax.set_ylabel(' ')\n",
        "fig = plt.gcf()\n",
        "fig.set_size_inches(10,5)\n",
        "ax.set_ylim(top=1021)\n",
        "for p in ax.patches:\n",
        "    ax.annotate('{:.2f}%'.format(100*p.get_height()/len(y)), (p.get_x()+ 0.3, p.get_height()))\n",
        "\n",
        "plt.title('Distribution of Targets is Imbalance')\n",
        "plt.xlabel('Term Deposit')\n",
        "plt.ylabel('Frequency [%]')\n",
        "plt.show()"
      ],
      "execution_count": 113,
      "outputs": [
        {
          "output_type": "display_data",
          "data": {
            "image/png": "[encoded data removed]",
            "text/plain": [
              "<Figure size 720x360 with 1 Axes>"
            ]
          },
          "metadata": {
            "tags": []
          }
        }
      ]
    },
    {
      "cell_type": "code",
      "metadata": {
        "id": "W6GlTWE_6Kmm",
        "colab_type": "code",
        "colab": {}
      },
      "source": [
        "from sklearn.tree import DecisionTreeClassifier\n",
        "from sklearn.model_selection import GridSearchCV,StratifiedKFold,cross_val_score,train_test_split\n",
        "\n",
        "from sklearn.metrics import f1_score,accuracy_score,confusion_matrix,classification_report,roc_curve,roc_auc_score\n",
        "\n",
        "import warnings\n",
        "warnings.filterwarnings('ignore') \n",
        "random_state=2019"
      ],
      "execution_count": 0,
      "outputs": []
    },
    {
      "cell_type": "code",
      "metadata": {
        "id": "GNpCpc3TsEim",
        "colab_type": "code",
        "colab": {}
      },
      "source": [
        "X=X.values\n",
        "y=y.values"
      ],
      "execution_count": 0,
      "outputs": []
    },
    {
      "cell_type": "code",
      "metadata": {
        "id": "NHebuSek62e6",
        "colab_type": "code",
        "colab": {
          "base_uri": "https://localhost:8080/",
          "height": 717
        },
        "cellView": "both",
        "outputId": "fe838436-39bd-4e90-8e43-68ebaba9ed3e"
      },
      "source": [
        "#@title\n",
        "param_grid = {'criterion': ['gini', 'entropy'],\n",
        "              'splitter': ['best', 'random'],\n",
        "              'max_depth': [None,2,4,8,10],\n",
        "              'max_features': [2,4,6],\n",
        "              'random_state':[random_state]\n",
        "             }\n",
        "\n",
        "i=1\n",
        "kf = StratifiedKFold(n_splits=10,random_state=1,shuffle=True)\n",
        "for train_index,test_index in kf.split(X,y):\n",
        "  print('\\n{} of kfold {}'.format(i,kf.n_splits))\n",
        "  xtr,xvl = X[train_index],X[test_index]\n",
        "  ytr,yvl = y[train_index],y[test_index]\n",
        "  model = GridSearchCV(DecisionTreeClassifier(), param_grid, cv=10, scoring= 'f1',iid=True)\n",
        "  model.fit(xtr, ytr)\n",
        "  print (model.best_params_)\n",
        "  pred=model.predict(xvl)\n",
        "  print('accuracy_score',accuracy_score(yvl,pred))\n",
        "  i+=1"
      ],
      "execution_count": 154,
      "outputs": [
        {
          "output_type": "stream",
          "text": [
            "\n",
            "1 of kfold 10\n",
            "{'criterion': 'gini', 'max_depth': 10, 'max_features': 4, 'random_state': 2019, 'splitter': 'best'}\n",
            "accuracy_score 0.8446601941747572\n",
            "\n",
            "2 of kfold 10\n",
            "{'criterion': 'entropy', 'max_depth': None, 'max_features': 6, 'random_state': 2019, 'splitter': 'best'}\n",
            "accuracy_score 0.8058252427184466\n",
            "\n",
            "3 of kfold 10\n",
            "{'criterion': 'entropy', 'max_depth': None, 'max_features': 6, 'random_state': 2019, 'splitter': 'best'}\n",
            "accuracy_score 0.8349514563106796\n",
            "\n",
            "4 of kfold 10\n",
            "{'criterion': 'gini', 'max_depth': None, 'max_features': 6, 'random_state': 2019, 'splitter': 'best'}\n",
            "accuracy_score 0.7961165048543689\n",
            "\n",
            "5 of kfold 10\n",
            "{'criterion': 'entropy', 'max_depth': None, 'max_features': 6, 'random_state': 2019, 'splitter': 'best'}\n",
            "accuracy_score 0.803921568627451\n",
            "\n",
            "6 of kfold 10\n",
            "{'criterion': 'gini', 'max_depth': None, 'max_features': 6, 'random_state': 2019, 'splitter': 'best'}\n",
            "accuracy_score 0.7745098039215687\n",
            "\n",
            "7 of kfold 10\n",
            "{'criterion': 'gini', 'max_depth': 10, 'max_features': 2, 'random_state': 2019, 'splitter': 'best'}\n",
            "accuracy_score 0.8529411764705882\n",
            "\n",
            "8 of kfold 10\n",
            "{'criterion': 'entropy', 'max_depth': None, 'max_features': 2, 'random_state': 2019, 'splitter': 'random'}\n",
            "accuracy_score 0.801980198019802\n",
            "\n",
            "9 of kfold 10\n",
            "{'criterion': 'entropy', 'max_depth': None, 'max_features': 2, 'random_state': 2019, 'splitter': 'best'}\n",
            "accuracy_score 0.801980198019802\n",
            "\n",
            "10 of kfold 10\n",
            "{'criterion': 'gini', 'max_depth': None, 'max_features': 6, 'random_state': 2019, 'splitter': 'best'}\n",
            "accuracy_score 0.8217821782178217\n"
          ],
          "name": "stdout"
        }
      ]
    },
    {
      "cell_type": "code",
      "metadata": {
        "id": "TGXZ9BWBpoC7",
        "colab_type": "code",
        "colab": {}
      },
      "source": [
        "indexes=[]\n",
        "kf = StratifiedKFold(n_splits=2,random_state=1,shuffle=True)\n",
        "for train_index,test_index in kf.split(X,y):\n",
        "  indexes.append({'train':train_index,'test':test_index})"
      ],
      "execution_count": 0,
      "outputs": []
    },
    {
      "cell_type": "code",
      "metadata": {
        "id": "ekwaNHFc4XmL",
        "colab_type": "code",
        "colab": {}
      },
      "source": [
        "#Best Param - Decision Tree\n",
        "model = DecisionTreeClassifier(criterion='gini', max_depth= 10, max_features= 2, random_state= 2019, splitter='best')"
      ],
      "execution_count": 0,
      "outputs": []
    },
    {
      "cell_type": "code",
      "metadata": {
        "id": "nQ19Y1fQrcmb",
        "colab_type": "code",
        "colab": {}
      },
      "source": [
        "split_1= indexes[0]\n",
        "split_2= indexes[1]"
      ],
      "execution_count": 0,
      "outputs": []
    },
    {
      "cell_type": "code",
      "metadata": {
        "id": "Kox4CAeUuVyV",
        "colab_type": "code",
        "colab": {}
      },
      "source": [
        "def fit_evaluate(X_train,y_train,X_test,y_test):\n",
        "  model.fit(X_train,y_train)\n",
        "  y_pred = model.predict(X_test)\n",
        "  \n",
        "  cnf_matrix = confusion_matrix(y_test,y_pred)\n",
        "  p = sns.heatmap(pd.DataFrame(cnf_matrix), annot=True, cmap=\"YlGnBu\" ,fmt='g')\n",
        "  plt.title('Confusion matrix', y=1.1)\n",
        "  plt.ylabel('Actual label')\n",
        "  plt.xlabel('Predicted label')\n",
        "  plt.show()\n",
        "  \n",
        "  print(classification_report(y_test,y_pred))\n",
        "  \n",
        "  y_pred_proba = model.predict_proba(X_test)[:,1]\n",
        "  fpr, tpr, thresholds = roc_curve(y_test, y_pred_proba)\n",
        "  \n",
        "  plt.plot([0,1],[0,1],'k--')\n",
        "  plt.plot(fpr,tpr, label='DTC')\n",
        "  plt.xlabel('fpr')\n",
        "  plt.ylabel('tpr')\n",
        "  plt.title('DTC ROC curve')\n",
        "  plt.show()\n",
        "  \n",
        "  print('ROC AUC Score')\n",
        "  print(roc_auc_score(y_test,y_pred_proba))"
      ],
      "execution_count": 0,
      "outputs": []
    },
    {
      "cell_type": "code",
      "metadata": {
        "id": "vlWTMO2PvSHt",
        "colab_type": "code",
        "colab": {
          "base_uri": "https://localhost:8080/",
          "height": 811
        },
        "outputId": "5cf54136-b763-48a3-955a-510c1600a10c"
      },
      "source": [
        "fit_evaluate(X[split_1['train']],y[split_1['train']],X[split_1['test']],y[split_1['test']])"
      ],
      "execution_count": 179,
      "outputs": [
        {
          "output_type": "display_data",
          "data": {
            "image/png": "[encoded data removed]",
            "text/plain": [
              "<Figure size 432x288 with 2 Axes>"
            ]
          },
          "metadata": {
            "tags": []
          }
        },
        {
          "output_type": "stream",
          "text": [
            "              precision    recall  f1-score   support\n",
            "\n",
            "           0       0.88      0.94      0.91       449\n",
            "           1       0.18      0.10      0.13        62\n",
            "\n",
            "    accuracy                           0.84       511\n",
            "   macro avg       0.53      0.52      0.52       511\n",
            "weighted avg       0.80      0.84      0.82       511\n",
            "\n"
          ],
          "name": "stdout"
        },
        {
          "output_type": "display_data",
          "data": {
            "image/png": "[encoded data removed]",
            "text/plain": [
              "<Figure size 432x288 with 1 Axes>"
            ]
          },
          "metadata": {
            "tags": []
          }
        },
        {
          "output_type": "stream",
          "text": [
            "ROC AUC Score\n",
            "0.5481895251095624\n"
          ],
          "name": "stdout"
        }
      ]
    },
    {
      "cell_type": "code",
      "metadata": {
        "id": "7wFt7z302993",
        "colab_type": "code",
        "colab": {
          "base_uri": "https://localhost:8080/",
          "height": 811
        },
        "outputId": "4eed7fb6-fa3f-4c2c-cb58-718a1927835c"
      },
      "source": [
        "fit_evaluate(X[split_2['train']],y[split_2['train']],X[split_2['test']],y[split_2['test']])"
      ],
      "execution_count": 180,
      "outputs": [
        {
          "output_type": "display_data",
          "data": {
            "image/png": "[encoded data removed]",
            "text/plain": [
              "<Figure size 432x288 with 2 Axes>"
            ]
          },
          "metadata": {
            "tags": []
          }
        },
        {
          "output_type": "stream",
          "text": [
            "              precision    recall  f1-score   support\n",
            "\n",
            "           0       0.88      0.95      0.92       448\n",
            "           1       0.16      0.06      0.09        62\n",
            "\n",
            "    accuracy                           0.85       510\n",
            "   macro avg       0.52      0.51      0.50       510\n",
            "weighted avg       0.79      0.85      0.82       510\n",
            "\n"
          ],
          "name": "stdout"
        },
        {
          "output_type": "display_data",
          "data": {
            "image/png": "[encoded data removed]",
            "text/plain": [
              "<Figure size 432x288 with 1 Axes>"
            ]
          },
          "metadata": {
            "tags": []
          }
        },
        {
          "output_type": "stream",
          "text": [
            "ROC AUC Score\n",
            "0.5247335829493087\n"
          ],
          "name": "stdout"
        }
      ]
    },
    {
      "cell_type": "code",
      "metadata": {
        "id": "8j5EV0Fn21sH",
        "colab_type": "code",
        "colab": {}
      },
      "source": [
        ""
      ],
      "execution_count": 0,
      "outputs": []
    },
    {
      "cell_type": "code",
      "metadata": {
        "id": "a9oRgTV32xFR",
        "colab_type": "code",
        "colab": {}
      },
      "source": [
        ""
      ],
      "execution_count": 0,
      "outputs": []
    },
    {
      "cell_type": "code",
      "metadata": {
        "id": "8CF-uYXk16Hr",
        "colab_type": "code",
        "colab": {}
      },
      "source": [
        ""
      ],
      "execution_count": 0,
      "outputs": []
    },
    {
      "cell_type": "code",
      "metadata": {
        "id": "R3tICHbf1wDH",
        "colab_type": "code",
        "colab": {}
      },
      "source": [
        ""
      ],
      "execution_count": 0,
      "outputs": []
    },
    {
      "cell_type": "code",
      "metadata": {
        "id": "78sy2Bz5y9s5",
        "colab_type": "code",
        "colab": {}
      },
      "source": [
        ""
      ],
      "execution_count": 0,
      "outputs": []
    },
    {
      "cell_type": "code",
      "metadata": {
        "id": "Tgp7zlKWy1_q",
        "colab_type": "code",
        "colab": {}
      },
      "source": [
        ""
      ],
      "execution_count": 0,
      "outputs": []
    },
    {
      "cell_type": "code",
      "metadata": {
        "id": "N-mTN_bwxz0L",
        "colab_type": "code",
        "colab": {}
      },
      "source": [
        ""
      ],
      "execution_count": 0,
      "outputs": []
    },
    {
      "cell_type": "code",
      "metadata": {
        "id": "JAGgoYJLxNQv",
        "colab_type": "code",
        "colab": {}
      },
      "source": [
        ""
      ],
      "execution_count": 0,
      "outputs": []
    },
    {
      "cell_type": "code",
      "metadata": {
        "id": "b9V9T71RxBg8",
        "colab_type": "code",
        "colab": {}
      },
      "source": [
        ""
      ],
      "execution_count": 0,
      "outputs": []
    },
    {
      "cell_type": "code",
      "metadata": {
        "id": "qJfPCG_dw8qo",
        "colab_type": "code",
        "colab": {}
      },
      "source": [
        ""
      ],
      "execution_count": 0,
      "outputs": []
    },
    {
      "cell_type": "code",
      "metadata": {
        "id": "_5vCkBy5w6B8",
        "colab_type": "code",
        "colab": {}
      },
      "source": [
        ""
      ],
      "execution_count": 0,
      "outputs": []
    },
    {
      "cell_type": "code",
      "metadata": {
        "id": "LdSK3eN0dGc5",
        "colab_type": "code",
        "colab": {}
      },
      "source": [
        ""
      ],
      "execution_count": 0,
      "outputs": []
    },
    {
      "cell_type": "code",
      "metadata": {
        "id": "1Mn8EZbWc47f",
        "colab_type": "code",
        "colab": {}
      },
      "source": [
        ""
      ],
      "execution_count": 0,
      "outputs": []
    },
    {
      "cell_type": "code",
      "metadata": {
        "id": "2EN3igCJb7hG",
        "colab_type": "code",
        "colab": {}
      },
      "source": [
        ""
      ],
      "execution_count": 0,
      "outputs": []
    },
    {
      "cell_type": "code",
      "metadata": {
        "id": "0lO7hz_pbykH",
        "colab_type": "code",
        "colab": {}
      },
      "source": [
        ""
      ],
      "execution_count": 0,
      "outputs": []
    },
    {
      "cell_type": "code",
      "metadata": {
        "id": "WGcvc2qQbjjt",
        "colab_type": "code",
        "colab": {}
      },
      "source": [
        ""
      ],
      "execution_count": 0,
      "outputs": []
    },
    {
      "cell_type": "code",
      "metadata": {
        "id": "iHoIvmhuaSVp",
        "colab_type": "code",
        "colab": {}
      },
      "source": [
        ""
      ],
      "execution_count": 0,
      "outputs": []
    },
    {
      "cell_type": "code",
      "metadata": {
        "id": "6b5amquAaLnW",
        "colab_type": "code",
        "colab": {}
      },
      "source": [
        ""
      ],
      "execution_count": 0,
      "outputs": []
    },
    {
      "cell_type": "code",
      "metadata": {
        "id": "_q0nBmolZMnO",
        "colab_type": "code",
        "colab": {}
      },
      "source": [
        ""
      ],
      "execution_count": 0,
      "outputs": []
    },
    {
      "cell_type": "code",
      "metadata": {
        "id": "nUTgyu2ZVZee",
        "colab_type": "code",
        "colab": {}
      },
      "source": [
        ""
      ],
      "execution_count": 0,
      "outputs": []
    }
  ]
}