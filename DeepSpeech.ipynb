{
  "nbformat": 4,
  "nbformat_minor": 0,
  "metadata": {
    "colab": {
      "name": "DeepSpeech.ipynb",
      "provenance": [],
      "collapsed_sections": [],
      "include_colab_link": true
    },
    "kernelspec": {
      "name": "python3",
      "display_name": "Python 3"
    },
    "accelerator": "GPU"
  },
  "cells": [
    {
      "cell_type": "markdown",
      "metadata": {
        "id": "view-in-github",
        "colab_type": "text"
      },
      "source": [
        "<a href=\"https://colab.research.google.com/github/lokeshkumarn/Notebooks/blob/master/DeepSpeech.ipynb\" target=\"_parent\"><img src=\"https://colab.research.google.com/assets/colab-badge.svg\" alt=\"Open In Colab\"/></a>"
      ]
    },
    {
      "cell_type": "code",
      "metadata": {
        "id": "W97nWj_tQSOk",
        "colab_type": "code",
        "colab": {}
      },
      "source": [
        "!wget -O git-lfs.tar.gz https://github.com/git-lfs/git-lfs/releases/download/v2.4.2/git-lfs-linux-amd64-2.4.2.tar.gz\n",
        "!tar -xvzf git-lfs.tar.gz\n",
        "!./git-lfs-2.4.2/install.sh\n",
        "!git lfs clone https://github.com/mozilla/DeepSpeech"
      ],
      "execution_count": 0,
      "outputs": []
    },
    {
      "cell_type": "code",
      "metadata": {
        "id": "aAbOEcPVlUp6",
        "colab_type": "code",
        "colab": {
          "base_uri": "https://localhost:8080/",
          "height": 54
        },
        "outputId": "2db64120-acca-4940-b71f-30a67e256105"
      },
      "source": [
        "from google.colab import drive\n",
        "drive.mount('/content/drive')\n",
        "!mv deepspeech \"/content/drive/My Drive/\""
      ],
      "execution_count": 1,
      "outputs": [
        {
          "output_type": "stream",
          "text": [
            "Drive already mounted at /content/drive; to attempt to forcibly remount, call drive.mount(\"/content/drive\", force_remount=True).\n"
          ],
          "name": "stdout"
        }
      ]
    },
    {
      "cell_type": "code",
      "metadata": {
        "id": "nXG9qr_nmOuF",
        "colab_type": "code",
        "colab": {}
      },
      "source": [
        "!pip3 install -r \"/content/drive/My Drive/DeepSpeech/requirements.txt\""
      ],
      "execution_count": 0,
      "outputs": []
    },
    {
      "cell_type": "code",
      "metadata": {
        "id": "pbrW31JkmcYT",
        "colab_type": "code",
        "colab": {
          "base_uri": "https://localhost:8080/",
          "height": 139
        },
        "outputId": "e411dab6-469a-4c4e-f6c0-a26d61b7f6e4"
      },
      "source": [
        "!pip3 install deepspeech-gpu"
      ],
      "execution_count": 3,
      "outputs": [
        {
          "output_type": "stream",
          "text": [
            "Collecting deepspeech-gpu\n",
            "\u001b[?25l  Downloading https://files.pythonhosted.org/packages/77/10/288593c577f0d2b2152058286ec4c6284930df38756f5f2e9f1155e66ecc/deepspeech_gpu-0.6.0-cp36-cp36m-manylinux1_x86_64.whl (18.7MB)\n",
            "\u001b[K     |████████████████████████████████| 18.7MB 159kB/s \n",
            "\u001b[?25hRequirement already satisfied: numpy>=1.7.0 in /usr/local/lib/python3.6/dist-packages (from deepspeech-gpu) (1.15.4)\n",
            "Installing collected packages: deepspeech-gpu\n",
            "Successfully installed deepspeech-gpu-0.6.0\n"
          ],
          "name": "stdout"
        }
      ]
    },
    {
      "cell_type": "code",
      "metadata": {
        "id": "5WnY8k5Al-qa",
        "colab_type": "code",
        "colab": {
          "base_uri": "https://localhost:8080/",
          "height": 190
        },
        "outputId": "b4481fd4-8ca3-4b32-cba9-2e10c1a37368"
      },
      "source": [
        "!python3 \"/content/drive/My Drive/DeepSpeech/util/taskcluster.py\" --target \"/content/drive/My Drive/DeepSpeech/native_client\""
      ],
      "execution_count": 5,
      "outputs": [
        {
          "output_type": "stream",
          "text": [
            "Downloading https://community-tc.services.mozilla.com/api/index/v1/task/project.deepspeech.deepspeech.native_client.v0.6.1-alpha.0.cpu/artifacts/public/native_client.tar.xz ...\n",
            "\rDownloading: 0%\rDownloading: 0%\rDownloading: 0%\rDownloading: 0%\rDownloading: 0%\rDownloading: 0%\rDownloading: 0%\rDownloading: 0%\rDownloading: 0%\rDownloading: 1%\rDownloading: 1%\rDownloading: 1%\rDownloading: 1%\rDownloading: 1%\rDownloading: 1%\rDownloading: 1%\rDownloading: 1%\rDownloading: 2%\rDownloading: 2%\rDownloading: 2%\rDownloading: 2%\rDownloading: 2%\rDownloading: 2%\rDownloading: 2%\rDownloading: 2%\rDownloading: 3%\rDownloading: 3%\rDownloading: 3%\rDownloading: 3%\rDownloading: 3%\rDownloading: 3%\rDownloading: 3%\rDownloading: 3%\rDownloading: 4%\rDownloading: 4%\rDownloading: 4%\rDownloading: 4%\rDownloading: 4%\rDownloading: 4%\rDownloading: 4%\rDownloading: 4%\rDownloading: 5%\rDownloading: 5%\rDownloading: 5%\rDownloading: 5%\rDownloading: 5%\rDownloading: 5%\rDownloading: 5%\rDownloading: 5%\rDownloading: 5%\rDownloading: 6%\rDownloading: 6%\rDownloading: 6%\rDownloading: 6%\rDownloading: 6%\rDownloading: 6%\rDownloading: 6%\rDownloading: 6%\rDownloading: 7%\rDownloading: 7%\rDownloading: 7%\rDownloading: 7%\rDownloading: 7%\rDownloading: 7%\rDownloading: 7%\rDownloading: 7%\rDownloading: 8%\rDownloading: 8%\rDownloading: 8%\rDownloading: 8%\rDownloading: 8%\rDownloading: 8%\rDownloading: 8%\rDownloading: 8%\rDownloading: 9%\rDownloading: 9%\rDownloading: 9%\rDownloading: 9%\rDownloading: 9%\rDownloading: 9%\rDownloading: 9%\rDownloading: 9%\rDownloading: 10%\rDownloading: 10%\rDownloading: 10%\rDownloading: 10%\rDownloading: 10%\rDownloading: 10%\rDownloading: 10%\rDownloading: 10%\rDownloading: 10%\rDownloading: 11%\rDownloading: 11%\rDownloading: 11%\rDownloading: 11%\rDownloading: 11%\rDownloading: 11%\rDownloading: 11%\rDownloading: 11%\rDownloading: 12%\rDownloading: 12%\rDownloading: 12%\rDownloading: 12%\rDownloading: 12%\rDownloading: 12%\rDownloading: 12%\rDownloading: 12%\rDownloading: 13%\rDownloading: 13%\rDownloading: 13%\rDownloading: 13%\rDownloading: 13%\rDownloading: 13%\rDownloading: 13%\rDownloading: 13%\rDownloading: 14%\rDownloading: 14%\rDownloading: 14%\rDownloading: 14%\rDownloading: 14%\rDownloading: 14%\rDownloading: 14%\rDownloading: 14%\rDownloading: 15%\rDownloading: 15%\rDownloading: 15%\rDownloading: 15%\rDownloading: 15%\rDownloading: 15%\rDownloading: 15%\rDownloading: 15%\rDownloading: 15%\rDownloading: 16%\rDownloading: 16%\rDownloading: 16%\rDownloading: 16%\rDownloading: 16%\rDownloading: 16%\rDownloading: 16%\rDownloading: 16%\rDownloading: 17%\rDownloading: 17%\rDownloading: 17%\rDownloading: 17%\rDownloading: 17%\rDownloading: 17%\rDownloading: 17%\rDownloading: 17%\rDownloading: 18%\rDownloading: 18%\rDownloading: 18%\rDownloading: 18%\rDownloading: 18%\rDownloading: 18%\rDownloading: 18%\rDownloading: 18%\rDownloading: 19%\rDownloading: 19%\rDownloading: 19%\rDownloading: 19%\rDownloading: 19%\rDownloading: 19%\rDownloading: 19%\rDownloading: 19%\rDownloading: 20%\rDownloading: 20%\rDownloading: 20%\rDownloading: 20%\rDownloading: 20%\rDownloading: 20%\rDownloading: 20%\rDownloading: 20%\rDownloading: 20%\rDownloading: 21%\rDownloading: 21%\rDownloading: 21%\rDownloading: 21%\rDownloading: 21%\rDownloading: 21%\rDownloading: 21%\rDownloading: 21%\rDownloading: 22%\rDownloading: 22%\rDownloading: 22%\rDownloading: 22%\rDownloading: 22%\rDownloading: 22%\rDownloading: 22%\rDownloading: 22%\rDownloading: 23%\rDownloading: 23%\rDownloading: 23%\rDownloading: 23%\rDownloading: 23%\rDownloading: 23%\rDownloading: 23%\rDownloading: 23%\rDownloading: 24%\rDownloading: 24%\rDownloading: 24%\rDownloading: 24%\rDownloading: 24%\rDownloading: 24%\rDownloading: 24%\rDownloading: 24%\rDownloading: 25%\rDownloading: 25%\rDownloading: 25%\rDownloading: 25%\rDownloading: 25%\rDownloading: 25%\rDownloading: 25%\rDownloading: 25%\rDownloading: 25%\rDownloading: 26%\rDownloading: 26%\rDownloading: 26%\rDownloading: 26%\rDownloading: 26%\rDownloading: 26%\rDownloading: 26%\rDownloading: 26%\rDownloading: 27%\rDownloading: 27%\rDownloading: 27%\rDownloading: 27%\rDownloading: 27%\rDownloading: 27%\rDownloading: 27%\rDownloading: 27%\rDownloading: 28%\rDownloading: 28%\rDownloading: 28%\rDownloading: 28%\rDownloading: 28%\rDownloading: 28%\rDownloading: 28%\rDownloading: 28%\rDownloading: 29%\rDownloading: 29%\rDownloading: 29%\rDownloading: 29%\rDownloading: 29%\rDownloading: 29%\rDownloading: 29%\rDownloading: 29%\rDownloading: 30%\rDownloading: 30%\rDownloading: 30%\rDownloading: 30%\rDownloading: 30%\rDownloading: 30%\rDownloading: 30%\rDownloading: 30%\rDownloading: 30%\rDownloading: 31%\rDownloading: 31%\rDownloading: 31%\rDownloading: 31%\rDownloading: 31%\rDownloading: 31%\rDownloading: 31%\rDownloading: 31%\rDownloading: 32%\rDownloading: 32%\rDownloading: 32%\rDownloading: 32%\rDownloading: 32%\rDownloading: 32%\rDownloading: 32%\rDownloading: 32%\rDownloading: 33%\rDownloading: 33%\rDownloading: 33%\rDownloading: 33%\rDownloading: 33%\rDownloading: 33%\rDownloading: 33%\rDownloading: 33%\rDownloading: 34%\rDownloading: 34%\rDownloading: 34%\rDownloading: 34%\rDownloading: 34%\rDownloading: 34%\rDownloading: 34%\rDownloading: 34%\rDownloading: 35%\rDownloading: 35%\rDownloading: 35%\rDownloading: 35%\rDownloading: 35%\rDownloading: 35%\rDownloading: 35%\rDownloading: 35%\rDownloading: 35%\rDownloading: 36%\rDownloading: 36%\rDownloading: 36%\rDownloading: 36%\rDownloading: 36%\rDownloading: 36%\rDownloading: 36%\rDownloading: 36%\rDownloading: 37%\rDownloading: 37%\rDownloading: 37%\rDownloading: 37%\rDownloading: 37%\rDownloading: 37%\rDownloading: 37%\rDownloading: 37%\rDownloading: 38%\rDownloading: 38%\rDownloading: 38%\rDownloading: 38%\rDownloading: 38%\rDownloading: 38%\rDownloading: 38%\rDownloading: 38%\rDownloading: 39%\rDownloading: 39%\rDownloading: 39%\rDownloading: 39%\rDownloading: 39%\rDownloading: 39%\rDownloading: 39%\rDownloading: 39%\rDownloading: 40%\rDownloading: 40%\rDownloading: 40%\rDownloading: 40%\rDownloading: 40%\rDownloading: 40%\rDownloading: 40%\rDownloading: 40%\rDownloading: 40%\rDownloading: 41%\rDownloading: 41%\rDownloading: 41%\rDownloading: 41%\rDownloading: 41%\rDownloading: 41%\rDownloading: 41%\rDownloading: 41%\rDownloading: 42%\rDownloading: 42%\rDownloading: 42%\rDownloading: 42%\rDownloading: 42%\rDownloading: 42%\rDownloading: 42%\rDownloading: 42%\rDownloading: 43%\rDownloading: 43%\rDownloading: 43%\rDownloading: 43%\rDownloading: 43%\rDownloading: 43%\rDownloading: 43%\rDownloading: 43%\rDownloading: 44%\rDownloading: 44%\rDownloading: 44%\rDownloading: 44%\rDownloading: 44%\rDownloading: 44%\rDownloading: 44%\rDownloading: 44%\rDownloading: 45%\rDownloading: 45%\rDownloading: 45%\rDownloading: 45%\rDownloading: 45%\rDownloading: 45%\rDownloading: 45%\rDownloading: 45%\rDownloading: 45%\rDownloading: 46%\rDownloading: 46%\rDownloading: 46%\rDownloading: 46%\rDownloading: 46%\rDownloading: 46%\rDownloading: 46%\rDownloading: 46%\rDownloading: 47%\rDownloading: 47%\rDownloading: 47%\rDownloading: 47%\rDownloading: 47%\rDownloading: 47%\rDownloading: 47%\rDownloading: 47%\rDownloading: 48%\rDownloading: 48%\rDownloading: 48%\rDownloading: 48%\rDownloading: 48%\rDownloading: 48%\rDownloading: 48%\rDownloading: 48%\rDownloading: 49%\rDownloading: 49%\rDownloading: 49%\rDownloading: 49%\rDownloading: 49%\rDownloading: 49%\rDownloading: 49%\rDownloading: 49%\rDownloading: 50%\rDownloading: 50%\rDownloading: 50%\rDownloading: 50%\rDownloading: 50%\rDownloading: 50%\rDownloading: 50%\rDownloading: 50%\rDownloading: 51%\rDownloading: 51%\rDownloading: 51%\rDownloading: 51%\rDownloading: 51%\rDownloading: 51%\rDownloading: 51%\rDownloading: 51%\rDownloading: 51%\rDownloading: 52%\rDownloading: 52%\rDownloading: 52%\rDownloading: 52%\rDownloading: 52%\rDownloading: 52%\rDownloading: 52%\rDownloading: 52%\rDownloading: 53%\rDownloading: 53%\rDownloading: 53%\rDownloading: 53%\rDownloading: 53%\rDownloading: 53%\rDownloading: 53%\rDownloading: 53%\rDownloading: 54%\rDownloading: 54%\rDownloading: 54%\rDownloading: 54%\rDownloading: 54%\rDownloading: 54%\rDownloading: 54%\rDownloading: 54%\rDownloading: 55%\rDownloading: 55%\rDownloading: 55%\rDownloading: 55%\rDownloading: 55%\rDownloading: 55%\rDownloading: 55%\rDownloading: 55%\rDownloading: 56%\rDownloading: 56%\rDownloading: 56%\rDownloading: 56%\rDownloading: 56%\rDownloading: 56%\rDownloading: 56%\rDownloading: 56%\rDownloading: 56%\rDownloading: 57%\rDownloading: 57%\rDownloading: 57%\rDownloading: 57%\rDownloading: 57%\rDownloading: 57%\rDownloading: 57%\rDownloading: 57%\rDownloading: 58%\rDownloading: 58%\rDownloading: 58%\rDownloading: 58%\rDownloading: 58%\rDownloading: 58%\rDownloading: 58%\rDownloading: 58%\rDownloading: 59%\rDownloading: 59%\rDownloading: 59%\rDownloading: 59%\rDownloading: 59%\rDownloading: 59%\rDownloading: 59%\rDownloading: 59%\rDownloading: 60%\rDownloading: 60%\rDownloading: 60%\rDownloading: 60%\rDownloading: 60%\rDownloading: 60%\rDownloading: 60%\rDownloading: 60%\rDownloading: 61%\rDownloading: 61%\rDownloading: 61%\rDownloading: 61%\rDownloading: 61%\rDownloading: 61%\rDownloading: 61%\rDownloading: 61%\rDownloading: 61%\rDownloading: 62%\rDownloading: 62%\rDownloading: 62%\rDownloading: 62%\rDownloading: 62%\rDownloading: 62%\rDownloading: 62%\rDownloading: 62%\rDownloading: 63%\rDownloading: 63%\rDownloading: 63%\rDownloading: 63%\rDownloading: 63%\rDownloading: 63%\rDownloading: 63%\rDownloading: 63%\rDownloading: 64%\rDownloading: 64%\rDownloading: 64%\rDownloading: 64%\rDownloading: 64%\rDownloading: 64%\rDownloading: 64%\rDownloading: 64%\rDownloading: 65%\rDownloading: 65%\rDownloading: 65%\rDownloading: 65%\rDownloading: 65%\rDownloading: 65%\rDownloading: 65%\rDownloading: 65%\rDownloading: 66%\rDownloading: 66%\rDownloading: 66%\rDownloading: 66%\rDownloading: 66%\rDownloading: 66%\rDownloading: 66%\rDownloading: 66%\rDownloading: 66%\rDownloading: 67%\rDownloading: 67%\rDownloading: 67%\rDownloading: 67%\rDownloading: 67%\rDownloading: 67%\rDownloading: 67%\rDownloading: 67%\rDownloading: 68%\rDownloading: 68%\rDownloading: 68%\rDownloading: 68%\rDownloading: 68%\rDownloading: 68%\rDownloading: 68%\rDownloading: 68%\rDownloading: 69%\rDownloading: 69%\rDownloading: 69%\rDownloading: 69%\rDownloading: 69%\rDownloading: 69%\rDownloading: 69%\rDownloading: 69%\rDownloading: 70%\rDownloading: 70%\rDownloading: 70%\rDownloading: 70%\rDownloading: 70%\rDownloading: 70%\rDownloading: 70%\rDownloading: 70%\rDownloading: 71%\rDownloading: 71%\rDownloading: 71%\rDownloading: 71%\rDownloading: 71%\rDownloading: 71%\rDownloading: 71%\rDownloading: 71%\rDownloading: 71%\rDownloading: 72%\rDownloading: 72%\rDownloading: 72%\rDownloading: 72%\rDownloading: 72%\rDownloading: 72%\rDownloading: 72%\rDownloading: 72%\rDownloading: 73%\rDownloading: 73%\rDownloading: 73%\rDownloading: 73%\rDownloading: 73%\rDownloading: 73%\rDownloading: 73%\rDownloading: 73%\rDownloading: 74%\rDownloading: 74%\rDownloading: 74%\rDownloading: 74%\rDownloading: 74%\rDownloading: 74%\rDownloading: 74%\rDownloading: 74%\rDownloading: 75%\rDownloading: 75%\rDownloading: 75%\rDownloading: 75%\rDownloading: 75%\rDownloading: 75%\rDownloading: 75%\rDownloading: 75%\rDownloading: 76%\rDownloading: 76%\rDownloading: 76%\rDownloading: 76%\rDownloading: 76%\rDownloading: 76%\rDownloading: 76%\rDownloading: 76%\rDownloading: 76%\rDownloading: 77%\rDownloading: 77%\rDownloading: 77%\rDownloading: 77%\rDownloading: 77%\rDownloading: 77%\rDownloading: 77%\rDownloading: 77%\rDownloading: 78%\rDownloading: 78%\rDownloading: 78%\rDownloading: 78%\rDownloading: 78%\rDownloading: 78%\rDownloading: 78%\rDownloading: 78%\rDownloading: 79%\rDownloading: 79%\rDownloading: 79%\rDownloading: 79%\rDownloading: 79%\rDownloading: 79%\rDownloading: 79%\rDownloading: 79%\rDownloading: 80%\rDownloading: 80%\rDownloading: 80%\rDownloading: 80%\rDownloading: 80%\rDownloading: 80%\rDownloading: 80%\rDownloading: 80%\rDownloading: 81%\rDownloading: 81%\rDownloading: 81%\rDownloading: 81%\rDownloading: 81%\rDownloading: 81%\rDownloading: 81%\rDownloading: 81%\rDownloading: 81%\rDownloading: 82%\rDownloading: 82%\rDownloading: 82%\rDownloading: 82%\rDownloading: 82%\rDownloading: 82%\rDownloading: 82%\rDownloading: 82%\rDownloading: 83%\rDownloading: 83%\rDownloading: 83%\rDownloading: 83%\rDownloading: 83%\rDownloading: 83%\rDownloading: 83%\rDownloading: 83%\rDownloading: 84%\rDownloading: 84%\rDownloading: 84%\rDownloading: 84%\rDownloading: 84%\rDownloading: 84%\rDownloading: 84%\rDownloading: 84%\rDownloading: 85%\rDownloading: 85%\rDownloading: 85%\rDownloading: 85%\rDownloading: 85%\rDownloading: 85%\rDownloading: 85%\rDownloading: 85%\rDownloading: 86%\rDownloading: 86%\rDownloading: 86%\rDownloading: 86%\rDownloading: 86%\rDownloading: 86%\rDownloading: 86%\rDownloading: 86%\rDownloading: 86%\rDownloading: 87%\rDownloading: 87%\rDownloading: 87%\rDownloading: 87%\rDownloading: 87%\rDownloading: 87%\rDownloading: 87%\rDownloading: 87%\rDownloading: 88%\rDownloading: 88%\rDownloading: 88%\rDownloading: 88%\rDownloading: 88%\rDownloading: 88%\rDownloading: 88%\rDownloading: 88%\rDownloading: 89%\rDownloading: 89%\rDownloading: 89%\rDownloading: 89%\rDownloading: 89%\rDownloading: 89%\rDownloading: 89%\rDownloading: 89%\rDownloading: 90%\rDownloading: 90%\rDownloading: 90%\rDownloading: 90%\rDownloading: 90%\rDownloading: 90%\rDownloading: 90%\rDownloading: 90%\rDownloading: 91%\rDownloading: 91%\rDownloading: 91%\rDownloading: 91%\rDownloading: 91%\rDownloading: 91%\rDownloading: 91%\rDownloading: 91%\rDownloading: 91%\rDownloading: 92%\rDownloading: 92%\rDownloading: 92%\rDownloading: 92%\rDownloading: 92%\rDownloading: 92%\rDownloading: 92%\rDownloading: 92%\rDownloading: 93%\rDownloading: 93%\rDownloading: 93%\rDownloading: 93%\rDownloading: 93%\rDownloading: 93%\rDownloading: 93%\rDownloading: 93%\rDownloading: 94%\rDownloading: 94%\rDownloading: 94%\rDownloading: 94%\rDownloading: 94%\rDownloading: 94%\rDownloading: 94%\rDownloading: 94%\rDownloading: 95%\rDownloading: 95%\rDownloading: 95%\rDownloading: 95%\rDownloading: 95%\rDownloading: 95%\rDownloading: 95%\rDownloading: 95%\rDownloading: 96%\rDownloading: 96%\rDownloading: 96%\rDownloading: 96%\rDownloading: 96%\rDownloading: 96%\rDownloading: 96%\rDownloading: 96%\rDownloading: 97%\rDownloading: 97%\rDownloading: 97%\rDownloading: 97%\rDownloading: 97%\rDownloading: 97%\rDownloading: 97%\rDownloading: 97%\rDownloading: 97%\rDownloading: 98%\rDownloading: 98%\rDownloading: 98%\rDownloading: 98%\rDownloading: 98%\rDownloading: 98%\rDownloading: 98%\rDownloading: 98%\rDownloading: 99%\rDownloading: 99%\rDownloading: 99%\rDownloading: 99%\rDownloading: 99%\rDownloading: 99%\rDownloading: 99%\rDownloading: 99%\rDownloading: 100%\n",
            "\n",
            "generate_trie\n",
            "libdeepspeech.so\n",
            "LICENSE\n",
            "deepspeech\n",
            "deepspeech.h\n",
            "README.mozilla\n"
          ],
          "name": "stdout"
        }
      ]
    },
    {
      "cell_type": "code",
      "metadata": {
        "id": "aFNpD2c_qPl2",
        "colab_type": "code",
        "colab": {
          "base_uri": "https://localhost:8080/",
          "height": 34
        },
        "outputId": "82d7bf99-8021-4f1c-f1ec-8cd80fa79729"
      },
      "source": [
        "%cd \"/content/drive/My Drive/DeepSpeech\""
      ],
      "execution_count": 6,
      "outputs": [
        {
          "output_type": "stream",
          "text": [
            "/content/drive/My Drive/DeepSpeech\n"
          ],
          "name": "stdout"
        }
      ]
    },
    {
      "cell_type": "code",
      "metadata": {
        "id": "jNy-0ZiXqt97",
        "colab_type": "code",
        "colab": {
          "base_uri": "https://localhost:8080/",
          "height": 34
        },
        "outputId": "8868cc8e-c2f8-4e9b-b027-2406e4ecbfd6"
      },
      "source": [
        "!pwd"
      ],
      "execution_count": 7,
      "outputs": [
        {
          "output_type": "stream",
          "text": [
            "/content/drive/My Drive/DeepSpeech\n"
          ],
          "name": "stdout"
        }
      ]
    },
    {
      "cell_type": "code",
      "metadata": {
        "id": "qWOo_TBWqvub",
        "colab_type": "code",
        "colab": {
          "base_uri": "https://localhost:8080/",
          "height": 51
        },
        "outputId": "9f450340-6a17-4804-f50d-2cce6c94c6e3"
      },
      "source": [
        "!pip uninstall -y tensorflow"
      ],
      "execution_count": 8,
      "outputs": [
        {
          "output_type": "stream",
          "text": [
            "Uninstalling tensorflow-1.14.0:\n",
            "  Successfully uninstalled tensorflow-1.14.0\n"
          ],
          "name": "stdout"
        }
      ]
    },
    {
      "cell_type": "code",
      "metadata": {
        "id": "hTOVN_e8sZ_k",
        "colab_type": "code",
        "colab": {
          "base_uri": "https://localhost:8080/",
          "height": 700
        },
        "outputId": "6b1c9a4a-10c1-49d8-dae4-2814834dab6d"
      },
      "source": [
        "!pip install --upgrade 'tensorflow-gpu==1.6.0'"
      ],
      "execution_count": 9,
      "outputs": [
        {
          "output_type": "stream",
          "text": [
            "Collecting tensorflow-gpu==1.6.0\n",
            "\u001b[?25l  Downloading https://files.pythonhosted.org/packages/b1/8c/35ba6f94dd9729517b899c3ba764e604ffe22daeba04f7c771dd452ba55b/tensorflow_gpu-1.6.0-cp36-cp36m-manylinux1_x86_64.whl (209.2MB)\n",
            "\u001b[K     |████████████████████████████████| 209.2MB 66kB/s \n",
            "\u001b[?25hRequirement already satisfied, skipping upgrade: protobuf>=3.4.0 in /usr/local/lib/python3.6/dist-packages (from tensorflow-gpu==1.6.0) (3.10.0)\n",
            "Requirement already satisfied, skipping upgrade: grpcio>=1.8.6 in /usr/local/lib/python3.6/dist-packages (from tensorflow-gpu==1.6.0) (1.15.0)\n",
            "Requirement already satisfied, skipping upgrade: numpy>=1.13.3 in /usr/local/lib/python3.6/dist-packages (from tensorflow-gpu==1.6.0) (1.15.4)\n",
            "Collecting tensorboard<1.7.0,>=1.6.0\n",
            "\u001b[?25l  Downloading https://files.pythonhosted.org/packages/b0/67/a8c91665987d359211dcdca5c8b2a7c1e0876eb0702a4383c1e4ff76228d/tensorboard-1.6.0-py3-none-any.whl (3.0MB)\n",
            "\u001b[K     |████████████████████████████████| 3.1MB 48.4MB/s \n",
            "\u001b[?25hRequirement already satisfied, skipping upgrade: astor>=0.6.0 in /usr/local/lib/python3.6/dist-packages (from tensorflow-gpu==1.6.0) (0.8.1)\n",
            "Requirement already satisfied, skipping upgrade: gast>=0.2.0 in /usr/local/lib/python3.6/dist-packages (from tensorflow-gpu==1.6.0) (0.2.2)\n",
            "Requirement already satisfied, skipping upgrade: wheel>=0.26 in /usr/local/lib/python3.6/dist-packages (from tensorflow-gpu==1.6.0) (0.33.6)\n",
            "Requirement already satisfied, skipping upgrade: absl-py>=0.1.6 in /usr/local/lib/python3.6/dist-packages (from tensorflow-gpu==1.6.0) (0.8.1)\n",
            "Requirement already satisfied, skipping upgrade: termcolor>=1.1.0 in /usr/local/lib/python3.6/dist-packages (from tensorflow-gpu==1.6.0) (1.1.0)\n",
            "Requirement already satisfied, skipping upgrade: six>=1.10.0 in /usr/local/lib/python3.6/dist-packages (from tensorflow-gpu==1.6.0) (1.12.0)\n",
            "Requirement already satisfied, skipping upgrade: setuptools in /usr/local/lib/python3.6/dist-packages (from protobuf>=3.4.0->tensorflow-gpu==1.6.0) (42.0.2)\n",
            "Collecting bleach==1.5.0\n",
            "  Downloading https://files.pythonhosted.org/packages/33/70/86c5fec937ea4964184d4d6c4f0b9551564f821e1c3575907639036d9b90/bleach-1.5.0-py2.py3-none-any.whl\n",
            "Requirement already satisfied, skipping upgrade: markdown>=2.6.8 in /usr/local/lib/python3.6/dist-packages (from tensorboard<1.7.0,>=1.6.0->tensorflow-gpu==1.6.0) (3.1.1)\n",
            "Collecting html5lib==0.9999999\n",
            "\u001b[?25l  Downloading https://files.pythonhosted.org/packages/ae/ae/bcb60402c60932b32dfaf19bb53870b29eda2cd17551ba5639219fb5ebf9/html5lib-0.9999999.tar.gz (889kB)\n",
            "\u001b[K     |████████████████████████████████| 890kB 53.2MB/s \n",
            "\u001b[?25hRequirement already satisfied, skipping upgrade: werkzeug>=0.11.10 in /usr/local/lib/python3.6/dist-packages (from tensorboard<1.7.0,>=1.6.0->tensorflow-gpu==1.6.0) (0.16.0)\n",
            "Building wheels for collected packages: html5lib\n",
            "  Building wheel for html5lib (setup.py) ... \u001b[?25l\u001b[?25hdone\n",
            "  Created wheel for html5lib: filename=html5lib-0.9999999-cp36-none-any.whl size=107221 sha256=4513cc9344b3867373c46aca9c098f9ec0825fc763d9717bbe652b0b0cf298b1\n",
            "  Stored in directory: /root/.cache/pip/wheels/50/ae/f9/d2b189788efcf61d1ee0e36045476735c838898eef1cad6e29\n",
            "Successfully built html5lib\n",
            "Installing collected packages: html5lib, bleach, tensorboard, tensorflow-gpu\n",
            "  Found existing installation: html5lib 1.0.1\n",
            "    Uninstalling html5lib-1.0.1:\n",
            "      Successfully uninstalled html5lib-1.0.1\n",
            "  Found existing installation: bleach 3.1.0\n",
            "    Uninstalling bleach-3.1.0:\n",
            "      Successfully uninstalled bleach-3.1.0\n",
            "  Found existing installation: tensorboard 1.14.0\n",
            "    Uninstalling tensorboard-1.14.0:\n",
            "      Successfully uninstalled tensorboard-1.14.0\n",
            "Successfully installed bleach-1.5.0 html5lib-0.9999999 tensorboard-1.6.0 tensorflow-gpu-1.6.0\n"
          ],
          "name": "stdout"
        }
      ]
    },
    {
      "cell_type": "code",
      "metadata": {
        "id": "0lFbCo8Gsc5s",
        "colab_type": "code",
        "colab": {
          "base_uri": "https://localhost:8080/",
          "height": 153
        },
        "outputId": "4552b457-0cee-4233-f894-417b5fe65e84"
      },
      "source": [
        "!apt-get install dirmngr"
      ],
      "execution_count": 10,
      "outputs": [
        {
          "output_type": "stream",
          "text": [
            "\rReading package lists... 0%\r\rReading package lists... 0%\r\rReading package lists... 0%\r\rReading package lists... 7%\r\rReading package lists... 7%\r\rReading package lists... 7%\r\rReading package lists... 7%\r\rReading package lists... 65%\r\rReading package lists... 65%\r\rReading package lists... 66%\r\rReading package lists... 66%\r\rReading package lists... 73%\r\rReading package lists... 73%\r\rReading package lists... 73%\r\rReading package lists... 73%\r\rReading package lists... 81%\r\rReading package lists... 82%\r\rReading package lists... 82%\r\rReading package lists... 82%\r\rReading package lists... 82%\r\rReading package lists... 82%\r\rReading package lists... 82%\r\rReading package lists... 82%\r\rReading package lists... 82%\r\rReading package lists... 87%\r\rReading package lists... 87%\r\rReading package lists... 87%\r\rReading package lists... 87%\r\rReading package lists... 93%\r\rReading package lists... 93%\r\rReading package lists... 93%\r\rReading package lists... 93%\r\rReading package lists... 93%\r\rReading package lists... 93%\r\rReading package lists... 94%\r\rReading package lists... 94%\r\rReading package lists... 95%\r\rReading package lists... 95%\r\rReading package lists... 98%\r\rReading package lists... 98%\r\rReading package lists... 98%\r\rReading package lists... 98%\r\rReading package lists... Done\r\n",
            "\rBuilding dependency tree... 0%\r\rBuilding dependency tree... 0%\r\rBuilding dependency tree... 50%\r\rBuilding dependency tree... 50%\r\rBuilding dependency tree       \r\n",
            "\rReading state information... 0%\r\rReading state information... 0%\r\rReading state information... Done\r\n",
            "dirmngr is already the newest version (2.2.4-1ubuntu1.2).\n",
            "The following package was automatically installed and is no longer required:\n",
            "  libnvidia-common-430\n",
            "Use 'apt autoremove' to remove it.\n",
            "0 upgraded, 0 newly installed, 0 to remove and 7 not upgraded.\n"
          ],
          "name": "stdout"
        }
      ]
    },
    {
      "cell_type": "code",
      "metadata": {
        "id": "0vfV37YnsgJD",
        "colab_type": "code",
        "colab": {
          "base_uri": "https://localhost:8080/",
          "height": 309
        },
        "outputId": "e4646749-3a72-4acc-be7b-4c8773da9688"
      },
      "source": [
        "!wget -O cuda9base.deb https://developer.nvidia.com/compute/cuda/9.0/Prod/local_installers/cuda-repo-ubuntu1704-9-0-local_9.0.176-1_amd64-deb"
      ],
      "execution_count": 11,
      "outputs": [
        {
          "output_type": "stream",
          "text": [
            "--2020-01-03 13:57:57--  https://developer.nvidia.com/compute/cuda/9.0/Prod/local_installers/cuda-repo-ubuntu1704-9-0-local_9.0.176-1_amd64-deb\n",
            "Resolving developer.nvidia.com (developer.nvidia.com)... 192.229.162.216\n",
            "Connecting to developer.nvidia.com (developer.nvidia.com)|192.229.162.216|:443... connected.\n",
            "HTTP request sent, awaiting response... 302 Found\n",
            "Location: https://developer.download.nvidia.com/compute/cuda/9.0/secure/Prod/local_installers/cuda-repo-ubuntu1704-9-0-local_9.0.176-1_amd64.deb?uzi5k9QwQBDySxrx19aCfuXWeZmqwGSzVJy0lmKR06zytBjUkN1vlUg0ehZunpUUuPmG8Xa6Pt3moeUOXhR6bf5qGK018ZucQModKj-xkDAR62RMIUebtFdR95Kq-jOaUrWahhyd8rylYMcIx1GblklEDKugMmHzG9Va82SzaC5zngCh65d5v8HMeOlQitMKRwL7-yDM83IJ-l2gZ6D9 [following]\n",
            "--2020-01-03 13:57:57--  https://developer.download.nvidia.com/compute/cuda/9.0/secure/Prod/local_installers/cuda-repo-ubuntu1704-9-0-local_9.0.176-1_amd64.deb?uzi5k9QwQBDySxrx19aCfuXWeZmqwGSzVJy0lmKR06zytBjUkN1vlUg0ehZunpUUuPmG8Xa6Pt3moeUOXhR6bf5qGK018ZucQModKj-xkDAR62RMIUebtFdR95Kq-jOaUrWahhyd8rylYMcIx1GblklEDKugMmHzG9Va82SzaC5zngCh65d5v8HMeOlQitMKRwL7-yDM83IJ-l2gZ6D9\n",
            "Resolving developer.download.nvidia.com (developer.download.nvidia.com)... 192.229.211.70, 2606:2800:21f:3aa:dcf:37b:1ed6:1fb\n",
            "Connecting to developer.download.nvidia.com (developer.download.nvidia.com)|192.229.211.70|:443... connected.\n",
            "HTTP request sent, awaiting response... 200 OK\n",
            "Length: 1216133170 (1.1G) [application/x-deb]\n",
            "Saving to: ‘cuda9base.deb’\n",
            "\n",
            "cuda9base.deb       100%[===================>]   1.13G  86.2MB/s    in 13s     \n",
            "\n",
            "2020-01-03 13:58:10 (89.2 MB/s) - ‘cuda9base.deb’ saved [1216133170/1216133170]\n",
            "\n"
          ],
          "name": "stdout"
        }
      ]
    },
    {
      "cell_type": "code",
      "metadata": {
        "id": "6gpwPijTsrl4",
        "colab_type": "code",
        "colab": {
          "base_uri": "https://localhost:8080/",
          "height": 102
        },
        "outputId": "91eb4735-ce4e-4d0c-9e36-873695cc7712"
      },
      "source": [
        "!dpkg -i cuda9base.deb"
      ],
      "execution_count": 12,
      "outputs": [
        {
          "output_type": "stream",
          "text": [
            "Selecting previously unselected package cuda-repo-ubuntu1704-9-0-local.\n",
            "(Reading database ... \r(Reading database ... 5%\r(Reading database ... 10%\r(Reading database ... 15%\r(Reading database ... 20%\r(Reading database ... 25%\r(Reading database ... 30%\r(Reading database ... 35%\r(Reading database ... 40%\r(Reading database ... 45%\r(Reading database ... 50%\r(Reading database ... 55%\r(Reading database ... 60%\r(Reading database ... 65%\r(Reading database ... 70%\r(Reading database ... 75%\r(Reading database ... 80%\r(Reading database ... 85%\r(Reading database ... 90%\r(Reading database ... 95%\r(Reading database ... 100%\r(Reading database ... 145674 files and directories currently installed.)\n",
            "Preparing to unpack cuda9base.deb ...\n",
            "Unpacking cuda-repo-ubuntu1704-9-0-local (9.0.176-1) ...\n",
            "Setting up cuda-repo-ubuntu1704-9-0-local (9.0.176-1) ...\n"
          ],
          "name": "stdout"
        }
      ]
    },
    {
      "cell_type": "code",
      "metadata": {
        "id": "A-37gg1js148",
        "colab_type": "code",
        "colab": {
          "base_uri": "https://localhost:8080/",
          "height": 122
        },
        "outputId": "fd26f765-a733-4f9b-e595-60f5bdf9a076"
      },
      "source": [
        "!apt-key adv --fetch-keys https://developer.download.nvidia.com/compute/cuda/repos/ubuntu1704/x86_64/7fa2af80.pub"
      ],
      "execution_count": 13,
      "outputs": [
        {
          "output_type": "stream",
          "text": [
            "Executing: /tmp/apt-key-gpghome.KnlUijo8mS/gpg.1.sh --fetch-keys https://developer.download.nvidia.com/compute/cuda/repos/ubuntu1704/x86_64/7fa2af80.pub\n",
            "gpg: requesting key from 'https://developer.download.nvidia.com/compute/cuda/repos/ubuntu1704/x86_64/7fa2af80.pub'\n",
            "gpg: key F60F4B3D7FA2AF80: \"cudatools <cudatools@nvidia.com>\" not changed\n",
            "gpg: Total number processed: 1\n",
            "gpg:              unchanged: 1\n"
          ],
          "name": "stdout"
        }
      ]
    },
    {
      "cell_type": "code",
      "metadata": {
        "id": "BTPCCUy6tET7",
        "colab_type": "code",
        "colab": {
          "base_uri": "https://localhost:8080/",
          "height": 493
        },
        "outputId": "fa59ef2c-b474-4ca7-f77f-6bc0c784fe88"
      },
      "source": [
        "!apt-get update"
      ],
      "execution_count": 14,
      "outputs": [
        {
          "output_type": "stream",
          "text": [
            "\r0% [Working]\r            \rGet:1 file:/var/cuda-repo-9-0-local  InRelease\n",
            "\r0% [Connecting to cloud.r-project.org] [1 InRelease 0 B] [Connecting to ppa.lau\r                                                                               \rIgn:1 file:/var/cuda-repo-9-0-local  InRelease\n",
            "\r0% [Connecting to cloud.r-project.org] [Connecting to developer.download.nvidia\r                                                                               \rGet:2 file:/var/cuda-repo-9-0-local  Release [574 B]\n",
            "\r0% [Connecting to cloud.r-project.org] [2 Release 0 B/574 B 0%] [Connecting to \r0% [Connecting to cloud.r-project.org] [Connecting to developer.download.nvidia\r                                                                               \rGet:2 file:/var/cuda-repo-9-0-local  Release [574 B]\n",
            "\r0% [2 Release 0 B/574 B 0%] [Connecting to archive.ubuntu.com (91.189.88.173)] \r0% [Connecting to archive.ubuntu.com (91.189.88.173)] [Connecting to security.u\r                                                                               \rGet:3 file:/var/cuda-repo-9-0-local  Release.gpg [819 B]\n",
            "\r0% [Connecting to archive.ubuntu.com (91.189.88.173)] [Connecting to security.u\r                                                                               \rGet:3 file:/var/cuda-repo-9-0-local  Release.gpg [819 B]\n",
            "\r0% [3 Release.gpg 0 B/819 B 0%] [Connecting to archive.ubuntu.com (91.189.88.17\r0% [Connecting to archive.ubuntu.com (91.189.88.173)] [Connecting to security.u\r0% [3 Release.gpg gpgv 574 B] [Connecting to archive.ubuntu.com (91.189.88.173)\r                                                                               \rGet:4 https://cloud.r-project.org/bin/linux/ubuntu bionic-cran35/ InRelease [3,626 B]\n",
            "\r0% [3 Release.gpg gpgv 574 B] [Connecting to archive.ubuntu.com (91.189.88.173)\r                                                                               \rIgn:5 https://developer.download.nvidia.com/compute/cuda/repos/ubuntu1804/x86_64  InRelease\n",
            "\r0% [3 Release.gpg gpgv 574 B] [Connecting to archive.ubuntu.com (91.189.88.173)\r                                                                               \rIgn:6 https://developer.download.nvidia.com/compute/machine-learning/repos/ubuntu1804/x86_64  InRelease\n",
            "\r0% [3 Release.gpg gpgv 574 B] [Connecting to archive.ubuntu.com (91.189.88.173)\r                                                                               \rHit:7 https://developer.download.nvidia.com/compute/cuda/repos/ubuntu1804/x86_64  Release\n",
            "\r0% [3 Release.gpg gpgv 574 B] [Waiting for headers] [Connecting to security.ubu\r                                                                               \rGet:8 https://developer.download.nvidia.com/compute/machine-learning/repos/ubuntu1804/x86_64  Release [564 B]\n",
            "\r0% [3 Release.gpg gpgv 574 B] [Waiting for headers] [Waiting for headers] [8 Re\r0% [3 Release.gpg gpgv 574 B] [Waiting for headers] [Waiting for headers] [Wait\r                                                                               \rGet:9 https://developer.download.nvidia.com/compute/machine-learning/repos/ubuntu1804/x86_64  Release.gpg [833 B]\n",
            "\r0% [3 Release.gpg gpgv 574 B] [Waiting for headers] [Waiting for headers] [9 Re\r0% [3 Release.gpg gpgv 574 B] [Waiting for headers] [Waiting for headers] [Wait\r                                                                               \r0% [Waiting for headers] [Waiting for headers] [Waiting for headers]\r0% [4 InRelease gpgv 3,626 B] [Waiting for headers] [Waiting for headers] [Wait\r                                                                               \rGet:10 file:/var/cuda-repo-9-0-local  Packages [15.8 kB]\n",
            "\r0% [4 InRelease gpgv 3,626 B] [Waiting for headers] [Waiting for headers] [10 P\r0% [4 InRelease gpgv 3,626 B] [Waiting for headers] [Waiting for headers] [Wait\r0% [10 Packages store 0 B] [4 InRelease gpgv 3,626 B] [Waiting for headers] [Wa\r0% [4 InRelease gpgv 3,626 B] [Waiting for headers] [Waiting for headers] [Wait\r                                                                               \rHit:11 http://ppa.launchpad.net/graphics-drivers/ppa/ubuntu bionic InRelease\n",
            "\r                                                                               \r0% [4 InRelease gpgv 3,626 B] [Waiting for headers] [Waiting for headers]\r                                                                         \rHit:12 http://archive.ubuntu.com/ubuntu bionic InRelease\n",
            "\r0% [4 InRelease gpgv 3,626 B] [Waiting for headers] [Connecting to ppa.launchpa\r                                                                               \rGet:13 http://security.ubuntu.com/ubuntu bionic-security InRelease [88.7 kB]\n",
            "\r0% [4 InRelease gpgv 3,626 B] [Waiting for headers] [13 InRelease 14.2 kB/88.7 \r0% [Waiting for headers] [13 InRelease 14.2 kB/88.7 kB 16%] [Connecting to ppa.\r0% [Release.gpg gpgv 564 B] [Waiting for headers] [13 InRelease 14.2 kB/88.7 kB\r                                                                               \rGet:14 https://cloud.r-project.org/bin/linux/ubuntu bionic-cran35/ Packages [81.6 kB]\n",
            "\r0% [Release.gpg gpgv 564 B] [Waiting for headers] [13 InRelease 14.2 kB/88.7 kB\r0% [Release.gpg gpgv 564 B] [Waiting for headers] [13 InRelease 14.2 kB/88.7 kB\r0% [14 Packages store 0 B] [Release.gpg gpgv 564 B] [Waiting for headers] [13 I\r0% [Release.gpg gpgv 564 B] [Waiting for headers] [13 InRelease 14.2 kB/88.7 kB\r                                                                               \rGet:15 http://archive.ubuntu.com/ubuntu bionic-updates InRelease [88.7 kB]\n",
            "\r0% [Release.gpg gpgv 564 B] [15 InRelease 14.2 kB/88.7 kB 16%] [13 InRelease 14\r0% [15 InRelease 15.6 kB/88.7 kB 18%] [13 InRelease 43.1 kB/88.7 kB 49%] [Waiti\r0% [9 Release.gpg gpgv 564 B] [15 InRelease 15.6 kB/88.7 kB 18%] [13 InRelease \r                                                                               \rGet:17 http://ppa.launchpad.net/marutter/c2d4u3.5/ubuntu bionic InRelease [15.4 kB]\n",
            "\r0% [9 Release.gpg gpgv 564 B] [15 InRelease 15.6 kB/88.7 kB 18%] [13 InRelease \r0% [9 Release.gpg gpgv 564 B] [15 InRelease 43.1 kB/88.7 kB 49%] [13 InRelease \r                                                                               \r0% [15 InRelease 47.5 kB/88.7 kB 54%] [13 InRelease 83.7 kB/88.7 kB 94%]\r0% [11 InRelease gpgv 21.3 kB] [15 InRelease 47.5 kB/88.7 kB 54%] [13 InRelease\r                                                                               \rGet:18 https://developer.download.nvidia.com/compute/machine-learning/repos/ubuntu1804/x86_64  Packages [30.4 kB]\n",
            "\r0% [11 InRelease gpgv 21.3 kB] [15 InRelease 47.5 kB/88.7 kB 54%] [13 InRelease\r0% [11 InRelease gpgv 21.3 kB] [15 InRelease 47.5 kB/88.7 kB 54%] [13 InRelease\r                                                                               \r0% [11 InRelease gpgv 21.3 kB] [15 InRelease 50.4 kB/88.7 kB 57%]\r                                                                 \r0% [11 InRelease gpgv 21.3 kB] [Waiting for headers]\r                                                    \r0% [Waiting for headers]\r0% [12 InRelease gpgv 242 kB] [Waiting for headers]\r                                                   \rGet:19 http://archive.ubuntu.com/ubuntu bionic-backports InRelease [74.6 kB]\n",
            "\r0% [12 InRelease gpgv 242 kB] [19 InRelease 28.7 kB/74.6 kB 38%]\r                                                                \r0% [12 InRelease gpgv 242 kB]\r                             \r0% [Working]\r0% [17 InRelease gpgv 15.4 kB]\r                              \r0% [Working]\r0% [13 InRelease gpgv 88.7 kB] [Connecting to ppa.launchpad.net (91.189.95.83)]\r                                                                               \r0% [Waiting for headers]\r0% [15 InRelease gpgv 88.7 kB] [Waiting for headers]\r                                                    \rGet:20 http://ppa.launchpad.net/marutter/c2d4u3.5/ubuntu bionic/main Sources [1,749 kB]\n",
            "\r0% [15 InRelease gpgv 88.7 kB] [Waiting for headers] [20 Sources 14.3 kB/1,749 \r                                                                               \rGet:21 http://security.ubuntu.com/ubuntu bionic-security/main amd64 Packages [761 kB]\n",
            "Get:22 http://archive.ubuntu.com/ubuntu bionic-updates/universe amd64 Packages [1,322 kB]\n",
            "Get:23 http://archive.ubuntu.com/ubuntu bionic-updates/main amd64 Packages [1,057 kB]\n",
            "Get:24 http://ppa.launchpad.net/marutter/c2d4u3.5/ubuntu bionic/main amd64 Packages [844 kB]\n",
            "Fetched 6,118 kB in 4s (1,680 kB/s)\n",
            "Reading package lists... Done\n"
          ],
          "name": "stdout"
        }
      ]
    },
    {
      "cell_type": "code",
      "metadata": {
        "id": "T-Z4LUuktLSD",
        "colab_type": "code",
        "colab": {
          "base_uri": "https://localhost:8080/",
          "height": 1000
        },
        "outputId": "cfb6683e-1108-4cd5-89b6-1e70383f3941"
      },
      "source": [
        "!apt-get install cuda"
      ],
      "execution_count": 15,
      "outputs": [
        {
          "output_type": "stream",
          "text": [
            "\rReading package lists... 0%\r\rReading package lists... 0%\r\rReading package lists... 0%\r\rReading package lists... 7%\r\rReading package lists... 7%\r\rReading package lists... 7%\r\rReading package lists... 7%\r\rReading package lists... 65%\r\rReading package lists... 65%\r\rReading package lists... 66%\r\rReading package lists... 66%\r\rReading package lists... 73%\r\rReading package lists... 73%\r\rReading package lists... 73%\r\rReading package lists... 73%\r\rReading package lists... 79%\r\rReading package lists... 82%\r\rReading package lists... 82%\r\rReading package lists... 82%\r\rReading package lists... 82%\r\rReading package lists... 82%\r\rReading package lists... 82%\r\rReading package lists... 82%\r\rReading package lists... 82%\r\rReading package lists... 87%\r\rReading package lists... 87%\r\rReading package lists... 87%\r\rReading package lists... 87%\r\rReading package lists... 93%\r\rReading package lists... 93%\r\rReading package lists... 93%\r\rReading package lists... 93%\r\rReading package lists... 93%\r\rReading package lists... 93%\r\rReading package lists... 93%\r\rReading package lists... 93%\r\rReading package lists... 94%\r\rReading package lists... 94%\r\rReading package lists... 95%\r\rReading package lists... 95%\r\rReading package lists... 98%\r\rReading package lists... 98%\r\rReading package lists... 98%\r\rReading package lists... 98%\r\rReading package lists... Done\r\n",
            "\rBuilding dependency tree... 0%\r\rBuilding dependency tree... 0%\r\rBuilding dependency tree... 50%\r\rBuilding dependency tree... 50%\r\rBuilding dependency tree       \r\n",
            "\rReading state information... 0%\r\rReading state information... 0%\r\rReading state information... Done\r\n",
            "The following package was automatically installed and is no longer required:\n",
            "  libnvidia-common-430\n",
            "Use 'apt autoremove' to remove it.\n",
            "The following additional packages will be installed:\n",
            "  cuda-10-2 cuda-command-line-tools-10-2 cuda-compiler-10-2 cuda-cudart-10-2\n",
            "  cuda-cudart-dev-10-2 cuda-cufft-10-2 cuda-cufft-dev-10-2 cuda-cuobjdump-10-2\n",
            "  cuda-cupti-10-2 cuda-cupti-dev-10-2 cuda-curand-10-2 cuda-curand-dev-10-2\n",
            "  cuda-cusolver-10-2 cuda-cusolver-dev-10-2 cuda-cusparse-10-2\n",
            "  cuda-cusparse-dev-10-2 cuda-demo-suite-10-2 cuda-documentation-10-2\n",
            "  cuda-driver-dev-10-2 cuda-gdb-10-2 cuda-libraries-10-2\n",
            "  cuda-libraries-dev-10-2 cuda-license-10-2 cuda-memcheck-10-2\n",
            "  cuda-misc-headers-10-2 cuda-npp-10-2 cuda-npp-dev-10-2 cuda-nsight-10-2\n",
            "  cuda-nsight-compute-10-2 cuda-nsight-systems-10-2 cuda-nvcc-10-2\n",
            "  cuda-nvdisasm-10-2 cuda-nvgraph-10-2 cuda-nvgraph-dev-10-2 cuda-nvjpeg-10-2\n",
            "  cuda-nvjpeg-dev-10-2 cuda-nvml-dev-10-2 cuda-nvprof-10-2 cuda-nvprune-10-2\n",
            "  cuda-nvrtc-10-2 cuda-nvrtc-dev-10-2 cuda-nvtx-10-2 cuda-nvvp-10-2\n",
            "  cuda-runtime-10-2 cuda-samples-10-2 cuda-sanitizer-api-10-2\n",
            "  cuda-toolkit-10-2 cuda-tools-10-2 cuda-visual-tools-10-2 libcublas-dev\n",
            "  libcublas10\n",
            "The following NEW packages will be installed:\n",
            "  cuda cuda-10-2 cuda-command-line-tools-10-2 cuda-compiler-10-2\n",
            "  cuda-cudart-10-2 cuda-cudart-dev-10-2 cuda-cufft-10-2 cuda-cufft-dev-10-2\n",
            "  cuda-cuobjdump-10-2 cuda-cupti-10-2 cuda-cupti-dev-10-2 cuda-curand-10-2\n",
            "  cuda-curand-dev-10-2 cuda-cusolver-10-2 cuda-cusolver-dev-10-2\n",
            "  cuda-cusparse-10-2 cuda-cusparse-dev-10-2 cuda-demo-suite-10-2\n",
            "  cuda-documentation-10-2 cuda-driver-dev-10-2 cuda-gdb-10-2\n",
            "  cuda-libraries-10-2 cuda-libraries-dev-10-2 cuda-license-10-2\n",
            "  cuda-memcheck-10-2 cuda-misc-headers-10-2 cuda-npp-10-2 cuda-npp-dev-10-2\n",
            "  cuda-nsight-10-2 cuda-nsight-compute-10-2 cuda-nsight-systems-10-2\n",
            "  cuda-nvcc-10-2 cuda-nvdisasm-10-2 cuda-nvgraph-10-2 cuda-nvgraph-dev-10-2\n",
            "  cuda-nvjpeg-10-2 cuda-nvjpeg-dev-10-2 cuda-nvml-dev-10-2 cuda-nvprof-10-2\n",
            "  cuda-nvprune-10-2 cuda-nvrtc-10-2 cuda-nvrtc-dev-10-2 cuda-nvtx-10-2\n",
            "  cuda-nvvp-10-2 cuda-runtime-10-2 cuda-samples-10-2 cuda-sanitizer-api-10-2\n",
            "  cuda-toolkit-10-2 cuda-tools-10-2 cuda-visual-tools-10-2\n",
            "The following packages will be upgraded:\n",
            "  libcublas-dev libcublas10\n",
            "2 upgraded, 50 newly installed, 0 to remove and 17 not upgraded.\n",
            "Need to get 1,428 MB of archives.\n",
            "After this operation, 3,272 MB of additional disk space will be used.\n",
            "\r0% [Working]\r            \rGet:1 https://developer.download.nvidia.com/compute/cuda/repos/ubuntu1804/x86_64  cuda-license-10-2 10.2.89-1 [16.4 kB]\n",
            "\r0% [1 cuda-license-10-2 0 B/16.4 kB 0%]\r                                       \r0% [Working]\r            \rGet:2 https://developer.download.nvidia.com/compute/cuda/repos/ubuntu1804/x86_64  cuda-misc-headers-10-2 10.2.89-1 [1,111 kB]\n",
            "\r0% [2 cuda-misc-headers-10-2 0 B/1,111 kB 0%]\r                                             \r1% [Working]\r            \rGet:3 https://developer.download.nvidia.com/compute/cuda/repos/ubuntu1804/x86_64  cuda-nvcc-10-2 10.2.89-1 [37.4 MB]\n",
            "\r1% [3 cuda-nvcc-10-2 0 B/37.4 MB 0%]\r3% [3 cuda-nvcc-10-2 31.8 MB/37.4 MB 85%]\r                                         \r3% [Working]\r            \rGet:4 https://developer.download.nvidia.com/compute/cuda/repos/ubuntu1804/x86_64  cuda-cuobjdump-10-2 10.2.89-1 [88.5 kB]\n",
            "\r3% [4 cuda-cuobjdump-10-2 0 B/88.5 kB 0%]\r                                         \r4% [Working]\r            \rGet:5 https://developer.download.nvidia.com/compute/cuda/repos/ubuntu1804/x86_64  cuda-nvprune-10-2 10.2.89-1 [39.5 kB]\n",
            "\r4% [5 cuda-nvprune-10-2 0 B/39.5 kB 0%]\r                                       \r4% [Working]\r            \rGet:6 https://developer.download.nvidia.com/compute/cuda/repos/ubuntu1804/x86_64  cuda-compiler-10-2 10.2.89-1 [2,530 B]\n",
            "\r4% [6 cuda-compiler-10-2 0 B/2,530 B 0%]\r                                        \r4% [Working]\r            \rGet:7 https://developer.download.nvidia.com/compute/cuda/repos/ubuntu1804/x86_64  cuda-nvdisasm-10-2 10.2.89-1 [22.2 MB]\n",
            "\r4% [7 cuda-nvdisasm-10-2 0 B/22.2 MB 0%]\r                                        \r6% [Working]\r            \rGet:8 https://developer.download.nvidia.com/compute/cuda/repos/ubuntu1804/x86_64  cuda-gdb-10-2 10.2.89-1 [2,769 kB]\n",
            "\r6% [8 cuda-gdb-10-2 0 B/2,769 kB 0%]\r                                    \r7% [Working]\r            \rGet:9 https://developer.download.nvidia.com/compute/cuda/repos/ubuntu1804/x86_64  cuda-nvprof-10-2 10.2.89-1 [1,651 kB]\n",
            "\r7% [9 cuda-nvprof-10-2 0 B/1,651 kB 0%]\r                                       \r7% [Working]\r            \rGet:10 https://developer.download.nvidia.com/compute/cuda/repos/ubuntu1804/x86_64  cuda-sanitizer-api-10-2 10.2.89-1 [2,161 kB]\n",
            "\r7% [10 cuda-sanitizer-api-10-2 0 B/2,161 kB 0%]\r                                               \r8% [Working]\r            \rGet:11 https://developer.download.nvidia.com/compute/cuda/repos/ubuntu1804/x86_64  cuda-memcheck-10-2 10.2.89-1 [139 kB]\n",
            "\r8% [11 cuda-memcheck-10-2 0 B/139 kB 0%]\r                                        \r8% [Working]\r            \rGet:12 https://developer.download.nvidia.com/compute/cuda/repos/ubuntu1804/x86_64  cuda-cudart-10-2 10.2.89-1 [111 kB]\n",
            "\r8% [12 cuda-cudart-10-2 0 B/111 kB 0%]\r                                      \r8% [Working]\r            \rGet:13 https://developer.download.nvidia.com/compute/cuda/repos/ubuntu1804/x86_64  cuda-driver-dev-10-2 10.2.89-1 [11.8 kB]\n",
            "\r8% [13 cuda-driver-dev-10-2 0 B/11.8 kB 0%]\r                                           \r9% [Working]\r            \rGet:14 https://developer.download.nvidia.com/compute/cuda/repos/ubuntu1804/x86_64  cuda-cudart-dev-10-2 10.2.89-1 [491 kB]\n",
            "\r9% [14 cuda-cudart-dev-10-2 0 B/491 kB 0%]\r                                          \r9% [Working]\r            \rGet:15 https://developer.download.nvidia.com/compute/cuda/repos/ubuntu1804/x86_64  cuda-cupti-10-2 10.2.89-1 [8,169 kB]\n",
            "\r9% [15 cuda-cupti-10-2 0 B/8,169 kB 0%]\r                                       \r10% [Working]\r             \rGet:16 https://developer.download.nvidia.com/compute/cuda/repos/ubuntu1804/x86_64  cuda-cupti-dev-10-2 10.2.89-1 [2,197 kB]\n",
            "\r10% [16 cuda-cupti-dev-10-2 0 B/2,197 kB 0%]\r                                            \r11% [Working]\r             \rGet:17 https://developer.download.nvidia.com/compute/cuda/repos/ubuntu1804/x86_64  cuda-nvtx-10-2 10.2.89-1 [38.9 kB]\n",
            "\r11% [17 cuda-nvtx-10-2 0 B/38.9 kB 0%]\r                                      \r11% [Working]\r             \rGet:18 https://developer.download.nvidia.com/compute/cuda/repos/ubuntu1804/x86_64  cuda-command-line-tools-10-2 10.2.89-1 [27.0 kB]\n",
            "\r11% [18 cuda-command-line-tools-10-2 0 B/27.0 kB 0%]\r                                                    \r11% [Working]\r             \rGet:19 https://developer.download.nvidia.com/compute/cuda/repos/ubuntu1804/x86_64  cuda-nsight-10-2 10.2.89-1 [2,582 B]\n",
            "\r11% [19 cuda-nsight-10-2 0 B/2,582 B 0%]\r                                        \r12% [Working]\r             \rGet:20 https://developer.download.nvidia.com/compute/cuda/repos/ubuntu1804/x86_64  cuda-nvvp-10-2 10.2.89-1 [2,532 B]\n",
            "\r12% [20 cuda-nvvp-10-2 0 B/2,532 B 0%]\r                                      \r12% [Working]\r             \rGet:21 https://developer.download.nvidia.com/compute/cuda/repos/ubuntu1804/x86_64  cuda-nvrtc-10-2 10.2.89-1 [6,413 kB]\n",
            "\r12% [21 cuda-nvrtc-10-2 0 B/6,413 kB 0%]\r                                        \r13% [Working]\r             \rGet:22 https://developer.download.nvidia.com/compute/cuda/repos/ubuntu1804/x86_64  cuda-nvrtc-dev-10-2 10.2.89-1 [8,822 B]\n",
            "Get:23 https://developer.download.nvidia.com/compute/cuda/repos/ubuntu1804/x86_64  cuda-cusolver-10-2 10.2.89-1 [85.6 MB]\n",
            "Get:24 https://developer.download.nvidia.com/compute/cuda/repos/ubuntu1804/x86_64  cuda-cusolver-dev-10-2 10.2.89-1 [15.2 MB]\n",
            "Get:25 https://developer.download.nvidia.com/compute/cuda/repos/ubuntu1804/x86_64  libcublas10 10.2.2.89-1 [42.2 MB]\n",
            "Get:26 https://developer.download.nvidia.com/compute/cuda/repos/ubuntu1804/x86_64  libcublas-dev 10.2.2.89-1 [42.3 MB]\n",
            "Get:27 https://developer.download.nvidia.com/compute/cuda/repos/ubuntu1804/x86_64  cuda-cufft-10-2 10.2.89-1 [87.8 MB]\n",
            "Get:28 https://developer.download.nvidia.com/compute/cuda/repos/ubuntu1804/x86_64  cuda-cufft-dev-10-2 10.2.89-1 [164 MB]\n",
            "Get:29 https://developer.download.nvidia.com/compute/cuda/repos/ubuntu1804/x86_64  cuda-curand-10-2 10.2.89-1 [38.9 MB]\n",
            "Get:30 https://developer.download.nvidia.com/compute/cuda/repos/ubuntu1804/x86_64  cuda-curand-dev-10-2 10.2.89-1 [39.1 MB]\n",
            "Get:31 https://developer.download.nvidia.com/compute/cuda/repos/ubuntu1804/x86_64  cuda-cusparse-10-2 10.2.89-1 [59.2 MB]\n",
            "Get:32 https://developer.download.nvidia.com/compute/cuda/repos/ubuntu1804/x86_64  cuda-cusparse-dev-10-2 10.2.89-1 [59.7 MB]\n",
            "Get:33 https://developer.download.nvidia.com/compute/cuda/repos/ubuntu1804/x86_64  cuda-npp-10-2 10.2.89-1 [56.7 MB]\n",
            "Get:34 https://developer.download.nvidia.com/compute/cuda/repos/ubuntu1804/x86_64  cuda-npp-dev-10-2 10.2.89-1 [57.6 MB]\n",
            "Get:35 https://developer.download.nvidia.com/compute/cuda/repos/ubuntu1804/x86_64  cuda-nvml-dev-10-2 10.2.89-1 [53.8 kB]\n",
            "Get:36 https://developer.download.nvidia.com/compute/cuda/repos/ubuntu1804/x86_64  cuda-nvjpeg-10-2 10.2.89-1 [1,274 kB]\n",
            "Get:37 https://developer.download.nvidia.com/compute/cuda/repos/ubuntu1804/x86_64  cuda-nvjpeg-dev-10-2 10.2.89-1 [1,213 kB]\n",
            "Get:38 https://developer.download.nvidia.com/compute/cuda/repos/ubuntu1804/x86_64  cuda-nsight-compute-10-2 10.2.89-1 [3,712 B]\n",
            "Get:39 https://developer.download.nvidia.com/compute/cuda/repos/ubuntu1804/x86_64  cuda-nsight-systems-10-2 10.2.89-1 [3,130 B]\n",
            "Get:40 https://developer.download.nvidia.com/compute/cuda/repos/ubuntu1804/x86_64  cuda-nvgraph-10-2 10.2.89-1 [44.5 MB]\n",
            "Get:41 https://developer.download.nvidia.com/compute/cuda/repos/ubuntu1804/x86_64  cuda-nvgraph-dev-10-2 10.2.89-1 [35.2 MB]\n",
            "Get:42 https://developer.download.nvidia.com/compute/cuda/repos/ubuntu1804/x86_64  cuda-visual-tools-10-2 10.2.89-1 [389 MB]\n",
            "Get:43 https://developer.download.nvidia.com/compute/cuda/repos/ubuntu1804/x86_64  cuda-tools-10-2 10.2.89-1 [2,496 B]\n",
            "Get:44 https://developer.download.nvidia.com/compute/cuda/repos/ubuntu1804/x86_64  cuda-samples-10-2 10.2.89-1 [65.6 MB]\n",
            "Get:45 https://developer.download.nvidia.com/compute/cuda/repos/ubuntu1804/x86_64  cuda-documentation-10-2 10.2.89-1 [54.1 MB]\n",
            "Get:46 https://developer.download.nvidia.com/compute/cuda/repos/ubuntu1804/x86_64  cuda-libraries-dev-10-2 10.2.89-1 [2,614 B]\n",
            "Get:47 https://developer.download.nvidia.com/compute/cuda/repos/ubuntu1804/x86_64  cuda-libraries-10-2 10.2.89-1 [2,584 B]\n",
            "Get:48 https://developer.download.nvidia.com/compute/cuda/repos/ubuntu1804/x86_64  cuda-toolkit-10-2 10.2.89-1 [2,830 B]\n",
            "Get:49 https://developer.download.nvidia.com/compute/cuda/repos/ubuntu1804/x86_64  cuda-runtime-10-2 10.2.89-1 [2,532 B]\n",
            "Get:50 https://developer.download.nvidia.com/compute/cuda/repos/ubuntu1804/x86_64  cuda-demo-suite-10-2 10.2.89-1 [3,880 kB]\n",
            "Get:51 https://developer.download.nvidia.com/compute/cuda/repos/ubuntu1804/x86_64  cuda-10-2 10.2.89-1 [2,558 B]\n",
            "Get:52 https://developer.download.nvidia.com/compute/cuda/repos/ubuntu1804/x86_64  cuda 10.2.89-1 [2,514 B]\n",
            "Fetched 1,428 MB in 24s (58.8 MB/s)\n",
            "Extracting templates from packages: 100%\n",
            "Selecting previously unselected package cuda-license-10-2.\n",
            "(Reading database ... 145733 files and directories currently installed.)\n",
            "Preparing to unpack .../00-cuda-license-10-2_10.2.89-1_amd64.deb ...\n",
            "Unpacking cuda-license-10-2 (10.2.89-1) ...\n",
            "Selecting previously unselected package cuda-misc-headers-10-2.\n",
            "Preparing to unpack .../01-cuda-misc-headers-10-2_10.2.89-1_amd64.deb ...\n",
            "Unpacking cuda-misc-headers-10-2 (10.2.89-1) ...\n",
            "Selecting previously unselected package cuda-nvcc-10-2.\n",
            "Preparing to unpack .../02-cuda-nvcc-10-2_10.2.89-1_amd64.deb ...\n",
            "Unpacking cuda-nvcc-10-2 (10.2.89-1) ...\n",
            "Selecting previously unselected package cuda-cuobjdump-10-2.\n",
            "Preparing to unpack .../03-cuda-cuobjdump-10-2_10.2.89-1_amd64.deb ...\n",
            "Unpacking cuda-cuobjdump-10-2 (10.2.89-1) ...\n",
            "Selecting previously unselected package cuda-nvprune-10-2.\n",
            "Preparing to unpack .../04-cuda-nvprune-10-2_10.2.89-1_amd64.deb ...\n",
            "Unpacking cuda-nvprune-10-2 (10.2.89-1) ...\n",
            "Selecting previously unselected package cuda-compiler-10-2.\n",
            "Preparing to unpack .../05-cuda-compiler-10-2_10.2.89-1_amd64.deb ...\n",
            "Unpacking cuda-compiler-10-2 (10.2.89-1) ...\n",
            "Selecting previously unselected package cuda-nvdisasm-10-2.\n",
            "Preparing to unpack .../06-cuda-nvdisasm-10-2_10.2.89-1_amd64.deb ...\n",
            "Unpacking cuda-nvdisasm-10-2 (10.2.89-1) ...\n",
            "Selecting previously unselected package cuda-gdb-10-2.\n",
            "Preparing to unpack .../07-cuda-gdb-10-2_10.2.89-1_amd64.deb ...\n",
            "Unpacking cuda-gdb-10-2 (10.2.89-1) ...\n",
            "Selecting previously unselected package cuda-nvprof-10-2.\n",
            "Preparing to unpack .../08-cuda-nvprof-10-2_10.2.89-1_amd64.deb ...\n",
            "Unpacking cuda-nvprof-10-2 (10.2.89-1) ...\n",
            "Selecting previously unselected package cuda-sanitizer-api-10-2.\n",
            "Preparing to unpack .../09-cuda-sanitizer-api-10-2_10.2.89-1_amd64.deb ...\n",
            "Unpacking cuda-sanitizer-api-10-2 (10.2.89-1) ...\n",
            "Selecting previously unselected package cuda-memcheck-10-2.\n",
            "Preparing to unpack .../10-cuda-memcheck-10-2_10.2.89-1_amd64.deb ...\n",
            "Unpacking cuda-memcheck-10-2 (10.2.89-1) ...\n",
            "Selecting previously unselected package cuda-cudart-10-2.\n",
            "Preparing to unpack .../11-cuda-cudart-10-2_10.2.89-1_amd64.deb ...\n",
            "Unpacking cuda-cudart-10-2 (10.2.89-1) ...\n",
            "Selecting previously unselected package cuda-driver-dev-10-2.\n",
            "Preparing to unpack .../12-cuda-driver-dev-10-2_10.2.89-1_amd64.deb ...\n",
            "Unpacking cuda-driver-dev-10-2 (10.2.89-1) ...\n",
            "Selecting previously unselected package cuda-cudart-dev-10-2.\n",
            "Preparing to unpack .../13-cuda-cudart-dev-10-2_10.2.89-1_amd64.deb ...\n",
            "Unpacking cuda-cudart-dev-10-2 (10.2.89-1) ...\n",
            "Selecting previously unselected package cuda-cupti-10-2.\n",
            "Preparing to unpack .../14-cuda-cupti-10-2_10.2.89-1_amd64.deb ...\n",
            "Unpacking cuda-cupti-10-2 (10.2.89-1) ...\n",
            "Selecting previously unselected package cuda-cupti-dev-10-2.\n",
            "Preparing to unpack .../15-cuda-cupti-dev-10-2_10.2.89-1_amd64.deb ...\n",
            "Unpacking cuda-cupti-dev-10-2 (10.2.89-1) ...\n",
            "Selecting previously unselected package cuda-nvtx-10-2.\n",
            "Preparing to unpack .../16-cuda-nvtx-10-2_10.2.89-1_amd64.deb ...\n",
            "Unpacking cuda-nvtx-10-2 (10.2.89-1) ...\n",
            "Selecting previously unselected package cuda-command-line-tools-10-2.\n",
            "Preparing to unpack .../17-cuda-command-line-tools-10-2_10.2.89-1_amd64.deb ...\n",
            "Unpacking cuda-command-line-tools-10-2 (10.2.89-1) ...\n",
            "Selecting previously unselected package cuda-nsight-10-2.\n",
            "Preparing to unpack .../18-cuda-nsight-10-2_10.2.89-1_amd64.deb ...\n",
            "Unpacking cuda-nsight-10-2 (10.2.89-1) ...\n",
            "Selecting previously unselected package cuda-nvvp-10-2.\n",
            "Preparing to unpack .../19-cuda-nvvp-10-2_10.2.89-1_amd64.deb ...\n",
            "Unpacking cuda-nvvp-10-2 (10.2.89-1) ...\n",
            "Selecting previously unselected package cuda-nvrtc-10-2.\n",
            "Preparing to unpack .../20-cuda-nvrtc-10-2_10.2.89-1_amd64.deb ...\n",
            "Unpacking cuda-nvrtc-10-2 (10.2.89-1) ...\n",
            "Selecting previously unselected package cuda-nvrtc-dev-10-2.\n",
            "Preparing to unpack .../21-cuda-nvrtc-dev-10-2_10.2.89-1_amd64.deb ...\n",
            "Unpacking cuda-nvrtc-dev-10-2 (10.2.89-1) ...\n",
            "Selecting previously unselected package cuda-cusolver-10-2.\n",
            "Preparing to unpack .../22-cuda-cusolver-10-2_10.2.89-1_amd64.deb ...\n",
            "Unpacking cuda-cusolver-10-2 (10.2.89-1) ...\n",
            "Selecting previously unselected package cuda-cusolver-dev-10-2.\n",
            "Preparing to unpack .../23-cuda-cusolver-dev-10-2_10.2.89-1_amd64.deb ...\n",
            "Unpacking cuda-cusolver-dev-10-2 (10.2.89-1) ...\n",
            "Preparing to unpack .../24-libcublas10_10.2.2.89-1_amd64.deb ...\n",
            "Unpacking libcublas10 (10.2.2.89-1) over (10.2.1.243-1) ...\n",
            "Preparing to unpack .../25-libcublas-dev_10.2.2.89-1_amd64.deb ...\n",
            "Unpacking libcublas-dev (10.2.2.89-1) over (10.2.1.243-1) ...\n",
            "Selecting previously unselected package cuda-cufft-10-2.\n",
            "Preparing to unpack .../26-cuda-cufft-10-2_10.2.89-1_amd64.deb ...\n",
            "Unpacking cuda-cufft-10-2 (10.2.89-1) ...\n",
            "Selecting previously unselected package cuda-cufft-dev-10-2.\n",
            "Preparing to unpack .../27-cuda-cufft-dev-10-2_10.2.89-1_amd64.deb ...\n",
            "Unpacking cuda-cufft-dev-10-2 (10.2.89-1) ...\n",
            "Selecting previously unselected package cuda-curand-10-2.\n",
            "Preparing to unpack .../28-cuda-curand-10-2_10.2.89-1_amd64.deb ...\n",
            "Unpacking cuda-curand-10-2 (10.2.89-1) ...\n",
            "Selecting previously unselected package cuda-curand-dev-10-2.\n",
            "Preparing to unpack .../29-cuda-curand-dev-10-2_10.2.89-1_amd64.deb ...\n",
            "Unpacking cuda-curand-dev-10-2 (10.2.89-1) ...\n",
            "Selecting previously unselected package cuda-cusparse-10-2.\n",
            "Preparing to unpack .../30-cuda-cusparse-10-2_10.2.89-1_amd64.deb ...\n",
            "Unpacking cuda-cusparse-10-2 (10.2.89-1) ...\n",
            "Selecting previously unselected package cuda-cusparse-dev-10-2.\n",
            "Preparing to unpack .../31-cuda-cusparse-dev-10-2_10.2.89-1_amd64.deb ...\n",
            "Unpacking cuda-cusparse-dev-10-2 (10.2.89-1) ...\n",
            "Selecting previously unselected package cuda-npp-10-2.\n",
            "Preparing to unpack .../32-cuda-npp-10-2_10.2.89-1_amd64.deb ...\n",
            "Unpacking cuda-npp-10-2 (10.2.89-1) ...\n",
            "Selecting previously unselected package cuda-npp-dev-10-2.\n",
            "Preparing to unpack .../33-cuda-npp-dev-10-2_10.2.89-1_amd64.deb ...\n",
            "Unpacking cuda-npp-dev-10-2 (10.2.89-1) ...\n",
            "Selecting previously unselected package cuda-nvml-dev-10-2.\n",
            "Preparing to unpack .../34-cuda-nvml-dev-10-2_10.2.89-1_amd64.deb ...\n",
            "Unpacking cuda-nvml-dev-10-2 (10.2.89-1) ...\n",
            "Selecting previously unselected package cuda-nvjpeg-10-2.\n",
            "Preparing to unpack .../35-cuda-nvjpeg-10-2_10.2.89-1_amd64.deb ...\n",
            "Unpacking cuda-nvjpeg-10-2 (10.2.89-1) ...\n",
            "Selecting previously unselected package cuda-nvjpeg-dev-10-2.\n",
            "Preparing to unpack .../36-cuda-nvjpeg-dev-10-2_10.2.89-1_amd64.deb ...\n",
            "Unpacking cuda-nvjpeg-dev-10-2 (10.2.89-1) ...\n",
            "Selecting previously unselected package cuda-nsight-compute-10-2.\n",
            "Preparing to unpack .../37-cuda-nsight-compute-10-2_10.2.89-1_amd64.deb ...\n",
            "Unpacking cuda-nsight-compute-10-2 (10.2.89-1) ...\n",
            "Selecting previously unselected package cuda-nsight-systems-10-2.\n",
            "Preparing to unpack .../38-cuda-nsight-systems-10-2_10.2.89-1_amd64.deb ...\n",
            "Unpacking cuda-nsight-systems-10-2 (10.2.89-1) ...\n",
            "Selecting previously unselected package cuda-nvgraph-10-2.\n",
            "Preparing to unpack .../39-cuda-nvgraph-10-2_10.2.89-1_amd64.deb ...\n",
            "Unpacking cuda-nvgraph-10-2 (10.2.89-1) ...\n",
            "Selecting previously unselected package cuda-nvgraph-dev-10-2.\n",
            "Preparing to unpack .../40-cuda-nvgraph-dev-10-2_10.2.89-1_amd64.deb ...\n",
            "Unpacking cuda-nvgraph-dev-10-2 (10.2.89-1) ...\n",
            "Selecting previously unselected package cuda-visual-tools-10-2.\n",
            "Preparing to unpack .../41-cuda-visual-tools-10-2_10.2.89-1_amd64.deb ...\n",
            "Unpacking cuda-visual-tools-10-2 (10.2.89-1) ...\n",
            "Selecting previously unselected package cuda-tools-10-2.\n",
            "Preparing to unpack .../42-cuda-tools-10-2_10.2.89-1_amd64.deb ...\n",
            "Unpacking cuda-tools-10-2 (10.2.89-1) ...\n",
            "Selecting previously unselected package cuda-samples-10-2.\n",
            "Preparing to unpack .../43-cuda-samples-10-2_10.2.89-1_amd64.deb ...\n",
            "Unpacking cuda-samples-10-2 (10.2.89-1) ...\n",
            "Selecting previously unselected package cuda-documentation-10-2.\n",
            "Preparing to unpack .../44-cuda-documentation-10-2_10.2.89-1_amd64.deb ...\n",
            "Unpacking cuda-documentation-10-2 (10.2.89-1) ...\n",
            "Selecting previously unselected package cuda-libraries-dev-10-2.\n",
            "Preparing to unpack .../45-cuda-libraries-dev-10-2_10.2.89-1_amd64.deb ...\n",
            "Unpacking cuda-libraries-dev-10-2 (10.2.89-1) ...\n",
            "Selecting previously unselected package cuda-libraries-10-2.\n",
            "Preparing to unpack .../46-cuda-libraries-10-2_10.2.89-1_amd64.deb ...\n",
            "Unpacking cuda-libraries-10-2 (10.2.89-1) ...\n",
            "Selecting previously unselected package cuda-toolkit-10-2.\n",
            "Preparing to unpack .../47-cuda-toolkit-10-2_10.2.89-1_amd64.deb ...\n",
            "Unpacking cuda-toolkit-10-2 (10.2.89-1) ...\n",
            "Selecting previously unselected package cuda-runtime-10-2.\n",
            "Preparing to unpack .../48-cuda-runtime-10-2_10.2.89-1_amd64.deb ...\n",
            "Unpacking cuda-runtime-10-2 (10.2.89-1) ...\n",
            "Selecting previously unselected package cuda-demo-suite-10-2.\n",
            "Preparing to unpack .../49-cuda-demo-suite-10-2_10.2.89-1_amd64.deb ...\n",
            "Unpacking cuda-demo-suite-10-2 (10.2.89-1) ...\n",
            "Selecting previously unselected package cuda-10-2.\n",
            "Preparing to unpack .../50-cuda-10-2_10.2.89-1_amd64.deb ...\n",
            "Unpacking cuda-10-2 (10.2.89-1) ...\n",
            "Selecting previously unselected package cuda.\n",
            "Preparing to unpack .../51-cuda_10.2.89-1_amd64.deb ...\n",
            "Unpacking cuda (10.2.89-1) ...\n",
            "Setting up cuda-license-10-2 (10.2.89-1) ...\n",
            "*** LICENSE AGREEMENT ***\n",
            "By using this software you agree to fully comply with the terms and \n",
            "conditions of the EULA (End User License Agreement). The EULA is located\n",
            "at /usr/local/cuda-10.2/doc/EULA.txt. The EULA can also be found at\n",
            "http://docs.nvidia.com/cuda/eula/index.html. If you do not agree to the\n",
            "terms and conditions of the EULA, do not use the software.\n",
            "\n",
            "Setting up cuda-nvgraph-10-2 (10.2.89-1) ...\n",
            "Setting up cuda-nvprune-10-2 (10.2.89-1) ...\n",
            "Setting up cuda-nvrtc-10-2 (10.2.89-1) ...\n",
            "Setting up cuda-nvtx-10-2 (10.2.89-1) ...\n",
            "Setting up cuda-nvjpeg-10-2 (10.2.89-1) ...\n",
            "Setting up libcublas10 (10.2.2.89-1) ...\n",
            "Setting up libcublas-dev (10.2.2.89-1) ...\n",
            "Setting up cuda-cufft-10-2 (10.2.89-1) ...\n",
            "Setting up cuda-nsight-compute-10-2 (10.2.89-1) ...\n",
            "Setting up cuda-cusparse-10-2 (10.2.89-1) ...\n",
            "Setting up cuda-cuobjdump-10-2 (10.2.89-1) ...\n",
            "Setting up cuda-sanitizer-api-10-2 (10.2.89-1) ...\n",
            "Setting up cuda-nvjpeg-dev-10-2 (10.2.89-1) ...\n",
            "Setting up cuda-cusolver-10-2 (10.2.89-1) ...\n",
            "Setting up cuda-misc-headers-10-2 (10.2.89-1) ...\n",
            "Setting up cuda-nvvp-10-2 (10.2.89-1) ...\n",
            "Setting up cuda-curand-10-2 (10.2.89-1) ...\n",
            "Setting up cuda-cudart-10-2 (10.2.89-1) ...\n",
            "Setting up cuda-npp-10-2 (10.2.89-1) ...\n",
            "Setting up cuda-cufft-dev-10-2 (10.2.89-1) ...\n",
            "Setting up cuda-libraries-10-2 (10.2.89-1) ...\n",
            "Setting up cuda-memcheck-10-2 (10.2.89-1) ...\n",
            "Setting up cuda-nvrtc-dev-10-2 (10.2.89-1) ...\n",
            "Setting up cuda-driver-dev-10-2 (10.2.89-1) ...\n",
            "Setting up cuda-npp-dev-10-2 (10.2.89-1) ...\n",
            "Setting up cuda-nsight-systems-10-2 (10.2.89-1) ...\n",
            "Setting up cuda-nsight-10-2 (10.2.89-1) ...\n",
            "Setting up cuda-nvdisasm-10-2 (10.2.89-1) ...\n",
            "Setting up cuda-nvml-dev-10-2 (10.2.89-1) ...\n",
            "Setting up cuda-nvgraph-dev-10-2 (10.2.89-1) ...\n",
            "Setting up cuda-nvcc-10-2 (10.2.89-1) ...\n",
            "Setting up cuda-nvprof-10-2 (10.2.89-1) ...\n",
            "Setting up cuda-cusparse-dev-10-2 (10.2.89-1) ...\n",
            "Setting up cuda-compiler-10-2 (10.2.89-1) ...\n",
            "Setting up cuda-runtime-10-2 (10.2.89-1) ...\n",
            "Setting up cuda-curand-dev-10-2 (10.2.89-1) ...\n",
            "Setting up cuda-cusolver-dev-10-2 (10.2.89-1) ...\n",
            "Setting up cuda-demo-suite-10-2 (10.2.89-1) ...\n",
            "Setting up cuda-gdb-10-2 (10.2.89-1) ...\n",
            "Setting up cuda-cudart-dev-10-2 (10.2.89-1) ...\n",
            "Setting up cuda-libraries-dev-10-2 (10.2.89-1) ...\n",
            "Setting up cuda-visual-tools-10-2 (10.2.89-1) ...\n",
            "Setting up cuda-samples-10-2 (10.2.89-1) ...\n",
            "Setting up cuda-cupti-10-2 (10.2.89-1) ...\n",
            "Setting up cuda-documentation-10-2 (10.2.89-1) ...\n",
            "Setting up cuda-cupti-dev-10-2 (10.2.89-1) ...\n",
            "Setting up cuda-command-line-tools-10-2 (10.2.89-1) ...\n",
            "Setting up cuda-tools-10-2 (10.2.89-1) ...\n",
            "Setting up cuda-toolkit-10-2 (10.2.89-1) ...\n",
            "Setting up cuda-10-2 (10.2.89-1) ...\n",
            "Setting up cuda (10.2.89-1) ...\n",
            "Processing triggers for libc-bin (2.27-3ubuntu1) ...\n"
          ],
          "name": "stdout"
        }
      ]
    },
    {
      "cell_type": "code",
      "metadata": {
        "id": "Urbj2RsOtQn2",
        "colab_type": "code",
        "colab": {}
      },
      "source": [
        "!export LD_LIBRARY_PATH=/usr/local/cuda-9.0/lib64:$LD_LIBRARY_PATH"
      ],
      "execution_count": 0,
      "outputs": []
    },
    {
      "cell_type": "code",
      "metadata": {
        "id": "ehUIqQpptnlV",
        "colab_type": "code",
        "colab": {
          "base_uri": "https://localhost:8080/",
          "height": 1000
        },
        "outputId": "6a370eba-3acf-464b-f975-74f7574bd452"
      },
      "source": [
        "!apt install nvidia-cuda-toolkit"
      ],
      "execution_count": 0,
      "outputs": [
        {
          "output_type": "stream",
          "text": [
            "\rReading package lists... 0%\r\rReading package lists... 0%\r\rReading package lists... 0%\r\rReading package lists... 7%\r\rReading package lists... 7%\r\rReading package lists... 7%\r\rReading package lists... 7%\r\rReading package lists... 65%\r\rReading package lists... 65%\r\rReading package lists... 66%\r\rReading package lists... 66%\r\rReading package lists... 73%\r\rReading package lists... 73%\r\rReading package lists... 73%\r\rReading package lists... 73%\r\rReading package lists... 82%\r\rReading package lists... 82%\r\rReading package lists... 82%\r\rReading package lists... 82%\r\rReading package lists... 82%\r\rReading package lists... 82%\r\rReading package lists... 82%\r\rReading package lists... 82%\r\rReading package lists... 82%\r\rReading package lists... 87%\r\rReading package lists... 87%\r\rReading package lists... 87%\r\rReading package lists... 87%\r\rReading package lists... 93%\r\rReading package lists... 93%\r\rReading package lists... 93%\r\rReading package lists... 93%\r\rReading package lists... 93%\r\rReading package lists... 93%\r\rReading package lists... 93%\r\rReading package lists... 93%\r\rReading package lists... 94%\r\rReading package lists... 94%\r\rReading package lists... 95%\r\rReading package lists... 95%\r\rReading package lists... 98%\r\rReading package lists... 98%\r\rReading package lists... 98%\r\rReading package lists... 98%\r\rReading package lists... Done\r\n",
            "\rBuilding dependency tree... 0%\r\rBuilding dependency tree... 0%\r\rBuilding dependency tree... 50%\r\rBuilding dependency tree... 50%\r\rBuilding dependency tree       \r\n",
            "\rReading state information... 0%\r\rReading state information... 0%\r\rReading state information... Done\r\n",
            "The following package was automatically installed and is no longer required:\n",
            "  libnvidia-common-430\n",
            "Use 'apt autoremove' to remove it.\n",
            "The following additional packages will be installed:\n",
            "  cpp-6 fonts-dejavu-core fonts-dejavu-extra g++-6 gcc-6 gcc-6-base\n",
            "  libaccinj64-9.1 libasan3 libatk-wrapper-java libatk-wrapper-java-jni\n",
            "  libcublas9.1 libcudart9.1 libcufft9.1 libcufftw9.1 libcuinj64-9.1\n",
            "  libcurand9.1 libcusolver9.1 libcusparse9.1 libgcc-6-dev libnppc9.1\n",
            "  libnppial9.1 libnppicc9.1 libnppicom9.1 libnppidei9.1 libnppif9.1\n",
            "  libnppig9.1 libnppim9.1 libnppist9.1 libnppisu9.1 libnppitc9.1 libnpps9.1\n",
            "  libnvblas9.1 libnvgraph9.1 libnvrtc9.1 libnvtoolsext1 libnvvm3\n",
            "  libstdc++-6-dev libthrust-dev libvdpau-dev libxxf86dga1 nvidia-cuda-dev\n",
            "  nvidia-cuda-doc nvidia-cuda-gdb nvidia-profiler nvidia-visual-profiler\n",
            "  openjdk-8-jre x11-utils\n",
            "Suggested packages:\n",
            "  gcc-6-locales g++-6-multilib gcc-6-doc libstdc++6-6-dbg gcc-6-multilib\n",
            "  libgcc1-dbg libgomp1-dbg libitm1-dbg libatomic1-dbg libasan3-dbg\n",
            "  liblsan0-dbg libtsan0-dbg libubsan0-dbg libcilkrts5-dbg libmpx2-dbg\n",
            "  libquadmath0-dbg libstdc++-6-doc libvdpau-doc libcupti-dev nvidia-driver\n",
            "  icedtea-8-plugin mesa-utils\n",
            "Recommended packages:\n",
            "  libnvcuvid1\n",
            "The following NEW packages will be installed:\n",
            "  cpp-6 fonts-dejavu-core fonts-dejavu-extra g++-6 gcc-6 gcc-6-base\n",
            "  libaccinj64-9.1 libasan3 libatk-wrapper-java libatk-wrapper-java-jni\n",
            "  libcublas9.1 libcudart9.1 libcufft9.1 libcufftw9.1 libcuinj64-9.1\n",
            "  libcurand9.1 libcusolver9.1 libcusparse9.1 libgcc-6-dev libnppc9.1\n",
            "  libnppial9.1 libnppicc9.1 libnppicom9.1 libnppidei9.1 libnppif9.1\n",
            "  libnppig9.1 libnppim9.1 libnppist9.1 libnppisu9.1 libnppitc9.1 libnpps9.1\n",
            "  libnvblas9.1 libnvgraph9.1 libnvrtc9.1 libnvtoolsext1 libnvvm3\n",
            "  libstdc++-6-dev libthrust-dev libvdpau-dev libxxf86dga1 nvidia-cuda-dev\n",
            "  nvidia-cuda-doc nvidia-cuda-gdb nvidia-cuda-toolkit nvidia-profiler\n",
            "  nvidia-visual-profiler openjdk-8-jre x11-utils\n",
            "0 upgraded, 48 newly installed, 0 to remove and 17 not upgraded.\n",
            "Need to get 800 MB of archives.\n",
            "After this operation, 1,886 MB of additional disk space will be used.\n",
            "\u001b[33m\r0% [Working]\u001b[0m\r            \rGet:1 http://ppa.launchpad.net/graphics-drivers/ppa/ubuntu bionic/main amd64 libvdpau-dev amd64 1.3-0ubuntu0~gpu18.04.2 [42.7 kB]\n",
            "\u001b[33m\r0% [Waiting for headers] [1 libvdpau-dev 0 B/42.7 kB 0%]\u001b[0m\r                                                        \rGet:2 http://archive.ubuntu.com/ubuntu bionic/main amd64 libxxf86dga1 amd64 2:1.1.4-1 [13.7 kB]\n",
            "\u001b[33m\r0% [2 libxxf86dga1 0 B/13.7 kB 0%] [1 libvdpau-dev 14.2 kB/42.7 kB 33%]\u001b[0m\u001b[33m\r                                                                       \r0% [1 libvdpau-dev 14.2 kB/42.7 kB 33%]\u001b[0m\r                                       \rGet:3 http://archive.ubuntu.com/ubuntu bionic-updates/universe amd64 gcc-6-base amd64 6.5.0-2ubuntu1~18.04 [16.7 kB]\n",
            "\u001b[33m\r0% [3 gcc-6-base 0 B/16.7 kB 0%] [1 libvdpau-dev 34.5 kB/42.7 kB 81%]\u001b[0m\u001b[33m\r                                                                     \r1% [3 gcc-6-base 8,407 B/16.7 kB 50%]\u001b[0m\u001b[33m\r                                     \r1% [Working]\u001b[0m\r            \rGet:4 http://archive.ubuntu.com/ubuntu bionic-updates/universe amd64 cpp-6 amd64 6.5.0-2ubuntu1~18.04 [6,396 kB]\n",
            "\u001b[33m\r1% [4 cpp-6 0 B/6,396 kB 0%]\u001b[0m\u001b[33m\r1% [4 cpp-6 322 kB/6,396 kB 5%]\u001b[0m\u001b[33m\r2% [4 cpp-6 4,220 kB/6,396 kB 66%]\u001b[0m\u001b[33m\r                                  \r2% [Working]\u001b[0m\r            \rGet:5 http://archive.ubuntu.com/ubuntu bionic/main amd64 fonts-dejavu-core all 2.37-1 [1,041 kB]\n",
            "\u001b[33m\r2% [5 fonts-dejavu-core 0 B/1,041 kB 0%]\u001b[0m\u001b[33m\r                                        \r3% [Working]\u001b[0m\r            \rGet:6 http://archive.ubuntu.com/ubuntu bionic/main amd64 fonts-dejavu-extra all 2.37-1 [1,953 kB]\n",
            "\u001b[33m\r3% [6 fonts-dejavu-extra 0 B/1,953 kB 0%]\u001b[0m\u001b[33m\r                                         \r3% [Working]\u001b[0m\r            \rGet:7 http://archive.ubuntu.com/ubuntu bionic-updates/universe amd64 libasan3 amd64 6.5.0-2ubuntu1~18.04 [313 kB]\n",
            "\u001b[33m\r3% [7 libasan3 0 B/313 kB 0%]\u001b[0m\u001b[33m\r                             \r4% [Working]\u001b[0m\r            \rGet:8 http://archive.ubuntu.com/ubuntu bionic-updates/universe amd64 libgcc-6-dev amd64 6.5.0-2ubuntu1~18.04 [2,308 kB]\n",
            "Get:9 http://archive.ubuntu.com/ubuntu bionic-updates/universe amd64 gcc-6 amd64 6.5.0-2ubuntu1~18.04 [7,067 kB]\n",
            "Get:10 http://archive.ubuntu.com/ubuntu bionic-updates/universe amd64 libstdc++-6-dev amd64 6.5.0-2ubuntu1~18.04 [1,437 kB]\n",
            "Get:11 http://archive.ubuntu.com/ubuntu bionic-updates/universe amd64 g++-6 amd64 6.5.0-2ubuntu1~18.04 [7,213 kB]\n",
            "Get:12 http://archive.ubuntu.com/ubuntu bionic/multiverse amd64 libaccinj64-9.1 amd64 9.1.85-3ubuntu1 [1,748 kB]\n",
            "Get:13 http://archive.ubuntu.com/ubuntu bionic/main amd64 x11-utils amd64 7.7+3build1 [196 kB]\n",
            "Get:14 http://archive.ubuntu.com/ubuntu bionic/main amd64 libatk-wrapper-java all 0.33.3-20ubuntu0.1 [34.7 kB]\n",
            "Get:15 http://archive.ubuntu.com/ubuntu bionic/main amd64 libatk-wrapper-java-jni amd64 0.33.3-20ubuntu0.1 [28.3 kB]\n",
            "Get:16 http://archive.ubuntu.com/ubuntu bionic/multiverse amd64 libcublas9.1 amd64 9.1.85-3ubuntu1 [25.0 MB]\n",
            "Get:17 http://archive.ubuntu.com/ubuntu bionic/multiverse amd64 libcudart9.1 amd64 9.1.85-3ubuntu1 [121 kB]\n",
            "Get:18 http://archive.ubuntu.com/ubuntu bionic/multiverse amd64 libcufft9.1 amd64 9.1.85-3ubuntu1 [76.1 MB]\n",
            "Get:19 http://archive.ubuntu.com/ubuntu bionic/multiverse amd64 libcufftw9.1 amd64 9.1.85-3ubuntu1 [131 kB]\n",
            "Get:20 http://archive.ubuntu.com/ubuntu bionic/multiverse amd64 libcuinj64-9.1 amd64 9.1.85-3ubuntu1 [1,878 kB]\n",
            "Get:21 http://archive.ubuntu.com/ubuntu bionic/multiverse amd64 libcurand9.1 amd64 9.1.85-3ubuntu1 [38.9 MB]\n",
            "Get:22 http://archive.ubuntu.com/ubuntu bionic/multiverse amd64 libcusolver9.1 amd64 9.1.85-3ubuntu1 [28.2 MB]\n",
            "Get:23 http://archive.ubuntu.com/ubuntu bionic/multiverse amd64 libcusparse9.1 amd64 9.1.85-3ubuntu1 [25.2 MB]\n",
            "Get:24 http://archive.ubuntu.com/ubuntu bionic/multiverse amd64 libnppc9.1 amd64 9.1.85-3ubuntu1 [127 kB]\n",
            "Get:25 http://archive.ubuntu.com/ubuntu bionic/multiverse amd64 libnppial9.1 amd64 9.1.85-3ubuntu1 [3,169 kB]\n",
            "Get:26 http://archive.ubuntu.com/ubuntu bionic/multiverse amd64 libnppicc9.1 amd64 9.1.85-3ubuntu1 [1,376 kB]\n",
            "Get:27 http://archive.ubuntu.com/ubuntu bionic/multiverse amd64 libnppicom9.1 amd64 9.1.85-3ubuntu1 [497 kB]\n",
            "Get:28 http://archive.ubuntu.com/ubuntu bionic/multiverse amd64 libnppidei9.1 amd64 9.1.85-3ubuntu1 [1,673 kB]\n",
            "Get:29 http://archive.ubuntu.com/ubuntu bionic/multiverse amd64 libnppif9.1 amd64 9.1.85-3ubuntu1 [20.9 MB]\n",
            "Get:30 http://archive.ubuntu.com/ubuntu bionic/multiverse amd64 libnppig9.1 amd64 9.1.85-3ubuntu1 [9,960 kB]\n",
            "Get:31 http://archive.ubuntu.com/ubuntu bionic/multiverse amd64 libnppim9.1 amd64 9.1.85-3ubuntu1 [2,295 kB]\n",
            "Get:32 http://archive.ubuntu.com/ubuntu bionic/multiverse amd64 libnppist9.1 amd64 9.1.85-3ubuntu1 [4,910 kB]\n",
            "Get:33 http://archive.ubuntu.com/ubuntu bionic/multiverse amd64 libnppisu9.1 amd64 9.1.85-3ubuntu1 [120 kB]\n",
            "Get:34 http://archive.ubuntu.com/ubuntu bionic/multiverse amd64 libnppitc9.1 amd64 9.1.85-3ubuntu1 [714 kB]\n",
            "Get:35 http://archive.ubuntu.com/ubuntu bionic/multiverse amd64 libnpps9.1 amd64 9.1.85-3ubuntu1 [2,568 kB]\n",
            "Get:36 http://archive.ubuntu.com/ubuntu bionic/multiverse amd64 libnvblas9.1 amd64 9.1.85-3ubuntu1 [132 kB]\n",
            "Get:37 http://archive.ubuntu.com/ubuntu bionic/multiverse amd64 libnvgraph9.1 amd64 9.1.85-3ubuntu1 [6,252 kB]\n",
            "Get:38 http://archive.ubuntu.com/ubuntu bionic/multiverse amd64 libnvrtc9.1 amd64 9.1.85-3ubuntu1 [6,309 kB]\n",
            "Get:39 http://archive.ubuntu.com/ubuntu bionic-updates/universe amd64 openjdk-8-jre amd64 8u232-b09-0ubuntu1~18.04.1 [69.8 kB]\n",
            "Get:40 http://archive.ubuntu.com/ubuntu bionic/multiverse amd64 libnvtoolsext1 amd64 9.1.85-3ubuntu1 [31.3 kB]\n",
            "Get:41 http://archive.ubuntu.com/ubuntu bionic/multiverse amd64 libnvvm3 amd64 9.1.85-3ubuntu1 [4,274 kB]\n",
            "Get:42 http://archive.ubuntu.com/ubuntu bionic/multiverse amd64 libthrust-dev all 1.9.1~9.1.85-3ubuntu1 [461 kB]\n",
            "Get:43 http://archive.ubuntu.com/ubuntu bionic/multiverse amd64 nvidia-cuda-dev amd64 9.1.85-3ubuntu1 [263 MB]\n",
            "Get:44 http://archive.ubuntu.com/ubuntu bionic/multiverse amd64 nvidia-cuda-doc all 9.1.85-3ubuntu1 [95.2 MB]\n",
            "Get:45 http://archive.ubuntu.com/ubuntu bionic/multiverse amd64 nvidia-cuda-gdb amd64 9.1.85-3ubuntu1 [2,724 kB]\n",
            "Get:46 http://archive.ubuntu.com/ubuntu bionic/multiverse amd64 nvidia-profiler amd64 9.1.85-3ubuntu1 [2,672 kB]\n",
            "Get:47 http://archive.ubuntu.com/ubuntu bionic/multiverse amd64 nvidia-cuda-toolkit amd64 9.1.85-3ubuntu1 [30.4 MB]\n",
            "Get:48 http://archive.ubuntu.com/ubuntu bionic/multiverse amd64 nvidia-visual-profiler amd64 9.1.85-3ubuntu1 [115 MB]\n",
            "Fetched 800 MB in 43s (18.8 MB/s)\n",
            "Extracting templates from packages: 100%\n",
            "Selecting previously unselected package libxxf86dga1:amd64.\n",
            "(Reading database ... 158149 files and directories currently installed.)\n",
            "Preparing to unpack .../00-libxxf86dga1_2%3a1.1.4-1_amd64.deb ...\n",
            "Unpacking libxxf86dga1:amd64 (2:1.1.4-1) ...\n",
            "Selecting previously unselected package gcc-6-base:amd64.\n",
            "Preparing to unpack .../01-gcc-6-base_6.5.0-2ubuntu1~18.04_amd64.deb ...\n",
            "Unpacking gcc-6-base:amd64 (6.5.0-2ubuntu1~18.04) ...\n",
            "Selecting previously unselected package cpp-6.\n",
            "Preparing to unpack .../02-cpp-6_6.5.0-2ubuntu1~18.04_amd64.deb ...\n",
            "Unpacking cpp-6 (6.5.0-2ubuntu1~18.04) ...\n",
            "Selecting previously unselected package fonts-dejavu-core.\n",
            "Preparing to unpack .../03-fonts-dejavu-core_2.37-1_all.deb ...\n",
            "Unpacking fonts-dejavu-core (2.37-1) ...\n",
            "Selecting previously unselected package fonts-dejavu-extra.\n",
            "Preparing to unpack .../04-fonts-dejavu-extra_2.37-1_all.deb ...\n",
            "Unpacking fonts-dejavu-extra (2.37-1) ...\n",
            "Selecting previously unselected package libasan3:amd64.\n",
            "Preparing to unpack .../05-libasan3_6.5.0-2ubuntu1~18.04_amd64.deb ...\n",
            "Unpacking libasan3:amd64 (6.5.0-2ubuntu1~18.04) ...\n",
            "Selecting previously unselected package libgcc-6-dev:amd64.\n",
            "Preparing to unpack .../06-libgcc-6-dev_6.5.0-2ubuntu1~18.04_amd64.deb ...\n",
            "Unpacking libgcc-6-dev:amd64 (6.5.0-2ubuntu1~18.04) ...\n",
            "Selecting previously unselected package gcc-6.\n",
            "Preparing to unpack .../07-gcc-6_6.5.0-2ubuntu1~18.04_amd64.deb ...\n",
            "Unpacking gcc-6 (6.5.0-2ubuntu1~18.04) ...\n",
            "Selecting previously unselected package libstdc++-6-dev:amd64.\n",
            "Preparing to unpack .../08-libstdc++-6-dev_6.5.0-2ubuntu1~18.04_amd64.deb ...\n",
            "Unpacking libstdc++-6-dev:amd64 (6.5.0-2ubuntu1~18.04) ...\n",
            "Selecting previously unselected package g++-6.\n",
            "Preparing to unpack .../09-g++-6_6.5.0-2ubuntu1~18.04_amd64.deb ...\n",
            "Unpacking g++-6 (6.5.0-2ubuntu1~18.04) ...\n",
            "Selecting previously unselected package libaccinj64-9.1:amd64.\n",
            "Preparing to unpack .../10-libaccinj64-9.1_9.1.85-3ubuntu1_amd64.deb ...\n",
            "Unpacking libaccinj64-9.1:amd64 (9.1.85-3ubuntu1) ...\n",
            "Selecting previously unselected package x11-utils.\n",
            "Preparing to unpack .../11-x11-utils_7.7+3build1_amd64.deb ...\n",
            "Unpacking x11-utils (7.7+3build1) ...\n",
            "Selecting previously unselected package libatk-wrapper-java.\n",
            "Preparing to unpack .../12-libatk-wrapper-java_0.33.3-20ubuntu0.1_all.deb ...\n",
            "Unpacking libatk-wrapper-java (0.33.3-20ubuntu0.1) ...\n",
            "Selecting previously unselected package libatk-wrapper-java-jni:amd64.\n",
            "Preparing to unpack .../13-libatk-wrapper-java-jni_0.33.3-20ubuntu0.1_amd64.deb ...\n",
            "Unpacking libatk-wrapper-java-jni:amd64 (0.33.3-20ubuntu0.1) ...\n",
            "Selecting previously unselected package libcublas9.1:amd64.\n",
            "Preparing to unpack .../14-libcublas9.1_9.1.85-3ubuntu1_amd64.deb ...\n",
            "Unpacking libcublas9.1:amd64 (9.1.85-3ubuntu1) ...\n"
          ],
          "name": "stdout"
        }
      ]
    },
    {
      "cell_type": "code",
      "metadata": {
        "id": "jaukOkFhtqmV",
        "colab_type": "code",
        "colab": {}
      },
      "source": [
        "!wget -O cudnn7.tgz https://www.dropbox.com/s/dgmc6extwj8u14m/cudnn-9.0-linux-x64-v7.tgz"
      ],
      "execution_count": 0,
      "outputs": []
    },
    {
      "cell_type": "code",
      "metadata": {
        "id": "SVE91m4DttH9",
        "colab_type": "code",
        "colab": {}
      },
      "source": [
        "!tar -xvzf cudnn7.tgz"
      ],
      "execution_count": 0,
      "outputs": []
    },
    {
      "cell_type": "code",
      "metadata": {
        "id": "mgTmd3r6twtl",
        "colab_type": "code",
        "colab": {}
      },
      "source": [
        "!cp -P cuda/include/cudnn.h /usr/include"
      ],
      "execution_count": 0,
      "outputs": []
    },
    {
      "cell_type": "code",
      "metadata": {
        "id": "sACmcctCtyDt",
        "colab_type": "code",
        "colab": {}
      },
      "source": [
        "!cp -P cuda/lib64/libcudnn* /usr/lib/x86_64-linux-gnu/"
      ],
      "execution_count": 0,
      "outputs": []
    },
    {
      "cell_type": "code",
      "metadata": {
        "id": "OZwEvIcwtzHW",
        "colab_type": "code",
        "colab": {}
      },
      "source": [
        "!chmod a+r /usr/lib/x86_64-linux-gnu/libcudnn*\n",
        "!cp cuda/include/cudnn.h /usr/local/cuda/include\n",
        "!cp cuda/lib64/libcudnn* /usr/local/cuda/lib64\n",
        "!chmod a+r /usr/local/cuda/lib64/libcudnn*"
      ],
      "execution_count": 0,
      "outputs": []
    },
    {
      "cell_type": "code",
      "metadata": {
        "id": "3rXWYUfyt0W2",
        "colab_type": "code",
        "colab": {}
      },
      "source": [
        ""
      ],
      "execution_count": 0,
      "outputs": []
    },
    {
      "cell_type": "code",
      "metadata": {
        "id": "osHj1RThl6Gy",
        "colab_type": "code",
        "colab": {}
      },
      "source": [
        ""
      ],
      "execution_count": 0,
      "outputs": []
    },
    {
      "cell_type": "code",
      "metadata": {
        "id": "zOhALNMAl1pI",
        "colab_type": "code",
        "colab": {}
      },
      "source": [
        ""
      ],
      "execution_count": 0,
      "outputs": []
    },
    {
      "cell_type": "code",
      "metadata": {
        "id": "1v1zVOtlk-wp",
        "colab_type": "code",
        "colab": {}
      },
      "source": [
        ""
      ],
      "execution_count": 0,
      "outputs": []
    },
    {
      "cell_type": "code",
      "metadata": {
        "id": "cXJZup1PkrF1",
        "colab_type": "code",
        "colab": {}
      },
      "source": [
        ""
      ],
      "execution_count": 0,
      "outputs": []
    }
  ]
}