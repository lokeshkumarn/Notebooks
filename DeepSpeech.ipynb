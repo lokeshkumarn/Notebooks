{
  "nbformat": 4,
  "nbformat_minor": 0,
  "metadata": {
    "colab": {
      "name": "DeepSpeech.ipynb",
      "provenance": [],
      "collapsed_sections": [],
      "include_colab_link": true
    },
    "kernelspec": {
      "name": "python3",
      "display_name": "Python 3"
    },
    "accelerator": "GPU"
  },
  "cells": [
    {
      "cell_type": "markdown",
      "metadata": {
        "id": "view-in-github",
        "colab_type": "text"
      },
      "source": [
        "<a href=\"https://colab.research.google.com/github/lokeshkumarn/Notebooks/blob/master/DeepSpeech.ipynb\" target=\"_parent\"><img src=\"https://colab.research.google.com/assets/colab-badge.svg\" alt=\"Open In Colab\"/></a>"
      ]
    },
    {
      "cell_type": "code",
      "metadata": {
        "id": "aAbOEcPVlUp6",
        "colab_type": "code",
        "colab": {
          "base_uri": "https://localhost:8080/",
          "height": 122
        },
        "outputId": "b6905611-2508-41bd-ce5e-e37561d83253"
      },
      "source": [
        "#https://github.com/mayukhnair/deepspeech-colab/blob/master/README.md\n",
        "from google.colab import drive\n",
        "drive.mount('/content/drive')"
      ],
      "execution_count": 1,
      "outputs": [
        {
          "output_type": "stream",
          "text": [
            "Go to this URL in a browser: https://accounts.google.com/o/oauth2/auth?client_id=947318989803-6bn6qk8qdgf4n4g3pfee6491hc0brc4i.apps.googleusercontent.com&redirect_uri=urn%3aietf%3awg%3aoauth%3a2.0%3aoob&response_type=code&scope=email%20https%3a%2f%2fwww.googleapis.com%2fauth%2fdocs.test%20https%3a%2f%2fwww.googleapis.com%2fauth%2fdrive%20https%3a%2f%2fwww.googleapis.com%2fauth%2fdrive.photos.readonly%20https%3a%2f%2fwww.googleapis.com%2fauth%2fpeopleapi.readonly\n",
            "\n",
            "Enter your authorization code:\n",
            "··········\n",
            "Mounted at /content/drive\n"
          ],
          "name": "stdout"
        }
      ]
    },
    {
      "cell_type": "code",
      "metadata": {
        "id": "W97nWj_tQSOk",
        "colab_type": "code",
        "colab": {}
      },
      "source": [
        "# !wget -O git-lfs.tar.gz https://github.com/git-lfs/git-lfs/releases/download/v2.4.2/git-lfs-linux-amd64-2.4.2.tar.gz\n",
        "# !tar -xvzf git-lfs.tar.gz\n",
        "# !./git-lfs-2.4.2/install.sh\n",
        "# %cd \"/content/drive/My Drive/\"\n",
        "# !pwd\n",
        "# !git clone https://github.com/mozilla/DeepSpeech\n",
        "%cd \"/content/drive/My Drive/DeepSpeech\"\n",
        "!pwd\n",
        "!pip install -r requirements.txt\n",
        "!pip uninstall -y tensorflow\n",
        "!pip uninstall -y tensorflow-gpu\n",
        "!pip install deepspeech-gpu\n",
        "!pip install tensorflow-gpu==1.11.0"
      ],
      "execution_count": 0,
      "outputs": []
    },
    {
      "cell_type": "code",
      "metadata": {
        "id": "9hLwR-i-OIbT",
        "colab_type": "code",
        "outputId": "40044135-9c81-4e36-ab03-18452ccab976",
        "colab": {
          "base_uri": "https://localhost:8080/",
          "height": 51
        }
      },
      "source": [
        "%cd \"/content/drive/My Drive/DeepSpeech\"\n",
        "!pwd"
      ],
      "execution_count": 1,
      "outputs": [
        {
          "output_type": "stream",
          "text": [
            "/content/drive/My Drive/DeepSpeech\n",
            "/content/drive/My Drive/DeepSpeech\n"
          ],
          "name": "stdout"
        }
      ]
    },
    {
      "cell_type": "markdown",
      "metadata": {
        "id": "5UtW5gqMooQs",
        "colab_type": "text"
      },
      "source": [
        "**Fetching the pre-trained model & sample audio clip**"
      ]
    },
    {
      "cell_type": "code",
      "metadata": {
        "id": "4ApFTok0olZ1",
        "colab_type": "code",
        "colab": {}
      },
      "source": [
        "#!wget -O - https://github.com/mozilla/DeepSpeech/releases/download/v0.1.1/deepspeech-0.1.1-models.tar.gz | tar xvfz -\n",
        "#!wget -O - https://github.com/mozilla/DeepSpeech/releases/download/v0.5.1/deepspeech-0.5.1-models.tar.gz | tar xvfz -\n",
        "#!wget -O - https://github.com/mozilla/DeepSpeech/releases/download/v0.6.0/deepspeech-0.6.0-models.tar.gz | tar xvfz -\n",
        "#!wget -O - https://github.com/mozilla/DeepSpeech/releases/download/v0.1.1/deepspeech-0.1.1-checkpoint.tar.gz | tar xvfz -\n",
        "#!wget -O - https://github.com/mozilla/DeepSpeech/releases/download/v0.5.1/deepspeech-0.5.1-checkpoint.tar.gz | tar xvfz -\n",
        "#!wget -O - https://github.com/mozilla/DeepSpeech/releases/download/v0.6.0/deepspeech-0.6.0-checkpoint.tar.gz | tar xvfz -\n",
        "#!mkdir customdata                              \n",
        "#!wget -O customdata/sample-1.wav https://github.com/mayukhnair/dsdatasets/raw/master/sample-1.wav\n",
        "#!wget -O customdata/ttssample1.wav https://github.com/mayukhnair/dsdatasets/raw/master/ttssample1.wav"
      ],
      "execution_count": 0,
      "outputs": []
    },
    {
      "cell_type": "markdown",
      "metadata": {
        "id": "Aaa5ADLeo9av",
        "colab_type": "text"
      },
      "source": [
        "**GPU Training Setup**"
      ]
    },
    {
      "cell_type": "code",
      "metadata": {
        "id": "5WnY8k5Al-qa",
        "colab_type": "code",
        "colab": {}
      },
      "source": [
        "# !python \"/content/drive/My Drive/DeepSpeech/util/taskcluster.py\" --target \"/content/drive/My Drive/DeepSpeech/native_client_new\"\n",
        "#!apt-get install dirmngr\n",
        "#!wget -O cuda9base.deb https://developer.nvidia.com/compute/cuda/9.0/Prod/local_installers/cuda-repo-ubuntu1704-9-0-local_9.0.176-1_amd64-deb"
      ],
      "execution_count": 0,
      "outputs": []
    },
    {
      "cell_type": "code",
      "metadata": {
        "id": "6gpwPijTsrl4",
        "colab_type": "code",
        "outputId": "eec214cf-1d31-4067-fc31-265c10766bde",
        "colab": {
          "base_uri": "https://localhost:8080/",
          "height": 102
        }
      },
      "source": [
        "!dpkg -i cuda9base.deb"
      ],
      "execution_count": 0,
      "outputs": [
        {
          "output_type": "stream",
          "text": [
            "Selecting previously unselected package cuda-repo-ubuntu1704-9-0-local.\n",
            "(Reading database ... \r(Reading database ... 5%\r(Reading database ... 10%\r(Reading database ... 15%\r(Reading database ... 20%\r(Reading database ... 25%\r(Reading database ... 30%\r(Reading database ... 35%\r(Reading database ... 40%\r(Reading database ... 45%\r(Reading database ... 50%\r(Reading database ... 55%\r(Reading database ... 60%\r(Reading database ... 65%\r(Reading database ... 70%\r(Reading database ... 75%\r(Reading database ... 80%\r(Reading database ... 85%\r(Reading database ... 90%\r(Reading database ... 95%\r(Reading database ... 100%\r(Reading database ... 145674 files and directories currently installed.)\n",
            "Preparing to unpack cuda9base.deb ...\n",
            "Unpacking cuda-repo-ubuntu1704-9-0-local (9.0.176-1) ...\n",
            "Setting up cuda-repo-ubuntu1704-9-0-local (9.0.176-1) ...\n"
          ],
          "name": "stdout"
        }
      ]
    },
    {
      "cell_type": "code",
      "metadata": {
        "id": "1F5OhzQ3qXOI",
        "colab_type": "code",
        "colab": {}
      },
      "source": [
        "!ls -l"
      ],
      "execution_count": 0,
      "outputs": []
    },
    {
      "cell_type": "code",
      "metadata": {
        "id": "r3jXCghWrmRm",
        "colab_type": "code",
        "outputId": "c10089c1-0c1b-4c70-a7a5-7ab56e1e6a6a",
        "colab": {
          "base_uri": "https://localhost:8080/",
          "height": 34
        }
      },
      "source": [
        "!apt-key add /var/cuda-repo-9-0-local/7fa2af80.pub"
      ],
      "execution_count": 0,
      "outputs": [
        {
          "output_type": "stream",
          "text": [
            "OK\n"
          ],
          "name": "stdout"
        }
      ]
    },
    {
      "cell_type": "code",
      "metadata": {
        "id": "A-37gg1js148",
        "colab_type": "code",
        "outputId": "e54c74b9-01e4-4d12-ba76-cdad25996997",
        "colab": {
          "base_uri": "https://localhost:8080/",
          "height": 122
        }
      },
      "source": [
        "!apt-key adv --fetch-keys https://developer.download.nvidia.com/compute/cuda/repos/ubuntu1704/x86_64/7fa2af80.pub"
      ],
      "execution_count": 0,
      "outputs": [
        {
          "output_type": "stream",
          "text": [
            "Executing: /tmp/apt-key-gpghome.6Zev4M1KL0/gpg.1.sh --fetch-keys https://developer.download.nvidia.com/compute/cuda/repos/ubuntu1704/x86_64/7fa2af80.pub\n",
            "gpg: requesting key from 'https://developer.download.nvidia.com/compute/cuda/repos/ubuntu1704/x86_64/7fa2af80.pub'\n",
            "gpg: key F60F4B3D7FA2AF80: \"cudatools <cudatools@nvidia.com>\" not changed\n",
            "gpg: Total number processed: 1\n",
            "gpg:              unchanged: 1\n"
          ],
          "name": "stdout"
        }
      ]
    },
    {
      "cell_type": "code",
      "metadata": {
        "id": "BTPCCUy6tET7",
        "colab_type": "code",
        "colab": {}
      },
      "source": [
        "!apt-get update"
      ],
      "execution_count": 0,
      "outputs": []
    },
    {
      "cell_type": "code",
      "metadata": {
        "id": "T-Z4LUuktLSD",
        "colab_type": "code",
        "colab": {}
      },
      "source": [
        "!apt-get install cuda=9.0.176-1"
      ],
      "execution_count": 0,
      "outputs": []
    },
    {
      "cell_type": "code",
      "metadata": {
        "id": "Urbj2RsOtQn2",
        "colab_type": "code",
        "colab": {}
      },
      "source": [
        "!export LD_LIBRARY_PATH=/usr/local/cuda-9.0/lib64:$LD_LIBRARY_PATH"
      ],
      "execution_count": 0,
      "outputs": []
    },
    {
      "cell_type": "code",
      "metadata": {
        "id": "ehUIqQpptnlV",
        "colab_type": "code",
        "colab": {}
      },
      "source": [
        "!apt install nvidia-cuda-toolkit"
      ],
      "execution_count": 0,
      "outputs": []
    },
    {
      "cell_type": "code",
      "metadata": {
        "id": "jaukOkFhtqmV",
        "colab_type": "code",
        "colab": {}
      },
      "source": [
        "!wget -O cudnn7.tgz https://www.dropbox.com/s/dgmc6extwj8u14m/cudnn-9.0-linux-x64-v7.tgz"
      ],
      "execution_count": 0,
      "outputs": []
    },
    {
      "cell_type": "code",
      "metadata": {
        "id": "SVE91m4DttH9",
        "colab_type": "code",
        "outputId": "b3c899b6-4e62-4cb8-9738-963885140a96",
        "colab": {
          "base_uri": "https://localhost:8080/",
          "height": 170
        }
      },
      "source": [
        "!tar -xvzf cudnn7.tgz"
      ],
      "execution_count": 0,
      "outputs": [
        {
          "output_type": "stream",
          "text": [
            "cuda/include/cudnn.h\n",
            "cuda/NVIDIA_SLA_cuDNN_Support.txt\n",
            "cuda/lib64/libcudnn.so\n",
            "tar: cuda/lib64/libcudnn.so: Cannot create symlink to ‘libcudnn.so.7’: Operation not supported\n",
            "cuda/lib64/libcudnn.so.7\n",
            "tar: cuda/lib64/libcudnn.so.7: Cannot create symlink to ‘libcudnn.so.7.0.5’: Operation not supported\n",
            "cuda/lib64/libcudnn.so.7.0.5\n",
            "cuda/lib64/libcudnn_static.a\n",
            "tar: Exiting with failure status due to previous errors\n"
          ],
          "name": "stdout"
        }
      ]
    },
    {
      "cell_type": "code",
      "metadata": {
        "id": "mgTmd3r6twtl",
        "colab_type": "code",
        "colab": {}
      },
      "source": [
        "!cp -P cuda/include/cudnn.h /usr/include"
      ],
      "execution_count": 0,
      "outputs": []
    },
    {
      "cell_type": "code",
      "metadata": {
        "id": "sACmcctCtyDt",
        "colab_type": "code",
        "colab": {}
      },
      "source": [
        "!cp -P cuda/lib64/libcudnn* /usr/lib/x86_64-linux-gnu/"
      ],
      "execution_count": 0,
      "outputs": []
    },
    {
      "cell_type": "code",
      "metadata": {
        "id": "OZwEvIcwtzHW",
        "colab_type": "code",
        "colab": {}
      },
      "source": [
        "!chmod a+r /usr/lib/x86_64-linux-gnu/libcudnn*\n",
        "!cp cuda/include/cudnn.h /usr/local/cuda/include\n",
        "!cp cuda/lib64/libcudnn* /usr/local/cuda/lib64\n",
        "!chmod a+r /usr/local/cuda/lib64/libcudnn*"
      ],
      "execution_count": 0,
      "outputs": []
    },
    {
      "cell_type": "code",
      "metadata": {
        "id": "Qs179doKvbNa",
        "colab_type": "code",
        "colab": {}
      },
      "source": [
        "import deepspeech\n",
        "from deepspeech import *\n",
        "from deepspeech import Model\n",
        "import scipy.io.wavfile as wav\n",
        "\n",
        "import glob\n",
        "import webrtcvad\n",
        "import logging\n",
        "# import wavSplit\n",
        "from deepspeech import Model\n",
        "from timeit import default_timer as timer"
      ],
      "execution_count": 0,
      "outputs": []
    },
    {
      "cell_type": "markdown",
      "metadata": {
        "id": "bp4sxpcNKGLk",
        "colab_type": "text"
      },
      "source": [
        "**Deep Speech Model Load, STT**"
      ]
    },
    {
      "cell_type": "code",
      "metadata": {
        "id": "zroUxdeiw2fU",
        "colab_type": "code",
        "colab": {}
      },
      "source": [
        "def resolve_models(dirName):\n",
        "    pb = glob.glob(dirName + \"/*.pb\")[0]\n",
        "    logging.debug(\"Found Model: %s\" % pb)\n",
        "\n",
        "    lm = glob.glob(dirName + \"/lm.binary\")[0]\n",
        "    trie = glob.glob(dirName + \"/trie\")[0]\n",
        "    logging.debug(\"Found Language Model: %s\" % lm)\n",
        "    logging.debug(\"Found Trie: %s\" % trie)\n",
        "\n",
        "    return pb, lm, trie\n",
        "    \n",
        "def load_model(models, lm, trie):\n",
        "    BEAM_WIDTH = 500\n",
        "    LM_ALPHA = 0.75\n",
        "    LM_BETA = 1.85\n",
        "\n",
        "    model_load_start = timer()\n",
        "    ds = Model(models, BEAM_WIDTH)\n",
        "    model_load_end = timer() - model_load_start\n",
        "    logging.debug(\"Loaded model in %0.3fs.\" % (model_load_end))\n",
        "\n",
        "    lm_load_start = timer()\n",
        "    ds.enableDecoderWithLM(lm, trie, LM_ALPHA, LM_BETA)\n",
        "    lm_load_end = timer() - lm_load_start\n",
        "    logging.debug('Loaded language model in %0.3fs.' % (lm_load_end))\n",
        "\n",
        "    return [ds, model_load_end, lm_load_end]\n",
        "\n",
        "def stt(ds, audio, fs):\n",
        "    inference_time = 0.0\n",
        "    audio_length = len(audio) * (1 / fs)\n",
        "\n",
        "    # Run Deepspeech\n",
        "    logging.debug('Running inference...')\n",
        "    inference_start = timer()\n",
        "    output = ds.stt(audio)\n",
        "    inference_end = timer() - inference_start\n",
        "    inference_time += inference_end\n",
        "    logging.debug('Inference took %0.3fs for %0.3fs audio file.' % (inference_end, audio_length))\n",
        "\n",
        "    return [output, inference_time]"
      ],
      "execution_count": 0,
      "outputs": []
    },
    {
      "cell_type": "code",
      "metadata": {
        "id": "-trTu2MLwzpK",
        "colab_type": "code",
        "outputId": "87e2afba-eb3b-4640-e506-da38cd32a021",
        "colab": {
          "base_uri": "https://localhost:8080/",
          "height": 34
        }
      },
      "source": [
        "output_graph, lm, trie = resolve_models('models')\n",
        "output_graph, lm, trie"
      ],
      "execution_count": 6,
      "outputs": [
        {
          "output_type": "execute_result",
          "data": {
            "text/plain": [
              "('models/output_graph.pb', 'models/lm.binary', 'models/trie')"
            ]
          },
          "metadata": {
            "tags": []
          },
          "execution_count": 6
        }
      ]
    },
    {
      "cell_type": "code",
      "metadata": {
        "id": "b-F_yY7fxP4z",
        "colab_type": "code",
        "outputId": "ebb8018f-d5ec-4606-b454-b9e4b39e61aa",
        "colab": {
          "base_uri": "https://localhost:8080/",
          "height": 34
        }
      },
      "source": [
        "model_retval = load_model(output_graph, lm, trie)\n",
        "model_retval "
      ],
      "execution_count": 8,
      "outputs": [
        {
          "output_type": "execute_result",
          "data": {
            "text/plain": [
              "[<deepspeech.Model at 0x7efeddc27d68>, 72.03640951600005, 0.06225838099999237]"
            ]
          },
          "metadata": {
            "tags": []
          },
          "execution_count": 8
        }
      ]
    },
    {
      "cell_type": "code",
      "metadata": {
        "id": "osHj1RThl6Gy",
        "colab_type": "code",
        "colab": {
          "base_uri": "https://localhost:8080/",
          "height": 34
        },
        "outputId": "d4395f50-265f-4e76-ce09-733a8bde1257"
      },
      "source": [
        "fs, audio = wav.read(\"customdata/ttssample1.wav\")\n",
        "output = stt(model_retval[0], audio,fs)\n",
        "print(output)"
      ],
      "execution_count": 12,
      "outputs": [
        {
          "output_type": "stream",
          "text": [
            "['who unshaven the the', 3.5285158280000815]\n"
          ],
          "name": "stdout"
        }
      ]
    },
    {
      "cell_type": "code",
      "metadata": {
        "id": "XTbkTxmxJuSw",
        "colab_type": "code",
        "colab": {}
      },
      "source": [
        ""
      ],
      "execution_count": 0,
      "outputs": []
    },
    {
      "cell_type": "code",
      "metadata": {
        "id": "zOhALNMAl1pI",
        "colab_type": "code",
        "colab": {}
      },
      "source": [
        ""
      ],
      "execution_count": 0,
      "outputs": []
    },
    {
      "cell_type": "code",
      "metadata": {
        "id": "1v1zVOtlk-wp",
        "colab_type": "code",
        "colab": {}
      },
      "source": [
        ""
      ],
      "execution_count": 0,
      "outputs": []
    },
    {
      "cell_type": "code",
      "metadata": {
        "id": "cXJZup1PkrF1",
        "colab_type": "code",
        "colab": {}
      },
      "source": [
        ""
      ],
      "execution_count": 0,
      "outputs": []
    }
  ]
}