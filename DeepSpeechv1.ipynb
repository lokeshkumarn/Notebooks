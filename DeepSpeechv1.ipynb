{
  "nbformat": 4,
  "nbformat_minor": 0,
  "metadata": {
    "colab": {
      "name": "DeepSpeechv1.ipynb",
      "provenance": [],
      "collapsed_sections": [],
      "include_colab_link": true
    },
    "kernelspec": {
      "name": "python3",
      "display_name": "Python 3"
    },
    "accelerator": "GPU"
  },
  "cells": [
    {
      "cell_type": "markdown",
      "metadata": {
        "id": "view-in-github",
        "colab_type": "text"
      },
      "source": [
        "<a href=\"https://colab.research.google.com/github/lokeshkumarn/Notebooks/blob/master/DeepSpeechv1.ipynb\" target=\"_parent\"><img src=\"https://colab.research.google.com/assets/colab-badge.svg\" alt=\"Open In Colab\"/></a>"
      ]
    },
    {
      "cell_type": "code",
      "metadata": {
        "id": "R70PnRLvbbID",
        "colab_type": "code",
        "colab": {}
      },
      "source": [
        "import os\n",
        "\n",
        "def restart_runtime():\n",
        "  os.kill(os.getpid(), 9)"
      ],
      "execution_count": 0,
      "outputs": []
    },
    {
      "cell_type": "code",
      "metadata": {
        "id": "W97nWj_tQSOk",
        "colab_type": "code",
        "cellView": "both",
        "colab": {}
      },
      "source": [
        "#@title\n",
        "#https://github.com/mayukhnair/deepspeech-colab/blob/master/deepspeech-colab.ipynb\n",
        "!wget -O git-lfs.tar.gz https://github.com/git-lfs/git-lfs/releases/download/v2.4.2/git-lfs-linux-amd64-2.4.2.tar.gz\n",
        "!tar -xvzf git-lfs.tar.gz\n",
        "!./git-lfs-2.4.2/install.sh\n",
        "# %cd \"/content/drive/My Drive/\"                                        \n",
        "# !pwd\n",
        "!git lfs clone https://github.com/mozilla/deepspeech\n",
        "%cd \"/content/deepspeech\"\n",
        "!pip install -r requirements.txt\n",
        "!pip uninstall -y tensorflow\n",
        "!pip uninstall -y tensorflow-gpu\n",
        "!pip install deepspeech-gpu\n",
        "#https://www.tensorflow.org/install/gpu\n",
        "#CUDA® Toolkit —TensorFlow supports CUDA 10.0 (TensorFlow >= 1.13.0)\n",
        "!pip install tensorflow-gpu==1.14.0"
      ],
      "execution_count": 0,
      "outputs": []
    },
    {
      "cell_type": "code",
      "metadata": {
        "id": "iqbueN45bnTu",
        "colab_type": "code",
        "colab": {}
      },
      "source": [
        "restart_runtime()"
      ],
      "execution_count": 0,
      "outputs": []
    },
    {
      "cell_type": "code",
      "metadata": {
        "id": "9hLwR-i-OIbT",
        "colab_type": "code",
        "colab": {}
      },
      "source": [
        "%cd \"/content/deepspeech\""
      ],
      "execution_count": 0,
      "outputs": []
    },
    {
      "cell_type": "markdown",
      "metadata": {
        "id": "5UtW5gqMooQs",
        "colab_type": "text"
      },
      "source": [
        "**Fetching the pre-trained model & sample audio clip**"
      ]
    },
    {
      "cell_type": "code",
      "metadata": {
        "id": "4ApFTok0olZ1",
        "colab_type": "code",
        "colab": {}
      },
      "source": [
        "#!wget -O - https://github.com/mozilla/DeepSpeech/releases/download/v0.1.1/deepspeech-0.1.1-models.tar.gz | tar xvfz -\n",
        "#!wget -O - https://github.com/mozilla/DeepSpeech/releases/download/v0.5.1/deepspeech-0.5.1-models.tar.gz | tar xvfz -\n",
        "!wget -O - https://github.com/mozilla/DeepSpeech/releases/download/v0.6.0/deepspeech-0.6.0-models.tar.gz | tar xvfz -\n",
        "#!wget -O - https://github.com/mozilla/DeepSpeech/releases/download/v0.1.1/deepspeech-0.1.1-checkpoint.tar.gz | tar xvfz -\n",
        "#!wget -O - https://github.com/mozilla/DeepSpeech/releases/download/v0.5.1/deepspeech-0.5.1-checkpoint.tar.gz | tar xvfz -\n",
        "!wget -O - https://github.com/mozilla/DeepSpeech/releases/download/v0.6.0/deepspeech-0.6.0-checkpoint.tar.gz | tar xvfz -\n",
        "!mkdir customdata                              \n",
        "!wget -O customdata/sample-1.wav https://github.com/mayukhnair/dsdatasets/raw/master/sample-1.wav\n",
        "!wget -O customdata/ttssample1.wav https://github.com/mayukhnair/dsdatasets/raw/master/ttssample1.wav"
      ],
      "execution_count": 0,
      "outputs": []
    },
    {
      "cell_type": "markdown",
      "metadata": {
        "id": "Eq4-UwOu2oEc",
        "colab_type": "text"
      },
      "source": [
        "**CUDA Setup in Colab**"
      ]
    },
    {
      "cell_type": "code",
      "metadata": {
        "id": "BySNivvG2nCI",
        "colab_type": "code",
        "colab": {}
      },
      "source": [
        "!uname -a"
      ],
      "execution_count": 0,
      "outputs": []
    },
    {
      "cell_type": "code",
      "metadata": {
        "id": "deL8lyPDilEx",
        "colab_type": "code",
        "colab": {}
      },
      "source": [
        "# Add NVIDIA package repositories\n",
        "# Add HTTPS support for apt-key\n",
        "!apt-get install gnupg-curl\n",
        "!wget https://developer.download.nvidia.com/compute/cuda/repos/ubuntu1604/x86_64/cuda-repo-ubuntu1604_10.0.130-1_amd64.deb\n",
        "!dpkg -i cuda-repo-ubuntu1604_10.0.130-1_amd64.deb\n",
        "!apt-key adv --fetch-keys https://developer.download.nvidia.com/compute/cuda/repos/ubuntu1604/x86_64/7fa2af80.pub\n",
        "!apt-get update\n",
        "!wget http://developer.download.nvidia.com/compute/machine-learning/repos/ubuntu1604/x86_64/nvidia-machine-learning-repo-ubuntu1604_1.0.0-1_amd64.deb\n",
        "!apt install ./nvidia-machine-learning-repo-ubuntu1604_1.0.0-1_amd64.deb\n",
        "!apt-get update\n",
        "\n",
        "# Install NVIDIA driver\n",
        "# Issue with driver install requires creating /usr/lib/nvidia\n",
        "!mkdir /usr/lib/nvidia\n",
        "!apt-get install --no-install-recommends nvidia-418\n",
        "# Reboot. Check that GPUs are visible using the command: nvidia-smi\n",
        "\n",
        "# Install development and runtime libraries (~4GB)\n",
        "!apt-get install --no-install-recommends cuda-10-0 libcudnn7=7.6.2.24-1+cuda10.0 libcudnn7-dev=7.6.2.24-1+cuda10.0\n",
        "\n",
        "\n",
        "# Install TensorRT. Requires that libcudnn7 is installed above.\n",
        "!apt-get install -y --no-install-recommends libnvinfer5=5.1.5-1+cuda10.0 libnvinfer-dev=5.1.5-1+cuda10.0"
      ],
      "execution_count": 0,
      "outputs": []
    },
    {
      "cell_type": "code",
      "metadata": {
        "id": "n2bhsBnU4Qc7",
        "colab_type": "code",
        "colab": {}
      },
      "source": [
        "#https://developer.nvidia.com/cuda-downloads?target_os=Linux&target_arch=x86_64&target_distro=Ubuntu&target_version=1604&target_type=deblocal\n",
        "#https://www.tensorflow.org/install/gpu\n",
        "!wget https://developer.download.nvidia.com/compute/cuda/repos/ubuntu1604/x86_64/cuda-ubuntu1604.pin\n",
        "!mv cuda-ubuntu1604.pin /etc/apt/preferences.d/cuda-repository-pin-600\n",
        "!wget http://developer.download.nvidia.com/compute/cuda/10.2/Prod/local_installers/cuda-repo-ubuntu1604-10-2-local-10.2.89-440.33.01_1.0-1_amd64.deb\n",
        "!dpkg -i cuda-repo-ubuntu1604-10-2-local-10.2.89-440.33.01_1.0-1_amd64.deb\n",
        "!apt-key add /var/cuda-repo-10-2-local-10.2.89-440.33.01/7fa2af80.pub\n",
        "!apt-get update\n",
        "!apt-get -y install cuda"
      ],
      "execution_count": 0,
      "outputs": []
    },
    {
      "cell_type": "markdown",
      "metadata": {
        "id": "Aaa5ADLeo9av",
        "colab_type": "text"
      },
      "source": [
        "**GPU Training Setup**"
      ]
    },
    {
      "cell_type": "code",
      "metadata": {
        "id": "5WnY8k5Al-qa",
        "colab_type": "code",
        "colab": {}
      },
      "source": [
        "#OLD\n",
        "#!python \"/content/drive/My Drive/DeepSpeech/util/taskcluster.py\" --target \"/content/drive/My Drive/DeepSpeech/native_client_new\"\n",
        "#!apt-get install dirmngr\n",
        "# !wget -O cuda9base.deb https://developer.nvidia.com/compute/cuda/9.0/Prod/local_installers/cuda-repo-ubuntu1704-9-0-local_9.0.176-1_amd64-deb\n",
        "# !dpkg -i cuda9base.deb\n",
        "# !apt-key add /var/cuda-repo-9-0-local/7fa2af80.pub\n",
        "# #!apt-key adv --fetch-keys https://developer.download.nvidia.com/compute/cuda/repos/ubuntu1704/x86_64/7fa2af80.pub\n",
        "# !apt-get update\n",
        "# !apt-get install cuda=9.0.176-1"
      ],
      "execution_count": 0,
      "outputs": []
    },
    {
      "cell_type": "code",
      "metadata": {
        "id": "Urbj2RsOtQn2",
        "colab_type": "code",
        "colab": {}
      },
      "source": [
        "!export LD_LIBRARY_PATH=/usr/local/cuda-9.0/lib64:$LD_LIBRARY_PATH"
      ],
      "execution_count": 0,
      "outputs": []
    },
    {
      "cell_type": "code",
      "metadata": {
        "id": "ehUIqQpptnlV",
        "colab_type": "code",
        "colab": {}
      },
      "source": [
        "!apt install nvidia-cuda-toolkit"
      ],
      "execution_count": 0,
      "outputs": []
    },
    {
      "cell_type": "code",
      "metadata": {
        "id": "jaukOkFhtqmV",
        "colab_type": "code",
        "colab": {}
      },
      "source": [
        "!wget -O cudnn7.tgz https://www.dropbox.com/s/dgmc6extwj8u14m/cudnn-9.0-linux-x64-v7.tgz\n",
        "!cp -P cuda/include/cudnn.h /usr/include\n",
        "!cp -P cuda/lib64/libcudnn* /usr/lib/x86_64-linux-gnu/\n",
        "#Permission\n",
        "!chmod a+r /usr/lib/x86_64-linux-gnu/libcudnn*\n",
        "!cp cuda/include/cudnn.h /usr/local/cuda/include\n",
        "!cp cuda/lib64/libcudnn* /usr/local/cuda/lib64\n",
        "!chmod a+r /usr/local/cuda/lib64/libcudnn*"
      ],
      "execution_count": 0,
      "outputs": []
    },
    {
      "cell_type": "markdown",
      "metadata": {
        "id": "bp4sxpcNKGLk",
        "colab_type": "text"
      },
      "source": [
        "**Deep Speech Model Load, STT**"
      ]
    },
    {
      "cell_type": "code",
      "metadata": {
        "id": "Qs179doKvbNa",
        "colab_type": "code",
        "colab": {}
      },
      "source": [
        "import deepspeech\n",
        "from deepspeech import Model\n",
        "import scipy.io.wavfile as wav\n",
        "\n",
        "import glob\n",
        "import webrtcvad\n",
        "import logging\n",
        "from timeit import default_timer as timer"
      ],
      "execution_count": 0,
      "outputs": []
    },
    {
      "cell_type": "code",
      "metadata": {
        "id": "zroUxdeiw2fU",
        "colab_type": "code",
        "colab": {}
      },
      "source": [
        "def resolve_models(dirName):\n",
        "    pb = glob.glob(dirName + \"/*.pb\")[0]\n",
        "    logging.debug(\"Found Model: %s\" % pb)\n",
        "\n",
        "    lm = glob.glob(dirName + \"/lm.binary\")[0]\n",
        "    trie = glob.glob(dirName + \"/trie\")[0]\n",
        "    logging.debug(\"Found Language Model: %s\" % lm)\n",
        "    logging.debug(\"Found Trie: %s\" % trie)\n",
        "\n",
        "    return pb, lm, trie\n",
        "    \n",
        "def load_model(models, lm, trie):\n",
        "    BEAM_WIDTH = 500\n",
        "    LM_ALPHA = 0.75\n",
        "    LM_BETA = 1.85\n",
        "\n",
        "    model_load_start = timer()\n",
        "    ds = Model(models, BEAM_WIDTH)\n",
        "    model_load_end = timer() - model_load_start\n",
        "    logging.debug(\"Loaded model in %0.3fs.\" % (model_load_end))\n",
        "\n",
        "    lm_load_start = timer()\n",
        "    ds.enableDecoderWithLM(lm, trie, LM_ALPHA, LM_BETA)\n",
        "    lm_load_end = timer() - lm_load_start\n",
        "    logging.debug('Loaded language model in %0.3fs.' % (lm_load_end))\n",
        "\n",
        "    return [ds, model_load_end, lm_load_end]\n",
        "\n",
        "def stt(ds, audio, fs):\n",
        "    inference_time = 0.0\n",
        "    audio_length = len(audio) * (1 / fs)\n",
        "\n",
        "    # Run Deepspeech\n",
        "    logging.debug('Running inference...')\n",
        "    inference_start = timer()\n",
        "    output = ds.stt(audio)\n",
        "    inference_end = timer() - inference_start\n",
        "    inference_time += inference_end\n",
        "    logging.debug('Inference took %0.3fs for %0.3fs audio file.' % (inference_end, audio_length))\n",
        "\n",
        "    return [output, inference_time]"
      ],
      "execution_count": 0,
      "outputs": []
    },
    {
      "cell_type": "code",
      "metadata": {
        "id": "-trTu2MLwzpK",
        "colab_type": "code",
        "colab": {}
      },
      "source": [
        "output_graph, lm, trie = resolve_models('deepspeech-0.6.0-models')\n",
        "output_graph, lm, trie"
      ],
      "execution_count": 0,
      "outputs": []
    },
    {
      "cell_type": "code",
      "metadata": {
        "id": "b-F_yY7fxP4z",
        "colab_type": "code",
        "colab": {}
      },
      "source": [
        "model_retval = load_model(output_graph, lm, trie)\n",
        "model_retval "
      ],
      "execution_count": 0,
      "outputs": []
    },
    {
      "cell_type": "code",
      "metadata": {
        "id": "osHj1RThl6Gy",
        "colab_type": "code",
        "colab": {}
      },
      "source": [
        "fs, audio = wav.read(\"customdata/ttssample1.wav\")\n",
        "output = stt(model_retval[0], audio,fs)\n",
        "print(output)"
      ],
      "execution_count": 0,
      "outputs": []
    },
    {
      "cell_type": "markdown",
      "metadata": {
        "id": "XGGYkYlwWYvp",
        "colab_type": "text"
      },
      "source": [
        "**LDC93S1 Test Script**"
      ]
    },
    {
      "cell_type": "code",
      "metadata": {
        "id": "QNNSbVASYwg-",
        "colab_type": "code",
        "colab": {}
      },
      "source": [
        "!pwd"
      ],
      "execution_count": 0,
      "outputs": []
    },
    {
      "cell_type": "code",
      "metadata": {
        "id": "1v1zVOtlk-wp",
        "colab_type": "code",
        "colab": {}
      },
      "source": [
        "!pip3 install $(python3 util/taskcluster.py --decoder)"
      ],
      "execution_count": 0,
      "outputs": []
    },
    {
      "cell_type": "code",
      "metadata": {
        "id": "XTbkTxmxJuSw",
        "colab_type": "code",
        "colab": {}
      },
      "source": [
        "%cd /content/deepspeech\n",
        "!./bin/run-ldc93s1.sh"
      ],
      "execution_count": 0,
      "outputs": []
    },
    {
      "cell_type": "code",
      "metadata": {
        "id": "cXJZup1PkrF1",
        "colab_type": "code",
        "colab": {}
      },
      "source": [
        ""
      ],
      "execution_count": 0,
      "outputs": []
    }
  ]
}