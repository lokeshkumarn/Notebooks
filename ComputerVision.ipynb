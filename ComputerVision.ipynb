{
  "nbformat": 4,
  "nbformat_minor": 0,
  "metadata": {
    "colab": {
      "name": "ComputerVision",
      "provenance": [],
      "collapsed_sections": [],
      "include_colab_link": true
    },
    "kernelspec": {
      "name": "python3",
      "display_name": "Python 3"
    }
  },
  "cells": [
    {
      "cell_type": "markdown",
      "metadata": {
        "id": "view-in-github",
        "colab_type": "text"
      },
      "source": [
        "<a href=\"https://colab.research.google.com/github/lokeshkumarn/Notebooks/blob/master/ComputerVision.ipynb\" target=\"_parent\"><img src=\"https://colab.research.google.com/assets/colab-badge.svg\" alt=\"Open In Colab\"/></a>"
      ]
    },
    {
      "cell_type": "code",
      "metadata": {
        "id": "BGfsue1dQITV",
        "colab_type": "code",
        "colab": {}
      },
      "source": [
        "import numpy as np\n",
        "from  matplotlib import pyplot as plt"
      ],
      "execution_count": 0,
      "outputs": []
    },
    {
      "cell_type": "code",
      "metadata": {
        "id": "kLLLms3nQlEV",
        "colab_type": "code",
        "colab": {
          "base_uri": "https://localhost:8080/",
          "height": 111
        },
        "outputId": "747dfe75-3172-4420-aab4-38276377f616"
      },
      "source": [
        "rand_img = np.random.uniform(0,3,size=(5,5))\n",
        "rand_img"
      ],
      "execution_count": 4,
      "outputs": [
        {
          "output_type": "execute_result",
          "data": {
            "text/plain": [
              "array([[2.44535659, 1.21208794, 1.84952648, 1.88433914, 0.5966908 ],\n",
              "       [0.95863786, 0.803343  , 2.75497213, 0.71573458, 1.8422587 ],\n",
              "       [2.68622104, 1.71695723, 2.67901332, 1.65825594, 2.74298159],\n",
              "       [2.16986662, 0.52114449, 2.67473792, 1.97988724, 2.25840741],\n",
              "       [2.98574197, 1.1117791 , 0.56573239, 2.50392066, 0.01296098]])"
            ]
          },
          "metadata": {
            "tags": []
          },
          "execution_count": 4
        }
      ]
    },
    {
      "cell_type": "code",
      "metadata": {
        "id": "NtJB5v5FQ-un",
        "colab_type": "code",
        "colab": {
          "base_uri": "https://localhost:8080/",
          "height": 111
        },
        "outputId": "7a79af64-96df-4425-b4fd-8d10fb16a725"
      },
      "source": [
        "rand_img = np.uint32(rand_img)\n",
        "rand_img"
      ],
      "execution_count": 5,
      "outputs": [
        {
          "output_type": "execute_result",
          "data": {
            "text/plain": [
              "array([[2, 1, 1, 1, 0],\n",
              "       [0, 0, 2, 0, 1],\n",
              "       [2, 1, 2, 1, 2],\n",
              "       [2, 0, 2, 1, 2],\n",
              "       [2, 1, 0, 2, 0]], dtype=uint32)"
            ]
          },
          "metadata": {
            "tags": []
          },
          "execution_count": 5
        }
      ]
    },
    {
      "cell_type": "code",
      "metadata": {
        "id": "5zhDKI7sRFhs",
        "colab_type": "code",
        "colab": {
          "base_uri": "https://localhost:8080/",
          "height": 36
        },
        "outputId": "40dfbef4-8d47-49c4-d0df-b057c0d64412"
      },
      "source": [
        "hist=np.histogram(rand_img,bins=4)\n",
        "hist"
      ],
      "execution_count": 8,
      "outputs": [
        {
          "output_type": "execute_result",
          "data": {
            "text/plain": [
              "(array([ 7,  0,  8, 10]), array([0. , 0.5, 1. , 1.5, 2. ]))"
            ]
          },
          "metadata": {
            "tags": []
          },
          "execution_count": 8
        }
      ]
    },
    {
      "cell_type": "code",
      "metadata": {
        "id": "k4xqmEcdRP_W",
        "colab_type": "code",
        "colab": {
          "base_uri": "https://localhost:8080/",
          "height": 269
        },
        "outputId": "c2aae74c-6fcb-4d35-d568-6ff9f60585e7"
      },
      "source": [
        "plt.bar(x=[0,1,2,3],height=hist[0])\n",
        "plt.xticks([0,1,2,3])\n",
        "plt.yticks(np.arange(0,15,2))\n",
        "plt.show()"
      ],
      "execution_count": 11,
      "outputs": [
        {
          "output_type": "display_data",
          "data": {
            "image/png": "[encoded data removed]",
            "text/plain": [
              "<Figure size 432x288 with 1 Axes>"
            ]
          },
          "metadata": {
            "tags": []
          }
        }
      ]
    },
    {
      "cell_type": "code",
      "metadata": {
        "id": "yWDFPX-9R12Q",
        "colab_type": "code",
        "colab": {}
      },
      "source": [
        ""
      ],
      "execution_count": 0,
      "outputs": []
    },
    {
      "cell_type": "code",
      "metadata": {
        "id": "OS9gh8kdRO7F",
        "colab_type": "code",
        "colab": {}
      },
      "source": [
        ""
      ],
      "execution_count": 0,
      "outputs": []
    },
    {
      "cell_type": "code",
      "metadata": {
        "id": "tWyKqSd7RMrx",
        "colab_type": "code",
        "colab": {}
      },
      "source": [
        ""
      ],
      "execution_count": 0,
      "outputs": []
    },
    {
      "cell_type": "code",
      "metadata": {
        "id": "dFyaYCvtQPnc",
        "colab_type": "code",
        "colab": {}
      },
      "source": [
        ""
      ],
      "execution_count": 0,
      "outputs": []
    }
  ]
}