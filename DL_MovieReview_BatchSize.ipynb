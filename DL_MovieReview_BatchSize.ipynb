{
  "nbformat": 4,
  "nbformat_minor": 0,
  "metadata": {
    "colab": {
      "name": "DL-MovieReview_BatchSize.ipynb",
      "provenance": [],
      "collapsed_sections": [],
      "toc_visible": true,
      "authorship_tag": "ABX9TyPGVde4jkAJ4A+NtB63neL7",
      "include_colab_link": true
    },
    "kernelspec": {
      "name": "python3",
      "display_name": "Python 3"
    },
    "accelerator": "GPU"
  },
  "cells": [
    {
      "cell_type": "markdown",
      "metadata": {
        "id": "view-in-github",
        "colab_type": "text"
      },
      "source": [
        "<a href=\"https://colab.research.google.com/github/lokeshkumarn/Notebooks/blob/master/DL_MovieReview_BatchSize.ipynb\" target=\"_parent\"><img src=\"https://colab.research.google.com/assets/colab-badge.svg\" alt=\"Open In Colab\"/></a>"
      ]
    },
    {
      "cell_type": "markdown",
      "metadata": {
        "id": "2RPUuaO4wtQw"
      },
      "source": [
        "## Import Libraries/Dataset"
      ]
    },
    {
      "cell_type": "markdown",
      "metadata": {
        "id": "znWlj4p5ucwP"
      },
      "source": [
        "### Import Libraries"
      ]
    },
    {
      "cell_type": "code",
      "metadata": {
        "id": "Q-PDehKhrcQg"
      },
      "source": [
        "import time\n",
        "import tensorflow as tf\n",
        "from tensorflow.python.client import device_lib\n",
        "from google.colab import drive\n",
        "\n",
        "import pandas as pd\n",
        "import numpy as np\n",
        "import random as rd\n",
        "\n",
        "from tensorflow import keras\n",
        "\n",
        "import tensorflow_hub as hub\n",
        "import tensorflow_datasets as tfds\n",
        "\n",
        "from sklearn.model_selection import train_test_split\n",
        "from sklearn.metrics import confusion_matrix,classification_report\n",
        "\n",
        "from matplotlib import pyplot as plt"
      ],
      "execution_count": 1,
      "outputs": []
    },
    {
      "cell_type": "code",
      "metadata": {
        "id": "jepvGJP40Jsm"
      },
      "source": [
        "rd.seed(2020)         # Initialize the random number generator.\n",
        "np.random.seed(2020)      # With the seed reset, the same set of numbers will appear every time. \n",
        "tf.random.set_seed(2020)  # sets the graph-level random seed"
      ],
      "execution_count": 2,
      "outputs": []
    },
    {
      "cell_type": "markdown",
      "metadata": {
        "id": "sxWChrxfumVf"
      },
      "source": [
        "### Import Dataset"
      ]
    },
    {
      "cell_type": "markdown",
      "metadata": {
        "id": "Xs5teUjn2bmb"
      },
      "source": [
        "Load dataset from Google Drive"
      ]
    },
    {
      "cell_type": "code",
      "metadata": {
        "id": "yXDPNBPK2evf",
        "outputId": "d8f35de2-98d9-48ba-88f7-92dc4b460cf9",
        "colab": {
          "base_uri": "https://localhost:8080/",
          "height": 35
        }
      },
      "source": [
        "drive.mount('/content/gdrive')"
      ],
      "execution_count": 3,
      "outputs": [
        {
          "output_type": "stream",
          "text": [
            "Mounted at /content/gdrive\n"
          ],
          "name": "stdout"
        }
      ]
    },
    {
      "cell_type": "code",
      "metadata": {
        "id": "tps01oDj2ftY"
      },
      "source": [
        "df = pd.read_csv('/content/gdrive/My Drive/Colab Notebooks/Dataset/IMDB Dataset.csv')"
      ],
      "execution_count": 4,
      "outputs": []
    },
    {
      "cell_type": "code",
      "metadata": {
        "id": "fmtVHoKQ2ypl",
        "outputId": "137f7883-aff2-4548-bf77-6b090f00d20a",
        "colab": {
          "base_uri": "https://localhost:8080/",
          "height": 112
        }
      },
      "source": [
        "df.head(2)"
      ],
      "execution_count": 5,
      "outputs": [
        {
          "output_type": "execute_result",
          "data": {
            "text/html": [
              "<div>\n",
              "<style scoped>\n",
              "    .dataframe tbody tr th:only-of-type {\n",
              "        vertical-align: middle;\n",
              "    }\n",
              "\n",
              "    .dataframe tbody tr th {\n",
              "        vertical-align: top;\n",
              "    }\n",
              "\n",
              "    .dataframe thead th {\n",
              "        text-align: right;\n",
              "    }\n",
              "</style>\n",
              "<table border=\"1\" class=\"dataframe\">\n",
              "  <thead>\n",
              "    <tr style=\"text-align: right;\">\n",
              "      <th></th>\n",
              "      <th>review</th>\n",
              "      <th>sentiment</th>\n",
              "    </tr>\n",
              "  </thead>\n",
              "  <tbody>\n",
              "    <tr>\n",
              "      <th>0</th>\n",
              "      <td>One of the other reviewers has mentioned that ...</td>\n",
              "      <td>positive</td>\n",
              "    </tr>\n",
              "    <tr>\n",
              "      <th>1</th>\n",
              "      <td>A wonderful little production. &lt;br /&gt;&lt;br /&gt;The...</td>\n",
              "      <td>positive</td>\n",
              "    </tr>\n",
              "  </tbody>\n",
              "</table>\n",
              "</div>"
            ],
            "text/plain": [
              "                                              review sentiment\n",
              "0  One of the other reviewers has mentioned that ...  positive\n",
              "1  A wonderful little production. <br /><br />The...  positive"
            ]
          },
          "metadata": {
            "tags": []
          },
          "execution_count": 5
        }
      ]
    },
    {
      "cell_type": "code",
      "metadata": {
        "id": "H8ibE97Q22V3",
        "outputId": "0e2e61de-0621-4283-8066-1f65899149bd",
        "colab": {
          "base_uri": "https://localhost:8080/",
          "height": 35
        }
      },
      "source": [
        "df.shape"
      ],
      "execution_count": 6,
      "outputs": [
        {
          "output_type": "execute_result",
          "data": {
            "text/plain": [
              "(50000, 2)"
            ]
          },
          "metadata": {
            "tags": []
          },
          "execution_count": 6
        }
      ]
    },
    {
      "cell_type": "markdown",
      "metadata": {
        "id": "jKDM0pgWvG1Y"
      },
      "source": [
        "### Check GPU"
      ]
    },
    {
      "cell_type": "code",
      "metadata": {
        "id": "Ow9Gj9dXtvBA",
        "outputId": "5c9b494a-fc12-43c7-b633-cbf02b326ce8",
        "colab": {
          "base_uri": "https://localhost:8080/",
          "height": 35
        }
      },
      "source": [
        "def get_available_gpus():\n",
        "    local_device_protos = device_lib.list_local_devices()\n",
        "    return [x.name for x in local_device_protos if x.device_type == 'GPU' ]\n",
        "\n",
        "gpu_lst = get_available_gpus()\n",
        "\n",
        "if(len(gpu_lst) > 0):\n",
        "  print(\"GPU Enabled\")"
      ],
      "execution_count": 7,
      "outputs": [
        {
          "output_type": "stream",
          "text": [
            "GPU Enabled\n"
          ],
          "name": "stdout"
        }
      ]
    },
    {
      "cell_type": "markdown",
      "metadata": {
        "id": "4qtu-rmbw1Mz"
      },
      "source": [
        "## Data Visualization"
      ]
    },
    {
      "cell_type": "markdown",
      "metadata": {
        "id": "SNT-w_9ANnwj"
      },
      "source": [
        "### Print Reviews"
      ]
    },
    {
      "cell_type": "markdown",
      "metadata": {
        "id": "467gA9LXJU4W"
      },
      "source": [
        "Print at least two movie reviews from each class of the dataset, for a sanity check that labels match the text"
      ]
    },
    {
      "cell_type": "code",
      "metadata": {
        "id": "DnQ_okd44HrF",
        "outputId": "e013ff90-d2d7-4075-d3ad-c615c7e3099c",
        "colab": {
          "base_uri": "https://localhost:8080/",
          "height": 437
        }
      },
      "source": [
        "print(\"Positive Reviews\")\n",
        "print(\"*\"*30)\n",
        "for i,r in df[df['sentiment'] =='positive'].reset_index()[:3].iterrows():\n",
        "  print(i + 1,\")\",r['review'])\n",
        "  print(\"\\n\")\n",
        "\n",
        "print(\"Negative Reviews\")\n",
        "print(\"*\"*30)\n",
        "for i,r in df[df['sentiment'] =='negative'].reset_index()[:3].iterrows():\n",
        "  print(i + 1,\")\",r['review'])\n",
        "  print(\"\\n\")"
      ],
      "execution_count": 8,
      "outputs": [
        {
          "output_type": "stream",
          "text": [
            "Positive Reviews\n",
            "******************************\n",
            "1 ) One of the other reviewers has mentioned that after watching just 1 Oz episode you'll be hooked. They are right, as this is exactly what happened with me.<br /><br />The first thing that struck me about Oz was its brutality and unflinching scenes of violence, which set in right from the word GO. Trust me, this is not a show for the faint hearted or timid. This show pulls no punches with regards to drugs, sex or violence. Its is hardcore, in the classic use of the word.<br /><br />It is called OZ as that is the nickname given to the Oswald Maximum Security State Penitentary. It focuses mainly on Emerald City, an experimental section of the prison where all the cells have glass fronts and face inwards, so privacy is not high on the agenda. Em City is home to many..Aryans, Muslims, gangstas, Latinos, Christians, Italians, Irish and more....so scuffles, death stares, dodgy dealings and shady agreements are never far away.<br /><br />I would say the main appeal of the show is due to the fact that it goes where other shows wouldn't dare. Forget pretty pictures painted for mainstream audiences, forget charm, forget romance...OZ doesn't mess around. The first episode I ever saw struck me as so nasty it was surreal, I couldn't say I was ready for it, but as I watched more, I developed a taste for Oz, and got accustomed to the high levels of graphic violence. Not just violence, but injustice (crooked guards who'll be sold out for a nickel, inmates who'll kill on order and get away with it, well mannered, middle class inmates being turned into prison bitches due to their lack of street skills or prison experience) Watching Oz, you may become comfortable with what is uncomfortable viewing....thats if you can get in touch with your darker side.\n",
            "\n",
            "\n",
            "2 ) A wonderful little production. <br /><br />The filming technique is very unassuming- very old-time-BBC fashion and gives a comforting, and sometimes discomforting, sense of realism to the entire piece. <br /><br />The actors are extremely well chosen- Michael Sheen not only \"has got all the polari\" but he has all the voices down pat too! You can truly see the seamless editing guided by the references to Williams' diary entries, not only is it well worth the watching but it is a terrificly written and performed piece. A masterful production about one of the great master's of comedy and his life. <br /><br />The realism really comes home with the little things: the fantasy of the guard which, rather than use the traditional 'dream' techniques remains solid then disappears. It plays on our knowledge and our senses, particularly with the scenes concerning Orton and Halliwell and the sets (particularly of their flat with Halliwell's murals decorating every surface) are terribly well done.\n",
            "\n",
            "\n",
            "3 ) I thought this was a wonderful way to spend time on a too hot summer weekend, sitting in the air conditioned theater and watching a light-hearted comedy. The plot is simplistic, but the dialogue is witty and the characters are likable (even the well bread suspected serial killer). While some may be disappointed when they realize this is not Match Point 2: Risk Addiction, I thought it was proof that Woody Allen is still fully in control of the style many of us have grown to love.<br /><br />This was the most I'd laughed at one of Woody's comedies in years (dare I say a decade?). While I've never been impressed with Scarlet Johanson, in this she managed to tone down her \"sexy\" image and jumped right into a average, but spirited young woman.<br /><br />This may not be the crown jewel of his career, but it was wittier than \"Devil Wears Prada\" and more interesting than \"Superman\" a great comedy to go see with friends.\n",
            "\n",
            "\n",
            "Negative Reviews\n",
            "******************************\n",
            "1 ) Basically there's a family where a little boy (Jake) thinks there's a zombie in his closet & his parents are fighting all the time.<br /><br />This movie is slower than a soap opera... and suddenly, Jake decides to become Rambo and kill the zombie.<br /><br />OK, first of all when you're going to make a film you must Decide if its a thriller or a drama! As a drama the movie is watchable. Parents are divorcing & arguing like in real life. And then we have Jake with his closet which totally ruins all the film! I expected to see a BOOGEYMAN similar movie, and instead i watched a drama with some meaningless thriller spots.<br /><br />3 out of 10 just for the well playing parents & descent dialogs. As for the shots with Jake: just ignore them.\n",
            "\n",
            "\n",
            "2 ) This show was an amazing, fresh & innovative idea in the 70's when it first aired. The first 7 or 8 years were brilliant, but things dropped off after that. By 1990, the show was not really funny anymore, and it's continued its decline further to the complete waste of time it is today.<br /><br />It's truly disgraceful how far this show has fallen. The writing is painfully bad, the performances are almost as bad - if not for the mildly entertaining respite of the guest-hosts, this show probably wouldn't still be on the air. I find it so hard to believe that the same creator that hand-selected the original cast also chose the band of hacks that followed. How can one recognize such brilliance and then see fit to replace it with such mediocrity? I felt I must give 2 stars out of respect for the original cast that made this show such a huge success. As it is now, the show is just awful. I can't believe it's still on the air.\n",
            "\n",
            "\n",
            "3 ) Encouraged by the positive comments about this film on here I was looking forward to watching this film. Bad mistake. I've seen 950+ films and this is truly one of the worst of them - it's awful in almost every way: editing, pacing, storyline, 'acting,' soundtrack (the film's only song - a lame country tune - is played no less than four times). The film looks cheap and nasty and is boring in the extreme. Rarely have I been so happy to see the end credits of a film. <br /><br />The only thing that prevents me giving this a 1-score is Harvey Keitel - while this is far from his best performance he at least seems to be making a bit of an effort. One for Keitel obsessives only.\n",
            "\n",
            "\n"
          ],
          "name": "stdout"
        }
      ]
    },
    {
      "cell_type": "markdown",
      "metadata": {
        "id": "zs_9PIlHNtp6"
      },
      "source": [
        "### Plot Class Distribution"
      ]
    },
    {
      "cell_type": "markdown",
      "metadata": {
        "id": "DYYLAI_-L-Ld"
      },
      "source": [
        "Plot a bar graph of class distribution in dataset. Each bar depicts the number of tweets belonging to a particular sentiment."
      ]
    },
    {
      "cell_type": "code",
      "metadata": {
        "id": "Nr7boPTB5jDL",
        "outputId": "03f0dfac-4628-4833-c55e-df5a106a83f1",
        "colab": {
          "base_uri": "https://localhost:8080/",
          "height": 313
        }
      },
      "source": [
        "ax = plt.subplot()\n",
        "df['sentiment'].value_counts().plot(kind='barh',ax=ax)\n",
        "ax.set_title(\"Distribution of the Sentiment in IMDB reviews\")\n",
        "ax.set_xlabel(\"Count\")\n",
        "ax.set_ylabel(\"Sentiment\")"
      ],
      "execution_count": 9,
      "outputs": [
        {
          "output_type": "execute_result",
          "data": {
            "text/plain": [
              "Text(0, 0.5, 'Sentiment')"
            ]
          },
          "metadata": {
            "tags": []
          },
          "execution_count": 9
        },
        {
          "output_type": "display_data",
          "data": {
            "image/png": "[encoded data removed]",
            "text/plain": [
              "<Figure size 432x288 with 1 Axes>"
            ]
          },
          "metadata": {
            "tags": [],
            "needs_background": "light"
          }
        }
      ]
    },
    {
      "cell_type": "markdown",
      "metadata": {
        "id": "iowvMxjbhn9w"
      },
      "source": [
        "### Print the shapes of train and test data"
      ]
    },
    {
      "cell_type": "code",
      "metadata": {
        "id": "O4SHG8fY7ccL"
      },
      "source": [
        "df['class'] = df['sentiment'].apply(lambda x:  1 if x=='positive' else 0)"
      ],
      "execution_count": 10,
      "outputs": []
    },
    {
      "cell_type": "code",
      "metadata": {
        "id": "hFVa_UoF8zQi",
        "outputId": "1128e956-de28-4c29-e5a8-ad6d6e6a0aea",
        "colab": {
          "base_uri": "https://localhost:8080/",
          "height": 53
        }
      },
      "source": [
        "X = df['review'].values\n",
        "y = df['class'].values\n",
        "print(X.shape)\n",
        "print(y.shape)"
      ],
      "execution_count": 11,
      "outputs": [
        {
          "output_type": "stream",
          "text": [
            "(50000,)\n",
            "(50000,)\n"
          ],
          "name": "stdout"
        }
      ]
    },
    {
      "cell_type": "code",
      "metadata": {
        "id": "PwW1kHCK7HA9"
      },
      "source": [
        "X_train,X_test,y_train,y_test = train_test_split(X,y,\n",
        "                                                 test_size=0.3,\n",
        "                                                 shuffle=True,\n",
        "                                                 stratify=y,\n",
        "                                                 random_state=2020)"
      ],
      "execution_count": 12,
      "outputs": []
    },
    {
      "cell_type": "code",
      "metadata": {
        "id": "-pgw1cqFxnYM",
        "outputId": "44391bf2-07f5-4bc0-815a-1c1f97467f9f",
        "colab": {
          "base_uri": "https://localhost:8080/",
          "height": 90
        }
      },
      "source": [
        "print('Train Features shape:',X_train.shape)\n",
        "print('Test Features shape:',X_test.shape)\n",
        "print('Train label shape:',y_train.shape)\n",
        "print('Test label shape:',y_test.shape)"
      ],
      "execution_count": 13,
      "outputs": [
        {
          "output_type": "stream",
          "text": [
            "Train Features shape: (35000,)\n",
            "Test Features shape: (15000,)\n",
            "Train label shape: (35000,)\n",
            "Test label shape: (15000,)\n"
          ],
          "name": "stdout"
        }
      ]
    },
    {
      "cell_type": "code",
      "metadata": {
        "id": "xoNC64FA-Fux",
        "outputId": "7a144ccf-e57a-45f5-8f9e-9e3426e763fa",
        "colab": {
          "base_uri": "https://localhost:8080/",
          "height": 368
        }
      },
      "source": [
        "#Verify whether stratification worked\n",
        "fig,ax = plt.subplots(1,2,figsize=(15,5))\n",
        "pd.Series(y_train).value_counts().plot(kind='barh',ax=ax[0])\n",
        "pd.Series(y_test).value_counts().plot(kind='barh',ax=ax[1])\n",
        "ax[0].set_title(\"Distribution of the Sentiment in Train\")\n",
        "ax[0].set_xlabel(\"Count\")\n",
        "ax[0].set_ylabel(\"Sentiment\")\n",
        "ax[1].set_title(\"Distribution of the Sentiment in Test\")\n",
        "ax[1].set_xlabel(\"Count\")\n",
        "ax[1].set_ylabel(\"Sentiment\")"
      ],
      "execution_count": 14,
      "outputs": [
        {
          "output_type": "execute_result",
          "data": {
            "text/plain": [
              "Text(0, 0.5, 'Sentiment')"
            ]
          },
          "metadata": {
            "tags": []
          },
          "execution_count": 14
        },
        {
          "output_type": "display_data",
          "data": {
            "image/png": "[encoded data removed]",
            "text/plain": [
              "<Figure size 1080x360 with 2 Axes>"
            ]
          },
          "metadata": {
            "tags": [],
            "needs_background": "light"
          }
        }
      ]
    },
    {
      "cell_type": "markdown",
      "metadata": {
        "id": "tsa0onWR9Zz0"
      },
      "source": [
        "## Data Pre-processing"
      ]
    },
    {
      "cell_type": "markdown",
      "metadata": {
        "id": "RIXUGbLQC_sK"
      },
      "source": [
        "Need for this Step - Since the models we use cannot accept string inputs or cannot be of the string format. We have to come up with a way of handling this step."
      ]
    },
    {
      "cell_type": "markdown",
      "metadata": {
        "id": "pCy1RDPaDH6-"
      },
      "source": [
        "Using the Pretrained embedding layer to convert the sentence to vector"
      ]
    },
    {
      "cell_type": "code",
      "metadata": {
        "id": "JN7TYKh6E6Vh"
      },
      "source": [
        "hub_layer = hub.KerasLayer(\"https://tfhub.dev/google/nnlm-en-dim128/1\",output_shape=128,\n",
        "                           input_shape=[], dtype=tf.string)"
      ],
      "execution_count": 15,
      "outputs": []
    },
    {
      "cell_type": "markdown",
      "metadata": {
        "id": "dJZcForeH69P"
      },
      "source": [
        "## Modeling"
      ]
    },
    {
      "cell_type": "markdown",
      "metadata": {
        "id": "6IGxAutlE7SI"
      },
      "source": [
        "### Model Building"
      ]
    },
    {
      "cell_type": "markdown",
      "metadata": {
        "id": "EjTVigauHWfh"
      },
      "source": [
        "Sequential Model layers"
      ]
    },
    {
      "cell_type": "code",
      "metadata": {
        "id": "ck9MYQsrHOOU"
      },
      "source": [
        "model = keras.Sequential()"
      ],
      "execution_count": 16,
      "outputs": []
    },
    {
      "cell_type": "markdown",
      "metadata": {
        "id": "M_2YQZ8aHZL4"
      },
      "source": [
        "1.   Add L2 regularization to all the layers.\n",
        "2.   Add one layer of dropout at the appropriate position and give reasons.\n",
        "3.   Choose the appropriate activation function for all the layers."
      ]
    },
    {
      "cell_type": "markdown",
      "metadata": {
        "id": "k9CFFVJLCNfI"
      },
      "source": [
        "**Choose the best number for hidden units and give reasons.**<br>\n",
        "1.The number of hidden neurons should be between the size of the input layer and the size of the output layer.<br>\n",
        "2.The number of hidden neurons should be 2/3 the size of the input layer, plus the size of the output layer.<br>\n",
        "3.The number of hidden neurons should be less than twice the size of the input layer.<br>\n",
        "\n",
        "Reference : [Link](https://www.heatonresearch.com/2017/06/01/hidden-layers.html)"
      ]
    },
    {
      "cell_type": "code",
      "metadata": {
        "id": "JD290TmlHMAC"
      },
      "source": [
        "hub_layer = hub.KerasLayer(\"https://tfhub.dev/google/nnlm-en-dim128/1\",output_shape=128,\n",
        "                           input_shape=[], dtype=tf.string)\n",
        "\n",
        "model = keras.Sequential()\n",
        "\n",
        "model.add(hub_layer)\n",
        "\n",
        "model.add(keras.layers.Dense(64, activation='relu',kernel_regularizer=keras.regularizers.l2(0.01),\n",
        "                activity_regularizer=keras.regularizers.l2(0.01)) )\n",
        "\n",
        "model.add(keras.layers.Dense(32, activation='relu',kernel_regularizer=keras.regularizers.l2(0.01),\n",
        "                activity_regularizer=keras.regularizers.l2(0.01)))\n",
        "\n",
        "model.add(keras.layers.Dropout(0.5))\n",
        "\n",
        "model.add(keras.layers.Dense(16, activation='relu',kernel_regularizer=keras.regularizers.l2(0.01),\n",
        "                activity_regularizer=keras.regularizers.l2(0.01)))\n",
        "\n",
        "model.add(keras.layers.Dense(1, activation='sigmoid'))"
      ],
      "execution_count": 17,
      "outputs": []
    },
    {
      "cell_type": "markdown",
      "metadata": {
        "id": "4CUAS2VNFrsO"
      },
      "source": [
        "**Give reasons for the dropout**<br>\n",
        "Dropout of 0.5 is to drastically reduce the parameters and also generalize better on the unseen data points"
      ]
    },
    {
      "cell_type": "markdown",
      "metadata": {
        "id": "vLnT3omTHRQz"
      },
      "source": [
        "Print the model summary"
      ]
    },
    {
      "cell_type": "code",
      "metadata": {
        "id": "RpDg4HzGBLbG",
        "outputId": "8e888a1b-e795-4731-8388-71ff2d8de4dd",
        "colab": {
          "base_uri": "https://localhost:8080/",
          "height": 381
        }
      },
      "source": [
        "model.summary()"
      ],
      "execution_count": 18,
      "outputs": [
        {
          "output_type": "stream",
          "text": [
            "Model: \"sequential_1\"\n",
            "_________________________________________________________________\n",
            "Layer (type)                 Output Shape              Param #   \n",
            "=================================================================\n",
            "keras_layer_1 (KerasLayer)   (None, 128)               249285376 \n",
            "_________________________________________________________________\n",
            "dense (Dense)                (None, 64)                8256      \n",
            "_________________________________________________________________\n",
            "dense_1 (Dense)              (None, 32)                2080      \n",
            "_________________________________________________________________\n",
            "dropout (Dropout)            (None, 32)                0         \n",
            "_________________________________________________________________\n",
            "dense_2 (Dense)              (None, 16)                528       \n",
            "_________________________________________________________________\n",
            "dense_3 (Dense)              (None, 1)                 17        \n",
            "=================================================================\n",
            "Total params: 249,296,257\n",
            "Trainable params: 10,881\n",
            "Non-trainable params: 249,285,376\n",
            "_________________________________________________________________\n"
          ],
          "name": "stdout"
        }
      ]
    },
    {
      "cell_type": "markdown",
      "metadata": {
        "id": "oYrP0fSCHuVC"
      },
      "source": [
        "### Model Compilation"
      ]
    },
    {
      "cell_type": "markdown",
      "metadata": {
        "id": "36kwbeBcEPdV"
      },
      "source": [
        "**Loss** : Binary Cross Entropy (because it's a binary classification problem <br/>\n",
        "**Optimizer**: Adam  is an extension of the stochastic gradient descent and seen extensivelty used in Natural language processing. it has adaptive learning rate.\n"
      ]
    },
    {
      "cell_type": "code",
      "metadata": {
        "id": "v6SQsMfMBO3l"
      },
      "source": [
        "model.compile(optimizer=tf.keras.optimizers.Adam(learning_rate=0.001,name='Adam'),#Use an appropriate optimizer\n",
        "              loss='binary_crossentropy',#appropriate loss function\n",
        "              metrics=['accuracy'])#Use accuracy as metric"
      ],
      "execution_count": 19,
      "outputs": []
    },
    {
      "cell_type": "markdown",
      "metadata": {
        "id": "QSvy19l0F2m0"
      },
      "source": [
        "**Give reasons for the choice of learning rate and its value**<br>\n",
        "Learning rate of 0.001 is choosen, because too high would rollover the minima and I have tried giving the higher learning rate like 0.4, 0.2, 0.1, 0.01 the loss doesn't seem to converge to minima, so decided to lower the learning rate further so that weight update is minimum and proceeds towards the convergence or global minima "
      ]
    },
    {
      "cell_type": "markdown",
      "metadata": {
        "id": "Ku_o9m2AIDYm"
      },
      "source": [
        "### Model Training "
      ]
    },
    {
      "cell_type": "markdown",
      "metadata": {
        "id": "kvAGUr2vINU_"
      },
      "source": [
        "Train the model for an appropriate number of epochs (print the train and validation accuracy/loss for each epoch). Use the appropriate batch size"
      ]
    },
    {
      "cell_type": "markdown",
      "metadata": {
        "id": "ktVtyaWBKckW"
      },
      "source": [
        "**Reduced batch size to 512**"
      ]
    },
    {
      "cell_type": "code",
      "metadata": {
        "id": "OdJtX3PKBfgK",
        "outputId": "d0d6642a-ca67-41b9-9561-274096f3bf9d",
        "colab": {
          "base_uri": "https://localhost:8080/",
          "height": 1000
        }
      },
      "source": [
        "start_train = time.time()\n",
        "history = model.fit(X_train,\n",
        "                    y_train,\n",
        "                    epochs=50,\n",
        "                    batch_size=512,\n",
        "                    validation_split=0.2,\n",
        "                    verbose=1)\n",
        "end_train = time.time()"
      ],
      "execution_count": 20,
      "outputs": [
        {
          "output_type": "stream",
          "text": [
            "Epoch 1/50\n",
            "55/55 [==============================] - 3s 46ms/step - loss: 1.7415 - accuracy: 0.5036 - val_loss: 1.3544 - val_accuracy: 0.5660\n",
            "Epoch 2/50\n",
            "55/55 [==============================] - 2s 40ms/step - loss: 1.1392 - accuracy: 0.6119 - val_loss: 0.9638 - val_accuracy: 0.7191\n",
            "Epoch 3/50\n",
            "55/55 [==============================] - 2s 41ms/step - loss: 0.8577 - accuracy: 0.7138 - val_loss: 0.7472 - val_accuracy: 0.7666\n",
            "Epoch 4/50\n",
            "55/55 [==============================] - 2s 42ms/step - loss: 0.6971 - accuracy: 0.7560 - val_loss: 0.6420 - val_accuracy: 0.7747\n",
            "Epoch 5/50\n",
            "55/55 [==============================] - 2s 41ms/step - loss: 0.6303 - accuracy: 0.7704 - val_loss: 0.5928 - val_accuracy: 0.7891\n",
            "Epoch 6/50\n",
            "55/55 [==============================] - 2s 40ms/step - loss: 0.6034 - accuracy: 0.7736 - val_loss: 0.5728 - val_accuracy: 0.7901\n",
            "Epoch 7/50\n",
            "55/55 [==============================] - 2s 40ms/step - loss: 0.5889 - accuracy: 0.7722 - val_loss: 0.5635 - val_accuracy: 0.7890\n",
            "Epoch 8/50\n",
            "55/55 [==============================] - 2s 39ms/step - loss: 0.5782 - accuracy: 0.7758 - val_loss: 0.5534 - val_accuracy: 0.7894\n",
            "Epoch 9/50\n",
            "55/55 [==============================] - 2s 40ms/step - loss: 0.5724 - accuracy: 0.7768 - val_loss: 0.5522 - val_accuracy: 0.7839\n",
            "Epoch 10/50\n",
            "55/55 [==============================] - 2s 40ms/step - loss: 0.5697 - accuracy: 0.7774 - val_loss: 0.5496 - val_accuracy: 0.7880\n",
            "Epoch 11/50\n",
            "55/55 [==============================] - 2s 40ms/step - loss: 0.5659 - accuracy: 0.7817 - val_loss: 0.5465 - val_accuracy: 0.7884\n",
            "Epoch 12/50\n",
            "55/55 [==============================] - 2s 40ms/step - loss: 0.5608 - accuracy: 0.7807 - val_loss: 0.5391 - val_accuracy: 0.7899\n",
            "Epoch 13/50\n",
            "55/55 [==============================] - 2s 41ms/step - loss: 0.5578 - accuracy: 0.7821 - val_loss: 0.5373 - val_accuracy: 0.7899\n",
            "Epoch 14/50\n",
            "55/55 [==============================] - 2s 40ms/step - loss: 0.5556 - accuracy: 0.7803 - val_loss: 0.5356 - val_accuracy: 0.7894\n",
            "Epoch 15/50\n",
            "55/55 [==============================] - 2s 40ms/step - loss: 0.5546 - accuracy: 0.7810 - val_loss: 0.5344 - val_accuracy: 0.7884\n",
            "Epoch 16/50\n",
            "55/55 [==============================] - 2s 39ms/step - loss: 0.5526 - accuracy: 0.7838 - val_loss: 0.5437 - val_accuracy: 0.7840\n",
            "Epoch 17/50\n",
            "55/55 [==============================] - 2s 40ms/step - loss: 0.5525 - accuracy: 0.7830 - val_loss: 0.5316 - val_accuracy: 0.7893\n",
            "Epoch 18/50\n",
            "55/55 [==============================] - 2s 40ms/step - loss: 0.5503 - accuracy: 0.7836 - val_loss: 0.5289 - val_accuracy: 0.7906\n",
            "Epoch 19/50\n",
            "55/55 [==============================] - 2s 40ms/step - loss: 0.5477 - accuracy: 0.7834 - val_loss: 0.5277 - val_accuracy: 0.7897\n",
            "Epoch 20/50\n",
            "55/55 [==============================] - 2s 41ms/step - loss: 0.5468 - accuracy: 0.7821 - val_loss: 0.5322 - val_accuracy: 0.7844\n",
            "Epoch 21/50\n",
            "55/55 [==============================] - 2s 41ms/step - loss: 0.5472 - accuracy: 0.7815 - val_loss: 0.5247 - val_accuracy: 0.7903\n",
            "Epoch 22/50\n",
            "55/55 [==============================] - 2s 42ms/step - loss: 0.5457 - accuracy: 0.7824 - val_loss: 0.5233 - val_accuracy: 0.7914\n",
            "Epoch 23/50\n",
            "55/55 [==============================] - 2s 41ms/step - loss: 0.5446 - accuracy: 0.7830 - val_loss: 0.5244 - val_accuracy: 0.7873\n",
            "Epoch 24/50\n",
            "55/55 [==============================] - 2s 42ms/step - loss: 0.5406 - accuracy: 0.7850 - val_loss: 0.5245 - val_accuracy: 0.7854\n",
            "Epoch 25/50\n",
            "55/55 [==============================] - 2s 40ms/step - loss: 0.5421 - accuracy: 0.7830 - val_loss: 0.5211 - val_accuracy: 0.7884\n",
            "Epoch 26/50\n",
            "55/55 [==============================] - 2s 40ms/step - loss: 0.5414 - accuracy: 0.7817 - val_loss: 0.5253 - val_accuracy: 0.7860\n",
            "Epoch 27/50\n",
            "55/55 [==============================] - 2s 42ms/step - loss: 0.5397 - accuracy: 0.7860 - val_loss: 0.5203 - val_accuracy: 0.7903\n",
            "Epoch 28/50\n",
            "55/55 [==============================] - 2s 41ms/step - loss: 0.5399 - accuracy: 0.7826 - val_loss: 0.5186 - val_accuracy: 0.7889\n",
            "Epoch 29/50\n",
            "55/55 [==============================] - 2s 42ms/step - loss: 0.5386 - accuracy: 0.7841 - val_loss: 0.5177 - val_accuracy: 0.7894\n",
            "Epoch 30/50\n",
            "55/55 [==============================] - 2s 42ms/step - loss: 0.5364 - accuracy: 0.7849 - val_loss: 0.5167 - val_accuracy: 0.7919\n",
            "Epoch 31/50\n",
            "55/55 [==============================] - 2s 41ms/step - loss: 0.5361 - accuracy: 0.7842 - val_loss: 0.5198 - val_accuracy: 0.7866\n",
            "Epoch 32/50\n",
            "55/55 [==============================] - 2s 40ms/step - loss: 0.5380 - accuracy: 0.7848 - val_loss: 0.5161 - val_accuracy: 0.7903\n",
            "Epoch 33/50\n",
            "55/55 [==============================] - 2s 41ms/step - loss: 0.5377 - accuracy: 0.7813 - val_loss: 0.5181 - val_accuracy: 0.7889\n",
            "Epoch 34/50\n",
            "55/55 [==============================] - 2s 42ms/step - loss: 0.5338 - accuracy: 0.7847 - val_loss: 0.5137 - val_accuracy: 0.7917\n",
            "Epoch 35/50\n",
            "55/55 [==============================] - 2s 42ms/step - loss: 0.5334 - accuracy: 0.7867 - val_loss: 0.5136 - val_accuracy: 0.7897\n",
            "Epoch 36/50\n",
            "55/55 [==============================] - 2s 42ms/step - loss: 0.5381 - accuracy: 0.7820 - val_loss: 0.5132 - val_accuracy: 0.7890\n",
            "Epoch 37/50\n",
            "55/55 [==============================] - 2s 40ms/step - loss: 0.5335 - accuracy: 0.7841 - val_loss: 0.5134 - val_accuracy: 0.7906\n",
            "Epoch 38/50\n",
            "55/55 [==============================] - 2s 41ms/step - loss: 0.5342 - accuracy: 0.7837 - val_loss: 0.5136 - val_accuracy: 0.7899\n",
            "Epoch 39/50\n",
            "55/55 [==============================] - 2s 42ms/step - loss: 0.5300 - accuracy: 0.7851 - val_loss: 0.5214 - val_accuracy: 0.7853\n",
            "Epoch 40/50\n",
            "55/55 [==============================] - 2s 41ms/step - loss: 0.5309 - accuracy: 0.7842 - val_loss: 0.5091 - val_accuracy: 0.7921\n",
            "Epoch 41/50\n",
            "55/55 [==============================] - 2s 42ms/step - loss: 0.5306 - accuracy: 0.7844 - val_loss: 0.5108 - val_accuracy: 0.7904\n",
            "Epoch 42/50\n",
            "55/55 [==============================] - 2s 42ms/step - loss: 0.5307 - accuracy: 0.7862 - val_loss: 0.5103 - val_accuracy: 0.7909\n",
            "Epoch 43/50\n",
            "55/55 [==============================] - 2s 41ms/step - loss: 0.5310 - accuracy: 0.7843 - val_loss: 0.5098 - val_accuracy: 0.7900\n",
            "Epoch 44/50\n",
            "55/55 [==============================] - 2s 40ms/step - loss: 0.5307 - accuracy: 0.7832 - val_loss: 0.5092 - val_accuracy: 0.7896\n",
            "Epoch 45/50\n",
            "55/55 [==============================] - 2s 40ms/step - loss: 0.5282 - accuracy: 0.7840 - val_loss: 0.5144 - val_accuracy: 0.7887\n",
            "Epoch 46/50\n",
            "55/55 [==============================] - 2s 41ms/step - loss: 0.5260 - accuracy: 0.7862 - val_loss: 0.5083 - val_accuracy: 0.7914\n",
            "Epoch 47/50\n",
            "55/55 [==============================] - 2s 41ms/step - loss: 0.5281 - accuracy: 0.7866 - val_loss: 0.5078 - val_accuracy: 0.7899\n",
            "Epoch 48/50\n",
            "55/55 [==============================] - 2s 41ms/step - loss: 0.5264 - accuracy: 0.7852 - val_loss: 0.5068 - val_accuracy: 0.7899\n",
            "Epoch 49/50\n",
            "55/55 [==============================] - 2s 41ms/step - loss: 0.5263 - accuracy: 0.7854 - val_loss: 0.5090 - val_accuracy: 0.7896\n",
            "Epoch 50/50\n",
            "55/55 [==============================] - 2s 41ms/step - loss: 0.5264 - accuracy: 0.7847 - val_loss: 0.5072 - val_accuracy: 0.7909\n"
          ],
          "name": "stdout"
        }
      ]
    },
    {
      "cell_type": "markdown",
      "metadata": {
        "id": "Y8Vx-IVoISSh"
      },
      "source": [
        "Plot the loss and accuracy history graphs"
      ]
    },
    {
      "cell_type": "code",
      "metadata": {
        "id": "LKj_nkxKBjPd",
        "outputId": "b2892f9e-d4ad-4480-9a84-515a9f7f603e",
        "colab": {
          "base_uri": "https://localhost:8080/",
          "height": 368
        }
      },
      "source": [
        "history_dict = history.history\n",
        "print(history_dict.keys())\n",
        "\n",
        "acc = history_dict['accuracy']\n",
        "val_acc = history_dict['val_accuracy']\n",
        "loss = history_dict['loss']\n",
        "val_loss = history_dict['val_loss']\n",
        "\n",
        "epochs = range(1, len(acc) + 1)\n",
        "\n",
        "fix,ax = plt.subplots(1,2, figsize=(15,5))\n",
        "ax1 = ax[0] # to plot Training Loss\n",
        "ax2 = ax[1] # to plot Training Accuracy\n",
        "ax1.plot(epochs, loss, label='Training loss')\n",
        "ax1.plot(epochs, val_loss,  label='Validation loss')\n",
        "ax1.set_title('Training and validation loss')\n",
        "ax1.set_xlabel('Epochs')\n",
        "ax1.set_ylabel('Loss')\n",
        "ax1.legend()\n",
        "\n",
        "ax2.plot(epochs, acc, label='Training acc')\n",
        "ax2.plot(epochs, val_acc,  label='Validation acc')\n",
        "ax2.set_title('Training and validation accuracy')\n",
        "ax2.set_xlabel('Epochs')\n",
        "ax2.set_ylabel('Accuracy')\n",
        "ax2.legend()\n",
        "\n",
        "plt.show()"
      ],
      "execution_count": 21,
      "outputs": [
        {
          "output_type": "stream",
          "text": [
            "dict_keys(['loss', 'accuracy', 'val_loss', 'val_accuracy'])\n"
          ],
          "name": "stdout"
        },
        {
          "output_type": "display_data",
          "data": {
            "image/png": "[encoded data removed]",
            "text/plain": [
              "<Figure size 1080x360 with 2 Axes>"
            ]
          },
          "metadata": {
            "tags": [],
            "needs_background": "light"
          }
        }
      ]
    },
    {
      "cell_type": "code",
      "metadata": {
        "id": "4gBvMgheHT4l",
        "outputId": "85ce86bf-44e3-4076-dad7-cb648189d5bb",
        "colab": {
          "base_uri": "https://localhost:8080/",
          "height": 35
        }
      },
      "source": [
        "#Time taken to train\n",
        "print(\"Time taken to train the NN:\",end_train - start_train,\" seconds\")"
      ],
      "execution_count": 22,
      "outputs": [
        {
          "output_type": "stream",
          "text": [
            "Time taken to train the NN: 117.00716280937195  seconds\n"
          ],
          "name": "stdout"
        }
      ]
    },
    {
      "cell_type": "markdown",
      "metadata": {
        "id": "G3aSraejcjKc"
      },
      "source": [
        "### Model Evaluation"
      ]
    },
    {
      "cell_type": "markdown",
      "metadata": {
        "id": "2HYmr-whel7t"
      },
      "source": [
        "Print the final test/validation loss and accuracy"
      ]
    },
    {
      "cell_type": "code",
      "metadata": {
        "id": "Ij8-utLRcm4l",
        "outputId": "a4855b26-a38e-4a6f-990b-f6268dbaf2b7",
        "colab": {
          "base_uri": "https://localhost:8080/",
          "height": 72
        }
      },
      "source": [
        "results = model.evaluate(X_test, y_test)\n",
        "\n",
        "print(\"Test Loss:\",results[0])\n",
        "print(\"Test Accuracy:\",results[1])"
      ],
      "execution_count": 23,
      "outputs": [
        {
          "output_type": "stream",
          "text": [
            "469/469 [==============================] - 3s 6ms/step - loss: 0.5035 - accuracy: 0.7959\n",
            "Test Loss: 0.5035203695297241\n",
            "Test Accuracy: 0.7959333062171936\n"
          ],
          "name": "stdout"
        }
      ]
    },
    {
      "cell_type": "code",
      "metadata": {
        "id": "DWHlK7ZXdOm7",
        "outputId": "b13379fd-0282-46c8-e92c-58929c512eaa",
        "colab": {
          "base_uri": "https://localhost:8080/",
          "height": 146
        }
      },
      "source": [
        "#Predictions\n",
        "y_pred = model.predict_classes(X_test)"
      ],
      "execution_count": 24,
      "outputs": [
        {
          "output_type": "stream",
          "text": [
            "WARNING:tensorflow:From <ipython-input-24-105f502b23c1>:2: Sequential.predict_classes (from tensorflow.python.keras.engine.sequential) is deprecated and will be removed after 2021-01-01.\n",
            "Instructions for updating:\n",
            "Please use instead:* `np.argmax(model.predict(x), axis=-1)`,   if your model does multi-class classification   (e.g. if it uses a `softmax` last-layer activation).* `(model.predict(x) > 0.5).astype(\"int32\")`,   if your model does binary classification   (e.g. if it uses a `sigmoid` last-layer activation).\n"
          ],
          "name": "stdout"
        },
        {
          "output_type": "stream",
          "text": [
            "WARNING:tensorflow:From <ipython-input-24-105f502b23c1>:2: Sequential.predict_classes (from tensorflow.python.keras.engine.sequential) is deprecated and will be removed after 2021-01-01.\n",
            "Instructions for updating:\n",
            "Please use instead:* `np.argmax(model.predict(x), axis=-1)`,   if your model does multi-class classification   (e.g. if it uses a `softmax` last-layer activation).* `(model.predict(x) > 0.5).astype(\"int32\")`,   if your model does binary classification   (e.g. if it uses a `sigmoid` last-layer activation).\n"
          ],
          "name": "stderr"
        }
      ]
    },
    {
      "cell_type": "markdown",
      "metadata": {
        "id": "z2BlOz_seRb6"
      },
      "source": [
        "Confusion Matrix"
      ]
    },
    {
      "cell_type": "code",
      "metadata": {
        "id": "jLGiz00ydSCx",
        "outputId": "0926c06d-863e-4a25-f734-14a467bdcb4b",
        "colab": {
          "base_uri": "https://localhost:8080/",
          "height": 72
        }
      },
      "source": [
        "print(\"Confustion Matrix\")\n",
        "print(confusion_matrix(y_test,y_pred))"
      ],
      "execution_count": 25,
      "outputs": [
        {
          "output_type": "stream",
          "text": [
            "Confustion Matrix\n",
            "[[5937 1563]\n",
            " [1498 6002]]\n"
          ],
          "name": "stdout"
        }
      ]
    },
    {
      "cell_type": "code",
      "metadata": {
        "id": "C-QbNW7WOtgS"
      },
      "source": [
        "y_pred = [v[0] for v in y_pred]"
      ],
      "execution_count": 26,
      "outputs": []
    },
    {
      "cell_type": "code",
      "metadata": {
        "id": "BMYJFs5COMco",
        "outputId": "557948d0-85d8-4c8a-b990-5fa91a217ab2",
        "colab": {
          "base_uri": "https://localhost:8080/",
          "height": 90
        }
      },
      "source": [
        "df = pd.DataFrame({'y_test':y_test,'y_pred':y_pred})\n",
        "df.head()\n",
        "confusion_matrix = pd.crosstab(df['y_test'], df['y_pred'], rownames=['Actual'], colnames=['Predicted'])\n",
        "print (confusion_matrix)"
      ],
      "execution_count": 27,
      "outputs": [
        {
          "output_type": "stream",
          "text": [
            "Predicted     0     1\n",
            "Actual               \n",
            "0          5937  1563\n",
            "1          1498  6002\n"
          ],
          "name": "stdout"
        }
      ]
    },
    {
      "cell_type": "markdown",
      "metadata": {
        "id": "sVfGEO-veXjl"
      },
      "source": [
        "Classification Report"
      ]
    },
    {
      "cell_type": "code",
      "metadata": {
        "id": "uD9BUP1jdmHw",
        "outputId": "a436b83e-8a63-45e6-c419-8652276fdb60",
        "colab": {
          "base_uri": "https://localhost:8080/",
          "height": 181
        }
      },
      "source": [
        "print(classification_report(y_test,y_pred))"
      ],
      "execution_count": 28,
      "outputs": [
        {
          "output_type": "stream",
          "text": [
            "              precision    recall  f1-score   support\n",
            "\n",
            "           0       0.80      0.79      0.80      7500\n",
            "           1       0.79      0.80      0.80      7500\n",
            "\n",
            "    accuracy                           0.80     15000\n",
            "   macro avg       0.80      0.80      0.80     15000\n",
            "weighted avg       0.80      0.80      0.80     15000\n",
            "\n"
          ],
          "name": "stdout"
        }
      ]
    },
    {
      "cell_type": "markdown",
      "metadata": {
        "id": "blafKSc3exSx"
      },
      "source": [
        "**Write a summary for the best and worst performing class and the overall trend??**"
      ]
    },
    {
      "cell_type": "markdown",
      "metadata": {
        "id": "xLwP--FUPHEl"
      },
      "source": [
        "Its difficult to compare the best and worst class in this model results as both of them where having similar F1-score and also from the confusion matrix it is evident that both have more or less closer FP and FN rates <br>\n",
        "In the 10 epochs itself the loss and accuracy saturated"
      ]
    },
    {
      "cell_type": "code",
      "metadata": {
        "id": "zJOea0whImKC"
      },
      "source": [
        ""
      ],
      "execution_count": 28,
      "outputs": []
    }
  ]
}