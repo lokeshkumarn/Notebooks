{
  "cells": [
    {
      "metadata": {
        "id": "6yBUHDlOcY-O",
        "colab_type": "code",
        "colab": {},
        "trusted": true,
        "_uuid": "8acb8f96b2529ce2e5167b91a6d7a13aaaf56cdb"
      },
      "cell_type": "code",
      "source": "import os\nimport numpy as np\nimport pandas as pd\n\nfrom matplotlib import pyplot as plt",
      "execution_count": 1,
      "outputs": []
    },
    {
      "metadata": {
        "trusted": true,
        "_uuid": "45ac5885fef3eee8ac9416e04b98dd0295ad5332"
      },
      "cell_type": "code",
      "source": "os.listdir('../input')",
      "execution_count": 2,
      "outputs": [
        {
          "output_type": "execute_result",
          "execution_count": 2,
          "data": {
            "text/plain": "['final_test_data.csv', 'final_train_data.csv']"
          },
          "metadata": {}
        }
      ]
    },
    {
      "metadata": {
        "id": "gaYIpyI5cfKU",
        "colab_type": "code",
        "colab": {},
        "trusted": true,
        "_uuid": "9b7ffb1a85c94c5583f685498278c8193040d793"
      },
      "cell_type": "code",
      "source": "df_train = pd.read_csv('../input/final_train_data.csv',index_col=False)\ndf_test = pd.read_csv('../input/final_test_data.csv',index_col=False)",
      "execution_count": 3,
      "outputs": []
    },
    {
      "metadata": {
        "trusted": true,
        "scrolled": true,
        "_uuid": "44c633cd7d2edbc8f853fe93a91dca357728d64e"
      },
      "cell_type": "code",
      "source": "df_test = df_test[['Country Name','Country Code','Year','Inflation','GDP','Exports',\n                     'Trade']]\ndf_test.head()",
      "execution_count": 4,
      "outputs": [
        {
          "output_type": "execute_result",
          "execution_count": 4,
          "data": {
            "text/plain": "  Country Name Country Code  Year    ...            GDP       Exports      Trade\n0       Cyprus          CYP  2001    ...       3.600665  9.760000e+08  46.359979\n1        Benin          BEN  1995    ...       6.045199  4.200000e+08  53.726740\n2   Bangladesh          BGD  1995    ...       5.121278  3.501000e+09  26.871554\n3     Paraguay          PRY  1978    ...      12.028730  2.569700e+08  27.230654\n4      Morocco          MAR  1987    ...      -0.325004  2.826000e+09  32.418633\n\n[5 rows x 7 columns]",
            "text/html": "<div>\n<style scoped>\n    .dataframe tbody tr th:only-of-type {\n        vertical-align: middle;\n    }\n\n    .dataframe tbody tr th {\n        vertical-align: top;\n    }\n\n    .dataframe thead th {\n        text-align: right;\n    }\n</style>\n<table border=\"1\" class=\"dataframe\">\n  <thead>\n    <tr style=\"text-align: right;\">\n      <th></th>\n      <th>Country Name</th>\n      <th>Country Code</th>\n      <th>Year</th>\n      <th>Inflation</th>\n      <th>GDP</th>\n      <th>Exports</th>\n      <th>Trade</th>\n    </tr>\n  </thead>\n  <tbody>\n    <tr>\n      <th>0</th>\n      <td>Cyprus</td>\n      <td>CYP</td>\n      <td>2001</td>\n      <td>3.657166</td>\n      <td>3.600665</td>\n      <td>9.760000e+08</td>\n      <td>46.359979</td>\n    </tr>\n    <tr>\n      <th>1</th>\n      <td>Benin</td>\n      <td>BEN</td>\n      <td>1995</td>\n      <td>15.099452</td>\n      <td>6.045199</td>\n      <td>4.200000e+08</td>\n      <td>53.726740</td>\n    </tr>\n    <tr>\n      <th>2</th>\n      <td>Bangladesh</td>\n      <td>BGD</td>\n      <td>1995</td>\n      <td>7.144939</td>\n      <td>5.121278</td>\n      <td>3.501000e+09</td>\n      <td>26.871554</td>\n    </tr>\n    <tr>\n      <th>3</th>\n      <td>Paraguay</td>\n      <td>PRY</td>\n      <td>1978</td>\n      <td>9.706191</td>\n      <td>12.028730</td>\n      <td>2.569700e+08</td>\n      <td>27.230654</td>\n    </tr>\n    <tr>\n      <th>4</th>\n      <td>Morocco</td>\n      <td>MAR</td>\n      <td>1987</td>\n      <td>3.014808</td>\n      <td>-0.325004</td>\n      <td>2.826000e+09</td>\n      <td>32.418633</td>\n    </tr>\n  </tbody>\n</table>\n</div>"
          },
          "metadata": {}
        }
      ]
    },
    {
      "metadata": {
        "id": "FKjg-5OJdnQm",
        "colab_type": "code",
        "outputId": "2a805048-e90c-4dfe-963e-c05b5972a412",
        "colab": {
          "base_uri": "https://localhost:8080/",
          "height": 198
        },
        "trusted": true,
        "_uuid": "13f1c2768ae69f074f9ef173f0b286088658604b"
      },
      "cell_type": "code",
      "source": "df_train = df_train[['Country Name','Country Code','Year','Balance','Inflation','GDP','Exports',\n                     'Trade']]\ndf_train.head()",
      "execution_count": 5,
      "outputs": [
        {
          "output_type": "execute_result",
          "execution_count": 5,
          "data": {
            "text/plain": "  Country Name Country Code  Year    ...           GDP       Exports      Trade\n0      Senegal          SEN  1983    ...     -5.326393  6.180000e+08  59.224298\n1         Togo          TGO  2009    ...      3.510297  9.030260e+08  76.242542\n2     Pakistan          PAK  1992    ...      7.705898  7.351000e+09  34.489440\n3        Nepal          NPL  1988    ...      7.696809  1.900000e+08  24.978422\n4        Malta          MLT  2016    ...      5.516617  3.017299e+09  83.781471\n\n[5 rows x 8 columns]",
            "text/html": "<div>\n<style scoped>\n    .dataframe tbody tr th:only-of-type {\n        vertical-align: middle;\n    }\n\n    .dataframe tbody tr th {\n        vertical-align: top;\n    }\n\n    .dataframe thead th {\n        text-align: right;\n    }\n</style>\n<table border=\"1\" class=\"dataframe\">\n  <thead>\n    <tr style=\"text-align: right;\">\n      <th></th>\n      <th>Country Name</th>\n      <th>Country Code</th>\n      <th>Year</th>\n      <th>Balance</th>\n      <th>Inflation</th>\n      <th>GDP</th>\n      <th>Exports</th>\n      <th>Trade</th>\n    </tr>\n  </thead>\n  <tbody>\n    <tr>\n      <th>0</th>\n      <td>Senegal</td>\n      <td>SEN</td>\n      <td>1983</td>\n      <td>-3.043829e+08</td>\n      <td>9.274213</td>\n      <td>-5.326393</td>\n      <td>6.180000e+08</td>\n      <td>59.224298</td>\n    </tr>\n    <tr>\n      <th>1</th>\n      <td>Togo</td>\n      <td>TGO</td>\n      <td>2009</td>\n      <td>-1.766692e+08</td>\n      <td>1.855275</td>\n      <td>3.510297</td>\n      <td>9.030260e+08</td>\n      <td>76.242542</td>\n    </tr>\n    <tr>\n      <th>2</th>\n      <td>Pakistan</td>\n      <td>PAK</td>\n      <td>1992</td>\n      <td>-1.876092e+09</td>\n      <td>10.057085</td>\n      <td>7.705898</td>\n      <td>7.351000e+09</td>\n      <td>34.489440</td>\n    </tr>\n    <tr>\n      <th>3</th>\n      <td>Nepal</td>\n      <td>NPL</td>\n      <td>1988</td>\n      <td>-2.714506e+08</td>\n      <td>11.815310</td>\n      <td>7.696809</td>\n      <td>1.900000e+08</td>\n      <td>24.978422</td>\n    </tr>\n    <tr>\n      <th>4</th>\n      <td>Malta</td>\n      <td>MLT</td>\n      <td>2016</td>\n      <td>7.269132e+08</td>\n      <td>1.604548</td>\n      <td>5.516617</td>\n      <td>3.017299e+09</td>\n      <td>83.781471</td>\n    </tr>\n  </tbody>\n</table>\n</div>"
          },
          "metadata": {}
        }
      ]
    },
    {
      "metadata": {
        "id": "Um0oqTxtdqbo",
        "colab_type": "code",
        "outputId": "44358e85-7400-4d9f-a067-6fda132ec766",
        "colab": {
          "base_uri": "https://localhost:8080/",
          "height": 254
        },
        "trusted": true,
        "_uuid": "c4e17698dcd2069c58ccc7d32232c3e88629d212"
      },
      "cell_type": "code",
      "source": "df_train.info()",
      "execution_count": 6,
      "outputs": [
        {
          "output_type": "stream",
          "text": "<class 'pandas.core.frame.DataFrame'>\nRangeIndex: 4506 entries, 0 to 4505\nData columns (total 8 columns):\nCountry Name    4506 non-null object\nCountry Code    4506 non-null object\nYear            4506 non-null int64\nBalance         4506 non-null float64\nInflation       4261 non-null float64\nGDP             4262 non-null float64\nExports         4490 non-null float64\nTrade           4304 non-null float64\ndtypes: float64(5), int64(1), object(2)\nmemory usage: 281.7+ KB\n",
          "name": "stdout"
        }
      ]
    },
    {
      "metadata": {
        "id": "1T9VLlD7nmUW",
        "colab_type": "code",
        "outputId": "5e763a3e-960b-4fe9-ff34-9a817e2ac990",
        "colab": {
          "base_uri": "https://localhost:8080/",
          "height": 35
        },
        "trusted": true,
        "_uuid": "4542f24ce4453eb25385620369c53aace49cd91e"
      },
      "cell_type": "code",
      "source": "len(df_train['Country Name'].unique())",
      "execution_count": 7,
      "outputs": [
        {
          "output_type": "execute_result",
          "execution_count": 7,
          "data": {
            "text/plain": "150"
          },
          "metadata": {}
        }
      ]
    },
    {
      "metadata": {
        "id": "k5PPzpZznNSt",
        "colab_type": "code",
        "outputId": "8d5a1c39-ba35-45dc-893e-3c2f4261c5bf",
        "colab": {
          "base_uri": "https://localhost:8080/",
          "height": 605
        },
        "trusted": true,
        "_uuid": "24af6eea4e7efd18a0169b9daede8fe4a6785318"
      },
      "cell_type": "code",
      "source": "df_train['Country Name'].value_counts()[:50].plot(kind='bar',figsize=(20,8))",
      "execution_count": 8,
      "outputs": [
        {
          "output_type": "execute_result",
          "execution_count": 8,
          "data": {
            "text/plain": "<matplotlib.axes._subplots.AxesSubplot at 0x7f541c571cc0>"
          },
          "metadata": {}
        },
        {
          "output_type": "display_data",
          "data": {
            "text/plain": "<Figure size 1440x576 with 1 Axes>",
            "image/png": "[encoded data removed]"
          },
          "metadata": {}
        }
      ]
    },
    {
      "metadata": {
        "id": "TCqGxgiRnUbZ",
        "colab_type": "code",
        "outputId": "68ff4661-4cae-4b24-e763-8a3be42ecd78",
        "colab": {
          "base_uri": "https://localhost:8080/",
          "height": 433
        },
        "trusted": true,
        "_uuid": "b5327b4be22e3d43c7710da121807ede4d6527e0"
      },
      "cell_type": "code",
      "source": "print('Mean balance:',df_train['Balance'].mean())\nprint('Median balance:',df_train['Balance'].median())\nprint('STD balance:',df_train['Balance'].std())\ndf_train['Balance'].plot(kind='hist')",
      "execution_count": 9,
      "outputs": [
        {
          "output_type": "stream",
          "text": "Mean balance: -513203070.70703393\nMedian balance: -160328728.3\nSTD balance: 35610068572.69368\n",
          "name": "stdout"
        },
        {
          "output_type": "execute_result",
          "execution_count": 9,
          "data": {
            "text/plain": "<matplotlib.axes._subplots.AxesSubplot at 0x7f541c086c50>"
          },
          "metadata": {}
        },
        {
          "output_type": "display_data",
          "data": {
            "text/plain": "<Figure size 432x288 with 1 Axes>",
            "image/png": "[encoded data removed]"
          },
          "metadata": {}
        }
      ]
    },
    {
      "metadata": {
        "id": "7FU0dAzTpllO",
        "colab_type": "code",
        "outputId": "4d95cede-e597-46b0-9806-3a695293bd1f",
        "colab": {
          "base_uri": "https://localhost:8080/",
          "height": 420
        },
        "trusted": true,
        "_uuid": "8970eb97ecb936e7a09efca5dc18dda4ef467ff0"
      },
      "cell_type": "code",
      "source": "print('Mean Inflation:',df_train['Inflation'].mean())\nprint('Median Inflation:',df_train['Inflation'].median())\nprint('STD Inflation:',df_train['Inflation'].std())\ndf_train['Inflation'].plot(kind='hist')",
      "execution_count": 10,
      "outputs": [
        {
          "output_type": "stream",
          "text": "Mean Inflation: 31.613464205125098\nMedian Inflation: 6.184351239\nSTD Inflation: 353.81796526229755\n",
          "name": "stdout"
        },
        {
          "output_type": "execute_result",
          "execution_count": 10,
          "data": {
            "text/plain": "<matplotlib.axes._subplots.AxesSubplot at 0x7f541c361780>"
          },
          "metadata": {}
        },
        {
          "output_type": "display_data",
          "data": {
            "text/plain": "<Figure size 432x288 with 1 Axes>",
            "image/png": "[encoded data removed]"
          },
          "metadata": {}
        }
      ]
    },
    {
      "metadata": {
        "id": "oXUmWuXcqFce",
        "colab_type": "code",
        "outputId": "b7299461-8bc4-4312-fad8-30beb5a416cb",
        "colab": {
          "base_uri": "https://localhost:8080/",
          "height": 420
        },
        "trusted": true,
        "_uuid": "ba8f8a5d9b0b45c4a92b7c2df5d16cf85113efab"
      },
      "cell_type": "code",
      "source": "print('Mean GDP:',df_train['GDP'].mean())\nprint('Median GDP:',df_train['GDP'].median())\nprint('STD GDP:',df_train['GDP'].std())\ndf_train['GDP'].plot(kind='hist')",
      "execution_count": 11,
      "outputs": [
        {
          "output_type": "stream",
          "text": "Mean GDP: 3.6412244918801027\nMedian GDP: 3.799969259\nSTD GDP: 4.850977550143861\n",
          "name": "stdout"
        },
        {
          "output_type": "execute_result",
          "execution_count": 11,
          "data": {
            "text/plain": "<matplotlib.axes._subplots.AxesSubplot at 0x7f541c326438>"
          },
          "metadata": {}
        },
        {
          "output_type": "display_data",
          "data": {
            "text/plain": "<Figure size 432x288 with 1 Axes>",
            "image/png": "[encoded data removed]"
          },
          "metadata": {}
        }
      ]
    },
    {
      "metadata": {
        "id": "ODU9ljd_ra_y",
        "colab_type": "text",
        "_uuid": "d3b32bbc4ab2e6eccaf8e9dfd82cf5a67b960504"
      },
      "cell_type": "markdown",
      "source": "Label Encoding"
    },
    {
      "metadata": {
        "id": "eHFVUypAriCV",
        "colab_type": "code",
        "colab": {},
        "trusted": true,
        "_uuid": "95941950b2b7b765606a70ebf3ab7fc0546077e0"
      },
      "cell_type": "code",
      "source": "from sklearn.preprocessing import LabelEncoder",
      "execution_count": 12,
      "outputs": []
    },
    {
      "metadata": {
        "id": "_Q15Bvv6rd8A",
        "colab_type": "code",
        "outputId": "48bacc21-35d0-4e97-f453-0948edf0d52b",
        "colab": {
          "base_uri": "https://localhost:8080/",
          "height": 35
        },
        "trusted": true,
        "_uuid": "d4c43ba8dc276a0d4ceb00b5ccc18d5c89676fd8"
      },
      "cell_type": "code",
      "source": "country_name_encoder = LabelEncoder()\ncountry_name_encoder.fit(df_train['Country Name'])",
      "execution_count": 13,
      "outputs": [
        {
          "output_type": "execute_result",
          "execution_count": 13,
          "data": {
            "text/plain": "LabelEncoder()"
          },
          "metadata": {}
        }
      ]
    },
    {
      "metadata": {
        "id": "FnLJEFslr8Pk",
        "colab_type": "code",
        "outputId": "b2828f17-078c-458a-e05c-0fc908ba5609",
        "colab": {
          "base_uri": "https://localhost:8080/",
          "height": 35
        },
        "trusted": true,
        "_uuid": "3960b3a9e73524151600e95f63e5e6a4ba53ff72"
      },
      "cell_type": "code",
      "source": "country_name_encoder.transform(df_train['Country Name'])",
      "execution_count": 14,
      "outputs": [
        {
          "output_type": "execute_result",
          "execution_count": 14,
          "data": {
            "text/plain": "array([115, 135, 102, ..., 112,  52,  94])"
          },
          "metadata": {}
        }
      ]
    },
    {
      "metadata": {
        "id": "pvoKqB7_r9Yu",
        "colab_type": "code",
        "outputId": "f5bd0dbf-f236-408f-8bdd-e53ca5f0af58",
        "colab": {
          "base_uri": "https://localhost:8080/",
          "height": 35
        },
        "trusted": true,
        "_uuid": "3efc9fc4cb1d8b0767796fff025b45b80dcaea50"
      },
      "cell_type": "code",
      "source": "len(country_name_encoder.transform(df_train['Country Name']))",
      "execution_count": 15,
      "outputs": [
        {
          "output_type": "execute_result",
          "execution_count": 15,
          "data": {
            "text/plain": "4506"
          },
          "metadata": {}
        }
      ]
    },
    {
      "metadata": {
        "id": "3JK0ErZNrwPE",
        "colab_type": "code",
        "colab": {},
        "trusted": true,
        "_uuid": "25aa51a60cdf3ef965c37812bf2617d0270c3c9b"
      },
      "cell_type": "code",
      "source": "df_train['CountryId'] = country_name_encoder.transform(df_train['Country Name'])",
      "execution_count": 16,
      "outputs": []
    },
    {
      "metadata": {
        "id": "X_JCm6hTr1CN",
        "colab_type": "code",
        "colab": {},
        "trusted": true,
        "_uuid": "b342024b0f14ca2616dd9b7618a4c4cf650967c8"
      },
      "cell_type": "code",
      "source": "df_train = df_train[['CountryId','Year','Exports','Inflation','GDP','Trade','Balance']]",
      "execution_count": 17,
      "outputs": []
    },
    {
      "metadata": {
        "id": "umZVL0BFsWFK",
        "colab_type": "code",
        "colab": {},
        "trusted": true,
        "_uuid": "2d4413ebfc4888b36760f4759973e6fdc35adaec"
      },
      "cell_type": "code",
      "source": "df_train = df_train.sort_values(by=['CountryId','Year']).reset_index(drop=True)",
      "execution_count": 18,
      "outputs": []
    },
    {
      "metadata": {
        "id": "0fVeMl0QruMK",
        "colab_type": "code",
        "outputId": "a72c7591-ac7a-4a61-9e65-d78317ff1435",
        "colab": {
          "base_uri": "https://localhost:8080/",
          "height": 678
        },
        "trusted": true,
        "_uuid": "3499e524e2b942da98a724673deabf6bb94c4fe9"
      },
      "cell_type": "code",
      "source": "df_train[df_train['CountryId']==0]",
      "execution_count": 19,
      "outputs": [
        {
          "output_type": "execute_result",
          "execution_count": 19,
          "data": {
            "text/plain": "    CountryId  Year      ...           Trade       Balance\n0           0  1981      ...             NaN  4.500000e+07\n1           0  1982      ...             NaN -6.680000e+07\n2           0  1983      ...             NaN -3.830000e+07\n3           0  1984      ...             NaN -2.810000e+07\n4           0  1985      ...             NaN -3.640000e+07\n5           0  1986      ...             NaN -3.200000e+06\n6           0  1987      ...             NaN  5.200000e+06\n7           0  1988      ...             NaN -2.710000e+07\n8           0  1990      ...       29.025160 -1.183000e+08\n9           0  1995      ...       37.760378 -1.150000e+07\n10          0  1997      ...       33.271705 -2.722325e+08\n11          0  1999      ...       44.085370 -1.554000e+08\n12          0  2000      ...       37.112161 -1.563000e+08\n13          0  2001      ...       40.241494 -2.174000e+08\n14          0  2002      ...       41.561157 -4.075200e+08\n15          0  2006      ...       42.879499 -6.709043e+08\n16          0  2008      ...       51.279009 -2.018682e+09\n17          0  2009      ...       46.832699 -1.849619e+09\n18          0  2010      ...       49.891644 -1.353542e+09\n19          0  2011      ...       56.991471 -1.668842e+09\n20          0  2015      ...       55.137233 -9.781259e+08\n\n[21 rows x 7 columns]",
            "text/html": "<div>\n<style scoped>\n    .dataframe tbody tr th:only-of-type {\n        vertical-align: middle;\n    }\n\n    .dataframe tbody tr th {\n        vertical-align: top;\n    }\n\n    .dataframe thead th {\n        text-align: right;\n    }\n</style>\n<table border=\"1\" class=\"dataframe\">\n  <thead>\n    <tr style=\"text-align: right;\">\n      <th></th>\n      <th>CountryId</th>\n      <th>Year</th>\n      <th>Exports</th>\n      <th>Inflation</th>\n      <th>GDP</th>\n      <th>Trade</th>\n      <th>Balance</th>\n    </tr>\n  </thead>\n  <tbody>\n    <tr>\n      <th>0</th>\n      <td>0</td>\n      <td>1981</td>\n      <td>NaN</td>\n      <td>-2.177360</td>\n      <td>5.745635</td>\n      <td>NaN</td>\n      <td>4.500000e+07</td>\n    </tr>\n    <tr>\n      <th>1</th>\n      <td>0</td>\n      <td>1982</td>\n      <td>NaN</td>\n      <td>-0.017694</td>\n      <td>2.948597</td>\n      <td>NaN</td>\n      <td>-6.680000e+07</td>\n    </tr>\n    <tr>\n      <th>2</th>\n      <td>0</td>\n      <td>1983</td>\n      <td>NaN</td>\n      <td>-0.016747</td>\n      <td>1.104938</td>\n      <td>NaN</td>\n      <td>-3.830000e+07</td>\n    </tr>\n    <tr>\n      <th>3</th>\n      <td>0</td>\n      <td>1984</td>\n      <td>NaN</td>\n      <td>-0.028354</td>\n      <td>-1.251597</td>\n      <td>NaN</td>\n      <td>-2.810000e+07</td>\n    </tr>\n    <tr>\n      <th>4</th>\n      <td>0</td>\n      <td>1985</td>\n      <td>NaN</td>\n      <td>0.351198</td>\n      <td>1.780644</td>\n      <td>NaN</td>\n      <td>-3.640000e+07</td>\n    </tr>\n    <tr>\n      <th>5</th>\n      <td>0</td>\n      <td>1986</td>\n      <td>NaN</td>\n      <td>-2.378001</td>\n      <td>5.637243</td>\n      <td>NaN</td>\n      <td>-3.200000e+06</td>\n    </tr>\n    <tr>\n      <th>6</th>\n      <td>0</td>\n      <td>1987</td>\n      <td>NaN</td>\n      <td>0.000029</td>\n      <td>-0.787843</td>\n      <td>NaN</td>\n      <td>5.200000e+06</td>\n    </tr>\n    <tr>\n      <th>7</th>\n      <td>0</td>\n      <td>1988</td>\n      <td>NaN</td>\n      <td>0.000001</td>\n      <td>-1.420040</td>\n      <td>NaN</td>\n      <td>-2.710000e+07</td>\n    </tr>\n    <tr>\n      <th>8</th>\n      <td>0</td>\n      <td>1990</td>\n      <td>2.300000e+08</td>\n      <td>-0.468707</td>\n      <td>-9.575640</td>\n      <td>29.025160</td>\n      <td>-1.183000e+08</td>\n    </tr>\n    <tr>\n      <th>9</th>\n      <td>0</td>\n      <td>1995</td>\n      <td>2.020000e+08</td>\n      <td>5.573307</td>\n      <td>13.300000</td>\n      <td>37.760378</td>\n      <td>-1.150000e+07</td>\n    </tr>\n    <tr>\n      <th>10</th>\n      <td>0</td>\n      <td>1997</td>\n      <td>1.390000e+08</td>\n      <td>12.088706</td>\n      <td>-10.837856</td>\n      <td>33.271705</td>\n      <td>-2.722325e+08</td>\n    </tr>\n    <tr>\n      <th>11</th>\n      <td>0</td>\n      <td>1999</td>\n      <td>3.511200e+08</td>\n      <td>1.533331</td>\n      <td>13.501173</td>\n      <td>44.085370</td>\n      <td>-1.554000e+08</td>\n    </tr>\n    <tr>\n      <th>12</th>\n      <td>0</td>\n      <td>2000</td>\n      <td>2.579300e+08</td>\n      <td>3.981288</td>\n      <td>6.666620</td>\n      <td>37.112161</td>\n      <td>-1.563000e+08</td>\n    </tr>\n    <tr>\n      <th>13</th>\n      <td>0</td>\n      <td>2001</td>\n      <td>3.071900e+08</td>\n      <td>3.328851</td>\n      <td>7.940331</td>\n      <td>40.241494</td>\n      <td>-2.174000e+08</td>\n    </tr>\n    <tr>\n      <th>14</th>\n      <td>0</td>\n      <td>2002</td>\n      <td>3.395500e+08</td>\n      <td>2.410590</td>\n      <td>4.231371</td>\n      <td>41.561157</td>\n      <td>-4.075200e+08</td>\n    </tr>\n    <tr>\n      <th>15</th>\n      <td>0</td>\n      <td>2006</td>\n      <td>7.980000e+08</td>\n      <td>2.696049</td>\n      <td>5.431013</td>\n      <td>42.879499</td>\n      <td>-6.709043e+08</td>\n    </tr>\n    <tr>\n      <th>16</th>\n      <td>0</td>\n      <td>2008</td>\n      <td>1.354830e+09</td>\n      <td>7.630325</td>\n      <td>3.760854</td>\n      <td>51.279009</td>\n      <td>-2.018682e+09</td>\n    </tr>\n    <tr>\n      <th>17</th>\n      <td>0</td>\n      <td>2009</td>\n      <td>1.090600e+09</td>\n      <td>2.420047</td>\n      <td>3.352610</td>\n      <td>46.832699</td>\n      <td>-1.849619e+09</td>\n    </tr>\n    <tr>\n      <th>18</th>\n      <td>0</td>\n      <td>2010</td>\n      <td>1.544613e+09</td>\n      <td>4.489923</td>\n      <td>3.710058</td>\n      <td>49.891644</td>\n      <td>-1.353542e+09</td>\n    </tr>\n    <tr>\n      <th>19</th>\n      <td>0</td>\n      <td>2011</td>\n      <td>1.951044e+09</td>\n      <td>2.310041</td>\n      <td>2.550161</td>\n      <td>56.991471</td>\n      <td>-1.668842e+09</td>\n    </tr>\n    <tr>\n      <th>20</th>\n      <td>0</td>\n      <td>2015</td>\n      <td>1.929553e+09</td>\n      <td>0.100031</td>\n      <td>2.226581</td>\n      <td>55.137233</td>\n      <td>-9.781259e+08</td>\n    </tr>\n  </tbody>\n</table>\n</div>"
          },
          "metadata": {}
        }
      ]
    },
    {
      "metadata": {
        "id": "UdydBuiCgFGv",
        "colab_type": "text",
        "_uuid": "dcd0dee2e56a9c9db16809de87861a5c4e59c3f1"
      },
      "cell_type": "markdown",
      "source": "Impute the missing values"
    },
    {
      "metadata": {
        "id": "6zguC9GLgN3z",
        "colab_type": "code",
        "colab": {},
        "trusted": true,
        "_uuid": "b293e4f0d48115493944aac0966a19667a513af1"
      },
      "cell_type": "code",
      "source": "from sklearn.impute import SimpleImputer\nfrom sklearn.preprocessing import StandardScaler",
      "execution_count": 20,
      "outputs": []
    },
    {
      "metadata": {
        "id": "EQ_0uZKDfhp9",
        "colab_type": "code",
        "outputId": "80210b61-c333-4006-a527-ea077f73968e",
        "colab": {
          "base_uri": "https://localhost:8080/",
          "height": 163
        },
        "trusted": true,
        "_uuid": "b509aed580e9f02e90aba57169d94df54f4930da"
      },
      "cell_type": "code",
      "source": "df_train.isnull().sum()",
      "execution_count": 21,
      "outputs": [
        {
          "output_type": "execute_result",
          "execution_count": 21,
          "data": {
            "text/plain": "CountryId      0\nYear           0\nExports       16\nInflation    245\nGDP          244\nTrade        202\nBalance        0\ndtype: int64"
          },
          "metadata": {}
        }
      ]
    },
    {
      "metadata": {
        "id": "RGn--ZJKxBDD",
        "colab_type": "code",
        "colab": {},
        "trusted": true,
        "_uuid": "e453676ab6da2397e856bc335b9ae6c0d9f583c4"
      },
      "cell_type": "code",
      "source": "features=['CountryId','Year','Exports','Inflation','GDP','Trade']\ntarget=['Balance']\nX = df_train[features]\ny=df_train[target].values.reshape(4506)",
      "execution_count": 22,
      "outputs": []
    },
    {
      "metadata": {
        "id": "xzzkHo6Bhmir",
        "colab_type": "code",
        "colab": {},
        "trusted": true,
        "_uuid": "a7309b0d0e053f83af1d5313bdd5e6e8d88fe5cb"
      },
      "cell_type": "code",
      "source": "imp =SimpleImputer(missing_values=np.nan,strategy='mean')\nimp.fit(X)\nX = imp.fit_transform(X)",
      "execution_count": 23,
      "outputs": []
    },
    {
      "metadata": {
        "id": "Ck1_7CkSweu2",
        "colab_type": "code",
        "outputId": "f7970c09-f194-4f54-f42e-19a2dc84edab",
        "colab": {
          "base_uri": "https://localhost:8080/",
          "height": 35
        },
        "trusted": true,
        "_uuid": "fadbdc405b7bfc75c0646feb39fe26fbdc17a4f1"
      },
      "cell_type": "code",
      "source": "X.shape,y.shape",
      "execution_count": 24,
      "outputs": [
        {
          "output_type": "execute_result",
          "execution_count": 24,
          "data": {
            "text/plain": "((4506, 6), (4506,))"
          },
          "metadata": {}
        }
      ]
    },
    {
      "metadata": {
        "id": "vpTfo8iB6s24",
        "colab_type": "text",
        "_uuid": "036470ede5520422de38727b6c01dc41615e77c9"
      },
      "cell_type": "markdown",
      "source": "Scaling"
    },
    {
      "metadata": {
        "id": "Pa-lruRMyZz1",
        "colab_type": "code",
        "colab": {},
        "trusted": true,
        "_uuid": "9db0e9575ed417c56ad5e5080fdabd5da75fdf69"
      },
      "cell_type": "code",
      "source": "scaler = StandardScaler()\nX = scaler.fit_transform(X)",
      "execution_count": 25,
      "outputs": []
    },
    {
      "metadata": {
        "id": "SdIpKWxM6FbK",
        "colab_type": "code",
        "outputId": "949f2aea-b41d-4747-c06d-3c34cecc2f50",
        "colab": {
          "base_uri": "https://localhost:8080/",
          "height": 254
        },
        "trusted": true,
        "_uuid": "b57af28f529fe81394b9e3f2e1774503312c0f77"
      },
      "cell_type": "code",
      "source": "X",
      "execution_count": 26,
      "outputs": [
        {
          "output_type": "execute_result",
          "execution_count": 26,
          "data": {
            "text/plain": "array([[-1.75018497e+00, -1.25586014e+00,  5.28823144e-17,\n        -9.82222108e-02,  4.46109102e-01,  1.55518298e-16],\n       [-1.75018497e+00, -1.17385889e+00,  5.28823144e-17,\n        -9.19445543e-02, -1.46828517e-01,  1.55518298e-16],\n       [-1.75018497e+00, -1.09185765e+00,  5.28823144e-17,\n        -9.19418016e-02, -5.37661359e-01,  1.55518298e-16],\n       ...,\n       [ 1.71254536e+00,  1.36817964e+00, -2.76485838e-01,\n        -8.37375843e-02,  4.00351901e-01, -2.70594647e-01],\n       [ 1.71254536e+00,  1.45018088e+00, -2.79559594e-01,\n        -8.98557038e-02, -3.20979007e-01, -3.76016506e-01],\n       [ 1.71254536e+00,  1.53218212e+00, -2.82052404e-01,\n        -8.92826310e-02, -4.13721519e-01, -4.76521941e-01]])"
          },
          "metadata": {}
        }
      ]
    },
    {
      "metadata": {
        "id": "jfBcFaJy6pco",
        "colab_type": "text",
        "_uuid": "5c34ed6350624137e652306ec8c470ca1ec41d68"
      },
      "cell_type": "markdown",
      "source": "Modeling"
    },
    {
      "metadata": {
        "id": "90FMBOXp6qdC",
        "colab_type": "code",
        "colab": {},
        "trusted": true,
        "_uuid": "f2354484a7e626823a2c05bb78655a7f36f871c0"
      },
      "cell_type": "code",
      "source": "from sklearn.model_selection import cross_val_score,train_test_split,GridSearchCV\nfrom sklearn.ensemble import GradientBoostingRegressor,AdaBoostRegressor\n\nfrom sklearn.metrics import mean_absolute_error,mean_squared_error,mean_squared_log_error",
      "execution_count": 27,
      "outputs": []
    },
    {
      "metadata": {
        "id": "uxu0Am_b7qfE",
        "colab_type": "code",
        "colab": {},
        "trusted": true,
        "_uuid": "dd1dbfd83cb44490ebf6a4761d9c2b819c37dc16"
      },
      "cell_type": "code",
      "source": "random_seed = 2019",
      "execution_count": 28,
      "outputs": []
    },
    {
      "metadata": {
        "id": "VzRMkV9m6_OM",
        "colab_type": "code",
        "outputId": "6a7bdb06-5b0c-45e8-e2ad-8d13500ae5bd",
        "colab": {
          "base_uri": "https://localhost:8080/",
          "height": 35
        },
        "trusted": true,
        "_uuid": "39748a86e8a9f4534ddc5eb6a245bc34608eb1fa"
      },
      "cell_type": "code",
      "source": "X_B,X_val,y_B,y_val = train_test_split(X,y,test_size=0.1,random_state=random_seed)\nX_train,X_test,y_train,y_test = train_test_split(X_B,y_B,test_size=0.1,random_state=random_seed)\nprint(X_B.shape,X_val.shape,y_B.shape,y_val.shape,X_train.shape,X_test.shape,y_train.shape,y_test.shape)",
      "execution_count": 29,
      "outputs": [
        {
          "output_type": "stream",
          "text": "(4055, 6) (451, 6) (4055,) (451,) (3649, 6) (406, 6) (3649,) (406,)\n",
          "name": "stdout"
        }
      ]
    },
    {
      "metadata": {
        "id": "0Zy7-pTr8KxI",
        "colab_type": "code",
        "colab": {},
        "trusted": true,
        "_uuid": "7d53f834fc58a64ba17f72e546b1e9df48f847ee"
      },
      "cell_type": "code",
      "source": "regressors =[GradientBoostingRegressor(),AdaBoostRegressor()]",
      "execution_count": 30,
      "outputs": []
    },
    {
      "metadata": {
        "id": "0fhvKTFENJ5Q",
        "colab_type": "code",
        "outputId": "46fced6f-5b29-455b-c6ba-75c2dbee5dc6",
        "colab": {
          "base_uri": "https://localhost:8080/",
          "height": 35
        },
        "trusted": true,
        "_uuid": "0032de3abc7503e759ee800b97c01429158f3eb8"
      },
      "cell_type": "code",
      "source": "np.linspace(0.1,0.2,5)",
      "execution_count": 31,
      "outputs": [
        {
          "output_type": "execute_result",
          "execution_count": 31,
          "data": {
            "text/plain": "array([0.1  , 0.125, 0.15 , 0.175, 0.2  ])"
          },
          "metadata": {}
        }
      ]
    },
    {
      "metadata": {
        "trusted": true,
        "_uuid": "2ccb42e70ee28bf3cffca6c0a22a80a7e1dc2937"
      },
      "cell_type": "code",
      "source": "np.linspace(0.5, 1.0, 12),",
      "execution_count": 35,
      "outputs": [
        {
          "output_type": "execute_result",
          "execution_count": 35,
          "data": {
            "text/plain": "(array([0.5       , 0.54545455, 0.59090909, 0.63636364, 0.68181818,\n        0.72727273, 0.77272727, 0.81818182, 0.86363636, 0.90909091,\n        0.95454545, 1.        ]),)"
          },
          "metadata": {}
        }
      ]
    },
    {
      "metadata": {
        "id": "icAcXQ5I8yYc",
        "colab_type": "code",
        "colab": {},
        "trusted": true,
        "_uuid": "6f62fc35a67ddba96d59d9dba7b78153653984f0"
      },
      "cell_type": "code",
      "source": "regression_params = {\n    'GradientBoostingRegressor' : \n    {\n        'loss':['huber', 'quantile'],\n        'learning_rate':np.linspace(0.1,0.2,5),\n        'n_estimators':np.arange(100,300,100),\n        'min_samples_split':[0.1,0.3,0.5],\n        'min_samples_leaf':[0.1,0.3,0.5],\n        'subsample':[0.5,0.7,0.9],\n        'max_depth':[5,7,10],\n        'max_features':['sqrt'],\n        'n_iter_no_change':[3],\n        'random_state':[random_seed]\n    },\n    'AdaBoostRegressor':\n    {\n        'loss' : ['linear', 'square', 'exponential'],\n        'learning_rate':np.linspace(0.1,0.2,5),\n        'n_estimators':np.arange(100,300,100),\n        'random_state':[random_seed]       \n    }    \n}",
      "execution_count": 36,
      "outputs": []
    },
    {
      "metadata": {
        "id": "D-72-zgZBKXe",
        "colab_type": "code",
        "outputId": "af485b80-3497-4d4d-9ea5-07f690149347",
        "colab": {
          "base_uri": "https://localhost:8080/",
          "height": 72
        },
        "trusted": true,
        "_uuid": "f93f6ae134d17e2ff6236aa758809e6825aeaebc",
        "collapsed": true
      },
      "cell_type": "code",
      "source": "regression_results =[]\nfor i,reg in enumerate(regressors):\n  reg_name = type(reg).__name__\n  print(reg_name)\n  \n  regressor = GridSearchCV(reg,regression_params[reg_name],verbose=1,cv=5,n_jobs=-1)\n  regressor.fit(X_train,y_train)\n  y_pred_val = regressor.predict(X_val)  \n  regression_results.append({'Reg':regressor,\n                     'y_pred_val':y_pred_val\n                    })",
      "execution_count": 38,
      "outputs": [
        {
          "output_type": "stream",
          "text": "GradientBoostingRegressor\nFitting 5 folds for each of 1620 candidates, totalling 8100 fits\n",
          "name": "stdout"
        },
        {
          "output_type": "stream",
          "text": "[Parallel(n_jobs=-1)]: Using backend LokyBackend with 2 concurrent workers.\n[Parallel(n_jobs=-1)]: Done  71 tasks      | elapsed:    6.3s\n[Parallel(n_jobs=-1)]: Done 671 tasks      | elapsed:   21.2s\n[Parallel(n_jobs=-1)]: Done 2059 tasks      | elapsed:  1.3min\n[Parallel(n_jobs=-1)]: Done 4579 tasks      | elapsed:  2.7min\n[Parallel(n_jobs=-1)]: Done 8100 out of 8100 | elapsed:  4.6min finished\n[Parallel(n_jobs=-1)]: Using backend LokyBackend with 2 concurrent workers.\n",
          "name": "stderr"
        },
        {
          "output_type": "stream",
          "text": "AdaBoostRegressor\nFitting 5 folds for each of 30 candidates, totalling 150 fits\n",
          "name": "stdout"
        },
        {
          "output_type": "stream",
          "text": "[Parallel(n_jobs=-1)]: Done  46 tasks      | elapsed:   22.7s\n[Parallel(n_jobs=-1)]: Done 150 out of 150 | elapsed:  1.2min finished\n",
          "name": "stderr"
        }
      ]
    },
    {
      "metadata": {
        "id": "5rz5k9A5Ca3T",
        "colab_type": "code",
        "colab": {},
        "trusted": true,
        "_uuid": "9dac61aae4a07d73254e412b4816b16d194c1dc5",
        "scrolled": true
      },
      "cell_type": "code",
      "source": "print(regression_results[0]['Reg'].best_params_)\nprint(regression_results[1]['Reg'].best_params_)",
      "execution_count": 43,
      "outputs": [
        {
          "output_type": "stream",
          "text": "{'learning_rate': 0.2, 'loss': 'huber', 'max_depth': 5, 'max_features': 'sqrt', 'min_samples_leaf': 0.1, 'min_samples_split': 0.1, 'n_estimators': 100, 'n_iter_no_change': 3, 'random_state': 2019, 'subsample': 0.9}\n{'learning_rate': 0.1, 'loss': 'square', 'n_estimators': 100, 'random_state': 2019}\n",
          "name": "stdout"
        }
      ]
    },
    {
      "metadata": {
        "trusted": true,
        "_uuid": "f8e7f3f714698f7178553651c3508c4c98144c9b"
      },
      "cell_type": "code",
      "source": "gdc_params ={'learning_rate': 0.2, 'loss': 'huber', 'max_depth': 5, 'max_features': 'sqrt', \n             'min_samples_leaf': 0.1, 'min_samples_split': 0.1,'n_estimators': 100, \n             'n_iter_no_change': 3, 'random_state': 2019, 'subsample': 0.9}\n\nab_params ={'learning_rate': 0.1, 'loss': 'square', 'n_estimators': 100, 'random_state': 2019}",
      "execution_count": 44,
      "outputs": []
    },
    {
      "metadata": {
        "trusted": true,
        "_uuid": "93af47df5cd5375905d253b3cce4ec1aa4b9f719"
      },
      "cell_type": "code",
      "source": "clf = GradientBoostingRegressor(**gdc_params)\nclf.fit(X,y)",
      "execution_count": 72,
      "outputs": [
        {
          "output_type": "execute_result",
          "execution_count": 72,
          "data": {
            "text/plain": "GradientBoostingRegressor(alpha=0.9, criterion='friedman_mse', init=None,\n             learning_rate=0.2, loss='huber', max_depth=5,\n             max_features='sqrt', max_leaf_nodes=None,\n             min_impurity_decrease=0.0, min_impurity_split=None,\n             min_samples_leaf=0.1, min_samples_split=0.1,\n             min_weight_fraction_leaf=0.0, n_estimators=100,\n             n_iter_no_change=3, presort='auto', random_state=2019,\n             subsample=0.9, tol=0.0001, validation_fraction=0.1, verbose=0,\n             warm_start=False)"
          },
          "metadata": {}
        }
      ]
    },
    {
      "metadata": {
        "trusted": true,
        "_uuid": "8459b93d51decb3d3c5db990ede7d323a5c01ba7"
      },
      "cell_type": "code",
      "source": "clf_ab = AdaBoostRegressor(**ab_params)\nclf_ab.fit(X,y)",
      "execution_count": 71,
      "outputs": [
        {
          "output_type": "execute_result",
          "execution_count": 71,
          "data": {
            "text/plain": "AdaBoostRegressor(base_estimator=None, learning_rate=0.1, loss='square',\n         n_estimators=100, random_state=2019)"
          },
          "metadata": {}
        }
      ]
    },
    {
      "metadata": {
        "trusted": true,
        "_uuid": "d1f692da177d69abe3fceb3b4bbb52af235c07ce"
      },
      "cell_type": "code",
      "source": "df_test['CountryId'] = country_name_encoder.transform(df_test['Country Name'])",
      "execution_count": 48,
      "outputs": []
    },
    {
      "metadata": {
        "trusted": true,
        "_uuid": "569a33c6300bbd154b440713ab22c49f2fe2f759"
      },
      "cell_type": "code",
      "source": "df_test = df_test[['CountryId','Year','Exports','Inflation','GDP','Trade']]",
      "execution_count": 50,
      "outputs": []
    },
    {
      "metadata": {
        "trusted": true,
        "_uuid": "647b3fcf874fcd8fdd161f65469cb6fe15b1a1ca"
      },
      "cell_type": "code",
      "source": "df_test.head()",
      "execution_count": 52,
      "outputs": [
        {
          "output_type": "execute_result",
          "execution_count": 52,
          "data": {
            "text/plain": "   CountryId  Year       Exports  Inflation        GDP      Trade\n0         32  2001  9.760000e+08   3.657166   3.600665  46.359979\n1         15  1995  4.200000e+08  15.099452   6.045199  53.726740\n2         11  1995  3.501000e+09   7.144939   5.121278  26.871554\n3        105  1978  2.569700e+08   9.706191  12.028730  27.230654\n4         92  1987  2.826000e+09   3.014808  -0.325004  32.418633",
            "text/html": "<div>\n<style scoped>\n    .dataframe tbody tr th:only-of-type {\n        vertical-align: middle;\n    }\n\n    .dataframe tbody tr th {\n        vertical-align: top;\n    }\n\n    .dataframe thead th {\n        text-align: right;\n    }\n</style>\n<table border=\"1\" class=\"dataframe\">\n  <thead>\n    <tr style=\"text-align: right;\">\n      <th></th>\n      <th>CountryId</th>\n      <th>Year</th>\n      <th>Exports</th>\n      <th>Inflation</th>\n      <th>GDP</th>\n      <th>Trade</th>\n    </tr>\n  </thead>\n  <tbody>\n    <tr>\n      <th>0</th>\n      <td>32</td>\n      <td>2001</td>\n      <td>9.760000e+08</td>\n      <td>3.657166</td>\n      <td>3.600665</td>\n      <td>46.359979</td>\n    </tr>\n    <tr>\n      <th>1</th>\n      <td>15</td>\n      <td>1995</td>\n      <td>4.200000e+08</td>\n      <td>15.099452</td>\n      <td>6.045199</td>\n      <td>53.726740</td>\n    </tr>\n    <tr>\n      <th>2</th>\n      <td>11</td>\n      <td>1995</td>\n      <td>3.501000e+09</td>\n      <td>7.144939</td>\n      <td>5.121278</td>\n      <td>26.871554</td>\n    </tr>\n    <tr>\n      <th>3</th>\n      <td>105</td>\n      <td>1978</td>\n      <td>2.569700e+08</td>\n      <td>9.706191</td>\n      <td>12.028730</td>\n      <td>27.230654</td>\n    </tr>\n    <tr>\n      <th>4</th>\n      <td>92</td>\n      <td>1987</td>\n      <td>2.826000e+09</td>\n      <td>3.014808</td>\n      <td>-0.325004</td>\n      <td>32.418633</td>\n    </tr>\n  </tbody>\n</table>\n</div>"
          },
          "metadata": {}
        }
      ]
    },
    {
      "metadata": {
        "trusted": true,
        "_uuid": "7917f3f759b41b1047d4af951940ee1645ea9d82"
      },
      "cell_type": "code",
      "source": "df_test.isnull().sum()",
      "execution_count": 53,
      "outputs": [
        {
          "output_type": "execute_result",
          "execution_count": 53,
          "data": {
            "text/plain": "CountryId    0\nYear         0\nExports      0\nInflation    0\nGDP          0\nTrade        0\ndtype: int64"
          },
          "metadata": {}
        }
      ]
    },
    {
      "metadata": {
        "trusted": true,
        "_uuid": "3ace8dc1774a5d15aa871b6c71735473f9cee58c"
      },
      "cell_type": "code",
      "source": "df_test.values.shape",
      "execution_count": 55,
      "outputs": [
        {
          "output_type": "execute_result",
          "execution_count": 55,
          "data": {
            "text/plain": "(1071, 6)"
          },
          "metadata": {}
        }
      ]
    },
    {
      "metadata": {
        "trusted": true,
        "_uuid": "f90ec69b60b0811a7fd5941da3f026d060239a2d"
      },
      "cell_type": "code",
      "source": "X_test = df_test.values\nX_test = scaler.fit_transform(X_test)",
      "execution_count": 57,
      "outputs": []
    },
    {
      "metadata": {
        "trusted": true,
        "_uuid": "2c9b4bf2c6abf6b61a0678cd0bc1a0c51e187a35"
      },
      "cell_type": "code",
      "source": "balance = clf.predict(X_test)\n\ndf_out = pd.read_csv('../input/final_test_data.csv',index_col=False)\n\ndf_out = df_out[['Country Name','Country Code','Year','Inflation','GDP','Exports','Trade']]\n\ndf_out['Balance']=balance\n\ndf_out = df_out[['Country Name','Country Code','Year','Balance','Inflation','GDP','Exports','Trade']]\ndf_out.head()\n\ndf_out.to_csv('GD_Submission_01022019.csv',index=False)",
      "execution_count": 75,
      "outputs": []
    },
    {
      "metadata": {
        "trusted": true,
        "_uuid": "739e3f30e061b38d2c962d43700dbacf2d36ad3d"
      },
      "cell_type": "code",
      "source": "balance_ab = clf_ab.predict(X_test)\n\ndf_out = pd.read_csv('../input/final_test_data.csv',index_col=False)\n\ndf_out = df_out[['Country Name','Country Code','Year','Inflation','GDP','Exports','Trade']]\n\ndf_out['Balance']=balance_ab\n\ndf_out = df_out[['Country Name','Country Code','Year','Balance','Inflation','GDP','Exports','Trade']]\ndf_out.head()\n\ndf_out.to_csv('AB_Submission_01022019.csv',index=False)",
      "execution_count": null,
      "outputs": []
    },
    {
      "metadata": {
        "trusted": true,
        "_uuid": "b15ea6d080aa57463fd3196de1e814d4e4566414"
      },
      "cell_type": "code",
      "source": "",
      "execution_count": null,
      "outputs": []
    },
    {
      "metadata": {
        "trusted": true,
        "_uuid": "f9bc51f147421fec426d067c058c87c1449a0f3f"
      },
      "cell_type": "code",
      "source": "",
      "execution_count": null,
      "outputs": []
    },
    {
      "metadata": {
        "trusted": true,
        "_uuid": "ec3ecd9ac9cf0782a8c1ed35bbacb1e04ab26ff0"
      },
      "cell_type": "code",
      "source": "",
      "execution_count": null,
      "outputs": []
    },
    {
      "metadata": {
        "trusted": true,
        "_uuid": "5e46b8210a2d154861ee521b56e7c6d4f34d7ca8"
      },
      "cell_type": "code",
      "source": "",
      "execution_count": null,
      "outputs": []
    },
    {
      "metadata": {
        "trusted": true,
        "_uuid": "13b1365a87fd8f12f3dd0e16d4afc9c63b98cdda"
      },
      "cell_type": "code",
      "source": "",
      "execution_count": null,
      "outputs": []
    },
    {
      "metadata": {
        "trusted": true,
        "_uuid": "8d2b79f522f534e1b1606ee002628e0fa31f5c9b"
      },
      "cell_type": "code",
      "source": "",
      "execution_count": null,
      "outputs": []
    },
    {
      "metadata": {
        "trusted": true,
        "_uuid": "972d1e2903866ee0d513a68c2358688695b256d2"
      },
      "cell_type": "code",
      "source": "\n",
      "execution_count": null,
      "outputs": []
    }
  ],
  "metadata": {
    "colab": {
      "name": "MachineHack_MLDS.ipynb",
      "version": "0.3.2",
      "provenance": [],
      "collapsed_sections": []
    },
    "kernelspec": {
      "display_name": "Python 3",
      "language": "python",
      "name": "python3"
    },
    "accelerator": "GPU",
    "language_info": {
      "name": "python",
      "version": "3.6.6",
      "mimetype": "text/x-python",
      "codemirror_mode": {
        "name": "ipython",
        "version": 3
      },
      "pygments_lexer": "ipython3",
      "nbconvert_exporter": "python",
      "file_extension": ".py"
    }
  },
  "nbformat": 4,
  "nbformat_minor": 1
}