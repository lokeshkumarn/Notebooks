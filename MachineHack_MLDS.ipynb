{
  "nbformat": 4,
  "nbformat_minor": 0,
  "metadata": {
    "colab": {
      "name": "MachineHack_MLDS.ipynb",
      "version": "0.3.2",
      "provenance": [],
      "collapsed_sections": [],
      "include_colab_link": true
    },
    "kernelspec": {
      "name": "python3",
      "display_name": "Python 3"
    }
  },
  "cells": [
    {
      "cell_type": "markdown",
      "metadata": {
        "id": "view-in-github",
        "colab_type": "text"
      },
      "source": [
        "<a href=\"https://colab.research.google.com/github/lokeshkumarn/Notebooks/blob/master/MachineHack_MLDS.ipynb\" target=\"_parent\"><img src=\"https://colab.research.google.com/assets/colab-badge.svg\" alt=\"Open In Colab\"/></a>"
      ]
    },
    {
      "metadata": {
        "id": "6yBUHDlOcY-O",
        "colab_type": "code",
        "colab": {}
      },
      "cell_type": "code",
      "source": [
        "import numpy as np\n",
        "import pandas as pd\n",
        "\n",
        "from matplotlib import pyplot as plt"
      ],
      "execution_count": 0,
      "outputs": []
    },
    {
      "metadata": {
        "id": "gaYIpyI5cfKU",
        "colab_type": "code",
        "colab": {}
      },
      "cell_type": "code",
      "source": [
        "df_train = pd.read_csv('final_train_data.csv')\n",
        "df_test = pd.read_csv('final_test_data.csv')"
      ],
      "execution_count": 0,
      "outputs": []
    },
    {
      "metadata": {
        "id": "FKjg-5OJdnQm",
        "colab_type": "code",
        "colab": {
          "base_uri": "https://localhost:8080/",
          "height": 198
        },
        "outputId": "93984a08-2d5d-4ac1-f97b-0b62131dff0f"
      },
      "cell_type": "code",
      "source": [
        "df_train.head()"
      ],
      "execution_count": 8,
      "outputs": [
        {
          "output_type": "execute_result",
          "data": {
            "text/html": [
              "<div>\n",
              "<style scoped>\n",
              "    .dataframe tbody tr th:only-of-type {\n",
              "        vertical-align: middle;\n",
              "    }\n",
              "\n",
              "    .dataframe tbody tr th {\n",
              "        vertical-align: top;\n",
              "    }\n",
              "\n",
              "    .dataframe thead th {\n",
              "        text-align: right;\n",
              "    }\n",
              "</style>\n",
              "<table border=\"1\" class=\"dataframe\">\n",
              "  <thead>\n",
              "    <tr style=\"text-align: right;\">\n",
              "      <th></th>\n",
              "      <th>Country Name</th>\n",
              "      <th>Country Code</th>\n",
              "      <th>Year</th>\n",
              "      <th>Balance</th>\n",
              "      <th>Inflation</th>\n",
              "      <th>GDP</th>\n",
              "      <th>Exports</th>\n",
              "      <th>Trade</th>\n",
              "    </tr>\n",
              "  </thead>\n",
              "  <tbody>\n",
              "    <tr>\n",
              "      <th>0</th>\n",
              "      <td>Senegal</td>\n",
              "      <td>SEN</td>\n",
              "      <td>1983</td>\n",
              "      <td>-3.043829e+08</td>\n",
              "      <td>9.274213</td>\n",
              "      <td>-5.326393</td>\n",
              "      <td>6.180000e+08</td>\n",
              "      <td>59.224298</td>\n",
              "    </tr>\n",
              "    <tr>\n",
              "      <th>1</th>\n",
              "      <td>Togo</td>\n",
              "      <td>TGO</td>\n",
              "      <td>2009</td>\n",
              "      <td>-1.766692e+08</td>\n",
              "      <td>1.855275</td>\n",
              "      <td>3.510297</td>\n",
              "      <td>9.030260e+08</td>\n",
              "      <td>76.242542</td>\n",
              "    </tr>\n",
              "    <tr>\n",
              "      <th>2</th>\n",
              "      <td>Pakistan</td>\n",
              "      <td>PAK</td>\n",
              "      <td>1992</td>\n",
              "      <td>-1.876092e+09</td>\n",
              "      <td>10.057085</td>\n",
              "      <td>7.705898</td>\n",
              "      <td>7.351000e+09</td>\n",
              "      <td>34.489440</td>\n",
              "    </tr>\n",
              "    <tr>\n",
              "      <th>3</th>\n",
              "      <td>Nepal</td>\n",
              "      <td>NPL</td>\n",
              "      <td>1988</td>\n",
              "      <td>-2.714506e+08</td>\n",
              "      <td>11.815310</td>\n",
              "      <td>7.696809</td>\n",
              "      <td>1.900000e+08</td>\n",
              "      <td>24.978422</td>\n",
              "    </tr>\n",
              "    <tr>\n",
              "      <th>4</th>\n",
              "      <td>Malta</td>\n",
              "      <td>MLT</td>\n",
              "      <td>2016</td>\n",
              "      <td>7.269132e+08</td>\n",
              "      <td>1.604548</td>\n",
              "      <td>5.516617</td>\n",
              "      <td>3.017299e+09</td>\n",
              "      <td>83.781471</td>\n",
              "    </tr>\n",
              "  </tbody>\n",
              "</table>\n",
              "</div>"
            ],
            "text/plain": [
              "  Country Name Country Code  Year       Balance  Inflation       GDP  \\\n",
              "0      Senegal          SEN  1983 -3.043829e+08   9.274213 -5.326393   \n",
              "1         Togo          TGO  2009 -1.766692e+08   1.855275  3.510297   \n",
              "2     Pakistan          PAK  1992 -1.876092e+09  10.057085  7.705898   \n",
              "3        Nepal          NPL  1988 -2.714506e+08  11.815310  7.696809   \n",
              "4        Malta          MLT  2016  7.269132e+08   1.604548  5.516617   \n",
              "\n",
              "        Exports      Trade  \n",
              "0  6.180000e+08  59.224298  \n",
              "1  9.030260e+08  76.242542  \n",
              "2  7.351000e+09  34.489440  \n",
              "3  1.900000e+08  24.978422  \n",
              "4  3.017299e+09  83.781471  "
            ]
          },
          "metadata": {
            "tags": []
          },
          "execution_count": 8
        }
      ]
    },
    {
      "metadata": {
        "id": "Um0oqTxtdqbo",
        "colab_type": "code",
        "colab": {
          "base_uri": "https://localhost:8080/",
          "height": 254
        },
        "outputId": "b1d25ad7-1bc6-4eb3-f733-e106ae0597fb"
      },
      "cell_type": "code",
      "source": [
        "df_train.info()"
      ],
      "execution_count": 29,
      "outputs": [
        {
          "output_type": "stream",
          "text": [
            "<class 'pandas.core.frame.DataFrame'>\n",
            "RangeIndex: 4506 entries, 0 to 4505\n",
            "Data columns (total 8 columns):\n",
            "Country Name    4506 non-null object\n",
            "Country Code    4506 non-null object\n",
            "Year            4506 non-null int64\n",
            "Balance         4506 non-null float64\n",
            "Inflation       4261 non-null float64\n",
            "GDP             4262 non-null float64\n",
            "Exports         4490 non-null float64\n",
            "Trade           4304 non-null float64\n",
            "dtypes: float64(5), int64(1), object(2)\n",
            "memory usage: 281.7+ KB\n"
          ],
          "name": "stdout"
        }
      ]
    },
    {
      "metadata": {
        "id": "1T9VLlD7nmUW",
        "colab_type": "code",
        "colab": {
          "base_uri": "https://localhost:8080/",
          "height": 35
        },
        "outputId": "258f4ce9-213a-499a-a248-0d89ed224068"
      },
      "cell_type": "code",
      "source": [
        "len(df_train['Country Name'].unique())"
      ],
      "execution_count": 35,
      "outputs": [
        {
          "output_type": "execute_result",
          "data": {
            "text/plain": [
              "150"
            ]
          },
          "metadata": {
            "tags": []
          },
          "execution_count": 35
        }
      ]
    },
    {
      "metadata": {
        "id": "k5PPzpZznNSt",
        "colab_type": "code",
        "colab": {
          "base_uri": "https://localhost:8080/",
          "height": 603
        },
        "outputId": "56dbf167-3e26-4c64-d614-2793836a301f"
      },
      "cell_type": "code",
      "source": [
        "df_train['Country Name'].value_counts()[:50].plot(kind='bar',figsize=(20,8))"
      ],
      "execution_count": 37,
      "outputs": [
        {
          "output_type": "execute_result",
          "data": {
            "text/plain": [
              "<matplotlib.axes._subplots.AxesSubplot at 0x7f99d6ddd9e8>"
            ]
          },
          "metadata": {
            "tags": []
          },
          "execution_count": 37
        },
        {
          "output_type": "display_data",
          "data": {
            "image/png": "[encoded data removed]",
            "text/plain": [
              "<Figure size 1440x576 with 1 Axes>"
            ]
          },
          "metadata": {
            "tags": []
          }
        }
      ]
    },
    {
      "metadata": {
        "id": "TCqGxgiRnUbZ",
        "colab_type": "code",
        "colab": {
          "base_uri": "https://localhost:8080/",
          "height": 433
        },
        "outputId": "cdd585a1-8aeb-4ed4-a54e-d6996745cc0f"
      },
      "cell_type": "code",
      "source": [
        "print('Mean balance:',df_train['Balance'].mean())\n",
        "print('Median balance:',df_train['Balance'].median())\n",
        "print('STD balance:',df_train['Balance'].std())\n",
        "df_train['Balance'].plot(kind='hist')"
      ],
      "execution_count": 59,
      "outputs": [
        {
          "output_type": "stream",
          "text": [
            "Mean balance: -513203070.70703393\n",
            "Median balance: -160328728.3\n",
            "STD balance: 35610068572.69368\n"
          ],
          "name": "stdout"
        },
        {
          "output_type": "execute_result",
          "data": {
            "text/plain": [
              "<matplotlib.axes._subplots.AxesSubplot at 0x7f99d6691048>"
            ]
          },
          "metadata": {
            "tags": []
          },
          "execution_count": 59
        },
        {
          "output_type": "display_data",
          "data": {
            "image/png": "[encoded data removed]",
            "text/plain": [
              "<Figure size 576x396 with 1 Axes>"
            ]
          },
          "metadata": {
            "tags": []
          }
        }
      ]
    },
    {
      "metadata": {
        "id": "7FU0dAzTpllO",
        "colab_type": "code",
        "colab": {
          "base_uri": "https://localhost:8080/",
          "height": 420
        },
        "outputId": "ec75f930-9a91-4ce5-df75-797ed5ce5ff3"
      },
      "cell_type": "code",
      "source": [
        "print('Mean Inflation:',df_train['Inflation'].mean())\n",
        "print('Median Inflation:',df_train['Inflation'].median())\n",
        "print('STD Inflation:',df_train['Inflation'].std())\n",
        "df_train['Inflation'].plot(kind='hist')"
      ],
      "execution_count": 57,
      "outputs": [
        {
          "output_type": "stream",
          "text": [
            "Mean Inflation: 31.61346420512509\n",
            "Median Inflation: 6.184351239\n",
            "STD Inflation: 353.8179652622975\n"
          ],
          "name": "stdout"
        },
        {
          "output_type": "execute_result",
          "data": {
            "text/plain": [
              "<matplotlib.axes._subplots.AxesSubplot at 0x7f99d6715d68>"
            ]
          },
          "metadata": {
            "tags": []
          },
          "execution_count": 57
        },
        {
          "output_type": "display_data",
          "data": {
            "image/png": "[encoded data removed]",
            "text/plain": [
              "<Figure size 576x396 with 1 Axes>"
            ]
          },
          "metadata": {
            "tags": []
          }
        }
      ]
    },
    {
      "metadata": {
        "id": "oXUmWuXcqFce",
        "colab_type": "code",
        "colab": {
          "base_uri": "https://localhost:8080/",
          "height": 420
        },
        "outputId": "6075a0f6-03af-4d68-991a-c30604a3c272"
      },
      "cell_type": "code",
      "source": [
        "print('Mean GDP:',df_train['GDP'].mean())\n",
        "print('Median GDP:',df_train['GDP'].median())\n",
        "print('STD GDP:',df_train['GDP'].std())\n",
        "df_train['GDP'].plot(kind='hist')"
      ],
      "execution_count": 60,
      "outputs": [
        {
          "output_type": "stream",
          "text": [
            "Mean GDP: 3.6412244918801027\n",
            "Median GDP: 3.799969259\n",
            "STD GDP: 4.850977550143861\n"
          ],
          "name": "stdout"
        },
        {
          "output_type": "execute_result",
          "data": {
            "text/plain": [
              "<matplotlib.axes._subplots.AxesSubplot at 0x7f99d659e630>"
            ]
          },
          "metadata": {
            "tags": []
          },
          "execution_count": 60
        },
        {
          "output_type": "display_data",
          "data": {
            "image/png": "[encoded data removed]",
            "text/plain": [
              "<Figure size 576x396 with 1 Axes>"
            ]
          },
          "metadata": {
            "tags": []
          }
        }
      ]
    },
    {
      "metadata": {
        "id": "ODU9ljd_ra_y",
        "colab_type": "text"
      },
      "cell_type": "markdown",
      "source": [
        "Label Encoding"
      ]
    },
    {
      "metadata": {
        "id": "eHFVUypAriCV",
        "colab_type": "code",
        "colab": {}
      },
      "cell_type": "code",
      "source": [
        "from sklearn.preprocessing import LabelEncoder"
      ],
      "execution_count": 0,
      "outputs": []
    },
    {
      "metadata": {
        "id": "_Q15Bvv6rd8A",
        "colab_type": "code",
        "colab": {
          "base_uri": "https://localhost:8080/",
          "height": 35
        },
        "outputId": "14bd3e63-c7a9-4fc3-d9c1-56ccedcf1112"
      },
      "cell_type": "code",
      "source": [
        "country_name_encoder = LabelEncoder()\n",
        "country_name_encoder.fit(df_train['Country Name'])"
      ],
      "execution_count": 69,
      "outputs": [
        {
          "output_type": "execute_result",
          "data": {
            "text/plain": [
              "LabelEncoder()"
            ]
          },
          "metadata": {
            "tags": []
          },
          "execution_count": 69
        }
      ]
    },
    {
      "metadata": {
        "id": "FnLJEFslr8Pk",
        "colab_type": "code",
        "colab": {
          "base_uri": "https://localhost:8080/",
          "height": 35
        },
        "outputId": "70f2dc09-f1ed-4005-bff7-c3650d35a867"
      },
      "cell_type": "code",
      "source": [
        "country_name_encoder.transform(df_train['Country Name'])"
      ],
      "execution_count": 70,
      "outputs": [
        {
          "output_type": "execute_result",
          "data": {
            "text/plain": [
              "array([115, 135, 102, ..., 112,  52,  94])"
            ]
          },
          "metadata": {
            "tags": []
          },
          "execution_count": 70
        }
      ]
    },
    {
      "metadata": {
        "id": "pvoKqB7_r9Yu",
        "colab_type": "code",
        "colab": {
          "base_uri": "https://localhost:8080/",
          "height": 35
        },
        "outputId": "aaf69b9b-ee08-436a-f30b-9341ea015724"
      },
      "cell_type": "code",
      "source": [
        "len(country_name_encoder.transform(df_train['Country Name']))"
      ],
      "execution_count": 71,
      "outputs": [
        {
          "output_type": "execute_result",
          "data": {
            "text/plain": [
              "4506"
            ]
          },
          "metadata": {
            "tags": []
          },
          "execution_count": 71
        }
      ]
    },
    {
      "metadata": {
        "id": "3JK0ErZNrwPE",
        "colab_type": "code",
        "colab": {}
      },
      "cell_type": "code",
      "source": [
        "df_train['CountryId'] = country_name_encoder.transform(df_train['Country Name'])"
      ],
      "execution_count": 0,
      "outputs": []
    },
    {
      "metadata": {
        "id": "X_JCm6hTr1CN",
        "colab_type": "code",
        "colab": {}
      },
      "cell_type": "code",
      "source": [
        "df_train = df_train[['CountryId','Year','Exports','Inflation','GDP','Trade','Balance']]"
      ],
      "execution_count": 0,
      "outputs": []
    },
    {
      "metadata": {
        "id": "umZVL0BFsWFK",
        "colab_type": "code",
        "colab": {}
      },
      "cell_type": "code",
      "source": [
        "df_train = df_train.sort_values(by=['CountryId','Year']).reset_index(drop=True)"
      ],
      "execution_count": 0,
      "outputs": []
    },
    {
      "metadata": {
        "id": "0fVeMl0QruMK",
        "colab_type": "code",
        "colab": {
          "base_uri": "https://localhost:8080/",
          "height": 678
        },
        "outputId": "f87fd71f-54df-40fb-f34f-578e3a10256c"
      },
      "cell_type": "code",
      "source": [
        "df_train[df_train['CountryId']==0]"
      ],
      "execution_count": 85,
      "outputs": [
        {
          "output_type": "execute_result",
          "data": {
            "text/html": [
              "<div>\n",
              "<style scoped>\n",
              "    .dataframe tbody tr th:only-of-type {\n",
              "        vertical-align: middle;\n",
              "    }\n",
              "\n",
              "    .dataframe tbody tr th {\n",
              "        vertical-align: top;\n",
              "    }\n",
              "\n",
              "    .dataframe thead th {\n",
              "        text-align: right;\n",
              "    }\n",
              "</style>\n",
              "<table border=\"1\" class=\"dataframe\">\n",
              "  <thead>\n",
              "    <tr style=\"text-align: right;\">\n",
              "      <th></th>\n",
              "      <th>CountryId</th>\n",
              "      <th>Year</th>\n",
              "      <th>Exports</th>\n",
              "      <th>Inflation</th>\n",
              "      <th>GDP</th>\n",
              "      <th>Trade</th>\n",
              "      <th>Balance</th>\n",
              "    </tr>\n",
              "  </thead>\n",
              "  <tbody>\n",
              "    <tr>\n",
              "      <th>0</th>\n",
              "      <td>0</td>\n",
              "      <td>1981</td>\n",
              "      <td>NaN</td>\n",
              "      <td>-2.177360</td>\n",
              "      <td>5.745635</td>\n",
              "      <td>NaN</td>\n",
              "      <td>4.500000e+07</td>\n",
              "    </tr>\n",
              "    <tr>\n",
              "      <th>1</th>\n",
              "      <td>0</td>\n",
              "      <td>1982</td>\n",
              "      <td>NaN</td>\n",
              "      <td>-0.017694</td>\n",
              "      <td>2.948597</td>\n",
              "      <td>NaN</td>\n",
              "      <td>-6.680000e+07</td>\n",
              "    </tr>\n",
              "    <tr>\n",
              "      <th>2</th>\n",
              "      <td>0</td>\n",
              "      <td>1983</td>\n",
              "      <td>NaN</td>\n",
              "      <td>-0.016747</td>\n",
              "      <td>1.104938</td>\n",
              "      <td>NaN</td>\n",
              "      <td>-3.830000e+07</td>\n",
              "    </tr>\n",
              "    <tr>\n",
              "      <th>3</th>\n",
              "      <td>0</td>\n",
              "      <td>1984</td>\n",
              "      <td>NaN</td>\n",
              "      <td>-0.028354</td>\n",
              "      <td>-1.251597</td>\n",
              "      <td>NaN</td>\n",
              "      <td>-2.810000e+07</td>\n",
              "    </tr>\n",
              "    <tr>\n",
              "      <th>4</th>\n",
              "      <td>0</td>\n",
              "      <td>1985</td>\n",
              "      <td>NaN</td>\n",
              "      <td>0.351198</td>\n",
              "      <td>1.780644</td>\n",
              "      <td>NaN</td>\n",
              "      <td>-3.640000e+07</td>\n",
              "    </tr>\n",
              "    <tr>\n",
              "      <th>5</th>\n",
              "      <td>0</td>\n",
              "      <td>1986</td>\n",
              "      <td>NaN</td>\n",
              "      <td>-2.378001</td>\n",
              "      <td>5.637243</td>\n",
              "      <td>NaN</td>\n",
              "      <td>-3.200000e+06</td>\n",
              "    </tr>\n",
              "    <tr>\n",
              "      <th>6</th>\n",
              "      <td>0</td>\n",
              "      <td>1987</td>\n",
              "      <td>NaN</td>\n",
              "      <td>0.000029</td>\n",
              "      <td>-0.787843</td>\n",
              "      <td>NaN</td>\n",
              "      <td>5.200000e+06</td>\n",
              "    </tr>\n",
              "    <tr>\n",
              "      <th>7</th>\n",
              "      <td>0</td>\n",
              "      <td>1988</td>\n",
              "      <td>NaN</td>\n",
              "      <td>0.000001</td>\n",
              "      <td>-1.420040</td>\n",
              "      <td>NaN</td>\n",
              "      <td>-2.710000e+07</td>\n",
              "    </tr>\n",
              "    <tr>\n",
              "      <th>8</th>\n",
              "      <td>0</td>\n",
              "      <td>1990</td>\n",
              "      <td>2.300000e+08</td>\n",
              "      <td>-0.468707</td>\n",
              "      <td>-9.575640</td>\n",
              "      <td>29.025160</td>\n",
              "      <td>-1.183000e+08</td>\n",
              "    </tr>\n",
              "    <tr>\n",
              "      <th>9</th>\n",
              "      <td>0</td>\n",
              "      <td>1995</td>\n",
              "      <td>2.020000e+08</td>\n",
              "      <td>5.573307</td>\n",
              "      <td>13.300000</td>\n",
              "      <td>37.760378</td>\n",
              "      <td>-1.150000e+07</td>\n",
              "    </tr>\n",
              "    <tr>\n",
              "      <th>10</th>\n",
              "      <td>0</td>\n",
              "      <td>1997</td>\n",
              "      <td>1.390000e+08</td>\n",
              "      <td>12.088706</td>\n",
              "      <td>-10.837856</td>\n",
              "      <td>33.271705</td>\n",
              "      <td>-2.722325e+08</td>\n",
              "    </tr>\n",
              "    <tr>\n",
              "      <th>11</th>\n",
              "      <td>0</td>\n",
              "      <td>1999</td>\n",
              "      <td>3.511200e+08</td>\n",
              "      <td>1.533331</td>\n",
              "      <td>13.501173</td>\n",
              "      <td>44.085370</td>\n",
              "      <td>-1.554000e+08</td>\n",
              "    </tr>\n",
              "    <tr>\n",
              "      <th>12</th>\n",
              "      <td>0</td>\n",
              "      <td>2000</td>\n",
              "      <td>2.579300e+08</td>\n",
              "      <td>3.981288</td>\n",
              "      <td>6.666620</td>\n",
              "      <td>37.112161</td>\n",
              "      <td>-1.563000e+08</td>\n",
              "    </tr>\n",
              "    <tr>\n",
              "      <th>13</th>\n",
              "      <td>0</td>\n",
              "      <td>2001</td>\n",
              "      <td>3.071900e+08</td>\n",
              "      <td>3.328851</td>\n",
              "      <td>7.940331</td>\n",
              "      <td>40.241494</td>\n",
              "      <td>-2.174000e+08</td>\n",
              "    </tr>\n",
              "    <tr>\n",
              "      <th>14</th>\n",
              "      <td>0</td>\n",
              "      <td>2002</td>\n",
              "      <td>3.395500e+08</td>\n",
              "      <td>2.410590</td>\n",
              "      <td>4.231371</td>\n",
              "      <td>41.561157</td>\n",
              "      <td>-4.075200e+08</td>\n",
              "    </tr>\n",
              "    <tr>\n",
              "      <th>15</th>\n",
              "      <td>0</td>\n",
              "      <td>2006</td>\n",
              "      <td>7.980000e+08</td>\n",
              "      <td>2.696049</td>\n",
              "      <td>5.431013</td>\n",
              "      <td>42.879499</td>\n",
              "      <td>-6.709043e+08</td>\n",
              "    </tr>\n",
              "    <tr>\n",
              "      <th>16</th>\n",
              "      <td>0</td>\n",
              "      <td>2008</td>\n",
              "      <td>1.354830e+09</td>\n",
              "      <td>7.630325</td>\n",
              "      <td>3.760854</td>\n",
              "      <td>51.279009</td>\n",
              "      <td>-2.018682e+09</td>\n",
              "    </tr>\n",
              "    <tr>\n",
              "      <th>17</th>\n",
              "      <td>0</td>\n",
              "      <td>2009</td>\n",
              "      <td>1.090600e+09</td>\n",
              "      <td>2.420047</td>\n",
              "      <td>3.352610</td>\n",
              "      <td>46.832699</td>\n",
              "      <td>-1.849619e+09</td>\n",
              "    </tr>\n",
              "    <tr>\n",
              "      <th>18</th>\n",
              "      <td>0</td>\n",
              "      <td>2010</td>\n",
              "      <td>1.544613e+09</td>\n",
              "      <td>4.489923</td>\n",
              "      <td>3.710058</td>\n",
              "      <td>49.891644</td>\n",
              "      <td>-1.353542e+09</td>\n",
              "    </tr>\n",
              "    <tr>\n",
              "      <th>19</th>\n",
              "      <td>0</td>\n",
              "      <td>2011</td>\n",
              "      <td>1.951044e+09</td>\n",
              "      <td>2.310041</td>\n",
              "      <td>2.550161</td>\n",
              "      <td>56.991471</td>\n",
              "      <td>-1.668842e+09</td>\n",
              "    </tr>\n",
              "    <tr>\n",
              "      <th>20</th>\n",
              "      <td>0</td>\n",
              "      <td>2015</td>\n",
              "      <td>1.929553e+09</td>\n",
              "      <td>0.100031</td>\n",
              "      <td>2.226581</td>\n",
              "      <td>55.137233</td>\n",
              "      <td>-9.781259e+08</td>\n",
              "    </tr>\n",
              "  </tbody>\n",
              "</table>\n",
              "</div>"
            ],
            "text/plain": [
              "    CountryId  Year       Exports  Inflation        GDP      Trade  \\\n",
              "0           0  1981           NaN  -2.177360   5.745635        NaN   \n",
              "1           0  1982           NaN  -0.017694   2.948597        NaN   \n",
              "2           0  1983           NaN  -0.016747   1.104938        NaN   \n",
              "3           0  1984           NaN  -0.028354  -1.251597        NaN   \n",
              "4           0  1985           NaN   0.351198   1.780644        NaN   \n",
              "5           0  1986           NaN  -2.378001   5.637243        NaN   \n",
              "6           0  1987           NaN   0.000029  -0.787843        NaN   \n",
              "7           0  1988           NaN   0.000001  -1.420040        NaN   \n",
              "8           0  1990  2.300000e+08  -0.468707  -9.575640  29.025160   \n",
              "9           0  1995  2.020000e+08   5.573307  13.300000  37.760378   \n",
              "10          0  1997  1.390000e+08  12.088706 -10.837856  33.271705   \n",
              "11          0  1999  3.511200e+08   1.533331  13.501173  44.085370   \n",
              "12          0  2000  2.579300e+08   3.981288   6.666620  37.112161   \n",
              "13          0  2001  3.071900e+08   3.328851   7.940331  40.241494   \n",
              "14          0  2002  3.395500e+08   2.410590   4.231371  41.561157   \n",
              "15          0  2006  7.980000e+08   2.696049   5.431013  42.879499   \n",
              "16          0  2008  1.354830e+09   7.630325   3.760854  51.279009   \n",
              "17          0  2009  1.090600e+09   2.420047   3.352610  46.832699   \n",
              "18          0  2010  1.544613e+09   4.489923   3.710058  49.891644   \n",
              "19          0  2011  1.951044e+09   2.310041   2.550161  56.991471   \n",
              "20          0  2015  1.929553e+09   0.100031   2.226581  55.137233   \n",
              "\n",
              "         Balance  \n",
              "0   4.500000e+07  \n",
              "1  -6.680000e+07  \n",
              "2  -3.830000e+07  \n",
              "3  -2.810000e+07  \n",
              "4  -3.640000e+07  \n",
              "5  -3.200000e+06  \n",
              "6   5.200000e+06  \n",
              "7  -2.710000e+07  \n",
              "8  -1.183000e+08  \n",
              "9  -1.150000e+07  \n",
              "10 -2.722325e+08  \n",
              "11 -1.554000e+08  \n",
              "12 -1.563000e+08  \n",
              "13 -2.174000e+08  \n",
              "14 -4.075200e+08  \n",
              "15 -6.709043e+08  \n",
              "16 -2.018682e+09  \n",
              "17 -1.849619e+09  \n",
              "18 -1.353542e+09  \n",
              "19 -1.668842e+09  \n",
              "20 -9.781259e+08  "
            ]
          },
          "metadata": {
            "tags": []
          },
          "execution_count": 85
        }
      ]
    },
    {
      "metadata": {
        "id": "RaYEuAP_t5Me",
        "colab_type": "code",
        "colab": {}
      },
      "cell_type": "code",
      "source": [
        ""
      ],
      "execution_count": 0,
      "outputs": []
    },
    {
      "metadata": {
        "id": "UdydBuiCgFGv",
        "colab_type": "text"
      },
      "cell_type": "markdown",
      "source": [
        "Impute the missing values"
      ]
    },
    {
      "metadata": {
        "id": "6zguC9GLgN3z",
        "colab_type": "code",
        "colab": {}
      },
      "cell_type": "code",
      "source": [
        "from sklearn.preprocessing import Imputer"
      ],
      "execution_count": 0,
      "outputs": []
    },
    {
      "metadata": {
        "id": "EQ_0uZKDfhp9",
        "colab_type": "code",
        "colab": {
          "base_uri": "https://localhost:8080/",
          "height": 199
        },
        "outputId": "35befb01-497e-462b-e717-05ba3661e523"
      },
      "cell_type": "code",
      "source": [
        "df_train.isnull().sum()"
      ],
      "execution_count": 68,
      "outputs": [
        {
          "output_type": "execute_result",
          "data": {
            "text/plain": [
              "Country Name      0\n",
              "Country Code      0\n",
              "Year              0\n",
              "Balance           0\n",
              "Inflation       245\n",
              "GDP             244\n",
              "Exports          16\n",
              "Trade           202\n",
              "CountryId         0\n",
              "dtype: int64"
            ]
          },
          "metadata": {
            "tags": []
          },
          "execution_count": 68
        }
      ]
    },
    {
      "metadata": {
        "id": "EJW5DpMZgosh",
        "colab_type": "code",
        "colab": {
          "base_uri": "https://localhost:8080/",
          "height": 817
        },
        "outputId": "e388e78a-8e25-41d8-aa0a-ab36d74be9fa"
      },
      "cell_type": "code",
      "source": [
        "df_train[df_train['Inflation'].isnull()]['Country Name'].value_counts()"
      ],
      "execution_count": 20,
      "outputs": [
        {
          "output_type": "execute_result",
          "data": {
            "text/plain": [
              "Libya                    23\n",
              "Maldives                 20\n",
              "Sao Tome and Principe    19\n",
              "Haiti                    19\n",
              "Romania                  15\n",
              "Aruba                    15\n",
              "Barbados                 14\n",
              "Poland                   12\n",
              "Solomon Islands          11\n",
              "Tanzania                 11\n",
              "Tonga                     9\n",
              "Hungary                   9\n",
              "Bahrain                   6\n",
              "Samoa                     6\n",
              "Ethiopia                  4\n",
              "Estonia                   4\n",
              "Lithuania                 3\n",
              "Syrian Arab Republic      3\n",
              "Croatia                   3\n",
              "Slovenia                  3\n",
              "Jordan                    3\n",
              "Latvia                    3\n",
              "Cabo Verde                3\n",
              "Cambodia                  2\n",
              "Switzerland               2\n",
              "Dominica                  2\n",
              "Kuwait                    2\n",
              "Moldova                   2\n",
              "Uganda                    2\n",
              "Venezuela, RB             2\n",
              "Bulgaria                  1\n",
              "Angola                    1\n",
              "Antigua and Barbuda       1\n",
              "Oman                      1\n",
              "Israel                    1\n",
              "Grenada                   1\n",
              "South Africa              1\n",
              "Djibouti                  1\n",
              "Mauritius                 1\n",
              "Comoros                   1\n",
              "Lao PDR                   1\n",
              "Guinea                    1\n",
              "Mongolia                  1\n",
              "Name: Country Name, dtype: int64"
            ]
          },
          "metadata": {
            "tags": []
          },
          "execution_count": 20
        }
      ]
    },
    {
      "metadata": {
        "id": "3LLPynZYg7sz",
        "colab_type": "code",
        "colab": {
          "base_uri": "https://localhost:8080/",
          "height": 1038
        },
        "outputId": "cdc49250-9b28-4c51-d8d7-2885456596a7"
      },
      "cell_type": "code",
      "source": [
        "df_train[df_train['Country Name']=='Libya'].sort_values(by=['Year'])"
      ],
      "execution_count": 22,
      "outputs": [
        {
          "output_type": "execute_result",
          "data": {
            "text/html": [
              "<div>\n",
              "<style scoped>\n",
              "    .dataframe tbody tr th:only-of-type {\n",
              "        vertical-align: middle;\n",
              "    }\n",
              "\n",
              "    .dataframe tbody tr th {\n",
              "        vertical-align: top;\n",
              "    }\n",
              "\n",
              "    .dataframe thead th {\n",
              "        text-align: right;\n",
              "    }\n",
              "</style>\n",
              "<table border=\"1\" class=\"dataframe\">\n",
              "  <thead>\n",
              "    <tr style=\"text-align: right;\">\n",
              "      <th></th>\n",
              "      <th>Country Name</th>\n",
              "      <th>Country Code</th>\n",
              "      <th>Year</th>\n",
              "      <th>Balance</th>\n",
              "      <th>Inflation</th>\n",
              "      <th>GDP</th>\n",
              "      <th>Exports</th>\n",
              "      <th>Trade</th>\n",
              "    </tr>\n",
              "  </thead>\n",
              "  <tbody>\n",
              "    <tr>\n",
              "      <th>41</th>\n",
              "      <td>Libya</td>\n",
              "      <td>LBY</td>\n",
              "      <td>1977</td>\n",
              "      <td>2.159087e+09</td>\n",
              "      <td>NaN</td>\n",
              "      <td>NaN</td>\n",
              "      <td>1.141090e+10</td>\n",
              "      <td>NaN</td>\n",
              "    </tr>\n",
              "    <tr>\n",
              "      <th>2629</th>\n",
              "      <td>Libya</td>\n",
              "      <td>LBY</td>\n",
              "      <td>1980</td>\n",
              "      <td>8.213794e+09</td>\n",
              "      <td>NaN</td>\n",
              "      <td>NaN</td>\n",
              "      <td>2.191000e+10</td>\n",
              "      <td>NaN</td>\n",
              "    </tr>\n",
              "    <tr>\n",
              "      <th>1735</th>\n",
              "      <td>Libya</td>\n",
              "      <td>LBY</td>\n",
              "      <td>1981</td>\n",
              "      <td>-3.963496e+09</td>\n",
              "      <td>NaN</td>\n",
              "      <td>NaN</td>\n",
              "      <td>1.557100e+10</td>\n",
              "      <td>NaN</td>\n",
              "    </tr>\n",
              "    <tr>\n",
              "      <th>1007</th>\n",
              "      <td>Libya</td>\n",
              "      <td>LBY</td>\n",
              "      <td>1982</td>\n",
              "      <td>-1.559518e+09</td>\n",
              "      <td>NaN</td>\n",
              "      <td>NaN</td>\n",
              "      <td>1.320300e+10</td>\n",
              "      <td>NaN</td>\n",
              "    </tr>\n",
              "    <tr>\n",
              "      <th>3959</th>\n",
              "      <td>Libya</td>\n",
              "      <td>LBY</td>\n",
              "      <td>1983</td>\n",
              "      <td>-1.643287e+09</td>\n",
              "      <td>NaN</td>\n",
              "      <td>NaN</td>\n",
              "      <td>1.221600e+10</td>\n",
              "      <td>NaN</td>\n",
              "    </tr>\n",
              "    <tr>\n",
              "      <th>3851</th>\n",
              "      <td>Libya</td>\n",
              "      <td>LBY</td>\n",
              "      <td>1984</td>\n",
              "      <td>-1.456496e+09</td>\n",
              "      <td>NaN</td>\n",
              "      <td>NaN</td>\n",
              "      <td>1.114800e+10</td>\n",
              "      <td>NaN</td>\n",
              "    </tr>\n",
              "    <tr>\n",
              "      <th>506</th>\n",
              "      <td>Libya</td>\n",
              "      <td>LBY</td>\n",
              "      <td>1985</td>\n",
              "      <td>1.906415e+09</td>\n",
              "      <td>NaN</td>\n",
              "      <td>NaN</td>\n",
              "      <td>1.231400e+10</td>\n",
              "      <td>NaN</td>\n",
              "    </tr>\n",
              "    <tr>\n",
              "      <th>3093</th>\n",
              "      <td>Libya</td>\n",
              "      <td>LBY</td>\n",
              "      <td>1986</td>\n",
              "      <td>-1.553603e+08</td>\n",
              "      <td>NaN</td>\n",
              "      <td>NaN</td>\n",
              "      <td>8.215000e+09</td>\n",
              "      <td>NaN</td>\n",
              "    </tr>\n",
              "    <tr>\n",
              "      <th>3659</th>\n",
              "      <td>Libya</td>\n",
              "      <td>LBY</td>\n",
              "      <td>1987</td>\n",
              "      <td>-1.035927e+09</td>\n",
              "      <td>NaN</td>\n",
              "      <td>NaN</td>\n",
              "      <td>8.043000e+09</td>\n",
              "      <td>NaN</td>\n",
              "    </tr>\n",
              "    <tr>\n",
              "      <th>2490</th>\n",
              "      <td>Libya</td>\n",
              "      <td>LBY</td>\n",
              "      <td>1988</td>\n",
              "      <td>-1.826318e+09</td>\n",
              "      <td>NaN</td>\n",
              "      <td>NaN</td>\n",
              "      <td>6.673000e+09</td>\n",
              "      <td>NaN</td>\n",
              "    </tr>\n",
              "    <tr>\n",
              "      <th>3709</th>\n",
              "      <td>Libya</td>\n",
              "      <td>LBY</td>\n",
              "      <td>1989</td>\n",
              "      <td>-1.026363e+09</td>\n",
              "      <td>NaN</td>\n",
              "      <td>NaN</td>\n",
              "      <td>8.034000e+09</td>\n",
              "      <td>NaN</td>\n",
              "    </tr>\n",
              "    <tr>\n",
              "      <th>2081</th>\n",
              "      <td>Libya</td>\n",
              "      <td>LBY</td>\n",
              "      <td>1990</td>\n",
              "      <td>2.201095e+09</td>\n",
              "      <td>NaN</td>\n",
              "      <td>NaN</td>\n",
              "      <td>1.322500e+10</td>\n",
              "      <td>64.220833</td>\n",
              "    </tr>\n",
              "    <tr>\n",
              "      <th>2223</th>\n",
              "      <td>Libya</td>\n",
              "      <td>LBY</td>\n",
              "      <td>1991</td>\n",
              "      <td>-2.190730e+08</td>\n",
              "      <td>NaN</td>\n",
              "      <td>NaN</td>\n",
              "      <td>1.123500e+10</td>\n",
              "      <td>51.870585</td>\n",
              "    </tr>\n",
              "    <tr>\n",
              "      <th>45</th>\n",
              "      <td>Libya</td>\n",
              "      <td>LBY</td>\n",
              "      <td>1992</td>\n",
              "      <td>1.407193e+09</td>\n",
              "      <td>NaN</td>\n",
              "      <td>NaN</td>\n",
              "      <td>9.942000e+09</td>\n",
              "      <td>44.587896</td>\n",
              "    </tr>\n",
              "    <tr>\n",
              "      <th>1254</th>\n",
              "      <td>Libya</td>\n",
              "      <td>LBY</td>\n",
              "      <td>1993</td>\n",
              "      <td>-1.365771e+09</td>\n",
              "      <td>NaN</td>\n",
              "      <td>NaN</td>\n",
              "      <td>8.590000e+09</td>\n",
              "      <td>46.126451</td>\n",
              "    </tr>\n",
              "    <tr>\n",
              "      <th>3073</th>\n",
              "      <td>Libya</td>\n",
              "      <td>LBY</td>\n",
              "      <td>1995</td>\n",
              "      <td>1.672147e+09</td>\n",
              "      <td>NaN</td>\n",
              "      <td>NaN</td>\n",
              "      <td>8.975000e+09</td>\n",
              "      <td>56.243846</td>\n",
              "    </tr>\n",
              "    <tr>\n",
              "      <th>2438</th>\n",
              "      <td>Libya</td>\n",
              "      <td>LBY</td>\n",
              "      <td>1996</td>\n",
              "      <td>1.237638e+09</td>\n",
              "      <td>NaN</td>\n",
              "      <td>NaN</td>\n",
              "      <td>9.903000e+09</td>\n",
              "      <td>56.576000</td>\n",
              "    </tr>\n",
              "    <tr>\n",
              "      <th>3906</th>\n",
              "      <td>Libya</td>\n",
              "      <td>LBY</td>\n",
              "      <td>1997</td>\n",
              "      <td>1.566616e+09</td>\n",
              "      <td>NaN</td>\n",
              "      <td>NaN</td>\n",
              "      <td>9.656000e+09</td>\n",
              "      <td>51.399683</td>\n",
              "    </tr>\n",
              "    <tr>\n",
              "      <th>2038</th>\n",
              "      <td>Libya</td>\n",
              "      <td>LBY</td>\n",
              "      <td>1998</td>\n",
              "      <td>-2.091646e+08</td>\n",
              "      <td>NaN</td>\n",
              "      <td>NaN</td>\n",
              "      <td>6.659000e+09</td>\n",
              "      <td>44.495762</td>\n",
              "    </tr>\n",
              "    <tr>\n",
              "      <th>215</th>\n",
              "      <td>Libya</td>\n",
              "      <td>LBY</td>\n",
              "      <td>1999</td>\n",
              "      <td>2.136000e+09</td>\n",
              "      <td>NaN</td>\n",
              "      <td>NaN</td>\n",
              "      <td>7.947000e+09</td>\n",
              "      <td>33.646764</td>\n",
              "    </tr>\n",
              "    <tr>\n",
              "      <th>642</th>\n",
              "      <td>Libya</td>\n",
              "      <td>LBY</td>\n",
              "      <td>2000</td>\n",
              "      <td>6.270000e+09</td>\n",
              "      <td>13.306925</td>\n",
              "      <td>3.679213</td>\n",
              "      <td>1.338000e+10</td>\n",
              "      <td>44.713633</td>\n",
              "    </tr>\n",
              "    <tr>\n",
              "      <th>4163</th>\n",
              "      <td>Libya</td>\n",
              "      <td>LBY</td>\n",
              "      <td>2001</td>\n",
              "      <td>3.332000e+09</td>\n",
              "      <td>7.184918</td>\n",
              "      <td>-1.762878</td>\n",
              "      <td>1.101400e+10</td>\n",
              "      <td>45.180214</td>\n",
              "    </tr>\n",
              "    <tr>\n",
              "      <th>3114</th>\n",
              "      <td>Libya</td>\n",
              "      <td>LBY</td>\n",
              "      <td>2003</td>\n",
              "      <td>3.402000e+09</td>\n",
              "      <td>14.362602</td>\n",
              "      <td>13.016001</td>\n",
              "      <td>1.464700e+10</td>\n",
              "      <td>72.250327</td>\n",
              "    </tr>\n",
              "    <tr>\n",
              "      <th>3342</th>\n",
              "      <td>Libya</td>\n",
              "      <td>LBY</td>\n",
              "      <td>2004</td>\n",
              "      <td>4.616000e+09</td>\n",
              "      <td>22.605353</td>\n",
              "      <td>4.461630</td>\n",
              "      <td>2.041000e+10</td>\n",
              "      <td>80.719013</td>\n",
              "    </tr>\n",
              "    <tr>\n",
              "      <th>2574</th>\n",
              "      <td>Libya</td>\n",
              "      <td>LBY</td>\n",
              "      <td>2006</td>\n",
              "      <td>2.217000e+10</td>\n",
              "      <td>9.460700</td>\n",
              "      <td>6.500547</td>\n",
              "      <td>4.026044e+10</td>\n",
              "      <td>84.241930</td>\n",
              "    </tr>\n",
              "    <tr>\n",
              "      <th>3340</th>\n",
              "      <td>Libya</td>\n",
              "      <td>LBY</td>\n",
              "      <td>2007</td>\n",
              "      <td>2.851030e+10</td>\n",
              "      <td>11.020170</td>\n",
              "      <td>6.352317</td>\n",
              "      <td>4.697000e+10</td>\n",
              "      <td>79.540921</td>\n",
              "    </tr>\n",
              "    <tr>\n",
              "      <th>312</th>\n",
              "      <td>Libya</td>\n",
              "      <td>LBY</td>\n",
              "      <td>2008</td>\n",
              "      <td>3.570170e+10</td>\n",
              "      <td>21.829555</td>\n",
              "      <td>2.667356</td>\n",
              "      <td>6.210000e+10</td>\n",
              "      <td>81.764244</td>\n",
              "    </tr>\n",
              "    <tr>\n",
              "      <th>4500</th>\n",
              "      <td>Libya</td>\n",
              "      <td>LBY</td>\n",
              "      <td>2009</td>\n",
              "      <td>9.380600e+09</td>\n",
              "      <td>-25.312796</td>\n",
              "      <td>-0.790142</td>\n",
              "      <td>3.695085e+10</td>\n",
              "      <td>79.028331</td>\n",
              "    </tr>\n",
              "    <tr>\n",
              "      <th>483</th>\n",
              "      <td>Libya</td>\n",
              "      <td>LBY</td>\n",
              "      <td>2010</td>\n",
              "      <td>1.680070e+10</td>\n",
              "      <td>14.161068</td>\n",
              "      <td>5.021290</td>\n",
              "      <td>4.867263e+10</td>\n",
              "      <td>88.730695</td>\n",
              "    </tr>\n",
              "    <tr>\n",
              "      <th>4472</th>\n",
              "      <td>Libya</td>\n",
              "      <td>LBY</td>\n",
              "      <td>2011</td>\n",
              "      <td>3.192400e+09</td>\n",
              "      <td>18.250717</td>\n",
              "      <td>-62.075920</td>\n",
              "      <td>1.899604e+10</td>\n",
              "      <td>77.799736</td>\n",
              "    </tr>\n",
              "    <tr>\n",
              "      <th>3211</th>\n",
              "      <td>Libya</td>\n",
              "      <td>LBY</td>\n",
              "      <td>2012</td>\n",
              "      <td>2.383630e+10</td>\n",
              "      <td>NaN</td>\n",
              "      <td>NaN</td>\n",
              "      <td>6.094590e+10</td>\n",
              "      <td>NaN</td>\n",
              "    </tr>\n",
              "    <tr>\n",
              "      <th>1438</th>\n",
              "      <td>Libya</td>\n",
              "      <td>LBY</td>\n",
              "      <td>2015</td>\n",
              "      <td>-9.346000e+09</td>\n",
              "      <td>NaN</td>\n",
              "      <td>NaN</td>\n",
              "      <td>1.020000e+10</td>\n",
              "      <td>NaN</td>\n",
              "    </tr>\n",
              "    <tr>\n",
              "      <th>3848</th>\n",
              "      <td>Libya</td>\n",
              "      <td>LBY</td>\n",
              "      <td>2016</td>\n",
              "      <td>-4.705200e+09</td>\n",
              "      <td>NaN</td>\n",
              "      <td>NaN</td>\n",
              "      <td>6.000000e+09</td>\n",
              "      <td>NaN</td>\n",
              "    </tr>\n",
              "  </tbody>\n",
              "</table>\n",
              "</div>"
            ],
            "text/plain": [
              "     Country Name Country Code  Year       Balance  Inflation        GDP  \\\n",
              "41          Libya          LBY  1977  2.159087e+09        NaN        NaN   \n",
              "2629        Libya          LBY  1980  8.213794e+09        NaN        NaN   \n",
              "1735        Libya          LBY  1981 -3.963496e+09        NaN        NaN   \n",
              "1007        Libya          LBY  1982 -1.559518e+09        NaN        NaN   \n",
              "3959        Libya          LBY  1983 -1.643287e+09        NaN        NaN   \n",
              "3851        Libya          LBY  1984 -1.456496e+09        NaN        NaN   \n",
              "506         Libya          LBY  1985  1.906415e+09        NaN        NaN   \n",
              "3093        Libya          LBY  1986 -1.553603e+08        NaN        NaN   \n",
              "3659        Libya          LBY  1987 -1.035927e+09        NaN        NaN   \n",
              "2490        Libya          LBY  1988 -1.826318e+09        NaN        NaN   \n",
              "3709        Libya          LBY  1989 -1.026363e+09        NaN        NaN   \n",
              "2081        Libya          LBY  1990  2.201095e+09        NaN        NaN   \n",
              "2223        Libya          LBY  1991 -2.190730e+08        NaN        NaN   \n",
              "45          Libya          LBY  1992  1.407193e+09        NaN        NaN   \n",
              "1254        Libya          LBY  1993 -1.365771e+09        NaN        NaN   \n",
              "3073        Libya          LBY  1995  1.672147e+09        NaN        NaN   \n",
              "2438        Libya          LBY  1996  1.237638e+09        NaN        NaN   \n",
              "3906        Libya          LBY  1997  1.566616e+09        NaN        NaN   \n",
              "2038        Libya          LBY  1998 -2.091646e+08        NaN        NaN   \n",
              "215         Libya          LBY  1999  2.136000e+09        NaN        NaN   \n",
              "642         Libya          LBY  2000  6.270000e+09  13.306925   3.679213   \n",
              "4163        Libya          LBY  2001  3.332000e+09   7.184918  -1.762878   \n",
              "3114        Libya          LBY  2003  3.402000e+09  14.362602  13.016001   \n",
              "3342        Libya          LBY  2004  4.616000e+09  22.605353   4.461630   \n",
              "2574        Libya          LBY  2006  2.217000e+10   9.460700   6.500547   \n",
              "3340        Libya          LBY  2007  2.851030e+10  11.020170   6.352317   \n",
              "312         Libya          LBY  2008  3.570170e+10  21.829555   2.667356   \n",
              "4500        Libya          LBY  2009  9.380600e+09 -25.312796  -0.790142   \n",
              "483         Libya          LBY  2010  1.680070e+10  14.161068   5.021290   \n",
              "4472        Libya          LBY  2011  3.192400e+09  18.250717 -62.075920   \n",
              "3211        Libya          LBY  2012  2.383630e+10        NaN        NaN   \n",
              "1438        Libya          LBY  2015 -9.346000e+09        NaN        NaN   \n",
              "3848        Libya          LBY  2016 -4.705200e+09        NaN        NaN   \n",
              "\n",
              "           Exports      Trade  \n",
              "41    1.141090e+10        NaN  \n",
              "2629  2.191000e+10        NaN  \n",
              "1735  1.557100e+10        NaN  \n",
              "1007  1.320300e+10        NaN  \n",
              "3959  1.221600e+10        NaN  \n",
              "3851  1.114800e+10        NaN  \n",
              "506   1.231400e+10        NaN  \n",
              "3093  8.215000e+09        NaN  \n",
              "3659  8.043000e+09        NaN  \n",
              "2490  6.673000e+09        NaN  \n",
              "3709  8.034000e+09        NaN  \n",
              "2081  1.322500e+10  64.220833  \n",
              "2223  1.123500e+10  51.870585  \n",
              "45    9.942000e+09  44.587896  \n",
              "1254  8.590000e+09  46.126451  \n",
              "3073  8.975000e+09  56.243846  \n",
              "2438  9.903000e+09  56.576000  \n",
              "3906  9.656000e+09  51.399683  \n",
              "2038  6.659000e+09  44.495762  \n",
              "215   7.947000e+09  33.646764  \n",
              "642   1.338000e+10  44.713633  \n",
              "4163  1.101400e+10  45.180214  \n",
              "3114  1.464700e+10  72.250327  \n",
              "3342  2.041000e+10  80.719013  \n",
              "2574  4.026044e+10  84.241930  \n",
              "3340  4.697000e+10  79.540921  \n",
              "312   6.210000e+10  81.764244  \n",
              "4500  3.695085e+10  79.028331  \n",
              "483   4.867263e+10  88.730695  \n",
              "4472  1.899604e+10  77.799736  \n",
              "3211  6.094590e+10        NaN  \n",
              "1438  1.020000e+10        NaN  \n",
              "3848  6.000000e+09        NaN  "
            ]
          },
          "metadata": {
            "tags": []
          },
          "execution_count": 22
        }
      ]
    },
    {
      "metadata": {
        "id": "lbFgAeUlhPKz",
        "colab_type": "code",
        "colab": {
          "base_uri": "https://localhost:8080/",
          "height": 35
        },
        "outputId": "6f58a6da-e866-41df-a2b2-a60cd4f7ad20"
      },
      "cell_type": "code",
      "source": [
        "df_train[df_train['Country Name']=='Libya']['Inflation'].mean()"
      ],
      "execution_count": 28,
      "outputs": [
        {
          "output_type": "execute_result",
          "data": {
            "text/plain": [
              "10.6869210674"
            ]
          },
          "metadata": {
            "tags": []
          },
          "execution_count": 28
        }
      ]
    },
    {
      "metadata": {
        "id": "xzzkHo6Bhmir",
        "colab_type": "code",
        "colab": {}
      },
      "cell_type": "code",
      "source": [
        ""
      ],
      "execution_count": 0,
      "outputs": []
    },
    {
      "metadata": {
        "id": "VDLv9z7uhkID",
        "colab_type": "code",
        "colab": {}
      },
      "cell_type": "code",
      "source": [
        ""
      ],
      "execution_count": 0,
      "outputs": []
    },
    {
      "metadata": {
        "id": "gwqnVnaOdVNl",
        "colab_type": "code",
        "colab": {}
      },
      "cell_type": "code",
      "source": [
        ""
      ],
      "execution_count": 0,
      "outputs": []
    }
  ]
}