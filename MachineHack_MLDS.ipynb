{
  "nbformat": 4,
  "nbformat_minor": 0,
  "metadata": {
    "colab": {
      "name": "MachineHack_MLDS.ipynb",
      "version": "0.3.2",
      "provenance": [],
      "collapsed_sections": [],
      "include_colab_link": true
    },
    "kernelspec": {
      "name": "python3",
      "display_name": "Python 3"
    },
    "accelerator": "GPU"
  },
  "cells": [
    {
      "cell_type": "markdown",
      "metadata": {
        "id": "view-in-github",
        "colab_type": "text"
      },
      "source": [
        "<a href=\"https://colab.research.google.com/github/lokeshkumarn/Notebooks/blob/master/MachineHack_MLDS.ipynb\" target=\"_parent\"><img src=\"https://colab.research.google.com/assets/colab-badge.svg\" alt=\"Open In Colab\"/></a>"
      ]
    },
    {
      "metadata": {
        "id": "6yBUHDlOcY-O",
        "colab_type": "code",
        "colab": {}
      },
      "cell_type": "code",
      "source": [
        "import numpy as np\n",
        "import pandas as pd\n",
        "\n",
        "from matplotlib import pyplot as plt"
      ],
      "execution_count": 0,
      "outputs": []
    },
    {
      "metadata": {
        "id": "gaYIpyI5cfKU",
        "colab_type": "code",
        "colab": {}
      },
      "cell_type": "code",
      "source": [
        "df_train = pd.read_csv('final_train_data.csv')\n",
        "df_test = pd.read_csv('final_test_data.csv')"
      ],
      "execution_count": 0,
      "outputs": []
    },
    {
      "metadata": {
        "id": "FKjg-5OJdnQm",
        "colab_type": "code",
        "outputId": "2a805048-e90c-4dfe-963e-c05b5972a412",
        "colab": {
          "base_uri": "https://localhost:8080/",
          "height": 198
        }
      },
      "cell_type": "code",
      "source": [
        "df_train.head()"
      ],
      "execution_count": 3,
      "outputs": [
        {
          "output_type": "execute_result",
          "data": {
            "text/html": [
              "<div>\n",
              "<style scoped>\n",
              "    .dataframe tbody tr th:only-of-type {\n",
              "        vertical-align: middle;\n",
              "    }\n",
              "\n",
              "    .dataframe tbody tr th {\n",
              "        vertical-align: top;\n",
              "    }\n",
              "\n",
              "    .dataframe thead th {\n",
              "        text-align: right;\n",
              "    }\n",
              "</style>\n",
              "<table border=\"1\" class=\"dataframe\">\n",
              "  <thead>\n",
              "    <tr style=\"text-align: right;\">\n",
              "      <th></th>\n",
              "      <th>Country Name</th>\n",
              "      <th>Country Code</th>\n",
              "      <th>Year</th>\n",
              "      <th>Balance</th>\n",
              "      <th>Inflation</th>\n",
              "      <th>GDP</th>\n",
              "      <th>Exports</th>\n",
              "      <th>Trade</th>\n",
              "    </tr>\n",
              "  </thead>\n",
              "  <tbody>\n",
              "    <tr>\n",
              "      <th>0</th>\n",
              "      <td>Senegal</td>\n",
              "      <td>SEN</td>\n",
              "      <td>1983</td>\n",
              "      <td>-3.043829e+08</td>\n",
              "      <td>9.274213</td>\n",
              "      <td>-5.326393</td>\n",
              "      <td>6.180000e+08</td>\n",
              "      <td>59.224298</td>\n",
              "    </tr>\n",
              "    <tr>\n",
              "      <th>1</th>\n",
              "      <td>Togo</td>\n",
              "      <td>TGO</td>\n",
              "      <td>2009</td>\n",
              "      <td>-1.766692e+08</td>\n",
              "      <td>1.855275</td>\n",
              "      <td>3.510297</td>\n",
              "      <td>9.030260e+08</td>\n",
              "      <td>76.242542</td>\n",
              "    </tr>\n",
              "    <tr>\n",
              "      <th>2</th>\n",
              "      <td>Pakistan</td>\n",
              "      <td>PAK</td>\n",
              "      <td>1992</td>\n",
              "      <td>-1.876092e+09</td>\n",
              "      <td>10.057085</td>\n",
              "      <td>7.705898</td>\n",
              "      <td>7.351000e+09</td>\n",
              "      <td>34.489440</td>\n",
              "    </tr>\n",
              "    <tr>\n",
              "      <th>3</th>\n",
              "      <td>Nepal</td>\n",
              "      <td>NPL</td>\n",
              "      <td>1988</td>\n",
              "      <td>-2.714506e+08</td>\n",
              "      <td>11.815310</td>\n",
              "      <td>7.696809</td>\n",
              "      <td>1.900000e+08</td>\n",
              "      <td>24.978422</td>\n",
              "    </tr>\n",
              "    <tr>\n",
              "      <th>4</th>\n",
              "      <td>Malta</td>\n",
              "      <td>MLT</td>\n",
              "      <td>2016</td>\n",
              "      <td>7.269132e+08</td>\n",
              "      <td>1.604548</td>\n",
              "      <td>5.516617</td>\n",
              "      <td>3.017299e+09</td>\n",
              "      <td>83.781471</td>\n",
              "    </tr>\n",
              "  </tbody>\n",
              "</table>\n",
              "</div>"
            ],
            "text/plain": [
              "  Country Name Country Code  Year       Balance  Inflation       GDP  \\\n",
              "0      Senegal          SEN  1983 -3.043829e+08   9.274213 -5.326393   \n",
              "1         Togo          TGO  2009 -1.766692e+08   1.855275  3.510297   \n",
              "2     Pakistan          PAK  1992 -1.876092e+09  10.057085  7.705898   \n",
              "3        Nepal          NPL  1988 -2.714506e+08  11.815310  7.696809   \n",
              "4        Malta          MLT  2016  7.269132e+08   1.604548  5.516617   \n",
              "\n",
              "        Exports      Trade  \n",
              "0  6.180000e+08  59.224298  \n",
              "1  9.030260e+08  76.242542  \n",
              "2  7.351000e+09  34.489440  \n",
              "3  1.900000e+08  24.978422  \n",
              "4  3.017299e+09  83.781471  "
            ]
          },
          "metadata": {
            "tags": []
          },
          "execution_count": 3
        }
      ]
    },
    {
      "metadata": {
        "id": "Um0oqTxtdqbo",
        "colab_type": "code",
        "outputId": "44358e85-7400-4d9f-a067-6fda132ec766",
        "colab": {
          "base_uri": "https://localhost:8080/",
          "height": 254
        }
      },
      "cell_type": "code",
      "source": [
        "df_train.info()"
      ],
      "execution_count": 4,
      "outputs": [
        {
          "output_type": "stream",
          "text": [
            "<class 'pandas.core.frame.DataFrame'>\n",
            "RangeIndex: 4506 entries, 0 to 4505\n",
            "Data columns (total 8 columns):\n",
            "Country Name    4506 non-null object\n",
            "Country Code    4506 non-null object\n",
            "Year            4506 non-null int64\n",
            "Balance         4506 non-null float64\n",
            "Inflation       4261 non-null float64\n",
            "GDP             4262 non-null float64\n",
            "Exports         4490 non-null float64\n",
            "Trade           4304 non-null float64\n",
            "dtypes: float64(5), int64(1), object(2)\n",
            "memory usage: 281.7+ KB\n"
          ],
          "name": "stdout"
        }
      ]
    },
    {
      "metadata": {
        "id": "1T9VLlD7nmUW",
        "colab_type": "code",
        "outputId": "5e763a3e-960b-4fe9-ff34-9a817e2ac990",
        "colab": {
          "base_uri": "https://localhost:8080/",
          "height": 35
        }
      },
      "cell_type": "code",
      "source": [
        "len(df_train['Country Name'].unique())"
      ],
      "execution_count": 5,
      "outputs": [
        {
          "output_type": "execute_result",
          "data": {
            "text/plain": [
              "150"
            ]
          },
          "metadata": {
            "tags": []
          },
          "execution_count": 5
        }
      ]
    },
    {
      "metadata": {
        "id": "k5PPzpZznNSt",
        "colab_type": "code",
        "outputId": "8d5a1c39-ba35-45dc-893e-3c2f4261c5bf",
        "colab": {
          "base_uri": "https://localhost:8080/",
          "height": 605
        }
      },
      "cell_type": "code",
      "source": [
        "df_train['Country Name'].value_counts()[:50].plot(kind='bar',figsize=(20,8))"
      ],
      "execution_count": 6,
      "outputs": [
        {
          "output_type": "execute_result",
          "data": {
            "text/plain": [
              "<matplotlib.axes._subplots.AxesSubplot at 0x7fb826a989b0>"
            ]
          },
          "metadata": {
            "tags": []
          },
          "execution_count": 6
        },
        {
          "output_type": "display_data",
          "data": {
            "image/png": "[encoded data removed]",
            "text/plain": [
              "<Figure size 1440x576 with 1 Axes>"
            ]
          },
          "metadata": {
            "tags": []
          }
        }
      ]
    },
    {
      "metadata": {
        "id": "TCqGxgiRnUbZ",
        "colab_type": "code",
        "outputId": "68ff4661-4cae-4b24-e763-8a3be42ecd78",
        "colab": {
          "base_uri": "https://localhost:8080/",
          "height": 433
        }
      },
      "cell_type": "code",
      "source": [
        "print('Mean balance:',df_train['Balance'].mean())\n",
        "print('Median balance:',df_train['Balance'].median())\n",
        "print('STD balance:',df_train['Balance'].std())\n",
        "df_train['Balance'].plot(kind='hist')"
      ],
      "execution_count": 7,
      "outputs": [
        {
          "output_type": "stream",
          "text": [
            "Mean balance: -513203070.70703393\n",
            "Median balance: -160328728.3\n",
            "STD balance: 35610068572.69368\n"
          ],
          "name": "stdout"
        },
        {
          "output_type": "execute_result",
          "data": {
            "text/plain": [
              "<matplotlib.axes._subplots.AxesSubplot at 0x7fb826907940>"
            ]
          },
          "metadata": {
            "tags": []
          },
          "execution_count": 7
        },
        {
          "output_type": "display_data",
          "data": {
            "image/png": "[encoded data removed]",
            "text/plain": [
              "<Figure size 576x396 with 1 Axes>"
            ]
          },
          "metadata": {
            "tags": []
          }
        }
      ]
    },
    {
      "metadata": {
        "id": "7FU0dAzTpllO",
        "colab_type": "code",
        "outputId": "4d95cede-e597-46b0-9806-3a695293bd1f",
        "colab": {
          "base_uri": "https://localhost:8080/",
          "height": 420
        }
      },
      "cell_type": "code",
      "source": [
        "print('Mean Inflation:',df_train['Inflation'].mean())\n",
        "print('Median Inflation:',df_train['Inflation'].median())\n",
        "print('STD Inflation:',df_train['Inflation'].std())\n",
        "df_train['Inflation'].plot(kind='hist')"
      ],
      "execution_count": 8,
      "outputs": [
        {
          "output_type": "stream",
          "text": [
            "Mean Inflation: 31.61346420512509\n",
            "Median Inflation: 6.184351239\n",
            "STD Inflation: 353.8179652622975\n"
          ],
          "name": "stdout"
        },
        {
          "output_type": "execute_result",
          "data": {
            "text/plain": [
              "<matplotlib.axes._subplots.AxesSubplot at 0x7fb824853ac8>"
            ]
          },
          "metadata": {
            "tags": []
          },
          "execution_count": 8
        },
        {
          "output_type": "display_data",
          "data": {
            "image/png": "[encoded data removed]",
            "text/plain": [
              "<Figure size 576x396 with 1 Axes>"
            ]
          },
          "metadata": {
            "tags": []
          }
        }
      ]
    },
    {
      "metadata": {
        "id": "oXUmWuXcqFce",
        "colab_type": "code",
        "outputId": "b7299461-8bc4-4312-fad8-30beb5a416cb",
        "colab": {
          "base_uri": "https://localhost:8080/",
          "height": 420
        }
      },
      "cell_type": "code",
      "source": [
        "print('Mean GDP:',df_train['GDP'].mean())\n",
        "print('Median GDP:',df_train['GDP'].median())\n",
        "print('STD GDP:',df_train['GDP'].std())\n",
        "df_train['GDP'].plot(kind='hist')"
      ],
      "execution_count": 9,
      "outputs": [
        {
          "output_type": "stream",
          "text": [
            "Mean GDP: 3.6412244918801027\n",
            "Median GDP: 3.799969259\n",
            "STD GDP: 4.850977550143861\n"
          ],
          "name": "stdout"
        },
        {
          "output_type": "execute_result",
          "data": {
            "text/plain": [
              "<matplotlib.axes._subplots.AxesSubplot at 0x7fb82476a7b8>"
            ]
          },
          "metadata": {
            "tags": []
          },
          "execution_count": 9
        },
        {
          "output_type": "display_data",
          "data": {
            "image/png": "[encoded data removed]",
            "text/plain": [
              "<Figure size 576x396 with 1 Axes>"
            ]
          },
          "metadata": {
            "tags": []
          }
        }
      ]
    },
    {
      "metadata": {
        "id": "ODU9ljd_ra_y",
        "colab_type": "text"
      },
      "cell_type": "markdown",
      "source": [
        "Label Encoding"
      ]
    },
    {
      "metadata": {
        "id": "eHFVUypAriCV",
        "colab_type": "code",
        "colab": {}
      },
      "cell_type": "code",
      "source": [
        "from sklearn.preprocessing import LabelEncoder"
      ],
      "execution_count": 0,
      "outputs": []
    },
    {
      "metadata": {
        "id": "_Q15Bvv6rd8A",
        "colab_type": "code",
        "outputId": "48bacc21-35d0-4e97-f453-0948edf0d52b",
        "colab": {
          "base_uri": "https://localhost:8080/",
          "height": 35
        }
      },
      "cell_type": "code",
      "source": [
        "country_name_encoder = LabelEncoder()\n",
        "country_name_encoder.fit(df_train['Country Name'])"
      ],
      "execution_count": 11,
      "outputs": [
        {
          "output_type": "execute_result",
          "data": {
            "text/plain": [
              "LabelEncoder()"
            ]
          },
          "metadata": {
            "tags": []
          },
          "execution_count": 11
        }
      ]
    },
    {
      "metadata": {
        "id": "FnLJEFslr8Pk",
        "colab_type": "code",
        "outputId": "b2828f17-078c-458a-e05c-0fc908ba5609",
        "colab": {
          "base_uri": "https://localhost:8080/",
          "height": 35
        }
      },
      "cell_type": "code",
      "source": [
        "country_name_encoder.transform(df_train['Country Name'])"
      ],
      "execution_count": 12,
      "outputs": [
        {
          "output_type": "execute_result",
          "data": {
            "text/plain": [
              "array([115, 135, 102, ..., 112,  52,  94])"
            ]
          },
          "metadata": {
            "tags": []
          },
          "execution_count": 12
        }
      ]
    },
    {
      "metadata": {
        "id": "pvoKqB7_r9Yu",
        "colab_type": "code",
        "outputId": "f5bd0dbf-f236-408f-8bdd-e53ca5f0af58",
        "colab": {
          "base_uri": "https://localhost:8080/",
          "height": 35
        }
      },
      "cell_type": "code",
      "source": [
        "len(country_name_encoder.transform(df_train['Country Name']))"
      ],
      "execution_count": 13,
      "outputs": [
        {
          "output_type": "execute_result",
          "data": {
            "text/plain": [
              "4506"
            ]
          },
          "metadata": {
            "tags": []
          },
          "execution_count": 13
        }
      ]
    },
    {
      "metadata": {
        "id": "3JK0ErZNrwPE",
        "colab_type": "code",
        "colab": {}
      },
      "cell_type": "code",
      "source": [
        "df_train['CountryId'] = country_name_encoder.transform(df_train['Country Name'])"
      ],
      "execution_count": 0,
      "outputs": []
    },
    {
      "metadata": {
        "id": "X_JCm6hTr1CN",
        "colab_type": "code",
        "colab": {}
      },
      "cell_type": "code",
      "source": [
        "df_train = df_train[['CountryId','Year','Exports','Inflation','GDP','Trade','Balance']]"
      ],
      "execution_count": 0,
      "outputs": []
    },
    {
      "metadata": {
        "id": "umZVL0BFsWFK",
        "colab_type": "code",
        "colab": {}
      },
      "cell_type": "code",
      "source": [
        "df_train = df_train.sort_values(by=['CountryId','Year']).reset_index(drop=True)"
      ],
      "execution_count": 0,
      "outputs": []
    },
    {
      "metadata": {
        "id": "0fVeMl0QruMK",
        "colab_type": "code",
        "outputId": "a72c7591-ac7a-4a61-9e65-d78317ff1435",
        "colab": {
          "base_uri": "https://localhost:8080/",
          "height": 678
        }
      },
      "cell_type": "code",
      "source": [
        "df_train[df_train['CountryId']==0]"
      ],
      "execution_count": 17,
      "outputs": [
        {
          "output_type": "execute_result",
          "data": {
            "text/html": [
              "<div>\n",
              "<style scoped>\n",
              "    .dataframe tbody tr th:only-of-type {\n",
              "        vertical-align: middle;\n",
              "    }\n",
              "\n",
              "    .dataframe tbody tr th {\n",
              "        vertical-align: top;\n",
              "    }\n",
              "\n",
              "    .dataframe thead th {\n",
              "        text-align: right;\n",
              "    }\n",
              "</style>\n",
              "<table border=\"1\" class=\"dataframe\">\n",
              "  <thead>\n",
              "    <tr style=\"text-align: right;\">\n",
              "      <th></th>\n",
              "      <th>CountryId</th>\n",
              "      <th>Year</th>\n",
              "      <th>Exports</th>\n",
              "      <th>Inflation</th>\n",
              "      <th>GDP</th>\n",
              "      <th>Trade</th>\n",
              "      <th>Balance</th>\n",
              "    </tr>\n",
              "  </thead>\n",
              "  <tbody>\n",
              "    <tr>\n",
              "      <th>0</th>\n",
              "      <td>0</td>\n",
              "      <td>1981</td>\n",
              "      <td>NaN</td>\n",
              "      <td>-2.177360</td>\n",
              "      <td>5.745635</td>\n",
              "      <td>NaN</td>\n",
              "      <td>4.500000e+07</td>\n",
              "    </tr>\n",
              "    <tr>\n",
              "      <th>1</th>\n",
              "      <td>0</td>\n",
              "      <td>1982</td>\n",
              "      <td>NaN</td>\n",
              "      <td>-0.017694</td>\n",
              "      <td>2.948597</td>\n",
              "      <td>NaN</td>\n",
              "      <td>-6.680000e+07</td>\n",
              "    </tr>\n",
              "    <tr>\n",
              "      <th>2</th>\n",
              "      <td>0</td>\n",
              "      <td>1983</td>\n",
              "      <td>NaN</td>\n",
              "      <td>-0.016747</td>\n",
              "      <td>1.104938</td>\n",
              "      <td>NaN</td>\n",
              "      <td>-3.830000e+07</td>\n",
              "    </tr>\n",
              "    <tr>\n",
              "      <th>3</th>\n",
              "      <td>0</td>\n",
              "      <td>1984</td>\n",
              "      <td>NaN</td>\n",
              "      <td>-0.028354</td>\n",
              "      <td>-1.251597</td>\n",
              "      <td>NaN</td>\n",
              "      <td>-2.810000e+07</td>\n",
              "    </tr>\n",
              "    <tr>\n",
              "      <th>4</th>\n",
              "      <td>0</td>\n",
              "      <td>1985</td>\n",
              "      <td>NaN</td>\n",
              "      <td>0.351198</td>\n",
              "      <td>1.780644</td>\n",
              "      <td>NaN</td>\n",
              "      <td>-3.640000e+07</td>\n",
              "    </tr>\n",
              "    <tr>\n",
              "      <th>5</th>\n",
              "      <td>0</td>\n",
              "      <td>1986</td>\n",
              "      <td>NaN</td>\n",
              "      <td>-2.378001</td>\n",
              "      <td>5.637243</td>\n",
              "      <td>NaN</td>\n",
              "      <td>-3.200000e+06</td>\n",
              "    </tr>\n",
              "    <tr>\n",
              "      <th>6</th>\n",
              "      <td>0</td>\n",
              "      <td>1987</td>\n",
              "      <td>NaN</td>\n",
              "      <td>0.000029</td>\n",
              "      <td>-0.787843</td>\n",
              "      <td>NaN</td>\n",
              "      <td>5.200000e+06</td>\n",
              "    </tr>\n",
              "    <tr>\n",
              "      <th>7</th>\n",
              "      <td>0</td>\n",
              "      <td>1988</td>\n",
              "      <td>NaN</td>\n",
              "      <td>0.000001</td>\n",
              "      <td>-1.420040</td>\n",
              "      <td>NaN</td>\n",
              "      <td>-2.710000e+07</td>\n",
              "    </tr>\n",
              "    <tr>\n",
              "      <th>8</th>\n",
              "      <td>0</td>\n",
              "      <td>1990</td>\n",
              "      <td>2.300000e+08</td>\n",
              "      <td>-0.468707</td>\n",
              "      <td>-9.575640</td>\n",
              "      <td>29.025160</td>\n",
              "      <td>-1.183000e+08</td>\n",
              "    </tr>\n",
              "    <tr>\n",
              "      <th>9</th>\n",
              "      <td>0</td>\n",
              "      <td>1995</td>\n",
              "      <td>2.020000e+08</td>\n",
              "      <td>5.573307</td>\n",
              "      <td>13.300000</td>\n",
              "      <td>37.760378</td>\n",
              "      <td>-1.150000e+07</td>\n",
              "    </tr>\n",
              "    <tr>\n",
              "      <th>10</th>\n",
              "      <td>0</td>\n",
              "      <td>1997</td>\n",
              "      <td>1.390000e+08</td>\n",
              "      <td>12.088706</td>\n",
              "      <td>-10.837856</td>\n",
              "      <td>33.271705</td>\n",
              "      <td>-2.722325e+08</td>\n",
              "    </tr>\n",
              "    <tr>\n",
              "      <th>11</th>\n",
              "      <td>0</td>\n",
              "      <td>1999</td>\n",
              "      <td>3.511200e+08</td>\n",
              "      <td>1.533331</td>\n",
              "      <td>13.501173</td>\n",
              "      <td>44.085370</td>\n",
              "      <td>-1.554000e+08</td>\n",
              "    </tr>\n",
              "    <tr>\n",
              "      <th>12</th>\n",
              "      <td>0</td>\n",
              "      <td>2000</td>\n",
              "      <td>2.579300e+08</td>\n",
              "      <td>3.981288</td>\n",
              "      <td>6.666620</td>\n",
              "      <td>37.112161</td>\n",
              "      <td>-1.563000e+08</td>\n",
              "    </tr>\n",
              "    <tr>\n",
              "      <th>13</th>\n",
              "      <td>0</td>\n",
              "      <td>2001</td>\n",
              "      <td>3.071900e+08</td>\n",
              "      <td>3.328851</td>\n",
              "      <td>7.940331</td>\n",
              "      <td>40.241494</td>\n",
              "      <td>-2.174000e+08</td>\n",
              "    </tr>\n",
              "    <tr>\n",
              "      <th>14</th>\n",
              "      <td>0</td>\n",
              "      <td>2002</td>\n",
              "      <td>3.395500e+08</td>\n",
              "      <td>2.410590</td>\n",
              "      <td>4.231371</td>\n",
              "      <td>41.561157</td>\n",
              "      <td>-4.075200e+08</td>\n",
              "    </tr>\n",
              "    <tr>\n",
              "      <th>15</th>\n",
              "      <td>0</td>\n",
              "      <td>2006</td>\n",
              "      <td>7.980000e+08</td>\n",
              "      <td>2.696049</td>\n",
              "      <td>5.431013</td>\n",
              "      <td>42.879499</td>\n",
              "      <td>-6.709043e+08</td>\n",
              "    </tr>\n",
              "    <tr>\n",
              "      <th>16</th>\n",
              "      <td>0</td>\n",
              "      <td>2008</td>\n",
              "      <td>1.354830e+09</td>\n",
              "      <td>7.630325</td>\n",
              "      <td>3.760854</td>\n",
              "      <td>51.279009</td>\n",
              "      <td>-2.018682e+09</td>\n",
              "    </tr>\n",
              "    <tr>\n",
              "      <th>17</th>\n",
              "      <td>0</td>\n",
              "      <td>2009</td>\n",
              "      <td>1.090600e+09</td>\n",
              "      <td>2.420047</td>\n",
              "      <td>3.352610</td>\n",
              "      <td>46.832699</td>\n",
              "      <td>-1.849619e+09</td>\n",
              "    </tr>\n",
              "    <tr>\n",
              "      <th>18</th>\n",
              "      <td>0</td>\n",
              "      <td>2010</td>\n",
              "      <td>1.544613e+09</td>\n",
              "      <td>4.489923</td>\n",
              "      <td>3.710058</td>\n",
              "      <td>49.891644</td>\n",
              "      <td>-1.353542e+09</td>\n",
              "    </tr>\n",
              "    <tr>\n",
              "      <th>19</th>\n",
              "      <td>0</td>\n",
              "      <td>2011</td>\n",
              "      <td>1.951044e+09</td>\n",
              "      <td>2.310041</td>\n",
              "      <td>2.550161</td>\n",
              "      <td>56.991471</td>\n",
              "      <td>-1.668842e+09</td>\n",
              "    </tr>\n",
              "    <tr>\n",
              "      <th>20</th>\n",
              "      <td>0</td>\n",
              "      <td>2015</td>\n",
              "      <td>1.929553e+09</td>\n",
              "      <td>0.100031</td>\n",
              "      <td>2.226581</td>\n",
              "      <td>55.137233</td>\n",
              "      <td>-9.781259e+08</td>\n",
              "    </tr>\n",
              "  </tbody>\n",
              "</table>\n",
              "</div>"
            ],
            "text/plain": [
              "    CountryId  Year       Exports  Inflation        GDP      Trade  \\\n",
              "0           0  1981           NaN  -2.177360   5.745635        NaN   \n",
              "1           0  1982           NaN  -0.017694   2.948597        NaN   \n",
              "2           0  1983           NaN  -0.016747   1.104938        NaN   \n",
              "3           0  1984           NaN  -0.028354  -1.251597        NaN   \n",
              "4           0  1985           NaN   0.351198   1.780644        NaN   \n",
              "5           0  1986           NaN  -2.378001   5.637243        NaN   \n",
              "6           0  1987           NaN   0.000029  -0.787843        NaN   \n",
              "7           0  1988           NaN   0.000001  -1.420040        NaN   \n",
              "8           0  1990  2.300000e+08  -0.468707  -9.575640  29.025160   \n",
              "9           0  1995  2.020000e+08   5.573307  13.300000  37.760378   \n",
              "10          0  1997  1.390000e+08  12.088706 -10.837856  33.271705   \n",
              "11          0  1999  3.511200e+08   1.533331  13.501173  44.085370   \n",
              "12          0  2000  2.579300e+08   3.981288   6.666620  37.112161   \n",
              "13          0  2001  3.071900e+08   3.328851   7.940331  40.241494   \n",
              "14          0  2002  3.395500e+08   2.410590   4.231371  41.561157   \n",
              "15          0  2006  7.980000e+08   2.696049   5.431013  42.879499   \n",
              "16          0  2008  1.354830e+09   7.630325   3.760854  51.279009   \n",
              "17          0  2009  1.090600e+09   2.420047   3.352610  46.832699   \n",
              "18          0  2010  1.544613e+09   4.489923   3.710058  49.891644   \n",
              "19          0  2011  1.951044e+09   2.310041   2.550161  56.991471   \n",
              "20          0  2015  1.929553e+09   0.100031   2.226581  55.137233   \n",
              "\n",
              "         Balance  \n",
              "0   4.500000e+07  \n",
              "1  -6.680000e+07  \n",
              "2  -3.830000e+07  \n",
              "3  -2.810000e+07  \n",
              "4  -3.640000e+07  \n",
              "5  -3.200000e+06  \n",
              "6   5.200000e+06  \n",
              "7  -2.710000e+07  \n",
              "8  -1.183000e+08  \n",
              "9  -1.150000e+07  \n",
              "10 -2.722325e+08  \n",
              "11 -1.554000e+08  \n",
              "12 -1.563000e+08  \n",
              "13 -2.174000e+08  \n",
              "14 -4.075200e+08  \n",
              "15 -6.709043e+08  \n",
              "16 -2.018682e+09  \n",
              "17 -1.849619e+09  \n",
              "18 -1.353542e+09  \n",
              "19 -1.668842e+09  \n",
              "20 -9.781259e+08  "
            ]
          },
          "metadata": {
            "tags": []
          },
          "execution_count": 17
        }
      ]
    },
    {
      "metadata": {
        "id": "UdydBuiCgFGv",
        "colab_type": "text"
      },
      "cell_type": "markdown",
      "source": [
        "Impute the missing values"
      ]
    },
    {
      "metadata": {
        "id": "6zguC9GLgN3z",
        "colab_type": "code",
        "colab": {}
      },
      "cell_type": "code",
      "source": [
        "from sklearn.impute import SimpleImputer\n",
        "from sklearn.preprocessing import StandardScaler"
      ],
      "execution_count": 0,
      "outputs": []
    },
    {
      "metadata": {
        "id": "EQ_0uZKDfhp9",
        "colab_type": "code",
        "outputId": "80210b61-c333-4006-a527-ea077f73968e",
        "colab": {
          "base_uri": "https://localhost:8080/",
          "height": 163
        }
      },
      "cell_type": "code",
      "source": [
        "df_train.isnull().sum()"
      ],
      "execution_count": 19,
      "outputs": [
        {
          "output_type": "execute_result",
          "data": {
            "text/plain": [
              "CountryId      0\n",
              "Year           0\n",
              "Exports       16\n",
              "Inflation    245\n",
              "GDP          244\n",
              "Trade        202\n",
              "Balance        0\n",
              "dtype: int64"
            ]
          },
          "metadata": {
            "tags": []
          },
          "execution_count": 19
        }
      ]
    },
    {
      "metadata": {
        "id": "RGn--ZJKxBDD",
        "colab_type": "code",
        "colab": {}
      },
      "cell_type": "code",
      "source": [
        "features=['CountryId','Year','Exports','Inflation','GDP','Trade']\n",
        "target=['Balance']\n",
        "X = df_train[features]\n",
        "y=df_train[target].values.reshape(4506)"
      ],
      "execution_count": 0,
      "outputs": []
    },
    {
      "metadata": {
        "id": "xzzkHo6Bhmir",
        "colab_type": "code",
        "colab": {}
      },
      "cell_type": "code",
      "source": [
        "imp =SimpleImputer(missing_values=np.nan,strategy='mean')\n",
        "imp.fit(X)\n",
        "X = imp.fit_transform(X)"
      ],
      "execution_count": 0,
      "outputs": []
    },
    {
      "metadata": {
        "id": "Ck1_7CkSweu2",
        "colab_type": "code",
        "outputId": "f7970c09-f194-4f54-f42e-19a2dc84edab",
        "colab": {
          "base_uri": "https://localhost:8080/",
          "height": 35
        }
      },
      "cell_type": "code",
      "source": [
        "X.shape,y.shape"
      ],
      "execution_count": 22,
      "outputs": [
        {
          "output_type": "execute_result",
          "data": {
            "text/plain": [
              "((4506, 6), (4506,))"
            ]
          },
          "metadata": {
            "tags": []
          },
          "execution_count": 22
        }
      ]
    },
    {
      "metadata": {
        "id": "vpTfo8iB6s24",
        "colab_type": "text"
      },
      "cell_type": "markdown",
      "source": [
        "Scaling"
      ]
    },
    {
      "metadata": {
        "id": "Pa-lruRMyZz1",
        "colab_type": "code",
        "colab": {}
      },
      "cell_type": "code",
      "source": [
        "scaler = StandardScaler()\n",
        "X = scaler.fit_transform(X)"
      ],
      "execution_count": 0,
      "outputs": []
    },
    {
      "metadata": {
        "id": "SdIpKWxM6FbK",
        "colab_type": "code",
        "outputId": "949f2aea-b41d-4747-c06d-3c34cecc2f50",
        "colab": {
          "base_uri": "https://localhost:8080/",
          "height": 254
        }
      },
      "cell_type": "code",
      "source": [
        "X"
      ],
      "execution_count": 24,
      "outputs": [
        {
          "output_type": "execute_result",
          "data": {
            "text/plain": [
              "array([[-1.75018497e+00, -1.25586014e+00,  5.28823144e-17,\n",
              "        -9.82222108e-02,  4.46109102e-01,  1.55518298e-16],\n",
              "       [-1.75018497e+00, -1.17385889e+00,  5.28823144e-17,\n",
              "        -9.19445543e-02, -1.46828517e-01,  1.55518298e-16],\n",
              "       [-1.75018497e+00, -1.09185765e+00,  5.28823144e-17,\n",
              "        -9.19418016e-02, -5.37661359e-01,  1.55518298e-16],\n",
              "       ...,\n",
              "       [ 1.71254536e+00,  1.36817964e+00, -2.76485838e-01,\n",
              "        -8.37375843e-02,  4.00351901e-01, -2.70594647e-01],\n",
              "       [ 1.71254536e+00,  1.45018088e+00, -2.79559594e-01,\n",
              "        -8.98557038e-02, -3.20979007e-01, -3.76016506e-01],\n",
              "       [ 1.71254536e+00,  1.53218212e+00, -2.82052404e-01,\n",
              "        -8.92826310e-02, -4.13721519e-01, -4.76521941e-01]])"
            ]
          },
          "metadata": {
            "tags": []
          },
          "execution_count": 24
        }
      ]
    },
    {
      "metadata": {
        "id": "jfBcFaJy6pco",
        "colab_type": "text"
      },
      "cell_type": "markdown",
      "source": [
        "Modeling"
      ]
    },
    {
      "metadata": {
        "id": "90FMBOXp6qdC",
        "colab_type": "code",
        "colab": {}
      },
      "cell_type": "code",
      "source": [
        "from sklearn.model_selection import cross_val_score,train_test_split,GridSearchCV\n",
        "from sklearn.ensemble import GradientBoostingRegressor,AdaBoostRegressor\n",
        "\n",
        "from sklearn.metrics import mean_absolute_error,mean_squared_error,mean_squared_log_error"
      ],
      "execution_count": 0,
      "outputs": []
    },
    {
      "metadata": {
        "id": "uxu0Am_b7qfE",
        "colab_type": "code",
        "colab": {}
      },
      "cell_type": "code",
      "source": [
        "random_seed = 2019"
      ],
      "execution_count": 0,
      "outputs": []
    },
    {
      "metadata": {
        "id": "VzRMkV9m6_OM",
        "colab_type": "code",
        "outputId": "6a7bdb06-5b0c-45e8-e2ad-8d13500ae5bd",
        "colab": {
          "base_uri": "https://localhost:8080/",
          "height": 35
        }
      },
      "cell_type": "code",
      "source": [
        "X_B,X_val,y_B,y_val = train_test_split(X,y,test_size=0.1,random_state=random_seed)\n",
        "X_train,X_test,y_train,y_test = train_test_split(X_B,y_B,test_size=0.1,random_state=random_seed)\n",
        "print(X_B.shape,X_val.shape,y_B.shape,y_val.shape,X_train.shape,X_test.shape,y_train.shape,y_test.shape)"
      ],
      "execution_count": 27,
      "outputs": [
        {
          "output_type": "stream",
          "text": [
            "(4055, 6) (451, 6) (4055,) (451,) (3649, 6) (406, 6) (3649,) (406,)\n"
          ],
          "name": "stdout"
        }
      ]
    },
    {
      "metadata": {
        "id": "0Zy7-pTr8KxI",
        "colab_type": "code",
        "colab": {}
      },
      "cell_type": "code",
      "source": [
        "regressors =[GradientBoostingRegressor(),AdaBoostRegressor()]"
      ],
      "execution_count": 0,
      "outputs": []
    },
    {
      "metadata": {
        "id": "0fhvKTFENJ5Q",
        "colab_type": "code",
        "outputId": "46fced6f-5b29-455b-c6ba-75c2dbee5dc6",
        "colab": {
          "base_uri": "https://localhost:8080/",
          "height": 35
        }
      },
      "cell_type": "code",
      "source": [
        "np.linspace(0.1,0.2,5)"
      ],
      "execution_count": 29,
      "outputs": [
        {
          "output_type": "execute_result",
          "data": {
            "text/plain": [
              "array([0.1  , 0.125, 0.15 , 0.175, 0.2  ])"
            ]
          },
          "metadata": {
            "tags": []
          },
          "execution_count": 29
        }
      ]
    },
    {
      "metadata": {
        "id": "icAcXQ5I8yYc",
        "colab_type": "code",
        "colab": {}
      },
      "cell_type": "code",
      "source": [
        "regression_params = {\n",
        "    'GradientBoostingRegressor' : \n",
        "    {\n",
        "        'loss':['huber', 'quantile'],\n",
        "        'learning_rate':np.linspace(0.1,0.2,5),\n",
        "        'n_estimators':np.arange(100,400,100),\n",
        "        'min_samples_split':np.linspace(0.1, 0.5, 12),\n",
        "        'min_samples_leaf':np.linspace(0.1, 0.5, 12),\n",
        "        'subsample':np.linspace(0.5, 1.0, 12),\n",
        "        'max_depth':[5,7,8,9,10],\n",
        "        'max_features':['sqrt'],\n",
        "        'n_iter_no_change':[3],\n",
        "        'random_state':[random_seed]\n",
        "    },\n",
        "    'AdaBoostRegressor':\n",
        "    {\n",
        "        'loss' : ['linear', 'square', 'exponential'],\n",
        "        'learning_rate':np.linspace(0.1,0.2,5),\n",
        "        'n_estimators':np.arange(100,400,100),\n",
        "        'random_state':[random_seed]       \n",
        "    }    \n",
        "}"
      ],
      "execution_count": 0,
      "outputs": []
    },
    {
      "metadata": {
        "id": "D-72-zgZBKXe",
        "colab_type": "code",
        "outputId": "c55503c0-36b5-4aa1-caa9-d6f4d0636084",
        "colab": {
          "base_uri": "https://localhost:8080/",
          "height": 308
        }
      },
      "cell_type": "code",
      "source": [
        "regression_results =[]\n",
        "for i,reg in enumerate(regressors):\n",
        "  reg_name = type(reg).__name__\n",
        "  print(reg_name)\n",
        "  \n",
        "  regressor = GridSearchCV(reg,regression_params[reg_name],verbose=1,cv=5,n_jobs=-1)\n",
        "  regressor.fit(X_train,y_train)\n",
        "  y_pred_val = regressor.predict(X_val)  \n",
        "  regression_results.append({'Reg':regressor,\n",
        "                     'y_pred_val':y_pred_val\n",
        "                    })"
      ],
      "execution_count": 0,
      "outputs": [
        {
          "output_type": "stream",
          "text": [
            "GradientBoostingRegressor\n",
            "Fitting 5 folds for each of 259200 candidates, totalling 1296000 fits\n"
          ],
          "name": "stdout"
        },
        {
          "output_type": "stream",
          "text": [
            "[Parallel(n_jobs=-1)]: Using backend LokyBackend with 2 concurrent workers.\n",
            "[Parallel(n_jobs=-1)]: Done 218 tasks      | elapsed:    8.3s\n",
            "[Parallel(n_jobs=-1)]: Done 1418 tasks      | elapsed:   46.5s\n",
            "[Parallel(n_jobs=-1)]: Done 3418 tasks      | elapsed:  1.7min\n",
            "[Parallel(n_jobs=-1)]: Done 6218 tasks      | elapsed:  3.0min\n",
            "[Parallel(n_jobs=-1)]: Done 9818 tasks      | elapsed:  4.4min\n",
            "[Parallel(n_jobs=-1)]: Done 14218 tasks      | elapsed:  6.0min\n",
            "[Parallel(n_jobs=-1)]: Done 19418 tasks      | elapsed:  7.7min\n",
            "[Parallel(n_jobs=-1)]: Done 25418 tasks      | elapsed:  9.6min\n",
            "[Parallel(n_jobs=-1)]: Done 32218 tasks      | elapsed: 12.7min\n",
            "[Parallel(n_jobs=-1)]: Done 39818 tasks      | elapsed: 15.6min\n",
            "[Parallel(n_jobs=-1)]: Done 48218 tasks      | elapsed: 18.3min\n",
            "[Parallel(n_jobs=-1)]: Done 57418 tasks      | elapsed: 22.1min\n",
            "[Parallel(n_jobs=-1)]: Done 67418 tasks      | elapsed: 25.9min\n"
          ],
          "name": "stderr"
        }
      ]
    },
    {
      "metadata": {
        "id": "5rz5k9A5Ca3T",
        "colab_type": "code",
        "colab": {}
      },
      "cell_type": "code",
      "source": [
        "regression_results"
      ],
      "execution_count": 0,
      "outputs": []
    },
    {
      "metadata": {
        "id": "JbtacQUJCdVr",
        "colab_type": "code",
        "colab": {}
      },
      "cell_type": "code",
      "source": [
        ""
      ],
      "execution_count": 0,
      "outputs": []
    }
  ]
}