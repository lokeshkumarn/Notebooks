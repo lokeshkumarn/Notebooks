{
  "nbformat": 4,
  "nbformat_minor": 0,
  "metadata": {
    "colab": {
      "name": "MachineHack_MLDS.ipynb",
      "version": "0.3.2",
      "provenance": [],
      "include_colab_link": true
    },
    "kernelspec": {
      "name": "python3",
      "display_name": "Python 3"
    }
  },
  "cells": [
    {
      "cell_type": "markdown",
      "metadata": {
        "id": "view-in-github",
        "colab_type": "text"
      },
      "source": [
        "<a href=\"https://colab.research.google.com/github/lokeshkumarn/Notebooks/blob/master/MachineHack_MLDS.ipynb\" target=\"_parent\"><img src=\"https://colab.research.google.com/assets/colab-badge.svg\" alt=\"Open In Colab\"/></a>"
      ]
    },
    {
      "metadata": {
        "id": "6yBUHDlOcY-O",
        "colab_type": "code",
        "colab": {}
      },
      "cell_type": "code",
      "source": [
        "import numpy as np\n",
        "import pandas as pd"
      ],
      "execution_count": 0,
      "outputs": []
    },
    {
      "metadata": {
        "id": "gaYIpyI5cfKU",
        "colab_type": "code",
        "colab": {}
      },
      "cell_type": "code",
      "source": [
        "df_train = pd.read_csv('final_train_data.csv')\n",
        "df_test = pd.read_csv('final_test_data.csv')"
      ],
      "execution_count": 0,
      "outputs": []
    },
    {
      "metadata": {
        "id": "FKjg-5OJdnQm",
        "colab_type": "code",
        "colab": {
          "base_uri": "https://localhost:8080/",
          "height": 198
        },
        "outputId": "93984a08-2d5d-4ac1-f97b-0b62131dff0f"
      },
      "cell_type": "code",
      "source": [
        "df_train.head()"
      ],
      "execution_count": 8,
      "outputs": [
        {
          "output_type": "execute_result",
          "data": {
            "text/html": [
              "<div>\n",
              "<style scoped>\n",
              "    .dataframe tbody tr th:only-of-type {\n",
              "        vertical-align: middle;\n",
              "    }\n",
              "\n",
              "    .dataframe tbody tr th {\n",
              "        vertical-align: top;\n",
              "    }\n",
              "\n",
              "    .dataframe thead th {\n",
              "        text-align: right;\n",
              "    }\n",
              "</style>\n",
              "<table border=\"1\" class=\"dataframe\">\n",
              "  <thead>\n",
              "    <tr style=\"text-align: right;\">\n",
              "      <th></th>\n",
              "      <th>Country Name</th>\n",
              "      <th>Country Code</th>\n",
              "      <th>Year</th>\n",
              "      <th>Balance</th>\n",
              "      <th>Inflation</th>\n",
              "      <th>GDP</th>\n",
              "      <th>Exports</th>\n",
              "      <th>Trade</th>\n",
              "    </tr>\n",
              "  </thead>\n",
              "  <tbody>\n",
              "    <tr>\n",
              "      <th>0</th>\n",
              "      <td>Senegal</td>\n",
              "      <td>SEN</td>\n",
              "      <td>1983</td>\n",
              "      <td>-3.043829e+08</td>\n",
              "      <td>9.274213</td>\n",
              "      <td>-5.326393</td>\n",
              "      <td>6.180000e+08</td>\n",
              "      <td>59.224298</td>\n",
              "    </tr>\n",
              "    <tr>\n",
              "      <th>1</th>\n",
              "      <td>Togo</td>\n",
              "      <td>TGO</td>\n",
              "      <td>2009</td>\n",
              "      <td>-1.766692e+08</td>\n",
              "      <td>1.855275</td>\n",
              "      <td>3.510297</td>\n",
              "      <td>9.030260e+08</td>\n",
              "      <td>76.242542</td>\n",
              "    </tr>\n",
              "    <tr>\n",
              "      <th>2</th>\n",
              "      <td>Pakistan</td>\n",
              "      <td>PAK</td>\n",
              "      <td>1992</td>\n",
              "      <td>-1.876092e+09</td>\n",
              "      <td>10.057085</td>\n",
              "      <td>7.705898</td>\n",
              "      <td>7.351000e+09</td>\n",
              "      <td>34.489440</td>\n",
              "    </tr>\n",
              "    <tr>\n",
              "      <th>3</th>\n",
              "      <td>Nepal</td>\n",
              "      <td>NPL</td>\n",
              "      <td>1988</td>\n",
              "      <td>-2.714506e+08</td>\n",
              "      <td>11.815310</td>\n",
              "      <td>7.696809</td>\n",
              "      <td>1.900000e+08</td>\n",
              "      <td>24.978422</td>\n",
              "    </tr>\n",
              "    <tr>\n",
              "      <th>4</th>\n",
              "      <td>Malta</td>\n",
              "      <td>MLT</td>\n",
              "      <td>2016</td>\n",
              "      <td>7.269132e+08</td>\n",
              "      <td>1.604548</td>\n",
              "      <td>5.516617</td>\n",
              "      <td>3.017299e+09</td>\n",
              "      <td>83.781471</td>\n",
              "    </tr>\n",
              "  </tbody>\n",
              "</table>\n",
              "</div>"
            ],
            "text/plain": [
              "  Country Name Country Code  Year       Balance  Inflation       GDP  \\\n",
              "0      Senegal          SEN  1983 -3.043829e+08   9.274213 -5.326393   \n",
              "1         Togo          TGO  2009 -1.766692e+08   1.855275  3.510297   \n",
              "2     Pakistan          PAK  1992 -1.876092e+09  10.057085  7.705898   \n",
              "3        Nepal          NPL  1988 -2.714506e+08  11.815310  7.696809   \n",
              "4        Malta          MLT  2016  7.269132e+08   1.604548  5.516617   \n",
              "\n",
              "        Exports      Trade  \n",
              "0  6.180000e+08  59.224298  \n",
              "1  9.030260e+08  76.242542  \n",
              "2  7.351000e+09  34.489440  \n",
              "3  1.900000e+08  24.978422  \n",
              "4  3.017299e+09  83.781471  "
            ]
          },
          "metadata": {
            "tags": []
          },
          "execution_count": 8
        }
      ]
    },
    {
      "metadata": {
        "id": "Um0oqTxtdqbo",
        "colab_type": "code",
        "colab": {}
      },
      "cell_type": "code",
      "source": [
        ""
      ],
      "execution_count": 0,
      "outputs": []
    },
    {
      "metadata": {
        "id": "gwqnVnaOdVNl",
        "colab_type": "code",
        "colab": {}
      },
      "cell_type": "code",
      "source": [
        ""
      ],
      "execution_count": 0,
      "outputs": []
    }
  ]
}