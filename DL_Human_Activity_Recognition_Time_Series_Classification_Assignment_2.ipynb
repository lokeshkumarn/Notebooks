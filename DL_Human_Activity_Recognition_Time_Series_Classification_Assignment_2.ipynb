{
  "nbformat": 4,
  "nbformat_minor": 0,
  "metadata": {
    "accelerator": "GPU",
    "colab": {
      "name": "DL - Human Activity Recognition Time Series Classification - Assignment 2.ipynb",
      "provenance": [],
      "collapsed_sections": [],
      "mount_file_id": "1wWME8HkZypWDqdvyvbjTisHcgnZnS9o7",
      "authorship_tag": "ABX9TyMswlU8R2jHUG2V2ClESFoY",
      "include_colab_link": true
    },
    "kernelspec": {
      "display_name": "Python 3",
      "name": "python3"
    }
  },
  "cells": [
    {
      "cell_type": "markdown",
      "metadata": {
        "id": "view-in-github",
        "colab_type": "text"
      },
      "source": [
        "<a href=\"https://colab.research.google.com/github/lokeshkumarn/Notebooks/blob/master/DL_Human_Activity_Recognition_Time_Series_Classification_Assignment_2.ipynb\" target=\"_parent\"><img src=\"https://colab.research.google.com/assets/colab-badge.svg\" alt=\"Open In Colab\"/></a>"
      ]
    },
    {
      "cell_type": "markdown",
      "metadata": {
        "id": "JZDlr18VI-_G"
      },
      "source": [
        "Human Activity Recognition (HAR) using smartphones dataset. Classifying the type of movement amongst six\r\n",
        "categories:\r\n",
        "1. Walking\r\n",
        "2. Walking Upstairs\r\n",
        "3. Walking Downstairs\r\n",
        "4. Sitting\r\n",
        "5. Standing\r\n",
        "6. Laying"
      ]
    },
    {
      "cell_type": "markdown",
      "metadata": {
        "id": "SL5iwf8MLvZq"
      },
      "source": [
        "The sensor signals (accelerometer and gyroscope) were **pre-processed by applying noise filters** and then **sampled in\r\n",
        "fixed-width sliding windows of 2.56 sec and 50% overlap (128 readings (features) per window).**"
      ]
    },
    {
      "cell_type": "markdown",
      "metadata": {
        "id": "IJWxCiIOLgE0"
      },
      "source": [
        "The gravitational force is assumed to have only low frequency\r\n",
        "components, therefore a **filter with 0.3 Hz** cutoff frequency was used"
      ]
    },
    {
      "cell_type": "markdown",
      "metadata": {
        "id": "UUvn13UiMaec"
      },
      "source": [
        "three main signal types in the raw data: **total acceleration**, **body acceleration**, and **body gyroscope**"
      ]
    },
    {
      "cell_type": "markdown",
      "metadata": {
        "id": "0ukgcf_oP0pV"
      },
      "source": [
        "Each has **3 axises** of data. This means that there are a **total of nine variables for each time step**"
      ]
    },
    {
      "cell_type": "markdown",
      "metadata": {
        "id": "Jh1k4GUeS8Wb"
      },
      "source": [
        "-------------------------------------------------------------------"
      ]
    },
    {
      "cell_type": "markdown",
      "metadata": {
        "id": "4LtNjIpQUtcH"
      },
      "source": [
        "### Import Libraries/Dataset"
      ]
    },
    {
      "cell_type": "markdown",
      "metadata": {
        "id": "BBQXCpC3S6ZV"
      },
      "source": [
        "#### Import Libraries"
      ]
    },
    {
      "cell_type": "code",
      "metadata": {
        "id": "FAXsvTYWTDQ_"
      },
      "source": [
        "import pandas as pd\r\n",
        "import numpy as np\r\n",
        "import random as rd\r\n",
        "\r\n",
        "import time\r\n",
        "from tensorflow.python.client import device_lib\r\n",
        "\r\n",
        "import tensorflow as tf\r\n",
        "from tensorflow.keras import models\r\n",
        "from tensorflow.keras import layers\r\n",
        "from tensorflow.keras import regularizers\r\n",
        "from tensorflow.keras.utils import to_categorical\r\n",
        "from tensorflow.keras import backend as K \r\n",
        "\r\n",
        "from google.colab import drive\r\n",
        "\r\n",
        "from sklearn.metrics import confusion_matrix,classification_report\r\n",
        "\r\n",
        "import matplotlib.pyplot as plt\r\n",
        "import seaborn as sns\r\n",
        "%matplotlib inline"
      ],
      "execution_count": 1,
      "outputs": []
    },
    {
      "cell_type": "code",
      "metadata": {
        "id": "a5nQOQTSTESA"
      },
      "source": [
        "rd.seed(2021)         # Initialize the random number generator.\r\n",
        "np.random.seed(2021)      # With the seed reset, the same set of numbers will appear every time. \r\n",
        "tf.random.set_seed(2021)  # sets the graph-level random seed"
      ],
      "execution_count": 2,
      "outputs": []
    },
    {
      "cell_type": "markdown",
      "metadata": {
        "id": "c1Bm4u9MTo-O"
      },
      "source": [
        "#### Import Dataset"
      ]
    },
    {
      "cell_type": "markdown",
      "metadata": {
        "id": "7zKzlxyiU5FS"
      },
      "source": [
        "Load dataset from Google Drive"
      ]
    },
    {
      "cell_type": "code",
      "metadata": {
        "colab": {
          "base_uri": "https://localhost:8080/"
        },
        "id": "jf-cuxgFTqUU",
        "outputId": "2dea3d76-10fd-46c2-ec39-476a42ce77f6"
      },
      "source": [
        "drive.mount('/content/gdrive')"
      ],
      "execution_count": 3,
      "outputs": [
        {
          "output_type": "stream",
          "text": [
            "Mounted at /content/gdrive\n"
          ],
          "name": "stdout"
        }
      ]
    },
    {
      "cell_type": "code",
      "metadata": {
        "id": "OSSARtHqVeLp"
      },
      "source": [
        "ds_path ='/content/gdrive/MyDrive/'"
      ],
      "execution_count": 4,
      "outputs": []
    },
    {
      "cell_type": "markdown",
      "metadata": {
        "id": "0Nun96fCT6kQ"
      },
      "source": [
        "Check GPU"
      ]
    },
    {
      "cell_type": "code",
      "metadata": {
        "colab": {
          "base_uri": "https://localhost:8080/"
        },
        "id": "R_icOjCwTX-X",
        "outputId": "021e94b3-37db-42f8-e7d2-54c22d1f49e1"
      },
      "source": [
        "def get_available_gpus():\r\n",
        "    local_device_protos = device_lib.list_local_devices()\r\n",
        "    return [x.name for x in local_device_protos if x.device_type == 'GPU' ]\r\n",
        "\r\n",
        "gpu_lst = get_available_gpus()\r\n",
        "\r\n",
        "if(len(gpu_lst) > 0):\r\n",
        "  print(\"GPU Enabled\")"
      ],
      "execution_count": 5,
      "outputs": [
        {
          "output_type": "stream",
          "text": [
            "GPU Enabled\n"
          ],
          "name": "stdout"
        }
      ]
    },
    {
      "cell_type": "markdown",
      "metadata": {
        "id": "AjnJHAwvS9p4"
      },
      "source": [
        "#### Data Pre-processing"
      ]
    },
    {
      "cell_type": "code",
      "metadata": {
        "id": "vrf4WoPbVQ1k"
      },
      "source": [
        "# load a single file as a numpy array\r\n",
        "def load_file(filepath):\r\n",
        "\tdf = pd.read_csv(filepath, header=None, delim_whitespace=True)\r\n",
        "\treturn df.values"
      ],
      "execution_count": 6,
      "outputs": []
    },
    {
      "cell_type": "code",
      "metadata": {
        "id": "5ByQLeIoVRlK"
      },
      "source": [
        "# load a list of files and return as a 3d numpy array\r\n",
        "def load_group(filenames, prefix=''):\r\n",
        "\tloaded = list()\r\n",
        "\tfor name in filenames:\r\n",
        "\t\tdata = load_file(prefix + name)\r\n",
        "\t\tloaded.append(data)\r\n",
        "\t# stack group so that features are the 3rd dimension\r\n",
        "\tloaded = np.dstack(loaded)\r\n",
        "\treturn loaded"
      ],
      "execution_count": 7,
      "outputs": []
    },
    {
      "cell_type": "code",
      "metadata": {
        "id": "9AtVAvNgVT9G"
      },
      "source": [
        "# load a dataset group, such as train or test\r\n",
        "def load_dataset_group(group, prefix=''):\r\n",
        "\tfilepath = prefix + group + '/Inertial Signals/'\r\n",
        "\t# load all 9 files as a single array\r\n",
        "\tfilenames = list()\r\n",
        "\t# total acceleration\r\n",
        "\tfilenames += ['total_acc_x_'+group+'.txt', 'total_acc_y_'+group+'.txt', 'total_acc_z_'+group+'.txt']\r\n",
        "\t# body acceleration\r\n",
        "\tfilenames += ['body_acc_x_'+group+'.txt', 'body_acc_y_'+group+'.txt', 'body_acc_z_'+group+'.txt']\r\n",
        "\t# body gyroscope\r\n",
        "\tfilenames += ['body_gyro_x_'+group+'.txt', 'body_gyro_y_'+group+'.txt', 'body_gyro_z_'+group+'.txt']\r\n",
        "\t# load input data\r\n",
        "\tX = load_group(filenames, filepath)\r\n",
        "\t# load class output\r\n",
        "\ty = load_file(prefix + group + '/y_'+group+'.txt')\r\n",
        "\treturn X, y"
      ],
      "execution_count": 8,
      "outputs": []
    },
    {
      "cell_type": "code",
      "metadata": {
        "id": "bMjzYWURS4z4"
      },
      "source": [
        "# load the dataset, returns train and test X and y elements\r\n",
        "def load_dataset(prefix=''):\r\n",
        "\t# load all train\r\n",
        "\ttrainX, trainy = load_dataset_group('train', prefix + 'HARDataset/')\r\n",
        "\tprint(trainX.shape, trainy.shape)\r\n",
        "\t# load all test\r\n",
        "\ttestX, testy = load_dataset_group('test', prefix + 'HARDataset/')\r\n",
        "\tprint(testX.shape, testy.shape)\r\n",
        "\t# zero-offset class values\r\n",
        "\ttrainy = trainy - 1\r\n",
        "\ttesty = testy - 1\r\n",
        "\t# one hot encode y\r\n",
        "\ttrainy = to_categorical(trainy)\r\n",
        "\ttesty = to_categorical(testy)\r\n",
        "\tprint(trainX.shape, trainy.shape, testX.shape, testy.shape)\r\n",
        "\treturn trainX, trainy, testX, testy"
      ],
      "execution_count": 9,
      "outputs": []
    },
    {
      "cell_type": "markdown",
      "metadata": {
        "id": "g2r9OwvGbVCG"
      },
      "source": [
        "#### Load Dataset"
      ]
    },
    {
      "cell_type": "code",
      "metadata": {
        "colab": {
          "base_uri": "https://localhost:8080/"
        },
        "id": "04VYPyq5bWk_",
        "outputId": "fabf4070-ba4d-4233-fa6f-c0357d49cd83"
      },
      "source": [
        "trainX, trainy, testX, testy = load_dataset(ds_path)"
      ],
      "execution_count": 10,
      "outputs": [
        {
          "output_type": "stream",
          "text": [
            "(7352, 128, 9) (7352, 1)\n",
            "(2947, 128, 9) (2947, 1)\n",
            "(7352, 128, 9) (7352, 6) (2947, 128, 9) (2947, 6)\n"
          ],
          "name": "stdout"
        }
      ]
    },
    {
      "cell_type": "markdown",
      "metadata": {
        "id": "aa369JTlW_As"
      },
      "source": [
        "#### Data Visualization"
      ]
    },
    {
      "cell_type": "markdown",
      "metadata": {
        "id": "4-HC-nyHXd8_"
      },
      "source": [
        "Plot line graphs for the samples from TWO classes - ’ Walking’ and ‘ Walking Upstairs’ for all 9 features of\r\n",
        "the dataset and assign class labels to the graph as the title. (use matplotlib /seaborn / any other library).<br/>\r\n",
        "Labels<br/>\r\n",
        "\r\n",
        "*   1-WALKING\r\n",
        "*   2-WALKING_UPSTAIRS\r\n",
        "*   3-WALKING_DOWNSTAIRS\r\n",
        "*   4-SITTING\r\n",
        "*   5-STANDING\r\n",
        "*   6-LAYING\r\n",
        "\r\n",
        "A **561-feature vector** with time and frequency domain variables. "
      ]
    },
    {
      "cell_type": "code",
      "metadata": {
        "colab": {
          "base_uri": "https://localhost:8080/",
          "height": 403
        },
        "id": "Qi6tGaQeUL7g",
        "outputId": "e10f961c-1955-4a17-9a64-69e3448c8f30"
      },
      "source": [
        "sampleX, sampley = load_dataset_group('train', ds_path + 'HARDataset/')\r\n",
        "sampley = sampley.reshape(7352)\r\n",
        "\r\n",
        "#Filter\r\n",
        "walking_idx = np.where(sampley == 1)#Walking\r\n",
        "walking_up_idx = np.where(sampley== 2)#Walking Up Stairs\r\n",
        "\r\n",
        "walking_vals = sampleX[walking_idx]\r\n",
        "walking_up_vals = sampleX[walking_up_idx]\r\n",
        "\r\n",
        "print(\"Walking:\",walking_vals.shape,\"\\n\\nWalking Up Stairs:\",walking_up_vals.shape)\r\n",
        "\r\n",
        "fig,ax = plt.subplots(1,2,figsize=(15,5))\r\n",
        "ax[0].plot(walking_vals[0])\r\n",
        "ax[1].plot(walking_up_vals[0])\r\n",
        "ax[0].set_title(\"Walking\")\r\n",
        "ax[1].set_title(\"Walking Up Stairs\")"
      ],
      "execution_count": 11,
      "outputs": [
        {
          "output_type": "stream",
          "text": [
            "Walking: (1226, 128, 9) \n",
            "\n",
            "Walking Up Stairs: (1073, 128, 9)\n"
          ],
          "name": "stdout"
        },
        {
          "output_type": "execute_result",
          "data": {
            "text/plain": [
              "Text(0.5, 1.0, 'Walking Up Stairs')"
            ]
          },
          "metadata": {
            "tags": []
          },
          "execution_count": 11
        },
        {
          "output_type": "display_data",
          "data": {
            "image/png": "[encoded data removed]",
            "text/plain": [
              "<Figure size 1080x360 with 2 Axes>"
            ]
          },
          "metadata": {
            "tags": [],
            "needs_background": "light"
          }
        }
      ]
    },
    {
      "cell_type": "code",
      "metadata": {
        "colab": {
          "base_uri": "https://localhost:8080/",
          "height": 403
        },
        "id": "9FBo-Ip_rt3p",
        "outputId": "8615f90f-2ca6-4597-870a-fa9def774852"
      },
      "source": [
        "#Filter\r\n",
        "sitting_idx = np.where(sampley == 4)#Sitting\r\n",
        "standing_idx = np.where(sampley== 5)#Standing\r\n",
        "\r\n",
        "sitting_vals = sampleX[sitting_idx]\r\n",
        "standing_vals = sampleX[standing_idx]\r\n",
        "\r\n",
        "print(\"Sitting:\",sitting_vals.shape,\"\\n\\nStanding:\",standing_vals.shape)\r\n",
        "\r\n",
        "fig,ax = plt.subplots(1,2,figsize=(15,5))\r\n",
        "ax[0].plot(sitting_vals[0])\r\n",
        "ax[1].plot(standing_vals[0])\r\n",
        "ax[0].set_title(\"Sitting\")\r\n",
        "ax[1].set_title(\"Standing\")"
      ],
      "execution_count": 12,
      "outputs": [
        {
          "output_type": "stream",
          "text": [
            "Sitting: (1286, 128, 9) \n",
            "\n",
            "Standing: (1374, 128, 9)\n"
          ],
          "name": "stdout"
        },
        {
          "output_type": "execute_result",
          "data": {
            "text/plain": [
              "Text(0.5, 1.0, 'Standing')"
            ]
          },
          "metadata": {
            "tags": []
          },
          "execution_count": 12
        },
        {
          "output_type": "display_data",
          "data": {
            "image/png": "[encoded data removed]",
            "text/plain": [
              "<Figure size 1080x360 with 2 Axes>"
            ]
          },
          "metadata": {
            "tags": [],
            "needs_background": "light"
          }
        }
      ]
    },
    {
      "cell_type": "markdown",
      "metadata": {
        "id": "7HvOVAcUJbX1"
      },
      "source": [
        "### Model 1: Develop an LSTM Network Model"
      ]
    },
    {
      "cell_type": "markdown",
      "metadata": {
        "id": "juyWrbFVudFY"
      },
      "source": [
        "#### Model Building"
      ]
    },
    {
      "cell_type": "code",
      "metadata": {
        "id": "iXChpsccCpJ0"
      },
      "source": [
        "n_timesteps, n_features, n_outputs = trainX.shape[1], trainX.shape[2], trainy.shape[1]\r\n",
        "\r\n",
        "model  = models.Sequential()\r\n",
        "\r\n",
        "#Sequential Model layers- Use AT LEAST 2 LSTM layers with 80 units with appropriate input for each\r\n",
        "model.add(layers.LSTM(80,return_sequences=True, input_shape=(n_timesteps, n_features)))\r\n",
        "model.add(layers.LSTM(80))\r\n",
        "#ReLU were thought to not be appropriate for Recurrent Neural Networks (RNNs) such as the Long Short-Term Memory Network (LSTM) by default\r\n",
        "\r\n",
        "#Add one layer of dropout at the appropriate position and give reasons\r\n",
        "model.add(layers.Dropout(0.5))\r\n",
        "\r\n",
        "#Use AT LEAST 2 dense layers (one with 80 units and one for output) with the appropriate input and output for each.\r\n",
        "model.add(layers.Dense(80, activation='relu'))#Choose the appropriate activation function for all the layers.\r\n",
        "model.add(layers.Dense(n_outputs, activation='softmax'))#Choose the appropriate activation function for all the layers."
      ],
      "execution_count": 13,
      "outputs": []
    },
    {
      "cell_type": "markdown",
      "metadata": {
        "id": "gtSifpOV0F0u"
      },
      "source": [
        "Give reasons for the dropout - Dropout of 0.5 is to drastically reduce the parameters and also generalize better on the unseen data points. Added after LSTM units for regularization where recurrent connections to units are probabilistically exclude from activation and weight updates while training "
      ]
    },
    {
      "cell_type": "code",
      "metadata": {
        "colab": {
          "base_uri": "https://localhost:8080/"
        },
        "id": "6_xYL_tEyokD",
        "outputId": "27b1b330-769a-4980-d9d6-1517b3a32f96"
      },
      "source": [
        "#Print the model summary\r\n",
        "model.summary()"
      ],
      "execution_count": 14,
      "outputs": [
        {
          "output_type": "stream",
          "text": [
            "Model: \"sequential\"\n",
            "_________________________________________________________________\n",
            "Layer (type)                 Output Shape              Param #   \n",
            "=================================================================\n",
            "lstm (LSTM)                  (None, 128, 80)           28800     \n",
            "_________________________________________________________________\n",
            "lstm_1 (LSTM)                (None, 80)                51520     \n",
            "_________________________________________________________________\n",
            "dropout (Dropout)            (None, 80)                0         \n",
            "_________________________________________________________________\n",
            "dense (Dense)                (None, 80)                6480      \n",
            "_________________________________________________________________\n",
            "dense_1 (Dense)              (None, 6)                 486       \n",
            "=================================================================\n",
            "Total params: 87,286\n",
            "Trainable params: 87,286\n",
            "Non-trainable params: 0\n",
            "_________________________________________________________________\n"
          ],
          "name": "stdout"
        }
      ]
    },
    {
      "cell_type": "markdown",
      "metadata": {
        "id": "lefo4C93x4sf"
      },
      "source": [
        "#### Model Compilation"
      ]
    },
    {
      "cell_type": "markdown",
      "metadata": {
        "id": "xBWbAKeWz064"
      },
      "source": [
        "Loss : Categorical Cross Entropy (because it's a multiple classification problem"
      ]
    },
    {
      "cell_type": "code",
      "metadata": {
        "id": "_Y5PhD9mJd5h"
      },
      "source": [
        "#Compile the model with the appropriate loss function.\r\n",
        "#Use adam optimizer. Give reasons for the choice of learning rate value.\r\n",
        "#Use accuracy as a metric.\r\n",
        "model.compile(optimizer=tf.keras.optimizers.Adam(learning_rate=0.001,name='Adam'),\r\n",
        "              loss='categorical_crossentropy',\r\n",
        "              metrics=['accuracy'])"
      ],
      "execution_count": 15,
      "outputs": []
    },
    {
      "cell_type": "markdown",
      "metadata": {
        "id": "wSA5KyB20DAD"
      },
      "source": [
        "Give reasons for the choice of learning rate and its value\r\n",
        "Learning rate of 0.001 is choosen, because too high would rollover the minima and I have tried giving the higher learning rate like 0.4, 0.2, 0.1, 0.01 the loss doesn't seem to converge to minima, so decided to lower the learning rate further so that weight update is minimum and proceeds towards the convergence or global minima"
      ]
    },
    {
      "cell_type": "markdown",
      "metadata": {
        "id": "XmR2ua0u-OFy"
      },
      "source": [
        "1.   With - 0.4 as learning rate the validation loss doesn't seem to converge after 1.800 even after increasing the epochs from 15 to 100\r\n",
        "2.   With - 0.2 and 0.1 - same result as 0.4\r\n",
        "3.   With 0.01 - validation accuracy was 0.77 and validation loss was 0.8929 at 27th epoch however in subsequent epochs loss tend to increase and decrease - so decided it has not reached the global minima rather roaming around local minima \r\n",
        "3.   With - 0.001 - So decided to reduce the learning rate in relative to 100s so that it wont reach plateau and loss reduced drastically in 15 epochs. Decided to run for few more epochs to see how the model is performing and validation accuracy remained 0.90 so decided with 15 epochs\r\n",
        "\r\n"
      ]
    },
    {
      "cell_type": "markdown",
      "metadata": {
        "id": "ACFH3LjpyNWg"
      },
      "source": [
        "#### Model Training"
      ]
    },
    {
      "cell_type": "markdown",
      "metadata": {
        "id": "X6Po7GeY5SQ9"
      },
      "source": [
        "Train the model for an appropriate number of epochs (print the **train and validation accuracy/loss** for\r\n",
        "each epoch). Use the batch size of **64**."
      ]
    },
    {
      "cell_type": "code",
      "metadata": {
        "colab": {
          "base_uri": "https://localhost:8080/"
        },
        "id": "ICWevDtlyFE-",
        "outputId": "ab918f04-ba34-4f5b-8127-46466b227379"
      },
      "source": [
        "# fit network\r\n",
        "verbose, epochs, batch_size = 1, 15, 64\r\n",
        "start_train = time.time()\r\n",
        "history = model.fit(trainX, trainy, epochs=epochs, batch_size=batch_size, validation_split=0.2, verbose=verbose)\r\n",
        "end_train = time.time()"
      ],
      "execution_count": 16,
      "outputs": [
        {
          "output_type": "stream",
          "text": [
            "Epoch 1/15\n",
            "92/92 [==============================] - 6s 24ms/step - loss: 1.3481 - accuracy: 0.4491 - val_loss: 0.9916 - val_accuracy: 0.6125\n",
            "Epoch 2/15\n",
            "92/92 [==============================] - 1s 14ms/step - loss: 0.7746 - accuracy: 0.6689 - val_loss: 0.7590 - val_accuracy: 0.7437\n",
            "Epoch 3/15\n",
            "92/92 [==============================] - 1s 14ms/step - loss: 0.6146 - accuracy: 0.7330 - val_loss: 0.8523 - val_accuracy: 0.6669\n",
            "Epoch 4/15\n",
            "92/92 [==============================] - 1s 14ms/step - loss: 0.5457 - accuracy: 0.7599 - val_loss: 0.7038 - val_accuracy: 0.7716\n",
            "Epoch 5/15\n",
            "92/92 [==============================] - 1s 14ms/step - loss: 0.4256 - accuracy: 0.8331 - val_loss: 0.5506 - val_accuracy: 0.8688\n",
            "Epoch 6/15\n",
            "92/92 [==============================] - 1s 14ms/step - loss: 0.2617 - accuracy: 0.9126 - val_loss: 0.5294 - val_accuracy: 0.8844\n",
            "Epoch 7/15\n",
            "92/92 [==============================] - 1s 14ms/step - loss: 0.1785 - accuracy: 0.9385 - val_loss: 0.5024 - val_accuracy: 0.9014\n",
            "Epoch 8/15\n",
            "92/92 [==============================] - 1s 14ms/step - loss: 0.1538 - accuracy: 0.9440 - val_loss: 0.5297 - val_accuracy: 0.8939\n",
            "Epoch 9/15\n",
            "92/92 [==============================] - 1s 14ms/step - loss: 0.1952 - accuracy: 0.9286 - val_loss: 0.5522 - val_accuracy: 0.8933\n",
            "Epoch 10/15\n",
            "92/92 [==============================] - 1s 14ms/step - loss: 0.2496 - accuracy: 0.9211 - val_loss: 0.5549 - val_accuracy: 0.8994\n",
            "Epoch 11/15\n",
            "92/92 [==============================] - 1s 14ms/step - loss: 0.1632 - accuracy: 0.9428 - val_loss: 0.5904 - val_accuracy: 0.8939\n",
            "Epoch 12/15\n",
            "92/92 [==============================] - 1s 14ms/step - loss: 0.1375 - accuracy: 0.9472 - val_loss: 0.5666 - val_accuracy: 0.9048\n",
            "Epoch 13/15\n",
            "92/92 [==============================] - 1s 14ms/step - loss: 0.1295 - accuracy: 0.9476 - val_loss: 0.6033 - val_accuracy: 0.8885\n",
            "Epoch 14/15\n",
            "92/92 [==============================] - 1s 14ms/step - loss: 0.1121 - accuracy: 0.9554 - val_loss: 0.5848 - val_accuracy: 0.9055\n",
            "Epoch 15/15\n",
            "92/92 [==============================] - 1s 14ms/step - loss: 0.1007 - accuracy: 0.9590 - val_loss: 0.6030 - val_accuracy: 0.8967\n"
          ],
          "name": "stdout"
        }
      ]
    },
    {
      "cell_type": "markdown",
      "metadata": {
        "id": "jqb1FzZH5ags"
      },
      "source": [
        "Plot the loss and accuracy history graphs."
      ]
    },
    {
      "cell_type": "code",
      "metadata": {
        "colab": {
          "base_uri": "https://localhost:8080/",
          "height": 367
        },
        "id": "RG3Y7rf-zdeS",
        "outputId": "fc1ec6e9-a15e-4480-f893-cb3505a0f58b"
      },
      "source": [
        "history_dict = history.history\r\n",
        "print(history_dict.keys())\r\n",
        "\r\n",
        "acc = history_dict['accuracy']\r\n",
        "val_acc = history_dict['val_accuracy']\r\n",
        "loss = history_dict['loss']\r\n",
        "val_loss = history_dict['val_loss']\r\n",
        "\r\n",
        "epochs = range(1, len(acc) + 1)\r\n",
        "\r\n",
        "fix,ax = plt.subplots(1,2, figsize=(15,5))\r\n",
        "ax1 = ax[0] # to plot Training Loss\r\n",
        "ax2 = ax[1] # to plot Training Accuracy\r\n",
        "ax1.plot(epochs, loss, label='Training loss')\r\n",
        "ax1.plot(epochs, val_loss,  label='Validation loss')\r\n",
        "ax1.set_title('Training and validation loss')\r\n",
        "ax1.set_xlabel('Epochs')\r\n",
        "ax1.set_ylabel('Loss')\r\n",
        "ax1.legend()\r\n",
        "\r\n",
        "ax2.plot(epochs, acc, label='Training acc')\r\n",
        "ax2.plot(epochs, val_acc,  label='Validation acc')\r\n",
        "ax2.set_title('Training and validation accuracy')\r\n",
        "ax2.set_xlabel('Epochs')\r\n",
        "ax2.set_ylabel('Accuracy')\r\n",
        "ax2.legend()\r\n",
        "\r\n",
        "plt.show()"
      ],
      "execution_count": 17,
      "outputs": [
        {
          "output_type": "stream",
          "text": [
            "dict_keys(['loss', 'accuracy', 'val_loss', 'val_accuracy'])\n"
          ],
          "name": "stdout"
        },
        {
          "output_type": "display_data",
          "data": {
            "image/png": "[encoded data removed]",
            "text/plain": [
              "<Figure size 1080x360 with 2 Axes>"
            ]
          },
          "metadata": {
            "tags": [],
            "needs_background": "light"
          }
        }
      ]
    },
    {
      "cell_type": "markdown",
      "metadata": {
        "id": "fdcU4roe5cm0"
      },
      "source": [
        "Print the total time taken for training."
      ]
    },
    {
      "cell_type": "code",
      "metadata": {
        "colab": {
          "base_uri": "https://localhost:8080/"
        },
        "id": "5gh12HM8zjSN",
        "outputId": "8aaaa154-b0d8-4e83-edbb-1f9505721160"
      },
      "source": [
        "#Time taken to train\r\n",
        "print(\"Time taken to train the NN:\",end_train - start_train,\" seconds\")"
      ],
      "execution_count": 18,
      "outputs": [
        {
          "output_type": "stream",
          "text": [
            "Time taken to train the NN: 24.600247859954834  seconds\n"
          ],
          "name": "stdout"
        }
      ]
    },
    {
      "cell_type": "markdown",
      "metadata": {
        "id": "Dicp8bjm1L-B"
      },
      "source": [
        "#### Model Evaluation"
      ]
    },
    {
      "cell_type": "markdown",
      "metadata": {
        "id": "5WiUO6tX1OPF"
      },
      "source": [
        "Print the final test/validation loss and accuracy."
      ]
    },
    {
      "cell_type": "code",
      "metadata": {
        "colab": {
          "base_uri": "https://localhost:8080/"
        },
        "id": "WscERJ6MyHPX",
        "outputId": "67340987-1b8b-438d-9404-9b8157525d8e"
      },
      "source": [
        "# evaluate model\r\n",
        "results = model.evaluate(testX, testy, batch_size=batch_size, verbose=1)\r\n",
        "\r\n",
        "print(\"Test Loss:\",results[0])\r\n",
        "print(\"Test Accuracy:\",results[1])"
      ],
      "execution_count": 19,
      "outputs": [
        {
          "output_type": "stream",
          "text": [
            "47/47 [==============================] - 0s 6ms/step - loss: 0.3896 - accuracy: 0.9145\n",
            "Test Loss: 0.3895803391933441\n",
            "Test Accuracy: 0.9144893288612366\n"
          ],
          "name": "stdout"
        }
      ]
    },
    {
      "cell_type": "markdown",
      "metadata": {
        "id": "-RFOCANZ5FnH"
      },
      "source": [
        "Print confusion matrix"
      ]
    },
    {
      "cell_type": "code",
      "metadata": {
        "colab": {
          "base_uri": "https://localhost:8080/"
        },
        "id": "XGCEVIG01iXb",
        "outputId": "83a580d7-deff-49e1-fba5-03a6a8b0ca76"
      },
      "source": [
        "cm_testX,cm_testy = load_dataset_group(\"test\",ds_path + 'HARDataset/')\r\n",
        "y_pred = model.predict(cm_testX).argmax(axis = 1) + 1\r\n",
        "\r\n",
        "df = pd.DataFrame({'y_test':cm_testy.reshape(cm_testy.shape[0]),'y_pred':y_pred})\r\n",
        "df.head()\r\n",
        "confusion_matrix_result = pd.crosstab(df['y_test'], df['y_pred'], rownames=['Actual'], colnames=['Predicted'])\r\n",
        "print (confusion_matrix_result)"
      ],
      "execution_count": 20,
      "outputs": [
        {
          "output_type": "stream",
          "text": [
            "Predicted    1    2    3    4    5    6\n",
            "Actual                                 \n",
            "1          456   19   21    0    0    0\n",
            "2           18  453    0    0    0    0\n",
            "3            0    2  418    0    0    0\n",
            "4            0    1    0  397   87    6\n",
            "5            2    0    0   69  461    0\n",
            "6            0   27    0    0    0  510\n"
          ],
          "name": "stdout"
        }
      ]
    },
    {
      "cell_type": "code",
      "metadata": {
        "colab": {
          "base_uri": "https://localhost:8080/",
          "height": 296
        },
        "id": "Q3_O-2d36cSP",
        "outputId": "40add50e-5662-4bf1-eac2-828821b8a1d6"
      },
      "source": [
        "sns.heatmap(confusion_matrix_result, annot=True, fmt=\"d\", cmap=\"crest\")"
      ],
      "execution_count": 21,
      "outputs": [
        {
          "output_type": "execute_result",
          "data": {
            "text/plain": [
              "<matplotlib.axes._subplots.AxesSubplot at 0x7fdfbc0e7898>"
            ]
          },
          "metadata": {
            "tags": []
          },
          "execution_count": 21
        },
        {
          "output_type": "display_data",
          "data": {
            "image/png": "[encoded data removed]",
            "text/plain": [
              "<Figure size 432x288 with 2 Axes>"
            ]
          },
          "metadata": {
            "tags": [],
            "needs_background": "light"
          }
        }
      ]
    },
    {
      "cell_type": "code",
      "metadata": {
        "colab": {
          "base_uri": "https://localhost:8080/"
        },
        "id": "2hEfWcgy46Rc",
        "outputId": "a0c26ffc-8ceb-4122-aefe-7a19e69cca41"
      },
      "source": [
        "confusion_matrix(cm_testy.reshape(cm_testy.shape[0]),y_pred)"
      ],
      "execution_count": 22,
      "outputs": [
        {
          "output_type": "execute_result",
          "data": {
            "text/plain": [
              "array([[456,  19,  21,   0,   0,   0],\n",
              "       [ 18, 453,   0,   0,   0,   0],\n",
              "       [  0,   2, 418,   0,   0,   0],\n",
              "       [  0,   1,   0, 397,  87,   6],\n",
              "       [  2,   0,   0,  69, 461,   0],\n",
              "       [  0,  27,   0,   0,   0, 510]])"
            ]
          },
          "metadata": {
            "tags": []
          },
          "execution_count": 22
        }
      ]
    },
    {
      "cell_type": "code",
      "metadata": {
        "colab": {
          "base_uri": "https://localhost:8080/"
        },
        "id": "wIZyXdmn4rQt",
        "outputId": "44f2cf48-ef4c-42cf-e9b6-12b43c18cd23"
      },
      "source": [
        "print(classification_report(cm_testy.reshape(cm_testy.shape[0]),y_pred))"
      ],
      "execution_count": 23,
      "outputs": [
        {
          "output_type": "stream",
          "text": [
            "              precision    recall  f1-score   support\n",
            "\n",
            "           1       0.96      0.92      0.94       496\n",
            "           2       0.90      0.96      0.93       471\n",
            "           3       0.95      1.00      0.97       420\n",
            "           4       0.85      0.81      0.83       491\n",
            "           5       0.84      0.87      0.85       532\n",
            "           6       0.99      0.95      0.97       537\n",
            "\n",
            "    accuracy                           0.91      2947\n",
            "   macro avg       0.92      0.92      0.92      2947\n",
            "weighted avg       0.92      0.91      0.91      2947\n",
            "\n"
          ],
          "name": "stdout"
        }
      ]
    },
    {
      "cell_type": "markdown",
      "metadata": {
        "id": "SzfcbMPiJebU"
      },
      "source": [
        "### Model 2: Develop a CNN-LSTM Network Model"
      ]
    },
    {
      "cell_type": "markdown",
      "metadata": {
        "id": "b08DOvquzjcw"
      },
      "source": [
        "#### Model Building"
      ]
    },
    {
      "cell_type": "markdown",
      "metadata": {
        "id": "X5OM1rb7K0Zx"
      },
      "source": [
        "Define CNN LSTM model in Keras by first defining the CNN layer or layers, wrapping them in a TimeDistributed layer and then defining the LSTM and output layers"
      ]
    },
    {
      "cell_type": "code",
      "metadata": {
        "id": "ksDlDco6JhTm"
      },
      "source": [
        "n_timesteps, n_features, n_outputs = trainX.shape[1], trainX.shape[2], trainy.shape[1]\r\n",
        "\r\n",
        "n_steps, n_length = 4, 32\r\n",
        "X_train = trainX.reshape((trainX.shape[0], n_steps, n_length, n_features))\r\n",
        "X_test = testX.reshape((testX.shape[0], n_steps, n_length, n_features))\r\n",
        "\r\n",
        "K.clear_session()\r\n",
        "model_LRCN = models.Sequential()\r\n",
        "\r\n",
        "#Sequential Model layers- Use AT LEAST 2 CNN - LSTM layers with 64 Conv filters and 90 LSTM units with appropriate input for each\r\n",
        "model_LRCN.add(layers.TimeDistributed(layers.Conv1D(filters=64, kernel_size=3, activation='relu'), input_shape=(None,n_length,n_features)))\r\n",
        "model_LRCN.add(layers.TimeDistributed(layers.Conv1D(filters=64, kernel_size=3, activation='relu')))\r\n",
        "#Add MaxPooling1D layer\r\n",
        "model_LRCN.add(layers.TimeDistributed(layers.MaxPooling1D(pool_size=2)))\r\n",
        "model_LRCN.add(layers.TimeDistributed(layers.Flatten()))\r\n",
        "\r\n",
        "#90 LSTM units\r\n",
        "model_LRCN.add(layers.LSTM(90,return_sequences=True))\r\n",
        "model_LRCN.add(layers.LSTM(90))\r\n",
        "\r\n",
        "#Use AT LEAST 2 dense layers (one with 80 units and one for output) with the appropriate input and output for each.\r\n",
        "model_LRCN.add(layers.Dense(80, activation='relu'))\r\n",
        "model_LRCN.add(layers.Dense(n_outputs, activation='softmax'))\r\n",
        "\r\n",
        "#Choose the appropriate activation function for all the layers. - Relu and Softmax - Used"
      ],
      "execution_count": 24,
      "outputs": []
    },
    {
      "cell_type": "markdown",
      "metadata": {
        "id": "ySYH1i3E7-AL"
      },
      "source": [
        "Print the model summary."
      ]
    },
    {
      "cell_type": "code",
      "metadata": {
        "colab": {
          "base_uri": "https://localhost:8080/"
        },
        "id": "iAszrB00JjGc",
        "outputId": "4f18701c-f5fd-454e-d5c4-dda8e323a4d0"
      },
      "source": [
        "model_LRCN.summary()"
      ],
      "execution_count": 25,
      "outputs": [
        {
          "output_type": "stream",
          "text": [
            "Model: \"sequential\"\n",
            "_________________________________________________________________\n",
            "Layer (type)                 Output Shape              Param #   \n",
            "=================================================================\n",
            "time_distributed (TimeDistri (None, None, 30, 64)      1792      \n",
            "_________________________________________________________________\n",
            "time_distributed_1 (TimeDist (None, None, 28, 64)      12352     \n",
            "_________________________________________________________________\n",
            "time_distributed_2 (TimeDist (None, None, 14, 64)      0         \n",
            "_________________________________________________________________\n",
            "time_distributed_3 (TimeDist (None, None, 896)         0         \n",
            "_________________________________________________________________\n",
            "lstm (LSTM)                  (None, None, 90)          355320    \n",
            "_________________________________________________________________\n",
            "lstm_1 (LSTM)                (None, 90)                65160     \n",
            "_________________________________________________________________\n",
            "dense (Dense)                (None, 80)                7280      \n",
            "_________________________________________________________________\n",
            "dense_1 (Dense)              (None, 6)                 486       \n",
            "=================================================================\n",
            "Total params: 442,390\n",
            "Trainable params: 442,390\n",
            "Non-trainable params: 0\n",
            "_________________________________________________________________\n"
          ],
          "name": "stdout"
        }
      ]
    },
    {
      "cell_type": "markdown",
      "metadata": {
        "id": "NcgoDgjJz54s"
      },
      "source": [
        "#### Model Compilation"
      ]
    },
    {
      "cell_type": "markdown",
      "metadata": {
        "id": "d6MTEHfB9Pmf"
      },
      "source": [
        "Loss : Categorical Cross Entropy (because it's a multiple classification problem"
      ]
    },
    {
      "cell_type": "code",
      "metadata": {
        "id": "tvd3Bt-yz7xi"
      },
      "source": [
        "#Compile the model with the appropriate loss function\r\n",
        "#Use SGD optimizer. Give reasons for the choice of learning rate value#\r\n",
        "model_LRCN.compile(optimizer=tf.keras.optimizers.SGD(learning_rate=0.001,name='SGD'),\r\n",
        "                   loss='categorical_crossentropy',\r\n",
        "                   metrics=['accuracy'])#Use accuracy as metric."
      ],
      "execution_count": 26,
      "outputs": []
    },
    {
      "cell_type": "markdown",
      "metadata": {
        "id": "gP2k33vL9kG9"
      },
      "source": [
        "Give reasons for the choice of learning rate and its value Learning rate of 0.001 is choosen, because too high would rollover the minima and I have tried giving the higher learning rate like 0.4, 0.2, 0.1, 0.01 the loss doesn't seem to converge to minima, so decided to lower the learning rate further so that weight update is minimum and proceeds towards the convergence or global minima"
      ]
    },
    {
      "cell_type": "markdown",
      "metadata": {
        "id": "w2cYhtIfLXf1"
      },
      "source": [
        "1. Learning rate of 0.001 is choosen because similar to LSTM network LRCN also not converging for higher than 0.001 so used 0.001 as learning, even with learning rate as 0.001 the convergence started after 100 epochs so the increased epochs to 200 and able achieve the convergence where accuracy reached 0.92 and validation accuracy was averaging to 0.87 in last few iterations"
      ]
    },
    {
      "cell_type": "markdown",
      "metadata": {
        "id": "mDdBb0v50DeL"
      },
      "source": [
        "#### Model Training"
      ]
    },
    {
      "cell_type": "markdown",
      "metadata": {
        "id": "sPuTM5AH0scq"
      },
      "source": [
        "Train the model for an appropriate number of epochs (**print the train and validation accuracy/loss** for\r\n",
        "each epoch). Use the batch size of **64**."
      ]
    },
    {
      "cell_type": "code",
      "metadata": {
        "id": "QeslI1N60FBn",
        "colab": {
          "base_uri": "https://localhost:8080/"
        },
        "outputId": "eca462c3-ad05-472a-e065-956765e382fd"
      },
      "source": [
        "# fit network\r\n",
        "verbose, epochs, batch_size = 1, 500, 64\r\n",
        "start_train = time.time()\r\n",
        "history = model_LRCN.fit(X_train, trainy, epochs=epochs, batch_size=batch_size, validation_split=0.2, verbose=verbose)\r\n",
        "end_train = time.time()"
      ],
      "execution_count": 27,
      "outputs": [
        {
          "output_type": "stream",
          "text": [
            "Epoch 1/500\n",
            "92/92 [==============================] - 4s 14ms/step - loss: 1.7886 - accuracy: 0.2196 - val_loss: 1.7858 - val_accuracy: 0.3630\n",
            "Epoch 2/500\n",
            "92/92 [==============================] - 1s 6ms/step - loss: 1.7848 - accuracy: 0.3569 - val_loss: 1.7818 - val_accuracy: 0.4371\n",
            "Epoch 3/500\n",
            "92/92 [==============================] - 1s 7ms/step - loss: 1.7808 - accuracy: 0.4039 - val_loss: 1.7780 - val_accuracy: 0.4616\n",
            "Epoch 4/500\n",
            "92/92 [==============================] - 1s 6ms/step - loss: 1.7773 - accuracy: 0.4137 - val_loss: 1.7744 - val_accuracy: 0.4704\n",
            "Epoch 5/500\n",
            "92/92 [==============================] - 1s 6ms/step - loss: 1.7736 - accuracy: 0.4309 - val_loss: 1.7710 - val_accuracy: 0.4711\n",
            "Epoch 6/500\n",
            "92/92 [==============================] - 1s 8ms/step - loss: 1.7705 - accuracy: 0.4379 - val_loss: 1.7677 - val_accuracy: 0.4731\n",
            "Epoch 7/500\n",
            "92/92 [==============================] - 1s 6ms/step - loss: 1.7667 - accuracy: 0.4367 - val_loss: 1.7644 - val_accuracy: 0.4697\n",
            "Epoch 8/500\n",
            "92/92 [==============================] - 1s 7ms/step - loss: 1.7633 - accuracy: 0.4557 - val_loss: 1.7610 - val_accuracy: 0.4636\n",
            "Epoch 9/500\n",
            "92/92 [==============================] - 1s 6ms/step - loss: 1.7600 - accuracy: 0.4665 - val_loss: 1.7574 - val_accuracy: 0.4623\n",
            "Epoch 10/500\n",
            "92/92 [==============================] - 1s 6ms/step - loss: 1.7550 - accuracy: 0.4769 - val_loss: 1.7538 - val_accuracy: 0.4616\n",
            "Epoch 11/500\n",
            "92/92 [==============================] - 1s 7ms/step - loss: 1.7532 - accuracy: 0.4733 - val_loss: 1.7500 - val_accuracy: 0.4609\n",
            "Epoch 12/500\n",
            "92/92 [==============================] - 1s 6ms/step - loss: 1.7464 - accuracy: 0.4836 - val_loss: 1.7458 - val_accuracy: 0.4562\n",
            "Epoch 13/500\n",
            "92/92 [==============================] - 1s 7ms/step - loss: 1.7447 - accuracy: 0.4789 - val_loss: 1.7417 - val_accuracy: 0.4521\n",
            "Epoch 14/500\n",
            "92/92 [==============================] - 1s 6ms/step - loss: 1.7407 - accuracy: 0.4722 - val_loss: 1.7376 - val_accuracy: 0.4521\n",
            "Epoch 15/500\n",
            "92/92 [==============================] - 1s 6ms/step - loss: 1.7362 - accuracy: 0.4739 - val_loss: 1.7334 - val_accuracy: 0.4521\n",
            "Epoch 16/500\n",
            "92/92 [==============================] - 1s 7ms/step - loss: 1.7313 - accuracy: 0.4788 - val_loss: 1.7288 - val_accuracy: 0.4521\n",
            "Epoch 17/500\n",
            "92/92 [==============================] - 1s 6ms/step - loss: 1.7271 - accuracy: 0.4779 - val_loss: 1.7240 - val_accuracy: 0.4521\n",
            "Epoch 18/500\n",
            "92/92 [==============================] - 1s 6ms/step - loss: 1.7245 - accuracy: 0.4658 - val_loss: 1.7190 - val_accuracy: 0.4521\n",
            "Epoch 19/500\n",
            "92/92 [==============================] - 1s 6ms/step - loss: 1.7182 - accuracy: 0.4697 - val_loss: 1.7136 - val_accuracy: 0.4521\n",
            "Epoch 20/500\n",
            "92/92 [==============================] - 1s 6ms/step - loss: 1.7091 - accuracy: 0.4779 - val_loss: 1.7080 - val_accuracy: 0.4521\n",
            "Epoch 21/500\n",
            "92/92 [==============================] - 1s 6ms/step - loss: 1.7040 - accuracy: 0.4724 - val_loss: 1.7019 - val_accuracy: 0.4514\n",
            "Epoch 22/500\n",
            "92/92 [==============================] - 1s 6ms/step - loss: 1.6983 - accuracy: 0.4708 - val_loss: 1.6955 - val_accuracy: 0.4507\n",
            "Epoch 23/500\n",
            "92/92 [==============================] - 1s 6ms/step - loss: 1.6921 - accuracy: 0.4715 - val_loss: 1.6887 - val_accuracy: 0.4494\n",
            "Epoch 24/500\n",
            "92/92 [==============================] - 1s 7ms/step - loss: 1.6850 - accuracy: 0.4617 - val_loss: 1.6813 - val_accuracy: 0.4480\n",
            "Epoch 25/500\n",
            "92/92 [==============================] - 1s 7ms/step - loss: 1.6788 - accuracy: 0.4633 - val_loss: 1.6734 - val_accuracy: 0.4473\n",
            "Epoch 26/500\n",
            "92/92 [==============================] - 1s 6ms/step - loss: 1.6683 - accuracy: 0.4674 - val_loss: 1.6651 - val_accuracy: 0.4466\n",
            "Epoch 27/500\n",
            "92/92 [==============================] - 1s 7ms/step - loss: 1.6568 - accuracy: 0.4724 - val_loss: 1.6563 - val_accuracy: 0.4412\n",
            "Epoch 28/500\n",
            "92/92 [==============================] - 1s 7ms/step - loss: 1.6487 - accuracy: 0.4761 - val_loss: 1.6470 - val_accuracy: 0.4426\n",
            "Epoch 29/500\n",
            "92/92 [==============================] - 1s 7ms/step - loss: 1.6424 - accuracy: 0.4660 - val_loss: 1.6373 - val_accuracy: 0.4439\n",
            "Epoch 30/500\n",
            "92/92 [==============================] - 1s 7ms/step - loss: 1.6334 - accuracy: 0.4806 - val_loss: 1.6270 - val_accuracy: 0.4460\n",
            "Epoch 31/500\n",
            "92/92 [==============================] - 1s 7ms/step - loss: 1.6249 - accuracy: 0.4789 - val_loss: 1.6162 - val_accuracy: 0.4487\n",
            "Epoch 32/500\n",
            "92/92 [==============================] - 1s 7ms/step - loss: 1.6128 - accuracy: 0.4819 - val_loss: 1.6048 - val_accuracy: 0.4589\n",
            "Epoch 33/500\n",
            "92/92 [==============================] - 1s 7ms/step - loss: 1.6019 - accuracy: 0.5030 - val_loss: 1.5931 - val_accuracy: 0.4663\n",
            "Epoch 34/500\n",
            "92/92 [==============================] - 1s 6ms/step - loss: 1.5859 - accuracy: 0.5150 - val_loss: 1.5809 - val_accuracy: 0.4697\n",
            "Epoch 35/500\n",
            "92/92 [==============================] - 1s 6ms/step - loss: 1.5760 - accuracy: 0.5225 - val_loss: 1.5686 - val_accuracy: 0.4806\n",
            "Epoch 36/500\n",
            "92/92 [==============================] - 1s 7ms/step - loss: 1.5603 - accuracy: 0.5288 - val_loss: 1.5560 - val_accuracy: 0.4867\n",
            "Epoch 37/500\n",
            "92/92 [==============================] - 1s 7ms/step - loss: 1.5386 - accuracy: 0.5467 - val_loss: 1.5434 - val_accuracy: 0.4935\n",
            "Epoch 38/500\n",
            "92/92 [==============================] - 1s 7ms/step - loss: 1.5357 - accuracy: 0.5319 - val_loss: 1.5308 - val_accuracy: 0.5071\n",
            "Epoch 39/500\n",
            "92/92 [==============================] - 1s 7ms/step - loss: 1.5153 - accuracy: 0.5484 - val_loss: 1.5184 - val_accuracy: 0.5133\n",
            "Epoch 40/500\n",
            "92/92 [==============================] - 1s 7ms/step - loss: 1.5050 - accuracy: 0.5540 - val_loss: 1.5063 - val_accuracy: 0.5180\n",
            "Epoch 41/500\n",
            "92/92 [==============================] - 1s 6ms/step - loss: 1.4891 - accuracy: 0.5674 - val_loss: 1.4944 - val_accuracy: 0.5201\n",
            "Epoch 42/500\n",
            "92/92 [==============================] - 1s 7ms/step - loss: 1.4823 - accuracy: 0.5739 - val_loss: 1.4829 - val_accuracy: 0.5289\n",
            "Epoch 43/500\n",
            "92/92 [==============================] - 1s 7ms/step - loss: 1.4672 - accuracy: 0.5700 - val_loss: 1.4717 - val_accuracy: 0.5350\n",
            "Epoch 44/500\n",
            "92/92 [==============================] - 1s 6ms/step - loss: 1.4641 - accuracy: 0.5695 - val_loss: 1.4611 - val_accuracy: 0.5404\n",
            "Epoch 45/500\n",
            "92/92 [==============================] - 1s 7ms/step - loss: 1.4483 - accuracy: 0.5703 - val_loss: 1.4508 - val_accuracy: 0.5432\n",
            "Epoch 46/500\n",
            "92/92 [==============================] - 1s 7ms/step - loss: 1.4382 - accuracy: 0.5714 - val_loss: 1.4409 - val_accuracy: 0.5493\n",
            "Epoch 47/500\n",
            "92/92 [==============================] - 1s 7ms/step - loss: 1.4254 - accuracy: 0.5917 - val_loss: 1.4315 - val_accuracy: 0.5540\n",
            "Epoch 48/500\n",
            "92/92 [==============================] - 1s 7ms/step - loss: 1.4125 - accuracy: 0.5838 - val_loss: 1.4224 - val_accuracy: 0.5547\n",
            "Epoch 49/500\n",
            "92/92 [==============================] - 1s 7ms/step - loss: 1.4010 - accuracy: 0.5963 - val_loss: 1.4134 - val_accuracy: 0.5588\n",
            "Epoch 50/500\n",
            "92/92 [==============================] - 1s 7ms/step - loss: 1.3906 - accuracy: 0.5940 - val_loss: 1.4048 - val_accuracy: 0.5595\n",
            "Epoch 51/500\n",
            "92/92 [==============================] - 1s 6ms/step - loss: 1.3872 - accuracy: 0.5885 - val_loss: 1.3963 - val_accuracy: 0.5622\n",
            "Epoch 52/500\n",
            "92/92 [==============================] - 1s 6ms/step - loss: 1.3744 - accuracy: 0.5951 - val_loss: 1.3881 - val_accuracy: 0.5622\n",
            "Epoch 53/500\n",
            "92/92 [==============================] - 1s 6ms/step - loss: 1.3572 - accuracy: 0.5936 - val_loss: 1.3799 - val_accuracy: 0.5622\n",
            "Epoch 54/500\n",
            "92/92 [==============================] - 1s 6ms/step - loss: 1.3671 - accuracy: 0.5800 - val_loss: 1.3717 - val_accuracy: 0.5656\n",
            "Epoch 55/500\n",
            "92/92 [==============================] - 1s 6ms/step - loss: 1.3550 - accuracy: 0.5912 - val_loss: 1.3637 - val_accuracy: 0.5649\n",
            "Epoch 56/500\n",
            "92/92 [==============================] - 1s 6ms/step - loss: 1.3438 - accuracy: 0.5927 - val_loss: 1.3558 - val_accuracy: 0.5663\n",
            "Epoch 57/500\n",
            "92/92 [==============================] - 1s 6ms/step - loss: 1.3365 - accuracy: 0.5887 - val_loss: 1.3479 - val_accuracy: 0.5663\n",
            "Epoch 58/500\n",
            "92/92 [==============================] - 1s 7ms/step - loss: 1.3250 - accuracy: 0.5934 - val_loss: 1.3400 - val_accuracy: 0.5676\n",
            "Epoch 59/500\n",
            "92/92 [==============================] - 1s 7ms/step - loss: 1.3182 - accuracy: 0.5912 - val_loss: 1.3322 - val_accuracy: 0.5704\n",
            "Epoch 60/500\n",
            "92/92 [==============================] - 1s 7ms/step - loss: 1.2979 - accuracy: 0.6033 - val_loss: 1.3243 - val_accuracy: 0.5731\n",
            "Epoch 61/500\n",
            "92/92 [==============================] - 1s 6ms/step - loss: 1.3028 - accuracy: 0.5819 - val_loss: 1.3166 - val_accuracy: 0.5704\n",
            "Epoch 62/500\n",
            "92/92 [==============================] - 1s 7ms/step - loss: 1.3070 - accuracy: 0.5804 - val_loss: 1.3088 - val_accuracy: 0.5724\n",
            "Epoch 63/500\n",
            "92/92 [==============================] - 1s 7ms/step - loss: 1.2776 - accuracy: 0.5992 - val_loss: 1.3011 - val_accuracy: 0.5765\n",
            "Epoch 64/500\n",
            "92/92 [==============================] - 1s 7ms/step - loss: 1.2655 - accuracy: 0.5950 - val_loss: 1.2933 - val_accuracy: 0.5778\n",
            "Epoch 65/500\n",
            "92/92 [==============================] - 1s 7ms/step - loss: 1.2611 - accuracy: 0.5948 - val_loss: 1.2852 - val_accuracy: 0.5778\n",
            "Epoch 66/500\n",
            "92/92 [==============================] - 1s 7ms/step - loss: 1.2533 - accuracy: 0.5861 - val_loss: 1.2769 - val_accuracy: 0.5792\n",
            "Epoch 67/500\n",
            "92/92 [==============================] - 1s 6ms/step - loss: 1.2597 - accuracy: 0.5863 - val_loss: 1.2687 - val_accuracy: 0.5799\n",
            "Epoch 68/500\n",
            "92/92 [==============================] - 1s 7ms/step - loss: 1.2377 - accuracy: 0.5945 - val_loss: 1.2601 - val_accuracy: 0.5778\n",
            "Epoch 69/500\n",
            "92/92 [==============================] - 1s 7ms/step - loss: 1.2382 - accuracy: 0.5896 - val_loss: 1.2516 - val_accuracy: 0.5778\n",
            "Epoch 70/500\n",
            "92/92 [==============================] - 1s 7ms/step - loss: 1.2048 - accuracy: 0.6018 - val_loss: 1.2424 - val_accuracy: 0.5799\n",
            "Epoch 71/500\n",
            "92/92 [==============================] - 1s 6ms/step - loss: 1.2158 - accuracy: 0.5967 - val_loss: 1.2332 - val_accuracy: 0.5772\n",
            "Epoch 72/500\n",
            "92/92 [==============================] - 1s 7ms/step - loss: 1.2084 - accuracy: 0.5911 - val_loss: 1.2238 - val_accuracy: 0.5792\n",
            "Epoch 73/500\n",
            "92/92 [==============================] - 1s 7ms/step - loss: 1.1919 - accuracy: 0.5909 - val_loss: 1.2144 - val_accuracy: 0.5765\n",
            "Epoch 74/500\n",
            "92/92 [==============================] - 1s 6ms/step - loss: 1.1875 - accuracy: 0.5948 - val_loss: 1.2037 - val_accuracy: 0.5812\n",
            "Epoch 75/500\n",
            "92/92 [==============================] - 1s 7ms/step - loss: 1.1699 - accuracy: 0.5895 - val_loss: 1.1936 - val_accuracy: 0.5812\n",
            "Epoch 76/500\n",
            "92/92 [==============================] - 1s 6ms/step - loss: 1.1367 - accuracy: 0.6119 - val_loss: 1.1825 - val_accuracy: 0.5860\n",
            "Epoch 77/500\n",
            "92/92 [==============================] - 1s 7ms/step - loss: 1.1467 - accuracy: 0.5920 - val_loss: 1.1722 - val_accuracy: 0.5799\n",
            "Epoch 78/500\n",
            "92/92 [==============================] - 1s 7ms/step - loss: 1.1262 - accuracy: 0.5884 - val_loss: 1.1601 - val_accuracy: 0.5812\n",
            "Epoch 79/500\n",
            "92/92 [==============================] - 1s 7ms/step - loss: 1.1166 - accuracy: 0.5991 - val_loss: 1.1485 - val_accuracy: 0.5826\n",
            "Epoch 80/500\n",
            "92/92 [==============================] - 1s 7ms/step - loss: 1.1096 - accuracy: 0.6016 - val_loss: 1.1355 - val_accuracy: 0.5948\n",
            "Epoch 81/500\n",
            "92/92 [==============================] - 1s 8ms/step - loss: 1.0962 - accuracy: 0.5988 - val_loss: 1.1230 - val_accuracy: 0.5948\n",
            "Epoch 82/500\n",
            "92/92 [==============================] - 1s 7ms/step - loss: 1.0813 - accuracy: 0.6077 - val_loss: 1.1102 - val_accuracy: 0.5962\n",
            "Epoch 83/500\n",
            "92/92 [==============================] - 1s 7ms/step - loss: 1.0587 - accuracy: 0.6121 - val_loss: 1.0972 - val_accuracy: 0.5955\n",
            "Epoch 84/500\n",
            "92/92 [==============================] - 1s 7ms/step - loss: 1.0526 - accuracy: 0.6200 - val_loss: 1.0834 - val_accuracy: 0.5989\n",
            "Epoch 85/500\n",
            "92/92 [==============================] - 1s 7ms/step - loss: 1.0504 - accuracy: 0.6167 - val_loss: 1.0697 - val_accuracy: 0.6010\n",
            "Epoch 86/500\n",
            "92/92 [==============================] - 1s 7ms/step - loss: 1.0204 - accuracy: 0.6261 - val_loss: 1.0543 - val_accuracy: 0.6173\n",
            "Epoch 87/500\n",
            "92/92 [==============================] - 1s 7ms/step - loss: 1.0120 - accuracy: 0.6294 - val_loss: 1.0404 - val_accuracy: 0.6186\n",
            "Epoch 88/500\n",
            "92/92 [==============================] - 1s 7ms/step - loss: 0.9965 - accuracy: 0.6324 - val_loss: 1.0242 - val_accuracy: 0.6295\n",
            "Epoch 89/500\n",
            "92/92 [==============================] - 1s 7ms/step - loss: 0.9614 - accuracy: 0.6580 - val_loss: 1.0087 - val_accuracy: 0.6356\n",
            "Epoch 90/500\n",
            "92/92 [==============================] - 1s 7ms/step - loss: 0.9491 - accuracy: 0.6504 - val_loss: 0.9941 - val_accuracy: 0.6329\n",
            "Epoch 91/500\n",
            "92/92 [==============================] - 1s 7ms/step - loss: 0.9310 - accuracy: 0.6641 - val_loss: 0.9785 - val_accuracy: 0.6424\n",
            "Epoch 92/500\n",
            "92/92 [==============================] - 1s 7ms/step - loss: 0.9155 - accuracy: 0.6768 - val_loss: 0.9630 - val_accuracy: 0.6479\n",
            "Epoch 93/500\n",
            "92/92 [==============================] - 1s 7ms/step - loss: 0.9034 - accuracy: 0.6700 - val_loss: 0.9486 - val_accuracy: 0.6485\n",
            "Epoch 94/500\n",
            "92/92 [==============================] - 1s 6ms/step - loss: 0.8825 - accuracy: 0.6778 - val_loss: 0.9337 - val_accuracy: 0.6506\n",
            "Epoch 95/500\n",
            "92/92 [==============================] - 1s 6ms/step - loss: 0.8755 - accuracy: 0.6767 - val_loss: 0.9189 - val_accuracy: 0.6635\n",
            "Epoch 96/500\n",
            "92/92 [==============================] - 1s 7ms/step - loss: 0.8555 - accuracy: 0.6865 - val_loss: 0.9060 - val_accuracy: 0.6553\n",
            "Epoch 97/500\n",
            "92/92 [==============================] - 1s 7ms/step - loss: 0.8253 - accuracy: 0.7052 - val_loss: 0.8929 - val_accuracy: 0.6574\n",
            "Epoch 98/500\n",
            "92/92 [==============================] - 1s 7ms/step - loss: 0.8296 - accuracy: 0.6864 - val_loss: 0.8791 - val_accuracy: 0.6683\n",
            "Epoch 99/500\n",
            "92/92 [==============================] - 1s 7ms/step - loss: 0.8008 - accuracy: 0.7030 - val_loss: 0.8691 - val_accuracy: 0.6601\n",
            "Epoch 100/500\n",
            "92/92 [==============================] - 1s 7ms/step - loss: 0.7884 - accuracy: 0.6970 - val_loss: 0.8559 - val_accuracy: 0.6737\n",
            "Epoch 101/500\n",
            "92/92 [==============================] - 1s 7ms/step - loss: 0.7860 - accuracy: 0.7029 - val_loss: 0.8460 - val_accuracy: 0.6778\n",
            "Epoch 102/500\n",
            "92/92 [==============================] - 1s 7ms/step - loss: 0.7671 - accuracy: 0.7077 - val_loss: 0.8359 - val_accuracy: 0.6791\n",
            "Epoch 103/500\n",
            "92/92 [==============================] - 1s 7ms/step - loss: 0.7552 - accuracy: 0.7193 - val_loss: 0.8275 - val_accuracy: 0.6785\n",
            "Epoch 104/500\n",
            "92/92 [==============================] - 1s 7ms/step - loss: 0.7401 - accuracy: 0.7250 - val_loss: 0.8212 - val_accuracy: 0.6689\n",
            "Epoch 105/500\n",
            "92/92 [==============================] - 1s 7ms/step - loss: 0.7431 - accuracy: 0.7113 - val_loss: 0.8142 - val_accuracy: 0.6703\n",
            "Epoch 106/500\n",
            "92/92 [==============================] - 1s 7ms/step - loss: 0.7418 - accuracy: 0.7023 - val_loss: 0.8054 - val_accuracy: 0.6791\n",
            "Epoch 107/500\n",
            "92/92 [==============================] - 1s 7ms/step - loss: 0.7116 - accuracy: 0.7166 - val_loss: 0.7996 - val_accuracy: 0.6771\n",
            "Epoch 108/500\n",
            "92/92 [==============================] - 1s 7ms/step - loss: 0.7077 - accuracy: 0.7139 - val_loss: 0.7935 - val_accuracy: 0.6805\n",
            "Epoch 109/500\n",
            "92/92 [==============================] - 1s 6ms/step - loss: 0.7080 - accuracy: 0.7155 - val_loss: 0.7877 - val_accuracy: 0.6846\n",
            "Epoch 110/500\n",
            "92/92 [==============================] - 1s 7ms/step - loss: 0.6984 - accuracy: 0.7206 - val_loss: 0.7817 - val_accuracy: 0.6818\n",
            "Epoch 111/500\n",
            "92/92 [==============================] - 1s 6ms/step - loss: 0.6899 - accuracy: 0.7214 - val_loss: 0.7768 - val_accuracy: 0.6886\n",
            "Epoch 112/500\n",
            "92/92 [==============================] - 1s 7ms/step - loss: 0.6856 - accuracy: 0.7120 - val_loss: 0.7724 - val_accuracy: 0.6893\n",
            "Epoch 113/500\n",
            "92/92 [==============================] - 1s 7ms/step - loss: 0.6842 - accuracy: 0.7282 - val_loss: 0.7704 - val_accuracy: 0.6771\n",
            "Epoch 114/500\n",
            "92/92 [==============================] - 1s 7ms/step - loss: 0.6747 - accuracy: 0.7218 - val_loss: 0.7679 - val_accuracy: 0.6791\n",
            "Epoch 115/500\n",
            "92/92 [==============================] - 1s 7ms/step - loss: 0.6720 - accuracy: 0.7214 - val_loss: 0.7607 - val_accuracy: 0.6934\n",
            "Epoch 116/500\n",
            "92/92 [==============================] - 1s 7ms/step - loss: 0.6734 - accuracy: 0.7169 - val_loss: 0.7579 - val_accuracy: 0.6920\n",
            "Epoch 117/500\n",
            "92/92 [==============================] - 1s 6ms/step - loss: 0.6615 - accuracy: 0.7201 - val_loss: 0.7546 - val_accuracy: 0.6914\n",
            "Epoch 118/500\n",
            "92/92 [==============================] - 1s 7ms/step - loss: 0.6600 - accuracy: 0.7156 - val_loss: 0.7531 - val_accuracy: 0.6859\n",
            "Epoch 119/500\n",
            "92/92 [==============================] - 1s 7ms/step - loss: 0.6488 - accuracy: 0.7247 - val_loss: 0.7468 - val_accuracy: 0.7056\n",
            "Epoch 120/500\n",
            "92/92 [==============================] - 1s 7ms/step - loss: 0.6298 - accuracy: 0.7319 - val_loss: 0.7486 - val_accuracy: 0.6907\n",
            "Epoch 121/500\n",
            "92/92 [==============================] - 1s 7ms/step - loss: 0.6483 - accuracy: 0.7140 - val_loss: 0.7404 - val_accuracy: 0.7097\n",
            "Epoch 122/500\n",
            "92/92 [==============================] - 1s 7ms/step - loss: 0.6328 - accuracy: 0.7273 - val_loss: 0.7448 - val_accuracy: 0.6941\n",
            "Epoch 123/500\n",
            "92/92 [==============================] - 1s 7ms/step - loss: 0.6293 - accuracy: 0.7241 - val_loss: 0.7430 - val_accuracy: 0.6880\n",
            "Epoch 124/500\n",
            "92/92 [==============================] - 1s 7ms/step - loss: 0.6302 - accuracy: 0.7256 - val_loss: 0.7379 - val_accuracy: 0.6961\n",
            "Epoch 125/500\n",
            "92/92 [==============================] - 1s 7ms/step - loss: 0.6226 - accuracy: 0.7387 - val_loss: 0.7362 - val_accuracy: 0.6982\n",
            "Epoch 126/500\n",
            "92/92 [==============================] - 1s 7ms/step - loss: 0.6155 - accuracy: 0.7406 - val_loss: 0.7370 - val_accuracy: 0.6988\n",
            "Epoch 127/500\n",
            "92/92 [==============================] - 1s 7ms/step - loss: 0.6071 - accuracy: 0.7505 - val_loss: 0.7314 - val_accuracy: 0.7165\n",
            "Epoch 128/500\n",
            "92/92 [==============================] - 1s 7ms/step - loss: 0.6137 - accuracy: 0.7382 - val_loss: 0.7301 - val_accuracy: 0.7165\n",
            "Epoch 129/500\n",
            "92/92 [==============================] - 1s 7ms/step - loss: 0.5939 - accuracy: 0.7620 - val_loss: 0.7226 - val_accuracy: 0.7362\n",
            "Epoch 130/500\n",
            "92/92 [==============================] - 1s 7ms/step - loss: 0.6000 - accuracy: 0.7461 - val_loss: 0.7277 - val_accuracy: 0.7220\n",
            "Epoch 131/500\n",
            "92/92 [==============================] - 1s 7ms/step - loss: 0.5869 - accuracy: 0.7623 - val_loss: 0.7254 - val_accuracy: 0.7233\n",
            "Epoch 132/500\n",
            "92/92 [==============================] - 1s 6ms/step - loss: 0.5859 - accuracy: 0.7634 - val_loss: 0.7235 - val_accuracy: 0.7267\n",
            "Epoch 133/500\n",
            "92/92 [==============================] - 1s 7ms/step - loss: 0.5994 - accuracy: 0.7629 - val_loss: 0.7174 - val_accuracy: 0.7356\n",
            "Epoch 134/500\n",
            "92/92 [==============================] - 1s 6ms/step - loss: 0.5992 - accuracy: 0.7514 - val_loss: 0.7187 - val_accuracy: 0.7260\n",
            "Epoch 135/500\n",
            "92/92 [==============================] - 1s 7ms/step - loss: 0.5759 - accuracy: 0.7774 - val_loss: 0.7139 - val_accuracy: 0.7342\n",
            "Epoch 136/500\n",
            "92/92 [==============================] - 1s 7ms/step - loss: 0.5823 - accuracy: 0.7618 - val_loss: 0.7147 - val_accuracy: 0.7335\n",
            "Epoch 137/500\n",
            "92/92 [==============================] - 1s 7ms/step - loss: 0.5674 - accuracy: 0.7897 - val_loss: 0.7125 - val_accuracy: 0.7362\n",
            "Epoch 138/500\n",
            "92/92 [==============================] - 1s 7ms/step - loss: 0.5777 - accuracy: 0.7849 - val_loss: 0.7124 - val_accuracy: 0.7369\n",
            "Epoch 139/500\n",
            "92/92 [==============================] - 1s 7ms/step - loss: 0.5677 - accuracy: 0.7789 - val_loss: 0.7046 - val_accuracy: 0.7464\n",
            "Epoch 140/500\n",
            "92/92 [==============================] - 1s 7ms/step - loss: 0.5654 - accuracy: 0.7745 - val_loss: 0.7040 - val_accuracy: 0.7478\n",
            "Epoch 141/500\n",
            "92/92 [==============================] - 1s 7ms/step - loss: 0.5561 - accuracy: 0.7872 - val_loss: 0.6990 - val_accuracy: 0.7478\n",
            "Epoch 142/500\n",
            "92/92 [==============================] - 1s 6ms/step - loss: 0.5523 - accuracy: 0.7858 - val_loss: 0.6968 - val_accuracy: 0.7492\n",
            "Epoch 143/500\n",
            "92/92 [==============================] - 1s 8ms/step - loss: 0.5478 - accuracy: 0.7903 - val_loss: 0.7011 - val_accuracy: 0.7559\n",
            "Epoch 144/500\n",
            "92/92 [==============================] - 1s 7ms/step - loss: 0.5549 - accuracy: 0.7879 - val_loss: 0.6956 - val_accuracy: 0.7668\n",
            "Epoch 145/500\n",
            "92/92 [==============================] - 1s 7ms/step - loss: 0.5467 - accuracy: 0.7937 - val_loss: 0.6929 - val_accuracy: 0.7655\n",
            "Epoch 146/500\n",
            "92/92 [==============================] - 1s 7ms/step - loss: 0.5591 - accuracy: 0.7869 - val_loss: 0.6927 - val_accuracy: 0.7668\n",
            "Epoch 147/500\n",
            "92/92 [==============================] - 1s 7ms/step - loss: 0.5377 - accuracy: 0.8050 - val_loss: 0.6884 - val_accuracy: 0.7648\n",
            "Epoch 148/500\n",
            "92/92 [==============================] - 1s 7ms/step - loss: 0.5343 - accuracy: 0.8011 - val_loss: 0.6940 - val_accuracy: 0.7627\n",
            "Epoch 149/500\n",
            "92/92 [==============================] - 1s 6ms/step - loss: 0.5304 - accuracy: 0.7960 - val_loss: 0.7054 - val_accuracy: 0.7512\n",
            "Epoch 150/500\n",
            "92/92 [==============================] - 1s 7ms/step - loss: 0.5361 - accuracy: 0.7981 - val_loss: 0.6920 - val_accuracy: 0.7641\n",
            "Epoch 151/500\n",
            "92/92 [==============================] - 1s 7ms/step - loss: 0.5207 - accuracy: 0.8053 - val_loss: 0.6769 - val_accuracy: 0.7750\n",
            "Epoch 152/500\n",
            "92/92 [==============================] - 1s 6ms/step - loss: 0.5304 - accuracy: 0.7999 - val_loss: 0.6776 - val_accuracy: 0.7689\n",
            "Epoch 153/500\n",
            "92/92 [==============================] - 1s 7ms/step - loss: 0.5243 - accuracy: 0.8009 - val_loss: 0.6824 - val_accuracy: 0.7770\n",
            "Epoch 154/500\n",
            "92/92 [==============================] - 1s 6ms/step - loss: 0.5125 - accuracy: 0.8032 - val_loss: 0.6932 - val_accuracy: 0.7675\n",
            "Epoch 155/500\n",
            "92/92 [==============================] - 1s 7ms/step - loss: 0.5114 - accuracy: 0.8069 - val_loss: 0.6968 - val_accuracy: 0.7525\n",
            "Epoch 156/500\n",
            "92/92 [==============================] - 1s 7ms/step - loss: 0.5180 - accuracy: 0.7999 - val_loss: 0.6734 - val_accuracy: 0.7757\n",
            "Epoch 157/500\n",
            "92/92 [==============================] - 1s 6ms/step - loss: 0.5191 - accuracy: 0.7994 - val_loss: 0.6828 - val_accuracy: 0.7729\n",
            "Epoch 158/500\n",
            "92/92 [==============================] - 1s 6ms/step - loss: 0.5156 - accuracy: 0.8063 - val_loss: 0.6671 - val_accuracy: 0.7825\n",
            "Epoch 159/500\n",
            "92/92 [==============================] - 1s 7ms/step - loss: 0.5013 - accuracy: 0.8164 - val_loss: 0.6844 - val_accuracy: 0.7668\n",
            "Epoch 160/500\n",
            "92/92 [==============================] - 1s 7ms/step - loss: 0.4965 - accuracy: 0.8164 - val_loss: 0.6597 - val_accuracy: 0.7797\n",
            "Epoch 161/500\n",
            "92/92 [==============================] - 1s 7ms/step - loss: 0.5051 - accuracy: 0.8065 - val_loss: 0.6710 - val_accuracy: 0.7811\n",
            "Epoch 162/500\n",
            "92/92 [==============================] - 1s 7ms/step - loss: 0.5111 - accuracy: 0.7956 - val_loss: 0.6690 - val_accuracy: 0.7784\n",
            "Epoch 163/500\n",
            "92/92 [==============================] - 1s 7ms/step - loss: 0.4817 - accuracy: 0.8259 - val_loss: 0.6948 - val_accuracy: 0.7525\n",
            "Epoch 164/500\n",
            "92/92 [==============================] - 1s 7ms/step - loss: 0.4976 - accuracy: 0.8086 - val_loss: 0.6611 - val_accuracy: 0.7811\n",
            "Epoch 165/500\n",
            "92/92 [==============================] - 1s 6ms/step - loss: 0.5019 - accuracy: 0.8057 - val_loss: 0.6548 - val_accuracy: 0.7852\n",
            "Epoch 166/500\n",
            "92/92 [==============================] - 1s 7ms/step - loss: 0.4933 - accuracy: 0.8108 - val_loss: 0.6605 - val_accuracy: 0.7825\n",
            "Epoch 167/500\n",
            "92/92 [==============================] - 1s 7ms/step - loss: 0.4866 - accuracy: 0.8150 - val_loss: 0.6527 - val_accuracy: 0.7859\n",
            "Epoch 168/500\n",
            "92/92 [==============================] - 1s 7ms/step - loss: 0.4832 - accuracy: 0.8146 - val_loss: 0.6556 - val_accuracy: 0.7804\n",
            "Epoch 169/500\n",
            "92/92 [==============================] - 1s 7ms/step - loss: 0.4763 - accuracy: 0.8227 - val_loss: 0.6595 - val_accuracy: 0.7838\n",
            "Epoch 170/500\n",
            "92/92 [==============================] - 1s 6ms/step - loss: 0.4703 - accuracy: 0.8199 - val_loss: 0.6501 - val_accuracy: 0.7879\n",
            "Epoch 171/500\n",
            "92/92 [==============================] - 1s 7ms/step - loss: 0.4759 - accuracy: 0.8179 - val_loss: 0.6520 - val_accuracy: 0.7899\n",
            "Epoch 172/500\n",
            "92/92 [==============================] - 1s 6ms/step - loss: 0.4656 - accuracy: 0.8219 - val_loss: 0.6376 - val_accuracy: 0.7947\n",
            "Epoch 173/500\n",
            "92/92 [==============================] - 1s 7ms/step - loss: 0.4728 - accuracy: 0.8214 - val_loss: 0.6692 - val_accuracy: 0.7689\n",
            "Epoch 174/500\n",
            "92/92 [==============================] - 1s 7ms/step - loss: 0.4645 - accuracy: 0.8214 - val_loss: 0.6362 - val_accuracy: 0.7933\n",
            "Epoch 175/500\n",
            "92/92 [==============================] - 1s 7ms/step - loss: 0.4640 - accuracy: 0.8225 - val_loss: 0.6343 - val_accuracy: 0.7954\n",
            "Epoch 176/500\n",
            "92/92 [==============================] - 1s 7ms/step - loss: 0.4693 - accuracy: 0.8176 - val_loss: 0.6451 - val_accuracy: 0.7845\n",
            "Epoch 177/500\n",
            "92/92 [==============================] - 1s 7ms/step - loss: 0.4595 - accuracy: 0.8182 - val_loss: 0.6575 - val_accuracy: 0.7770\n",
            "Epoch 178/500\n",
            "92/92 [==============================] - 1s 7ms/step - loss: 0.4612 - accuracy: 0.8249 - val_loss: 0.6349 - val_accuracy: 0.7927\n",
            "Epoch 179/500\n",
            "92/92 [==============================] - 1s 7ms/step - loss: 0.4571 - accuracy: 0.8230 - val_loss: 0.6450 - val_accuracy: 0.7865\n",
            "Epoch 180/500\n",
            "92/92 [==============================] - 1s 7ms/step - loss: 0.4406 - accuracy: 0.8370 - val_loss: 0.6336 - val_accuracy: 0.7927\n",
            "Epoch 181/500\n",
            "92/92 [==============================] - 1s 7ms/step - loss: 0.4512 - accuracy: 0.8291 - val_loss: 0.6742 - val_accuracy: 0.7614\n",
            "Epoch 182/500\n",
            "92/92 [==============================] - 1s 7ms/step - loss: 0.4606 - accuracy: 0.8274 - val_loss: 0.6390 - val_accuracy: 0.7913\n",
            "Epoch 183/500\n",
            "92/92 [==============================] - 1s 7ms/step - loss: 0.4426 - accuracy: 0.8265 - val_loss: 0.6177 - val_accuracy: 0.8083\n",
            "Epoch 184/500\n",
            "92/92 [==============================] - 1s 7ms/step - loss: 0.4563 - accuracy: 0.8222 - val_loss: 0.6251 - val_accuracy: 0.7988\n",
            "Epoch 185/500\n",
            "92/92 [==============================] - 1s 7ms/step - loss: 0.4498 - accuracy: 0.8209 - val_loss: 0.6778 - val_accuracy: 0.7587\n",
            "Epoch 186/500\n",
            "92/92 [==============================] - 1s 7ms/step - loss: 0.4453 - accuracy: 0.8250 - val_loss: 0.6082 - val_accuracy: 0.8185\n",
            "Epoch 187/500\n",
            "92/92 [==============================] - 1s 7ms/step - loss: 0.4344 - accuracy: 0.8266 - val_loss: 0.6075 - val_accuracy: 0.8137\n",
            "Epoch 188/500\n",
            "92/92 [==============================] - 1s 7ms/step - loss: 0.4427 - accuracy: 0.8275 - val_loss: 0.6017 - val_accuracy: 0.8151\n",
            "Epoch 189/500\n",
            "92/92 [==============================] - 1s 7ms/step - loss: 0.4405 - accuracy: 0.8288 - val_loss: 0.6017 - val_accuracy: 0.8212\n",
            "Epoch 190/500\n",
            "92/92 [==============================] - 1s 7ms/step - loss: 0.4342 - accuracy: 0.8292 - val_loss: 0.6151 - val_accuracy: 0.8029\n",
            "Epoch 191/500\n",
            "92/92 [==============================] - 1s 7ms/step - loss: 0.4445 - accuracy: 0.8269 - val_loss: 0.6133 - val_accuracy: 0.7995\n",
            "Epoch 192/500\n",
            "92/92 [==============================] - 1s 7ms/step - loss: 0.4424 - accuracy: 0.8254 - val_loss: 0.6171 - val_accuracy: 0.7954\n",
            "Epoch 193/500\n",
            "92/92 [==============================] - 1s 7ms/step - loss: 0.4410 - accuracy: 0.8295 - val_loss: 0.5976 - val_accuracy: 0.8205\n",
            "Epoch 194/500\n",
            "92/92 [==============================] - 1s 7ms/step - loss: 0.4276 - accuracy: 0.8409 - val_loss: 0.6284 - val_accuracy: 0.7906\n",
            "Epoch 195/500\n",
            "92/92 [==============================] - 1s 7ms/step - loss: 0.4077 - accuracy: 0.8448 - val_loss: 0.5993 - val_accuracy: 0.8083\n",
            "Epoch 196/500\n",
            "92/92 [==============================] - 1s 7ms/step - loss: 0.4241 - accuracy: 0.8347 - val_loss: 0.6151 - val_accuracy: 0.8008\n",
            "Epoch 197/500\n",
            "92/92 [==============================] - 1s 7ms/step - loss: 0.4165 - accuracy: 0.8425 - val_loss: 0.5994 - val_accuracy: 0.8117\n",
            "Epoch 198/500\n",
            "92/92 [==============================] - 1s 7ms/step - loss: 0.3982 - accuracy: 0.8474 - val_loss: 0.6051 - val_accuracy: 0.8076\n",
            "Epoch 199/500\n",
            "92/92 [==============================] - 1s 7ms/step - loss: 0.4199 - accuracy: 0.8447 - val_loss: 0.6345 - val_accuracy: 0.7784\n",
            "Epoch 200/500\n",
            "92/92 [==============================] - 1s 7ms/step - loss: 0.4119 - accuracy: 0.8442 - val_loss: 0.6378 - val_accuracy: 0.7770\n",
            "Epoch 201/500\n",
            "92/92 [==============================] - 1s 7ms/step - loss: 0.4145 - accuracy: 0.8439 - val_loss: 0.5754 - val_accuracy: 0.8341\n",
            "Epoch 202/500\n",
            "92/92 [==============================] - 1s 7ms/step - loss: 0.4208 - accuracy: 0.8363 - val_loss: 0.5782 - val_accuracy: 0.8280\n",
            "Epoch 203/500\n",
            "92/92 [==============================] - 1s 7ms/step - loss: 0.4047 - accuracy: 0.8458 - val_loss: 0.5775 - val_accuracy: 0.8226\n",
            "Epoch 204/500\n",
            "92/92 [==============================] - 1s 7ms/step - loss: 0.3903 - accuracy: 0.8491 - val_loss: 0.5908 - val_accuracy: 0.8097\n",
            "Epoch 205/500\n",
            "92/92 [==============================] - 1s 7ms/step - loss: 0.3928 - accuracy: 0.8552 - val_loss: 0.5986 - val_accuracy: 0.8001\n",
            "Epoch 206/500\n",
            "92/92 [==============================] - 1s 7ms/step - loss: 0.3861 - accuracy: 0.8567 - val_loss: 0.5739 - val_accuracy: 0.8232\n",
            "Epoch 207/500\n",
            "92/92 [==============================] - 1s 7ms/step - loss: 0.3865 - accuracy: 0.8579 - val_loss: 0.5886 - val_accuracy: 0.8097\n",
            "Epoch 208/500\n",
            "92/92 [==============================] - 1s 7ms/step - loss: 0.3958 - accuracy: 0.8517 - val_loss: 0.5825 - val_accuracy: 0.8137\n",
            "Epoch 209/500\n",
            "92/92 [==============================] - 1s 7ms/step - loss: 0.3931 - accuracy: 0.8488 - val_loss: 0.5681 - val_accuracy: 0.8253\n",
            "Epoch 210/500\n",
            "92/92 [==============================] - 1s 7ms/step - loss: 0.3945 - accuracy: 0.8437 - val_loss: 0.5890 - val_accuracy: 0.8076\n",
            "Epoch 211/500\n",
            "92/92 [==============================] - 1s 7ms/step - loss: 0.3966 - accuracy: 0.8470 - val_loss: 0.5848 - val_accuracy: 0.8165\n",
            "Epoch 212/500\n",
            "92/92 [==============================] - 1s 7ms/step - loss: 0.3649 - accuracy: 0.8673 - val_loss: 0.5873 - val_accuracy: 0.8137\n",
            "Epoch 213/500\n",
            "92/92 [==============================] - 1s 7ms/step - loss: 0.3783 - accuracy: 0.8579 - val_loss: 0.5900 - val_accuracy: 0.8076\n",
            "Epoch 214/500\n",
            "92/92 [==============================] - 1s 7ms/step - loss: 0.3773 - accuracy: 0.8595 - val_loss: 0.5552 - val_accuracy: 0.8430\n",
            "Epoch 215/500\n",
            "92/92 [==============================] - 1s 7ms/step - loss: 0.3739 - accuracy: 0.8617 - val_loss: 0.5667 - val_accuracy: 0.8232\n",
            "Epoch 216/500\n",
            "92/92 [==============================] - 1s 7ms/step - loss: 0.3726 - accuracy: 0.8628 - val_loss: 0.5669 - val_accuracy: 0.8219\n",
            "Epoch 217/500\n",
            "92/92 [==============================] - 1s 7ms/step - loss: 0.3761 - accuracy: 0.8585 - val_loss: 0.6224 - val_accuracy: 0.7872\n",
            "Epoch 218/500\n",
            "92/92 [==============================] - 1s 8ms/step - loss: 0.3679 - accuracy: 0.8703 - val_loss: 0.5606 - val_accuracy: 0.8246\n",
            "Epoch 219/500\n",
            "92/92 [==============================] - 1s 7ms/step - loss: 0.3661 - accuracy: 0.8681 - val_loss: 0.5830 - val_accuracy: 0.8049\n",
            "Epoch 220/500\n",
            "92/92 [==============================] - 1s 7ms/step - loss: 0.3604 - accuracy: 0.8700 - val_loss: 0.5940 - val_accuracy: 0.7961\n",
            "Epoch 221/500\n",
            "92/92 [==============================] - 1s 6ms/step - loss: 0.3552 - accuracy: 0.8725 - val_loss: 0.6028 - val_accuracy: 0.7967\n",
            "Epoch 222/500\n",
            "92/92 [==============================] - 1s 7ms/step - loss: 0.3671 - accuracy: 0.8614 - val_loss: 0.5417 - val_accuracy: 0.8423\n",
            "Epoch 223/500\n",
            "92/92 [==============================] - 1s 6ms/step - loss: 0.3610 - accuracy: 0.8631 - val_loss: 0.5394 - val_accuracy: 0.8484\n",
            "Epoch 224/500\n",
            "92/92 [==============================] - 1s 7ms/step - loss: 0.3593 - accuracy: 0.8658 - val_loss: 0.5281 - val_accuracy: 0.8579\n",
            "Epoch 225/500\n",
            "92/92 [==============================] - 1s 7ms/step - loss: 0.3463 - accuracy: 0.8737 - val_loss: 0.5610 - val_accuracy: 0.8212\n",
            "Epoch 226/500\n",
            "92/92 [==============================] - 1s 7ms/step - loss: 0.3549 - accuracy: 0.8657 - val_loss: 0.5675 - val_accuracy: 0.8151\n",
            "Epoch 227/500\n",
            "92/92 [==============================] - 1s 7ms/step - loss: 0.3331 - accuracy: 0.8795 - val_loss: 0.5206 - val_accuracy: 0.8613\n",
            "Epoch 228/500\n",
            "92/92 [==============================] - 1s 7ms/step - loss: 0.3407 - accuracy: 0.8748 - val_loss: 0.5243 - val_accuracy: 0.8545\n",
            "Epoch 229/500\n",
            "92/92 [==============================] - 1s 7ms/step - loss: 0.3365 - accuracy: 0.8744 - val_loss: 0.5211 - val_accuracy: 0.8627\n",
            "Epoch 230/500\n",
            "92/92 [==============================] - 1s 7ms/step - loss: 0.3390 - accuracy: 0.8744 - val_loss: 0.5788 - val_accuracy: 0.8090\n",
            "Epoch 231/500\n",
            "92/92 [==============================] - 1s 7ms/step - loss: 0.3383 - accuracy: 0.8703 - val_loss: 0.5398 - val_accuracy: 0.8389\n",
            "Epoch 232/500\n",
            "92/92 [==============================] - 1s 7ms/step - loss: 0.3323 - accuracy: 0.8770 - val_loss: 0.5724 - val_accuracy: 0.8124\n",
            "Epoch 233/500\n",
            "92/92 [==============================] - 1s 7ms/step - loss: 0.3300 - accuracy: 0.8796 - val_loss: 0.5170 - val_accuracy: 0.8606\n",
            "Epoch 234/500\n",
            "92/92 [==============================] - 1s 7ms/step - loss: 0.3344 - accuracy: 0.8773 - val_loss: 0.5239 - val_accuracy: 0.8457\n",
            "Epoch 235/500\n",
            "92/92 [==============================] - 1s 7ms/step - loss: 0.3186 - accuracy: 0.8861 - val_loss: 0.5054 - val_accuracy: 0.8579\n",
            "Epoch 236/500\n",
            "92/92 [==============================] - 1s 7ms/step - loss: 0.3218 - accuracy: 0.8882 - val_loss: 0.5188 - val_accuracy: 0.8511\n",
            "Epoch 237/500\n",
            "92/92 [==============================] - 1s 7ms/step - loss: 0.3226 - accuracy: 0.8843 - val_loss: 0.5522 - val_accuracy: 0.8287\n",
            "Epoch 238/500\n",
            "92/92 [==============================] - 1s 7ms/step - loss: 0.3342 - accuracy: 0.8772 - val_loss: 0.5103 - val_accuracy: 0.8613\n",
            "Epoch 239/500\n",
            "92/92 [==============================] - 1s 7ms/step - loss: 0.3064 - accuracy: 0.8966 - val_loss: 0.4992 - val_accuracy: 0.8668\n",
            "Epoch 240/500\n",
            "92/92 [==============================] - 1s 7ms/step - loss: 0.3167 - accuracy: 0.8863 - val_loss: 0.5133 - val_accuracy: 0.8545\n",
            "Epoch 241/500\n",
            "92/92 [==============================] - 1s 7ms/step - loss: 0.3075 - accuracy: 0.8886 - val_loss: 0.4981 - val_accuracy: 0.8654\n",
            "Epoch 242/500\n",
            "92/92 [==============================] - 1s 7ms/step - loss: 0.3056 - accuracy: 0.8889 - val_loss: 0.5207 - val_accuracy: 0.8504\n",
            "Epoch 243/500\n",
            "92/92 [==============================] - 1s 7ms/step - loss: 0.3079 - accuracy: 0.8955 - val_loss: 0.5323 - val_accuracy: 0.8423\n",
            "Epoch 244/500\n",
            "92/92 [==============================] - 1s 7ms/step - loss: 0.3156 - accuracy: 0.8882 - val_loss: 0.5310 - val_accuracy: 0.8423\n",
            "Epoch 245/500\n",
            "92/92 [==============================] - 1s 7ms/step - loss: 0.3025 - accuracy: 0.8961 - val_loss: 0.4925 - val_accuracy: 0.8647\n",
            "Epoch 246/500\n",
            "92/92 [==============================] - 1s 7ms/step - loss: 0.3087 - accuracy: 0.8930 - val_loss: 0.5736 - val_accuracy: 0.8137\n",
            "Epoch 247/500\n",
            "92/92 [==============================] - 1s 7ms/step - loss: 0.3135 - accuracy: 0.8851 - val_loss: 0.4932 - val_accuracy: 0.8668\n",
            "Epoch 248/500\n",
            "92/92 [==============================] - 1s 7ms/step - loss: 0.2844 - accuracy: 0.8984 - val_loss: 0.4928 - val_accuracy: 0.8674\n",
            "Epoch 249/500\n",
            "92/92 [==============================] - 1s 7ms/step - loss: 0.3108 - accuracy: 0.8884 - val_loss: 0.4860 - val_accuracy: 0.8688\n",
            "Epoch 250/500\n",
            "92/92 [==============================] - 1s 7ms/step - loss: 0.2948 - accuracy: 0.8984 - val_loss: 0.4920 - val_accuracy: 0.8668\n",
            "Epoch 251/500\n",
            "92/92 [==============================] - 1s 7ms/step - loss: 0.2774 - accuracy: 0.9059 - val_loss: 0.4893 - val_accuracy: 0.8674\n",
            "Epoch 252/500\n",
            "92/92 [==============================] - 1s 7ms/step - loss: 0.2893 - accuracy: 0.8938 - val_loss: 0.4796 - val_accuracy: 0.8776\n",
            "Epoch 253/500\n",
            "92/92 [==============================] - 1s 7ms/step - loss: 0.2909 - accuracy: 0.8983 - val_loss: 0.4764 - val_accuracy: 0.8729\n",
            "Epoch 254/500\n",
            "92/92 [==============================] - 1s 7ms/step - loss: 0.2800 - accuracy: 0.8999 - val_loss: 0.5945 - val_accuracy: 0.7933\n",
            "Epoch 255/500\n",
            "92/92 [==============================] - 1s 7ms/step - loss: 0.2918 - accuracy: 0.8940 - val_loss: 0.5689 - val_accuracy: 0.8056\n",
            "Epoch 256/500\n",
            "92/92 [==============================] - 1s 7ms/step - loss: 0.2960 - accuracy: 0.8951 - val_loss: 0.4769 - val_accuracy: 0.8763\n",
            "Epoch 257/500\n",
            "92/92 [==============================] - 1s 7ms/step - loss: 0.2821 - accuracy: 0.8997 - val_loss: 0.4787 - val_accuracy: 0.8722\n",
            "Epoch 258/500\n",
            "92/92 [==============================] - 1s 7ms/step - loss: 0.2840 - accuracy: 0.9008 - val_loss: 0.4976 - val_accuracy: 0.8572\n",
            "Epoch 259/500\n",
            "92/92 [==============================] - 1s 7ms/step - loss: 0.2769 - accuracy: 0.8999 - val_loss: 0.4761 - val_accuracy: 0.8756\n",
            "Epoch 260/500\n",
            "92/92 [==============================] - 1s 7ms/step - loss: 0.2776 - accuracy: 0.8979 - val_loss: 0.4863 - val_accuracy: 0.8681\n",
            "Epoch 261/500\n",
            "92/92 [==============================] - 1s 7ms/step - loss: 0.2673 - accuracy: 0.9107 - val_loss: 0.4740 - val_accuracy: 0.8715\n",
            "Epoch 262/500\n",
            "92/92 [==============================] - 1s 7ms/step - loss: 0.2870 - accuracy: 0.8957 - val_loss: 0.4697 - val_accuracy: 0.8783\n",
            "Epoch 263/500\n",
            "92/92 [==============================] - 1s 7ms/step - loss: 0.2727 - accuracy: 0.8973 - val_loss: 0.4670 - val_accuracy: 0.8810\n",
            "Epoch 264/500\n",
            "92/92 [==============================] - 1s 7ms/step - loss: 0.2721 - accuracy: 0.9067 - val_loss: 0.4669 - val_accuracy: 0.8817\n",
            "Epoch 265/500\n",
            "92/92 [==============================] - 1s 7ms/step - loss: 0.2602 - accuracy: 0.9113 - val_loss: 0.4624 - val_accuracy: 0.8865\n",
            "Epoch 266/500\n",
            "92/92 [==============================] - 1s 7ms/step - loss: 0.2680 - accuracy: 0.9075 - val_loss: 0.4628 - val_accuracy: 0.8851\n",
            "Epoch 267/500\n",
            "92/92 [==============================] - 1s 7ms/step - loss: 0.2701 - accuracy: 0.9009 - val_loss: 0.4726 - val_accuracy: 0.8736\n",
            "Epoch 268/500\n",
            "92/92 [==============================] - 1s 7ms/step - loss: 0.2556 - accuracy: 0.9110 - val_loss: 0.4719 - val_accuracy: 0.8824\n",
            "Epoch 269/500\n",
            "92/92 [==============================] - 1s 7ms/step - loss: 0.2722 - accuracy: 0.9036 - val_loss: 0.4720 - val_accuracy: 0.8763\n",
            "Epoch 270/500\n",
            "92/92 [==============================] - 1s 7ms/step - loss: 0.2581 - accuracy: 0.9116 - val_loss: 0.4807 - val_accuracy: 0.8715\n",
            "Epoch 271/500\n",
            "92/92 [==============================] - 1s 7ms/step - loss: 0.2471 - accuracy: 0.9088 - val_loss: 0.4609 - val_accuracy: 0.8844\n",
            "Epoch 272/500\n",
            "92/92 [==============================] - 1s 7ms/step - loss: 0.2589 - accuracy: 0.9067 - val_loss: 0.5032 - val_accuracy: 0.8545\n",
            "Epoch 273/500\n",
            "92/92 [==============================] - 1s 7ms/step - loss: 0.2521 - accuracy: 0.9116 - val_loss: 0.4575 - val_accuracy: 0.8878\n",
            "Epoch 274/500\n",
            "92/92 [==============================] - 1s 7ms/step - loss: 0.2533 - accuracy: 0.9095 - val_loss: 0.5085 - val_accuracy: 0.8552\n",
            "Epoch 275/500\n",
            "92/92 [==============================] - 1s 7ms/step - loss: 0.2453 - accuracy: 0.9138 - val_loss: 0.4705 - val_accuracy: 0.8804\n",
            "Epoch 276/500\n",
            "92/92 [==============================] - 1s 7ms/step - loss: 0.2480 - accuracy: 0.9082 - val_loss: 0.4592 - val_accuracy: 0.8899\n",
            "Epoch 277/500\n",
            "92/92 [==============================] - 1s 7ms/step - loss: 0.2470 - accuracy: 0.9105 - val_loss: 0.4890 - val_accuracy: 0.8654\n",
            "Epoch 278/500\n",
            "92/92 [==============================] - 1s 7ms/step - loss: 0.2189 - accuracy: 0.9293 - val_loss: 0.4517 - val_accuracy: 0.8899\n",
            "Epoch 279/500\n",
            "92/92 [==============================] - 1s 7ms/step - loss: 0.2332 - accuracy: 0.9210 - val_loss: 0.4616 - val_accuracy: 0.8851\n",
            "Epoch 280/500\n",
            "92/92 [==============================] - 1s 7ms/step - loss: 0.2404 - accuracy: 0.9130 - val_loss: 0.4764 - val_accuracy: 0.8702\n",
            "Epoch 281/500\n",
            "92/92 [==============================] - 1s 8ms/step - loss: 0.2561 - accuracy: 0.9036 - val_loss: 0.4520 - val_accuracy: 0.8878\n",
            "Epoch 282/500\n",
            "92/92 [==============================] - 1s 7ms/step - loss: 0.2399 - accuracy: 0.9211 - val_loss: 0.4559 - val_accuracy: 0.8817\n",
            "Epoch 283/500\n",
            "92/92 [==============================] - 1s 7ms/step - loss: 0.2414 - accuracy: 0.9171 - val_loss: 0.4501 - val_accuracy: 0.8953\n",
            "Epoch 284/500\n",
            "92/92 [==============================] - 1s 7ms/step - loss: 0.2291 - accuracy: 0.9208 - val_loss: 0.5676 - val_accuracy: 0.7893\n",
            "Epoch 285/500\n",
            "92/92 [==============================] - 1s 7ms/step - loss: 0.2311 - accuracy: 0.9177 - val_loss: 0.4496 - val_accuracy: 0.8953\n",
            "Epoch 286/500\n",
            "92/92 [==============================] - 1s 7ms/step - loss: 0.2307 - accuracy: 0.9188 - val_loss: 0.4757 - val_accuracy: 0.8749\n",
            "Epoch 287/500\n",
            "92/92 [==============================] - 1s 7ms/step - loss: 0.2346 - accuracy: 0.9154 - val_loss: 0.4498 - val_accuracy: 0.8919\n",
            "Epoch 288/500\n",
            "92/92 [==============================] - 1s 7ms/step - loss: 0.2257 - accuracy: 0.9241 - val_loss: 0.4503 - val_accuracy: 0.8946\n",
            "Epoch 289/500\n",
            "92/92 [==============================] - 1s 7ms/step - loss: 0.2198 - accuracy: 0.9300 - val_loss: 0.4973 - val_accuracy: 0.8545\n",
            "Epoch 290/500\n",
            "92/92 [==============================] - 1s 7ms/step - loss: 0.2236 - accuracy: 0.9212 - val_loss: 0.4483 - val_accuracy: 0.8912\n",
            "Epoch 291/500\n",
            "92/92 [==============================] - 1s 7ms/step - loss: 0.2197 - accuracy: 0.9231 - val_loss: 0.4412 - val_accuracy: 0.8953\n",
            "Epoch 292/500\n",
            "92/92 [==============================] - 1s 7ms/step - loss: 0.2351 - accuracy: 0.9092 - val_loss: 0.4485 - val_accuracy: 0.8919\n",
            "Epoch 293/500\n",
            "92/92 [==============================] - 1s 7ms/step - loss: 0.2185 - accuracy: 0.9222 - val_loss: 0.4448 - val_accuracy: 0.8973\n",
            "Epoch 294/500\n",
            "92/92 [==============================] - 1s 7ms/step - loss: 0.2246 - accuracy: 0.9175 - val_loss: 0.5011 - val_accuracy: 0.8606\n",
            "Epoch 295/500\n",
            "92/92 [==============================] - 1s 7ms/step - loss: 0.2107 - accuracy: 0.9246 - val_loss: 0.4448 - val_accuracy: 0.8967\n",
            "Epoch 296/500\n",
            "92/92 [==============================] - 1s 7ms/step - loss: 0.2062 - accuracy: 0.9296 - val_loss: 0.4491 - val_accuracy: 0.8933\n",
            "Epoch 297/500\n",
            "92/92 [==============================] - 1s 7ms/step - loss: 0.1982 - accuracy: 0.9341 - val_loss: 0.4815 - val_accuracy: 0.8783\n",
            "Epoch 298/500\n",
            "92/92 [==============================] - 1s 7ms/step - loss: 0.2174 - accuracy: 0.9231 - val_loss: 0.4462 - val_accuracy: 0.8973\n",
            "Epoch 299/500\n",
            "92/92 [==============================] - 1s 7ms/step - loss: 0.2246 - accuracy: 0.9170 - val_loss: 0.4466 - val_accuracy: 0.8946\n",
            "Epoch 300/500\n",
            "92/92 [==============================] - 1s 7ms/step - loss: 0.2069 - accuracy: 0.9267 - val_loss: 0.4430 - val_accuracy: 0.8980\n",
            "Epoch 301/500\n",
            "92/92 [==============================] - 1s 7ms/step - loss: 0.2167 - accuracy: 0.9228 - val_loss: 0.4382 - val_accuracy: 0.9007\n",
            "Epoch 302/500\n",
            "92/92 [==============================] - 1s 7ms/step - loss: 0.2171 - accuracy: 0.9218 - val_loss: 0.4399 - val_accuracy: 0.9007\n",
            "Epoch 303/500\n",
            "92/92 [==============================] - 1s 7ms/step - loss: 0.2084 - accuracy: 0.9291 - val_loss: 0.4517 - val_accuracy: 0.8933\n",
            "Epoch 304/500\n",
            "92/92 [==============================] - 1s 7ms/step - loss: 0.2266 - accuracy: 0.9170 - val_loss: 0.4434 - val_accuracy: 0.8967\n",
            "Epoch 305/500\n",
            "92/92 [==============================] - 1s 7ms/step - loss: 0.2018 - accuracy: 0.9276 - val_loss: 0.4397 - val_accuracy: 0.9014\n",
            "Epoch 306/500\n",
            "92/92 [==============================] - 1s 7ms/step - loss: 0.1929 - accuracy: 0.9312 - val_loss: 0.4569 - val_accuracy: 0.8892\n",
            "Epoch 307/500\n",
            "92/92 [==============================] - 1s 7ms/step - loss: 0.2066 - accuracy: 0.9260 - val_loss: 0.5635 - val_accuracy: 0.7940\n",
            "Epoch 308/500\n",
            "92/92 [==============================] - 1s 7ms/step - loss: 0.2141 - accuracy: 0.9236 - val_loss: 0.4359 - val_accuracy: 0.8994\n",
            "Epoch 309/500\n",
            "92/92 [==============================] - 1s 7ms/step - loss: 0.2151 - accuracy: 0.9217 - val_loss: 0.4411 - val_accuracy: 0.8987\n",
            "Epoch 310/500\n",
            "92/92 [==============================] - 1s 7ms/step - loss: 0.1996 - accuracy: 0.9271 - val_loss: 0.4383 - val_accuracy: 0.9001\n",
            "Epoch 311/500\n",
            "92/92 [==============================] - 1s 7ms/step - loss: 0.1905 - accuracy: 0.9355 - val_loss: 0.4398 - val_accuracy: 0.9021\n",
            "Epoch 312/500\n",
            "92/92 [==============================] - 1s 7ms/step - loss: 0.1927 - accuracy: 0.9297 - val_loss: 0.4387 - val_accuracy: 0.9028\n",
            "Epoch 313/500\n",
            "92/92 [==============================] - 1s 7ms/step - loss: 0.1937 - accuracy: 0.9317 - val_loss: 0.4621 - val_accuracy: 0.8906\n",
            "Epoch 314/500\n",
            "92/92 [==============================] - 1s 7ms/step - loss: 0.1899 - accuracy: 0.9314 - val_loss: 0.4496 - val_accuracy: 0.8967\n",
            "Epoch 315/500\n",
            "92/92 [==============================] - 1s 7ms/step - loss: 0.1944 - accuracy: 0.9328 - val_loss: 0.4900 - val_accuracy: 0.8674\n",
            "Epoch 316/500\n",
            "92/92 [==============================] - 1s 7ms/step - loss: 0.2042 - accuracy: 0.9233 - val_loss: 0.4371 - val_accuracy: 0.9007\n",
            "Epoch 317/500\n",
            "92/92 [==============================] - 1s 7ms/step - loss: 0.1935 - accuracy: 0.9338 - val_loss: 0.4457 - val_accuracy: 0.8994\n",
            "Epoch 318/500\n",
            "92/92 [==============================] - 1s 7ms/step - loss: 0.1738 - accuracy: 0.9414 - val_loss: 0.4434 - val_accuracy: 0.9001\n",
            "Epoch 319/500\n",
            "92/92 [==============================] - 1s 7ms/step - loss: 0.1846 - accuracy: 0.9350 - val_loss: 0.4357 - val_accuracy: 0.9035\n",
            "Epoch 320/500\n",
            "92/92 [==============================] - 1s 7ms/step - loss: 0.1844 - accuracy: 0.9339 - val_loss: 0.4385 - val_accuracy: 0.9014\n",
            "Epoch 321/500\n",
            "92/92 [==============================] - 1s 7ms/step - loss: 0.1946 - accuracy: 0.9288 - val_loss: 0.4404 - val_accuracy: 0.8987\n",
            "Epoch 322/500\n",
            "92/92 [==============================] - 1s 7ms/step - loss: 0.1756 - accuracy: 0.9344 - val_loss: 0.4365 - val_accuracy: 0.9035\n",
            "Epoch 323/500\n",
            "92/92 [==============================] - 1s 7ms/step - loss: 0.1895 - accuracy: 0.9305 - val_loss: 0.4347 - val_accuracy: 0.9055\n",
            "Epoch 324/500\n",
            "92/92 [==============================] - 1s 7ms/step - loss: 0.1702 - accuracy: 0.9408 - val_loss: 0.4359 - val_accuracy: 0.9001\n",
            "Epoch 325/500\n",
            "92/92 [==============================] - 1s 7ms/step - loss: 0.1784 - accuracy: 0.9353 - val_loss: 0.4426 - val_accuracy: 0.8953\n",
            "Epoch 326/500\n",
            "92/92 [==============================] - 1s 7ms/step - loss: 0.1899 - accuracy: 0.9301 - val_loss: 0.4464 - val_accuracy: 0.8987\n",
            "Epoch 327/500\n",
            "92/92 [==============================] - 1s 7ms/step - loss: 0.1792 - accuracy: 0.9360 - val_loss: 0.4377 - val_accuracy: 0.9048\n",
            "Epoch 328/500\n",
            "92/92 [==============================] - 1s 7ms/step - loss: 0.1693 - accuracy: 0.9436 - val_loss: 0.4414 - val_accuracy: 0.9035\n",
            "Epoch 329/500\n",
            "92/92 [==============================] - 1s 7ms/step - loss: 0.1675 - accuracy: 0.9408 - val_loss: 0.4402 - val_accuracy: 0.9028\n",
            "Epoch 330/500\n",
            "92/92 [==============================] - 1s 7ms/step - loss: 0.1926 - accuracy: 0.9305 - val_loss: 0.4390 - val_accuracy: 0.9055\n",
            "Epoch 331/500\n",
            "92/92 [==============================] - 1s 7ms/step - loss: 0.1839 - accuracy: 0.9321 - val_loss: 0.4412 - val_accuracy: 0.9014\n",
            "Epoch 332/500\n",
            "92/92 [==============================] - 1s 7ms/step - loss: 0.1755 - accuracy: 0.9364 - val_loss: 0.4497 - val_accuracy: 0.8994\n",
            "Epoch 333/500\n",
            "92/92 [==============================] - 1s 7ms/step - loss: 0.1755 - accuracy: 0.9342 - val_loss: 0.4427 - val_accuracy: 0.9001\n",
            "Epoch 334/500\n",
            "92/92 [==============================] - 1s 7ms/step - loss: 0.1716 - accuracy: 0.9370 - val_loss: 0.4364 - val_accuracy: 0.9035\n",
            "Epoch 335/500\n",
            "92/92 [==============================] - 1s 7ms/step - loss: 0.1672 - accuracy: 0.9427 - val_loss: 0.4371 - val_accuracy: 0.9048\n",
            "Epoch 336/500\n",
            "92/92 [==============================] - 1s 7ms/step - loss: 0.1747 - accuracy: 0.9357 - val_loss: 0.4429 - val_accuracy: 0.9001\n",
            "Epoch 337/500\n",
            "92/92 [==============================] - 1s 7ms/step - loss: 0.1744 - accuracy: 0.9390 - val_loss: 0.4529 - val_accuracy: 0.8987\n",
            "Epoch 338/500\n",
            "92/92 [==============================] - 1s 7ms/step - loss: 0.1744 - accuracy: 0.9413 - val_loss: 0.4352 - val_accuracy: 0.9055\n",
            "Epoch 339/500\n",
            "92/92 [==============================] - 1s 7ms/step - loss: 0.1677 - accuracy: 0.9426 - val_loss: 0.4445 - val_accuracy: 0.9014\n",
            "Epoch 340/500\n",
            "92/92 [==============================] - 1s 7ms/step - loss: 0.1753 - accuracy: 0.9372 - val_loss: 0.4441 - val_accuracy: 0.8994\n",
            "Epoch 341/500\n",
            "92/92 [==============================] - 1s 7ms/step - loss: 0.1705 - accuracy: 0.9388 - val_loss: 0.4451 - val_accuracy: 0.9014\n",
            "Epoch 342/500\n",
            "92/92 [==============================] - 1s 7ms/step - loss: 0.1565 - accuracy: 0.9453 - val_loss: 0.4379 - val_accuracy: 0.9028\n",
            "Epoch 343/500\n",
            "92/92 [==============================] - 1s 7ms/step - loss: 0.1679 - accuracy: 0.9385 - val_loss: 0.4510 - val_accuracy: 0.8953\n",
            "Epoch 344/500\n",
            "92/92 [==============================] - 1s 7ms/step - loss: 0.1739 - accuracy: 0.9342 - val_loss: 0.4406 - val_accuracy: 0.9062\n",
            "Epoch 345/500\n",
            "92/92 [==============================] - 1s 7ms/step - loss: 0.1609 - accuracy: 0.9471 - val_loss: 0.4520 - val_accuracy: 0.8994\n",
            "Epoch 346/500\n",
            "92/92 [==============================] - 1s 7ms/step - loss: 0.1655 - accuracy: 0.9416 - val_loss: 0.4385 - val_accuracy: 0.9062\n",
            "Epoch 347/500\n",
            "92/92 [==============================] - 1s 7ms/step - loss: 0.1589 - accuracy: 0.9432 - val_loss: 0.4407 - val_accuracy: 0.9021\n",
            "Epoch 348/500\n",
            "92/92 [==============================] - 1s 7ms/step - loss: 0.1682 - accuracy: 0.9379 - val_loss: 0.4396 - val_accuracy: 0.9028\n",
            "Epoch 349/500\n",
            "92/92 [==============================] - 1s 7ms/step - loss: 0.1594 - accuracy: 0.9461 - val_loss: 0.4417 - val_accuracy: 0.9041\n",
            "Epoch 350/500\n",
            "92/92 [==============================] - 1s 7ms/step - loss: 0.1626 - accuracy: 0.9415 - val_loss: 0.4403 - val_accuracy: 0.9055\n",
            "Epoch 351/500\n",
            "92/92 [==============================] - 1s 7ms/step - loss: 0.1571 - accuracy: 0.9426 - val_loss: 0.4503 - val_accuracy: 0.9014\n",
            "Epoch 352/500\n",
            "92/92 [==============================] - 1s 7ms/step - loss: 0.1581 - accuracy: 0.9420 - val_loss: 0.4418 - val_accuracy: 0.9001\n",
            "Epoch 353/500\n",
            "92/92 [==============================] - 1s 7ms/step - loss: 0.1516 - accuracy: 0.9467 - val_loss: 0.4404 - val_accuracy: 0.9062\n",
            "Epoch 354/500\n",
            "92/92 [==============================] - 1s 7ms/step - loss: 0.1649 - accuracy: 0.9427 - val_loss: 0.4398 - val_accuracy: 0.9069\n",
            "Epoch 355/500\n",
            "92/92 [==============================] - 1s 7ms/step - loss: 0.1641 - accuracy: 0.9357 - val_loss: 0.4421 - val_accuracy: 0.9035\n",
            "Epoch 356/500\n",
            "92/92 [==============================] - 1s 8ms/step - loss: 0.1627 - accuracy: 0.9426 - val_loss: 0.4394 - val_accuracy: 0.9089\n",
            "Epoch 357/500\n",
            "92/92 [==============================] - 1s 7ms/step - loss: 0.1439 - accuracy: 0.9463 - val_loss: 0.4439 - val_accuracy: 0.9048\n",
            "Epoch 358/500\n",
            "92/92 [==============================] - 1s 7ms/step - loss: 0.1509 - accuracy: 0.9428 - val_loss: 0.4431 - val_accuracy: 0.9075\n",
            "Epoch 359/500\n",
            "92/92 [==============================] - 1s 7ms/step - loss: 0.1446 - accuracy: 0.9464 - val_loss: 0.4450 - val_accuracy: 0.9041\n",
            "Epoch 360/500\n",
            "92/92 [==============================] - 1s 7ms/step - loss: 0.1502 - accuracy: 0.9458 - val_loss: 0.4446 - val_accuracy: 0.9082\n",
            "Epoch 361/500\n",
            "92/92 [==============================] - 1s 7ms/step - loss: 0.1583 - accuracy: 0.9434 - val_loss: 0.4529 - val_accuracy: 0.9035\n",
            "Epoch 362/500\n",
            "92/92 [==============================] - 1s 7ms/step - loss: 0.1604 - accuracy: 0.9426 - val_loss: 0.4504 - val_accuracy: 0.9035\n",
            "Epoch 363/500\n",
            "92/92 [==============================] - 1s 7ms/step - loss: 0.1633 - accuracy: 0.9400 - val_loss: 0.4539 - val_accuracy: 0.9062\n",
            "Epoch 364/500\n",
            "92/92 [==============================] - 1s 7ms/step - loss: 0.1424 - accuracy: 0.9494 - val_loss: 0.4573 - val_accuracy: 0.9001\n",
            "Epoch 365/500\n",
            "92/92 [==============================] - 1s 7ms/step - loss: 0.1554 - accuracy: 0.9452 - val_loss: 0.4412 - val_accuracy: 0.9096\n",
            "Epoch 366/500\n",
            "92/92 [==============================] - 1s 7ms/step - loss: 0.1564 - accuracy: 0.9426 - val_loss: 0.4475 - val_accuracy: 0.9075\n",
            "Epoch 367/500\n",
            "92/92 [==============================] - 1s 7ms/step - loss: 0.1390 - accuracy: 0.9515 - val_loss: 0.4474 - val_accuracy: 0.9082\n",
            "Epoch 368/500\n",
            "92/92 [==============================] - 1s 7ms/step - loss: 0.1555 - accuracy: 0.9440 - val_loss: 0.4463 - val_accuracy: 0.9069\n",
            "Epoch 369/500\n",
            "92/92 [==============================] - 1s 7ms/step - loss: 0.1473 - accuracy: 0.9467 - val_loss: 0.4463 - val_accuracy: 0.9062\n",
            "Epoch 370/500\n",
            "92/92 [==============================] - 1s 7ms/step - loss: 0.1427 - accuracy: 0.9503 - val_loss: 0.4442 - val_accuracy: 0.9096\n",
            "Epoch 371/500\n",
            "92/92 [==============================] - 1s 7ms/step - loss: 0.1495 - accuracy: 0.9468 - val_loss: 0.4632 - val_accuracy: 0.9007\n",
            "Epoch 372/500\n",
            "92/92 [==============================] - 1s 7ms/step - loss: 0.1537 - accuracy: 0.9459 - val_loss: 0.4470 - val_accuracy: 0.9069\n",
            "Epoch 373/500\n",
            "92/92 [==============================] - 1s 7ms/step - loss: 0.1474 - accuracy: 0.9451 - val_loss: 0.4477 - val_accuracy: 0.9123\n",
            "Epoch 374/500\n",
            "92/92 [==============================] - 1s 7ms/step - loss: 0.1541 - accuracy: 0.9422 - val_loss: 0.4461 - val_accuracy: 0.9116\n",
            "Epoch 375/500\n",
            "92/92 [==============================] - 1s 7ms/step - loss: 0.1395 - accuracy: 0.9505 - val_loss: 0.4728 - val_accuracy: 0.8749\n",
            "Epoch 376/500\n",
            "92/92 [==============================] - 1s 7ms/step - loss: 0.1389 - accuracy: 0.9494 - val_loss: 0.4538 - val_accuracy: 0.8994\n",
            "Epoch 377/500\n",
            "92/92 [==============================] - 1s 7ms/step - loss: 0.1433 - accuracy: 0.9470 - val_loss: 0.4570 - val_accuracy: 0.9041\n",
            "Epoch 378/500\n",
            "92/92 [==============================] - 1s 7ms/step - loss: 0.1517 - accuracy: 0.9438 - val_loss: 0.4510 - val_accuracy: 0.9075\n",
            "Epoch 379/500\n",
            "92/92 [==============================] - 1s 7ms/step - loss: 0.1457 - accuracy: 0.9437 - val_loss: 0.4485 - val_accuracy: 0.9089\n",
            "Epoch 380/500\n",
            "92/92 [==============================] - 1s 7ms/step - loss: 0.1425 - accuracy: 0.9507 - val_loss: 0.4528 - val_accuracy: 0.9075\n",
            "Epoch 381/500\n",
            "92/92 [==============================] - 1s 7ms/step - loss: 0.1463 - accuracy: 0.9479 - val_loss: 0.4473 - val_accuracy: 0.9103\n",
            "Epoch 382/500\n",
            "92/92 [==============================] - 1s 7ms/step - loss: 0.1509 - accuracy: 0.9451 - val_loss: 0.4523 - val_accuracy: 0.9082\n",
            "Epoch 383/500\n",
            "92/92 [==============================] - 1s 7ms/step - loss: 0.1394 - accuracy: 0.9468 - val_loss: 0.4487 - val_accuracy: 0.9137\n",
            "Epoch 384/500\n",
            "92/92 [==============================] - 1s 7ms/step - loss: 0.1421 - accuracy: 0.9451 - val_loss: 0.4518 - val_accuracy: 0.9089\n",
            "Epoch 385/500\n",
            "92/92 [==============================] - 1s 7ms/step - loss: 0.1427 - accuracy: 0.9479 - val_loss: 0.4508 - val_accuracy: 0.9048\n",
            "Epoch 386/500\n",
            "92/92 [==============================] - 1s 7ms/step - loss: 0.1386 - accuracy: 0.9484 - val_loss: 0.4493 - val_accuracy: 0.9082\n",
            "Epoch 387/500\n",
            "92/92 [==============================] - 1s 7ms/step - loss: 0.1441 - accuracy: 0.9452 - val_loss: 0.4558 - val_accuracy: 0.9075\n",
            "Epoch 388/500\n",
            "92/92 [==============================] - 1s 7ms/step - loss: 0.1407 - accuracy: 0.9514 - val_loss: 0.4497 - val_accuracy: 0.9075\n",
            "Epoch 389/500\n",
            "92/92 [==============================] - 1s 7ms/step - loss: 0.1400 - accuracy: 0.9462 - val_loss: 0.4614 - val_accuracy: 0.9041\n",
            "Epoch 390/500\n",
            "92/92 [==============================] - 1s 7ms/step - loss: 0.1327 - accuracy: 0.9530 - val_loss: 0.4472 - val_accuracy: 0.9069\n",
            "Epoch 391/500\n",
            "92/92 [==============================] - 1s 7ms/step - loss: 0.1358 - accuracy: 0.9525 - val_loss: 0.4524 - val_accuracy: 0.9035\n",
            "Epoch 392/500\n",
            "92/92 [==============================] - 1s 7ms/step - loss: 0.1387 - accuracy: 0.9483 - val_loss: 0.4556 - val_accuracy: 0.9089\n",
            "Epoch 393/500\n",
            "92/92 [==============================] - 1s 7ms/step - loss: 0.1428 - accuracy: 0.9456 - val_loss: 0.4552 - val_accuracy: 0.9096\n",
            "Epoch 394/500\n",
            "92/92 [==============================] - 1s 7ms/step - loss: 0.1422 - accuracy: 0.9445 - val_loss: 0.4528 - val_accuracy: 0.9089\n",
            "Epoch 395/500\n",
            "92/92 [==============================] - 1s 7ms/step - loss: 0.1349 - accuracy: 0.9474 - val_loss: 0.4558 - val_accuracy: 0.9082\n",
            "Epoch 396/500\n",
            "92/92 [==============================] - 1s 7ms/step - loss: 0.1313 - accuracy: 0.9527 - val_loss: 0.4585 - val_accuracy: 0.9075\n",
            "Epoch 397/500\n",
            "92/92 [==============================] - 1s 7ms/step - loss: 0.1374 - accuracy: 0.9484 - val_loss: 0.4531 - val_accuracy: 0.9123\n",
            "Epoch 398/500\n",
            "92/92 [==============================] - 1s 7ms/step - loss: 0.1348 - accuracy: 0.9507 - val_loss: 0.4542 - val_accuracy: 0.9096\n",
            "Epoch 399/500\n",
            "92/92 [==============================] - 1s 7ms/step - loss: 0.1312 - accuracy: 0.9488 - val_loss: 0.4582 - val_accuracy: 0.9109\n",
            "Epoch 400/500\n",
            "92/92 [==============================] - 1s 7ms/step - loss: 0.1323 - accuracy: 0.9525 - val_loss: 0.4549 - val_accuracy: 0.9075\n",
            "Epoch 401/500\n",
            "92/92 [==============================] - 1s 7ms/step - loss: 0.1378 - accuracy: 0.9479 - val_loss: 0.4550 - val_accuracy: 0.9062\n",
            "Epoch 402/500\n",
            "92/92 [==============================] - 1s 7ms/step - loss: 0.1342 - accuracy: 0.9470 - val_loss: 0.4618 - val_accuracy: 0.9075\n",
            "Epoch 403/500\n",
            "92/92 [==============================] - 1s 7ms/step - loss: 0.1461 - accuracy: 0.9446 - val_loss: 0.4562 - val_accuracy: 0.9096\n",
            "Epoch 404/500\n",
            "92/92 [==============================] - 1s 7ms/step - loss: 0.1296 - accuracy: 0.9536 - val_loss: 0.4552 - val_accuracy: 0.9116\n",
            "Epoch 405/500\n",
            "92/92 [==============================] - 1s 7ms/step - loss: 0.1307 - accuracy: 0.9484 - val_loss: 0.4576 - val_accuracy: 0.9103\n",
            "Epoch 406/500\n",
            "92/92 [==============================] - 1s 7ms/step - loss: 0.1347 - accuracy: 0.9474 - val_loss: 0.4595 - val_accuracy: 0.9116\n",
            "Epoch 407/500\n",
            "92/92 [==============================] - 1s 7ms/step - loss: 0.1314 - accuracy: 0.9516 - val_loss: 0.4598 - val_accuracy: 0.9062\n",
            "Epoch 408/500\n",
            "92/92 [==============================] - 1s 7ms/step - loss: 0.1328 - accuracy: 0.9496 - val_loss: 0.4598 - val_accuracy: 0.9096\n",
            "Epoch 409/500\n",
            "92/92 [==============================] - 1s 7ms/step - loss: 0.1367 - accuracy: 0.9467 - val_loss: 0.4582 - val_accuracy: 0.9082\n",
            "Epoch 410/500\n",
            "92/92 [==============================] - 1s 7ms/step - loss: 0.1318 - accuracy: 0.9535 - val_loss: 0.4603 - val_accuracy: 0.9075\n",
            "Epoch 411/500\n",
            "92/92 [==============================] - 1s 7ms/step - loss: 0.1301 - accuracy: 0.9488 - val_loss: 0.4621 - val_accuracy: 0.9096\n",
            "Epoch 412/500\n",
            "92/92 [==============================] - 1s 7ms/step - loss: 0.1312 - accuracy: 0.9496 - val_loss: 0.4570 - val_accuracy: 0.9109\n",
            "Epoch 413/500\n",
            "92/92 [==============================] - 1s 7ms/step - loss: 0.1285 - accuracy: 0.9505 - val_loss: 0.4624 - val_accuracy: 0.9082\n",
            "Epoch 414/500\n",
            "92/92 [==============================] - 1s 7ms/step - loss: 0.1336 - accuracy: 0.9492 - val_loss: 0.4614 - val_accuracy: 0.9096\n",
            "Epoch 415/500\n",
            "92/92 [==============================] - 1s 7ms/step - loss: 0.1276 - accuracy: 0.9527 - val_loss: 0.4583 - val_accuracy: 0.9103\n",
            "Epoch 416/500\n",
            "92/92 [==============================] - 1s 7ms/step - loss: 0.1261 - accuracy: 0.9495 - val_loss: 0.4604 - val_accuracy: 0.9109\n",
            "Epoch 417/500\n",
            "92/92 [==============================] - 1s 9ms/step - loss: 0.1218 - accuracy: 0.9558 - val_loss: 0.4672 - val_accuracy: 0.9082\n",
            "Epoch 418/500\n",
            "92/92 [==============================] - 1s 7ms/step - loss: 0.1233 - accuracy: 0.9541 - val_loss: 0.4585 - val_accuracy: 0.9137\n",
            "Epoch 419/500\n",
            "92/92 [==============================] - 1s 7ms/step - loss: 0.1301 - accuracy: 0.9499 - val_loss: 0.4584 - val_accuracy: 0.9103\n",
            "Epoch 420/500\n",
            "92/92 [==============================] - 1s 7ms/step - loss: 0.1300 - accuracy: 0.9540 - val_loss: 0.4603 - val_accuracy: 0.9103\n",
            "Epoch 421/500\n",
            "92/92 [==============================] - 1s 7ms/step - loss: 0.1251 - accuracy: 0.9549 - val_loss: 0.4661 - val_accuracy: 0.9116\n",
            "Epoch 422/500\n",
            "92/92 [==============================] - 1s 7ms/step - loss: 0.1313 - accuracy: 0.9462 - val_loss: 0.4623 - val_accuracy: 0.9082\n",
            "Epoch 423/500\n",
            "92/92 [==============================] - 1s 7ms/step - loss: 0.1198 - accuracy: 0.9538 - val_loss: 0.4697 - val_accuracy: 0.9096\n",
            "Epoch 424/500\n",
            "92/92 [==============================] - 1s 7ms/step - loss: 0.1335 - accuracy: 0.9479 - val_loss: 0.4608 - val_accuracy: 0.9123\n",
            "Epoch 425/500\n",
            "92/92 [==============================] - 1s 7ms/step - loss: 0.1271 - accuracy: 0.9503 - val_loss: 0.4682 - val_accuracy: 0.9096\n",
            "Epoch 426/500\n",
            "92/92 [==============================] - 1s 7ms/step - loss: 0.1249 - accuracy: 0.9518 - val_loss: 0.4602 - val_accuracy: 0.9109\n",
            "Epoch 427/500\n",
            "92/92 [==============================] - 1s 7ms/step - loss: 0.1252 - accuracy: 0.9536 - val_loss: 0.4630 - val_accuracy: 0.9130\n",
            "Epoch 428/500\n",
            "92/92 [==============================] - 1s 7ms/step - loss: 0.1210 - accuracy: 0.9541 - val_loss: 0.4601 - val_accuracy: 0.9096\n",
            "Epoch 429/500\n",
            "92/92 [==============================] - 1s 7ms/step - loss: 0.1207 - accuracy: 0.9563 - val_loss: 0.4613 - val_accuracy: 0.9103\n",
            "Epoch 430/500\n",
            "92/92 [==============================] - 1s 7ms/step - loss: 0.1261 - accuracy: 0.9541 - val_loss: 0.4648 - val_accuracy: 0.9103\n",
            "Epoch 431/500\n",
            "92/92 [==============================] - 1s 7ms/step - loss: 0.1225 - accuracy: 0.9492 - val_loss: 0.4618 - val_accuracy: 0.9089\n",
            "Epoch 432/500\n",
            "92/92 [==============================] - 1s 7ms/step - loss: 0.1164 - accuracy: 0.9565 - val_loss: 0.4637 - val_accuracy: 0.9096\n",
            "Epoch 433/500\n",
            "92/92 [==============================] - 1s 7ms/step - loss: 0.1271 - accuracy: 0.9484 - val_loss: 0.4663 - val_accuracy: 0.9089\n",
            "Epoch 434/500\n",
            "92/92 [==============================] - 1s 7ms/step - loss: 0.1280 - accuracy: 0.9488 - val_loss: 0.4681 - val_accuracy: 0.9082\n",
            "Epoch 435/500\n",
            "92/92 [==============================] - 1s 7ms/step - loss: 0.1108 - accuracy: 0.9574 - val_loss: 0.4945 - val_accuracy: 0.9075\n",
            "Epoch 436/500\n",
            "92/92 [==============================] - 1s 7ms/step - loss: 0.1232 - accuracy: 0.9490 - val_loss: 0.4681 - val_accuracy: 0.9096\n",
            "Epoch 437/500\n",
            "92/92 [==============================] - 1s 7ms/step - loss: 0.1289 - accuracy: 0.9483 - val_loss: 0.4664 - val_accuracy: 0.9130\n",
            "Epoch 438/500\n",
            "92/92 [==============================] - 1s 7ms/step - loss: 0.1289 - accuracy: 0.9513 - val_loss: 0.4674 - val_accuracy: 0.9103\n",
            "Epoch 439/500\n",
            "92/92 [==============================] - 1s 7ms/step - loss: 0.1326 - accuracy: 0.9476 - val_loss: 0.4651 - val_accuracy: 0.9130\n",
            "Epoch 440/500\n",
            "92/92 [==============================] - 1s 7ms/step - loss: 0.1255 - accuracy: 0.9520 - val_loss: 0.4708 - val_accuracy: 0.9116\n",
            "Epoch 441/500\n",
            "92/92 [==============================] - 1s 7ms/step - loss: 0.1209 - accuracy: 0.9499 - val_loss: 0.4709 - val_accuracy: 0.9089\n",
            "Epoch 442/500\n",
            "92/92 [==============================] - 1s 7ms/step - loss: 0.1172 - accuracy: 0.9552 - val_loss: 0.4673 - val_accuracy: 0.9082\n",
            "Epoch 443/500\n",
            "92/92 [==============================] - 1s 7ms/step - loss: 0.1220 - accuracy: 0.9533 - val_loss: 0.4653 - val_accuracy: 0.9089\n",
            "Epoch 444/500\n",
            "92/92 [==============================] - 1s 7ms/step - loss: 0.1099 - accuracy: 0.9596 - val_loss: 0.4638 - val_accuracy: 0.9055\n",
            "Epoch 445/500\n",
            "92/92 [==============================] - 1s 7ms/step - loss: 0.1287 - accuracy: 0.9432 - val_loss: 0.4705 - val_accuracy: 0.9082\n",
            "Epoch 446/500\n",
            "92/92 [==============================] - 1s 7ms/step - loss: 0.1185 - accuracy: 0.9570 - val_loss: 0.4815 - val_accuracy: 0.9150\n",
            "Epoch 447/500\n",
            "92/92 [==============================] - 1s 7ms/step - loss: 0.1319 - accuracy: 0.9478 - val_loss: 0.4789 - val_accuracy: 0.9075\n",
            "Epoch 448/500\n",
            "92/92 [==============================] - 1s 7ms/step - loss: 0.1217 - accuracy: 0.9502 - val_loss: 0.4650 - val_accuracy: 0.9103\n",
            "Epoch 449/500\n",
            "92/92 [==============================] - 1s 7ms/step - loss: 0.1199 - accuracy: 0.9549 - val_loss: 0.4686 - val_accuracy: 0.9116\n",
            "Epoch 450/500\n",
            "92/92 [==============================] - 1s 7ms/step - loss: 0.1179 - accuracy: 0.9545 - val_loss: 0.4690 - val_accuracy: 0.9116\n",
            "Epoch 451/500\n",
            "92/92 [==============================] - 1s 7ms/step - loss: 0.1165 - accuracy: 0.9548 - val_loss: 0.4695 - val_accuracy: 0.9075\n",
            "Epoch 452/500\n",
            "92/92 [==============================] - 1s 7ms/step - loss: 0.1161 - accuracy: 0.9559 - val_loss: 0.4720 - val_accuracy: 0.9096\n",
            "Epoch 453/500\n",
            "92/92 [==============================] - 1s 7ms/step - loss: 0.1153 - accuracy: 0.9520 - val_loss: 0.4740 - val_accuracy: 0.9089\n",
            "Epoch 454/500\n",
            "92/92 [==============================] - 1s 7ms/step - loss: 0.1179 - accuracy: 0.9537 - val_loss: 0.4744 - val_accuracy: 0.9096\n",
            "Epoch 455/500\n",
            "92/92 [==============================] - 1s 7ms/step - loss: 0.1089 - accuracy: 0.9579 - val_loss: 0.5024 - val_accuracy: 0.9082\n",
            "Epoch 456/500\n",
            "92/92 [==============================] - 1s 7ms/step - loss: 0.1245 - accuracy: 0.9487 - val_loss: 0.4729 - val_accuracy: 0.9116\n",
            "Epoch 457/500\n",
            "92/92 [==============================] - 1s 7ms/step - loss: 0.1264 - accuracy: 0.9488 - val_loss: 0.4702 - val_accuracy: 0.9123\n",
            "Epoch 458/500\n",
            "92/92 [==============================] - 1s 7ms/step - loss: 0.1155 - accuracy: 0.9523 - val_loss: 0.4689 - val_accuracy: 0.9130\n",
            "Epoch 459/500\n",
            "92/92 [==============================] - 1s 7ms/step - loss: 0.1229 - accuracy: 0.9481 - val_loss: 0.4737 - val_accuracy: 0.9103\n",
            "Epoch 460/500\n",
            "92/92 [==============================] - 1s 7ms/step - loss: 0.1192 - accuracy: 0.9521 - val_loss: 0.4718 - val_accuracy: 0.9123\n",
            "Epoch 461/500\n",
            "92/92 [==============================] - 1s 7ms/step - loss: 0.1170 - accuracy: 0.9525 - val_loss: 0.4725 - val_accuracy: 0.9123\n",
            "Epoch 462/500\n",
            "92/92 [==============================] - 1s 7ms/step - loss: 0.1147 - accuracy: 0.9524 - val_loss: 0.4702 - val_accuracy: 0.9143\n",
            "Epoch 463/500\n",
            "92/92 [==============================] - 1s 7ms/step - loss: 0.1174 - accuracy: 0.9529 - val_loss: 0.4774 - val_accuracy: 0.9109\n",
            "Epoch 464/500\n",
            "92/92 [==============================] - 1s 7ms/step - loss: 0.1212 - accuracy: 0.9529 - val_loss: 0.4738 - val_accuracy: 0.9096\n",
            "Epoch 465/500\n",
            "92/92 [==============================] - 1s 7ms/step - loss: 0.1130 - accuracy: 0.9568 - val_loss: 0.4804 - val_accuracy: 0.8681\n",
            "Epoch 466/500\n",
            "92/92 [==============================] - 1s 7ms/step - loss: 0.1185 - accuracy: 0.9522 - val_loss: 0.4670 - val_accuracy: 0.8892\n",
            "Epoch 467/500\n",
            "92/92 [==============================] - 1s 7ms/step - loss: 0.1244 - accuracy: 0.9518 - val_loss: 0.4746 - val_accuracy: 0.9116\n",
            "Epoch 468/500\n",
            "92/92 [==============================] - 1s 7ms/step - loss: 0.1129 - accuracy: 0.9546 - val_loss: 0.4732 - val_accuracy: 0.9089\n",
            "Epoch 469/500\n",
            "92/92 [==============================] - 1s 7ms/step - loss: 0.1208 - accuracy: 0.9527 - val_loss: 0.4708 - val_accuracy: 0.9089\n",
            "Epoch 470/500\n",
            "92/92 [==============================] - 1s 7ms/step - loss: 0.1152 - accuracy: 0.9540 - val_loss: 0.4758 - val_accuracy: 0.9109\n",
            "Epoch 471/500\n",
            "92/92 [==============================] - 1s 7ms/step - loss: 0.1102 - accuracy: 0.9595 - val_loss: 0.4719 - val_accuracy: 0.9103\n",
            "Epoch 472/500\n",
            "92/92 [==============================] - 1s 7ms/step - loss: 0.1182 - accuracy: 0.9514 - val_loss: 0.4914 - val_accuracy: 0.9069\n",
            "Epoch 473/500\n",
            "92/92 [==============================] - 1s 7ms/step - loss: 0.1032 - accuracy: 0.9585 - val_loss: 0.4802 - val_accuracy: 0.9103\n",
            "Epoch 474/500\n",
            "92/92 [==============================] - 1s 7ms/step - loss: 0.1163 - accuracy: 0.9525 - val_loss: 0.4830 - val_accuracy: 0.9096\n",
            "Epoch 475/500\n",
            "92/92 [==============================] - 1s 7ms/step - loss: 0.1076 - accuracy: 0.9563 - val_loss: 0.4771 - val_accuracy: 0.9109\n",
            "Epoch 476/500\n",
            "92/92 [==============================] - 1s 7ms/step - loss: 0.1099 - accuracy: 0.9550 - val_loss: 0.4754 - val_accuracy: 0.9075\n",
            "Epoch 477/500\n",
            "92/92 [==============================] - 1s 7ms/step - loss: 0.1132 - accuracy: 0.9523 - val_loss: 0.4719 - val_accuracy: 0.9103\n",
            "Epoch 478/500\n",
            "92/92 [==============================] - 1s 7ms/step - loss: 0.1034 - accuracy: 0.9592 - val_loss: 0.4749 - val_accuracy: 0.9130\n",
            "Epoch 479/500\n",
            "92/92 [==============================] - 1s 7ms/step - loss: 0.1150 - accuracy: 0.9530 - val_loss: 0.4725 - val_accuracy: 0.9143\n",
            "Epoch 480/500\n",
            "92/92 [==============================] - 1s 7ms/step - loss: 0.1168 - accuracy: 0.9512 - val_loss: 0.4774 - val_accuracy: 0.9103\n",
            "Epoch 481/500\n",
            "92/92 [==============================] - 1s 7ms/step - loss: 0.1193 - accuracy: 0.9493 - val_loss: 0.4807 - val_accuracy: 0.9089\n",
            "Epoch 482/500\n",
            "92/92 [==============================] - 1s 7ms/step - loss: 0.1101 - accuracy: 0.9585 - val_loss: 0.4796 - val_accuracy: 0.9109\n",
            "Epoch 483/500\n",
            "92/92 [==============================] - 1s 7ms/step - loss: 0.1180 - accuracy: 0.9505 - val_loss: 0.4772 - val_accuracy: 0.9103\n",
            "Epoch 484/500\n",
            "92/92 [==============================] - 1s 7ms/step - loss: 0.1182 - accuracy: 0.9521 - val_loss: 0.4754 - val_accuracy: 0.9096\n",
            "Epoch 485/500\n",
            "92/92 [==============================] - 1s 7ms/step - loss: 0.1182 - accuracy: 0.9521 - val_loss: 0.4784 - val_accuracy: 0.9103\n",
            "Epoch 486/500\n",
            "92/92 [==============================] - 1s 7ms/step - loss: 0.1161 - accuracy: 0.9533 - val_loss: 0.4794 - val_accuracy: 0.9109\n",
            "Epoch 487/500\n",
            "92/92 [==============================] - 1s 7ms/step - loss: 0.1181 - accuracy: 0.9499 - val_loss: 0.4785 - val_accuracy: 0.9109\n",
            "Epoch 488/500\n",
            "92/92 [==============================] - 1s 7ms/step - loss: 0.1168 - accuracy: 0.9543 - val_loss: 0.4831 - val_accuracy: 0.9123\n",
            "Epoch 489/500\n",
            "92/92 [==============================] - 1s 7ms/step - loss: 0.1103 - accuracy: 0.9520 - val_loss: 0.4787 - val_accuracy: 0.9103\n",
            "Epoch 490/500\n",
            "92/92 [==============================] - 1s 7ms/step - loss: 0.1122 - accuracy: 0.9530 - val_loss: 0.4778 - val_accuracy: 0.9123\n",
            "Epoch 491/500\n",
            "92/92 [==============================] - 1s 7ms/step - loss: 0.1118 - accuracy: 0.9544 - val_loss: 0.4775 - val_accuracy: 0.9096\n",
            "Epoch 492/500\n",
            "92/92 [==============================] - 1s 9ms/step - loss: 0.1004 - accuracy: 0.9584 - val_loss: 0.4780 - val_accuracy: 0.9109\n",
            "Epoch 493/500\n",
            "92/92 [==============================] - 1s 7ms/step - loss: 0.1134 - accuracy: 0.9493 - val_loss: 0.4780 - val_accuracy: 0.9089\n",
            "Epoch 494/500\n",
            "92/92 [==============================] - 1s 7ms/step - loss: 0.1082 - accuracy: 0.9560 - val_loss: 0.4791 - val_accuracy: 0.9103\n",
            "Epoch 495/500\n",
            "92/92 [==============================] - 1s 7ms/step - loss: 0.1062 - accuracy: 0.9557 - val_loss: 0.4808 - val_accuracy: 0.9130\n",
            "Epoch 496/500\n",
            "92/92 [==============================] - 1s 7ms/step - loss: 0.1097 - accuracy: 0.9552 - val_loss: 0.4831 - val_accuracy: 0.9082\n",
            "Epoch 497/500\n",
            "92/92 [==============================] - 1s 7ms/step - loss: 0.1044 - accuracy: 0.9558 - val_loss: 0.4815 - val_accuracy: 0.9116\n",
            "Epoch 498/500\n",
            "92/92 [==============================] - 1s 7ms/step - loss: 0.1144 - accuracy: 0.9520 - val_loss: 0.4812 - val_accuracy: 0.9123\n",
            "Epoch 499/500\n",
            "92/92 [==============================] - 1s 7ms/step - loss: 0.1043 - accuracy: 0.9602 - val_loss: 0.4897 - val_accuracy: 0.9103\n",
            "Epoch 500/500\n",
            "92/92 [==============================] - 1s 7ms/step - loss: 0.1051 - accuracy: 0.9570 - val_loss: 0.4886 - val_accuracy: 0.9103\n"
          ],
          "name": "stdout"
        }
      ]
    },
    {
      "cell_type": "markdown",
      "metadata": {
        "id": "FFNckOgf0v_A"
      },
      "source": [
        "Plot the loss and accuracy history graphs. Print the total time taken for training"
      ]
    },
    {
      "cell_type": "code",
      "metadata": {
        "id": "ZWyATPaD0G03",
        "colab": {
          "base_uri": "https://localhost:8080/",
          "height": 367
        },
        "outputId": "5da66128-17cf-447f-b941-45646eeedbe3"
      },
      "source": [
        "history_dict = history.history\r\n",
        "print(history_dict.keys())\r\n",
        "\r\n",
        "acc = history_dict['accuracy']\r\n",
        "val_acc = history_dict['val_accuracy']\r\n",
        "loss = history_dict['loss']\r\n",
        "val_loss = history_dict['val_loss']\r\n",
        "\r\n",
        "epochs = range(1, len(acc) + 1)\r\n",
        "\r\n",
        "fix,ax = plt.subplots(1,2, figsize=(15,5))\r\n",
        "ax1 = ax[0] # to plot Training Loss\r\n",
        "ax2 = ax[1] # to plot Training Accuracy\r\n",
        "ax1.plot(epochs, loss, label='Training loss')\r\n",
        "ax1.plot(epochs, val_loss,  label='Validation loss')\r\n",
        "ax1.set_title('Training and validation loss')\r\n",
        "ax1.set_xlabel('Epochs')\r\n",
        "ax1.set_ylabel('Loss')\r\n",
        "ax1.legend()\r\n",
        "\r\n",
        "ax2.plot(epochs, acc, label='Training acc')\r\n",
        "ax2.plot(epochs, val_acc,  label='Validation acc')\r\n",
        "ax2.set_title('Training and validation accuracy')\r\n",
        "ax2.set_xlabel('Epochs')\r\n",
        "ax2.set_ylabel('Accuracy')\r\n",
        "ax2.legend()\r\n",
        "\r\n",
        "plt.show()"
      ],
      "execution_count": 28,
      "outputs": [
        {
          "output_type": "stream",
          "text": [
            "dict_keys(['loss', 'accuracy', 'val_loss', 'val_accuracy'])\n"
          ],
          "name": "stdout"
        },
        {
          "output_type": "display_data",
          "data": {
            "image/png": "[encoded data removed]",
            "text/plain": [
              "<Figure size 1080x360 with 2 Axes>"
            ]
          },
          "metadata": {
            "tags": [],
            "needs_background": "light"
          }
        }
      ]
    },
    {
      "cell_type": "markdown",
      "metadata": {
        "id": "mbp9-C3zIN6q"
      },
      "source": [
        "Print the total time taken for training."
      ]
    },
    {
      "cell_type": "code",
      "metadata": {
        "colab": {
          "base_uri": "https://localhost:8080/"
        },
        "id": "REIqD9ahIOnD",
        "outputId": "dc4b8a7c-e0bb-445b-a906-2d3ea105fe8c"
      },
      "source": [
        "#Time taken to train\r\n",
        "print(\"Time taken to train the NN:\",end_train - start_train,\" seconds\")"
      ],
      "execution_count": 29,
      "outputs": [
        {
          "output_type": "stream",
          "text": [
            "Time taken to train the NN: 319.59100008010864  seconds\n"
          ],
          "name": "stdout"
        }
      ]
    },
    {
      "cell_type": "markdown",
      "metadata": {
        "id": "9WcP7Jqz0H8-"
      },
      "source": [
        "#### Model Evaluation"
      ]
    },
    {
      "cell_type": "markdown",
      "metadata": {
        "id": "A-wRCLdS0Tz2"
      },
      "source": [
        "Print the final test/validation loss and accuracy"
      ]
    },
    {
      "cell_type": "code",
      "metadata": {
        "id": "GgiCgYRa0HWf",
        "colab": {
          "base_uri": "https://localhost:8080/"
        },
        "outputId": "9e5f46d6-5a16-43d3-f759-e4fa6751257b"
      },
      "source": [
        "results = model_LRCN.evaluate(X_test, testy, batch_size=batch_size, verbose=1)\r\n",
        "\r\n",
        "print(\"Test Loss:\",results[0])\r\n",
        "print(\"Test Accuracy:\",results[1])"
      ],
      "execution_count": 30,
      "outputs": [
        {
          "output_type": "stream",
          "text": [
            "47/47 [==============================] - 0s 4ms/step - loss: 0.4257 - accuracy: 0.8717\n",
            "Test Loss: 0.4256981611251831\n",
            "Test Accuracy: 0.8717339634895325\n"
          ],
          "name": "stdout"
        }
      ]
    },
    {
      "cell_type": "markdown",
      "metadata": {
        "id": "-M480Xw_MxKE"
      },
      "source": [
        "LSTM outperformed the CNN LSTM in terms of accuracy, if we have introduced Dropout in CNN-LSTM, I assume the result would be different. Since the dropout is not mentioned in the document. I have not added the drop out layer to the model"
      ]
    },
    {
      "cell_type": "markdown",
      "metadata": {
        "id": "qq5avMOI0Z3o"
      },
      "source": [
        "Print confusion matrix"
      ]
    },
    {
      "cell_type": "code",
      "metadata": {
        "id": "EBA4uo5d0a-X",
        "colab": {
          "base_uri": "https://localhost:8080/"
        },
        "outputId": "80515064-ff38-4958-cbee-6f4f0a5421ef"
      },
      "source": [
        "cm_testX,cm_testy = load_dataset_group(\"test\",ds_path + 'HARDataset/')\r\n",
        "y_pred = model_LRCN.predict(X_test).argmax(axis = 1) + 1\r\n",
        "\r\n",
        "df = pd.DataFrame({'y_test':cm_testy.reshape(cm_testy.shape[0]),'y_pred':y_pred})\r\n",
        "df.head()\r\n",
        "confusion_matrix_result = pd.crosstab(df['y_test'], df['y_pred'], rownames=['Actual'], colnames=['Predicted'])\r\n",
        "print (confusion_matrix_result)"
      ],
      "execution_count": 31,
      "outputs": [
        {
          "output_type": "stream",
          "text": [
            "Predicted    1    2    3    4    5    6\n",
            "Actual                                 \n",
            "1          457   26   12    0    1    0\n",
            "2           23  424   24    0    0    0\n",
            "3           44   10  366    0    0    0\n",
            "4            1   20    0  376   94    0\n",
            "5            0    5    0   75  452    0\n",
            "6           24    4   15    0    0  494\n"
          ],
          "name": "stdout"
        }
      ]
    },
    {
      "cell_type": "code",
      "metadata": {
        "colab": {
          "base_uri": "https://localhost:8080/",
          "height": 296
        },
        "id": "U7wKKjqkIwDV",
        "outputId": "446b8c8e-61a0-4b37-ef57-0df2226d6580"
      },
      "source": [
        "sns.heatmap(confusion_matrix_result, annot=True, fmt=\"d\", cmap=\"crest\")"
      ],
      "execution_count": 32,
      "outputs": [
        {
          "output_type": "execute_result",
          "data": {
            "text/plain": [
              "<matplotlib.axes._subplots.AxesSubplot at 0x7fdf4e3202e8>"
            ]
          },
          "metadata": {
            "tags": []
          },
          "execution_count": 32
        },
        {
          "output_type": "display_data",
          "data": {
            "image/png": "[encoded data removed]",
            "text/plain": [
              "<Figure size 432x288 with 2 Axes>"
            ]
          },
          "metadata": {
            "tags": [],
            "needs_background": "light"
          }
        }
      ]
    },
    {
      "cell_type": "code",
      "metadata": {
        "colab": {
          "base_uri": "https://localhost:8080/"
        },
        "id": "CJFLqVdiKK2u",
        "outputId": "3baf927f-5835-47a0-d59b-07bd6d2f407b"
      },
      "source": [
        "confusion_matrix(cm_testy.reshape(cm_testy.shape[0]),y_pred)"
      ],
      "execution_count": 33,
      "outputs": [
        {
          "output_type": "execute_result",
          "data": {
            "text/plain": [
              "array([[457,  26,  12,   0,   1,   0],\n",
              "       [ 23, 424,  24,   0,   0,   0],\n",
              "       [ 44,  10, 366,   0,   0,   0],\n",
              "       [  1,  20,   0, 376,  94,   0],\n",
              "       [  0,   5,   0,  75, 452,   0],\n",
              "       [ 24,   4,  15,   0,   0, 494]])"
            ]
          },
          "metadata": {
            "tags": []
          },
          "execution_count": 33
        }
      ]
    },
    {
      "cell_type": "code",
      "metadata": {
        "colab": {
          "base_uri": "https://localhost:8080/"
        },
        "id": "-J7Awq-uIwfT",
        "outputId": "a4ae3209-c065-4f35-9ea4-5ee25e4b5a09"
      },
      "source": [
        "print(classification_report(cm_testy.reshape(cm_testy.shape[0]),y_pred))"
      ],
      "execution_count": 34,
      "outputs": [
        {
          "output_type": "stream",
          "text": [
            "              precision    recall  f1-score   support\n",
            "\n",
            "           1       0.83      0.92      0.87       496\n",
            "           2       0.87      0.90      0.88       471\n",
            "           3       0.88      0.87      0.87       420\n",
            "           4       0.83      0.77      0.80       491\n",
            "           5       0.83      0.85      0.84       532\n",
            "           6       1.00      0.92      0.96       537\n",
            "\n",
            "    accuracy                           0.87      2947\n",
            "   macro avg       0.87      0.87      0.87      2947\n",
            "weighted avg       0.87      0.87      0.87      2947\n",
            "\n"
          ],
          "name": "stdout"
        }
      ]
    }
  ]
}