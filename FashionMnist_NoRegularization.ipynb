{
  "nbformat": 4,
  "nbformat_minor": 0,
  "metadata": {
    "colab": {
      "name": "FashionMnist_NoRegularization.ipynb",
      "provenance": [],
      "collapsed_sections": [],
      "toc_visible": true,
      "authorship_tag": "ABX9TyNBW1SWKNn7d5Bz+mG5Qig9",
      "include_colab_link": true
    },
    "kernelspec": {
      "name": "python3",
      "display_name": "Python 3"
    },
    "accelerator": "GPU"
  },
  "cells": [
    {
      "cell_type": "markdown",
      "metadata": {
        "id": "view-in-github",
        "colab_type": "text"
      },
      "source": [
        "<a href=\"https://colab.research.google.com/github/lokeshkumarn/Notebooks/blob/master/FashionMnist_NoRegularization.ipynb\" target=\"_parent\"><img src=\"https://colab.research.google.com/assets/colab-badge.svg\" alt=\"Open In Colab\"/></a>"
      ]
    },
    {
      "cell_type": "markdown",
      "metadata": {
        "id": "JD5tc8Rnz19H"
      },
      "source": [
        "## Import Libraries/Dataset"
      ]
    },
    {
      "cell_type": "markdown",
      "metadata": {
        "id": "Y0hvLOW-z5ZE"
      },
      "source": [
        "### Import Libraries"
      ]
    },
    {
      "cell_type": "code",
      "metadata": {
        "id": "kA0jIJ60zM80"
      },
      "source": [
        "import time\n",
        "import tensorflow as tf\n",
        "from tensorflow.python.client import device_lib\n",
        "from google.colab import drive\n",
        "\n",
        "import pandas as pd\n",
        "import numpy as np\n",
        "import random as rd\n",
        "\n",
        "from tensorflow import keras\n",
        "\n",
        "import tensorflow_hub as hub\n",
        "import tensorflow_datasets as tfds\n",
        "\n",
        "from sklearn.model_selection import train_test_split\n",
        "from sklearn.metrics import confusion_matrix,classification_report\n",
        "\n",
        "from matplotlib import pyplot as plt\n",
        "import seaborn as sns"
      ],
      "execution_count": 1,
      "outputs": []
    },
    {
      "cell_type": "code",
      "metadata": {
        "id": "C83BzTAIz8Oy"
      },
      "source": [
        "rd.seed(2020)         # Initialize the random number generator.\n",
        "np.random.seed(2020)      # With the seed reset, the same set of numbers will appear every time. \n",
        "tf.random.set_seed(2020)  # sets the graph-level random seed"
      ],
      "execution_count": 2,
      "outputs": []
    },
    {
      "cell_type": "markdown",
      "metadata": {
        "id": "4HbAJi9f0JDL"
      },
      "source": [
        "### Import Dataset"
      ]
    },
    {
      "cell_type": "markdown",
      "metadata": {
        "id": "kVG2N6vL0MUB"
      },
      "source": [
        "Load dataset from TF"
      ]
    },
    {
      "cell_type": "code",
      "metadata": {
        "id": "stoIQKhd31bP"
      },
      "source": [
        "fashion_mnist = tf.keras.datasets.fashion_mnist\n",
        "\n",
        "(X_train, y_train), (X_test, y_test) = fashion_mnist.load_data()"
      ],
      "execution_count": 3,
      "outputs": []
    },
    {
      "cell_type": "markdown",
      "metadata": {
        "id": "Gx_7qt1J2jZA"
      },
      "source": [
        "### Check GPU"
      ]
    },
    {
      "cell_type": "code",
      "metadata": {
        "id": "9ee0VdCA2R3g",
        "outputId": "9ebadf72-b1fc-4fbf-cf1b-c22ff1bc6e34",
        "colab": {
          "base_uri": "https://localhost:8080/",
          "height": 35
        }
      },
      "source": [
        "def get_available_gpus():\n",
        "    local_device_protos = device_lib.list_local_devices()\n",
        "    return [x.name for x in local_device_protos if x.device_type == 'GPU' ]\n",
        "\n",
        "gpu_lst = get_available_gpus()\n",
        "\n",
        "if(len(gpu_lst) > 0):\n",
        "  print(\"GPU Enabled\")\n",
        "else:\n",
        "  print(\"GPU Disabled\")"
      ],
      "execution_count": 4,
      "outputs": [
        {
          "output_type": "stream",
          "text": [
            "GPU Enabled\n"
          ],
          "name": "stdout"
        }
      ]
    },
    {
      "cell_type": "markdown",
      "metadata": {
        "id": "HytT9m-122pU"
      },
      "source": [
        "## Data Visualization"
      ]
    },
    {
      "cell_type": "markdown",
      "metadata": {
        "id": "mi_EWfKs26So"
      },
      "source": [
        "Plot at least one sample from each class of the dataset "
      ]
    },
    {
      "cell_type": "code",
      "metadata": {
        "id": "gI1oUcz8447j"
      },
      "source": [
        "class_names = ['T-shirt_top', 'Trouser', 'Pullover', 'Dress', 'Coat',\n",
        "               'Sandal', 'Shirt', 'Sneaker', 'Bag', 'Ankle boot']"
      ],
      "execution_count": 5,
      "outputs": []
    },
    {
      "cell_type": "code",
      "metadata": {
        "id": "-KE6Zev-450T",
        "outputId": "fef5e039-efdb-4e86-fea1-7a355cfc23ac",
        "colab": {
          "base_uri": "https://localhost:8080/",
          "height": 441
        }
      },
      "source": [
        "fig,ax = plt.subplots(2,5,figsize=(20,10))\n",
        "j = 0\n",
        "for c in enumerate(class_names):\n",
        "  idx = [i for i,v in enumerate(y_train) if c[0] == v][0]\n",
        "  row,col = j, c[0] % 5  \n",
        "  ax[row,col].imshow(X_train[idx])\n",
        "  ax[row,col].set_title(c[1])\n",
        "  if c[0] % 5 == 4:\n",
        "    j = j + 1"
      ],
      "execution_count": 6,
      "outputs": [
        {
          "output_type": "display_data",
          "data": {
            "image/png": "[encoded data removed]",
            "text/plain": [
              "<Figure size 1440x720 with 10 Axes>"
            ]
          },
          "metadata": {
            "tags": [],
            "needs_background": "light"
          }
        }
      ]
    },
    {
      "cell_type": "markdown",
      "metadata": {
        "id": "gHzrJdf994YQ"
      },
      "source": [
        "Print the shapes of train and test data"
      ]
    },
    {
      "cell_type": "code",
      "metadata": {
        "id": "dtdl7u5E937w",
        "outputId": "8aa5761e-9667-422a-cee6-b89a24c9132c",
        "colab": {
          "base_uri": "https://localhost:8080/",
          "height": 90
        }
      },
      "source": [
        "print(\"Train Feature Shape:\",X_train.shape)\n",
        "print(\"Train Label Shape:\",y_train.shape)\n",
        "print(\"Test Feature Shape:\",X_test.shape)\n",
        "print(\"Test Label Shape:\",y_test.shape)"
      ],
      "execution_count": 7,
      "outputs": [
        {
          "output_type": "stream",
          "text": [
            "Train Feature Shape: (60000, 28, 28)\n",
            "Train Label Shape: (60000,)\n",
            "Test Feature Shape: (10000, 28, 28)\n",
            "Test Label Shape: (10000,)\n"
          ],
          "name": "stdout"
        }
      ]
    },
    {
      "cell_type": "markdown",
      "metadata": {
        "id": "Ymy9k17o-RJo"
      },
      "source": [
        "## Data Pre-processing "
      ]
    },
    {
      "cell_type": "markdown",
      "metadata": {
        "id": "3itsB5cl-UDg"
      },
      "source": [
        "Bring the train and test data in the required format"
      ]
    },
    {
      "cell_type": "code",
      "metadata": {
        "id": "uY10X1AO0ONB"
      },
      "source": [
        "# Normalize the data\n",
        "X_train = X_train.reshape((60000, 28*28))    # reshape the input set to size 28*28. VEctor of length 784\n",
        "X_train = X_train.astype('float32')/255      # normalize to grayscale; set datatype as float32\n",
        "\n",
        "X_test = X_test.reshape((10000, 28*28))      # reshape the input set to size 28*28. \n",
        "X_test = X_test.astype('float32')/255        # normalize to grayscale; set datatype as float32\n",
        "\n",
        "y_train_enc = tf.keras.utils.to_categorical(y_train)\n",
        "y_test_enc = tf.keras.utils.to_categorical(y_test)"
      ],
      "execution_count": 8,
      "outputs": []
    },
    {
      "cell_type": "code",
      "metadata": {
        "id": "s5UDUzOFAAo2",
        "outputId": "06ffe251-23dc-46d8-8177-2dfa7a1a57a8",
        "colab": {
          "base_uri": "https://localhost:8080/",
          "height": 90
        }
      },
      "source": [
        "#Shapes after reshaping & normalizing\n",
        "print(\"Train Feature Shape:\",X_train.shape)\n",
        "print(\"Train Label Shape:\",y_train.shape)\n",
        "print(\"Test Feature Shape:\",X_test.shape)\n",
        "print(\"Test Label Shape:\",y_test.shape)"
      ],
      "execution_count": 9,
      "outputs": [
        {
          "output_type": "stream",
          "text": [
            "Train Feature Shape: (60000, 784)\n",
            "Train Label Shape: (60000,)\n",
            "Test Feature Shape: (10000, 784)\n",
            "Test Label Shape: (10000,)\n"
          ],
          "name": "stdout"
        }
      ]
    },
    {
      "cell_type": "markdown",
      "metadata": {
        "id": "1cSwk7R0BYeI"
      },
      "source": [
        "## Model Building "
      ]
    },
    {
      "cell_type": "markdown",
      "metadata": {
        "id": "ZKRYn2v4Beuc"
      },
      "source": [
        "a.    Sequential Model layers- Use AT LEAST 3 dense layers with appropriate input for each. Choose the best number for hidden units and give reasons.<br>\n",
        "b.   Add L2 regularization to all the layers.<br>\n",
        "c.    Add one layer of dropout at the appropriate position and give reasons. <br>d.   Choose the appropriate activation function for all the layers.<br>\n",
        "e.   Print the model summary\n"
      ]
    },
    {
      "cell_type": "code",
      "metadata": {
        "id": "zGOR5i2gAISD",
        "outputId": "58a602d9-7f19-4c95-b093-ae0280a49b7d",
        "colab": {
          "base_uri": "https://localhost:8080/",
          "height": 345
        }
      },
      "source": [
        "model = keras.models.Sequential()\n",
        "\n",
        "# Layer 1 = input layer\n",
        "# specify the input size for in the first layer.\n",
        "\n",
        "model.add(keras.layers.Dense(512, activation='relu', input_shape= (28*28,)))\n",
        "\n",
        "# Layer 2 = hidden layer  with Regularizers\n",
        "model.add(keras.layers.Dense(300, activation='relu') )\n",
        "\n",
        "# Add dropout of 50% to layer 2\n",
        "model.add(keras.layers.Dropout(0.5))\n",
        "\n",
        "# Layer 3 = hidden layer \n",
        "model.add(keras.layers.Dense(64, activation='relu') )\n",
        "\n",
        "# Layer 4 = output layer\n",
        "model.add(keras.layers.Dense(10, activation='softmax'))\n",
        "\n",
        "model.summary()"
      ],
      "execution_count": 10,
      "outputs": [
        {
          "output_type": "stream",
          "text": [
            "Model: \"sequential\"\n",
            "_________________________________________________________________\n",
            "Layer (type)                 Output Shape              Param #   \n",
            "=================================================================\n",
            "dense (Dense)                (None, 512)               401920    \n",
            "_________________________________________________________________\n",
            "dense_1 (Dense)              (None, 300)               153900    \n",
            "_________________________________________________________________\n",
            "dropout (Dropout)            (None, 300)               0         \n",
            "_________________________________________________________________\n",
            "dense_2 (Dense)              (None, 64)                19264     \n",
            "_________________________________________________________________\n",
            "dense_3 (Dense)              (None, 10)                650       \n",
            "=================================================================\n",
            "Total params: 575,734\n",
            "Trainable params: 575,734\n",
            "Non-trainable params: 0\n",
            "_________________________________________________________________\n"
          ],
          "name": "stdout"
        }
      ]
    },
    {
      "cell_type": "markdown",
      "metadata": {
        "id": "zevuXU4IoaCX"
      },
      "source": [
        "**Choose the best number for hidden units and give reasons.**<br>\n",
        "1.The number of hidden neurons should be between the size of the input layer and the size of the output layer.<br>\n",
        "2.The number of hidden neurons should be 2/3 the size of the input layer, plus the size of the output layer.<br>\n",
        "3.The number of hidden neurons should be less than twice the size of the input layer.<br>\n",
        "\n",
        "Reference : [Link](https://www.heatonresearch.com/2017/06/01/hidden-layers.html)\n",
        "\n",
        "Even though I  didn't completely followed the rules in the reference because the number of hidden layers is not more than 4 so wanted reduce the parameters to learn (will discuss about dropout next) before the output layer"
      ]
    },
    {
      "cell_type": "markdown",
      "metadata": {
        "id": "zrajbvjgvYDS"
      },
      "source": [
        "**Give reasons for the dropout**<br>\n",
        "Dropout of 0.5 is to drastically reduce the parameters and also generalize better on the unseen data points"
      ]
    },
    {
      "cell_type": "markdown",
      "metadata": {
        "id": "9miE-oRDCpQH"
      },
      "source": [
        "## Model Compilation "
      ]
    },
    {
      "cell_type": "markdown",
      "metadata": {
        "id": "lQdmgbauDjJY"
      },
      "source": [
        "a.Compile the model with the appropriate loss function. - **categorical_crossentropy** - multiclass classification<br>\n",
        "b.Use an appropriate optimizer - **Adam**.<br>\n",
        "c.Use **accuracy** as metric."
      ]
    },
    {
      "cell_type": "code",
      "metadata": {
        "id": "dnGSp7T9Bq8G"
      },
      "source": [
        "model.compile(optimizer=tf.keras.optimizers.Adam(learning_rate=0.001,name='Adam'),\n",
        "              loss = 'categorical_crossentropy', \n",
        "              metrics=['accuracy'] )"
      ],
      "execution_count": 11,
      "outputs": []
    },
    {
      "cell_type": "markdown",
      "metadata": {
        "id": "1re7ENXskQLi"
      },
      "source": [
        "**Give reasons for the choice of learning rate and its value**<br>\n",
        "Learning rate of 0.001 is choosen, because too high would rollover the minima and I have tried giving the higher learning rate like 0.4, 0.2, 0.1, 0.01 the loss doesn't seem to converge to minima, so decided to lower the learning rate further so that weight update is minimum and proceeds towards the convergence or global minima "
      ]
    },
    {
      "cell_type": "markdown",
      "metadata": {
        "id": "Xc53v450EHvg"
      },
      "source": [
        "##Model Training "
      ]
    },
    {
      "cell_type": "code",
      "metadata": {
        "id": "pq6Bj-WrD0Qa",
        "outputId": "c5db17f2-77e8-41ca-afe5-d96b18f77f47",
        "colab": {
          "base_uri": "https://localhost:8080/",
          "height": 1000
        }
      },
      "source": [
        "start_train = time.time()\n",
        "history = model.fit(X_train,\n",
        "                    y_train_enc,\n",
        "                    epochs=100,\n",
        "                    batch_size=1000,\n",
        "                    validation_split=0.2,\n",
        "                    verbose=1)\n",
        "end_train = time.time()"
      ],
      "execution_count": 12,
      "outputs": [
        {
          "output_type": "stream",
          "text": [
            "Epoch 1/100\n",
            "48/48 [==============================] - 0s 9ms/step - loss: 0.8479 - accuracy: 0.7007 - val_loss: 0.4901 - val_accuracy: 0.8290\n",
            "Epoch 2/100\n",
            "48/48 [==============================] - 0s 6ms/step - loss: 0.4766 - accuracy: 0.8310 - val_loss: 0.4042 - val_accuracy: 0.8553\n",
            "Epoch 3/100\n",
            "48/48 [==============================] - 0s 6ms/step - loss: 0.4112 - accuracy: 0.8534 - val_loss: 0.3821 - val_accuracy: 0.8608\n",
            "Epoch 4/100\n",
            "48/48 [==============================] - 0s 6ms/step - loss: 0.3739 - accuracy: 0.8643 - val_loss: 0.3507 - val_accuracy: 0.8751\n",
            "Epoch 5/100\n",
            "48/48 [==============================] - 0s 6ms/step - loss: 0.3464 - accuracy: 0.8754 - val_loss: 0.3399 - val_accuracy: 0.8765\n",
            "Epoch 6/100\n",
            "48/48 [==============================] - 0s 6ms/step - loss: 0.3305 - accuracy: 0.8808 - val_loss: 0.3336 - val_accuracy: 0.8807\n",
            "Epoch 7/100\n",
            "48/48 [==============================] - 0s 6ms/step - loss: 0.3116 - accuracy: 0.8865 - val_loss: 0.3293 - val_accuracy: 0.8794\n",
            "Epoch 8/100\n",
            "48/48 [==============================] - 0s 6ms/step - loss: 0.2979 - accuracy: 0.8894 - val_loss: 0.3175 - val_accuracy: 0.8834\n",
            "Epoch 9/100\n",
            "48/48 [==============================] - 0s 6ms/step - loss: 0.2858 - accuracy: 0.8960 - val_loss: 0.3143 - val_accuracy: 0.8865\n",
            "Epoch 10/100\n",
            "48/48 [==============================] - 0s 5ms/step - loss: 0.2759 - accuracy: 0.8984 - val_loss: 0.3089 - val_accuracy: 0.8867\n",
            "Epoch 11/100\n",
            "48/48 [==============================] - 0s 6ms/step - loss: 0.2690 - accuracy: 0.9008 - val_loss: 0.3033 - val_accuracy: 0.8905\n",
            "Epoch 12/100\n",
            "48/48 [==============================] - 0s 6ms/step - loss: 0.2580 - accuracy: 0.9038 - val_loss: 0.3108 - val_accuracy: 0.8902\n",
            "Epoch 13/100\n",
            "48/48 [==============================] - 0s 5ms/step - loss: 0.2493 - accuracy: 0.9082 - val_loss: 0.3100 - val_accuracy: 0.8906\n",
            "Epoch 14/100\n",
            "48/48 [==============================] - 0s 5ms/step - loss: 0.2442 - accuracy: 0.9084 - val_loss: 0.3031 - val_accuracy: 0.8914\n",
            "Epoch 15/100\n",
            "48/48 [==============================] - 0s 6ms/step - loss: 0.2369 - accuracy: 0.9129 - val_loss: 0.3002 - val_accuracy: 0.8904\n",
            "Epoch 16/100\n",
            "48/48 [==============================] - 0s 6ms/step - loss: 0.2274 - accuracy: 0.9166 - val_loss: 0.3153 - val_accuracy: 0.8916\n",
            "Epoch 17/100\n",
            "48/48 [==============================] - 0s 5ms/step - loss: 0.2220 - accuracy: 0.9167 - val_loss: 0.3318 - val_accuracy: 0.8839\n",
            "Epoch 18/100\n",
            "48/48 [==============================] - 0s 6ms/step - loss: 0.2163 - accuracy: 0.9193 - val_loss: 0.3030 - val_accuracy: 0.8919\n",
            "Epoch 19/100\n",
            "48/48 [==============================] - 0s 5ms/step - loss: 0.2049 - accuracy: 0.9240 - val_loss: 0.2962 - val_accuracy: 0.8938\n",
            "Epoch 20/100\n",
            "48/48 [==============================] - 0s 5ms/step - loss: 0.1983 - accuracy: 0.9262 - val_loss: 0.3015 - val_accuracy: 0.8931\n",
            "Epoch 21/100\n",
            "48/48 [==============================] - 0s 5ms/step - loss: 0.1937 - accuracy: 0.9276 - val_loss: 0.3147 - val_accuracy: 0.8925\n",
            "Epoch 22/100\n",
            "48/48 [==============================] - 0s 6ms/step - loss: 0.1912 - accuracy: 0.9293 - val_loss: 0.3232 - val_accuracy: 0.8910\n",
            "Epoch 23/100\n",
            "48/48 [==============================] - 0s 5ms/step - loss: 0.1860 - accuracy: 0.9306 - val_loss: 0.3145 - val_accuracy: 0.8934\n",
            "Epoch 24/100\n",
            "48/48 [==============================] - 0s 5ms/step - loss: 0.1799 - accuracy: 0.9322 - val_loss: 0.3411 - val_accuracy: 0.8889\n",
            "Epoch 25/100\n",
            "48/48 [==============================] - 0s 5ms/step - loss: 0.1790 - accuracy: 0.9328 - val_loss: 0.3126 - val_accuracy: 0.8967\n",
            "Epoch 26/100\n",
            "48/48 [==============================] - 0s 5ms/step - loss: 0.1719 - accuracy: 0.9358 - val_loss: 0.3158 - val_accuracy: 0.8957\n",
            "Epoch 27/100\n",
            "48/48 [==============================] - 0s 5ms/step - loss: 0.1644 - accuracy: 0.9389 - val_loss: 0.3288 - val_accuracy: 0.8942\n",
            "Epoch 28/100\n",
            "48/48 [==============================] - 0s 5ms/step - loss: 0.1633 - accuracy: 0.9379 - val_loss: 0.3070 - val_accuracy: 0.8992\n",
            "Epoch 29/100\n",
            "48/48 [==============================] - 0s 5ms/step - loss: 0.1582 - accuracy: 0.9400 - val_loss: 0.3275 - val_accuracy: 0.8968\n",
            "Epoch 30/100\n",
            "48/48 [==============================] - 0s 6ms/step - loss: 0.1514 - accuracy: 0.9433 - val_loss: 0.3216 - val_accuracy: 0.8951\n",
            "Epoch 31/100\n",
            "48/48 [==============================] - 0s 6ms/step - loss: 0.1497 - accuracy: 0.9438 - val_loss: 0.3247 - val_accuracy: 0.8978\n",
            "Epoch 32/100\n",
            "48/48 [==============================] - 0s 5ms/step - loss: 0.1427 - accuracy: 0.9464 - val_loss: 0.3396 - val_accuracy: 0.8954\n",
            "Epoch 33/100\n",
            "48/48 [==============================] - 0s 6ms/step - loss: 0.1391 - accuracy: 0.9476 - val_loss: 0.3434 - val_accuracy: 0.8913\n",
            "Epoch 34/100\n",
            "48/48 [==============================] - 0s 6ms/step - loss: 0.1382 - accuracy: 0.9475 - val_loss: 0.3610 - val_accuracy: 0.8928\n",
            "Epoch 35/100\n",
            "48/48 [==============================] - 0s 6ms/step - loss: 0.1370 - accuracy: 0.9473 - val_loss: 0.3459 - val_accuracy: 0.8996\n",
            "Epoch 36/100\n",
            "48/48 [==============================] - 0s 6ms/step - loss: 0.1284 - accuracy: 0.9513 - val_loss: 0.3499 - val_accuracy: 0.8955\n",
            "Epoch 37/100\n",
            "48/48 [==============================] - 0s 6ms/step - loss: 0.1255 - accuracy: 0.9529 - val_loss: 0.3697 - val_accuracy: 0.8972\n",
            "Epoch 38/100\n",
            "48/48 [==============================] - 0s 6ms/step - loss: 0.1181 - accuracy: 0.9550 - val_loss: 0.3512 - val_accuracy: 0.8978\n",
            "Epoch 39/100\n",
            "48/48 [==============================] - 0s 6ms/step - loss: 0.1235 - accuracy: 0.9531 - val_loss: 0.3825 - val_accuracy: 0.8960\n",
            "Epoch 40/100\n",
            "48/48 [==============================] - 0s 6ms/step - loss: 0.1213 - accuracy: 0.9528 - val_loss: 0.3646 - val_accuracy: 0.8966\n",
            "Epoch 41/100\n",
            "48/48 [==============================] - 0s 6ms/step - loss: 0.1144 - accuracy: 0.9557 - val_loss: 0.3754 - val_accuracy: 0.9004\n",
            "Epoch 42/100\n",
            "48/48 [==============================] - 0s 6ms/step - loss: 0.1153 - accuracy: 0.9567 - val_loss: 0.3671 - val_accuracy: 0.8965\n",
            "Epoch 43/100\n",
            "48/48 [==============================] - 0s 6ms/step - loss: 0.1127 - accuracy: 0.9570 - val_loss: 0.3725 - val_accuracy: 0.8976\n",
            "Epoch 44/100\n",
            "48/48 [==============================] - 0s 6ms/step - loss: 0.1137 - accuracy: 0.9569 - val_loss: 0.3673 - val_accuracy: 0.8952\n",
            "Epoch 45/100\n",
            "48/48 [==============================] - 0s 6ms/step - loss: 0.1046 - accuracy: 0.9608 - val_loss: 0.3855 - val_accuracy: 0.8972\n",
            "Epoch 46/100\n",
            "48/48 [==============================] - 0s 6ms/step - loss: 0.1037 - accuracy: 0.9611 - val_loss: 0.3951 - val_accuracy: 0.8951\n",
            "Epoch 47/100\n",
            "48/48 [==============================] - 0s 6ms/step - loss: 0.1072 - accuracy: 0.9593 - val_loss: 0.3930 - val_accuracy: 0.8915\n",
            "Epoch 48/100\n",
            "48/48 [==============================] - 0s 6ms/step - loss: 0.0961 - accuracy: 0.9629 - val_loss: 0.3964 - val_accuracy: 0.8980\n",
            "Epoch 49/100\n",
            "48/48 [==============================] - 0s 6ms/step - loss: 0.0880 - accuracy: 0.9673 - val_loss: 0.4209 - val_accuracy: 0.8985\n",
            "Epoch 50/100\n",
            "48/48 [==============================] - 0s 6ms/step - loss: 0.0917 - accuracy: 0.9661 - val_loss: 0.4335 - val_accuracy: 0.8936\n",
            "Epoch 51/100\n",
            "48/48 [==============================] - 0s 6ms/step - loss: 0.0890 - accuracy: 0.9663 - val_loss: 0.4007 - val_accuracy: 0.9011\n",
            "Epoch 52/100\n",
            "48/48 [==============================] - 0s 6ms/step - loss: 0.0856 - accuracy: 0.9679 - val_loss: 0.4034 - val_accuracy: 0.8979\n",
            "Epoch 53/100\n",
            "48/48 [==============================] - 0s 6ms/step - loss: 0.0859 - accuracy: 0.9672 - val_loss: 0.4467 - val_accuracy: 0.8965\n",
            "Epoch 54/100\n",
            "48/48 [==============================] - 0s 6ms/step - loss: 0.0815 - accuracy: 0.9688 - val_loss: 0.4238 - val_accuracy: 0.9011\n",
            "Epoch 55/100\n",
            "48/48 [==============================] - 0s 6ms/step - loss: 0.0788 - accuracy: 0.9692 - val_loss: 0.4362 - val_accuracy: 0.8952\n",
            "Epoch 56/100\n",
            "48/48 [==============================] - 0s 6ms/step - loss: 0.0772 - accuracy: 0.9707 - val_loss: 0.4610 - val_accuracy: 0.8955\n",
            "Epoch 57/100\n",
            "48/48 [==============================] - 0s 6ms/step - loss: 0.0755 - accuracy: 0.9712 - val_loss: 0.4402 - val_accuracy: 0.8978\n",
            "Epoch 58/100\n",
            "48/48 [==============================] - 0s 6ms/step - loss: 0.0804 - accuracy: 0.9690 - val_loss: 0.4662 - val_accuracy: 0.8928\n",
            "Epoch 59/100\n",
            "48/48 [==============================] - 0s 6ms/step - loss: 0.0770 - accuracy: 0.9704 - val_loss: 0.4478 - val_accuracy: 0.8945\n",
            "Epoch 60/100\n",
            "48/48 [==============================] - 0s 6ms/step - loss: 0.0767 - accuracy: 0.9713 - val_loss: 0.4611 - val_accuracy: 0.8957\n",
            "Epoch 61/100\n",
            "48/48 [==============================] - 0s 6ms/step - loss: 0.0746 - accuracy: 0.9715 - val_loss: 0.4632 - val_accuracy: 0.8972\n",
            "Epoch 62/100\n",
            "48/48 [==============================] - 0s 6ms/step - loss: 0.0698 - accuracy: 0.9731 - val_loss: 0.4690 - val_accuracy: 0.8956\n",
            "Epoch 63/100\n",
            "48/48 [==============================] - 0s 6ms/step - loss: 0.0707 - accuracy: 0.9728 - val_loss: 0.4878 - val_accuracy: 0.8913\n",
            "Epoch 64/100\n",
            "48/48 [==============================] - 0s 6ms/step - loss: 0.0679 - accuracy: 0.9746 - val_loss: 0.4922 - val_accuracy: 0.8985\n",
            "Epoch 65/100\n",
            "48/48 [==============================] - 0s 6ms/step - loss: 0.0637 - accuracy: 0.9762 - val_loss: 0.5057 - val_accuracy: 0.8980\n",
            "Epoch 66/100\n",
            "48/48 [==============================] - 0s 6ms/step - loss: 0.0638 - accuracy: 0.9764 - val_loss: 0.5140 - val_accuracy: 0.8915\n",
            "Epoch 67/100\n",
            "48/48 [==============================] - 0s 6ms/step - loss: 0.0710 - accuracy: 0.9727 - val_loss: 0.4691 - val_accuracy: 0.8982\n",
            "Epoch 68/100\n",
            "48/48 [==============================] - 0s 6ms/step - loss: 0.0664 - accuracy: 0.9746 - val_loss: 0.4674 - val_accuracy: 0.8978\n",
            "Epoch 69/100\n",
            "48/48 [==============================] - 0s 6ms/step - loss: 0.0695 - accuracy: 0.9735 - val_loss: 0.5116 - val_accuracy: 0.8967\n",
            "Epoch 70/100\n",
            "48/48 [==============================] - 0s 6ms/step - loss: 0.0608 - accuracy: 0.9768 - val_loss: 0.5180 - val_accuracy: 0.8955\n",
            "Epoch 71/100\n",
            "48/48 [==============================] - 0s 6ms/step - loss: 0.0577 - accuracy: 0.9776 - val_loss: 0.5310 - val_accuracy: 0.8991\n",
            "Epoch 72/100\n",
            "48/48 [==============================] - 0s 6ms/step - loss: 0.0550 - accuracy: 0.9789 - val_loss: 0.5380 - val_accuracy: 0.8888\n",
            "Epoch 73/100\n",
            "48/48 [==============================] - 0s 6ms/step - loss: 0.0642 - accuracy: 0.9751 - val_loss: 0.5486 - val_accuracy: 0.8986\n",
            "Epoch 74/100\n",
            "48/48 [==============================] - 0s 6ms/step - loss: 0.0532 - accuracy: 0.9799 - val_loss: 0.5020 - val_accuracy: 0.8990\n",
            "Epoch 75/100\n",
            "48/48 [==============================] - 0s 6ms/step - loss: 0.0477 - accuracy: 0.9818 - val_loss: 0.5246 - val_accuracy: 0.8989\n",
            "Epoch 76/100\n",
            "48/48 [==============================] - 0s 6ms/step - loss: 0.0504 - accuracy: 0.9806 - val_loss: 0.5471 - val_accuracy: 0.8982\n",
            "Epoch 77/100\n",
            "48/48 [==============================] - 0s 6ms/step - loss: 0.0521 - accuracy: 0.9808 - val_loss: 0.5947 - val_accuracy: 0.8958\n",
            "Epoch 78/100\n",
            "48/48 [==============================] - 0s 6ms/step - loss: 0.0644 - accuracy: 0.9750 - val_loss: 0.5446 - val_accuracy: 0.8990\n",
            "Epoch 79/100\n",
            "48/48 [==============================] - 0s 6ms/step - loss: 0.0602 - accuracy: 0.9767 - val_loss: 0.5383 - val_accuracy: 0.8941\n",
            "Epoch 80/100\n",
            "48/48 [==============================] - 0s 6ms/step - loss: 0.0496 - accuracy: 0.9812 - val_loss: 0.5374 - val_accuracy: 0.8982\n",
            "Epoch 81/100\n",
            "48/48 [==============================] - 0s 6ms/step - loss: 0.0509 - accuracy: 0.9808 - val_loss: 0.5473 - val_accuracy: 0.8982\n",
            "Epoch 82/100\n",
            "48/48 [==============================] - 0s 6ms/step - loss: 0.0533 - accuracy: 0.9799 - val_loss: 0.5304 - val_accuracy: 0.8935\n",
            "Epoch 83/100\n",
            "48/48 [==============================] - 0s 6ms/step - loss: 0.0536 - accuracy: 0.9800 - val_loss: 0.5721 - val_accuracy: 0.8956\n",
            "Epoch 84/100\n",
            "48/48 [==============================] - 0s 6ms/step - loss: 0.0452 - accuracy: 0.9827 - val_loss: 0.5670 - val_accuracy: 0.8989\n",
            "Epoch 85/100\n",
            "48/48 [==============================] - 0s 6ms/step - loss: 0.0461 - accuracy: 0.9824 - val_loss: 0.5743 - val_accuracy: 0.8977\n",
            "Epoch 86/100\n",
            "48/48 [==============================] - 0s 6ms/step - loss: 0.0493 - accuracy: 0.9819 - val_loss: 0.5605 - val_accuracy: 0.8975\n",
            "Epoch 87/100\n",
            "48/48 [==============================] - 0s 6ms/step - loss: 0.0460 - accuracy: 0.9826 - val_loss: 0.5545 - val_accuracy: 0.8976\n",
            "Epoch 88/100\n",
            "48/48 [==============================] - 0s 6ms/step - loss: 0.0467 - accuracy: 0.9832 - val_loss: 0.5887 - val_accuracy: 0.8979\n",
            "Epoch 89/100\n",
            "48/48 [==============================] - 0s 6ms/step - loss: 0.0450 - accuracy: 0.9830 - val_loss: 0.6047 - val_accuracy: 0.8947\n",
            "Epoch 90/100\n",
            "48/48 [==============================] - 0s 6ms/step - loss: 0.0457 - accuracy: 0.9830 - val_loss: 0.5746 - val_accuracy: 0.8937\n",
            "Epoch 91/100\n",
            "48/48 [==============================] - 0s 5ms/step - loss: 0.0425 - accuracy: 0.9844 - val_loss: 0.6472 - val_accuracy: 0.8942\n",
            "Epoch 92/100\n",
            "48/48 [==============================] - 0s 6ms/step - loss: 0.0540 - accuracy: 0.9797 - val_loss: 0.5994 - val_accuracy: 0.8977\n",
            "Epoch 93/100\n",
            "48/48 [==============================] - 0s 6ms/step - loss: 0.0512 - accuracy: 0.9811 - val_loss: 0.5899 - val_accuracy: 0.8978\n",
            "Epoch 94/100\n",
            "48/48 [==============================] - 0s 5ms/step - loss: 0.0418 - accuracy: 0.9835 - val_loss: 0.6015 - val_accuracy: 0.8967\n",
            "Epoch 95/100\n",
            "48/48 [==============================] - 0s 6ms/step - loss: 0.0432 - accuracy: 0.9835 - val_loss: 0.6277 - val_accuracy: 0.8974\n",
            "Epoch 96/100\n",
            "48/48 [==============================] - 0s 6ms/step - loss: 0.0396 - accuracy: 0.9851 - val_loss: 0.6387 - val_accuracy: 0.8963\n",
            "Epoch 97/100\n",
            "48/48 [==============================] - 0s 6ms/step - loss: 0.0446 - accuracy: 0.9830 - val_loss: 0.6090 - val_accuracy: 0.8875\n",
            "Epoch 98/100\n",
            "48/48 [==============================] - 0s 6ms/step - loss: 0.0440 - accuracy: 0.9831 - val_loss: 0.6147 - val_accuracy: 0.8952\n",
            "Epoch 99/100\n",
            "48/48 [==============================] - 0s 6ms/step - loss: 0.0477 - accuracy: 0.9822 - val_loss: 0.6828 - val_accuracy: 0.8913\n",
            "Epoch 100/100\n",
            "48/48 [==============================] - 0s 6ms/step - loss: 0.0457 - accuracy: 0.9826 - val_loss: 0.6052 - val_accuracy: 0.8983\n"
          ],
          "name": "stdout"
        }
      ]
    },
    {
      "cell_type": "markdown",
      "metadata": {
        "id": "5MqvD05-pFUd"
      },
      "source": [
        "Print the total time taken for training"
      ]
    },
    {
      "cell_type": "code",
      "metadata": {
        "id": "bMhNqDblpGNF",
        "outputId": "72cb44c6-ecac-472d-f487-f813f3a34230",
        "colab": {
          "base_uri": "https://localhost:8080/",
          "height": 35
        }
      },
      "source": [
        "#Time taken to train\n",
        "print(\"Time taken to train the NN:\",end_train - start_train,\" seconds\")"
      ],
      "execution_count": 13,
      "outputs": [
        {
          "output_type": "stream",
          "text": [
            "Time taken to train the NN: 29.516706705093384  seconds\n"
          ],
          "name": "stdout"
        }
      ]
    },
    {
      "cell_type": "markdown",
      "metadata": {
        "id": "qbx2RIECEjz5"
      },
      "source": [
        "Plot the loss and accuracy history graphs"
      ]
    },
    {
      "cell_type": "code",
      "metadata": {
        "id": "Q-kyFEc_CxDn",
        "outputId": "5a07688e-c6de-46f6-af07-73805a23c5cf",
        "colab": {
          "base_uri": "https://localhost:8080/",
          "height": 368
        }
      },
      "source": [
        "history_dict = history.history\n",
        "print(history_dict.keys())\n",
        "\n",
        "acc = history_dict['accuracy']\n",
        "val_acc = history_dict['val_accuracy']\n",
        "loss = history_dict['loss']\n",
        "val_loss = history_dict['val_loss']\n",
        "\n",
        "epochs = range(1, len(acc) + 1)\n",
        "\n",
        "fix,ax = plt.subplots(1,2, figsize=(15,5))\n",
        "ax1 = ax[0] # to plot Training Loss\n",
        "ax2 = ax[1] # to plot Training Accuracy\n",
        "ax1.plot(epochs, loss, label='Training loss')\n",
        "ax1.plot(epochs, val_loss,  label='Validation loss')\n",
        "ax1.set_title('Training and validation loss')\n",
        "ax1.set_xlabel('Epochs')\n",
        "ax1.set_ylabel('Loss')\n",
        "ax1.legend()\n",
        "\n",
        "ax2.plot(epochs, acc, label='Training acc')\n",
        "ax2.plot(epochs, val_acc,  label='Validation acc')\n",
        "ax2.set_title('Training and validation accuracy')\n",
        "ax2.set_xlabel('Epochs')\n",
        "ax2.set_ylabel('Accuracy')\n",
        "ax2.legend()\n",
        "\n",
        "plt.show()"
      ],
      "execution_count": 14,
      "outputs": [
        {
          "output_type": "stream",
          "text": [
            "dict_keys(['loss', 'accuracy', 'val_loss', 'val_accuracy'])\n"
          ],
          "name": "stdout"
        },
        {
          "output_type": "display_data",
          "data": {
            "image/png": "[encoded data removed]",
            "text/plain": [
              "<Figure size 1080x360 with 2 Axes>"
            ]
          },
          "metadata": {
            "tags": [],
            "needs_background": "light"
          }
        }
      ]
    },
    {
      "cell_type": "markdown",
      "metadata": {
        "id": "vxY89a0BE663"
      },
      "source": [
        "## Model Evaluation "
      ]
    },
    {
      "cell_type": "markdown",
      "metadata": {
        "id": "fBbD3v6gFRM5"
      },
      "source": [
        "Print the final test/validation loss and accuracy"
      ]
    },
    {
      "cell_type": "code",
      "metadata": {
        "id": "zNZbNg94FRzJ",
        "outputId": "00cdc0ff-6524-423a-8b25-49fb20d22448",
        "colab": {
          "base_uri": "https://localhost:8080/",
          "height": 72
        }
      },
      "source": [
        "results = model.evaluate(X_test, y_test_enc)\n",
        "\n",
        "print(\"Test Loss:\",results[0])\n",
        "print(\"Test Accuracy:\",results[1])"
      ],
      "execution_count": 15,
      "outputs": [
        {
          "output_type": "stream",
          "text": [
            "313/313 [==============================] - 1s 2ms/step - loss: 0.6983 - accuracy: 0.8933\n",
            "Test Loss: 0.6983066201210022\n",
            "Test Accuracy: 0.8932999968528748\n"
          ],
          "name": "stdout"
        }
      ]
    },
    {
      "cell_type": "code",
      "metadata": {
        "id": "bkWD3uxaF03a",
        "outputId": "1a17add7-3c5d-4b8c-d756-8b09ef676978",
        "colab": {
          "base_uri": "https://localhost:8080/",
          "height": 92
        }
      },
      "source": [
        "#Predictions\n",
        "y_pred = model.predict_classes(X_test)"
      ],
      "execution_count": 16,
      "outputs": [
        {
          "output_type": "stream",
          "text": [
            "WARNING:tensorflow:From <ipython-input-16-105f502b23c1>:2: Sequential.predict_classes (from tensorflow.python.keras.engine.sequential) is deprecated and will be removed after 2021-01-01.\n",
            "Instructions for updating:\n",
            "Please use instead:* `np.argmax(model.predict(x), axis=-1)`,   if your model does multi-class classification   (e.g. if it uses a `softmax` last-layer activation).* `(model.predict(x) > 0.5).astype(\"int32\")`,   if your model does binary classification   (e.g. if it uses a `sigmoid` last-layer activation).\n"
          ],
          "name": "stdout"
        }
      ]
    },
    {
      "cell_type": "markdown",
      "metadata": {
        "id": "5mc06YIYF6Uo"
      },
      "source": [
        "Confusion Matrix"
      ]
    },
    {
      "cell_type": "code",
      "metadata": {
        "id": "eUkqDHoCsyVZ",
        "outputId": "f01e0c37-6b0d-40fb-bcec-f1ddd989e951",
        "colab": {
          "base_uri": "https://localhost:8080/",
          "height": 235
        }
      },
      "source": [
        "df = pd.DataFrame({'y_test':y_test,'y_pred':y_pred})\n",
        "df.head()\n",
        "confusion_matrix = pd.crosstab(df['y_test'], df['y_pred'], rownames=['Actual'], colnames=['Predicted'])\n",
        "print(confusion_matrix)"
      ],
      "execution_count": 17,
      "outputs": [
        {
          "output_type": "stream",
          "text": [
            "Predicted    0    1    2    3    4    5    6    7    8    9\n",
            "Actual                                                     \n",
            "0          831    2   21   19    3    0  118    0    6    0\n",
            "1            4  981    2   11    0    0    1    0    1    0\n",
            "2           22    1  814   11   87    0   64    0    1    0\n",
            "3           22    5   11  894   40    1   22    0    5    0\n",
            "4            2    1   71   25  835    0   64    0    2    0\n",
            "5            1    0    0    1    0  965    0   19    1   13\n",
            "6           90    2   80   36   69    0  717    0    6    0\n",
            "7            0    0    0    0    0    8    0  972    0   20\n",
            "8            4    0    3    2    5    2   12    4  968    0\n",
            "9            0    0    0    1    0    7    1   35    0  956\n"
          ],
          "name": "stdout"
        }
      ]
    },
    {
      "cell_type": "code",
      "metadata": {
        "id": "Yu0qeS1eF7DY",
        "outputId": "3683f4cc-6ba2-4f1e-821f-5e29bfd649d4",
        "colab": {
          "base_uri": "https://localhost:8080/",
          "height": 504
        }
      },
      "source": [
        "y_pred_cls = [class_names[v] for v in y_pred]\n",
        "y_test_cls= [class_names[v] for v in y_test]\n",
        "\n",
        "df = pd.DataFrame({'y_test':y_test_cls,'y_pred':y_pred_cls})\n",
        "df.head()\n",
        "confusion_matrix = pd.crosstab(df['y_test'], df['y_pred'], rownames=['Actual'], colnames=['Predicted'])\n",
        "# print(confusion_matrix)\n",
        "fig, ax = plt.subplots(figsize=(7,7))     \n",
        "sns.heatmap(confusion_matrix,annot=True,cmap='BuPu',fmt='d',ax=ax)"
      ],
      "execution_count": 18,
      "outputs": [
        {
          "output_type": "execute_result",
          "data": {
            "text/plain": [
              "<matplotlib.axes._subplots.AxesSubplot at 0x7fa84011c8d0>"
            ]
          },
          "metadata": {
            "tags": []
          },
          "execution_count": 18
        },
        {
          "output_type": "display_data",
          "data": {
            "image/png": "[encoded data removed]",
            "text/plain": [
              "<Figure size 504x504 with 2 Axes>"
            ]
          },
          "metadata": {
            "tags": [],
            "needs_background": "light"
          }
        }
      ]
    },
    {
      "cell_type": "markdown",
      "metadata": {
        "id": "5mWABB6OHdh6"
      },
      "source": [
        "Classification Report"
      ]
    },
    {
      "cell_type": "code",
      "metadata": {
        "id": "mgw9QBV-GDQY",
        "outputId": "de55f47a-9010-4bad-d976-661bd04dc896",
        "colab": {
          "base_uri": "https://localhost:8080/",
          "height": 326
        }
      },
      "source": [
        "print(classification_report(y_test,y_pred))"
      ],
      "execution_count": 19,
      "outputs": [
        {
          "output_type": "stream",
          "text": [
            "              precision    recall  f1-score   support\n",
            "\n",
            "           0       0.85      0.83      0.84      1000\n",
            "           1       0.99      0.98      0.98      1000\n",
            "           2       0.81      0.81      0.81      1000\n",
            "           3       0.89      0.89      0.89      1000\n",
            "           4       0.80      0.83      0.82      1000\n",
            "           5       0.98      0.96      0.97      1000\n",
            "           6       0.72      0.72      0.72      1000\n",
            "           7       0.94      0.97      0.96      1000\n",
            "           8       0.98      0.97      0.97      1000\n",
            "           9       0.97      0.96      0.96      1000\n",
            "\n",
            "    accuracy                           0.89     10000\n",
            "   macro avg       0.89      0.89      0.89     10000\n",
            "weighted avg       0.89      0.89      0.89     10000\n",
            "\n"
          ],
          "name": "stdout"
        }
      ]
    },
    {
      "cell_type": "markdown",
      "metadata": {
        "id": "q2HKlGjW4b4_"
      },
      "source": [
        "Class 1,6,5,7,8,9"
      ]
    },
    {
      "cell_type": "code",
      "metadata": {
        "id": "-TujcRtB441Z",
        "outputId": "f9510faf-a810-40f9-8252-a67ba5f67c04",
        "colab": {
          "base_uri": "https://localhost:8080/",
          "height": 126
        }
      },
      "source": [
        "[(i,c) for i,c in enumerate(class_names) if i in [1,6,5,7,8,9]]"
      ],
      "execution_count": 20,
      "outputs": [
        {
          "output_type": "execute_result",
          "data": {
            "text/plain": [
              "[(1, 'Trouser'),\n",
              " (5, 'Sandal'),\n",
              " (6, 'Shirt'),\n",
              " (7, 'Sneaker'),\n",
              " (8, 'Bag'),\n",
              " (9, 'Ankle boot')]"
            ]
          },
          "metadata": {
            "tags": []
          },
          "execution_count": 20
        }
      ]
    },
    {
      "cell_type": "markdown",
      "metadata": {
        "id": "vC_eM6wa4PPe"
      },
      "source": [
        "**Write a summary for the best and worst performing class and the overall trend.**<br>\n",
        "Classes Trouser, Sandal, Sneaker, Bag and Ankle Boot are best performing classes compared to others from confusion matrix as well as from F1- Score, however some of it are performming better in this model, the worst one is Shirt because the T-Shirt and Shirt has lot of resemblance<br>\n",
        "**With respect to trend**<br>\n",
        "Even though the training loss is converging and training accuracy is increasing however validation accuracy attained its peak way before training in the epochs and saturated whereas validation loss suddenly surged as epochs increased"
      ]
    },
    {
      "cell_type": "code",
      "metadata": {
        "id": "61sXBZV-F3D_"
      },
      "source": [
        ""
      ],
      "execution_count": 20,
      "outputs": []
    },
    {
      "cell_type": "code",
      "metadata": {
        "id": "nlH_qGNPFMPu"
      },
      "source": [
        ""
      ],
      "execution_count": 20,
      "outputs": []
    }
  ]
}