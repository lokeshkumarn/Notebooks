{
  "nbformat": 4,
  "nbformat_minor": 0,
  "metadata": {
    "kernelspec": {
      "display_name": "Python 3",
      "language": "python",
      "name": "python3"
    },
    "language_info": {
      "codemirror_mode": {
        "name": "ipython",
        "version": 3
      },
      "file_extension": ".py",
      "mimetype": "text/x-python",
      "name": "python",
      "nbconvert_exporter": "python",
      "pygments_lexer": "ipython3",
      "version": "3.7.3"
    },
    "colab": {
      "name": "2B_Deep_Neural_Network_with_Dropout.ipynb",
      "provenance": [],
      "include_colab_link": true
    }
  },
  "cells": [
    {
      "cell_type": "markdown",
      "metadata": {
        "id": "view-in-github",
        "colab_type": "text"
      },
      "source": [
        "<a href=\"https://colab.research.google.com/github/lokeshkumarn/Notebooks/blob/master/2B_Deep_Neural_Network_with_Dropout.ipynb\" target=\"_parent\"><img src=\"https://colab.research.google.com/assets/colab-badge.svg\" alt=\"Open In Colab\"/></a>"
      ]
    },
    {
      "cell_type": "markdown",
      "metadata": {
        "id": "i0i2su9JILsf"
      },
      "source": [
        "# Deep Neural Network with Dropout using Keras"
      ]
    },
    {
      "cell_type": "code",
      "metadata": {
        "id": "nM_CuNK7ILsi"
      },
      "source": [
        "import tensorflow as tf\n",
        "\n",
        "from tensorflow.keras import models\n",
        "from tensorflow.keras import layers\n",
        "\n",
        "\n",
        "import random\n",
        "import numpy as np"
      ],
      "execution_count": null,
      "outputs": []
    },
    {
      "cell_type": "code",
      "metadata": {
        "id": "_GQoh8QAILst"
      },
      "source": [
        "random.seed(42)         # Initialize the random number generator.\n",
        "np.random.seed(42)      # With the seed reset, the same set of numbers will appear every time. \n",
        "tf.random.set_seed(42)  # sets the graph-level random seed"
      ],
      "execution_count": null,
      "outputs": []
    },
    {
      "cell_type": "markdown",
      "metadata": {
        "id": "nBvV9nc0ILs-"
      },
      "source": [
        "## Dataset"
      ]
    },
    {
      "cell_type": "code",
      "metadata": {
        "id": "0PNnHnn5ILtA",
        "outputId": "0a09afb8-c46a-4286-b64d-4b09392b34c3",
        "colab": {
          "base_uri": "https://localhost:8080/",
          "height": 54
        }
      },
      "source": [
        "# Use the MNIST dataset  of Keras.\n",
        "\n",
        "mnist = tf.keras.datasets.mnist\n",
        "\n",
        "(Xtrain, Ytrain) , (Xtest, Ytest) = mnist.load_data()"
      ],
      "execution_count": null,
      "outputs": [
        {
          "output_type": "stream",
          "text": [
            "Downloading data from https://storage.googleapis.com/tensorflow/tf-keras-datasets/mnist.npz\n",
            "11493376/11490434 [==============================] - 0s 0us/step\n"
          ],
          "name": "stdout"
        }
      ]
    },
    {
      "cell_type": "code",
      "metadata": {
        "id": "_nqMRiqXILtI"
      },
      "source": [
        "# Normalize the data\n",
        "# 60000 input images are in the train set.\n",
        "# 10000 input images are in the test set.\n",
        "\n",
        "Xtrain = Xtrain.reshape((60000, 28*28))    # reshape the input set to size 28*28. \n",
        "Xtrain = Xtrain.astype('float32')/255      # normalize to grayscale; set datatype as float32\n",
        "\n",
        "Xtest = Xtest.reshape((10000, 28*28))      # reshape the input set to size 28*28. \n",
        "Xtest = Xtest.astype('float32')/255        # normalize to grayscale; set datatype as float32\n",
        "\n",
        "Ytrain = tf.keras.utils.to_categorical(Ytrain)\n",
        "Ytest = tf.keras.utils.to_categorical(Ytest)"
      ],
      "execution_count": null,
      "outputs": []
    },
    {
      "cell_type": "markdown",
      "metadata": {
        "id": "jsHpxeuLILtP"
      },
      "source": [
        "## DNN Model"
      ]
    },
    {
      "cell_type": "markdown",
      "metadata": {
        "id": "U9ciFn0MILtR"
      },
      "source": [
        "Using Keras, create the DNN or Sequential Model"
      ]
    },
    {
      "cell_type": "code",
      "metadata": {
        "id": "oLUHmzwnILtS"
      },
      "source": [
        "# Create a model object\n",
        "\n",
        "dnnModel = models.Sequential()"
      ],
      "execution_count": null,
      "outputs": []
    },
    {
      "cell_type": "markdown",
      "metadata": {
        "id": "bhvEf38HILtb"
      },
      "source": [
        "Add dense layers, specifying the number of units in each layer and the activation function used in the layer."
      ]
    },
    {
      "cell_type": "code",
      "metadata": {
        "id": "_jvTliDhILtd",
        "outputId": "d8278f86-cdd7-4a1e-8953-4fb2a6ff2404",
        "colab": {
          "base_uri": "https://localhost:8080/",
          "height": 391
        }
      },
      "source": [
        "# Layer 1 = input layer\n",
        "# specify the input size for in the first layer.\n",
        "\n",
        "dnnModel.add(layers.Dense(50, activation='relu', input_shape= (28*28,)))\n",
        "\n",
        "\n",
        "# Layer 2 = hidden layer \n",
        "dnnModel.add(layers.Dense(60, activation='relu'))\n",
        "\n",
        "# Add dropout of 50% to layer 2\n",
        "dnnModel.add(layers.Dropout(0.5))\n",
        "\n",
        "# Layer 3 = hidden layer \n",
        "dnnModel.add(layers.Dense(30, activation='relu'))\n",
        "\n",
        "# Add dropout of 50% to layer 3\n",
        "dnnModel.add(layers.Dropout(0.5))\n",
        "\n",
        "# Layer 4 = output layer\n",
        "dnnModel.add(layers.Dense(10, activation='softmax'))\n",
        "\n",
        "dnnModel.summary()\n",
        "\n"
      ],
      "execution_count": null,
      "outputs": [
        {
          "output_type": "stream",
          "text": [
            "Model: \"sequential\"\n",
            "_________________________________________________________________\n",
            "Layer (type)                 Output Shape              Param #   \n",
            "=================================================================\n",
            "dense (Dense)                (None, 50)                39250     \n",
            "_________________________________________________________________\n",
            "dense_1 (Dense)              (None, 60)                3060      \n",
            "_________________________________________________________________\n",
            "dropout (Dropout)            (None, 60)                0         \n",
            "_________________________________________________________________\n",
            "dense_2 (Dense)              (None, 30)                1830      \n",
            "_________________________________________________________________\n",
            "dropout_1 (Dropout)          (None, 30)                0         \n",
            "_________________________________________________________________\n",
            "dense_3 (Dense)              (None, 10)                310       \n",
            "=================================================================\n",
            "Total params: 44,450\n",
            "Trainable params: 44,450\n",
            "Non-trainable params: 0\n",
            "_________________________________________________________________\n"
          ],
          "name": "stdout"
        }
      ]
    },
    {
      "cell_type": "markdown",
      "metadata": {
        "id": "UOvLu0HqILtl"
      },
      "source": [
        "## Regularization and Optimizations of DNN"
      ]
    },
    {
      "cell_type": "code",
      "metadata": {
        "id": "XF-ZGhliILtn"
      },
      "source": [
        "# Configure  the model for training, by using appropriate optimizers and regularizations\n",
        "# Available optimizer: adam, rmsprop, adagrad, sgd\n",
        "# loss:  objective that the model will try to minimize. \n",
        "# Available loss: categorical_crossentropy, binary_crossentropy, mean_squared_error\n",
        "# metrics: List of metrics to be evaluated by the model during training and testing. \n",
        "        \n",
        "dnnModel.compile( optimizer = 'adam', loss = 'categorical_crossentropy', metrics=['accuracy'] )"
      ],
      "execution_count": null,
      "outputs": []
    },
    {
      "cell_type": "markdown",
      "metadata": {
        "id": "351-RHIkILtr"
      },
      "source": [
        "## Train the Model"
      ]
    },
    {
      "cell_type": "code",
      "metadata": {
        "id": "o-iIsMhNILts",
        "outputId": "aa71c61f-572e-4806-c017-805b62e0bec3",
        "colab": {
          "base_uri": "https://localhost:8080/",
          "height": 952
        }
      },
      "source": [
        "# train the model\n",
        "\n",
        "h = dnnModel.fit( Xtrain, Ytrain, validation_split=0.2, epochs=25, batch_size=64)"
      ],
      "execution_count": null,
      "outputs": [
        {
          "output_type": "stream",
          "text": [
            "Epoch 1/25\n",
            "750/750 [==============================] - 2s 2ms/step - loss: 0.9649 - accuracy: 0.6892 - val_loss: 0.2489 - val_accuracy: 0.9319\n",
            "Epoch 2/25\n",
            "750/750 [==============================] - 2s 2ms/step - loss: 0.4748 - accuracy: 0.8666 - val_loss: 0.2028 - val_accuracy: 0.9451\n",
            "Epoch 3/25\n",
            "750/750 [==============================] - 1s 2ms/step - loss: 0.3667 - accuracy: 0.9003 - val_loss: 0.1717 - val_accuracy: 0.9526\n",
            "Epoch 4/25\n",
            "750/750 [==============================] - 1s 2ms/step - loss: 0.3110 - accuracy: 0.9160 - val_loss: 0.1592 - val_accuracy: 0.9571\n",
            "Epoch 5/25\n",
            "750/750 [==============================] - 1s 2ms/step - loss: 0.2769 - accuracy: 0.9260 - val_loss: 0.1470 - val_accuracy: 0.9628\n",
            "Epoch 6/25\n",
            "750/750 [==============================] - 1s 2ms/step - loss: 0.2457 - accuracy: 0.9329 - val_loss: 0.1437 - val_accuracy: 0.9650\n",
            "Epoch 7/25\n",
            "750/750 [==============================] - 1s 2ms/step - loss: 0.2338 - accuracy: 0.9348 - val_loss: 0.1448 - val_accuracy: 0.9643\n",
            "Epoch 8/25\n",
            "750/750 [==============================] - 1s 2ms/step - loss: 0.2100 - accuracy: 0.9402 - val_loss: 0.1484 - val_accuracy: 0.9652\n",
            "Epoch 9/25\n",
            "750/750 [==============================] - 1s 2ms/step - loss: 0.2021 - accuracy: 0.9436 - val_loss: 0.1534 - val_accuracy: 0.9643\n",
            "Epoch 10/25\n",
            "750/750 [==============================] - 1s 2ms/step - loss: 0.1895 - accuracy: 0.9462 - val_loss: 0.1582 - val_accuracy: 0.9648\n",
            "Epoch 11/25\n",
            "750/750 [==============================] - 2s 2ms/step - loss: 0.1859 - accuracy: 0.9479 - val_loss: 0.1555 - val_accuracy: 0.9660\n",
            "Epoch 12/25\n",
            "750/750 [==============================] - 2s 2ms/step - loss: 0.1779 - accuracy: 0.9503 - val_loss: 0.1433 - val_accuracy: 0.9675\n",
            "Epoch 13/25\n",
            "750/750 [==============================] - 2s 2ms/step - loss: 0.1688 - accuracy: 0.9507 - val_loss: 0.1586 - val_accuracy: 0.9679\n",
            "Epoch 14/25\n",
            "750/750 [==============================] - 2s 2ms/step - loss: 0.1617 - accuracy: 0.9529 - val_loss: 0.1657 - val_accuracy: 0.9672\n",
            "Epoch 15/25\n",
            "750/750 [==============================] - 1s 2ms/step - loss: 0.1577 - accuracy: 0.9540 - val_loss: 0.1581 - val_accuracy: 0.9689\n",
            "Epoch 16/25\n",
            "750/750 [==============================] - 2s 2ms/step - loss: 0.1534 - accuracy: 0.9557 - val_loss: 0.1561 - val_accuracy: 0.9691\n",
            "Epoch 17/25\n",
            "750/750 [==============================] - 2s 2ms/step - loss: 0.1547 - accuracy: 0.9547 - val_loss: 0.1528 - val_accuracy: 0.9686\n",
            "Epoch 18/25\n",
            "750/750 [==============================] - 2s 2ms/step - loss: 0.1428 - accuracy: 0.9566 - val_loss: 0.1615 - val_accuracy: 0.9695\n",
            "Epoch 19/25\n",
            "750/750 [==============================] - 2s 2ms/step - loss: 0.1379 - accuracy: 0.9589 - val_loss: 0.1733 - val_accuracy: 0.9692\n",
            "Epoch 20/25\n",
            "750/750 [==============================] - 1s 2ms/step - loss: 0.1343 - accuracy: 0.9603 - val_loss: 0.1861 - val_accuracy: 0.9680\n",
            "Epoch 21/25\n",
            "750/750 [==============================] - 2s 2ms/step - loss: 0.1329 - accuracy: 0.9604 - val_loss: 0.1772 - val_accuracy: 0.9688\n",
            "Epoch 22/25\n",
            "750/750 [==============================] - 1s 2ms/step - loss: 0.1318 - accuracy: 0.9608 - val_loss: 0.1827 - val_accuracy: 0.9710\n",
            "Epoch 23/25\n",
            "750/750 [==============================] - 2s 2ms/step - loss: 0.1317 - accuracy: 0.9602 - val_loss: 0.1885 - val_accuracy: 0.9685\n",
            "Epoch 24/25\n",
            "750/750 [==============================] - 1s 2ms/step - loss: 0.1245 - accuracy: 0.9615 - val_loss: 0.1859 - val_accuracy: 0.9693\n",
            "Epoch 25/25\n",
            "750/750 [==============================] - 2s 2ms/step - loss: 0.1235 - accuracy: 0.9629 - val_loss: 0.1796 - val_accuracy: 0.9698\n"
          ],
          "name": "stdout"
        }
      ]
    },
    {
      "cell_type": "code",
      "metadata": {
        "id": "6WtttUp5ILtz",
        "outputId": "9c09d5de-1359-4e14-f727-82636221c3a9",
        "colab": {
          "base_uri": "https://localhost:8080/",
          "height": 54
        }
      },
      "source": [
        "print('Final training loss \\t', h.history['loss'][-1])\n",
        "print('Final training accuracy ', h.history['accuracy'][-1])"
      ],
      "execution_count": null,
      "outputs": [
        {
          "output_type": "stream",
          "text": [
            "Final training loss \t 0.1234714463353157\n",
            "Final training accuracy  0.9628750085830688\n"
          ],
          "name": "stdout"
        }
      ]
    },
    {
      "cell_type": "code",
      "metadata": {
        "id": "M6tOO6BGILt5",
        "outputId": "0266c166-cc76-412d-83d1-d99caa87fcdb",
        "colab": {
          "base_uri": "https://localhost:8080/",
          "height": 295
        }
      },
      "source": [
        "# plot the training  accuracy  \n",
        "import matplotlib.pyplot as plt\n",
        "\n",
        "plt.plot(h.history['accuracy'], label='train')\n",
        "plt.plot(h.history['val_accuracy'], label='validation')\n",
        "plt.xlabel('Epochs')\n",
        "plt.ylabel('Loss')\n",
        "plt.title('Plot of Accuracy')\n",
        "plt.legend()\n",
        "plt.show()"
      ],
      "execution_count": null,
      "outputs": [
        {
          "output_type": "display_data",
          "data": {
            "image/png": "[encoded data removed]",
            "text/plain": [
              "<Figure size 432x288 with 1 Axes>"
            ]
          },
          "metadata": {
            "tags": [],
            "needs_background": "light"
          }
        }
      ]
    },
    {
      "cell_type": "code",
      "metadata": {
        "id": "58QL2tZYILuA",
        "outputId": "6a479e37-52fc-4bf7-962a-0bc45feb160c",
        "colab": {
          "base_uri": "https://localhost:8080/",
          "height": 295
        }
      },
      "source": [
        "# plot the traininig loss \n",
        "\n",
        "\n",
        "plt.plot(h.history['loss'], label='train')\n",
        "plt.plot(h.history['val_loss'], label='validation')\n",
        "plt.xlabel('Epochs')\n",
        "plt.ylabel('Loss')\n",
        "plt.title('Plot of Loss')\n",
        "plt.legend()\n",
        "plt.show()"
      ],
      "execution_count": null,
      "outputs": [
        {
          "output_type": "display_data",
          "data": {
            "image/png": "[encoded data removed]",
            "text/plain": [
              "<Figure size 432x288 with 1 Axes>"
            ]
          },
          "metadata": {
            "tags": [],
            "needs_background": "light"
          }
        }
      ]
    },
    {
      "cell_type": "markdown",
      "metadata": {
        "id": "ECE9JAPtILuI"
      },
      "source": [
        "## Testing the Model"
      ]
    },
    {
      "cell_type": "code",
      "metadata": {
        "id": "oPoeMlScILuK",
        "outputId": "bfa41fbd-3ee1-4754-88bd-d80c0744b92c",
        "colab": {
          "base_uri": "https://localhost:8080/",
          "height": 36
        }
      },
      "source": [
        "# testing the model\n",
        "\n",
        "testLoss, testAccuracy = dnnModel.evaluate( Xtest, Ytest)"
      ],
      "execution_count": null,
      "outputs": [
        {
          "output_type": "stream",
          "text": [
            "313/313 [==============================] - 0s 921us/step - loss: 0.1796 - accuracy: 0.9715\n"
          ],
          "name": "stdout"
        }
      ]
    },
    {
      "cell_type": "code",
      "metadata": {
        "id": "fUgJKwJJILuQ",
        "outputId": "7d0552a5-aeb2-43eb-a1f9-e20af70e1fba",
        "colab": {
          "base_uri": "https://localhost:8080/",
          "height": 54
        }
      },
      "source": [
        "print('Testing loss \\t', testLoss)\n",
        "print('Testing accuracy ', testAccuracy)"
      ],
      "execution_count": null,
      "outputs": [
        {
          "output_type": "stream",
          "text": [
            "Testing loss \t 0.17961254715919495\n",
            "Testing accuracy  0.9714999794960022\n"
          ],
          "name": "stdout"
        }
      ]
    },
    {
      "cell_type": "markdown",
      "metadata": {
        "id": "8SG2lVh4ILuX"
      },
      "source": [
        "Modify the code to get a better testing accuracy.\n",
        "- Change the number of hidden units\n",
        "- Increase the number of hidden layers\n",
        "- Use a different optimizer"
      ]
    }
  ]
}