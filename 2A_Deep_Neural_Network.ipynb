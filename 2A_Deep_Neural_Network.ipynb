{
  "nbformat": 4,
  "nbformat_minor": 0,
  "metadata": {
    "kernelspec": {
      "display_name": "Python 3",
      "language": "python",
      "name": "python3"
    },
    "language_info": {
      "codemirror_mode": {
        "name": "ipython",
        "version": 3
      },
      "file_extension": ".py",
      "mimetype": "text/x-python",
      "name": "python",
      "nbconvert_exporter": "python",
      "pygments_lexer": "ipython3",
      "version": "3.7.3"
    },
    "colab": {
      "name": "2A_Deep_Neural_Network.ipynb",
      "provenance": [],
      "collapsed_sections": [],
      "include_colab_link": true
    }
  },
  "cells": [
    {
      "cell_type": "markdown",
      "metadata": {
        "id": "view-in-github",
        "colab_type": "text"
      },
      "source": [
        "<a href=\"https://colab.research.google.com/github/lokeshkumarn/Notebooks/blob/master/2A_Deep_Neural_Network.ipynb\" target=\"_parent\"><img src=\"https://colab.research.google.com/assets/colab-badge.svg\" alt=\"Open In Colab\"/></a>"
      ]
    },
    {
      "cell_type": "markdown",
      "metadata": {
        "id": "K6LryClJIP7s"
      },
      "source": [
        "# Deep Neural Network using Keras"
      ]
    },
    {
      "cell_type": "code",
      "metadata": {
        "id": "mhJV32FlIP73"
      },
      "source": [
        "import tensorflow as tf\n",
        "\n",
        "from tensorflow.keras import models\n",
        "from tensorflow.keras import layers\n",
        "\n",
        "import random\n",
        "import numpy as np"
      ],
      "execution_count": null,
      "outputs": []
    },
    {
      "cell_type": "code",
      "metadata": {
        "id": "r58PX42WIP8U"
      },
      "source": [
        "random.seed(42)         # Initialize the random number generator.\n",
        "np.random.seed(42)      # With the seed reset, the same set of \n",
        "                        # numbers will appear every time. \n",
        "tf.random.set_seed(42)  # sets the graph-level random seed"
      ],
      "execution_count": null,
      "outputs": []
    },
    {
      "cell_type": "markdown",
      "metadata": {
        "id": "VADdGGHtIP8j"
      },
      "source": [
        "## Dataset"
      ]
    },
    {
      "cell_type": "code",
      "metadata": {
        "id": "_2I4muxNIP8k",
        "outputId": "ad55da59-f977-4bf8-e23e-1f426995b7f9",
        "colab": {
          "base_uri": "https://localhost:8080/",
          "height": 54
        }
      },
      "source": [
        "# Use the MNIST dataset  of Keras.\n",
        "\n",
        "mnist = tf.keras.datasets.mnist\n",
        "\n",
        "(Xtrain, Ytrain) , (Xtest, Ytest) = mnist.load_data()"
      ],
      "execution_count": null,
      "outputs": [
        {
          "output_type": "stream",
          "text": [
            "Downloading data from https://storage.googleapis.com/tensorflow/tf-keras-datasets/mnist.npz\n",
            "11493376/11490434 [==============================] - 0s 0us/step\n"
          ],
          "name": "stdout"
        }
      ]
    },
    {
      "cell_type": "code",
      "metadata": {
        "id": "Cjy-XrrtIP8u",
        "outputId": "7a6c0e5a-304c-4bbb-9b43-6400a47cc0c5",
        "colab": {
          "base_uri": "https://localhost:8080/",
          "height": 92
        }
      },
      "source": [
        "# size of the datsets\n",
        "\n",
        "print(Xtrain.shape)\n",
        "print(Xtest.shape)\n",
        "print(Ytrain.shape)\n",
        "print(Ytest.shape)"
      ],
      "execution_count": null,
      "outputs": [
        {
          "output_type": "stream",
          "text": [
            "(60000, 28, 28)\n",
            "(10000, 28, 28)\n",
            "(60000,)\n",
            "(10000,)\n"
          ],
          "name": "stdout"
        }
      ]
    },
    {
      "cell_type": "code",
      "metadata": {
        "id": "7L1l_nfZIP83",
        "outputId": "ceb167f9-a3fe-4ad7-9ac2-10a2d0feeb9b",
        "colab": {
          "base_uri": "https://localhost:8080/",
          "height": 204
        }
      },
      "source": [
        "# print a sample data\n",
        "\n",
        "print('Xtrain \\n', Xtrain[10,10])\n",
        "print('Xtest \\n', Xtest[10,10])\n",
        "print('Ytrain \\n', Ytrain[10,])\n",
        "print('Ytest \\n', Ytest[10,])"
      ],
      "execution_count": null,
      "outputs": [
        {
          "output_type": "stream",
          "text": [
            "Xtrain \n",
            " [  0   0   0   0   0   0   0   0   0   0   0   0   0  24 209 254 254 254\n",
            " 171   0   0   0   0   0   0   0   0   0]\n",
            "Xtest \n",
            " [  0   0   0   0   0   0   0   0 194 254 103   0   0   0   0   0   0   0\n",
            "   0   0 150 254 213   0   0   0   0   0]\n",
            "Ytrain \n",
            " 3\n",
            "Ytest \n",
            " 0\n"
          ],
          "name": "stdout"
        }
      ]
    },
    {
      "cell_type": "code",
      "metadata": {
        "id": "YVtoOHBBIP8_"
      },
      "source": [
        "# Normalize the data\n",
        "# 60000 input images are in the train set.\n",
        "# 10000 input images are in the test set.\n",
        "\n",
        "Xtrain = Xtrain.reshape((60000, 28*28))    # reshape the input set to size 28*28. VEctor of length 784\n",
        "Xtrain = Xtrain.astype('float32')/255      # normalize to grayscale; set datatype as float32\n",
        "\n",
        "Xtest = Xtest.reshape((10000, 28*28))      # reshape the input set to size 28*28. \n",
        "Xtest = Xtest.astype('float32')/255        # normalize to grayscale; set datatype as float32\n",
        "\n",
        "Ytrain = tf.keras.utils.to_categorical(Ytrain)\n",
        "Ytest = tf.keras.utils.to_categorical(Ytest)"
      ],
      "execution_count": null,
      "outputs": []
    },
    {
      "cell_type": "code",
      "metadata": {
        "id": "8zimNIJlIP9G",
        "outputId": "5d6912f1-43ff-4170-81df-ab10e3341a9f",
        "colab": {
          "base_uri": "https://localhost:8080/",
          "height": 167
        }
      },
      "source": [
        "# print a sample data\n",
        "\n",
        "print('Xtrain \\n', Xtrain[10,10])\n",
        "print('Xtest \\n', Xtest[10,10])\n",
        "print('Ytrain \\n', Ytrain[10,])\n",
        "print('Ytest \\n', Ytest[10,])"
      ],
      "execution_count": null,
      "outputs": [
        {
          "output_type": "stream",
          "text": [
            "Xtrain \n",
            " 0.0\n",
            "Xtest \n",
            " 0.0\n",
            "Ytrain \n",
            " [0. 0. 0. 1. 0. 0. 0. 0. 0. 0.]\n",
            "Ytest \n",
            " [1. 0. 0. 0. 0. 0. 0. 0. 0. 0.]\n"
          ],
          "name": "stdout"
        }
      ]
    },
    {
      "cell_type": "markdown",
      "metadata": {
        "id": "8N_kd_UjIP9N"
      },
      "source": [
        "## DNN Model"
      ]
    },
    {
      "cell_type": "markdown",
      "metadata": {
        "id": "LKoWFRwCIP9N"
      },
      "source": [
        "Using Keras, create the DNN or Sequential Model"
      ]
    },
    {
      "cell_type": "code",
      "metadata": {
        "id": "9YQZ9rwDIP9P"
      },
      "source": [
        "# Create a model object\n",
        "\n",
        "dnnModel = models.Sequential()"
      ],
      "execution_count": null,
      "outputs": []
    },
    {
      "cell_type": "markdown",
      "metadata": {
        "id": "vdVw-JFnIP9W"
      },
      "source": [
        "Add dense layers, specifying the number of units in each layer and the activation function used in the layer."
      ]
    },
    {
      "cell_type": "code",
      "metadata": {
        "id": "BDLNg0JoIP9W",
        "outputId": "07bf106d-0f03-4711-e552-53a56e3c1838",
        "colab": {
          "base_uri": "https://localhost:8080/",
          "height": 316
        }
      },
      "source": [
        "# Layer 1 = input layer\n",
        "# specify the input size in the first layer.\n",
        "\n",
        "dnnModel.add(layers.Dense(50, activation='relu', input_shape= (28*28,)))\n",
        "\n",
        "# Layer 2 = hidden layer \n",
        "dnnModel.add(layers.Dense(60, activation='relu'))\n",
        "\n",
        "# Layer 3 = hidden layer \n",
        "dnnModel.add(layers.Dense(30, activation='relu'))\n",
        "\n",
        "\n",
        "# Layer 4 = output layer\n",
        "dnnModel.add(layers.Dense(10, activation='softmax'))\n",
        "\n",
        "dnnModel.summary()"
      ],
      "execution_count": null,
      "outputs": [
        {
          "output_type": "stream",
          "text": [
            "Model: \"sequential\"\n",
            "_________________________________________________________________\n",
            "Layer (type)                 Output Shape              Param #   \n",
            "=================================================================\n",
            "dense (Dense)                (None, 50)                39250     \n",
            "_________________________________________________________________\n",
            "dense_1 (Dense)              (None, 60)                3060      \n",
            "_________________________________________________________________\n",
            "dense_2 (Dense)              (None, 30)                1830      \n",
            "_________________________________________________________________\n",
            "dense_3 (Dense)              (None, 10)                310       \n",
            "=================================================================\n",
            "Total params: 44,450\n",
            "Trainable params: 44,450\n",
            "Non-trainable params: 0\n",
            "_________________________________________________________________\n"
          ],
          "name": "stdout"
        }
      ]
    },
    {
      "cell_type": "markdown",
      "metadata": {
        "id": "28IYxqFrIP9e"
      },
      "source": [
        "## Regularization and Optimizations of DNN"
      ]
    },
    {
      "cell_type": "code",
      "metadata": {
        "id": "BCP1FDGcIP9f"
      },
      "source": [
        "# Configure  the model for training, by using appropriate optimizers and regularizations\n",
        "# Available optimizer: adam, rmsprop, adagrad, sgd\n",
        "# loss:  objective that the model will try to minimize. \n",
        "# Available loss: categorical_crossentropy, binary_crossentropy, mean_squared_error\n",
        "# metrics: List of metrics to be evaluated by the model during training and testing. \n",
        "        \n",
        "dnnModel.compile( optimizer = 'adam', loss = 'categorical_crossentropy', metrics=['accuracy'] )"
      ],
      "execution_count": null,
      "outputs": []
    },
    {
      "cell_type": "markdown",
      "metadata": {
        "id": "ZUzQWRg7IP9m"
      },
      "source": [
        "## Train the Model"
      ]
    },
    {
      "cell_type": "code",
      "metadata": {
        "id": "08bomXmVIP9m",
        "outputId": "f6db60e7-d480-48e3-ec98-6c74baa11457",
        "colab": {
          "base_uri": "https://localhost:8080/",
          "height": 952
        }
      },
      "source": [
        "# train the model\n",
        "\n",
        "h  = dnnModel.fit( Xtrain, Ytrain, epochs=25, batch_size=64)"
      ],
      "execution_count": null,
      "outputs": [
        {
          "output_type": "stream",
          "text": [
            "Epoch 1/25\n",
            "938/938 [==============================] - 2s 2ms/step - loss: 0.3421 - accuracy: 0.8985\n",
            "Epoch 2/25\n",
            "938/938 [==============================] - 2s 2ms/step - loss: 0.1482 - accuracy: 0.9563\n",
            "Epoch 3/25\n",
            "938/938 [==============================] - 2s 2ms/step - loss: 0.1116 - accuracy: 0.9666\n",
            "Epoch 4/25\n",
            "938/938 [==============================] - 2s 2ms/step - loss: 0.0905 - accuracy: 0.9718\n",
            "Epoch 5/25\n",
            "938/938 [==============================] - 2s 2ms/step - loss: 0.0767 - accuracy: 0.9762\n",
            "Epoch 6/25\n",
            "938/938 [==============================] - 2s 2ms/step - loss: 0.0666 - accuracy: 0.9791\n",
            "Epoch 7/25\n",
            "938/938 [==============================] - 2s 2ms/step - loss: 0.0562 - accuracy: 0.9823\n",
            "Epoch 8/25\n",
            "938/938 [==============================] - 2s 2ms/step - loss: 0.0498 - accuracy: 0.9848\n",
            "Epoch 9/25\n",
            "938/938 [==============================] - 2s 2ms/step - loss: 0.0432 - accuracy: 0.9863\n",
            "Epoch 10/25\n",
            "938/938 [==============================] - 2s 2ms/step - loss: 0.0386 - accuracy: 0.9876\n",
            "Epoch 11/25\n",
            "938/938 [==============================] - 2s 2ms/step - loss: 0.0354 - accuracy: 0.9887\n",
            "Epoch 12/25\n",
            "938/938 [==============================] - 2s 2ms/step - loss: 0.0308 - accuracy: 0.9898\n",
            "Epoch 13/25\n",
            "938/938 [==============================] - 2s 2ms/step - loss: 0.0278 - accuracy: 0.9907\n",
            "Epoch 14/25\n",
            "938/938 [==============================] - 2s 2ms/step - loss: 0.0270 - accuracy: 0.9911\n",
            "Epoch 15/25\n",
            "938/938 [==============================] - 2s 2ms/step - loss: 0.0235 - accuracy: 0.9918\n",
            "Epoch 16/25\n",
            "938/938 [==============================] - 2s 2ms/step - loss: 0.0237 - accuracy: 0.9922\n",
            "Epoch 17/25\n",
            "938/938 [==============================] - 2s 2ms/step - loss: 0.0179 - accuracy: 0.9941\n",
            "Epoch 18/25\n",
            "938/938 [==============================] - 2s 2ms/step - loss: 0.0211 - accuracy: 0.9931\n",
            "Epoch 19/25\n",
            "938/938 [==============================] - 2s 2ms/step - loss: 0.0181 - accuracy: 0.9940\n",
            "Epoch 20/25\n",
            "938/938 [==============================] - 2s 2ms/step - loss: 0.0156 - accuracy: 0.9947\n",
            "Epoch 21/25\n",
            "938/938 [==============================] - 2s 2ms/step - loss: 0.0163 - accuracy: 0.9946\n",
            "Epoch 22/25\n",
            "938/938 [==============================] - 2s 2ms/step - loss: 0.0159 - accuracy: 0.9948\n",
            "Epoch 23/25\n",
            "938/938 [==============================] - 2s 2ms/step - loss: 0.0171 - accuracy: 0.9944\n",
            "Epoch 24/25\n",
            "938/938 [==============================] - 2s 2ms/step - loss: 0.0145 - accuracy: 0.9951\n",
            "Epoch 25/25\n",
            "938/938 [==============================] - 2s 2ms/step - loss: 0.0115 - accuracy: 0.9960\n"
          ],
          "name": "stdout"
        }
      ]
    },
    {
      "cell_type": "code",
      "metadata": {
        "id": "UQWxcD0cIP9v",
        "outputId": "7d71839b-e563-4e0d-fa5b-a72a7517d5fc",
        "colab": {
          "base_uri": "https://localhost:8080/",
          "height": 54
        }
      },
      "source": [
        "print('Final training loss \\t', h.history['loss'][-1])\n",
        "print('Final training accuracy ', h.history['accuracy'][-1])"
      ],
      "execution_count": null,
      "outputs": [
        {
          "output_type": "stream",
          "text": [
            "Final training loss \t 0.011464651674032211\n",
            "Final training accuracy  0.9960166811943054\n"
          ],
          "name": "stdout"
        }
      ]
    },
    {
      "cell_type": "markdown",
      "metadata": {
        "id": "8MVmi3UHIP91"
      },
      "source": [
        "## Testing the Model"
      ]
    },
    {
      "cell_type": "code",
      "metadata": {
        "id": "GATeGSFdIP92",
        "outputId": "378b53d6-99f0-4a25-d8d0-e7473745d3a6",
        "colab": {
          "base_uri": "https://localhost:8080/",
          "height": 36
        }
      },
      "source": [
        "# testing the model\n",
        "\n",
        "testLoss, testAccuracy = dnnModel.evaluate( Xtest, Ytest)"
      ],
      "execution_count": null,
      "outputs": [
        {
          "output_type": "stream",
          "text": [
            "313/313 [==============================] - 0s 1ms/step - loss: 0.1314 - accuracy: 0.9742\n"
          ],
          "name": "stdout"
        }
      ]
    },
    {
      "cell_type": "code",
      "metadata": {
        "id": "YBXNTA_cIP99",
        "outputId": "be5a1e77-91c8-413c-ccfa-a34db380a970",
        "colab": {
          "base_uri": "https://localhost:8080/",
          "height": 54
        }
      },
      "source": [
        "print('Testing loss \\t', testLoss)\n",
        "print('Testing accuracy ', testAccuracy)"
      ],
      "execution_count": null,
      "outputs": [
        {
          "output_type": "stream",
          "text": [
            "Testing loss \t 0.13141518831253052\n",
            "Testing accuracy  0.9742000102996826\n"
          ],
          "name": "stdout"
        }
      ]
    },
    {
      "cell_type": "markdown",
      "metadata": {
        "id": "tOoG9gbsIP-G"
      },
      "source": [
        "# Exercise \n",
        "\n",
        "Modify the code to get a better testing accuracy.\n",
        "- Change the number of hidden units\n",
        "- Increase the number of hidden layers\n",
        "- Use a different optimizer"
      ]
    }
  ]
}