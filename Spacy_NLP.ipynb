{
  "nbformat": 4,
  "nbformat_minor": 0,
  "metadata": {
    "colab": {
      "name": "Spacy_NLP.ipynb",
      "provenance": [],
      "collapsed_sections": [],
      "authorship_tag": "ABX9TyNi6SZKqzDImPDIn5t0VVIA",
      "include_colab_link": true
    },
    "kernelspec": {
      "name": "python3",
      "display_name": "Python 3"
    }
  },
  "cells": [
    {
      "cell_type": "markdown",
      "metadata": {
        "id": "view-in-github",
        "colab_type": "text"
      },
      "source": [
        "<a href=\"https://colab.research.google.com/github/lokeshkumarn/Notebooks/blob/master/Spacy_NLP.ipynb\" target=\"_parent\"><img src=\"https://colab.research.google.com/assets/colab-badge.svg\" alt=\"Open In Colab\"/></a>"
      ]
    },
    {
      "cell_type": "code",
      "metadata": {
        "id": "sHNYP-8_nA6E",
        "colab_type": "code",
        "colab": {}
      },
      "source": [
        "import spacy\n",
        "from spacy.lang.en.stop_words import STOP_WORDS"
      ],
      "execution_count": 0,
      "outputs": []
    },
    {
      "cell_type": "code",
      "metadata": {
        "id": "WJK7G62Bpmx_",
        "colab_type": "code",
        "colab": {}
      },
      "source": [
        "nlp = spacy.load(\"en_core_web_sm\")"
      ],
      "execution_count": 0,
      "outputs": []
    },
    {
      "cell_type": "code",
      "metadata": {
        "id": "H9pHTXrJqLQ8",
        "colab_type": "code",
        "colab": {}
      },
      "source": [
        "txt = 'Apple is asking its manufacturers to move MacBook Air production to the United States'\n",
        "doc = nlp(txt)"
      ],
      "execution_count": 0,
      "outputs": []
    },
    {
      "cell_type": "code",
      "metadata": {
        "id": "01-8X-b2x21X",
        "colab_type": "code",
        "colab": {}
      },
      "source": [
        "#https://spacy.io/api/token\n",
        "def preprocess(txt):\n",
        "  tokens = []\n",
        "  doc = nlp(txt.lower())\n",
        "\n",
        "  for ent in doc.ents:\n",
        "    #print('_'.join(ent.text.split(' ')), txt[ent.start_char:ent.end_char] , ent.label_)\n",
        "    txt = txt.replace(txt[ent.start_char:ent.end_char],'_'.join(ent.text.split(' ')))\n",
        "\n",
        "  for token in doc:\n",
        "    if token.is_stop == False or token.pos_ == 'VERB':\n",
        "      #print(token.text, token.lemma_,token.pos_)\n",
        "      tokens.append(token.lemma_)  \n",
        "\n",
        "  return ' '.join(tokens)    "
      ],
      "execution_count": 0,
      "outputs": []
    },
    {
      "cell_type": "code",
      "metadata": {
        "id": "G6wv2kMv-rVM",
        "colab_type": "code",
        "colab": {
          "base_uri": "https://localhost:8080/",
          "height": 34
        },
        "outputId": "1dcec785-917a-4aef-caa9-7e3b8f0f6b39"
      },
      "source": [
        "txt = preprocess(txt)\n",
        "txt"
      ],
      "execution_count": 64,
      "outputs": [
        {
          "output_type": "execute_result",
          "data": {
            "text/plain": [
              "'apple be ask manufacturer macbook_air production the_united_states'"
            ]
          },
          "metadata": {
            "tags": []
          },
          "execution_count": 64
        }
      ]
    },
    {
      "cell_type": "code",
      "metadata": {
        "id": "d1Fy_ktd8pJ0",
        "colab_type": "code",
        "colab": {
          "base_uri": "https://localhost:8080/",
          "height": 168
        },
        "outputId": "8bab9f8f-8d14-400e-b103-4936d562f066"
      },
      "source": [
        ""
      ],
      "execution_count": 57,
      "outputs": [
        {
          "output_type": "stream",
          "text": [
            "apple apple NOUN\n",
            "is be VERB\n",
            "asking ask VERB\n",
            "manufacturers manufacturer NOUN\n",
            "move move VERB\n",
            "macbook_air macbook_air DET\n",
            "production production NOUN\n",
            "the_united_states the_united_states VERB\n",
            "apple be ask manufacturer move macbook_air production the_united_states\n"
          ],
          "name": "stdout"
        }
      ]
    },
    {
      "cell_type": "code",
      "metadata": {
        "id": "-gLTaG8c8nr8",
        "colab_type": "code",
        "colab": {}
      },
      "source": [
        ""
      ],
      "execution_count": 0,
      "outputs": []
    },
    {
      "cell_type": "code",
      "metadata": {
        "id": "MineNEnJrIfP",
        "colab_type": "code",
        "colab": {}
      },
      "source": [
        ""
      ],
      "execution_count": 0,
      "outputs": []
    },
    {
      "cell_type": "code",
      "metadata": {
        "id": "5G4rYIfvqrQ2",
        "colab_type": "code",
        "colab": {}
      },
      "source": [
        ""
      ],
      "execution_count": 0,
      "outputs": []
    },
    {
      "cell_type": "code",
      "metadata": {
        "id": "9V9J0mdIqKbd",
        "colab_type": "code",
        "colab": {}
      },
      "source": [
        ""
      ],
      "execution_count": 0,
      "outputs": []
    },
    {
      "cell_type": "code",
      "metadata": {
        "id": "vWRrTw9wqFRO",
        "colab_type": "code",
        "colab": {}
      },
      "source": [
        ""
      ],
      "execution_count": 0,
      "outputs": []
    },
    {
      "cell_type": "code",
      "metadata": {
        "id": "AmyQaukjpkpQ",
        "colab_type": "code",
        "colab": {}
      },
      "source": [
        ""
      ],
      "execution_count": 0,
      "outputs": []
    },
    {
      "cell_type": "code",
      "metadata": {
        "id": "HnYFeR0_pjt2",
        "colab_type": "code",
        "colab": {}
      },
      "source": [
        ""
      ],
      "execution_count": 0,
      "outputs": []
    }
  ]
}