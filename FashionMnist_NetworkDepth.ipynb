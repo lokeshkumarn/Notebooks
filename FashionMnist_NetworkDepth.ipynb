{
  "nbformat": 4,
  "nbformat_minor": 0,
  "metadata": {
    "colab": {
      "name": "FashionMnist_NetworkDepth.ipynb",
      "provenance": [],
      "collapsed_sections": [],
      "authorship_tag": "ABX9TyPetNppxHVAQGO9JgSDlA7a",
      "include_colab_link": true
    },
    "kernelspec": {
      "name": "python3",
      "display_name": "Python 3"
    },
    "accelerator": "GPU"
  },
  "cells": [
    {
      "cell_type": "markdown",
      "metadata": {
        "id": "view-in-github",
        "colab_type": "text"
      },
      "source": [
        "<a href=\"https://colab.research.google.com/github/lokeshkumarn/Notebooks/blob/master/FashionMnist_NetworkDepth.ipynb\" target=\"_parent\"><img src=\"https://colab.research.google.com/assets/colab-badge.svg\" alt=\"Open In Colab\"/></a>"
      ]
    },
    {
      "cell_type": "markdown",
      "metadata": {
        "id": "JD5tc8Rnz19H"
      },
      "source": [
        "## Import Libraries/Dataset"
      ]
    },
    {
      "cell_type": "markdown",
      "metadata": {
        "id": "Y0hvLOW-z5ZE"
      },
      "source": [
        "### Import Libraries"
      ]
    },
    {
      "cell_type": "code",
      "metadata": {
        "id": "kA0jIJ60zM80"
      },
      "source": [
        "import time\n",
        "import tensorflow as tf\n",
        "from tensorflow.python.client import device_lib\n",
        "from google.colab import drive\n",
        "\n",
        "import pandas as pd\n",
        "import numpy as np\n",
        "import random as rd\n",
        "\n",
        "from tensorflow import keras\n",
        "\n",
        "import tensorflow_hub as hub\n",
        "import tensorflow_datasets as tfds\n",
        "\n",
        "from sklearn.model_selection import train_test_split\n",
        "from sklearn.metrics import confusion_matrix,classification_report\n",
        "\n",
        "from matplotlib import pyplot as plt\n",
        "import seaborn as sns"
      ],
      "execution_count": 1,
      "outputs": []
    },
    {
      "cell_type": "code",
      "metadata": {
        "id": "C83BzTAIz8Oy"
      },
      "source": [
        "rd.seed(2020)         # Initialize the random number generator.\n",
        "np.random.seed(2020)      # With the seed reset, the same set of numbers will appear every time. \n",
        "tf.random.set_seed(2020)  # sets the graph-level random seed"
      ],
      "execution_count": 2,
      "outputs": []
    },
    {
      "cell_type": "markdown",
      "metadata": {
        "id": "4HbAJi9f0JDL"
      },
      "source": [
        "### Import Dataset"
      ]
    },
    {
      "cell_type": "markdown",
      "metadata": {
        "id": "kVG2N6vL0MUB"
      },
      "source": [
        "Load dataset from TF"
      ]
    },
    {
      "cell_type": "code",
      "metadata": {
        "id": "stoIQKhd31bP",
        "outputId": "95e60437-6729-4a32-eaa9-4707e66a57f1",
        "colab": {
          "base_uri": "https://localhost:8080/",
          "height": 163
        }
      },
      "source": [
        "fashion_mnist = tf.keras.datasets.fashion_mnist\n",
        "\n",
        "(X_train, y_train), (X_test, y_test) = fashion_mnist.load_data()"
      ],
      "execution_count": 3,
      "outputs": [
        {
          "output_type": "stream",
          "text": [
            "Downloading data from https://storage.googleapis.com/tensorflow/tf-keras-datasets/train-labels-idx1-ubyte.gz\n",
            "32768/29515 [=================================] - 0s 0us/step\n",
            "Downloading data from https://storage.googleapis.com/tensorflow/tf-keras-datasets/train-images-idx3-ubyte.gz\n",
            "26427392/26421880 [==============================] - 0s 0us/step\n",
            "Downloading data from https://storage.googleapis.com/tensorflow/tf-keras-datasets/t10k-labels-idx1-ubyte.gz\n",
            "8192/5148 [===============================================] - 0s 0us/step\n",
            "Downloading data from https://storage.googleapis.com/tensorflow/tf-keras-datasets/t10k-images-idx3-ubyte.gz\n",
            "4423680/4422102 [==============================] - 0s 0us/step\n"
          ],
          "name": "stdout"
        }
      ]
    },
    {
      "cell_type": "markdown",
      "metadata": {
        "id": "Gx_7qt1J2jZA"
      },
      "source": [
        "### Check GPU"
      ]
    },
    {
      "cell_type": "code",
      "metadata": {
        "id": "9ee0VdCA2R3g",
        "outputId": "adfaae61-f17f-4036-8817-1b49819e74e9",
        "colab": {
          "base_uri": "https://localhost:8080/",
          "height": 35
        }
      },
      "source": [
        "def get_available_gpus():\n",
        "    local_device_protos = device_lib.list_local_devices()\n",
        "    return [x.name for x in local_device_protos if x.device_type == 'GPU' ]\n",
        "\n",
        "gpu_lst = get_available_gpus()\n",
        "\n",
        "if(len(gpu_lst) > 0):\n",
        "  print(\"GPU Enabled\")\n",
        "else:\n",
        "  print(\"GPU Disabled\")"
      ],
      "execution_count": 4,
      "outputs": [
        {
          "output_type": "stream",
          "text": [
            "GPU Enabled\n"
          ],
          "name": "stdout"
        }
      ]
    },
    {
      "cell_type": "markdown",
      "metadata": {
        "id": "HytT9m-122pU"
      },
      "source": [
        "## Data Visualization"
      ]
    },
    {
      "cell_type": "markdown",
      "metadata": {
        "id": "mi_EWfKs26So"
      },
      "source": [
        "Plot at least one sample from each class of the dataset "
      ]
    },
    {
      "cell_type": "code",
      "metadata": {
        "id": "gI1oUcz8447j"
      },
      "source": [
        "class_names = ['T-shirt_top', 'Trouser', 'Pullover', 'Dress', 'Coat',\n",
        "               'Sandal', 'Shirt', 'Sneaker', 'Bag', 'Ankle boot']"
      ],
      "execution_count": 5,
      "outputs": []
    },
    {
      "cell_type": "code",
      "metadata": {
        "id": "-KE6Zev-450T",
        "outputId": "c9e3f80b-86b7-495d-b3fb-1aed65823583",
        "colab": {
          "base_uri": "https://localhost:8080/",
          "height": 553
        }
      },
      "source": [
        "fig,ax = plt.subplots(2,5,figsize=(20,10))\n",
        "j = 0\n",
        "for c in enumerate(class_names):\n",
        "  idx = [i for i,v in enumerate(y_train) if c[0] == v][0]\n",
        "  row,col = j, c[0] % 5  \n",
        "  ax[row,col].imshow(X_train[idx])\n",
        "  ax[row,col].set_title(c[1])\n",
        "  if c[0] % 5 == 4:\n",
        "    j = j + 1"
      ],
      "execution_count": 6,
      "outputs": [
        {
          "output_type": "display_data",
          "data": {
            "image/png": "[encoded data removed]",
            "text/plain": [
              "<Figure size 1440x720 with 10 Axes>"
            ]
          },
          "metadata": {
            "tags": [],
            "needs_background": "light"
          }
        }
      ]
    },
    {
      "cell_type": "markdown",
      "metadata": {
        "id": "gHzrJdf994YQ"
      },
      "source": [
        "Print the shapes of train and test data"
      ]
    },
    {
      "cell_type": "code",
      "metadata": {
        "id": "dtdl7u5E937w",
        "outputId": "a53c17db-22fe-4b6d-dc3c-003c60623ae4",
        "colab": {
          "base_uri": "https://localhost:8080/",
          "height": 90
        }
      },
      "source": [
        "print(\"Train Feature Shape:\",X_train.shape)\n",
        "print(\"Train Label Shape:\",y_train.shape)\n",
        "print(\"Test Feature Shape:\",X_test.shape)\n",
        "print(\"Test Label Shape:\",y_test.shape)"
      ],
      "execution_count": 7,
      "outputs": [
        {
          "output_type": "stream",
          "text": [
            "Train Feature Shape: (60000, 28, 28)\n",
            "Train Label Shape: (60000,)\n",
            "Test Feature Shape: (10000, 28, 28)\n",
            "Test Label Shape: (10000,)\n"
          ],
          "name": "stdout"
        }
      ]
    },
    {
      "cell_type": "markdown",
      "metadata": {
        "id": "Ymy9k17o-RJo"
      },
      "source": [
        "## Data Pre-processing "
      ]
    },
    {
      "cell_type": "markdown",
      "metadata": {
        "id": "3itsB5cl-UDg"
      },
      "source": [
        "Bring the train and test data in the required format"
      ]
    },
    {
      "cell_type": "code",
      "metadata": {
        "id": "uY10X1AO0ONB"
      },
      "source": [
        "# Normalize the data\n",
        "X_train = X_train.reshape((60000, 28*28))    # reshape the input set to size 28*28. VEctor of length 784\n",
        "X_train = X_train.astype('float32')/255      # normalize to grayscale; set datatype as float32\n",
        "\n",
        "X_test = X_test.reshape((10000, 28*28))      # reshape the input set to size 28*28. \n",
        "X_test = X_test.astype('float32')/255        # normalize to grayscale; set datatype as float32\n",
        "\n",
        "y_train_enc = tf.keras.utils.to_categorical(y_train)\n",
        "y_test_enc = tf.keras.utils.to_categorical(y_test)"
      ],
      "execution_count": 8,
      "outputs": []
    },
    {
      "cell_type": "code",
      "metadata": {
        "id": "s5UDUzOFAAo2",
        "outputId": "4d629027-4493-4d96-c2b1-f1a82049f0be",
        "colab": {
          "base_uri": "https://localhost:8080/",
          "height": 90
        }
      },
      "source": [
        "#Shapes after reshaping & normalizing\n",
        "print(\"Train Feature Shape:\",X_train.shape)\n",
        "print(\"Train Label Shape:\",y_train.shape)\n",
        "print(\"Test Feature Shape:\",X_test.shape)\n",
        "print(\"Test Label Shape:\",y_test.shape)"
      ],
      "execution_count": 9,
      "outputs": [
        {
          "output_type": "stream",
          "text": [
            "Train Feature Shape: (60000, 784)\n",
            "Train Label Shape: (60000,)\n",
            "Test Feature Shape: (10000, 784)\n",
            "Test Label Shape: (10000,)\n"
          ],
          "name": "stdout"
        }
      ]
    },
    {
      "cell_type": "markdown",
      "metadata": {
        "id": "1cSwk7R0BYeI"
      },
      "source": [
        "## Model Building "
      ]
    },
    {
      "cell_type": "markdown",
      "metadata": {
        "id": "ZKRYn2v4Beuc"
      },
      "source": [
        "a.    Sequential Model layers- Use AT LEAST 3 dense layers with appropriate input for each. Choose the best number for hidden units and give reasons.<br>\n",
        "b.   Add L2 regularization to all the layers.<br>\n",
        "c.    Add one layer of dropout at the appropriate position and give reasons. <br>d.   Choose the appropriate activation function for all the layers.<br>\n",
        "e.   Print the model summary\n"
      ]
    },
    {
      "cell_type": "code",
      "metadata": {
        "id": "zGOR5i2gAISD",
        "outputId": "85f0cb9e-7980-461f-c711-7615c94a83fc",
        "colab": {
          "base_uri": "https://localhost:8080/",
          "height": 381
        }
      },
      "source": [
        "model = keras.models.Sequential()\n",
        "\n",
        "# Layer 1 = input layer\n",
        "# specify the input size for in the first layer.\n",
        "\n",
        "model.add(keras.layers.Dense(512, activation='relu', input_shape= (28*28,)))\n",
        "\n",
        "# Layer 2 = hidden layer  with Regularizers\n",
        "model.add(keras.layers.Dense(256, activation='relu', kernel_regularizer=keras.regularizers.l2(0.01),\n",
        "                activity_regularizer=keras.regularizers.l2(0.01)) )\n",
        "\n",
        "# Add dropout of 50% to layer 2\n",
        "model.add(keras.layers.Dropout(0.5))\n",
        "\n",
        "# Layer 3 = hidden layer \n",
        "model.add(keras.layers.Dense(128, activation='relu', kernel_regularizer=keras.regularizers.l2(0.01),\n",
        "                activity_regularizer=keras.regularizers.l2(0.01)) )\n",
        "\n",
        "# Layer 4 = hidden layer \n",
        "model.add(keras.layers.Dense(64, activation='relu', kernel_regularizer=keras.regularizers.l2(0.01),\n",
        "                activity_regularizer=keras.regularizers.l2(0.01)) )\n",
        "\n",
        "# Layer 4 = output layer\n",
        "model.add(keras.layers.Dense(10, activation='softmax'))\n",
        "\n",
        "model.summary()"
      ],
      "execution_count": 10,
      "outputs": [
        {
          "output_type": "stream",
          "text": [
            "Model: \"sequential\"\n",
            "_________________________________________________________________\n",
            "Layer (type)                 Output Shape              Param #   \n",
            "=================================================================\n",
            "dense (Dense)                (None, 512)               401920    \n",
            "_________________________________________________________________\n",
            "dense_1 (Dense)              (None, 256)               131328    \n",
            "_________________________________________________________________\n",
            "dropout (Dropout)            (None, 256)               0         \n",
            "_________________________________________________________________\n",
            "dense_2 (Dense)              (None, 128)               32896     \n",
            "_________________________________________________________________\n",
            "dense_3 (Dense)              (None, 64)                8256      \n",
            "_________________________________________________________________\n",
            "dense_4 (Dense)              (None, 10)                650       \n",
            "=================================================================\n",
            "Total params: 575,050\n",
            "Trainable params: 575,050\n",
            "Non-trainable params: 0\n",
            "_________________________________________________________________\n"
          ],
          "name": "stdout"
        }
      ]
    },
    {
      "cell_type": "markdown",
      "metadata": {
        "id": "zevuXU4IoaCX"
      },
      "source": [
        "**Choose the best number for hidden units and give reasons.**<br>\n",
        "1.The number of hidden neurons should be between the size of the input layer and the size of the output layer.<br>\n",
        "2.The number of hidden neurons should be 2/3 the size of the input layer, plus the size of the output layer.<br>\n",
        "3.The number of hidden neurons should be less than twice the size of the input layer.<br>\n",
        "\n",
        "Reference : [Link](https://www.heatonresearch.com/2017/06/01/hidden-layers.html)\n",
        "\n",
        "<br>\n",
        "\n",
        "**Updated the Hidden Layers and Hidden Units**"
      ]
    },
    {
      "cell_type": "markdown",
      "metadata": {
        "id": "9miE-oRDCpQH"
      },
      "source": [
        "## Model Compilation "
      ]
    },
    {
      "cell_type": "markdown",
      "metadata": {
        "id": "lQdmgbauDjJY"
      },
      "source": [
        "a.Compile the model with the appropriate loss function. - **categorical_crossentropy** - multiclass classification<br>\n",
        "b.Use an appropriate optimizer - **Adam**.<br>\n",
        "c.Use **accuracy** as metric."
      ]
    },
    {
      "cell_type": "code",
      "metadata": {
        "id": "dnGSp7T9Bq8G"
      },
      "source": [
        "model.compile(optimizer=tf.keras.optimizers.Adam(learning_rate=0.001,name='Adam'),\n",
        "              loss = 'categorical_crossentropy', \n",
        "              metrics=['accuracy'] )"
      ],
      "execution_count": 11,
      "outputs": []
    },
    {
      "cell_type": "markdown",
      "metadata": {
        "id": "1re7ENXskQLi"
      },
      "source": [
        "**Give reasons for the choice of learning rate and its value**<br>\n",
        "Learning rate of 0.001 is choosen, because too high would rollover the minima and I have tried giving the higher learning rate like 0.4, 0.2, 0.1, 0.01 the loss doesn't seem to converge to minima, so decided to lower the learning rate further so that weight update is minimum and proceeds towards the convergence or global minima "
      ]
    },
    {
      "cell_type": "markdown",
      "metadata": {
        "id": "Xc53v450EHvg"
      },
      "source": [
        "##Model Training "
      ]
    },
    {
      "cell_type": "code",
      "metadata": {
        "id": "pq6Bj-WrD0Qa",
        "outputId": "e744e0f0-120a-463f-beb5-e0acf302fe6d",
        "colab": {
          "base_uri": "https://localhost:8080/",
          "height": 1000
        }
      },
      "source": [
        "start_train = time.time()\n",
        "history = model.fit(X_train,\n",
        "                    y_train_enc,\n",
        "                    epochs=100,\n",
        "                    batch_size=1000,\n",
        "                    validation_split=0.2,\n",
        "                    verbose=1)\n",
        "end_train = time.time()"
      ],
      "execution_count": 12,
      "outputs": [
        {
          "output_type": "stream",
          "text": [
            "Epoch 1/100\n",
            "48/48 [==============================] - 0s 9ms/step - loss: 5.3346 - accuracy: 0.6121 - val_loss: 3.0861 - val_accuracy: 0.7609\n",
            "Epoch 2/100\n",
            "48/48 [==============================] - 0s 5ms/step - loss: 2.2678 - accuracy: 0.7930 - val_loss: 1.6028 - val_accuracy: 0.8313\n",
            "Epoch 3/100\n",
            "48/48 [==============================] - 0s 5ms/step - loss: 1.3798 - accuracy: 0.8400 - val_loss: 1.1449 - val_accuracy: 0.8527\n",
            "Epoch 4/100\n",
            "48/48 [==============================] - 0s 5ms/step - loss: 1.0705 - accuracy: 0.8555 - val_loss: 0.9642 - val_accuracy: 0.8587\n",
            "Epoch 5/100\n",
            "48/48 [==============================] - 0s 5ms/step - loss: 0.9321 - accuracy: 0.8646 - val_loss: 0.8715 - val_accuracy: 0.8652\n",
            "Epoch 6/100\n",
            "48/48 [==============================] - 0s 5ms/step - loss: 0.8532 - accuracy: 0.8715 - val_loss: 0.8101 - val_accuracy: 0.8734\n",
            "Epoch 7/100\n",
            "48/48 [==============================] - 0s 5ms/step - loss: 0.8028 - accuracy: 0.8752 - val_loss: 0.7806 - val_accuracy: 0.8714\n",
            "Epoch 8/100\n",
            "48/48 [==============================] - 0s 5ms/step - loss: 0.7608 - accuracy: 0.8815 - val_loss: 0.7382 - val_accuracy: 0.8796\n",
            "Epoch 9/100\n",
            "48/48 [==============================] - 0s 5ms/step - loss: 0.7349 - accuracy: 0.8835 - val_loss: 0.7217 - val_accuracy: 0.8788\n",
            "Epoch 10/100\n",
            "48/48 [==============================] - 0s 6ms/step - loss: 0.7056 - accuracy: 0.8888 - val_loss: 0.7012 - val_accuracy: 0.8803\n",
            "Epoch 11/100\n",
            "48/48 [==============================] - 0s 5ms/step - loss: 0.6862 - accuracy: 0.8911 - val_loss: 0.6838 - val_accuracy: 0.8826\n",
            "Epoch 12/100\n",
            "48/48 [==============================] - 0s 5ms/step - loss: 0.6648 - accuracy: 0.8942 - val_loss: 0.6721 - val_accuracy: 0.8834\n",
            "Epoch 13/100\n",
            "48/48 [==============================] - 0s 5ms/step - loss: 0.6539 - accuracy: 0.8944 - val_loss: 0.6577 - val_accuracy: 0.8851\n",
            "Epoch 14/100\n",
            "48/48 [==============================] - 0s 6ms/step - loss: 0.6365 - accuracy: 0.8966 - val_loss: 0.6460 - val_accuracy: 0.8864\n",
            "Epoch 15/100\n",
            "48/48 [==============================] - 0s 5ms/step - loss: 0.6229 - accuracy: 0.8983 - val_loss: 0.6381 - val_accuracy: 0.8853\n",
            "Epoch 16/100\n",
            "48/48 [==============================] - 0s 5ms/step - loss: 0.6094 - accuracy: 0.8997 - val_loss: 0.6198 - val_accuracy: 0.8903\n",
            "Epoch 17/100\n",
            "48/48 [==============================] - 0s 5ms/step - loss: 0.5931 - accuracy: 0.9049 - val_loss: 0.6178 - val_accuracy: 0.8888\n",
            "Epoch 18/100\n",
            "48/48 [==============================] - 0s 6ms/step - loss: 0.5825 - accuracy: 0.9061 - val_loss: 0.6082 - val_accuracy: 0.8900\n",
            "Epoch 19/100\n",
            "48/48 [==============================] - 0s 5ms/step - loss: 0.5708 - accuracy: 0.9082 - val_loss: 0.5974 - val_accuracy: 0.8907\n",
            "Epoch 20/100\n",
            "48/48 [==============================] - 0s 5ms/step - loss: 0.5640 - accuracy: 0.9089 - val_loss: 0.5929 - val_accuracy: 0.8913\n",
            "Epoch 21/100\n",
            "48/48 [==============================] - 0s 5ms/step - loss: 0.5509 - accuracy: 0.9122 - val_loss: 0.5829 - val_accuracy: 0.8939\n",
            "Epoch 22/100\n",
            "48/48 [==============================] - 0s 5ms/step - loss: 0.5448 - accuracy: 0.9126 - val_loss: 0.5852 - val_accuracy: 0.8923\n",
            "Epoch 23/100\n",
            "48/48 [==============================] - 0s 5ms/step - loss: 0.5364 - accuracy: 0.9143 - val_loss: 0.5893 - val_accuracy: 0.8882\n",
            "Epoch 24/100\n",
            "48/48 [==============================] - 0s 5ms/step - loss: 0.5314 - accuracy: 0.9153 - val_loss: 0.5736 - val_accuracy: 0.8921\n",
            "Epoch 25/100\n",
            "48/48 [==============================] - 0s 5ms/step - loss: 0.5197 - accuracy: 0.9168 - val_loss: 0.5596 - val_accuracy: 0.8955\n",
            "Epoch 26/100\n",
            "48/48 [==============================] - 0s 5ms/step - loss: 0.5124 - accuracy: 0.9194 - val_loss: 0.5605 - val_accuracy: 0.8954\n",
            "Epoch 27/100\n",
            "48/48 [==============================] - 0s 5ms/step - loss: 0.5070 - accuracy: 0.9201 - val_loss: 0.5825 - val_accuracy: 0.8840\n",
            "Epoch 28/100\n",
            "48/48 [==============================] - 0s 5ms/step - loss: 0.5023 - accuracy: 0.9210 - val_loss: 0.5539 - val_accuracy: 0.8943\n",
            "Epoch 29/100\n",
            "48/48 [==============================] - 0s 5ms/step - loss: 0.4970 - accuracy: 0.9217 - val_loss: 0.5513 - val_accuracy: 0.8945\n",
            "Epoch 30/100\n",
            "48/48 [==============================] - 0s 5ms/step - loss: 0.4883 - accuracy: 0.9237 - val_loss: 0.5456 - val_accuracy: 0.8955\n",
            "Epoch 31/100\n",
            "48/48 [==============================] - 0s 5ms/step - loss: 0.4800 - accuracy: 0.9266 - val_loss: 0.5411 - val_accuracy: 0.8942\n",
            "Epoch 32/100\n",
            "48/48 [==============================] - 0s 5ms/step - loss: 0.4783 - accuracy: 0.9247 - val_loss: 0.5420 - val_accuracy: 0.8969\n",
            "Epoch 33/100\n",
            "48/48 [==============================] - 0s 6ms/step - loss: 0.4715 - accuracy: 0.9266 - val_loss: 0.5441 - val_accuracy: 0.8931\n",
            "Epoch 34/100\n",
            "48/48 [==============================] - 0s 5ms/step - loss: 0.4667 - accuracy: 0.9279 - val_loss: 0.5497 - val_accuracy: 0.8873\n",
            "Epoch 35/100\n",
            "48/48 [==============================] - 0s 5ms/step - loss: 0.4545 - accuracy: 0.9316 - val_loss: 0.5269 - val_accuracy: 0.8957\n",
            "Epoch 36/100\n",
            "48/48 [==============================] - 0s 5ms/step - loss: 0.4504 - accuracy: 0.9328 - val_loss: 0.5349 - val_accuracy: 0.8957\n",
            "Epoch 37/100\n",
            "48/48 [==============================] - 0s 5ms/step - loss: 0.4459 - accuracy: 0.9332 - val_loss: 0.5318 - val_accuracy: 0.8927\n",
            "Epoch 38/100\n",
            "48/48 [==============================] - 0s 5ms/step - loss: 0.4392 - accuracy: 0.9351 - val_loss: 0.5256 - val_accuracy: 0.8982\n",
            "Epoch 39/100\n",
            "48/48 [==============================] - 0s 5ms/step - loss: 0.4405 - accuracy: 0.9344 - val_loss: 0.5273 - val_accuracy: 0.8967\n",
            "Epoch 40/100\n",
            "48/48 [==============================] - 0s 5ms/step - loss: 0.4350 - accuracy: 0.9351 - val_loss: 0.5314 - val_accuracy: 0.8925\n",
            "Epoch 41/100\n",
            "48/48 [==============================] - 0s 5ms/step - loss: 0.4287 - accuracy: 0.9355 - val_loss: 0.5105 - val_accuracy: 0.8990\n",
            "Epoch 42/100\n",
            "48/48 [==============================] - 0s 5ms/step - loss: 0.4236 - accuracy: 0.9379 - val_loss: 0.5123 - val_accuracy: 0.8982\n",
            "Epoch 43/100\n",
            "48/48 [==============================] - 0s 5ms/step - loss: 0.4205 - accuracy: 0.9390 - val_loss: 0.5096 - val_accuracy: 0.8999\n",
            "Epoch 44/100\n",
            "48/48 [==============================] - 0s 5ms/step - loss: 0.4177 - accuracy: 0.9378 - val_loss: 0.5078 - val_accuracy: 0.8961\n",
            "Epoch 45/100\n",
            "48/48 [==============================] - 0s 5ms/step - loss: 0.4096 - accuracy: 0.9418 - val_loss: 0.5062 - val_accuracy: 0.8984\n",
            "Epoch 46/100\n",
            "48/48 [==============================] - 0s 5ms/step - loss: 0.4030 - accuracy: 0.9439 - val_loss: 0.5153 - val_accuracy: 0.8952\n",
            "Epoch 47/100\n",
            "48/48 [==============================] - 0s 5ms/step - loss: 0.4049 - accuracy: 0.9424 - val_loss: 0.5218 - val_accuracy: 0.8942\n",
            "Epoch 48/100\n",
            "48/48 [==============================] - 0s 5ms/step - loss: 0.3933 - accuracy: 0.9465 - val_loss: 0.5033 - val_accuracy: 0.8993\n",
            "Epoch 49/100\n",
            "48/48 [==============================] - 0s 5ms/step - loss: 0.3945 - accuracy: 0.9455 - val_loss: 0.5123 - val_accuracy: 0.8954\n",
            "Epoch 50/100\n",
            "48/48 [==============================] - 0s 5ms/step - loss: 0.3879 - accuracy: 0.9470 - val_loss: 0.5047 - val_accuracy: 0.8982\n",
            "Epoch 51/100\n",
            "48/48 [==============================] - 0s 5ms/step - loss: 0.3816 - accuracy: 0.9485 - val_loss: 0.5029 - val_accuracy: 0.8967\n",
            "Epoch 52/100\n",
            "48/48 [==============================] - 0s 5ms/step - loss: 0.3779 - accuracy: 0.9504 - val_loss: 0.4987 - val_accuracy: 0.8996\n",
            "Epoch 53/100\n",
            "48/48 [==============================] - 0s 5ms/step - loss: 0.3771 - accuracy: 0.9493 - val_loss: 0.4980 - val_accuracy: 0.8996\n",
            "Epoch 54/100\n",
            "48/48 [==============================] - 0s 5ms/step - loss: 0.3703 - accuracy: 0.9528 - val_loss: 0.5045 - val_accuracy: 0.8965\n",
            "Epoch 55/100\n",
            "48/48 [==============================] - 0s 5ms/step - loss: 0.3689 - accuracy: 0.9515 - val_loss: 0.5060 - val_accuracy: 0.8974\n",
            "Epoch 56/100\n",
            "48/48 [==============================] - 0s 5ms/step - loss: 0.3663 - accuracy: 0.9523 - val_loss: 0.5030 - val_accuracy: 0.8954\n",
            "Epoch 57/100\n",
            "48/48 [==============================] - 0s 5ms/step - loss: 0.3618 - accuracy: 0.9535 - val_loss: 0.5042 - val_accuracy: 0.8960\n",
            "Epoch 58/100\n",
            "48/48 [==============================] - 0s 5ms/step - loss: 0.3622 - accuracy: 0.9525 - val_loss: 0.4936 - val_accuracy: 0.8994\n",
            "Epoch 59/100\n",
            "48/48 [==============================] - 0s 5ms/step - loss: 0.3570 - accuracy: 0.9538 - val_loss: 0.5020 - val_accuracy: 0.8963\n",
            "Epoch 60/100\n",
            "48/48 [==============================] - 0s 5ms/step - loss: 0.3494 - accuracy: 0.9576 - val_loss: 0.4913 - val_accuracy: 0.9006\n",
            "Epoch 61/100\n",
            "48/48 [==============================] - 0s 5ms/step - loss: 0.3488 - accuracy: 0.9571 - val_loss: 0.4888 - val_accuracy: 0.9023\n",
            "Epoch 62/100\n",
            "48/48 [==============================] - 0s 5ms/step - loss: 0.3494 - accuracy: 0.9549 - val_loss: 0.5045 - val_accuracy: 0.8969\n",
            "Epoch 63/100\n",
            "48/48 [==============================] - 0s 5ms/step - loss: 0.3435 - accuracy: 0.9584 - val_loss: 0.4875 - val_accuracy: 0.9008\n",
            "Epoch 64/100\n",
            "48/48 [==============================] - 0s 5ms/step - loss: 0.3462 - accuracy: 0.9550 - val_loss: 0.4823 - val_accuracy: 0.9005\n",
            "Epoch 65/100\n",
            "48/48 [==============================] - 0s 6ms/step - loss: 0.3352 - accuracy: 0.9606 - val_loss: 0.5094 - val_accuracy: 0.8947\n",
            "Epoch 66/100\n",
            "48/48 [==============================] - 0s 5ms/step - loss: 0.3345 - accuracy: 0.9606 - val_loss: 0.4986 - val_accuracy: 0.8989\n",
            "Epoch 67/100\n",
            "48/48 [==============================] - 0s 5ms/step - loss: 0.3292 - accuracy: 0.9597 - val_loss: 0.4831 - val_accuracy: 0.9014\n",
            "Epoch 68/100\n",
            "48/48 [==============================] - 0s 5ms/step - loss: 0.3245 - accuracy: 0.9629 - val_loss: 0.4883 - val_accuracy: 0.8986\n",
            "Epoch 69/100\n",
            "48/48 [==============================] - 0s 5ms/step - loss: 0.3268 - accuracy: 0.9616 - val_loss: 0.4911 - val_accuracy: 0.8992\n",
            "Epoch 70/100\n",
            "48/48 [==============================] - 0s 5ms/step - loss: 0.3219 - accuracy: 0.9621 - val_loss: 0.4905 - val_accuracy: 0.8978\n",
            "Epoch 71/100\n",
            "48/48 [==============================] - 0s 5ms/step - loss: 0.3148 - accuracy: 0.9653 - val_loss: 0.4858 - val_accuracy: 0.9020\n",
            "Epoch 72/100\n",
            "48/48 [==============================] - 0s 5ms/step - loss: 0.3169 - accuracy: 0.9636 - val_loss: 0.4806 - val_accuracy: 0.9017\n",
            "Epoch 73/100\n",
            "48/48 [==============================] - 0s 5ms/step - loss: 0.3138 - accuracy: 0.9651 - val_loss: 0.5032 - val_accuracy: 0.8942\n",
            "Epoch 74/100\n",
            "48/48 [==============================] - 0s 5ms/step - loss: 0.3107 - accuracy: 0.9663 - val_loss: 0.4879 - val_accuracy: 0.8992\n",
            "Epoch 75/100\n",
            "48/48 [==============================] - 0s 5ms/step - loss: 0.3062 - accuracy: 0.9661 - val_loss: 0.4826 - val_accuracy: 0.8982\n",
            "Epoch 76/100\n",
            "48/48 [==============================] - 0s 5ms/step - loss: 0.3024 - accuracy: 0.9676 - val_loss: 0.4960 - val_accuracy: 0.8957\n",
            "Epoch 77/100\n",
            "48/48 [==============================] - 0s 5ms/step - loss: 0.3036 - accuracy: 0.9671 - val_loss: 0.4812 - val_accuracy: 0.9001\n",
            "Epoch 78/100\n",
            "48/48 [==============================] - 0s 5ms/step - loss: 0.3010 - accuracy: 0.9684 - val_loss: 0.4826 - val_accuracy: 0.8981\n",
            "Epoch 79/100\n",
            "48/48 [==============================] - 0s 5ms/step - loss: 0.3026 - accuracy: 0.9671 - val_loss: 0.4991 - val_accuracy: 0.8944\n",
            "Epoch 80/100\n",
            "48/48 [==============================] - 0s 5ms/step - loss: 0.2982 - accuracy: 0.9678 - val_loss: 0.4871 - val_accuracy: 0.8997\n",
            "Epoch 81/100\n",
            "48/48 [==============================] - 0s 6ms/step - loss: 0.2921 - accuracy: 0.9697 - val_loss: 0.4803 - val_accuracy: 0.9002\n",
            "Epoch 82/100\n",
            "48/48 [==============================] - 0s 5ms/step - loss: 0.2897 - accuracy: 0.9699 - val_loss: 0.4839 - val_accuracy: 0.8996\n",
            "Epoch 83/100\n",
            "48/48 [==============================] - 0s 5ms/step - loss: 0.2920 - accuracy: 0.9694 - val_loss: 0.4800 - val_accuracy: 0.8992\n",
            "Epoch 84/100\n",
            "48/48 [==============================] - 0s 5ms/step - loss: 0.2855 - accuracy: 0.9711 - val_loss: 0.4799 - val_accuracy: 0.9018\n",
            "Epoch 85/100\n",
            "48/48 [==============================] - 0s 5ms/step - loss: 0.2817 - accuracy: 0.9727 - val_loss: 0.4904 - val_accuracy: 0.8962\n",
            "Epoch 86/100\n",
            "48/48 [==============================] - 0s 5ms/step - loss: 0.2809 - accuracy: 0.9719 - val_loss: 0.4852 - val_accuracy: 0.8991\n",
            "Epoch 87/100\n",
            "48/48 [==============================] - 0s 5ms/step - loss: 0.2760 - accuracy: 0.9740 - val_loss: 0.5006 - val_accuracy: 0.8953\n",
            "Epoch 88/100\n",
            "48/48 [==============================] - 0s 5ms/step - loss: 0.2812 - accuracy: 0.9708 - val_loss: 0.4775 - val_accuracy: 0.9002\n",
            "Epoch 89/100\n",
            "48/48 [==============================] - 0s 5ms/step - loss: 0.2722 - accuracy: 0.9755 - val_loss: 0.4830 - val_accuracy: 0.9007\n",
            "Epoch 90/100\n",
            "48/48 [==============================] - 0s 5ms/step - loss: 0.2735 - accuracy: 0.9736 - val_loss: 0.4838 - val_accuracy: 0.8985\n",
            "Epoch 91/100\n",
            "48/48 [==============================] - 0s 6ms/step - loss: 0.2661 - accuracy: 0.9762 - val_loss: 0.4806 - val_accuracy: 0.9003\n",
            "Epoch 92/100\n",
            "48/48 [==============================] - 0s 5ms/step - loss: 0.2662 - accuracy: 0.9748 - val_loss: 0.4772 - val_accuracy: 0.8995\n",
            "Epoch 93/100\n",
            "48/48 [==============================] - 0s 5ms/step - loss: 0.2649 - accuracy: 0.9757 - val_loss: 0.4813 - val_accuracy: 0.8981\n",
            "Epoch 94/100\n",
            "48/48 [==============================] - 0s 5ms/step - loss: 0.2653 - accuracy: 0.9754 - val_loss: 0.4769 - val_accuracy: 0.9007\n",
            "Epoch 95/100\n",
            "48/48 [==============================] - 0s 5ms/step - loss: 0.2609 - accuracy: 0.9766 - val_loss: 0.4786 - val_accuracy: 0.8990\n",
            "Epoch 96/100\n",
            "48/48 [==============================] - 0s 5ms/step - loss: 0.2591 - accuracy: 0.9765 - val_loss: 0.4860 - val_accuracy: 0.8974\n",
            "Epoch 97/100\n",
            "48/48 [==============================] - 0s 6ms/step - loss: 0.2592 - accuracy: 0.9764 - val_loss: 0.4820 - val_accuracy: 0.8979\n",
            "Epoch 98/100\n",
            "48/48 [==============================] - 0s 5ms/step - loss: 0.2574 - accuracy: 0.9772 - val_loss: 0.4839 - val_accuracy: 0.8989\n",
            "Epoch 99/100\n",
            "48/48 [==============================] - 0s 5ms/step - loss: 0.2564 - accuracy: 0.9761 - val_loss: 0.4768 - val_accuracy: 0.8997\n",
            "Epoch 100/100\n",
            "48/48 [==============================] - 0s 5ms/step - loss: 0.2530 - accuracy: 0.9787 - val_loss: 0.4922 - val_accuracy: 0.8969\n"
          ],
          "name": "stdout"
        }
      ]
    },
    {
      "cell_type": "markdown",
      "metadata": {
        "id": "5MqvD05-pFUd"
      },
      "source": [
        "Print the total time taken for training"
      ]
    },
    {
      "cell_type": "code",
      "metadata": {
        "id": "bMhNqDblpGNF",
        "outputId": "85f46f94-2a87-499d-c71d-5034492fcbb7",
        "colab": {
          "base_uri": "https://localhost:8080/",
          "height": 35
        }
      },
      "source": [
        "#Time taken to train\n",
        "print(\"Time taken to train the NN:\",end_train - start_train,\" seconds\")"
      ],
      "execution_count": 13,
      "outputs": [
        {
          "output_type": "stream",
          "text": [
            "Time taken to train the NN: 28.857072114944458  seconds\n"
          ],
          "name": "stdout"
        }
      ]
    },
    {
      "cell_type": "markdown",
      "metadata": {
        "id": "qbx2RIECEjz5"
      },
      "source": [
        "Plot the loss and accuracy history graphs"
      ]
    },
    {
      "cell_type": "code",
      "metadata": {
        "id": "Q-kyFEc_CxDn",
        "outputId": "2ddb73f4-003a-4ab6-eeb4-aeaf37599cb6",
        "colab": {
          "base_uri": "https://localhost:8080/",
          "height": 368
        }
      },
      "source": [
        "history_dict = history.history\n",
        "print(history_dict.keys())\n",
        "\n",
        "acc = history_dict['accuracy']\n",
        "val_acc = history_dict['val_accuracy']\n",
        "loss = history_dict['loss']\n",
        "val_loss = history_dict['val_loss']\n",
        "\n",
        "epochs = range(1, len(acc) + 1)\n",
        "\n",
        "fix,ax = plt.subplots(1,2, figsize=(15,5))\n",
        "ax1 = ax[0] # to plot Training Loss\n",
        "ax2 = ax[1] # to plot Training Accuracy\n",
        "ax1.plot(epochs, loss, label='Training loss')\n",
        "ax1.plot(epochs, val_loss,  label='Validation loss')\n",
        "ax1.set_title('Training and validation loss')\n",
        "ax1.set_xlabel('Epochs')\n",
        "ax1.set_ylabel('Loss')\n",
        "ax1.legend()\n",
        "\n",
        "ax2.plot(epochs, acc, label='Training acc')\n",
        "ax2.plot(epochs, val_acc,  label='Validation acc')\n",
        "ax2.set_title('Training and validation accuracy')\n",
        "ax2.set_xlabel('Epochs')\n",
        "ax2.set_ylabel('Accuracy')\n",
        "ax2.legend()\n",
        "\n",
        "plt.show()"
      ],
      "execution_count": 14,
      "outputs": [
        {
          "output_type": "stream",
          "text": [
            "dict_keys(['loss', 'accuracy', 'val_loss', 'val_accuracy'])\n"
          ],
          "name": "stdout"
        },
        {
          "output_type": "display_data",
          "data": {
            "image/png": "[encoded data removed]",
            "text/plain": [
              "<Figure size 1080x360 with 2 Axes>"
            ]
          },
          "metadata": {
            "tags": [],
            "needs_background": "light"
          }
        }
      ]
    },
    {
      "cell_type": "markdown",
      "metadata": {
        "id": "vxY89a0BE663"
      },
      "source": [
        "## Model Evaluation "
      ]
    },
    {
      "cell_type": "markdown",
      "metadata": {
        "id": "fBbD3v6gFRM5"
      },
      "source": [
        "Print the final test/validation loss and accuracy"
      ]
    },
    {
      "cell_type": "code",
      "metadata": {
        "id": "zNZbNg94FRzJ",
        "outputId": "ba67fe77-ec9e-4a36-a195-4f81707c8521",
        "colab": {
          "base_uri": "https://localhost:8080/",
          "height": 72
        }
      },
      "source": [
        "results = model.evaluate(X_test, y_test_enc)\n",
        "\n",
        "print(\"Test Loss:\",results[0])\n",
        "print(\"Test Accuracy:\",results[1])"
      ],
      "execution_count": 15,
      "outputs": [
        {
          "output_type": "stream",
          "text": [
            "313/313 [==============================] - 1s 3ms/step - loss: 0.5101 - accuracy: 0.8913\n",
            "Test Loss: 0.5101400017738342\n",
            "Test Accuracy: 0.8913000226020813\n"
          ],
          "name": "stdout"
        }
      ]
    },
    {
      "cell_type": "code",
      "metadata": {
        "id": "bkWD3uxaF03a",
        "outputId": "7d454192-25f3-4bcb-eccd-e43f72e96e0f",
        "colab": {
          "base_uri": "https://localhost:8080/",
          "height": 92
        }
      },
      "source": [
        "#Predictions\n",
        "y_pred = model.predict_classes(X_test)"
      ],
      "execution_count": 16,
      "outputs": [
        {
          "output_type": "stream",
          "text": [
            "WARNING:tensorflow:From <ipython-input-16-105f502b23c1>:2: Sequential.predict_classes (from tensorflow.python.keras.engine.sequential) is deprecated and will be removed after 2021-01-01.\n",
            "Instructions for updating:\n",
            "Please use instead:* `np.argmax(model.predict(x), axis=-1)`,   if your model does multi-class classification   (e.g. if it uses a `softmax` last-layer activation).* `(model.predict(x) > 0.5).astype(\"int32\")`,   if your model does binary classification   (e.g. if it uses a `sigmoid` last-layer activation).\n"
          ],
          "name": "stdout"
        }
      ]
    },
    {
      "cell_type": "markdown",
      "metadata": {
        "id": "5mc06YIYF6Uo"
      },
      "source": [
        "Confusion Matrix"
      ]
    },
    {
      "cell_type": "code",
      "metadata": {
        "id": "eUkqDHoCsyVZ",
        "outputId": "4650e141-5c81-4da4-a386-3d27d4d4a8a3",
        "colab": {
          "base_uri": "https://localhost:8080/",
          "height": 235
        }
      },
      "source": [
        "df = pd.DataFrame({'y_test':y_test,'y_pred':y_pred})\n",
        "df.head()\n",
        "confusion_matrix = pd.crosstab(df['y_test'], df['y_pred'], rownames=['Actual'], colnames=['Predicted'])\n",
        "print(confusion_matrix)"
      ],
      "execution_count": 17,
      "outputs": [
        {
          "output_type": "stream",
          "text": [
            "Predicted    0    1    2    3    4    5    6    7    8    9\n",
            "Actual                                                     \n",
            "0          776    2   13   29    4    1  167    0    8    0\n",
            "1            0  982    0   14    1    0    3    0    0    0\n",
            "2           15    2  764   10  107    0  100    0    2    0\n",
            "3           15    7    4  898   39    1   30    0    6    0\n",
            "4            2    0   52   29  845    0   70    0    2    0\n",
            "5            0    0    0    0    0  964    0   26    1    9\n",
            "6           80    1   45   33   53    0  778    0   10    0\n",
            "7            0    0    0    0    0    6    0  983    0   11\n",
            "8            5    0    1    2    5    1    3    5  978    0\n",
            "9            0    0    0    1    0    4    1   49    0  945\n"
          ],
          "name": "stdout"
        }
      ]
    },
    {
      "cell_type": "code",
      "metadata": {
        "id": "Yu0qeS1eF7DY",
        "outputId": "9727356c-cb8f-46de-e92c-9f1a56a83aa1",
        "colab": {
          "base_uri": "https://localhost:8080/",
          "height": 504
        }
      },
      "source": [
        "y_pred_cls = [class_names[v] for v in y_pred]\n",
        "y_test_cls= [class_names[v] for v in y_test]\n",
        "\n",
        "df = pd.DataFrame({'y_test':y_test_cls,'y_pred':y_pred_cls})\n",
        "df.head()\n",
        "confusion_matrix = pd.crosstab(df['y_test'], df['y_pred'], rownames=['Actual'], colnames=['Predicted'])\n",
        "# print(confusion_matrix)\n",
        "fig, ax = plt.subplots(figsize=(7,7))     \n",
        "sns.heatmap(confusion_matrix,annot=True,cmap='BuPu',fmt='d',ax=ax)"
      ],
      "execution_count": 18,
      "outputs": [
        {
          "output_type": "execute_result",
          "data": {
            "text/plain": [
              "<matplotlib.axes._subplots.AxesSubplot at 0x7f299b791e48>"
            ]
          },
          "metadata": {
            "tags": []
          },
          "execution_count": 18
        },
        {
          "output_type": "display_data",
          "data": {
            "image/png": "[encoded data removed]",
            "text/plain": [
              "<Figure size 504x504 with 2 Axes>"
            ]
          },
          "metadata": {
            "tags": [],
            "needs_background": "light"
          }
        }
      ]
    },
    {
      "cell_type": "markdown",
      "metadata": {
        "id": "5mWABB6OHdh6"
      },
      "source": [
        "Classification Report"
      ]
    },
    {
      "cell_type": "code",
      "metadata": {
        "id": "mgw9QBV-GDQY",
        "outputId": "52a79922-4764-4249-c7e1-40ead6e1d60b",
        "colab": {
          "base_uri": "https://localhost:8080/",
          "height": 326
        }
      },
      "source": [
        "print(classification_report(y_test,y_pred))"
      ],
      "execution_count": 19,
      "outputs": [
        {
          "output_type": "stream",
          "text": [
            "              precision    recall  f1-score   support\n",
            "\n",
            "           0       0.87      0.78      0.82      1000\n",
            "           1       0.99      0.98      0.98      1000\n",
            "           2       0.87      0.76      0.81      1000\n",
            "           3       0.88      0.90      0.89      1000\n",
            "           4       0.80      0.84      0.82      1000\n",
            "           5       0.99      0.96      0.98      1000\n",
            "           6       0.68      0.78      0.72      1000\n",
            "           7       0.92      0.98      0.95      1000\n",
            "           8       0.97      0.98      0.97      1000\n",
            "           9       0.98      0.94      0.96      1000\n",
            "\n",
            "    accuracy                           0.89     10000\n",
            "   macro avg       0.89      0.89      0.89     10000\n",
            "weighted avg       0.89      0.89      0.89     10000\n",
            "\n"
          ],
          "name": "stdout"
        }
      ]
    },
    {
      "cell_type": "markdown",
      "metadata": {
        "id": "q2HKlGjW4b4_"
      },
      "source": [
        "Class 1,5,7,8,9"
      ]
    },
    {
      "cell_type": "code",
      "metadata": {
        "id": "-TujcRtB441Z",
        "outputId": "2a960362-e20e-4d38-ca6e-feced36478d5",
        "colab": {
          "base_uri": "https://localhost:8080/",
          "height": 126
        }
      },
      "source": [
        "[(i,c) for i,c in enumerate(class_names) if i in [1,6,5,7,8,9]]"
      ],
      "execution_count": 20,
      "outputs": [
        {
          "output_type": "execute_result",
          "data": {
            "text/plain": [
              "[(1, 'Trouser'),\n",
              " (5, 'Sandal'),\n",
              " (6, 'Shirt'),\n",
              " (7, 'Sneaker'),\n",
              " (8, 'Bag'),\n",
              " (9, 'Ankle boot')]"
            ]
          },
          "metadata": {
            "tags": []
          },
          "execution_count": 20
        }
      ]
    },
    {
      "cell_type": "markdown",
      "metadata": {
        "id": "vC_eM6wa4PPe"
      },
      "source": [
        "**Write a summary for the best and worst performing class and the overall trend.**<br>\n",
        "Classes Trouser, Sandal, Sneaker, Bag and Ankle Boot are best performing classes compared to others from confusion matrix as well as from F1- Score, however some of it are performming better in this model, the worst one is Shirt because the T-Shirt and Shirt has lot of resemblance<br>\n",
        "**With respect to trend**<br>\n",
        "Even though the training loss is converging and training accuracy is increasing however validation attained its peak way before training in the epochs and saturated "
      ]
    },
    {
      "cell_type": "code",
      "metadata": {
        "id": "61sXBZV-F3D_"
      },
      "source": [
        ""
      ],
      "execution_count": 20,
      "outputs": []
    },
    {
      "cell_type": "code",
      "metadata": {
        "id": "nlH_qGNPFMPu"
      },
      "source": [
        ""
      ],
      "execution_count": 20,
      "outputs": []
    }
  ]
}