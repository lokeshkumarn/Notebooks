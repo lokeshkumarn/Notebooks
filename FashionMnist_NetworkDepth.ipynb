{
  "nbformat": 4,
  "nbformat_minor": 0,
  "metadata": {
    "colab": {
      "name": "FashionMnist_NetworkDepth.ipynb",
      "provenance": [],
      "collapsed_sections": [],
      "authorship_tag": "ABX9TyPetNppxHVAQGO9JgSDlA7a",
      "include_colab_link": true
    },
    "kernelspec": {
      "name": "python3",
      "display_name": "Python 3"
    },
    "accelerator": "GPU"
  },
  "cells": [
    {
      "cell_type": "markdown",
      "metadata": {
        "id": "view-in-github",
        "colab_type": "text"
      },
      "source": [
        "<a href=\"https://colab.research.google.com/github/lokeshkumarn/Notebooks/blob/master/FashionMnist_NetworkDepth.ipynb\" target=\"_parent\"><img src=\"https://colab.research.google.com/assets/colab-badge.svg\" alt=\"Open In Colab\"/></a>"
      ]
    },
    {
      "cell_type": "markdown",
      "metadata": {
        "id": "JD5tc8Rnz19H"
      },
      "source": [
        "## Import Libraries/Dataset"
      ]
    },
    {
      "cell_type": "markdown",
      "metadata": {
        "id": "Y0hvLOW-z5ZE"
      },
      "source": [
        "### Import Libraries"
      ]
    },
    {
      "cell_type": "code",
      "metadata": {
        "id": "kA0jIJ60zM80"
      },
      "source": [
        "import time\n",
        "import tensorflow as tf\n",
        "from tensorflow.python.client import device_lib\n",
        "from google.colab import drive\n",
        "\n",
        "import pandas as pd\n",
        "import numpy as np\n",
        "import random as rd\n",
        "\n",
        "from tensorflow import keras\n",
        "\n",
        "import tensorflow_hub as hub\n",
        "import tensorflow_datasets as tfds\n",
        "\n",
        "from sklearn.model_selection import train_test_split\n",
        "from sklearn.metrics import confusion_matrix,classification_report\n",
        "\n",
        "from matplotlib import pyplot as plt\n",
        "import seaborn as sns"
      ],
      "execution_count": null,
      "outputs": []
    },
    {
      "cell_type": "code",
      "metadata": {
        "id": "C83BzTAIz8Oy"
      },
      "source": [
        "rd.seed(2020)         # Initialize the random number generator.\n",
        "np.random.seed(2020)      # With the seed reset, the same set of numbers will appear every time. \n",
        "tf.random.set_seed(2020)  # sets the graph-level random seed"
      ],
      "execution_count": null,
      "outputs": []
    },
    {
      "cell_type": "markdown",
      "metadata": {
        "id": "4HbAJi9f0JDL"
      },
      "source": [
        "### Import Dataset"
      ]
    },
    {
      "cell_type": "markdown",
      "metadata": {
        "id": "kVG2N6vL0MUB"
      },
      "source": [
        "Load dataset from TF"
      ]
    },
    {
      "cell_type": "code",
      "metadata": {
        "id": "stoIQKhd31bP"
      },
      "source": [
        "fashion_mnist = tf.keras.datasets.fashion_mnist\n",
        "\n",
        "(X_train, y_train), (X_test, y_test) = fashion_mnist.load_data()"
      ],
      "execution_count": null,
      "outputs": []
    },
    {
      "cell_type": "markdown",
      "metadata": {
        "id": "Gx_7qt1J2jZA"
      },
      "source": [
        "### Check GPU"
      ]
    },
    {
      "cell_type": "code",
      "metadata": {
        "id": "9ee0VdCA2R3g",
        "outputId": "19a9fc37-ccba-46e1-b23c-de41a26ffb55",
        "colab": {
          "base_uri": "https://localhost:8080/",
          "height": 35
        }
      },
      "source": [
        "def get_available_gpus():\n",
        "    local_device_protos = device_lib.list_local_devices()\n",
        "    return [x.name for x in local_device_protos if x.device_type == 'GPU' ]\n",
        "\n",
        "gpu_lst = get_available_gpus()\n",
        "\n",
        "if(len(gpu_lst) > 0):\n",
        "  print(\"GPU Enabled\")\n",
        "else:\n",
        "  print(\"GPU Disabled\")"
      ],
      "execution_count": null,
      "outputs": [
        {
          "output_type": "stream",
          "text": [
            "GPU Enabled\n"
          ],
          "name": "stdout"
        }
      ]
    },
    {
      "cell_type": "markdown",
      "metadata": {
        "id": "HytT9m-122pU"
      },
      "source": [
        "## Data Visualization"
      ]
    },
    {
      "cell_type": "markdown",
      "metadata": {
        "id": "mi_EWfKs26So"
      },
      "source": [
        "Plot at least one sample from each class of the dataset "
      ]
    },
    {
      "cell_type": "code",
      "metadata": {
        "id": "gI1oUcz8447j"
      },
      "source": [
        "class_names = ['T-shirt_top', 'Trouser', 'Pullover', 'Dress', 'Coat',\n",
        "               'Sandal', 'Shirt', 'Sneaker', 'Bag', 'Ankle boot']"
      ],
      "execution_count": null,
      "outputs": []
    },
    {
      "cell_type": "code",
      "metadata": {
        "id": "-KE6Zev-450T",
        "outputId": "2294e0b4-56d2-42a6-b97b-8e14fc3d09c6",
        "colab": {
          "base_uri": "https://localhost:8080/",
          "height": 553
        }
      },
      "source": [
        "fig,ax = plt.subplots(2,5,figsize=(20,10))\n",
        "j = 0\n",
        "for c in enumerate(class_names):\n",
        "  idx = [i for i,v in enumerate(y_train) if c[0] == v][0]\n",
        "  row,col = j, c[0] % 5  \n",
        "  ax[row,col].imshow(X_train[idx])\n",
        "  ax[row,col].set_title(c[1])\n",
        "  if c[0] % 5 == 4:\n",
        "    j = j + 1"
      ],
      "execution_count": null,
      "outputs": [
        {
          "output_type": "display_data",
          "data": {
            "image/png": "[encoded data removed]",
            "text/plain": [
              "<Figure size 1440x720 with 10 Axes>"
            ]
          },
          "metadata": {
            "tags": [],
            "needs_background": "light"
          }
        }
      ]
    },
    {
      "cell_type": "markdown",
      "metadata": {
        "id": "gHzrJdf994YQ"
      },
      "source": [
        "Print the shapes of train and test data"
      ]
    },
    {
      "cell_type": "code",
      "metadata": {
        "id": "dtdl7u5E937w",
        "outputId": "a5f555b8-0019-48f8-8df6-aadcc27b32fe",
        "colab": {
          "base_uri": "https://localhost:8080/",
          "height": 90
        }
      },
      "source": [
        "print(\"Train Feature Shape:\",X_train.shape)\n",
        "print(\"Train Label Shape:\",y_train.shape)\n",
        "print(\"Test Feature Shape:\",X_test.shape)\n",
        "print(\"Test Label Shape:\",y_test.shape)"
      ],
      "execution_count": null,
      "outputs": [
        {
          "output_type": "stream",
          "text": [
            "Train Feature Shape: (60000, 28, 28)\n",
            "Train Label Shape: (60000,)\n",
            "Test Feature Shape: (10000, 28, 28)\n",
            "Test Label Shape: (10000,)\n"
          ],
          "name": "stdout"
        }
      ]
    },
    {
      "cell_type": "markdown",
      "metadata": {
        "id": "Ymy9k17o-RJo"
      },
      "source": [
        "## Data Pre-processing "
      ]
    },
    {
      "cell_type": "markdown",
      "metadata": {
        "id": "3itsB5cl-UDg"
      },
      "source": [
        "Bring the train and test data in the required format"
      ]
    },
    {
      "cell_type": "code",
      "metadata": {
        "id": "uY10X1AO0ONB"
      },
      "source": [
        "# Normalize the data\n",
        "X_train = X_train.reshape((60000, 28*28))    # reshape the input set to size 28*28. VEctor of length 784\n",
        "X_train = X_train.astype('float32')/255      # normalize to grayscale; set datatype as float32\n",
        "\n",
        "X_test = X_test.reshape((10000, 28*28))      # reshape the input set to size 28*28. \n",
        "X_test = X_test.astype('float32')/255        # normalize to grayscale; set datatype as float32\n",
        "\n",
        "y_train_enc = tf.keras.utils.to_categorical(y_train)\n",
        "y_test_enc = tf.keras.utils.to_categorical(y_test)"
      ],
      "execution_count": null,
      "outputs": []
    },
    {
      "cell_type": "code",
      "metadata": {
        "id": "s5UDUzOFAAo2",
        "outputId": "adf22a8e-9616-4c04-916e-419584176359",
        "colab": {
          "base_uri": "https://localhost:8080/",
          "height": 90
        }
      },
      "source": [
        "#Shapes after reshaping & normalizing\n",
        "print(\"Train Feature Shape:\",X_train.shape)\n",
        "print(\"Train Label Shape:\",y_train.shape)\n",
        "print(\"Test Feature Shape:\",X_test.shape)\n",
        "print(\"Test Label Shape:\",y_test.shape)"
      ],
      "execution_count": null,
      "outputs": [
        {
          "output_type": "stream",
          "text": [
            "Train Feature Shape: (60000, 784)\n",
            "Train Label Shape: (60000,)\n",
            "Test Feature Shape: (10000, 784)\n",
            "Test Label Shape: (10000,)\n"
          ],
          "name": "stdout"
        }
      ]
    },
    {
      "cell_type": "markdown",
      "metadata": {
        "id": "1cSwk7R0BYeI"
      },
      "source": [
        "## Model Building "
      ]
    },
    {
      "cell_type": "markdown",
      "metadata": {
        "id": "ZKRYn2v4Beuc"
      },
      "source": [
        "a.    Sequential Model layers- Use AT LEAST 3 dense layers with appropriate input for each. Choose the best number for hidden units and give reasons.<br>\n",
        "b.   Add L2 regularization to all the layers.<br>\n",
        "c.    Add one layer of dropout at the appropriate position and give reasons. <br>d.   Choose the appropriate activation function for all the layers.<br>\n",
        "e.   Print the model summary\n"
      ]
    },
    {
      "cell_type": "code",
      "metadata": {
        "id": "zGOR5i2gAISD",
        "outputId": "257a5030-a4f5-4c29-931e-e43b91a8a6d3",
        "colab": {
          "base_uri": "https://localhost:8080/",
          "height": 345
        }
      },
      "source": [
        "model = keras.models.Sequential()\n",
        "\n",
        "# Layer 1 = input layer\n",
        "# specify the input size for in the first layer.\n",
        "\n",
        "model.add(keras.layers.Dense(512, activation='relu', input_shape= (28*28,)))\n",
        "\n",
        "# Layer 2 = hidden layer  with Regularizers\n",
        "model.add(keras.layers.Dense(256, activation='relu', kernel_regularizer=keras.regularizers.l2(0.01),\n",
        "                activity_regularizer=keras.regularizers.l2(0.01)) )\n",
        "\n",
        "# Add dropout of 50% to layer 2\n",
        "model.add(keras.layers.Dropout(0.5))\n",
        "\n",
        "# Layer 3 = hidden layer \n",
        "model.add(keras.layers.Dense(128, activation='relu', kernel_regularizer=keras.regularizers.l2(0.01),\n",
        "                activity_regularizer=keras.regularizers.l2(0.01)) )\n",
        "\n",
        "# Layer 4 = hidden layer \n",
        "model.add(keras.layers.Dense(64, activation='relu', kernel_regularizer=keras.regularizers.l2(0.01),\n",
        "                activity_regularizer=keras.regularizers.l2(0.01)) )\n",
        "\n",
        "# Layer 4 = output layer\n",
        "model.add(keras.layers.Dense(10, activation='softmax'))\n",
        "\n",
        "model.summary()"
      ],
      "execution_count": null,
      "outputs": [
        {
          "output_type": "stream",
          "text": [
            "Model: \"sequential\"\n",
            "_________________________________________________________________\n",
            "Layer (type)                 Output Shape              Param #   \n",
            "=================================================================\n",
            "dense (Dense)                (None, 512)               401920    \n",
            "_________________________________________________________________\n",
            "dense_1 (Dense)              (None, 300)               153900    \n",
            "_________________________________________________________________\n",
            "dropout (Dropout)            (None, 300)               0         \n",
            "_________________________________________________________________\n",
            "dense_2 (Dense)              (None, 64)                19264     \n",
            "_________________________________________________________________\n",
            "dense_3 (Dense)              (None, 10)                650       \n",
            "=================================================================\n",
            "Total params: 575,734\n",
            "Trainable params: 575,734\n",
            "Non-trainable params: 0\n",
            "_________________________________________________________________\n"
          ],
          "name": "stdout"
        }
      ]
    },
    {
      "cell_type": "markdown",
      "metadata": {
        "id": "zevuXU4IoaCX"
      },
      "source": [
        "**Choose the best number for hidden units and give reasons.**<br>\n",
        "1.The number of hidden neurons should be between the size of the input layer and the size of the output layer.<br>\n",
        "2.The number of hidden neurons should be 2/3 the size of the input layer, plus the size of the output layer.<br>\n",
        "3.The number of hidden neurons should be less than twice the size of the input layer.<br>\n",
        "\n",
        "Reference : [Link](https://www.heatonresearch.com/2017/06/01/hidden-layers.html)\n",
        "\n",
        "<br>\n",
        "\n",
        "**Updated the Hidden Layers and Hidden Units**"
      ]
    },
    {
      "cell_type": "markdown",
      "metadata": {
        "id": "9miE-oRDCpQH"
      },
      "source": [
        "## Model Compilation "
      ]
    },
    {
      "cell_type": "markdown",
      "metadata": {
        "id": "lQdmgbauDjJY"
      },
      "source": [
        "a.Compile the model with the appropriate loss function. - **categorical_crossentropy** - multiclass classification<br>\n",
        "b.Use an appropriate optimizer - **Adam**.<br>\n",
        "c.Use **accuracy** as metric."
      ]
    },
    {
      "cell_type": "code",
      "metadata": {
        "id": "dnGSp7T9Bq8G"
      },
      "source": [
        "model.compile(optimizer=tf.keras.optimizers.Adam(learning_rate=0.001,name='Adam'),\n",
        "              loss = 'categorical_crossentropy', \n",
        "              metrics=['accuracy'] )"
      ],
      "execution_count": null,
      "outputs": []
    },
    {
      "cell_type": "markdown",
      "metadata": {
        "id": "1re7ENXskQLi"
      },
      "source": [
        "**Give reasons for the choice of learning rate and its value**<br>\n",
        "Learning rate of 0.001 is choosen, because too high would rollover the minima and I have tried giving the higher learning rate like 0.4, 0.2, 0.1, 0.01 the loss doesn't seem to converge to minima, so decided to lower the learning rate further so that weight update is minimum and proceeds towards the convergence or global minima "
      ]
    },
    {
      "cell_type": "markdown",
      "metadata": {
        "id": "Xc53v450EHvg"
      },
      "source": [
        "##Model Training "
      ]
    },
    {
      "cell_type": "code",
      "metadata": {
        "id": "pq6Bj-WrD0Qa",
        "outputId": "266ff795-6cb4-4f3f-9309-c4a3413603e9",
        "colab": {
          "base_uri": "https://localhost:8080/",
          "height": 1000
        }
      },
      "source": [
        "start_train = time.time()\n",
        "history = model.fit(X_train,\n",
        "                    y_train_enc,\n",
        "                    epochs=100,\n",
        "                    batch_size=1000,\n",
        "                    validation_split=0.2,\n",
        "                    verbose=1)\n",
        "end_train = time.time()"
      ],
      "execution_count": null,
      "outputs": [
        {
          "output_type": "stream",
          "text": [
            "Epoch 1/100\n",
            "48/48 [==============================] - 1s 14ms/step - loss: 4.2822 - accuracy: 0.6782 - val_loss: 2.3739 - val_accuracy: 0.8086\n",
            "Epoch 2/100\n",
            "48/48 [==============================] - 0s 10ms/step - loss: 1.7351 - accuracy: 0.8239 - val_loss: 1.2316 - val_accuracy: 0.8445\n",
            "Epoch 3/100\n",
            "48/48 [==============================] - 0s 10ms/step - loss: 1.0818 - accuracy: 0.8461 - val_loss: 0.9213 - val_accuracy: 0.8537\n",
            "Epoch 4/100\n",
            "48/48 [==============================] - 0s 9ms/step - loss: 0.8703 - accuracy: 0.8582 - val_loss: 0.7936 - val_accuracy: 0.8620\n",
            "Epoch 5/100\n",
            "48/48 [==============================] - 0s 10ms/step - loss: 0.7748 - accuracy: 0.8666 - val_loss: 0.7252 - val_accuracy: 0.8688\n",
            "Epoch 6/100\n",
            "48/48 [==============================] - 0s 9ms/step - loss: 0.7178 - accuracy: 0.8712 - val_loss: 0.6847 - val_accuracy: 0.8717\n",
            "Epoch 7/100\n",
            "48/48 [==============================] - 0s 9ms/step - loss: 0.6771 - accuracy: 0.8766 - val_loss: 0.6578 - val_accuracy: 0.8735\n",
            "Epoch 8/100\n",
            "48/48 [==============================] - 0s 10ms/step - loss: 0.6449 - accuracy: 0.8800 - val_loss: 0.6280 - val_accuracy: 0.8784\n",
            "Epoch 9/100\n",
            "48/48 [==============================] - 0s 10ms/step - loss: 0.6202 - accuracy: 0.8845 - val_loss: 0.6097 - val_accuracy: 0.8777\n",
            "Epoch 10/100\n",
            "48/48 [==============================] - 0s 10ms/step - loss: 0.5954 - accuracy: 0.8895 - val_loss: 0.6033 - val_accuracy: 0.8751\n",
            "Epoch 11/100\n",
            "48/48 [==============================] - 0s 9ms/step - loss: 0.5790 - accuracy: 0.8900 - val_loss: 0.5729 - val_accuracy: 0.8852\n",
            "Epoch 12/100\n",
            "48/48 [==============================] - 0s 9ms/step - loss: 0.5615 - accuracy: 0.8931 - val_loss: 0.5735 - val_accuracy: 0.8823\n",
            "Epoch 13/100\n",
            "48/48 [==============================] - 0s 9ms/step - loss: 0.5524 - accuracy: 0.8943 - val_loss: 0.5601 - val_accuracy: 0.8848\n",
            "Epoch 14/100\n",
            "48/48 [==============================] - 0s 9ms/step - loss: 0.5373 - accuracy: 0.8954 - val_loss: 0.5516 - val_accuracy: 0.8842\n",
            "Epoch 15/100\n",
            "48/48 [==============================] - 0s 9ms/step - loss: 0.5261 - accuracy: 0.8975 - val_loss: 0.5358 - val_accuracy: 0.8879\n",
            "Epoch 16/100\n",
            "48/48 [==============================] - 0s 10ms/step - loss: 0.5121 - accuracy: 0.9002 - val_loss: 0.5288 - val_accuracy: 0.8881\n",
            "Epoch 17/100\n",
            "48/48 [==============================] - 0s 9ms/step - loss: 0.5035 - accuracy: 0.9019 - val_loss: 0.5194 - val_accuracy: 0.8916\n",
            "Epoch 18/100\n",
            "48/48 [==============================] - 0s 9ms/step - loss: 0.4909 - accuracy: 0.9054 - val_loss: 0.5119 - val_accuracy: 0.8897\n",
            "Epoch 19/100\n",
            "48/48 [==============================] - 0s 9ms/step - loss: 0.4830 - accuracy: 0.9056 - val_loss: 0.5139 - val_accuracy: 0.8872\n",
            "Epoch 20/100\n",
            "48/48 [==============================] - 0s 10ms/step - loss: 0.4748 - accuracy: 0.9072 - val_loss: 0.5033 - val_accuracy: 0.8928\n",
            "Epoch 21/100\n",
            "48/48 [==============================] - 0s 10ms/step - loss: 0.4639 - accuracy: 0.9109 - val_loss: 0.4977 - val_accuracy: 0.8924\n",
            "Epoch 22/100\n",
            "48/48 [==============================] - 0s 9ms/step - loss: 0.4594 - accuracy: 0.9110 - val_loss: 0.5053 - val_accuracy: 0.8888\n",
            "Epoch 23/100\n",
            "48/48 [==============================] - 0s 10ms/step - loss: 0.4483 - accuracy: 0.9122 - val_loss: 0.4946 - val_accuracy: 0.8890\n",
            "Epoch 24/100\n",
            "48/48 [==============================] - 0s 9ms/step - loss: 0.4453 - accuracy: 0.9138 - val_loss: 0.4910 - val_accuracy: 0.8903\n",
            "Epoch 25/100\n",
            "48/48 [==============================] - 0s 9ms/step - loss: 0.4371 - accuracy: 0.9152 - val_loss: 0.4803 - val_accuracy: 0.8925\n",
            "Epoch 26/100\n",
            "48/48 [==============================] - 0s 10ms/step - loss: 0.4296 - accuracy: 0.9177 - val_loss: 0.4825 - val_accuracy: 0.8912\n",
            "Epoch 27/100\n",
            "48/48 [==============================] - 0s 9ms/step - loss: 0.4262 - accuracy: 0.9181 - val_loss: 0.4844 - val_accuracy: 0.8878\n",
            "Epoch 28/100\n",
            "48/48 [==============================] - 0s 10ms/step - loss: 0.4172 - accuracy: 0.9208 - val_loss: 0.4644 - val_accuracy: 0.8958\n",
            "Epoch 29/100\n",
            "48/48 [==============================] - 0s 9ms/step - loss: 0.4155 - accuracy: 0.9193 - val_loss: 0.4726 - val_accuracy: 0.8932\n",
            "Epoch 30/100\n",
            "48/48 [==============================] - 0s 10ms/step - loss: 0.4072 - accuracy: 0.9216 - val_loss: 0.4618 - val_accuracy: 0.8963\n",
            "Epoch 31/100\n",
            "48/48 [==============================] - 0s 9ms/step - loss: 0.4006 - accuracy: 0.9244 - val_loss: 0.4602 - val_accuracy: 0.8969\n",
            "Epoch 32/100\n",
            "48/48 [==============================] - 0s 9ms/step - loss: 0.3973 - accuracy: 0.9240 - val_loss: 0.4589 - val_accuracy: 0.8958\n",
            "Epoch 33/100\n",
            "48/48 [==============================] - 0s 9ms/step - loss: 0.3920 - accuracy: 0.9253 - val_loss: 0.4630 - val_accuracy: 0.8933\n",
            "Epoch 34/100\n",
            "48/48 [==============================] - 0s 9ms/step - loss: 0.3926 - accuracy: 0.9249 - val_loss: 0.4631 - val_accuracy: 0.8943\n",
            "Epoch 35/100\n",
            "48/48 [==============================] - 0s 10ms/step - loss: 0.3805 - accuracy: 0.9291 - val_loss: 0.4521 - val_accuracy: 0.8950\n",
            "Epoch 36/100\n",
            "48/48 [==============================] - 0s 10ms/step - loss: 0.3753 - accuracy: 0.9287 - val_loss: 0.4519 - val_accuracy: 0.8961\n",
            "Epoch 37/100\n",
            "48/48 [==============================] - 0s 9ms/step - loss: 0.3684 - accuracy: 0.9321 - val_loss: 0.4560 - val_accuracy: 0.8927\n",
            "Epoch 38/100\n",
            "48/48 [==============================] - 0s 10ms/step - loss: 0.3660 - accuracy: 0.9326 - val_loss: 0.4487 - val_accuracy: 0.8962\n",
            "Epoch 39/100\n",
            "48/48 [==============================] - 0s 9ms/step - loss: 0.3753 - accuracy: 0.9282 - val_loss: 0.4469 - val_accuracy: 0.8968\n",
            "Epoch 40/100\n",
            "48/48 [==============================] - 0s 10ms/step - loss: 0.3610 - accuracy: 0.9329 - val_loss: 0.4533 - val_accuracy: 0.8923\n",
            "Epoch 41/100\n",
            "48/48 [==============================] - 0s 9ms/step - loss: 0.3536 - accuracy: 0.9344 - val_loss: 0.4423 - val_accuracy: 0.8981\n",
            "Epoch 42/100\n",
            "48/48 [==============================] - 0s 10ms/step - loss: 0.3523 - accuracy: 0.9355 - val_loss: 0.4404 - val_accuracy: 0.8984\n",
            "Epoch 43/100\n",
            "48/48 [==============================] - 0s 10ms/step - loss: 0.3483 - accuracy: 0.9363 - val_loss: 0.4371 - val_accuracy: 0.8982\n",
            "Epoch 44/100\n",
            "48/48 [==============================] - 0s 10ms/step - loss: 0.3446 - accuracy: 0.9370 - val_loss: 0.4333 - val_accuracy: 0.8979\n",
            "Epoch 45/100\n",
            "48/48 [==============================] - 0s 10ms/step - loss: 0.3395 - accuracy: 0.9394 - val_loss: 0.4337 - val_accuracy: 0.8978\n",
            "Epoch 46/100\n",
            "48/48 [==============================] - 0s 10ms/step - loss: 0.3365 - accuracy: 0.9400 - val_loss: 0.4448 - val_accuracy: 0.8933\n",
            "Epoch 47/100\n",
            "48/48 [==============================] - 0s 9ms/step - loss: 0.3359 - accuracy: 0.9385 - val_loss: 0.4382 - val_accuracy: 0.8932\n",
            "Epoch 48/100\n",
            "48/48 [==============================] - 0s 9ms/step - loss: 0.3253 - accuracy: 0.9424 - val_loss: 0.4348 - val_accuracy: 0.8981\n",
            "Epoch 49/100\n",
            "48/48 [==============================] - 0s 9ms/step - loss: 0.3218 - accuracy: 0.9431 - val_loss: 0.4364 - val_accuracy: 0.8982\n",
            "Epoch 50/100\n",
            "48/48 [==============================] - 0s 10ms/step - loss: 0.3175 - accuracy: 0.9461 - val_loss: 0.4367 - val_accuracy: 0.8971\n",
            "Epoch 51/100\n",
            "48/48 [==============================] - 0s 9ms/step - loss: 0.3158 - accuracy: 0.9457 - val_loss: 0.4226 - val_accuracy: 0.8988\n",
            "Epoch 52/100\n",
            "48/48 [==============================] - 0s 10ms/step - loss: 0.3094 - accuracy: 0.9476 - val_loss: 0.4226 - val_accuracy: 0.9006\n",
            "Epoch 53/100\n",
            "48/48 [==============================] - 0s 10ms/step - loss: 0.3093 - accuracy: 0.9464 - val_loss: 0.4300 - val_accuracy: 0.8986\n",
            "Epoch 54/100\n",
            "48/48 [==============================] - 0s 9ms/step - loss: 0.3086 - accuracy: 0.9474 - val_loss: 0.4261 - val_accuracy: 0.8975\n",
            "Epoch 55/100\n",
            "48/48 [==============================] - 0s 9ms/step - loss: 0.3058 - accuracy: 0.9473 - val_loss: 0.4262 - val_accuracy: 0.8988\n",
            "Epoch 56/100\n",
            "48/48 [==============================] - 0s 10ms/step - loss: 0.3005 - accuracy: 0.9495 - val_loss: 0.4316 - val_accuracy: 0.8978\n",
            "Epoch 57/100\n",
            "48/48 [==============================] - 0s 9ms/step - loss: 0.3005 - accuracy: 0.9486 - val_loss: 0.4255 - val_accuracy: 0.8983\n",
            "Epoch 58/100\n",
            "48/48 [==============================] - 0s 10ms/step - loss: 0.2933 - accuracy: 0.9516 - val_loss: 0.4278 - val_accuracy: 0.8989\n",
            "Epoch 59/100\n",
            "48/48 [==============================] - 0s 9ms/step - loss: 0.2923 - accuracy: 0.9513 - val_loss: 0.4308 - val_accuracy: 0.8968\n",
            "Epoch 60/100\n",
            "48/48 [==============================] - 0s 9ms/step - loss: 0.2868 - accuracy: 0.9526 - val_loss: 0.4260 - val_accuracy: 0.8979\n",
            "Epoch 61/100\n",
            "48/48 [==============================] - 0s 9ms/step - loss: 0.2851 - accuracy: 0.9537 - val_loss: 0.4279 - val_accuracy: 0.8965\n",
            "Epoch 62/100\n",
            "48/48 [==============================] - 0s 10ms/step - loss: 0.2849 - accuracy: 0.9536 - val_loss: 0.4333 - val_accuracy: 0.8965\n",
            "Epoch 63/100\n",
            "48/48 [==============================] - 0s 9ms/step - loss: 0.2818 - accuracy: 0.9547 - val_loss: 0.4217 - val_accuracy: 0.8997\n",
            "Epoch 64/100\n",
            "48/48 [==============================] - 0s 10ms/step - loss: 0.2785 - accuracy: 0.9553 - val_loss: 0.4252 - val_accuracy: 0.8975\n",
            "Epoch 65/100\n",
            "48/48 [==============================] - 0s 9ms/step - loss: 0.2747 - accuracy: 0.9562 - val_loss: 0.4314 - val_accuracy: 0.8974\n",
            "Epoch 66/100\n",
            "48/48 [==============================] - 0s 10ms/step - loss: 0.2708 - accuracy: 0.9579 - val_loss: 0.4327 - val_accuracy: 0.8971\n",
            "Epoch 67/100\n",
            "48/48 [==============================] - 0s 10ms/step - loss: 0.2674 - accuracy: 0.9578 - val_loss: 0.4165 - val_accuracy: 0.9012\n",
            "Epoch 68/100\n",
            "48/48 [==============================] - 0s 10ms/step - loss: 0.2622 - accuracy: 0.9606 - val_loss: 0.4314 - val_accuracy: 0.8957\n",
            "Epoch 69/100\n",
            "48/48 [==============================] - 0s 9ms/step - loss: 0.2622 - accuracy: 0.9589 - val_loss: 0.4238 - val_accuracy: 0.8978\n",
            "Epoch 70/100\n",
            "48/48 [==============================] - 0s 10ms/step - loss: 0.2627 - accuracy: 0.9588 - val_loss: 0.4266 - val_accuracy: 0.8984\n",
            "Epoch 71/100\n",
            "48/48 [==============================] - 0s 9ms/step - loss: 0.2570 - accuracy: 0.9607 - val_loss: 0.4314 - val_accuracy: 0.8971\n",
            "Epoch 72/100\n",
            "48/48 [==============================] - 0s 9ms/step - loss: 0.2554 - accuracy: 0.9620 - val_loss: 0.4218 - val_accuracy: 0.8982\n",
            "Epoch 73/100\n",
            "48/48 [==============================] - 0s 9ms/step - loss: 0.2560 - accuracy: 0.9599 - val_loss: 0.4259 - val_accuracy: 0.8983\n",
            "Epoch 74/100\n",
            "48/48 [==============================] - 0s 9ms/step - loss: 0.2493 - accuracy: 0.9633 - val_loss: 0.4178 - val_accuracy: 0.9010\n",
            "Epoch 75/100\n",
            "48/48 [==============================] - 0s 10ms/step - loss: 0.2430 - accuracy: 0.9658 - val_loss: 0.4256 - val_accuracy: 0.8978\n",
            "Epoch 76/100\n",
            "48/48 [==============================] - 0s 10ms/step - loss: 0.2426 - accuracy: 0.9651 - val_loss: 0.4148 - val_accuracy: 0.9019\n",
            "Epoch 77/100\n",
            "48/48 [==============================] - 0s 10ms/step - loss: 0.2457 - accuracy: 0.9624 - val_loss: 0.4216 - val_accuracy: 0.9007\n",
            "Epoch 78/100\n",
            "48/48 [==============================] - 0s 9ms/step - loss: 0.2402 - accuracy: 0.9656 - val_loss: 0.4174 - val_accuracy: 0.8992\n",
            "Epoch 79/100\n",
            "48/48 [==============================] - 0s 9ms/step - loss: 0.2393 - accuracy: 0.9649 - val_loss: 0.4309 - val_accuracy: 0.8987\n",
            "Epoch 80/100\n",
            "48/48 [==============================] - 0s 10ms/step - loss: 0.2318 - accuracy: 0.9689 - val_loss: 0.4229 - val_accuracy: 0.9000\n",
            "Epoch 81/100\n",
            "48/48 [==============================] - 0s 10ms/step - loss: 0.2356 - accuracy: 0.9659 - val_loss: 0.4256 - val_accuracy: 0.8969\n",
            "Epoch 82/100\n",
            "48/48 [==============================] - 0s 10ms/step - loss: 0.2316 - accuracy: 0.9673 - val_loss: 0.4170 - val_accuracy: 0.9005\n",
            "Epoch 83/100\n",
            "48/48 [==============================] - 0s 9ms/step - loss: 0.2245 - accuracy: 0.9702 - val_loss: 0.4214 - val_accuracy: 0.8992\n",
            "Epoch 84/100\n",
            "48/48 [==============================] - 0s 9ms/step - loss: 0.2309 - accuracy: 0.9675 - val_loss: 0.4347 - val_accuracy: 0.8963\n",
            "Epoch 85/100\n",
            "48/48 [==============================] - 0s 10ms/step - loss: 0.2217 - accuracy: 0.9712 - val_loss: 0.4348 - val_accuracy: 0.8954\n",
            "Epoch 86/100\n",
            "48/48 [==============================] - 0s 10ms/step - loss: 0.2221 - accuracy: 0.9702 - val_loss: 0.4293 - val_accuracy: 0.8978\n",
            "Epoch 87/100\n",
            "48/48 [==============================] - 0s 10ms/step - loss: 0.2169 - accuracy: 0.9721 - val_loss: 0.4349 - val_accuracy: 0.8965\n",
            "Epoch 88/100\n",
            "48/48 [==============================] - 0s 10ms/step - loss: 0.2157 - accuracy: 0.9717 - val_loss: 0.4179 - val_accuracy: 0.9003\n",
            "Epoch 89/100\n",
            "48/48 [==============================] - 0s 10ms/step - loss: 0.2129 - accuracy: 0.9729 - val_loss: 0.4273 - val_accuracy: 0.8994\n",
            "Epoch 90/100\n",
            "48/48 [==============================] - 0s 10ms/step - loss: 0.2137 - accuracy: 0.9732 - val_loss: 0.4232 - val_accuracy: 0.8972\n",
            "Epoch 91/100\n",
            "48/48 [==============================] - 0s 10ms/step - loss: 0.2134 - accuracy: 0.9725 - val_loss: 0.4277 - val_accuracy: 0.8984\n",
            "Epoch 92/100\n",
            "48/48 [==============================] - 0s 10ms/step - loss: 0.2126 - accuracy: 0.9720 - val_loss: 0.4246 - val_accuracy: 0.8966\n",
            "Epoch 93/100\n",
            "48/48 [==============================] - 0s 9ms/step - loss: 0.2097 - accuracy: 0.9727 - val_loss: 0.4281 - val_accuracy: 0.8979\n",
            "Epoch 94/100\n",
            "48/48 [==============================] - 0s 10ms/step - loss: 0.2098 - accuracy: 0.9725 - val_loss: 0.4220 - val_accuracy: 0.8982\n",
            "Epoch 95/100\n",
            "48/48 [==============================] - 0s 10ms/step - loss: 0.2054 - accuracy: 0.9739 - val_loss: 0.4304 - val_accuracy: 0.8988\n",
            "Epoch 96/100\n",
            "48/48 [==============================] - 0s 10ms/step - loss: 0.1996 - accuracy: 0.9763 - val_loss: 0.4199 - val_accuracy: 0.9019\n",
            "Epoch 97/100\n",
            "48/48 [==============================] - 0s 10ms/step - loss: 0.1985 - accuracy: 0.9769 - val_loss: 0.4264 - val_accuracy: 0.8990\n",
            "Epoch 98/100\n",
            "48/48 [==============================] - 0s 10ms/step - loss: 0.1950 - accuracy: 0.9776 - val_loss: 0.4204 - val_accuracy: 0.8998\n",
            "Epoch 99/100\n",
            "48/48 [==============================] - 0s 10ms/step - loss: 0.1953 - accuracy: 0.9761 - val_loss: 0.4255 - val_accuracy: 0.8980\n",
            "Epoch 100/100\n",
            "48/48 [==============================] - 0s 10ms/step - loss: 0.1965 - accuracy: 0.9766 - val_loss: 0.4268 - val_accuracy: 0.8985\n"
          ],
          "name": "stdout"
        }
      ]
    },
    {
      "cell_type": "markdown",
      "metadata": {
        "id": "5MqvD05-pFUd"
      },
      "source": [
        "Print the total time taken for training"
      ]
    },
    {
      "cell_type": "code",
      "metadata": {
        "id": "bMhNqDblpGNF",
        "outputId": "fe79a175-d4b1-403e-d1c0-91c93b034174",
        "colab": {
          "base_uri": "https://localhost:8080/",
          "height": 35
        }
      },
      "source": [
        "#Time taken to train\n",
        "print(\"Time taken to train the NN:\",end_train - start_train,\" seconds\")"
      ],
      "execution_count": null,
      "outputs": [
        {
          "output_type": "stream",
          "text": [
            "Time taken to train the NN: 47.9584424495697  seconds\n"
          ],
          "name": "stdout"
        }
      ]
    },
    {
      "cell_type": "markdown",
      "metadata": {
        "id": "qbx2RIECEjz5"
      },
      "source": [
        "Plot the loss and accuracy history graphs"
      ]
    },
    {
      "cell_type": "code",
      "metadata": {
        "id": "Q-kyFEc_CxDn",
        "outputId": "efd3e2b1-141b-42c4-8c02-78bef192db44",
        "colab": {
          "base_uri": "https://localhost:8080/",
          "height": 368
        }
      },
      "source": [
        "history_dict = history.history\n",
        "print(history_dict.keys())\n",
        "\n",
        "acc = history_dict['accuracy']\n",
        "val_acc = history_dict['val_accuracy']\n",
        "loss = history_dict['loss']\n",
        "val_loss = history_dict['val_loss']\n",
        "\n",
        "epochs = range(1, len(acc) + 1)\n",
        "\n",
        "fix,ax = plt.subplots(1,2, figsize=(15,5))\n",
        "ax1 = ax[0] # to plot Training Loss\n",
        "ax2 = ax[1] # to plot Training Accuracy\n",
        "ax1.plot(epochs, loss, label='Training loss')\n",
        "ax1.plot(epochs, val_loss,  label='Validation loss')\n",
        "ax1.set_title('Training and validation loss')\n",
        "ax1.set_xlabel('Epochs')\n",
        "ax1.set_ylabel('Loss')\n",
        "ax1.legend()\n",
        "\n",
        "ax2.plot(epochs, acc, label='Training acc')\n",
        "ax2.plot(epochs, val_acc,  label='Validation acc')\n",
        "ax2.set_title('Training and validation accuracy')\n",
        "ax2.set_xlabel('Epochs')\n",
        "ax2.set_ylabel('Accuracy')\n",
        "ax2.legend()\n",
        "\n",
        "plt.show()"
      ],
      "execution_count": null,
      "outputs": [
        {
          "output_type": "stream",
          "text": [
            "dict_keys(['loss', 'accuracy', 'val_loss', 'val_accuracy'])\n"
          ],
          "name": "stdout"
        },
        {
          "output_type": "display_data",
          "data": {
            "image/png": "[encoded data removed]",
            "text/plain": [
              "<Figure size 1080x360 with 2 Axes>"
            ]
          },
          "metadata": {
            "tags": [],
            "needs_background": "light"
          }
        }
      ]
    },
    {
      "cell_type": "markdown",
      "metadata": {
        "id": "vxY89a0BE663"
      },
      "source": [
        "## Model Evaluation "
      ]
    },
    {
      "cell_type": "markdown",
      "metadata": {
        "id": "fBbD3v6gFRM5"
      },
      "source": [
        "Print the final test/validation loss and accuracy"
      ]
    },
    {
      "cell_type": "code",
      "metadata": {
        "id": "zNZbNg94FRzJ",
        "outputId": "321e7d79-cd20-480a-c253-3be32fe61cde",
        "colab": {
          "base_uri": "https://localhost:8080/",
          "height": 72
        }
      },
      "source": [
        "results = model.evaluate(X_test, y_test_enc)\n",
        "\n",
        "print(\"Test Loss:\",results[0])\n",
        "print(\"Test Accuracy:\",results[1])"
      ],
      "execution_count": null,
      "outputs": [
        {
          "output_type": "stream",
          "text": [
            "313/313 [==============================] - 1s 4ms/step - loss: 0.4408 - accuracy: 0.8955\n",
            "Test Loss: 0.440830796957016\n",
            "Test Accuracy: 0.8955000042915344\n"
          ],
          "name": "stdout"
        }
      ]
    },
    {
      "cell_type": "code",
      "metadata": {
        "id": "bkWD3uxaF03a",
        "outputId": "2b65c35a-1c34-4abb-9dff-d5dfaa23ac12",
        "colab": {
          "base_uri": "https://localhost:8080/",
          "height": 92
        }
      },
      "source": [
        "#Predictions\n",
        "y_pred = model.predict_classes(X_test)"
      ],
      "execution_count": null,
      "outputs": [
        {
          "output_type": "stream",
          "text": [
            "WARNING:tensorflow:From <ipython-input-16-105f502b23c1>:2: Sequential.predict_classes (from tensorflow.python.keras.engine.sequential) is deprecated and will be removed after 2021-01-01.\n",
            "Instructions for updating:\n",
            "Please use instead:* `np.argmax(model.predict(x), axis=-1)`,   if your model does multi-class classification   (e.g. if it uses a `softmax` last-layer activation).* `(model.predict(x) > 0.5).astype(\"int32\")`,   if your model does binary classification   (e.g. if it uses a `sigmoid` last-layer activation).\n"
          ],
          "name": "stdout"
        }
      ]
    },
    {
      "cell_type": "markdown",
      "metadata": {
        "id": "5mc06YIYF6Uo"
      },
      "source": [
        "Confusion Matrix"
      ]
    },
    {
      "cell_type": "code",
      "metadata": {
        "id": "eUkqDHoCsyVZ",
        "outputId": "d86e805e-bfa9-4d8a-c030-606bc9fad119",
        "colab": {
          "base_uri": "https://localhost:8080/",
          "height": 235
        }
      },
      "source": [
        "df = pd.DataFrame({'y_test':y_test,'y_pred':y_pred})\n",
        "df.head()\n",
        "confusion_matrix = pd.crosstab(df['y_test'], df['y_pred'], rownames=['Actual'], colnames=['Predicted'])\n",
        "print(confusion_matrix)"
      ],
      "execution_count": null,
      "outputs": [
        {
          "output_type": "stream",
          "text": [
            "Predicted    0    1    2    3    4    5    6    7    8    9\n",
            "Actual                                                     \n",
            "0          801    4   14   32    4    0  141    0    4    0\n",
            "1            0  981    1   11    2    0    4    0    1    0\n",
            "2           18    2  832    8   64    0   74    0    2    0\n",
            "3           14    6   10  897   35    0   33    0    4    1\n",
            "4            1    1   79   33  817    0   65    0    4    0\n",
            "5            0    0    0    1    0  971    0   23    1    4\n",
            "6           81    2   62   31   52    0  764    0    8    0\n",
            "7            0    0    0    0    0    8    0  984    0    8\n",
            "8            2    1    3    5    3    2    4    4  976    0\n",
            "9            0    0    0    2    0    8    1   57    0  932\n"
          ],
          "name": "stdout"
        }
      ]
    },
    {
      "cell_type": "code",
      "metadata": {
        "id": "Yu0qeS1eF7DY",
        "outputId": "d6a7c458-10a1-47bc-bda8-1f11f8ffcd39",
        "colab": {
          "base_uri": "https://localhost:8080/",
          "height": 504
        }
      },
      "source": [
        "y_pred_cls = [class_names[v] for v in y_pred]\n",
        "y_test_cls= [class_names[v] for v in y_test]\n",
        "\n",
        "df = pd.DataFrame({'y_test':y_test_cls,'y_pred':y_pred_cls})\n",
        "df.head()\n",
        "confusion_matrix = pd.crosstab(df['y_test'], df['y_pred'], rownames=['Actual'], colnames=['Predicted'])\n",
        "# print(confusion_matrix)\n",
        "fig, ax = plt.subplots(figsize=(7,7))     \n",
        "sns.heatmap(confusion_matrix,annot=True,cmap='BuPu',fmt='d',ax=ax)"
      ],
      "execution_count": null,
      "outputs": [
        {
          "output_type": "execute_result",
          "data": {
            "text/plain": [
              "<matplotlib.axes._subplots.AxesSubplot at 0x7f8c41ef5a20>"
            ]
          },
          "metadata": {
            "tags": []
          },
          "execution_count": 18
        },
        {
          "output_type": "display_data",
          "data": {
            "image/png": "[encoded data removed]",
            "text/plain": [
              "<Figure size 504x504 with 2 Axes>"
            ]
          },
          "metadata": {
            "tags": [],
            "needs_background": "light"
          }
        }
      ]
    },
    {
      "cell_type": "markdown",
      "metadata": {
        "id": "5mWABB6OHdh6"
      },
      "source": [
        "Classification Report"
      ]
    },
    {
      "cell_type": "code",
      "metadata": {
        "id": "mgw9QBV-GDQY",
        "outputId": "52ec72ec-0edf-480e-8f48-255bd71ef5a8",
        "colab": {
          "base_uri": "https://localhost:8080/",
          "height": 326
        }
      },
      "source": [
        "print(classification_report(y_test,y_pred))"
      ],
      "execution_count": null,
      "outputs": [
        {
          "output_type": "stream",
          "text": [
            "              precision    recall  f1-score   support\n",
            "\n",
            "           0       0.87      0.80      0.84      1000\n",
            "           1       0.98      0.98      0.98      1000\n",
            "           2       0.83      0.83      0.83      1000\n",
            "           3       0.88      0.90      0.89      1000\n",
            "           4       0.84      0.82      0.83      1000\n",
            "           5       0.98      0.97      0.98      1000\n",
            "           6       0.70      0.76      0.73      1000\n",
            "           7       0.92      0.98      0.95      1000\n",
            "           8       0.98      0.98      0.98      1000\n",
            "           9       0.99      0.93      0.96      1000\n",
            "\n",
            "    accuracy                           0.90     10000\n",
            "   macro avg       0.90      0.90      0.90     10000\n",
            "weighted avg       0.90      0.90      0.90     10000\n",
            "\n"
          ],
          "name": "stdout"
        }
      ]
    },
    {
      "cell_type": "markdown",
      "metadata": {
        "id": "q2HKlGjW4b4_"
      },
      "source": [
        "Class 1,5,7,8,9"
      ]
    },
    {
      "cell_type": "code",
      "metadata": {
        "id": "-TujcRtB441Z",
        "outputId": "8d619d17-7ae5-442f-e244-681aed7fc6f5",
        "colab": {
          "base_uri": "https://localhost:8080/",
          "height": 126
        }
      },
      "source": [
        "[(i,c) for i,c in enumerate(class_names) if i in [1,6,5,7,8,9]]"
      ],
      "execution_count": null,
      "outputs": [
        {
          "output_type": "execute_result",
          "data": {
            "text/plain": [
              "[(1, 'Trouser'),\n",
              " (5, 'Sandal'),\n",
              " (6, 'Shirt'),\n",
              " (7, 'Sneaker'),\n",
              " (8, 'Bag'),\n",
              " (9, 'Ankle boot')]"
            ]
          },
          "metadata": {
            "tags": []
          },
          "execution_count": 23
        }
      ]
    },
    {
      "cell_type": "markdown",
      "metadata": {
        "id": "vC_eM6wa4PPe"
      },
      "source": [
        "**Write a summary for the best and worst performing class and the overall trend.**<br>\n",
        "Classes Trouser, Sandal, Sneaker, Bag and Ankle Boot are best performing classes compared to others from confusion matrix as well as from F1- Score, however some of it are performming better in this model, the worst one is Shirt because the T-Shirt and Shirt has lot of resemblance<br>\n",
        "**With respect to trend**<br>\n",
        "Even though the training loss is converging and training accuracy is increasing however validation attained its peak way before training in the epochs and saturated "
      ]
    },
    {
      "cell_type": "code",
      "metadata": {
        "id": "61sXBZV-F3D_"
      },
      "source": [
        ""
      ],
      "execution_count": null,
      "outputs": []
    },
    {
      "cell_type": "code",
      "metadata": {
        "id": "nlH_qGNPFMPu"
      },
      "source": [
        ""
      ],
      "execution_count": null,
      "outputs": []
    }
  ]
}