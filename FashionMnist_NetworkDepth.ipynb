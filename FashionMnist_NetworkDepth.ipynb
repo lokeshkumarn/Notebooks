{
  "nbformat": 4,
  "nbformat_minor": 0,
  "metadata": {
    "colab": {
      "name": "FashionMnist_NetworkDepth.ipynb",
      "provenance": [],
      "collapsed_sections": [],
      "authorship_tag": "ABX9TyO+g88IHj4Wg4ldb97hH0XH",
      "include_colab_link": true
    },
    "kernelspec": {
      "name": "python3",
      "display_name": "Python 3"
    },
    "accelerator": "GPU"
  },
  "cells": [
    {
      "cell_type": "markdown",
      "metadata": {
        "id": "view-in-github",
        "colab_type": "text"
      },
      "source": [
        "<a href=\"https://colab.research.google.com/github/lokeshkumarn/Notebooks/blob/master/FashionMnist_NetworkDepth.ipynb\" target=\"_parent\"><img src=\"https://colab.research.google.com/assets/colab-badge.svg\" alt=\"Open In Colab\"/></a>"
      ]
    },
    {
      "cell_type": "markdown",
      "metadata": {
        "id": "JD5tc8Rnz19H"
      },
      "source": [
        "## Import Libraries/Dataset"
      ]
    },
    {
      "cell_type": "markdown",
      "metadata": {
        "id": "Y0hvLOW-z5ZE"
      },
      "source": [
        "### Import Libraries"
      ]
    },
    {
      "cell_type": "code",
      "metadata": {
        "id": "kA0jIJ60zM80"
      },
      "source": [
        "import time\n",
        "import tensorflow as tf\n",
        "from tensorflow.python.client import device_lib\n",
        "from google.colab import drive\n",
        "\n",
        "import pandas as pd\n",
        "import numpy as np\n",
        "import random as rd\n",
        "\n",
        "from tensorflow import keras\n",
        "\n",
        "import tensorflow_hub as hub\n",
        "import tensorflow_datasets as tfds\n",
        "\n",
        "from sklearn.model_selection import train_test_split\n",
        "from sklearn.metrics import confusion_matrix,classification_report\n",
        "\n",
        "from matplotlib import pyplot as plt"
      ],
      "execution_count": null,
      "outputs": []
    },
    {
      "cell_type": "code",
      "metadata": {
        "id": "C83BzTAIz8Oy"
      },
      "source": [
        "rd.seed(2020)         # Initialize the random number generator.\n",
        "np.random.seed(2020)      # With the seed reset, the same set of numbers will appear every time. \n",
        "tf.random.set_seed(2020)  # sets the graph-level random seed"
      ],
      "execution_count": null,
      "outputs": []
    },
    {
      "cell_type": "markdown",
      "metadata": {
        "id": "4HbAJi9f0JDL"
      },
      "source": [
        "### Import Dataset"
      ]
    },
    {
      "cell_type": "markdown",
      "metadata": {
        "id": "kVG2N6vL0MUB"
      },
      "source": [
        "Load dataset from TF"
      ]
    },
    {
      "cell_type": "code",
      "metadata": {
        "id": "stoIQKhd31bP"
      },
      "source": [
        "fashion_mnist = tf.keras.datasets.fashion_mnist\n",
        "\n",
        "(X_train, y_train), (X_test, y_test) = fashion_mnist.load_data()"
      ],
      "execution_count": null,
      "outputs": []
    },
    {
      "cell_type": "markdown",
      "metadata": {
        "id": "Gx_7qt1J2jZA"
      },
      "source": [
        "### Check GPU"
      ]
    },
    {
      "cell_type": "code",
      "metadata": {
        "id": "9ee0VdCA2R3g",
        "outputId": "6cabfa32-2d4b-4956-f9ab-8a90d2dab02e",
        "colab": {
          "base_uri": "https://localhost:8080/",
          "height": 35
        }
      },
      "source": [
        "def get_available_gpus():\n",
        "    local_device_protos = device_lib.list_local_devices()\n",
        "    return [x.name for x in local_device_protos if x.device_type == 'GPU' ]\n",
        "\n",
        "gpu_lst = get_available_gpus()\n",
        "\n",
        "if(len(gpu_lst) > 0):\n",
        "  print(\"GPU Enabled\")\n",
        "else:\n",
        "  print(\"GPU Disabled\")"
      ],
      "execution_count": null,
      "outputs": [
        {
          "output_type": "stream",
          "text": [
            "GPU Enabled\n"
          ],
          "name": "stdout"
        }
      ]
    },
    {
      "cell_type": "markdown",
      "metadata": {
        "id": "HytT9m-122pU"
      },
      "source": [
        "## Data Visualization"
      ]
    },
    {
      "cell_type": "markdown",
      "metadata": {
        "id": "mi_EWfKs26So"
      },
      "source": [
        "Plot at least one sample from each class of the dataset "
      ]
    },
    {
      "cell_type": "code",
      "metadata": {
        "id": "gI1oUcz8447j"
      },
      "source": [
        "class_names = ['T-shirt_top', 'Trouser', 'Pullover', 'Dress', 'Coat',\n",
        "               'Sandal', 'Shirt', 'Sneaker', 'Bag', 'Ankle boot']"
      ],
      "execution_count": null,
      "outputs": []
    },
    {
      "cell_type": "code",
      "metadata": {
        "id": "-KE6Zev-450T",
        "outputId": "ecd2bba3-777d-4276-af0a-b286f2d69f89",
        "colab": {
          "base_uri": "https://localhost:8080/",
          "height": 553
        }
      },
      "source": [
        "fig,ax = plt.subplots(2,5,figsize=(20,10))\n",
        "j = 0\n",
        "for c in enumerate(class_names):\n",
        "  idx = [i for i,v in enumerate(y_train) if c[0] == v][0]\n",
        "  row,col = j, c[0] % 5  \n",
        "  ax[row,col].imshow(X_train[idx])\n",
        "  ax[row,col].set_title(c[1])\n",
        "  if c[0] % 5 == 4:\n",
        "    j = j + 1"
      ],
      "execution_count": null,
      "outputs": [
        {
          "output_type": "display_data",
          "data": {
            "image/png": "[encoded data removed]",
            "text/plain": [
              "<Figure size 1440x720 with 10 Axes>"
            ]
          },
          "metadata": {
            "tags": [],
            "needs_background": "light"
          }
        }
      ]
    },
    {
      "cell_type": "markdown",
      "metadata": {
        "id": "gHzrJdf994YQ"
      },
      "source": [
        "Print the shapes of train and test data"
      ]
    },
    {
      "cell_type": "code",
      "metadata": {
        "id": "dtdl7u5E937w",
        "outputId": "dc7efebc-d2b9-40a1-e7f9-5dd5b89be0e9",
        "colab": {
          "base_uri": "https://localhost:8080/",
          "height": 90
        }
      },
      "source": [
        "print(\"Train Feature Shape:\",X_train.shape)\n",
        "print(\"Train Label Shape:\",y_train.shape)\n",
        "print(\"Test Feature Shape:\",X_test.shape)\n",
        "print(\"Test Label Shape:\",y_test.shape)"
      ],
      "execution_count": null,
      "outputs": [
        {
          "output_type": "stream",
          "text": [
            "Train Feature Shape: (60000, 28, 28)\n",
            "Train Label Shape: (60000,)\n",
            "Test Feature Shape: (10000, 28, 28)\n",
            "Test Label Shape: (10000,)\n"
          ],
          "name": "stdout"
        }
      ]
    },
    {
      "cell_type": "markdown",
      "metadata": {
        "id": "Ymy9k17o-RJo"
      },
      "source": [
        "## Data Pre-processing "
      ]
    },
    {
      "cell_type": "markdown",
      "metadata": {
        "id": "3itsB5cl-UDg"
      },
      "source": [
        "Bring the train and test data in the required format"
      ]
    },
    {
      "cell_type": "code",
      "metadata": {
        "id": "uY10X1AO0ONB"
      },
      "source": [
        "# Normalize the data\n",
        "X_train = X_train.reshape((60000, 28*28))    # reshape the input set to size 28*28. VEctor of length 784\n",
        "X_train = X_train.astype('float32')/255      # normalize to grayscale; set datatype as float32\n",
        "\n",
        "X_test = X_test.reshape((10000, 28*28))      # reshape the input set to size 28*28. \n",
        "X_test = X_test.astype('float32')/255        # normalize to grayscale; set datatype as float32\n",
        "\n",
        "y_train_enc = tf.keras.utils.to_categorical(y_train)\n",
        "y_test_enc = tf.keras.utils.to_categorical(y_test)"
      ],
      "execution_count": null,
      "outputs": []
    },
    {
      "cell_type": "code",
      "metadata": {
        "id": "s5UDUzOFAAo2",
        "outputId": "043d421c-2bb4-4865-f60a-bdb4a5df5d06",
        "colab": {
          "base_uri": "https://localhost:8080/",
          "height": 90
        }
      },
      "source": [
        "#Shapes after reshaping & normalizing\n",
        "print(\"Train Feature Shape:\",X_train.shape)\n",
        "print(\"Train Label Shape:\",y_train.shape)\n",
        "print(\"Test Feature Shape:\",X_test.shape)\n",
        "print(\"Test Label Shape:\",y_test.shape)"
      ],
      "execution_count": null,
      "outputs": [
        {
          "output_type": "stream",
          "text": [
            "Train Feature Shape: (60000, 784)\n",
            "Train Label Shape: (60000,)\n",
            "Test Feature Shape: (10000, 784)\n",
            "Test Label Shape: (10000,)\n"
          ],
          "name": "stdout"
        }
      ]
    },
    {
      "cell_type": "markdown",
      "metadata": {
        "id": "1cSwk7R0BYeI"
      },
      "source": [
        "## Model Building "
      ]
    },
    {
      "cell_type": "markdown",
      "metadata": {
        "id": "ZKRYn2v4Beuc"
      },
      "source": [
        "a.    Sequential Model layers- Use AT LEAST 3 dense layers with appropriate input for each. Choose the best number for hidden units and give reasons.<br>\n",
        "b.   Add L2 regularization to all the layers.<br>\n",
        "c.    Add one layer of dropout at the appropriate position and give reasons. <br>d.   Choose the appropriate activation function for all the layers.<br>\n",
        "e.   Print the model summary\n"
      ]
    },
    {
      "cell_type": "code",
      "metadata": {
        "id": "zGOR5i2gAISD",
        "outputId": "05346cc8-dd7d-425b-a927-94157eb7e422",
        "colab": {
          "base_uri": "https://localhost:8080/",
          "height": 345
        }
      },
      "source": [
        "model = keras.models.Sequential()\n",
        "\n",
        "# Layer 1 = input layer\n",
        "# specify the input size for in the first layer.\n",
        "\n",
        "model.add(keras.layers.Dense(50, activation='relu', input_shape= (28*28,)))\n",
        "\n",
        "# Layer 2 = hidden layer  with Regularizers\n",
        "model.add(keras.layers.Dense(60, activation='relu', kernel_regularizer=keras.regularizers.l2(0.01),\n",
        "                activity_regularizer=keras.regularizers.l2(0.01)) )\n",
        "\n",
        "# Add dropout of 50% to layer 2\n",
        "model.add(keras.layers.Dropout(0.5))\n",
        "\n",
        "# Layer 3 = hidden layer \n",
        "model.add(keras.layers.Dense(30, activation='relu', kernel_regularizer=keras.regularizers.l2(0.01),\n",
        "                activity_regularizer=keras.regularizers.l2(0.01)) )\n",
        "\n",
        "# Layer 4 = output layer\n",
        "model.add(keras.layers.Dense(10, activation='softmax'))\n",
        "\n",
        "model.summary()"
      ],
      "execution_count": null,
      "outputs": [
        {
          "output_type": "stream",
          "text": [
            "Model: \"sequential\"\n",
            "_________________________________________________________________\n",
            "Layer (type)                 Output Shape              Param #   \n",
            "=================================================================\n",
            "dense (Dense)                (None, 50)                39250     \n",
            "_________________________________________________________________\n",
            "dense_1 (Dense)              (None, 60)                3060      \n",
            "_________________________________________________________________\n",
            "dropout (Dropout)            (None, 60)                0         \n",
            "_________________________________________________________________\n",
            "dense_2 (Dense)              (None, 30)                1830      \n",
            "_________________________________________________________________\n",
            "dense_3 (Dense)              (None, 10)                310       \n",
            "=================================================================\n",
            "Total params: 44,450\n",
            "Trainable params: 44,450\n",
            "Non-trainable params: 0\n",
            "_________________________________________________________________\n"
          ],
          "name": "stdout"
        }
      ]
    },
    {
      "cell_type": "markdown",
      "metadata": {
        "id": "9miE-oRDCpQH"
      },
      "source": [
        "## Model Compilation "
      ]
    },
    {
      "cell_type": "markdown",
      "metadata": {
        "id": "lQdmgbauDjJY"
      },
      "source": [
        "a.Compile the model with the appropriate loss function. - **categorical_crossentropy** - multiclass classification<br>\n",
        "b.Use an appropriate optimizer - **Adam**. Give reasons for the choice of learning rate and its value.<br>\n",
        "c.Use **accuracy** as metric."
      ]
    },
    {
      "cell_type": "code",
      "metadata": {
        "id": "dnGSp7T9Bq8G"
      },
      "source": [
        "model.compile( optimizer = 'adam', loss = 'categorical_crossentropy', metrics=['accuracy'] )"
      ],
      "execution_count": null,
      "outputs": []
    },
    {
      "cell_type": "markdown",
      "metadata": {
        "id": "Xc53v450EHvg"
      },
      "source": [
        "##Model Training "
      ]
    },
    {
      "cell_type": "code",
      "metadata": {
        "id": "pq6Bj-WrD0Qa",
        "outputId": "755ef600-4b84-4300-be52-c1649db358b2",
        "colab": {
          "base_uri": "https://localhost:8080/",
          "height": 1000
        }
      },
      "source": [
        "start_train = time.time()\n",
        "history = model.fit(X_train,\n",
        "                    y_train_enc,\n",
        "                    epochs=50,\n",
        "                    batch_size=1000,\n",
        "                    validation_split=0.2,\n",
        "                    verbose=1)\n",
        "end_train = time.time()"
      ],
      "execution_count": null,
      "outputs": [
        {
          "output_type": "stream",
          "text": [
            "Epoch 1/50\n",
            "48/48 [==============================] - 1s 11ms/step - loss: 2.6889 - accuracy: 0.4297 - val_loss: 2.0184 - val_accuracy: 0.6855\n",
            "Epoch 2/50\n",
            "48/48 [==============================] - 0s 7ms/step - loss: 1.8784 - accuracy: 0.6842 - val_loss: 1.4786 - val_accuracy: 0.7703\n",
            "Epoch 3/50\n",
            "48/48 [==============================] - 0s 7ms/step - loss: 1.4656 - accuracy: 0.7636 - val_loss: 1.1883 - val_accuracy: 0.8068\n",
            "Epoch 4/50\n",
            "48/48 [==============================] - 0s 7ms/step - loss: 1.2307 - accuracy: 0.7919 - val_loss: 1.0306 - val_accuracy: 0.8176\n",
            "Epoch 5/50\n",
            "48/48 [==============================] - 0s 7ms/step - loss: 1.0935 - accuracy: 0.8053 - val_loss: 0.9303 - val_accuracy: 0.8308\n",
            "Epoch 6/50\n",
            "48/48 [==============================] - 0s 7ms/step - loss: 1.0000 - accuracy: 0.8190 - val_loss: 0.8590 - val_accuracy: 0.8391\n",
            "Epoch 7/50\n",
            "48/48 [==============================] - 0s 7ms/step - loss: 0.9338 - accuracy: 0.8237 - val_loss: 0.8127 - val_accuracy: 0.8416\n",
            "Epoch 8/50\n",
            "48/48 [==============================] - 0s 7ms/step - loss: 0.8842 - accuracy: 0.8318 - val_loss: 0.7750 - val_accuracy: 0.8453\n",
            "Epoch 9/50\n",
            "48/48 [==============================] - 0s 7ms/step - loss: 0.8449 - accuracy: 0.8359 - val_loss: 0.7406 - val_accuracy: 0.8497\n",
            "Epoch 10/50\n",
            "48/48 [==============================] - 0s 7ms/step - loss: 0.8112 - accuracy: 0.8417 - val_loss: 0.7156 - val_accuracy: 0.8516\n",
            "Epoch 11/50\n",
            "48/48 [==============================] - 0s 10ms/step - loss: 0.7845 - accuracy: 0.8439 - val_loss: 0.6925 - val_accuracy: 0.8548\n",
            "Epoch 12/50\n",
            "48/48 [==============================] - 0s 7ms/step - loss: 0.7602 - accuracy: 0.8507 - val_loss: 0.6763 - val_accuracy: 0.8559\n",
            "Epoch 13/50\n",
            "48/48 [==============================] - 0s 7ms/step - loss: 0.7430 - accuracy: 0.8497 - val_loss: 0.6643 - val_accuracy: 0.8602\n",
            "Epoch 14/50\n",
            "48/48 [==============================] - 0s 7ms/step - loss: 0.7253 - accuracy: 0.8531 - val_loss: 0.6497 - val_accuracy: 0.8597\n",
            "Epoch 15/50\n",
            "48/48 [==============================] - 0s 7ms/step - loss: 0.7101 - accuracy: 0.8564 - val_loss: 0.6318 - val_accuracy: 0.8647\n",
            "Epoch 16/50\n",
            "48/48 [==============================] - 0s 7ms/step - loss: 0.6936 - accuracy: 0.8584 - val_loss: 0.6226 - val_accuracy: 0.8665\n",
            "Epoch 17/50\n",
            "48/48 [==============================] - 0s 7ms/step - loss: 0.6819 - accuracy: 0.8599 - val_loss: 0.6097 - val_accuracy: 0.8657\n",
            "Epoch 18/50\n",
            "48/48 [==============================] - 0s 7ms/step - loss: 0.6696 - accuracy: 0.8624 - val_loss: 0.6086 - val_accuracy: 0.8649\n",
            "Epoch 19/50\n",
            "48/48 [==============================] - 0s 7ms/step - loss: 0.6573 - accuracy: 0.8625 - val_loss: 0.5914 - val_accuracy: 0.8698\n",
            "Epoch 20/50\n",
            "48/48 [==============================] - 0s 7ms/step - loss: 0.6478 - accuracy: 0.8656 - val_loss: 0.5881 - val_accuracy: 0.8699\n",
            "Epoch 21/50\n",
            "48/48 [==============================] - 0s 7ms/step - loss: 0.6372 - accuracy: 0.8672 - val_loss: 0.5763 - val_accuracy: 0.8715\n",
            "Epoch 22/50\n",
            "48/48 [==============================] - 0s 7ms/step - loss: 0.6325 - accuracy: 0.8680 - val_loss: 0.5709 - val_accuracy: 0.8722\n",
            "Epoch 23/50\n",
            "48/48 [==============================] - 0s 7ms/step - loss: 0.6216 - accuracy: 0.8686 - val_loss: 0.5643 - val_accuracy: 0.8716\n",
            "Epoch 24/50\n",
            "48/48 [==============================] - 0s 7ms/step - loss: 0.6143 - accuracy: 0.8709 - val_loss: 0.5615 - val_accuracy: 0.8718\n",
            "Epoch 25/50\n",
            "48/48 [==============================] - 0s 7ms/step - loss: 0.6115 - accuracy: 0.8698 - val_loss: 0.5557 - val_accuracy: 0.8714\n",
            "Epoch 26/50\n",
            "48/48 [==============================] - 0s 7ms/step - loss: 0.6013 - accuracy: 0.8717 - val_loss: 0.5461 - val_accuracy: 0.8754\n",
            "Epoch 27/50\n",
            "48/48 [==============================] - 0s 7ms/step - loss: 0.5951 - accuracy: 0.8731 - val_loss: 0.5430 - val_accuracy: 0.8758\n",
            "Epoch 28/50\n",
            "48/48 [==============================] - 0s 7ms/step - loss: 0.5869 - accuracy: 0.8744 - val_loss: 0.5352 - val_accuracy: 0.8750\n",
            "Epoch 29/50\n",
            "48/48 [==============================] - 0s 7ms/step - loss: 0.5851 - accuracy: 0.8734 - val_loss: 0.5366 - val_accuracy: 0.8756\n",
            "Epoch 30/50\n",
            "48/48 [==============================] - 0s 7ms/step - loss: 0.5760 - accuracy: 0.8769 - val_loss: 0.5279 - val_accuracy: 0.8776\n",
            "Epoch 31/50\n",
            "48/48 [==============================] - 0s 7ms/step - loss: 0.5721 - accuracy: 0.8763 - val_loss: 0.5268 - val_accuracy: 0.8772\n",
            "Epoch 32/50\n",
            "48/48 [==============================] - 0s 8ms/step - loss: 0.5668 - accuracy: 0.8764 - val_loss: 0.5208 - val_accuracy: 0.8782\n",
            "Epoch 33/50\n",
            "48/48 [==============================] - 0s 7ms/step - loss: 0.5604 - accuracy: 0.8784 - val_loss: 0.5178 - val_accuracy: 0.8783\n",
            "Epoch 34/50\n",
            "48/48 [==============================] - 0s 7ms/step - loss: 0.5596 - accuracy: 0.8770 - val_loss: 0.5190 - val_accuracy: 0.8760\n",
            "Epoch 35/50\n",
            "48/48 [==============================] - 0s 7ms/step - loss: 0.5527 - accuracy: 0.8789 - val_loss: 0.5135 - val_accuracy: 0.8774\n",
            "Epoch 36/50\n",
            "48/48 [==============================] - 0s 7ms/step - loss: 0.5488 - accuracy: 0.8793 - val_loss: 0.5116 - val_accuracy: 0.8775\n",
            "Epoch 37/50\n",
            "48/48 [==============================] - 0s 7ms/step - loss: 0.5443 - accuracy: 0.8805 - val_loss: 0.5038 - val_accuracy: 0.8808\n",
            "Epoch 38/50\n",
            "48/48 [==============================] - 0s 7ms/step - loss: 0.5403 - accuracy: 0.8815 - val_loss: 0.5064 - val_accuracy: 0.8777\n",
            "Epoch 39/50\n",
            "48/48 [==============================] - 0s 7ms/step - loss: 0.5361 - accuracy: 0.8810 - val_loss: 0.4979 - val_accuracy: 0.8820\n",
            "Epoch 40/50\n",
            "48/48 [==============================] - 0s 7ms/step - loss: 0.5312 - accuracy: 0.8829 - val_loss: 0.4992 - val_accuracy: 0.8800\n",
            "Epoch 41/50\n",
            "48/48 [==============================] - 0s 7ms/step - loss: 0.5275 - accuracy: 0.8832 - val_loss: 0.4953 - val_accuracy: 0.8796\n",
            "Epoch 42/50\n",
            "48/48 [==============================] - 0s 7ms/step - loss: 0.5235 - accuracy: 0.8828 - val_loss: 0.4921 - val_accuracy: 0.8808\n",
            "Epoch 43/50\n",
            "48/48 [==============================] - 0s 7ms/step - loss: 0.5203 - accuracy: 0.8835 - val_loss: 0.4926 - val_accuracy: 0.8798\n",
            "Epoch 44/50\n",
            "48/48 [==============================] - 0s 7ms/step - loss: 0.5188 - accuracy: 0.8839 - val_loss: 0.4876 - val_accuracy: 0.8816\n",
            "Epoch 45/50\n",
            "48/48 [==============================] - 0s 7ms/step - loss: 0.5133 - accuracy: 0.8844 - val_loss: 0.4869 - val_accuracy: 0.8817\n",
            "Epoch 46/50\n",
            "48/48 [==============================] - 0s 7ms/step - loss: 0.5116 - accuracy: 0.8855 - val_loss: 0.4885 - val_accuracy: 0.8807\n",
            "Epoch 47/50\n",
            "48/48 [==============================] - 0s 7ms/step - loss: 0.5075 - accuracy: 0.8859 - val_loss: 0.4813 - val_accuracy: 0.8827\n",
            "Epoch 48/50\n",
            "48/48 [==============================] - 0s 7ms/step - loss: 0.5038 - accuracy: 0.8873 - val_loss: 0.4786 - val_accuracy: 0.8821\n",
            "Epoch 49/50\n",
            "48/48 [==============================] - 0s 7ms/step - loss: 0.5000 - accuracy: 0.8876 - val_loss: 0.4747 - val_accuracy: 0.8838\n",
            "Epoch 50/50\n",
            "48/48 [==============================] - 0s 7ms/step - loss: 0.4950 - accuracy: 0.8879 - val_loss: 0.4777 - val_accuracy: 0.8817\n"
          ],
          "name": "stdout"
        }
      ]
    },
    {
      "cell_type": "markdown",
      "metadata": {
        "id": "qbx2RIECEjz5"
      },
      "source": [
        "Plot the loss and accuracy history graphs"
      ]
    },
    {
      "cell_type": "code",
      "metadata": {
        "id": "Q-kyFEc_CxDn",
        "outputId": "edec4491-e132-4cd3-b194-b61371c46420",
        "colab": {
          "base_uri": "https://localhost:8080/",
          "height": 35
        }
      },
      "source": [
        "history_dict = history.history\n",
        "print(history_dict.keys())\n",
        "\n",
        "acc = history_dict['accuracy']\n",
        "val_acc = history_dict['val_accuracy']\n",
        "loss = history_dict['loss']\n",
        "val_loss = history_dict['val_loss']\n",
        "\n",
        "epochs = range(1, len(acc) + 1)"
      ],
      "execution_count": null,
      "outputs": [
        {
          "output_type": "stream",
          "text": [
            "dict_keys(['loss', 'accuracy', 'val_loss', 'val_accuracy'])\n"
          ],
          "name": "stdout"
        }
      ]
    },
    {
      "cell_type": "code",
      "metadata": {
        "id": "a8yXXIhJEszv",
        "outputId": "fa160c4f-df2a-40a9-9356-bec812923b8d",
        "colab": {
          "base_uri": "https://localhost:8080/",
          "height": 350
        }
      },
      "source": [
        "fix,ax = plt.subplots(1,2, figsize=(15,5))\n",
        "ax1 = ax[0] # to plot Training Loss\n",
        "ax2 = ax[1] # to plot Training Accuracy\n",
        "ax1.plot(epochs, loss, label='Training loss')\n",
        "ax1.plot(epochs, val_loss,  label='Validation loss')\n",
        "ax1.set_title('Training and validation loss')\n",
        "ax1.set_xlabel('Epochs')\n",
        "ax1.set_ylabel('Loss')\n",
        "ax1.legend()\n",
        "\n",
        "ax2.plot(epochs, acc, label='Training acc')\n",
        "ax2.plot(epochs, val_acc,  label='Validation acc')\n",
        "ax2.set_title('Training and validation accuracy')\n",
        "ax2.set_xlabel('Epochs')\n",
        "ax2.set_ylabel('Accuracy')\n",
        "ax2.legend()\n",
        "\n",
        "plt.show()"
      ],
      "execution_count": null,
      "outputs": [
        {
          "output_type": "display_data",
          "data": {
            "image/png": "[encoded data removed]",
            "text/plain": [
              "<Figure size 1080x360 with 2 Axes>"
            ]
          },
          "metadata": {
            "tags": [],
            "needs_background": "light"
          }
        }
      ]
    },
    {
      "cell_type": "code",
      "metadata": {
        "id": "K5ER1HoGE7lZ",
        "outputId": "84f0dbdd-5e42-4c9b-c628-3da64c841fc3",
        "colab": {
          "base_uri": "https://localhost:8080/",
          "height": 35
        }
      },
      "source": [
        "#Time taken to train\n",
        "print(\"Time taken to train the NN:\",end_train - start_train,\" seconds\")"
      ],
      "execution_count": null,
      "outputs": [
        {
          "output_type": "stream",
          "text": [
            "Time taken to train the NN: 18.979234218597412  seconds\n"
          ],
          "name": "stdout"
        }
      ]
    },
    {
      "cell_type": "markdown",
      "metadata": {
        "id": "vxY89a0BE663"
      },
      "source": [
        "## Model Evaluation "
      ]
    },
    {
      "cell_type": "markdown",
      "metadata": {
        "id": "fBbD3v6gFRM5"
      },
      "source": [
        "Print the final test/validation loss and accuracy"
      ]
    },
    {
      "cell_type": "code",
      "metadata": {
        "id": "zNZbNg94FRzJ",
        "outputId": "f51e50be-feda-45cd-ace9-0aa6a05517f8",
        "colab": {
          "base_uri": "https://localhost:8080/",
          "height": 72
        }
      },
      "source": [
        "results = model.evaluate(X_test, y_test_enc)\n",
        "\n",
        "print(\"Test Loss:\",results[0])\n",
        "print(\"Test Accuracy:\",results[1])"
      ],
      "execution_count": null,
      "outputs": [
        {
          "output_type": "stream",
          "text": [
            "313/313 [==============================] - 1s 4ms/step - loss: 0.4986 - accuracy: 0.8759\n",
            "Test Loss: 0.49857592582702637\n",
            "Test Accuracy: 0.8758999705314636\n"
          ],
          "name": "stdout"
        }
      ]
    },
    {
      "cell_type": "code",
      "metadata": {
        "id": "bkWD3uxaF03a",
        "outputId": "9b942981-5f3f-4217-831d-620930b38491",
        "colab": {
          "base_uri": "https://localhost:8080/",
          "height": 92
        }
      },
      "source": [
        "#Predictions\n",
        "y_pred = model.predict_classes(X_test)"
      ],
      "execution_count": null,
      "outputs": [
        {
          "output_type": "stream",
          "text": [
            "WARNING:tensorflow:From <ipython-input-17-105f502b23c1>:2: Sequential.predict_classes (from tensorflow.python.keras.engine.sequential) is deprecated and will be removed after 2021-01-01.\n",
            "Instructions for updating:\n",
            "Please use instead:* `np.argmax(model.predict(x), axis=-1)`,   if your model does multi-class classification   (e.g. if it uses a `softmax` last-layer activation).* `(model.predict(x) > 0.5).astype(\"int32\")`,   if your model does binary classification   (e.g. if it uses a `sigmoid` last-layer activation).\n"
          ],
          "name": "stdout"
        }
      ]
    },
    {
      "cell_type": "markdown",
      "metadata": {
        "id": "5mc06YIYF6Uo"
      },
      "source": [
        "Confusion Matrix"
      ]
    },
    {
      "cell_type": "code",
      "metadata": {
        "id": "Yu0qeS1eF7DY",
        "outputId": "940bd74f-a9e0-4d43-9e7a-f202bc4c574e",
        "colab": {
          "base_uri": "https://localhost:8080/",
          "height": 235
        }
      },
      "source": [
        "df = pd.DataFrame({'y_test':y_test,'y_pred':y_pred})\n",
        "df.head()\n",
        "confusion_matrix = pd.crosstab(df['y_test'], df['y_pred'], rownames=['Actual'], colnames=['Predicted'])\n",
        "print (confusion_matrix)"
      ],
      "execution_count": null,
      "outputs": [
        {
          "output_type": "stream",
          "text": [
            "Predicted    0    1    2    3    4    5    6    7    8    9\n",
            "Actual                                                     \n",
            "0          827    1    8   37    2    0  110    1   14    0\n",
            "1            4  957    1   29    7    0    0    0    2    0\n",
            "2           12    1  780   15  115    0   72    0    5    0\n",
            "3           18    5    4  901   31    0   32    1    7    1\n",
            "4            0    0   99   38  805    0   52    0    6    0\n",
            "5            1    0    0    0    0  952    0   29    2   16\n",
            "6          134    2   93   32   67    0  655    0   17    0\n",
            "7            0    0    0    0    0   19    0  960    0   21\n",
            "8            3    0    2    3    4    3    8    5  972    0\n",
            "9            0    0    0    0    0    8    1   41    0  950\n"
          ],
          "name": "stdout"
        }
      ]
    },
    {
      "cell_type": "markdown",
      "metadata": {
        "id": "5mWABB6OHdh6"
      },
      "source": [
        "Classification Report"
      ]
    },
    {
      "cell_type": "code",
      "metadata": {
        "id": "mgw9QBV-GDQY",
        "outputId": "73117db5-ebca-4cea-ccbf-270a60299562",
        "colab": {
          "base_uri": "https://localhost:8080/",
          "height": 326
        }
      },
      "source": [
        "print(classification_report(y_test,y_pred))"
      ],
      "execution_count": null,
      "outputs": [
        {
          "output_type": "stream",
          "text": [
            "              precision    recall  f1-score   support\n",
            "\n",
            "           0       0.83      0.83      0.83      1000\n",
            "           1       0.99      0.96      0.97      1000\n",
            "           2       0.79      0.78      0.79      1000\n",
            "           3       0.85      0.90      0.88      1000\n",
            "           4       0.78      0.81      0.79      1000\n",
            "           5       0.97      0.95      0.96      1000\n",
            "           6       0.70      0.66      0.68      1000\n",
            "           7       0.93      0.96      0.94      1000\n",
            "           8       0.95      0.97      0.96      1000\n",
            "           9       0.96      0.95      0.96      1000\n",
            "\n",
            "    accuracy                           0.88     10000\n",
            "   macro avg       0.88      0.88      0.88     10000\n",
            "weighted avg       0.88      0.88      0.88     10000\n",
            "\n"
          ],
          "name": "stdout"
        }
      ]
    },
    {
      "cell_type": "code",
      "metadata": {
        "id": "GJZgNjyvHgH7"
      },
      "source": [
        ""
      ],
      "execution_count": null,
      "outputs": []
    },
    {
      "cell_type": "code",
      "metadata": {
        "id": "-fdvU2izF_cT"
      },
      "source": [
        ""
      ],
      "execution_count": null,
      "outputs": []
    },
    {
      "cell_type": "code",
      "metadata": {
        "id": "61sXBZV-F3D_"
      },
      "source": [
        ""
      ],
      "execution_count": null,
      "outputs": []
    },
    {
      "cell_type": "code",
      "metadata": {
        "id": "nlH_qGNPFMPu"
      },
      "source": [
        ""
      ],
      "execution_count": null,
      "outputs": []
    }
  ]
}