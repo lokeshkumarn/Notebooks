{
  "nbformat": 4,
  "nbformat_minor": 0,
  "metadata": {
    "kernelspec": {
      "display_name": "Python 3",
      "language": "python",
      "name": "python3"
    },
    "language_info": {
      "codemirror_mode": {
        "name": "ipython",
        "version": 3
      },
      "file_extension": ".py",
      "mimetype": "text/x-python",
      "name": "python",
      "nbconvert_exporter": "python",
      "pygments_lexer": "ipython3",
      "version": "3.7.3"
    },
    "colab": {
      "name": "2D_Deep_Neural_Network_with_L2,L1_regularization.ipynb",
      "provenance": [],
      "collapsed_sections": [],
      "include_colab_link": true
    }
  },
  "cells": [
    {
      "cell_type": "markdown",
      "metadata": {
        "id": "view-in-github",
        "colab_type": "text"
      },
      "source": [
        "<a href=\"https://colab.research.google.com/github/lokeshkumarn/Notebooks/blob/master/2D_Deep_Neural_Network_with_L2%2CL1_regularization.ipynb\" target=\"_parent\"><img src=\"https://colab.research.google.com/assets/colab-badge.svg\" alt=\"Open In Colab\"/></a>"
      ]
    },
    {
      "cell_type": "markdown",
      "metadata": {
        "id": "n8dYmNGtJIhX"
      },
      "source": [
        "# Deep Neural Network with L2 /L1 Regularization using Keras"
      ]
    },
    {
      "cell_type": "code",
      "metadata": {
        "id": "klYn01MBJIhy"
      },
      "source": [
        "import tensorflow as tf\n",
        "\n",
        "from tensorflow.keras import models\n",
        "from tensorflow.keras import layers\n",
        "from tensorflow.keras import regularizers\n",
        "\n",
        "import random\n",
        "import numpy as np\n",
        "import matplotlib.pyplot as plt\n",
        "%matplotlib inline"
      ],
      "execution_count": null,
      "outputs": []
    },
    {
      "cell_type": "code",
      "metadata": {
        "id": "GerEvtK8JI2G"
      },
      "source": [
        "random.seed(42)         # Initialize the random number generator.\n",
        "np.random.seed(42)      # With the seed reset, the same set of numbers will appear every time. \n",
        "tf.random.set_seed(42)  # sets the graph-level random seed"
      ],
      "execution_count": null,
      "outputs": []
    },
    {
      "cell_type": "markdown",
      "metadata": {
        "id": "YCFzJxTTJI3B"
      },
      "source": [
        "## Dataset"
      ]
    },
    {
      "cell_type": "code",
      "metadata": {
        "id": "a3h_gCoSJI3H",
        "outputId": "9a6a15c9-a96c-4980-e701-7951ea21cbca",
        "colab": {
          "base_uri": "https://localhost:8080/",
          "height": 129
        }
      },
      "source": [
        "# Use the MNIST dataset  of Keras.\n",
        "\n",
        "mnist = tf.keras.datasets.mnist\n",
        "\n",
        "(Xtrain, Ytrain) , (Xtest, Ytest) = mnist.load_data()\n",
        "\n",
        "# size of the datsets\n",
        "\n",
        "print(Xtrain.shape)\n",
        "print(Xtest.shape)\n",
        "print(Ytrain.shape)\n",
        "print(Ytest.shape)"
      ],
      "execution_count": null,
      "outputs": [
        {
          "output_type": "stream",
          "text": [
            "Downloading data from https://storage.googleapis.com/tensorflow/tf-keras-datasets/mnist.npz\n",
            "11493376/11490434 [==============================] - 0s 0us/step\n",
            "(60000, 28, 28)\n",
            "(10000, 28, 28)\n",
            "(60000,)\n",
            "(10000,)\n"
          ],
          "name": "stdout"
        }
      ]
    },
    {
      "cell_type": "code",
      "metadata": {
        "id": "nN---0nEJI3n"
      },
      "source": [
        "# Normalize the data\n",
        "# 60000 input images are in the train set.\n",
        "# 10000 input images are in the test set.\n",
        "\n",
        "Xtrain = Xtrain.reshape((60000, 28*28))    # reshape the input set to size 28*28. \n",
        "Xtrain = Xtrain.astype('float32')/255      # normalize to grayscale; set datatype as float32\n",
        "\n",
        "Xtest = Xtest.reshape((10000, 28*28))      # reshape the input set to size 28*28. \n",
        "Xtest = Xtest.astype('float32')/255        # normalize to grayscale; set datatype as float32\n",
        "\n",
        "Ytrain = tf.keras.utils.to_categorical(Ytrain)\n",
        "Ytest = tf.keras.utils.to_categorical(Ytest)"
      ],
      "execution_count": null,
      "outputs": []
    },
    {
      "cell_type": "markdown",
      "metadata": {
        "id": "ptExbY70JI32"
      },
      "source": [
        "## DNN Model"
      ]
    },
    {
      "cell_type": "markdown",
      "metadata": {
        "id": "Vqr0TcIXJI36"
      },
      "source": [
        "Using Keras, create the DNN or Sequential Model"
      ]
    },
    {
      "cell_type": "code",
      "metadata": {
        "id": "j5m-aVNJJI39"
      },
      "source": [
        "# Create a model object\n",
        "\n",
        "dnnModel = models.Sequential()"
      ],
      "execution_count": null,
      "outputs": []
    },
    {
      "cell_type": "markdown",
      "metadata": {
        "id": "z6wmDJ5-JI4P"
      },
      "source": [
        "Add dense layers, specifying the number of units in each layer and the activation function used in the layer."
      ]
    },
    {
      "cell_type": "code",
      "metadata": {
        "id": "tf9SlkXfJI4R",
        "outputId": "2ac99dfe-3345-4392-d97b-09b9cab3eab8",
        "colab": {
          "base_uri": "https://localhost:8080/",
          "height": 316
        }
      },
      "source": [
        "# Layer 1 = input layer\n",
        "# specify the input size for in the first layer.\n",
        "\n",
        "dnnModel.add(layers.Dense(50, activation='relu', input_shape= (28*28,)))\n",
        "\n",
        "# Layer 2 = hidden layer  with Regularizers\n",
        "dnnModel.add(layers.Dense(60, activation='relu', kernel_regularizer=regularizers.l2(0.01),\n",
        "                activity_regularizer=regularizers.l2(0.01)) )\n",
        "\n",
        "# Layer 3 = hidden layer \n",
        "dnnModel.add(layers.Dense(30, activation='relu'))\n",
        "\n",
        "# Layer 4 = output layer\n",
        "dnnModel.add(layers.Dense(10, activation='softmax'))\n",
        "\n",
        "dnnModel.summary()\n",
        "\n"
      ],
      "execution_count": null,
      "outputs": [
        {
          "output_type": "stream",
          "text": [
            "Model: \"sequential\"\n",
            "_________________________________________________________________\n",
            "Layer (type)                 Output Shape              Param #   \n",
            "=================================================================\n",
            "dense (Dense)                (None, 50)                39250     \n",
            "_________________________________________________________________\n",
            "dense_1 (Dense)              (None, 60)                3060      \n",
            "_________________________________________________________________\n",
            "dense_2 (Dense)              (None, 30)                1830      \n",
            "_________________________________________________________________\n",
            "dense_3 (Dense)              (None, 10)                310       \n",
            "=================================================================\n",
            "Total params: 44,450\n",
            "Trainable params: 44,450\n",
            "Non-trainable params: 0\n",
            "_________________________________________________________________\n"
          ],
          "name": "stdout"
        }
      ]
    },
    {
      "cell_type": "markdown",
      "metadata": {
        "id": "ZOD7i1Z0JI4f"
      },
      "source": [
        "## Regularization and Optimizations of DNN"
      ]
    },
    {
      "cell_type": "code",
      "metadata": {
        "id": "2Md46vUgJI4h"
      },
      "source": [
        "# Configure  the model for training, by using appropriate optimizers and regularizations\n",
        "# Available optimizer: adam, rmsprop, adagrad, sgd\n",
        "# loss:  objective that the model will try to minimize. \n",
        "# Available loss: categorical_crossentropy, binary_crossentropy, mean_squared_error\n",
        "# metrics: List of metrics to be evaluated by the model during training and testing. \n",
        "        \n",
        "dnnModel.compile( optimizer = 'adam', loss = 'categorical_crossentropy', metrics=['accuracy'] )"
      ],
      "execution_count": null,
      "outputs": []
    },
    {
      "cell_type": "markdown",
      "metadata": {
        "id": "Rhb-30DCJI4q"
      },
      "source": [
        "## Train the Model"
      ]
    },
    {
      "cell_type": "code",
      "metadata": {
        "id": "S762lJU0JI4t",
        "outputId": "deae0081-31c5-4d7c-f4c3-509c949801cd",
        "colab": {
          "base_uri": "https://localhost:8080/",
          "height": 952
        }
      },
      "source": [
        "# train the model\n",
        "\n",
        "h = dnnModel.fit( Xtrain, Ytrain, epochs=25, validation_split=0.2, batch_size=64)"
      ],
      "execution_count": null,
      "outputs": [
        {
          "output_type": "stream",
          "text": [
            "Epoch 1/25\n",
            "750/750 [==============================] - 2s 2ms/step - loss: 0.6818 - accuracy: 0.8836 - val_loss: 0.2928 - val_accuracy: 0.9507\n",
            "Epoch 2/25\n",
            "750/750 [==============================] - 2s 2ms/step - loss: 0.2398 - accuracy: 0.9545 - val_loss: 0.2028 - val_accuracy: 0.9590\n",
            "Epoch 3/25\n",
            "750/750 [==============================] - 1s 2ms/step - loss: 0.1691 - accuracy: 0.9672 - val_loss: 0.1629 - val_accuracy: 0.9653\n",
            "Epoch 4/25\n",
            "750/750 [==============================] - 1s 2ms/step - loss: 0.1385 - accuracy: 0.9723 - val_loss: 0.1499 - val_accuracy: 0.9665\n",
            "Epoch 5/25\n",
            "750/750 [==============================] - 1s 2ms/step - loss: 0.1171 - accuracy: 0.9760 - val_loss: 0.1366 - val_accuracy: 0.9687\n",
            "Epoch 6/25\n",
            "750/750 [==============================] - 1s 2ms/step - loss: 0.1064 - accuracy: 0.9775 - val_loss: 0.1327 - val_accuracy: 0.9691\n",
            "Epoch 7/25\n",
            "750/750 [==============================] - 1s 2ms/step - loss: 0.0945 - accuracy: 0.9803 - val_loss: 0.1371 - val_accuracy: 0.9667\n",
            "Epoch 8/25\n",
            "750/750 [==============================] - 1s 2ms/step - loss: 0.0880 - accuracy: 0.9820 - val_loss: 0.1407 - val_accuracy: 0.9693\n",
            "Epoch 9/25\n",
            "750/750 [==============================] - 2s 2ms/step - loss: 0.0799 - accuracy: 0.9834 - val_loss: 0.1287 - val_accuracy: 0.9678\n",
            "Epoch 10/25\n",
            "750/750 [==============================] - 1s 2ms/step - loss: 0.0778 - accuracy: 0.9843 - val_loss: 0.1377 - val_accuracy: 0.9663\n",
            "Epoch 11/25\n",
            "750/750 [==============================] - 2s 2ms/step - loss: 0.0724 - accuracy: 0.9849 - val_loss: 0.1299 - val_accuracy: 0.9696\n",
            "Epoch 12/25\n",
            "750/750 [==============================] - 1s 2ms/step - loss: 0.0663 - accuracy: 0.9869 - val_loss: 0.1297 - val_accuracy: 0.9694\n",
            "Epoch 13/25\n",
            "750/750 [==============================] - 2s 2ms/step - loss: 0.0626 - accuracy: 0.9881 - val_loss: 0.1443 - val_accuracy: 0.9651\n",
            "Epoch 14/25\n",
            "750/750 [==============================] - 1s 2ms/step - loss: 0.0612 - accuracy: 0.9881 - val_loss: 0.1473 - val_accuracy: 0.9662\n",
            "Epoch 15/25\n",
            "750/750 [==============================] - 1s 2ms/step - loss: 0.0571 - accuracy: 0.9889 - val_loss: 0.1324 - val_accuracy: 0.9698\n",
            "Epoch 16/25\n",
            "750/750 [==============================] - 1s 2ms/step - loss: 0.0559 - accuracy: 0.9891 - val_loss: 0.1316 - val_accuracy: 0.9718\n",
            "Epoch 17/25\n",
            "750/750 [==============================] - 1s 2ms/step - loss: 0.0509 - accuracy: 0.9905 - val_loss: 0.1457 - val_accuracy: 0.9680\n",
            "Epoch 18/25\n",
            "750/750 [==============================] - 2s 2ms/step - loss: 0.0513 - accuracy: 0.9906 - val_loss: 0.1283 - val_accuracy: 0.9711\n",
            "Epoch 19/25\n",
            "750/750 [==============================] - 2s 2ms/step - loss: 0.0496 - accuracy: 0.9908 - val_loss: 0.1374 - val_accuracy: 0.9703\n",
            "Epoch 20/25\n",
            "750/750 [==============================] - 2s 2ms/step - loss: 0.0456 - accuracy: 0.9919 - val_loss: 0.1454 - val_accuracy: 0.9697\n",
            "Epoch 21/25\n",
            "750/750 [==============================] - 2s 2ms/step - loss: 0.0480 - accuracy: 0.9911 - val_loss: 0.1372 - val_accuracy: 0.9707\n",
            "Epoch 22/25\n",
            "750/750 [==============================] - 2s 2ms/step - loss: 0.0454 - accuracy: 0.9920 - val_loss: 0.1500 - val_accuracy: 0.9667\n",
            "Epoch 23/25\n",
            "750/750 [==============================] - 2s 2ms/step - loss: 0.0462 - accuracy: 0.9912 - val_loss: 0.1482 - val_accuracy: 0.9693\n",
            "Epoch 24/25\n",
            "750/750 [==============================] - 2s 2ms/step - loss: 0.0425 - accuracy: 0.9923 - val_loss: 0.1465 - val_accuracy: 0.9683\n",
            "Epoch 25/25\n",
            "750/750 [==============================] - 2s 2ms/step - loss: 0.0394 - accuracy: 0.9936 - val_loss: 0.1331 - val_accuracy: 0.9707\n"
          ],
          "name": "stdout"
        }
      ]
    },
    {
      "cell_type": "code",
      "metadata": {
        "id": "f1FFF97ZJI43",
        "outputId": "5cb0f30c-b31b-434c-c37e-46656b2445d1",
        "colab": {
          "base_uri": "https://localhost:8080/",
          "height": 54
        }
      },
      "source": [
        "print('Final training loss \\t', h.history['loss'][-1])\n",
        "print('Final training accuracy ', h.history['accuracy'][-1])"
      ],
      "execution_count": null,
      "outputs": [
        {
          "output_type": "stream",
          "text": [
            "Final training loss \t 0.03937375172972679\n",
            "Final training accuracy  0.9936249852180481\n"
          ],
          "name": "stdout"
        }
      ]
    },
    {
      "cell_type": "code",
      "metadata": {
        "id": "k97I9IvwJI4_",
        "outputId": "c1b99c29-b289-43a4-8775-798b6071b2df",
        "colab": {
          "base_uri": "https://localhost:8080/",
          "height": 295
        }
      },
      "source": [
        "# plot the training loss\n",
        "\n",
        "plt.plot(h.history['loss'], label='Train loss')\n",
        "plt.plot(h.history['val_loss'], label='Val loss') \n",
        "plt.xlabel('Epochs')\n",
        "plt.ylabel('Loss')\n",
        "plt.title('Plot of Training Loss')\n",
        "plt.legend()\n",
        "plt.show()"
      ],
      "execution_count": null,
      "outputs": [
        {
          "output_type": "display_data",
          "data": {
            "image/png": "[encoded data removed]",
            "text/plain": [
              "<Figure size 432x288 with 1 Axes>"
            ]
          },
          "metadata": {
            "tags": [],
            "needs_background": "light"
          }
        }
      ]
    },
    {
      "cell_type": "code",
      "metadata": {
        "id": "SlTtv1UAJI5G",
        "outputId": "249713c1-be4e-4289-8956-c1614d0ce555",
        "colab": {
          "base_uri": "https://localhost:8080/",
          "height": 295
        }
      },
      "source": [
        "# plot the training accuracy\n",
        "\n",
        "plt.plot(h.history['accuracy'], label='Train Acc')\n",
        "plt.plot(h.history['val_accuracy'], label='Val Acc')\n",
        "plt.xlabel('Epochs')\n",
        "plt.ylabel('Loss')\n",
        "plt.title('Plot of Training Accuracy')\n",
        "plt.legend()\n",
        "plt.show()"
      ],
      "execution_count": null,
      "outputs": [
        {
          "output_type": "display_data",
          "data": {
            "image/png": "[encoded data removed]",
            "text/plain": [
              "<Figure size 432x288 with 1 Axes>"
            ]
          },
          "metadata": {
            "tags": [],
            "needs_background": "light"
          }
        }
      ]
    },
    {
      "cell_type": "markdown",
      "metadata": {
        "id": "Uh5HF4EhJI5O"
      },
      "source": [
        "## Testing the Model"
      ]
    },
    {
      "cell_type": "code",
      "metadata": {
        "id": "L0AMJJETJI5P",
        "outputId": "a9a1d508-092b-4fb1-f65d-7d4138c9a885",
        "colab": {
          "base_uri": "https://localhost:8080/",
          "height": 36
        }
      },
      "source": [
        "# testing the model\n",
        "\n",
        "testLoss, testAccuracy = dnnModel.evaluate( Xtest, Ytest)"
      ],
      "execution_count": null,
      "outputs": [
        {
          "output_type": "stream",
          "text": [
            "313/313 [==============================] - 0s 955us/step - loss: 0.1307 - accuracy: 0.9737\n"
          ],
          "name": "stdout"
        }
      ]
    },
    {
      "cell_type": "code",
      "metadata": {
        "id": "_sjiu18uJI5j",
        "outputId": "2aada4a2-9998-432f-f23d-43e0ee10328b",
        "colab": {
          "base_uri": "https://localhost:8080/",
          "height": 54
        }
      },
      "source": [
        "print('Testing loss \\t', testLoss)\n",
        "print('Testing accuracy ', testAccuracy)"
      ],
      "execution_count": null,
      "outputs": [
        {
          "output_type": "stream",
          "text": [
            "Testing loss \t 0.13071686029434204\n",
            "Testing accuracy  0.9736999869346619\n"
          ],
          "name": "stdout"
        }
      ]
    },
    {
      "cell_type": "markdown",
      "metadata": {
        "id": "JQ5sfv_iJI5_"
      },
      "source": [
        "Modify the code to get a better testing accuracy.\n",
        "- Change the number of hidden units\n",
        "- Increase the number of hidden layers\n",
        "- Use a different optimizer"
      ]
    }
  ]
}